{
 "metadata": {
  "name": "",
  "signature": "sha256:6eb451d6fc24f4ebdeb44bf40daaa250f3adce4078cc05114da9acc10931e286"
 },
 "nbformat": 3,
 "nbformat_minor": 0,
 "worksheets": [
  {
   "cells": [
    {
     "cell_type": "code",
     "collapsed": false,
     "input": [
      "%load_ext autoreload\n",
      "%autoreload 2"
     ],
     "language": "python",
     "metadata": {},
     "outputs": [],
     "prompt_number": 1
    },
    {
     "cell_type": "heading",
     "level": 3,
     "metadata": {},
     "source": [
      "Import library"
     ]
    },
    {
     "cell_type": "code",
     "collapsed": true,
     "input": [
      "import pyesdoc"
     ],
     "language": "python",
     "metadata": {},
     "outputs": [],
     "prompt_number": 2
    },
    {
     "cell_type": "heading",
     "level": 3,
     "metadata": {},
     "source": [
      "Set library options"
     ]
    },
    {
     "cell_type": "code",
     "collapsed": false,
     "input": [
      "pyesdoc.list_options()"
     ],
     "language": "python",
     "metadata": {},
     "outputs": [
      {
       "metadata": {},
       "output_type": "pyout",
       "prompt_number": 3,
       "text": [
        "(('institute', 'UNKNOWN'),\n",
        " ('api_url', 'http://test.api.es-doc.org'),\n",
        " ('output_dir', ''))"
       ]
      }
     ],
     "prompt_number": 3
    },
    {
     "cell_type": "code",
     "collapsed": false,
     "input": [
      "pyesdoc.set_option('institute', 'IPSL')\n",
      "pyesdoc.set_option('api_url', 'http://localhost:5000')"
     ],
     "language": "python",
     "metadata": {},
     "outputs": [],
     "prompt_number": 4
    },
    {
     "cell_type": "heading",
     "level": 3,
     "metadata": {},
     "source": [
      "Create a document"
     ]
    },
    {
     "cell_type": "code",
     "collapsed": false,
     "input": [
      "doc = pyesdoc.create('cim.1.software.modelComponent', \"ESPS\", \"IPSL\", \"Testing\")\n",
      "print(doc.meta.id, doc.meta.version)"
     ],
     "language": "python",
     "metadata": {},
     "outputs": [
      {
       "output_type": "stream",
       "stream": "stdout",
       "text": [
        "(UUID('3f336cfa-afc0-44ea-814e-0a6cc0c0ccfa'), 0)\n"
       ]
      }
     ],
     "prompt_number": 5
    },
    {
     "cell_type": "heading",
     "level": 3,
     "metadata": {},
     "source": [
      "Set document attributes"
     ]
    },
    {
     "cell_type": "code",
     "collapsed": false,
     "input": [
      "doc.long_name = \"Hello SMiler\"\n",
      "doc.type = 'Earth System Model'\n",
      "doc.types = [doc.type]"
     ],
     "language": "python",
     "metadata": {},
     "outputs": [],
     "prompt_number": 6
    },
    {
     "cell_type": "heading",
     "level": 3,
     "metadata": {},
     "source": [
      "Validate document"
     ]
    },
    {
     "cell_type": "code",
     "collapsed": false,
     "input": [
      "if not pyesdoc.is_valid(doc):\n",
      "    print(\"Document is invalid:\")\n",
      "    for err in pyesdoc.validate(doc):\n",
      "        print(\"\\t{}\".format(err))"
     ],
     "language": "python",
     "metadata": {},
     "outputs": [
      {
       "output_type": "stream",
       "stream": "stdout",
       "text": [
        "Document is invalid:\n",
        "\tdoc.short_name --> is null\n"
       ]
      }
     ],
     "prompt_number": 7
    },
    {
     "cell_type": "heading",
     "level": 3,
     "metadata": {},
     "source": [
      "Correct document"
     ]
    },
    {
     "cell_type": "code",
     "collapsed": false,
     "input": [
      "doc.short_name = \"SMile\"\n",
      "if pyesdoc.is_valid(doc):\n",
      "    print(\"Document is valid\")"
     ],
     "language": "python",
     "metadata": {},
     "outputs": [
      {
       "output_type": "stream",
       "stream": "stdout",
       "text": [
        "Document is valid\n"
       ]
      }
     ],
     "prompt_number": 8
    },
    {
     "cell_type": "heading",
     "level": 3,
     "metadata": {},
     "source": [
      "Publish document"
     ]
    },
    {
     "cell_type": "code",
     "collapsed": false,
     "input": [
      "%time pyesdoc.publish(doc)"
     ],
     "language": "python",
     "metadata": {},
     "outputs": [
      {
       "output_type": "stream",
       "stream": "stdout",
       "text": [
        "CPU times: user 3 ms, sys: 1.35 ms, total: 4.35 ms\n",
        "Wall time: 1.19 s\n"
       ]
      }
     ],
     "prompt_number": 12
    },
    {
     "cell_type": "code",
     "collapsed": false,
     "input": [
      "import cProfile\n",
      "cProfile.run('pyesdoc.validate(doc)', sort='cumulative')\n"
     ],
     "language": "python",
     "metadata": {},
     "outputs": [
      {
       "output_type": "stream",
       "stream": "stdout",
       "text": [
        "         702 function calls (649 primitive calls) in 0.001 seconds\n",
        "\n",
        "   Ordered by: cumulative time\n",
        "\n",
        "   ncalls  tottime  percall  cumtime  percall filename:lineno(function)\n",
        "        1    0.000    0.000    0.001    0.001 <string>:1(<module>)\n",
        "        1    0.000    0.000    0.001    0.001 validator.py:63(validate)\n",
        "        1    0.000    0.000    0.000    0.000 graph.py:136(__init__)\n",
        "     51/1    0.000    0.000    0.000    0.000 graph.py:21(__init__)\n",
        "      2/1    0.000    0.000    0.000    0.000 graph.py:93(_set_children)\n",
        "       50    0.000    0.000    0.000    0.000 validator.py:47(_validate_node)\n",
        "       51    0.000    0.000    0.000    0.000 graph.py:81(_has_children)\n",
        "      100    0.000    0.000    0.000    0.000 graph.py:73(is_invalid)\n",
        "        1    0.000    0.000    0.000    0.000 graph.py:153(invalid_nodes)\n",
        "      100    0.000    0.000    0.000    0.000 graph.py:65(is_valid)\n",
        "       39    0.000    0.000    0.000    0.000 validator.py:35(_validate_item_node)\n",
        "      133    0.000    0.000    0.000    0.000 {isinstance}\n",
        "       49    0.000    0.000    0.000    0.000 {getattr}\n",
        "      4/2    0.000    0.000    0.000    0.000 __init__.py:206(get_type_info)\n",
        "        1    0.000    0.000    0.000    0.000 runtime.py:204(assert_doc)\n",
        "      100    0.000    0.000    0.000    0.000 {method 'append' of 'list' objects}\n",
        "       11    0.000    0.000    0.000    0.000 validator.py:25(_validate_list_node)\n",
        "        1    0.000    0.000    0.000    0.000 runtime.py:183(assert_attr)\n",
        "        2    0.000    0.000    0.000    0.000 runtime.py:76(assert_var)\n",
        "        1    0.000    0.000    0.000    0.000 {method 'format' of 'str' objects}\n",
        "        1    0.000    0.000    0.000    0.000 {hasattr}\n",
        "        1    0.000    0.000    0.000    0.000 {len}\n",
        "        1    0.000    0.000    0.000    0.000 {method 'disable' of '_lsprof.Profiler' objects}\n",
        "\n",
        "\n"
       ]
      }
     ],
     "prompt_number": 15
    },
    {
     "cell_type": "code",
     "collapsed": false,
     "input": [
      "pyesdoc.publish(doc)\n",
      "doc = pyesdoc.retrieve(doc.meta.id, 1)\n",
      "print(doc.meta.id, doc.meta.version)\n",
      "doc = pyesdoc.retrieve(doc.meta.id, 'latest')\n",
      "print(doc.meta.id, doc.meta.version)"
     ],
     "language": "python",
     "metadata": {},
     "outputs": [
      {
       "output_type": "stream",
       "stream": "stdout",
       "text": [
        "(UUID('9bf2dca4-5d81-40ea-b356-c40c348aef88'), 1)\n",
        "(UUID('9bf2dca4-5d81-40ea-b356-c40c348aef88'), 1)"
       ]
      },
      {
       "output_type": "stream",
       "stream": "stdout",
       "text": [
        "\n"
       ]
      }
     ],
     "prompt_number": 81
    },
    {
     "cell_type": "heading",
     "level": 3,
     "metadata": {},
     "source": [
      "Republish document"
     ]
    },
    {
     "cell_type": "code",
     "collapsed": false,
     "input": [
      "doc.short_name = \"Woolly\"\n",
      "pyesdoc.publish(doc)\n",
      "doc = pyesdoc.retrieve(doc.meta.id, 'latest')\n",
      "print(doc.meta.id, doc.meta.version)"
     ],
     "language": "python",
     "metadata": {},
     "outputs": [
      {
       "output_type": "stream",
       "stream": "stdout",
       "text": [
        "(UUID('9bf2dca4-5d81-40ea-b356-c40c348aef88'), 2)\n"
       ]
      }
     ],
     "prompt_number": 82
    },
    {
     "cell_type": "heading",
     "level": 3,
     "metadata": {},
     "source": [
      "Unpublish document"
     ]
    },
    {
     "cell_type": "code",
     "collapsed": false,
     "input": [
      "for version in [v + 1 for v in range(doc.meta.version)]:\n",
      "    pyesdoc.unpublish(doc.meta.id, version)\n",
      "print(pyesdoc.retrieve(doc.meta.id, 'latest'))"
     ],
     "language": "python",
     "metadata": {},
     "outputs": [
      {
       "output_type": "stream",
       "stream": "stdout",
       "text": [
        "None\n"
       ]
      }
     ],
     "prompt_number": 83
    },
    {
     "cell_type": "code",
     "collapsed": false,
     "input": [],
     "language": "python",
     "metadata": {},
     "outputs": [],
     "prompt_number": 29
    },
    {
     "cell_type": "code",
     "collapsed": false,
     "input": [],
     "language": "python",
     "metadata": {},
     "outputs": []
    }
   ],
   "metadata": {}
  }
 ]
}