{
 "cells": [
  {
   "cell_type": "markdown",
   "metadata": {},
   "source": [
    "## ES-DOC Model Documentation"
   ]
  },
  {
   "cell_type": "markdown",
   "metadata": {},
   "source": [
    "**MIP Era**: cmip6  \n",
    "**Institute**: ipsl  \n",
    "**Model**: IPSL-CM6A-LR  \n",
    "**Realm**: Ocean  \n",
    "**Realm Processes**: Timestepping Framework, Advection, Lateral Physics, Vertical Physics, Uplow Boundaries, Boundary Forcing.   \n",
    "\n",
    "**Notebook Help**: [Goto notebook help page](http://wordpress.es-doc.org/how-to-document-cmip6-models)  \n",
    "**Notebook Initialised**: 2016-09-01 13:13:38"
   ]
  },
  {
   "cell_type": "markdown",
   "metadata": {},
   "source": [
    "### Notebook setup (non-editable)"
   ]
  },
  {
   "cell_type": "code",
   "execution_count": null,
   "metadata": {
    "collapsed": false
   },
   "outputs": [],
   "source": [
    "import urllib2 \n",
    "import pyesdoc \n",
    "import IPython \n",
    "IPython.core.display.HTML(urllib2.urlopen('http://bit.ly/1Bf5Hft').read()) "
   ]
  },
  {
   "cell_type": "markdown",
   "metadata": {},
   "source": [
    "### Documentation setup"
   ]
  },
  {
   "cell_type": "code",
   "execution_count": null,
   "metadata": {
    "collapsed": true
   },
   "outputs": [],
   "source": [
    "# Initialise documentation - DO NOT EDIT !\n",
    "DOC = {\n",
    "   'MIP_ERA': \"cmip6\",\n",
    "   'INSTITUTE': \"ipsl\",\n",
    "   'MODEL': \"ipsl-cm6a-lr\",\n",
    "   'REALM': \"ocean\"\n",
    "}"
   ]
  },
  {
   "cell_type": "code",
   "execution_count": null,
   "metadata": {
    "collapsed": true
   },
   "outputs": [],
   "source": [
    "# Specify authors (comma delimited list).\n",
    "DOC['AUTHORS'] = \"\""
   ]
  },
  {
   "cell_type": "code",
   "execution_count": null,
   "metadata": {
    "collapsed": true
   },
   "outputs": [],
   "source": [
    "# Specify contributors (comma delimited list).\n",
    "DOC['CONTRIBUTORS'] = \"\""
   ]
  },
  {
   "cell_type": "markdown",
   "metadata": {},
   "source": [
    "### Ocean -->  Key Properties"
   ]
  },
  {
   "cell_type": "markdown",
   "metadata": {},
   "source": [
    "# Ocean -->  TimesteppingFramework \n",
    "*Characteristics of ocean time stepping framework* "
   ]
  },
  {
   "cell_type": "markdown",
   "metadata": {},
   "source": [
    "# Ocean -->  Advection \n",
    "*Properties of ocean advection* "
   ]
  },
  {
   "cell_type": "markdown",
   "metadata": {},
   "source": [
    "### Ocean -->  Advection --> Momemtum\n",
    "*Properties of lateral momemtum advection scheme in ocean*"
   ]
  },
  {
   "cell_type": "code",
   "execution_count": null,
   "metadata": {
    "collapsed": true
   },
   "outputs": [],
   "source": [
    "DOC['advection.momemtum.details.type'] = \"\" \n",
    "# Type of lateral momemtum advection scheme in ocean  \n",
    "# OPTIONAL ENUM - choose ONE from: \n",
    "#    \"Flux form\" \n",
    "#    \"Vector form\" "
   ]
  },
  {
   "cell_type": "code",
   "execution_count": null,
   "metadata": {
    "collapsed": true
   },
   "outputs": [],
   "source": [
    "DOC['advection.momemtum.details.scheme_name'] = \"\" \n",
    "# Name of ocean momemtum advection scheme  \n",
    "# OPTIONAL STRING "
   ]
  },
  {
   "cell_type": "code",
   "execution_count": null,
   "metadata": {
    "collapsed": true
   },
   "outputs": [],
   "source": [
    "DOC['advection.momemtum.details.ALE'] = \"\" \n",
    "# Using ALE for vertical advection ? (if vertical coordinates are sigma)  \n",
    "# MANDATORY BOOLEAN - choose ONE from: \n",
    "#    \"True\"\n",
    "#    \"False\""
   ]
  },
  {
   "cell_type": "markdown",
   "metadata": {},
   "source": [
    "### Ocean -->  Advection --> Lateral Tracers\n",
    "*Properties of lateral tracer advection scheme in ocean*"
   ]
  },
  {
   "cell_type": "code",
   "execution_count": null,
   "metadata": {
    "collapsed": true
   },
   "outputs": [],
   "source": [
    "DOC['advection.lateral_tracers.details.type'] = \"\" \n",
    "# Type of lateral tracer advection scheme in ocean  \n",
    "# OPTIONAL ENUM - choose ONE from: \n",
    "#    \"3rd order upwind\" \n",
    "#    \"Centred 2nd order\" \n",
    "#    \"Centred 4th order\" \n",
    "#    \"MUSCL\" \n",
    "#    \"Piecewise Parabolic method\" \n",
    "#    \"Prather 2nd moment (PSOM)\" \n",
    "#    \"QUICKEST\" \n",
    "#    \"Sweby\" \n",
    "#    \"Total Variance Dissipation (TVD)\" \n",
    "#    \"Other: [Please specify]\" "
   ]
  },
  {
   "cell_type": "code",
   "execution_count": null,
   "metadata": {
    "collapsed": true
   },
   "outputs": [],
   "source": [
    "DOC['advection.lateral_tracers.details.flux_limiter'] = \"\" \n",
    "# Monotonic flux limiter for vertical tracer advection scheme in ocean ?  \n",
    "# OPTIONAL BOOLEAN - choose ONE from: \n",
    "#    \"True\"\n",
    "#    \"False\""
   ]
  },
  {
   "cell_type": "code",
   "execution_count": null,
   "metadata": {
    "collapsed": true
   },
   "outputs": [],
   "source": [
    "DOC['advection.lateral_tracers.details.passive_tracers'] = [[]] \n",
    "# Passive tracers advected  \n",
    "# MANDATORY ENUM - choose MANY from: \n",
    "#    \"CFC 11\" \n",
    "#    \"CFC 12\" \n",
    "#    \"Ideal age\" \n",
    "#    \"SF6\" \n",
    "#    \"Other: [Please specify]\" "
   ]
  },
  {
   "cell_type": "code",
   "execution_count": null,
   "metadata": {
    "collapsed": true
   },
   "outputs": [],
   "source": [
    "DOC['advection.lateral_tracers.details.passive_tracers_advection'] = \"\" \n",
    "# Is advection of passive tracers different than active ? if so, describe  \n",
    "# MANDATORY STRING "
   ]
  },
  {
   "cell_type": "markdown",
   "metadata": {},
   "source": [
    "### Ocean -->  Advection --> Vertical Tracers\n",
    "*Properties of vertical momemtum advection scheme in ocean*"
   ]
  },
  {
   "cell_type": "code",
   "execution_count": null,
   "metadata": {
    "collapsed": true
   },
   "outputs": [],
   "source": [
    "DOC['advection.vertical_tracers.details.type'] = \"\" \n",
    "# Type of vertical tracer advection scheme in ocean  \n",
    "# OPTIONAL ENUM - choose ONE from: \n",
    "#    \"3rd order upwind\" \n",
    "#    \"Centred 2nd order\" \n",
    "#    \"Centred 4th order\" \n",
    "#    \"MUSCL\" \n",
    "#    \"Piecewise Parabolic method\" \n",
    "#    \"Prather 2nd moment (PSOM)\" \n",
    "#    \"QUICKEST\" \n",
    "#    \"Sweby\" \n",
    "#    \"Total Variance Dissipation (TVD)\" \n",
    "#    \"Other: [Please specify]\" "
   ]
  },
  {
   "cell_type": "code",
   "execution_count": null,
   "metadata": {
    "collapsed": true
   },
   "outputs": [],
   "source": [
    "DOC['advection.vertical_tracers.details.flux_limiter'] = \"\" \n",
    "# Monotonic flux limiter for vertical tracer advection scheme in ocean ?  \n",
    "# OPTIONAL BOOLEAN - choose ONE from: \n",
    "#    \"True\"\n",
    "#    \"False\""
   ]
  },
  {
   "cell_type": "markdown",
   "metadata": {},
   "source": [
    "# Ocean -->  LateralPhysics \n",
    "*Characteristics of ocean lateral physics* "
   ]
  },
  {
   "cell_type": "markdown",
   "metadata": {},
   "source": [
    "### Ocean -->  Lateral Physics --> Momentum\n",
    "*Properties of lateral physics for momentum in ocean*"
   ]
  },
  {
   "cell_type": "code",
   "execution_count": null,
   "metadata": {
    "collapsed": true
   },
   "outputs": [],
   "source": [
    "DOC['lateral_physics.momentum.operator.direction'] = \"\" \n",
    "# Direction of lateral physics momemtum scheme in the ocean  \n",
    "# OPTIONAL ENUM - choose ONE from: \n",
    "#    \"Geopotential\" \n",
    "#    \"Horizontal\" \n",
    "#    \"Iso-level\" \n",
    "#    \"Isoneutral\" \n",
    "#    \"Isopycnal\" \n",
    "#    \"Other: [Please specify]\" "
   ]
  },
  {
   "cell_type": "code",
   "execution_count": null,
   "metadata": {
    "collapsed": true
   },
   "outputs": [],
   "source": [
    "DOC['lateral_physics.momentum.operator.order'] = \"\" \n",
    "# Order of lateral physics momemtum scheme in the ocean  \n",
    "# OPTIONAL ENUM - choose ONE from: \n",
    "#    \"Bi-harmonic\" \n",
    "#    \"Harmonic\" \n",
    "#    \"Other: [Please specify]\" "
   ]
  },
  {
   "cell_type": "code",
   "execution_count": null,
   "metadata": {
    "collapsed": true
   },
   "outputs": [],
   "source": [
    "DOC['lateral_physics.momentum.operator.discretisation'] = \"\" \n",
    "# Discretisation of lateral physics momemtum scheme in the ocean  \n",
    "# OPTIONAL ENUM - choose ONE from: \n",
    "#    \"Flux limiter\" \n",
    "#    \"Higher order\" \n",
    "#    \"Second order\" \n",
    "#    \"Other: [Please specify]\" "
   ]
  },
  {
   "cell_type": "code",
   "execution_count": null,
   "metadata": {
    "collapsed": true
   },
   "outputs": [],
   "source": [
    "DOC['lateral_physics.momentum.eddy_viscosity_coeff.type'] = \"\" \n",
    "# Lateral physics momemtum eddy viscosity coeff type in the ocean  \n",
    "# OPTIONAL ENUM - choose ONE from: \n",
    "#    \"Constant\" \n",
    "#    \"Space varying\" \n",
    "#    \"Time + space varying (Smagorinsky)\" \n",
    "#    \"Other: [Please specify]\" "
   ]
  },
  {
   "cell_type": "code",
   "execution_count": null,
   "metadata": {
    "collapsed": true
   },
   "outputs": [],
   "source": [
    "DOC['lateral_physics.momentum.eddy_viscosity_coeff.constant_coefficient'] = \"\" \n",
    "# If constant, value of eddy viscosity coeff in lateral physics momemtum scheme (in m2/s)  \n",
    "# MANDATORY INTEGER "
   ]
  },
  {
   "cell_type": "code",
   "execution_count": null,
   "metadata": {
    "collapsed": true
   },
   "outputs": [],
   "source": [
    "DOC['lateral_physics.momentum.eddy_viscosity_coeff.variable_coefficient'] = \"\" \n",
    "# If space-varying, describe variations of eddy viscosity coeff in lateral physics momemtum scheme  \n",
    "# MANDATORY STRING "
   ]
  },
  {
   "cell_type": "code",
   "execution_count": null,
   "metadata": {
    "collapsed": true
   },
   "outputs": [],
   "source": [
    "DOC['lateral_physics.momentum.eddy_viscosity_coeff.coeff_background'] = \"\" \n",
    "# Background value of eddy viscosity coeff in lateral physics momemtum scheme (in m2/s)  \n",
    "# OPTIONAL INTEGER "
   ]
  },
  {
   "cell_type": "code",
   "execution_count": null,
   "metadata": {
    "collapsed": true
   },
   "outputs": [],
   "source": [
    "DOC['lateral_physics.momentum.eddy_viscosity_coeff.coeff_backscatter'] = \"\" \n",
    "# Is there backscatter in eddy viscosity coeff in lateral physics momemtum scheme ?  \n",
    "# OPTIONAL BOOLEAN - choose ONE from: \n",
    "#    \"True\"\n",
    "#    \"False\""
   ]
  },
  {
   "cell_type": "markdown",
   "metadata": {},
   "source": [
    "### Ocean -->  Lateral Physics --> Tracers\n",
    "*Properties of lateral physics for tracers in ocean*"
   ]
  },
  {
   "cell_type": "code",
   "execution_count": null,
   "metadata": {
    "collapsed": true
   },
   "outputs": [],
   "source": [
    "DOC['lateral_physics.tracers.details.mesoscale_closure'] = \"\" \n",
    "# Is there a mesoscale closure in the lateral physics tracers scheme ?  \n",
    "# OPTIONAL BOOLEAN - choose ONE from: \n",
    "#    \"True\"\n",
    "#    \"False\""
   ]
  },
  {
   "cell_type": "code",
   "execution_count": null,
   "metadata": {
    "collapsed": true
   },
   "outputs": [],
   "source": [
    "DOC['lateral_physics.tracers.details.submesoscale_mixing'] = \"\" \n",
    "# Is there a submesoscale mixing parameterisation (i.e Fox-Kemper) in the lateral physics tracers scheme ?  \n",
    "# OPTIONAL BOOLEAN - choose ONE from: \n",
    "#    \"True\"\n",
    "#    \"False\""
   ]
  },
  {
   "cell_type": "code",
   "execution_count": null,
   "metadata": {
    "collapsed": true
   },
   "outputs": [],
   "source": [
    "DOC['lateral_physics.tracers.operator.direction'] = \"\" \n",
    "# Direction of lateral physics tracers scheme in the ocean  \n",
    "# OPTIONAL ENUM - choose ONE from: \n",
    "#    \"Geopotential\" \n",
    "#    \"Horizontal\" \n",
    "#    \"Iso-level\" \n",
    "#    \"Isoneutral\" \n",
    "#    \"Isopycnal\" \n",
    "#    \"Other: [Please specify]\" "
   ]
  },
  {
   "cell_type": "code",
   "execution_count": null,
   "metadata": {
    "collapsed": true
   },
   "outputs": [],
   "source": [
    "DOC['lateral_physics.tracers.operator.order'] = \"\" \n",
    "# Order of lateral physics tracers scheme in the ocean  \n",
    "# OPTIONAL ENUM - choose ONE from: \n",
    "#    \"Bi-harmonic\" \n",
    "#    \"Harmonic\" \n",
    "#    \"Other: [Please specify]\" "
   ]
  },
  {
   "cell_type": "code",
   "execution_count": null,
   "metadata": {
    "collapsed": true
   },
   "outputs": [],
   "source": [
    "DOC['lateral_physics.tracers.operator.discretisation'] = \"\" \n",
    "# Discretisation of lateral physics tracers scheme in the ocean  \n",
    "# OPTIONAL ENUM - choose ONE from: \n",
    "#    \"Flux limiter\" \n",
    "#    \"Higher order\" \n",
    "#    \"Second order\" \n",
    "#    \"Other: [Please specify]\" "
   ]
  },
  {
   "cell_type": "code",
   "execution_count": null,
   "metadata": {
    "collapsed": true
   },
   "outputs": [],
   "source": [
    "DOC['lateral_physics.tracers.eddy_viscosity_coeff.type'] = \"\" \n",
    "# Lateral physics tracers eddy viscosity coeff type in the ocean  \n",
    "# OPTIONAL ENUM - choose ONE from: \n",
    "#    \"Constant\" \n",
    "#    \"Space varying\" \n",
    "#    \"Time + space varying (Smagorinsky)\" \n",
    "#    \"Other: [Please specify]\" "
   ]
  },
  {
   "cell_type": "code",
   "execution_count": null,
   "metadata": {
    "collapsed": true
   },
   "outputs": [],
   "source": [
    "DOC['lateral_physics.tracers.eddy_viscosity_coeff.constant_coefficient'] = \"\" \n",
    "# If constant, value of eddy viscosity coeff in lateral physics tracers scheme (in m2/s)  \n",
    "# MANDATORY INTEGER "
   ]
  },
  {
   "cell_type": "code",
   "execution_count": null,
   "metadata": {
    "collapsed": true
   },
   "outputs": [],
   "source": [
    "DOC['lateral_physics.tracers.eddy_viscosity_coeff.variable_coefficient'] = \"\" \n",
    "# If space-varying, describe variations of eddy viscosity coeff in lateral physics tracers scheme  \n",
    "# MANDATORY STRING "
   ]
  },
  {
   "cell_type": "code",
   "execution_count": null,
   "metadata": {
    "collapsed": true
   },
   "outputs": [],
   "source": [
    "DOC['lateral_physics.tracers.eddy_viscosity_coeff.coeff_background'] = \"\" \n",
    "# Background value of eddy viscosity coeff in lateral physics tracers scheme (in m2/s)  \n",
    "# OPTIONAL INTEGER "
   ]
  },
  {
   "cell_type": "code",
   "execution_count": null,
   "metadata": {
    "collapsed": true
   },
   "outputs": [],
   "source": [
    "DOC['lateral_physics.tracers.eddy_viscosity_coeff.coeff_backscatter'] = \"\" \n",
    "# Is there backscatter in eddy viscosity coeff in lateral physics tracers scheme ?  \n",
    "# OPTIONAL BOOLEAN - choose ONE from: \n",
    "#    \"True\"\n",
    "#    \"False\""
   ]
  },
  {
   "cell_type": "code",
   "execution_count": null,
   "metadata": {
    "collapsed": true
   },
   "outputs": [],
   "source": [
    "DOC['lateral_physics.tracers.eddy_induced_velocity.type'] = \"\" \n",
    "# Type of EIV in lateral physics tracers in the ocean  \n",
    "# OPTIONAL ENUM - choose ONE from: \n",
    "#    \"GM\" \n",
    "#    \"Other: [Please specify]\" "
   ]
  },
  {
   "cell_type": "code",
   "execution_count": null,
   "metadata": {
    "collapsed": true
   },
   "outputs": [],
   "source": [
    "DOC['lateral_physics.tracers.eddy_induced_velocity.constant_val'] = \"\" \n",
    "# If EIV scheme for tracers is constant, specify coefficient value (M2/s)  \n",
    "# MANDATORY INTEGER "
   ]
  },
  {
   "cell_type": "code",
   "execution_count": null,
   "metadata": {
    "collapsed": true
   },
   "outputs": [],
   "source": [
    "DOC['lateral_physics.tracers.eddy_induced_velocity.flux_type'] = \"\" \n",
    "# Type of EIV flux (advective or skew)  \n",
    "# OPTIONAL STRING "
   ]
  },
  {
   "cell_type": "code",
   "execution_count": null,
   "metadata": {
    "collapsed": true
   },
   "outputs": [],
   "source": [
    "DOC['lateral_physics.tracers.eddy_induced_velocity.added_diffusivity'] = \"\" \n",
    "# Type of EIV added diffusivity (constant, flow dependent or none)  \n",
    "# OPTIONAL STRING "
   ]
  },
  {
   "cell_type": "markdown",
   "metadata": {},
   "source": [
    "# Ocean -->  VerticalPhysics \n",
    "*Characteristics of ocean vertical physics* "
   ]
  },
  {
   "cell_type": "markdown",
   "metadata": {},
   "source": [
    "### Ocean -->  Vertical Physics --> Boundary Layer Mixing\n",
    "*Properties of boundary layer mixing in the ocean (aka mixed layer)*"
   ]
  },
  {
   "cell_type": "code",
   "execution_count": null,
   "metadata": {
    "collapsed": true
   },
   "outputs": [],
   "source": [
    "DOC['vertical_physics.boundary_layer_mixing.details.langmuir_cells_mixing'] = \"\" \n",
    "# Is there Langmuir cells mixing in upper ocean ?  \n",
    "# OPTIONAL BOOLEAN - choose ONE from: \n",
    "#    \"True\"\n",
    "#    \"False\""
   ]
  },
  {
   "cell_type": "code",
   "execution_count": null,
   "metadata": {
    "collapsed": true
   },
   "outputs": [],
   "source": [
    "DOC['vertical_physics.boundary_layer_mixing.tracers.type'] = \"\" \n",
    "# Type of boundary layer mixing for tracers in ocean  \n",
    "# OPTIONAL ENUM - choose ONE from: \n",
    "#    \"Constant value\" \n",
    "#    \"Imbeded as isopycnic vertical coordinate\" \n",
    "#    \"Richardson number dependent - KT\" \n",
    "#    \"Richardson number dependent - PP\" \n",
    "#    \"Turbulent closure - Bulk Mixed Layer\" \n",
    "#    \"Turbulent closure - KPP\" \n",
    "#    \"Turbulent closure - Mellor-Yamada\" \n",
    "#    \"Turbulent closure - TKE\" \n",
    "#    \"Other: [Please specify]\" "
   ]
  },
  {
   "cell_type": "code",
   "execution_count": null,
   "metadata": {
    "collapsed": true
   },
   "outputs": [],
   "source": [
    "DOC['vertical_physics.boundary_layer_mixing.tracers.closure_order'] = \"\" \n",
    "# If turbulent BL mixing of tracers, specific order of closure (0, 1, 2.5, 3)  \n",
    "# MANDATORY FLOAT "
   ]
  },
  {
   "cell_type": "code",
   "execution_count": null,
   "metadata": {
    "collapsed": true
   },
   "outputs": [],
   "source": [
    "DOC['vertical_physics.boundary_layer_mixing.tracers.constant'] = \"\" \n",
    "# If constant BL mixing of tracers, specific coefficient (m2/s)  \n",
    "# MANDATORY INTEGER "
   ]
  },
  {
   "cell_type": "code",
   "execution_count": null,
   "metadata": {
    "collapsed": true
   },
   "outputs": [],
   "source": [
    "DOC['vertical_physics.boundary_layer_mixing.tracers.background'] = \"\" \n",
    "# Background BL mixing of tracers coefficient, (schema and value in m2/s - may by none)  \n",
    "# OPTIONAL STRING "
   ]
  },
  {
   "cell_type": "code",
   "execution_count": null,
   "metadata": {
    "collapsed": true
   },
   "outputs": [],
   "source": [
    "DOC['vertical_physics.boundary_layer_mixing.momentum.type'] = \"\" \n",
    "# Type of boundary layer mixing for momentum in ocean  \n",
    "# OPTIONAL ENUM - choose ONE from: \n",
    "#    \"Constant value\" \n",
    "#    \"Imbeded as isopycnic vertical coordinate\" \n",
    "#    \"Richardson number dependent - KT\" \n",
    "#    \"Richardson number dependent - PP\" \n",
    "#    \"Turbulent closure - Bulk Mixed Layer\" \n",
    "#    \"Turbulent closure - KPP\" \n",
    "#    \"Turbulent closure - Mellor-Yamada\" \n",
    "#    \"Turbulent closure - TKE\" \n",
    "#    \"Other: [Please specify]\" "
   ]
  },
  {
   "cell_type": "code",
   "execution_count": null,
   "metadata": {
    "collapsed": true
   },
   "outputs": [],
   "source": [
    "DOC['vertical_physics.boundary_layer_mixing.momentum.closure_order'] = \"\" \n",
    "# If turbulent BL mixing of momentum, specific order of closure (0, 1, 2.5, 3)  \n",
    "# MANDATORY FLOAT "
   ]
  },
  {
   "cell_type": "code",
   "execution_count": null,
   "metadata": {
    "collapsed": true
   },
   "outputs": [],
   "source": [
    "DOC['vertical_physics.boundary_layer_mixing.momentum.constant'] = \"\" \n",
    "# If constant BL mixing of momentum, specific coefficient (m2/s)  \n",
    "# MANDATORY INTEGER "
   ]
  },
  {
   "cell_type": "code",
   "execution_count": null,
   "metadata": {
    "collapsed": true
   },
   "outputs": [],
   "source": [
    "DOC['vertical_physics.boundary_layer_mixing.momentum.background'] = \"\" \n",
    "# Background BL mixing of momentum coefficient, (schema and value in m2/s - may by none)  \n",
    "# OPTIONAL STRING "
   ]
  },
  {
   "cell_type": "markdown",
   "metadata": {},
   "source": [
    "### Ocean -->  Vertical Physics --> Interior Mixing\n",
    "*Properties of interior vertical mixing in the ocean*"
   ]
  },
  {
   "cell_type": "code",
   "execution_count": null,
   "metadata": {
    "collapsed": true
   },
   "outputs": [],
   "source": [
    "DOC['vertical_physics.interior_mixing.details.convection_type'] = \"\" \n",
    "# Type of vertical convection in ocean  \n",
    "# OPTIONAL ENUM - choose ONE from: \n",
    "#    \"Enhanced vertical diffusion\" \n",
    "#    \"Included in turbulence closure\" \n",
    "#    \"Non-penetrative convective adjustment\" \n",
    "#    \"Other: [Please specify]\" "
   ]
  },
  {
   "cell_type": "code",
   "execution_count": null,
   "metadata": {
    "collapsed": true
   },
   "outputs": [],
   "source": [
    "DOC['vertical_physics.interior_mixing.details.tide_induced_mixing'] = \"\" \n",
    "# Describe how tide induced mixing is modelled (barotropic, baroclinic, none)  \n",
    "# OPTIONAL STRING "
   ]
  },
  {
   "cell_type": "code",
   "execution_count": null,
   "metadata": {
    "collapsed": true
   },
   "outputs": [],
   "source": [
    "DOC['vertical_physics.interior_mixing.details.double_diffusion'] = \"\" \n",
    "# Is there double diffusion  \n",
    "# OPTIONAL BOOLEAN - choose ONE from: \n",
    "#    \"True\"\n",
    "#    \"False\""
   ]
  },
  {
   "cell_type": "code",
   "execution_count": null,
   "metadata": {
    "collapsed": true
   },
   "outputs": [],
   "source": [
    "DOC['vertical_physics.interior_mixing.details.shear_mixing'] = \"\" \n",
    "# Is there interior shear mixing  \n",
    "# OPTIONAL BOOLEAN - choose ONE from: \n",
    "#    \"True\"\n",
    "#    \"False\""
   ]
  },
  {
   "cell_type": "code",
   "execution_count": null,
   "metadata": {
    "collapsed": true
   },
   "outputs": [],
   "source": [
    "DOC['vertical_physics.interior_mixing.tracers.type'] = \"\" \n",
    "# Type of interior mixing for tracers in ocean  \n",
    "# OPTIONAL ENUM - choose ONE from: \n",
    "#    \"Constant value\" \n",
    "#    \"Imbeded as isopycnic vertical coordinate\" \n",
    "#    \"Richardson number dependent - KT\" \n",
    "#    \"Richardson number dependent - PP\" \n",
    "#    \"Turbulent closure - Mellor-Yamada\" \n",
    "#    \"Turbulent closure / TKE\" \n",
    "#    \"Other: [Please specify]\" "
   ]
  },
  {
   "cell_type": "code",
   "execution_count": null,
   "metadata": {
    "collapsed": true
   },
   "outputs": [],
   "source": [
    "DOC['vertical_physics.interior_mixing.tracers.constant'] = \"\" \n",
    "# If constant interior mixing of tracers, specific coefficient (m2/s)  \n",
    "# MANDATORY INTEGER "
   ]
  },
  {
   "cell_type": "code",
   "execution_count": null,
   "metadata": {
    "collapsed": true
   },
   "outputs": [],
   "source": [
    "DOC['vertical_physics.interior_mixing.tracers.profile'] = \"\" \n",
    "# Is the background interior mixing using a vertical profile for tracers (i.e is NOT constant) ?  \n",
    "# OPTIONAL STRING "
   ]
  },
  {
   "cell_type": "code",
   "execution_count": null,
   "metadata": {
    "collapsed": true
   },
   "outputs": [],
   "source": [
    "DOC['vertical_physics.interior_mixing.tracers.background'] = \"\" \n",
    "# Background interior mixing of tracers coefficient, (schema and value in m2/s - may by none)  \n",
    "# OPTIONAL STRING "
   ]
  },
  {
   "cell_type": "code",
   "execution_count": null,
   "metadata": {
    "collapsed": true
   },
   "outputs": [],
   "source": [
    "DOC['vertical_physics.interior_mixing.momentum.type'] = \"\" \n",
    "# Type of interior mixing for momentum in ocean  \n",
    "# OPTIONAL ENUM - choose ONE from: \n",
    "#    \"Constant value\" \n",
    "#    \"Imbeded as isopycnic vertical coordinate\" \n",
    "#    \"Richardson number dependent - KT\" \n",
    "#    \"Richardson number dependent - PP\" \n",
    "#    \"Turbulent closure - Mellor-Yamada\" \n",
    "#    \"Turbulent closure / TKE\" \n",
    "#    \"Other: [Please specify]\" "
   ]
  },
  {
   "cell_type": "code",
   "execution_count": null,
   "metadata": {
    "collapsed": true
   },
   "outputs": [],
   "source": [
    "DOC['vertical_physics.interior_mixing.momentum.constant'] = \"\" \n",
    "# If constant interior mixing of momentum, specific coefficient (m2/s)  \n",
    "# MANDATORY INTEGER "
   ]
  },
  {
   "cell_type": "code",
   "execution_count": null,
   "metadata": {
    "collapsed": true
   },
   "outputs": [],
   "source": [
    "DOC['vertical_physics.interior_mixing.momentum.profile'] = \"\" \n",
    "# Is the background interior mixing using a vertical profile for momentum (i.e is NOT constant) ?  \n",
    "# OPTIONAL STRING "
   ]
  },
  {
   "cell_type": "code",
   "execution_count": null,
   "metadata": {
    "collapsed": true
   },
   "outputs": [],
   "source": [
    "DOC['vertical_physics.interior_mixing.momentum.background'] = \"\" \n",
    "# Background interior mixing of momentum coefficient, (schema and value in m2/s - may by none)  \n",
    "# OPTIONAL STRING "
   ]
  },
  {
   "cell_type": "markdown",
   "metadata": {},
   "source": [
    "# Ocean -->  UplowBoundaries \n",
    "*Properties of ocean upper and lower boundaries* "
   ]
  },
  {
   "cell_type": "markdown",
   "metadata": {},
   "source": [
    "# Ocean -->  BoundaryForcing \n",
    "*Properties of boundary forcing within the ocean component* "
   ]
  },
  {
   "cell_type": "markdown",
   "metadata": {},
   "source": [
    "### Ocean -->  Boundary Forcing --> Momentum\n",
    "*Key properties of momentum boundary forcing in the ocean*"
   ]
  },
  {
   "cell_type": "code",
   "execution_count": null,
   "metadata": {
    "collapsed": true
   },
   "outputs": [],
   "source": [
    "DOC['boundary_forcing.momentum.bottom_friction.type'] = \"\" \n",
    "# Type of momentum bottom friction in ocean  \n",
    "# OPTIONAL ENUM - choose ONE from: \n",
    "#    \"Constant drag coefficient\" \n",
    "#    \"Linear\" \n",
    "#    \"Non-linear\" \n",
    "#    \"Non-linear (drag function of speed of tides)\" \n",
    "#    \"None\" \n",
    "#    \"Other: [Please specify]\" "
   ]
  },
  {
   "cell_type": "code",
   "execution_count": null,
   "metadata": {
    "collapsed": true
   },
   "outputs": [],
   "source": [
    "DOC['boundary_forcing.momentum.lateral_friction.type'] = \"\" \n",
    "# Type of momentum lateral friction in ocean  \n",
    "# OPTIONAL ENUM - choose ONE from: \n",
    "#    \"Free-slip\" \n",
    "#    \"No-slip\" \n",
    "#    \"None\" \n",
    "#    \"Other: [Please specify]\" "
   ]
  },
  {
   "cell_type": "markdown",
   "metadata": {},
   "source": [
    "### Ocean -->  Boundary Forcing --> Tracers\n",
    "*Key properties of tracer boundary forcing in the ocean*"
   ]
  },
  {
   "cell_type": "code",
   "execution_count": null,
   "metadata": {
    "collapsed": true
   },
   "outputs": [],
   "source": [
    "DOC['boundary_forcing.tracers.sunlight_penetration.scheme'] = \"\" \n",
    "# Type of sunlight penetration scheme in ocean  \n",
    "# OPTIONAL ENUM - choose ONE from: \n",
    "#    \"1 extinction depth\" \n",
    "#    \"2 extinction depth\" \n",
    "#    \"3 extinction depth\" \n",
    "#    \"Other: [Please specify]\" "
   ]
  },
  {
   "cell_type": "code",
   "execution_count": null,
   "metadata": {
    "collapsed": true
   },
   "outputs": [],
   "source": [
    "DOC['boundary_forcing.tracers.sunlight_penetration.ocean_colour'] = \"\" \n",
    "# Is the ocean sunlight penetration scheme ocean colour dependent ?  \n",
    "# OPTIONAL BOOLEAN - choose ONE from: \n",
    "#    \"True\"\n",
    "#    \"False\""
   ]
  },
  {
   "cell_type": "code",
   "execution_count": null,
   "metadata": {
    "collapsed": true
   },
   "outputs": [],
   "source": [
    "DOC['boundary_forcing.tracers.sunlight_penetration.extinction_depth'] = \"\" \n",
    "# Describe and list extinctions depths for sunlight penetration scheme (if applicable).  \n",
    "# MANDATORY STRING "
   ]
  },
  {
   "cell_type": "code",
   "execution_count": null,
   "metadata": {
    "collapsed": true
   },
   "outputs": [],
   "source": [
    "DOC['boundary_forcing.tracers.fresh_water_forcing.from_atmopshere'] = \"\" \n",
    "# Type of surface fresh water forcing from atmos in ocean  \n",
    "# OPTIONAL ENUM - choose ONE from: \n",
    "#    \"Freshwater flux\" \n",
    "#    \"Virtual salt flux\" \n",
    "#    \"Other: [Please specify]\" "
   ]
  },
  {
   "cell_type": "code",
   "execution_count": null,
   "metadata": {
    "collapsed": true
   },
   "outputs": [],
   "source": [
    "DOC['boundary_forcing.tracers.fresh_water_forcing.from_sea_ice'] = \"\" \n",
    "# Type of surface fresh water forcing from sea-ice in ocean  \n",
    "# OPTIONAL ENUM - choose ONE from: \n",
    "#    \"Freshwater flux\" \n",
    "#    \"Real salt flux\" \n",
    "#    \"Virtual salt flux\" \n",
    "#    \"Other: [Please specify]\" "
   ]
  },
  {
   "cell_type": "code",
   "execution_count": null,
   "metadata": {
    "collapsed": true
   },
   "outputs": [],
   "source": [
    "DOC['boundary_forcing.tracers.fresh_water_forcing.forced_mode_restoring'] = \"\" \n",
    "# Type of surface salinity restoring in forced mode (OMIP)  \n",
    "# OPTIONAL STRING "
   ]
  },
  {
   "cell_type": "markdown",
   "metadata": {},
   "source": [
    "## ES-DOC: Validate Documentation - REVIEW AND FIX VALIDATION ERRORS !"
   ]
  },
  {
   "cell_type": "code",
   "execution_count": null,
   "metadata": {
    "collapsed": true
   },
   "outputs": [],
   "source": [
    "# Validation errors will be listed - DO NOT EDIT !\n",
    "pyesdoc.list_notebook_output_errors(DOC)"
   ]
  },
  {
   "cell_type": "markdown",
   "metadata": {},
   "source": [
    "## ES-DOC: Persist Documentation - DO NOT EDIT !"
   ]
  },
  {
   "cell_type": "code",
   "execution_count": null,
   "metadata": {
    "collapsed": true
   },
   "outputs": [],
   "source": [
    "try:\n",
    "    pyesdoc.write_notebook_output(DOC)\n",
    "except pyesdoc.NoteBookValidationError:\n",
    "    pass"
   ]
  }
 ],
 "metadata": {
  "kernelspec": {
   "display_name": "Python 2",
   "language": "python",
   "name": "python2"
  },
  "language_info": {
   "codemirror_mode": {
    "name": "ipython",
    "version": 2
   },
   "file_extension": ".py",
   "mimetype": "text/x-python",
   "name": "python",
   "nbconvert_exporter": "python",
   "pygments_lexer": "ipython2",
   "version": "2.7.10"
  }
 },
 "nbformat": 4,
 "nbformat_minor": 0
}
