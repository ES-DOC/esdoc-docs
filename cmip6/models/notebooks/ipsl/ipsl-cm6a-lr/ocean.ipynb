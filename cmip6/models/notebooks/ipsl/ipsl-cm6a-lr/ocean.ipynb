{
    "nbformat_minor": 0, 
    "nbformat": 4, 
    "cells": [
        {
            "source": [
                "# ES-DOC CMIP6 Model Realm Documentation \n", 
                "**MIP Era**: CMIP6  \n", 
                "**Institute**: IPSL  \n", 
                "**Model**: IPSL-CM6A-LR  \n", 
                "**Realm**: Ocean  \n", 
                "**Realm Processes**: Timestepping Framework, Advection, Lateral Physics, Vertical Physics, Uplow Boundaries, Boundary Forcing.   \n", 
                "\n", 
                "**Notebook Help**: [Goto notebook help page](http://wordpress.es-doc.org/how-to-document-cmip6-models)  \n", 
                "**Notebook Initialised**: 2017-01-04 21:45:50"
            ], 
            "cell_type": "markdown", 
            "metadata": {}
        }, 
        {
            "source": [
                "# 1. Initialization"
            ], 
            "cell_type": "markdown", 
            "metadata": {}
        }, 
        {
            "source": [
                "### 1.1 Setup"
            ], 
            "cell_type": "markdown", 
            "metadata": {}
        }, 
        {
            "execution_count": null, 
            "cell_type": "code", 
            "source": [
                "# DO NOT EDIT !\n", 
                "from pyesdoc.model_notebook import Document\n", 
                "\n", 
                "# DO NOT EDIT !\n", 
                "DOC = Document('cmip6', 'ipsl', 'ipsl-cm6a-lr', 'ocean')"
            ], 
            "outputs": [], 
            "metadata": {}
        }, 
        {
            "source": [
                "### 1.2 Document Authors  \n", 
                "*Set document authors*"
            ], 
            "cell_type": "markdown", 
            "metadata": {}
        }, 
        {
            "execution_count": null, 
            "cell_type": "code", 
            "source": [
                "# Set as follows: DOC.set_author('name', 'value')  \n", 
                "# TODO"
            ], 
            "outputs": [], 
            "metadata": {}
        }, 
        {
            "source": [
                "### 1.3 Document Contributors  \n", 
                "*Specify document contributors*  "
            ], 
            "cell_type": "markdown", 
            "metadata": {}
        }, 
        {
            "execution_count": null, 
            "cell_type": "code", 
            "source": [
                "# Set as follows: DOC.set_contributor('name', 'value')  \n", 
                "# TODO"
            ], 
            "outputs": [], 
            "metadata": {}
        }, 
        {
            "source": [
                "# 2. Key Properties  \n", 
                "*Ocean key properties*"
            ], 
            "cell_type": "markdown", 
            "metadata": {}
        }, 
        {
            "source": [
                "### 2.1. Model Family\n", 
                " *Type of ocean model.*"
            ], 
            "cell_type": "markdown", 
            "metadata": {}
        }, 
        {
            "execution_count": null, 
            "cell_type": "code", 
            "source": [
                "# PROPERTY ID - DO NOT EDIT !  \n", 
                "DOC.set_id('cmip6.ocean.key_properties.model_family')  \n\n", 
                "# PROPERTY QUALITY CONTROL:  \n", 
                "# 0=draft, 1=in-review, 2=reviewed  \n", 
                "DOC.set_qc_status(0)  \n\n", 
                "# PROPERTY INFO: \n", 
                "#     Is Optional: True \n", 
                "#     Type: ENUM \n", 
                "#     Cardinality: ONE \n", 
                "#     Choices: \n", 
                "#         OGCM  \n", 
                "#         slab ocean  \n", 
                "#         mixed layer ocean  \n", 
                "#         Other: [Please specify]  \n", 
                "\n", 
                "# PROPERTY VALUE: \n", 
                "# Set as follows: DOC.set_value(value)  \n", 
                "# TODO"
            ], 
            "outputs": [], 
            "metadata": {
                "collapsed": true
            }
        }, 
        {
            "source": [
                "### 2.2. Basic Approximations\n", 
                " *Basic approximations made in the ocean.*"
            ], 
            "cell_type": "markdown", 
            "metadata": {}
        }, 
        {
            "execution_count": null, 
            "cell_type": "code", 
            "source": [
                "# PROPERTY ID - DO NOT EDIT !  \n", 
                "DOC.set_id('cmip6.ocean.key_properties.basic_approximations')  \n\n", 
                "# PROPERTY QUALITY CONTROL:  \n", 
                "# 0=draft, 1=in-review, 2=reviewed  \n", 
                "DOC.set_qc_status(0)  \n\n", 
                "# PROPERTY INFO: \n", 
                "#     Is Optional: True \n", 
                "#     Type: ENUM \n", 
                "#     Cardinality: MANY \n", 
                "#     Choices: \n", 
                "#         Primitive equations  \n", 
                "#         Non-hydrostatic  \n", 
                "#         Boussinesq  \n", 
                "#         Other: [Please specify]  \n", 
                "\n", 
                "# PROPERTY VALUE(S): \n", 
                "# Set as follows: DOC.set_value(value)  \n", 
                "# TODO"
            ], 
            "outputs": [], 
            "metadata": {
                "collapsed": true
            }
        }, 
        {
            "source": [
                "### 2.3. Prognostic Variables\n", 
                " *List of prognostic variables in the ocean component.*"
            ], 
            "cell_type": "markdown", 
            "metadata": {}
        }, 
        {
            "execution_count": null, 
            "cell_type": "code", 
            "source": [
                "# PROPERTY ID - DO NOT EDIT !  \n", 
                "DOC.set_id('cmip6.ocean.key_properties.prognostic_variables')  \n\n", 
                "# PROPERTY QUALITY CONTROL:  \n", 
                "# 0=draft, 1=in-review, 2=reviewed  \n", 
                "DOC.set_qc_status(0)  \n\n", 
                "# PROPERTY INFO: \n", 
                "#     Is Optional: True \n", 
                "#     Type: ENUM \n", 
                "#     Cardinality: MANY \n", 
                "#     Choices: \n", 
                "#         Potential temperature  \n", 
                "#         Conservative temperature  \n", 
                "#         Salinity  \n", 
                "#         U-velocity  \n", 
                "#         V-velocity  \n", 
                "#         W-velocity  \n", 
                "#         SSH  \n", 
                "#         Other: [Please specify]  \n", 
                "\n", 
                "# PROPERTY VALUE(S): \n", 
                "# Set as follows: DOC.set_value(value)  \n", 
                "# TODO"
            ], 
            "outputs": [], 
            "metadata": {
                "collapsed": true
            }
        }, 
        {
            "source": [
                "# 3 Key Properties --&gt; Seawater Properties  \n", 
                "*Physical properties of seawater in ocean*"
            ], 
            "cell_type": "markdown", 
            "metadata": {}
        }, 
        {
            "source": [
                "### 3.1. Eos Type\n", 
                " *Type of EOS for sea water*"
            ], 
            "cell_type": "markdown", 
            "metadata": {}
        }, 
        {
            "execution_count": null, 
            "cell_type": "code", 
            "source": [
                "# PROPERTY ID - DO NOT EDIT !  \n", 
                "DOC.set_id('cmip6.ocean.key_properties.seawater_properties.eos_type')  \n\n", 
                "# PROPERTY QUALITY CONTROL:  \n", 
                "# 0=draft, 1=in-review, 2=reviewed  \n", 
                "DOC.set_qc_status(0)  \n\n", 
                "# PROPERTY INFO: \n", 
                "#     Is Optional: True \n", 
                "#     Type: ENUM \n", 
                "#     Cardinality: ONE \n", 
                "#     Choices: \n", 
                "#         Linear  \n", 
                "#         Mc Dougall et al.  \n", 
                "#         Jackett et al. 2006  \n", 
                "#         TEOS 2010  \n", 
                "#         Other: [Please specify]  \n", 
                "\n", 
                "# PROPERTY VALUE: \n", 
                "# Set as follows: DOC.set_value(value)  \n", 
                "# TODO"
            ], 
            "outputs": [], 
            "metadata": {
                "collapsed": true
            }
        }, 
        {
            "source": [
                "### 3.2. Eos Functional Temp\n", 
                " *Temperature used in EOS for sea water*"
            ], 
            "cell_type": "markdown", 
            "metadata": {}
        }, 
        {
            "execution_count": null, 
            "cell_type": "code", 
            "source": [
                "# PROPERTY ID - DO NOT EDIT !  \n", 
                "DOC.set_id('cmip6.ocean.key_properties.seawater_properties.eos_functional_temp')  \n\n", 
                "# PROPERTY QUALITY CONTROL:  \n", 
                "# 0=draft, 1=in-review, 2=reviewed  \n", 
                "DOC.set_qc_status(0)  \n\n", 
                "# PROPERTY INFO: \n", 
                "#     Is Optional: True \n", 
                "#     Type: ENUM \n", 
                "#     Cardinality: ONE \n", 
                "#     Choices: \n", 
                "#         Potential temperature  \n", 
                "#         Conservative temperature  \n", 
                "\n", 
                "# PROPERTY VALUE: \n", 
                "# Set as follows: DOC.set_value(value)  \n", 
                "# TODO"
            ], 
            "outputs": [], 
            "metadata": {
                "collapsed": true
            }
        }, 
        {
            "source": [
                "### 3.3. Eos Functional Salt\n", 
                " *Salinity used in EOS for sea water*"
            ], 
            "cell_type": "markdown", 
            "metadata": {}
        }, 
        {
            "execution_count": null, 
            "cell_type": "code", 
            "source": [
                "# PROPERTY ID - DO NOT EDIT !  \n", 
                "DOC.set_id('cmip6.ocean.key_properties.seawater_properties.eos_functional_salt')  \n\n", 
                "# PROPERTY QUALITY CONTROL:  \n", 
                "# 0=draft, 1=in-review, 2=reviewed  \n", 
                "DOC.set_qc_status(0)  \n\n", 
                "# PROPERTY INFO: \n", 
                "#     Is Optional: True \n", 
                "#     Type: ENUM \n", 
                "#     Cardinality: ONE \n", 
                "#     Choices: \n", 
                "#         Practical salinity Sp  \n", 
                "#         Absolute salinity Sa  \n", 
                "\n", 
                "# PROPERTY VALUE: \n", 
                "# Set as follows: DOC.set_value(value)  \n", 
                "# TODO"
            ], 
            "outputs": [], 
            "metadata": {
                "collapsed": true
            }
        }, 
        {
            "source": [
                "### 3.4. Eos Functional Depth\n", 
                " *Depth or pressure used in EOS for sea water ?*"
            ], 
            "cell_type": "markdown", 
            "metadata": {}
        }, 
        {
            "execution_count": null, 
            "cell_type": "code", 
            "source": [
                "# PROPERTY ID - DO NOT EDIT !  \n", 
                "DOC.set_id('cmip6.ocean.key_properties.seawater_properties.eos_functional_depth')  \n\n", 
                "# PROPERTY QUALITY CONTROL:  \n", 
                "# 0=draft, 1=in-review, 2=reviewed  \n", 
                "DOC.set_qc_status(0)  \n\n", 
                "# PROPERTY INFO: \n", 
                "#     Is Optional: True \n", 
                "#     Type: ENUM \n", 
                "#     Cardinality: ONE \n", 
                "#     Choices: \n", 
                "#         Pressure (dbars)  \n", 
                "#         Depth (meters)  \n", 
                "\n", 
                "# PROPERTY VALUE: \n", 
                "# Set as follows: DOC.set_value(value)  \n", 
                "# TODO"
            ], 
            "outputs": [], 
            "metadata": {
                "collapsed": true
            }
        }, 
        {
            "source": [
                "### 3.5. Ocean Freezing Point\n", 
                " *Equation used to compute the freezing point (in deg C) of seawater, as a function of salinity and pressure*"
            ], 
            "cell_type": "markdown", 
            "metadata": {}
        }, 
        {
            "execution_count": null, 
            "cell_type": "code", 
            "source": [
                "# PROPERTY ID - DO NOT EDIT !  \n", 
                "DOC.set_id('cmip6.ocean.key_properties.seawater_properties.ocean_freezing_point')  \n\n", 
                "# PROPERTY QUALITY CONTROL:  \n", 
                "# 0=draft, 1=in-review, 2=reviewed  \n", 
                "DOC.set_qc_status(0)  \n\n", 
                "# PROPERTY INFO: \n", 
                "#     Is Optional: True \n", 
                "#     Type: ENUM \n", 
                "#     Cardinality: ONE \n", 
                "#     Choices: \n", 
                "#         TEOS 2010  \n", 
                "#         Other: [Please specify]  \n", 
                "\n", 
                "# PROPERTY VALUE: \n", 
                "# Set as follows: DOC.set_value(value)  \n", 
                "# TODO"
            ], 
            "outputs": [], 
            "metadata": {
                "collapsed": true
            }
        }, 
        {
            "source": [
                "### 3.6. Ocean Specific Heat\n", 
                " *Specific heat in ocean (cpocean) in J/(kg K)*"
            ], 
            "cell_type": "markdown", 
            "metadata": {}
        }, 
        {
            "execution_count": null, 
            "cell_type": "code", 
            "source": [
                "# PROPERTY ID - DO NOT EDIT !  \n", 
                "DOC.set_id('cmip6.ocean.key_properties.seawater_properties.ocean_specific_heat')  \n\n", 
                "# PROPERTY QUALITY CONTROL:  \n", 
                "# 0=draft, 1=in-review, 2=reviewed  \n", 
                "DOC.set_qc_status(0)  \n\n", 
                "# PROPERTY INFO: \n", 
                "#     Is Optional: True \n", 
                "#     Type: FLOAT \n", 
                "#     Cardinality: ONE \n", 
                "\n", 
                "# PROPERTY VALUE: \n", 
                "# Set as follows: DOC.set_value(value)  \n", 
                "# TODO"
            ], 
            "outputs": [], 
            "metadata": {
                "collapsed": true
            }
        }, 
        {
            "source": [
                "### 3.7. Ocean Reference Density\n", 
                " *Boussinesq reference density (rhozero) in kg / m3*"
            ], 
            "cell_type": "markdown", 
            "metadata": {}
        }, 
        {
            "execution_count": null, 
            "cell_type": "code", 
            "source": [
                "# PROPERTY ID - DO NOT EDIT !  \n", 
                "DOC.set_id('cmip6.ocean.key_properties.seawater_properties.ocean_reference_density')  \n\n", 
                "# PROPERTY QUALITY CONTROL:  \n", 
                "# 0=draft, 1=in-review, 2=reviewed  \n", 
                "DOC.set_qc_status(0)  \n\n", 
                "# PROPERTY INFO: \n", 
                "#     Is Optional: True \n", 
                "#     Type: FLOAT \n", 
                "#     Cardinality: ONE \n", 
                "\n", 
                "# PROPERTY VALUE: \n", 
                "# Set as follows: DOC.set_value(value)  \n", 
                "# TODO"
            ], 
            "outputs": [], 
            "metadata": {
                "collapsed": true
            }
        }, 
        {
            "source": [
                "# 4 Key Properties --&gt; Bathymetry  \n", 
                "*Properties of bathymetry in ocean*"
            ], 
            "cell_type": "markdown", 
            "metadata": {}
        }, 
        {
            "source": [
                "### 4.1. Reference Dates\n", 
                " *Reference date of bathymetry*"
            ], 
            "cell_type": "markdown", 
            "metadata": {}
        }, 
        {
            "execution_count": null, 
            "cell_type": "code", 
            "source": [
                "# PROPERTY ID - DO NOT EDIT !  \n", 
                "DOC.set_id('cmip6.ocean.key_properties.bathymetry.reference_dates')  \n\n", 
                "# PROPERTY QUALITY CONTROL:  \n", 
                "# 0=draft, 1=in-review, 2=reviewed  \n", 
                "DOC.set_qc_status(0)  \n\n", 
                "# PROPERTY INFO: \n", 
                "#     Is Optional: True \n", 
                "#     Type: ENUM \n", 
                "#     Cardinality: ONE \n", 
                "#     Choices: \n", 
                "#         Present day  \n", 
                "#         21000 years BP  \n", 
                "#         6000 years BP  \n", 
                "#         LGM  \n", 
                "#         Pliocene  \n", 
                "#         Other: [Please specify]  \n", 
                "\n", 
                "# PROPERTY VALUE: \n", 
                "# Set as follows: DOC.set_value(value)  \n", 
                "# TODO"
            ], 
            "outputs": [], 
            "metadata": {
                "collapsed": true
            }
        }, 
        {
            "source": [
                "### 4.2. Type\n", 
                " *Is the bathymetry fixed in time in the ocean ?*"
            ], 
            "cell_type": "markdown", 
            "metadata": {}
        }, 
        {
            "execution_count": null, 
            "cell_type": "code", 
            "source": [
                "# PROPERTY ID - DO NOT EDIT !  \n", 
                "DOC.set_id('cmip6.ocean.key_properties.bathymetry.type')  \n\n", 
                "# PROPERTY QUALITY CONTROL:  \n", 
                "# 0=draft, 1=in-review, 2=reviewed  \n", 
                "DOC.set_qc_status(0)  \n\n", 
                "# PROPERTY INFO: \n", 
                "#     Is Optional: True \n", 
                "#     Type: BOOLEAN \n", 
                "#     Cardinality: ONE \n", 
                "#     Choices: \n", 
                "#         True  \n", 
                "#         False  \n", 
                "\n", 
                "# PROPERTY VALUE: \n", 
                "# Set as follows: DOC.set_value(value)  \n", 
                "# TODO"
            ], 
            "outputs": [], 
            "metadata": {
                "collapsed": true
            }
        }, 
        {
            "source": [
                "### 4.3. Ocean Smoothing\n", 
                " *Describe any smoothing or hand editing of bathymetry in ocean*"
            ], 
            "cell_type": "markdown", 
            "metadata": {}
        }, 
        {
            "execution_count": null, 
            "cell_type": "code", 
            "source": [
                "# PROPERTY ID - DO NOT EDIT !  \n", 
                "DOC.set_id('cmip6.ocean.key_properties.bathymetry.ocean_smoothing')  \n\n", 
                "# PROPERTY QUALITY CONTROL:  \n", 
                "# 0=draft, 1=in-review, 2=reviewed  \n", 
                "DOC.set_qc_status(0)  \n\n", 
                "# PROPERTY INFO: \n", 
                "#     Is Optional: True \n", 
                "#     Type: STRING \n", 
                "#     Cardinality: ONE \n", 
                "\n", 
                "# PROPERTY VALUE: \n", 
                "# Set as follows: DOC.set_value(value)  \n", 
                "# TODO"
            ], 
            "outputs": [], 
            "metadata": {
                "collapsed": true
            }
        }, 
        {
            "source": [
                "### 4.4. Source\n", 
                " *Describe source of bathymetry in ocean*"
            ], 
            "cell_type": "markdown", 
            "metadata": {}
        }, 
        {
            "execution_count": null, 
            "cell_type": "code", 
            "source": [
                "# PROPERTY ID - DO NOT EDIT !  \n", 
                "DOC.set_id('cmip6.ocean.key_properties.bathymetry.source')  \n\n", 
                "# PROPERTY QUALITY CONTROL:  \n", 
                "# 0=draft, 1=in-review, 2=reviewed  \n", 
                "DOC.set_qc_status(0)  \n\n", 
                "# PROPERTY INFO: \n", 
                "#     Is Optional: True \n", 
                "#     Type: STRING \n", 
                "#     Cardinality: ONE \n", 
                "\n", 
                "# PROPERTY VALUE: \n", 
                "# Set as follows: DOC.set_value(value)  \n", 
                "# TODO"
            ], 
            "outputs": [], 
            "metadata": {
                "collapsed": true
            }
        }, 
        {
            "source": [
                "# 5 Key Properties --&gt; Nonoceanic Waters  \n", 
                "*Non oceanic waters treatement in ocean*"
            ], 
            "cell_type": "markdown", 
            "metadata": {}
        }, 
        {
            "source": [
                "### 5.1. Isolated Seas\n", 
                " *Describe if/how isolated seas is performed*"
            ], 
            "cell_type": "markdown", 
            "metadata": {}
        }, 
        {
            "execution_count": null, 
            "cell_type": "code", 
            "source": [
                "# PROPERTY ID - DO NOT EDIT !  \n", 
                "DOC.set_id('cmip6.ocean.key_properties.nonoceanic_waters.isolated_seas')  \n\n", 
                "# PROPERTY QUALITY CONTROL:  \n", 
                "# 0=draft, 1=in-review, 2=reviewed  \n", 
                "DOC.set_qc_status(0)  \n\n", 
                "# PROPERTY INFO: \n", 
                "#     Is Optional: False \n", 
                "#     Type: STRING \n", 
                "#     Cardinality: ONE \n", 
                "\n", 
                "# PROPERTY VALUE: \n", 
                "# Set as follows: DOC.set_value(value)  \n", 
                "# TODO"
            ], 
            "outputs": [], 
            "metadata": {
                "collapsed": true
            }
        }, 
        {
            "source": [
                "### 5.2. River Mouth\n", 
                " *Describe if/how river mouth mixing or estuaries specific treatment is performed*"
            ], 
            "cell_type": "markdown", 
            "metadata": {}
        }, 
        {
            "execution_count": null, 
            "cell_type": "code", 
            "source": [
                "# PROPERTY ID - DO NOT EDIT !  \n", 
                "DOC.set_id('cmip6.ocean.key_properties.nonoceanic_waters.river_mouth')  \n\n", 
                "# PROPERTY QUALITY CONTROL:  \n", 
                "# 0=draft, 1=in-review, 2=reviewed  \n", 
                "DOC.set_qc_status(0)  \n\n", 
                "# PROPERTY INFO: \n", 
                "#     Is Optional: False \n", 
                "#     Type: STRING \n", 
                "#     Cardinality: ONE \n", 
                "\n", 
                "# PROPERTY VALUE: \n", 
                "# Set as follows: DOC.set_value(value)  \n", 
                "# TODO"
            ], 
            "outputs": [], 
            "metadata": {
                "collapsed": true
            }
        }, 
        {
            "source": [
                "# 6. Finalization"
            ], 
            "cell_type": "markdown", 
            "metadata": {}
        }, 
        {
            "source": [
                "### 6.1 Review Validation Report"
            ], 
            "cell_type": "markdown", 
            "metadata": {}
        }, 
        {
            "execution_count": null, 
            "cell_type": "code", 
            "source": [
                "# DO NOT EDIT !\n", 
                "# Validation errors will be listed below - FIX THEM !\n", 
                "DOC.list_errors()"
            ], 
            "outputs": [], 
            "metadata": {}
        }, 
        {
            "source": [
                "### 6.1 Persist to File-System"
            ], 
            "cell_type": "markdown", 
            "metadata": {}
        }, 
        {
            "execution_count": null, 
            "cell_type": "code", 
            "source": [
                "# DO NOT EDIT !\n", 
                "try:\n", 
                "    DOC.persist(DOC)\n", 
                "except pyesdoc.NoteBookValidationError:\n", 
                "    print('!!! VALIDATION ERRORS MUST BE FIXED !!!')"
            ], 
            "outputs": [], 
            "metadata": {}
        }
    ], 
    "metadata": {
        "kernelspec": {
            "display_name": "Python 2", 
            "name": "python2", 
            "language": "python"
        }, 
        "language_info": {
            "mimetype": "text/x-python", 
            "nbconvert_exporter": "python", 
            "name": "python", 
            "file_extension": ".py", 
            "version": "2.7.10", 
            "pygments_lexer": "ipython2", 
            "codemirror_mode": {
                "version": 2, 
                "name": "ipython"
            }
        }
    }
}