{
    "cells": [
        {
            "cell_type": "markdown",
            "metadata": {},
            "source": [
                "## ES-DOC Model Documentation"
            ]
        },
        {
            "cell_type": "markdown",
            "metadata": {},
            "source": [
                "**MIP Era**: CMIP6  \n",
                "**Institute**: IPSL  \n",
                "**Model**: IPSL-CM6A-LR  \n",
                "**Realm**: Ocean  \n",
                "**Realm Processes**: Advection, BoundaryForcing, LateralPhysics, TimesteppingFramework, UplowBoundaries, VerticalPhysics.   \n",
                "\n",
                "**Notebook Help**: [Goto notebook help page](http://wordpress.es-doc.org/how-to-document-cmip6-models)  \n",
                "**Notebook Initialised**: 2016-07-21 15:03:59"
            ]
        },
        {
            "cell_type": "code",
            "execution_count": null,
            "metadata": {
                "collapsed": true,
                "scrolled": true
            },
            "outputs": [],
            "source": [
                "# Initialise documentation - do not edit !\n",
                "import pyesdoc\n",
                "DOC = pyesdoc.create_notebook_output({\n",
                "        'MIP_ERA': \"cmip6\",\n",
                "        'INSTITUTE': \"ipsl\",\n",
                "        'MODEL': \"ipsl-cm6a-lr\",\n",
                "        'REALM': \"ocean\"\n",
                "    })"
            ]
        },
        {
            "cell_type": "code",
            "execution_count": null,
            "metadata": {
                "collapsed": true,
                "scrolled": true
            },
            "outputs": [],
            "source": [
                "# Specify authors.\n",
                "DOC['AUTHORS'] = \"\""
            ]
        },
        {
            "cell_type": "code",
            "execution_count": null,
            "metadata": {
                "collapsed": true,
                "scrolled": true
            },
            "outputs": [],
            "source": [
                "# Specify contributors.\n",
                "DOC['CONTRIBUTORS'] = \"\""
            ]
        },



        {
            "cell_type": "markdown",
            "metadata": {},
            "source": [
                "### Ocean -->  Advection --> Momemtum Adv Scheme\n",
                "*Properties of lateral momemtum advection scheme in ocean*"
            ]
        },



        {
            "cell_type": "code",
            "execution_count": null,
            "metadata": {
                "collapsed": true
            },
            "outputs": [],
            "source": [
                "DOC['advection.momemtum_adv_scheme.details.type'] = \"\"\n",
                "# Type of lateral momemtum advection scheme in ocean\n",
                
                "# OPTIONAL ENUM - choose 1 from: \n",

                "#    Flux form \n",

                "#    Vector form "

                
            ]
        },

        {
            "cell_type": "code",
            "execution_count": null,
            "metadata": {
                "collapsed": true
            },
            "outputs": [],
            "source": [
                "DOC['advection.momemtum_adv_scheme.details.mom_adv_scheme_name'] = \"\"\n",
                "# Name of ocean momemtum advection scheme\n",
                
                "# OPTIONAL STRING"
                
            ]
        },

        {
            "cell_type": "code",
            "execution_count": null,
            "metadata": {
                "collapsed": true
            },
            "outputs": [],
            "source": [
                "DOC['advection.momemtum_adv_scheme.details.mom_adv_ALE'] = \"\"\n",
                "# Using ALE for vertical advection ? (if vertical coordinates are sigma)\n",
                
                "# MANDATORY BOOLEAN - choose 1 from: \n",
                "#    True\n",
                "#    False"
                
            ]
        },



        {
            "cell_type": "markdown",
            "metadata": {},
            "source": [
                "### Ocean -->  Advection --> Lat Tra Adv Scheme\n",
                "*Properties of lateral tracer advection scheme in ocean*"
            ]
        },



        {
            "cell_type": "code",
            "execution_count": null,
            "metadata": {
                "collapsed": true
            },
            "outputs": [],
            "source": [
                "DOC['advection.lat_tra_adv_scheme.details.type'] = \"\"\n",
                "# Type of lateral tracer advection scheme in ocean\n",
                
                "# OPTIONAL ENUM - choose 1 from: \n",

                "#    Centred 2nd order \n",

                "#    Centred 4th order \n",

                "#    MUSCL \n",

                "#    Piecewise Parabolic method \n",

                "#    Prather 2nd moment (PSOM) \n",

                "#    QUICKEST \n",

                "#    Sweby \n",

                "#    Total Variance Dissipation (TVD) \n",

                "#    Other: [Please specify] "

                
            ]
        },

        {
            "cell_type": "code",
            "execution_count": null,
            "metadata": {
                "collapsed": true
            },
            "outputs": [],
            "source": [
                "DOC['advection.lat_tra_adv_scheme.details.flux_limiter'] = \"\"\n",
                "# Monotonic flux limiter for vertical tracer advection scheme in ocean ?\n",
                
                "# OPTIONAL BOOLEAN - choose 1 from: \n",
                "#    True\n",
                "#    False"
                
            ]
        },



        {
            "cell_type": "markdown",
            "metadata": {},
            "source": [
                "### Ocean -->  Advection --> Vert Tra Adv Scheme\n",
                "*Properties of vertical momemtum advection scheme in ocean*"
            ]
        },



        {
            "cell_type": "code",
            "execution_count": null,
            "metadata": {
                "collapsed": true
            },
            "outputs": [],
            "source": [
                "DOC['advection.vert_tra_adv_scheme.details.type'] = \"\"\n",
                "# Type of vertical tracer advection scheme in ocean\n",
                
                "# OPTIONAL ENUM - choose 1 from: \n",

                "#    Centred 2nd order \n",

                "#    Centred 4th order \n",

                "#    MUSCL \n",

                "#    Piecewise Parabolic method \n",

                "#    Prather 2nd moment (PSOM) \n",

                "#    QUICKEST \n",

                "#    Sweby \n",

                "#    Total Variance Dissipation (TVD) \n",

                "#    Other: [Please specify] "

                
            ]
        },

        {
            "cell_type": "code",
            "execution_count": null,
            "metadata": {
                "collapsed": true
            },
            "outputs": [],
            "source": [
                "DOC['advection.vert_tra_adv_scheme.details.flux_limiter'] = \"\"\n",
                "# Monotonic flux limiter for vertical tracer advection scheme in ocean ?\n",
                
                "# OPTIONAL BOOLEAN - choose 1 from: \n",
                "#    True\n",
                "#    False"
                
            ]
        },





        {
            "cell_type": "markdown",
            "metadata": {},
            "source": [
                "### Ocean -->  Boundary Forcing --> Momentum\n",
                "*Key properties of momentum boundary forcing in the ocean*"
            ]
        },



        {
            "cell_type": "code",
            "execution_count": null,
            "metadata": {
                "collapsed": true
            },
            "outputs": [],
            "source": [
                "DOC['boundary_forcing.momentum.bottom_friction.type'] = \"\"\n",
                "# Type of momentum bottom friction in ocean\n",
                
                "# OPTIONAL ENUM - choose 1 from: \n",

                "#    Constant drag coefficient \n",

                "#    Linear \n",

                "#    Non-linear \n",

                "#    Non-linear (drag function of speed of tides) \n",

                "#    None \n",

                "#    Other: [Please specify] "

                
            ]
        },



        {
            "cell_type": "code",
            "execution_count": null,
            "metadata": {
                "collapsed": true
            },
            "outputs": [],
            "source": [
                "DOC['boundary_forcing.momentum.lateral_friction.type'] = \"\"\n",
                "# Type of momentum lateral friction in ocean\n",
                
                "# OPTIONAL ENUM - choose 1 from: \n",

                "#    Free-slip \n",

                "#    No-slip \n",

                "#    None \n",

                "#    Other: [Please specify] "

                
            ]
        },



        {
            "cell_type": "markdown",
            "metadata": {},
            "source": [
                "### Ocean -->  Boundary Forcing --> Tracers\n",
                "*Key properties of tracer boundary forcing in the ocean*"
            ]
        },



        {
            "cell_type": "code",
            "execution_count": null,
            "metadata": {
                "collapsed": true
            },
            "outputs": [],
            "source": [
                "DOC['boundary_forcing.tracers.sunlight_penetration.scheme'] = \"\"\n",
                "# Type of sunlight penetration scheme in ocean\n",
                
                "# OPTIONAL ENUM - choose 1 from: \n",

                "#    1 extinction depth \n",

                "#    2 extinction depth \n",

                "#    3 extinction depth \n",

                "#    Other: [Please specify] "

                
            ]
        },

        {
            "cell_type": "code",
            "execution_count": null,
            "metadata": {
                "collapsed": true
            },
            "outputs": [],
            "source": [
                "DOC['boundary_forcing.tracers.sunlight_penetration.tracers_sun_ocean_colour'] = \"\"\n",
                "# Is the ocean sunlight penetration scheme ocean colour dependent ?\n",
                
                "# OPTIONAL BOOLEAN - choose 1 from: \n",
                "#    True\n",
                "#    False"
                
            ]
        },

        {
            "cell_type": "code",
            "execution_count": null,
            "metadata": {
                "collapsed": true
            },
            "outputs": [],
            "source": [
                "DOC['boundary_forcing.tracers.sunlight_penetration.tracers_sun_extinct_depth'] = \"\"\n",
                "# Describe and list extinctions depths for sunlight penetration scheme (if applicable).\n",
                
                "# MANDATORY STRING"
                
            ]
        },



        {
            "cell_type": "code",
            "execution_count": null,
            "metadata": {
                "collapsed": true
            },
            "outputs": [],
            "source": [
                "DOC['boundary_forcing.tracers.surface_salinity_atmos.scheme'] = \"\"\n",
                "# Type of surface salinity forcing from atmos in ocean\n",
                
                "# OPTIONAL ENUM - choose 1 from: \n",

                "#    Freshwater flux \n",

                "#    Virtual salt flux \n",

                "#    Other: [Please specify] "

                
            ]
        },



        {
            "cell_type": "code",
            "execution_count": null,
            "metadata": {
                "collapsed": true
            },
            "outputs": [],
            "source": [
                "DOC['boundary_forcing.tracers.surface_salinity_seaice.scheme'] = \"\"\n",
                "# Type of surface salinity forcing from sea ice in ocean\n",
                
                "# OPTIONAL ENUM - choose 1 from: \n",

                "#    Freshwater flux \n",

                "#    Virtual salt flux \n",

                "#    Other: [Please specify] "

                
            ]
        },





        {
            "cell_type": "markdown",
            "metadata": {},
            "source": [
                "### Ocean -->  Lateral Physics --> Momentum\n",
                "*Properties of lateral physics for momentum in ocean*"
            ]
        },



        {
            "cell_type": "code",
            "execution_count": null,
            "metadata": {
                "collapsed": true
            },
            "outputs": [],
            "source": [
                "DOC['lateral_physics.momentum.operator.direction'] = \"\"\n",
                "# Direction of lateral physics momemtum scheme in the ocean\n",
                
                "# OPTIONAL ENUM - choose 1 from: \n",

                "#    Geopotential \n",

                "#    Horizontal \n",

                "#    Iso-level \n",

                "#    Isoneutral \n",

                "#    Isopycnal \n",

                "#    Other: [Please specify] "

                
            ]
        },

        {
            "cell_type": "code",
            "execution_count": null,
            "metadata": {
                "collapsed": true
            },
            "outputs": [],
            "source": [
                "DOC['lateral_physics.momentum.operator.order'] = \"\"\n",
                "# Order of lateral physics momemtum scheme in the ocean\n",
                
                "# OPTIONAL ENUM - choose 1 from: \n",

                "#    Bi-harmonic \n",

                "#    Harmonic \n",

                "#    Other: [Please specify] "

                
            ]
        },

        {
            "cell_type": "code",
            "execution_count": null,
            "metadata": {
                "collapsed": true
            },
            "outputs": [],
            "source": [
                "DOC['lateral_physics.momentum.operator.discretisation'] = \"\"\n",
                "# Discretisation of lateral physics momemtum scheme in the ocean\n",
                
                "# OPTIONAL ENUM - choose 1 from: \n",

                "#    Flux limiter \n",

                "#    Fourth order \n",

                "#    Second order \n",

                "#    Other: [Please specify] "

                
            ]
        },



        {
            "cell_type": "code",
            "execution_count": null,
            "metadata": {
                "collapsed": true
            },
            "outputs": [],
            "source": [
                "DOC['lateral_physics.momentum.eddy_viscosity_coeff.type'] = \"\"\n",
                "# Lateral physics momemtum eddy viscosity coeff type in the ocean\n",
                
                "# OPTIONAL ENUM - choose 1 from: \n",

                "#    Constant \n",

                "#    Space varying \n",

                "#    Time + space varying (Smagorinsky) \n",

                "#    Other: [Please specify] "

                
            ]
        },

        {
            "cell_type": "code",
            "execution_count": null,
            "metadata": {
                "collapsed": true
            },
            "outputs": [],
            "source": [
                "DOC['lateral_physics.momentum.eddy_viscosity_coeff.eddy_visc_coeff_cst'] = \"\"\n",
                "# If constant, value of eddy viscosity coeff in lateral physics momemtum scheme (in m2/s)\n",
                
                "# MANDATORY INTEGER"
                
            ]
        },

        {
            "cell_type": "code",
            "execution_count": null,
            "metadata": {
                "collapsed": true
            },
            "outputs": [],
            "source": [
                "DOC['lateral_physics.momentum.eddy_viscosity_coeff.eddy_visc_coeff_var'] = \"\"\n",
                "# If space-varying, describe variations of eddy viscosity coeff in lateral physics momemtum scheme\n",
                
                "# MANDATORY STRING"
                
            ]
        },

        {
            "cell_type": "code",
            "execution_count": null,
            "metadata": {
                "collapsed": true
            },
            "outputs": [],
            "source": [
                "DOC['lateral_physics.momentum.eddy_viscosity_coeff.eddy_visc_coeff_background'] = \"\"\n",
                "# Background value of eddy viscosity coeff in lateral physics momemtum scheme (in m2/s)\n",
                
                "# OPTIONAL INTEGER"
                
            ]
        },

        {
            "cell_type": "code",
            "execution_count": null,
            "metadata": {
                "collapsed": true
            },
            "outputs": [],
            "source": [
                "DOC['lateral_physics.momentum.eddy_viscosity_coeff.eddy_visc_coeff_backscatter'] = \"\"\n",
                "# Is there backscatter in eddy viscosity coeff in lateral physics momemtum scheme ?\n",
                
                "# OPTIONAL BOOLEAN - choose 1 from: \n",
                "#    True\n",
                "#    False"
                
            ]
        },



        {
            "cell_type": "markdown",
            "metadata": {},
            "source": [
                "### Ocean -->  Lateral Physics --> Tracers\n",
                "*Properties of lateral physics for tracers in ocean*"
            ]
        },



        {
            "cell_type": "code",
            "execution_count": null,
            "metadata": {
                "collapsed": true
            },
            "outputs": [],
            "source": [
                "DOC['lateral_physics.tracers.details.mesoscale_closure'] = \"\"\n",
                "# Is there a mesoscale closure in the lateral physics tracers scheme ?\n",
                
                "# OPTIONAL BOOLEAN - choose 1 from: \n",
                "#    True\n",
                "#    False"
                
            ]
        },



        {
            "cell_type": "code",
            "execution_count": null,
            "metadata": {
                "collapsed": true
            },
            "outputs": [],
            "source": [
                "DOC['lateral_physics.tracers.operator.direction'] = \"\"\n",
                "# Direction of lateral physics tracers scheme in the ocean\n",
                
                "# OPTIONAL ENUM - choose 1 from: \n",

                "#    Geopotential \n",

                "#    Horizontal \n",

                "#    Iso-level \n",

                "#    Isoneutral \n",

                "#    Isopycnal \n",

                "#    Other: [Please specify] "

                
            ]
        },

        {
            "cell_type": "code",
            "execution_count": null,
            "metadata": {
                "collapsed": true
            },
            "outputs": [],
            "source": [
                "DOC['lateral_physics.tracers.operator.order'] = \"\"\n",
                "# Order of lateral physics tracers scheme in the ocean\n",
                
                "# OPTIONAL ENUM - choose 1 from: \n",

                "#    Bi-harmonic \n",

                "#    Harmonic \n",

                "#    Other: [Please specify] "

                
            ]
        },

        {
            "cell_type": "code",
            "execution_count": null,
            "metadata": {
                "collapsed": true
            },
            "outputs": [],
            "source": [
                "DOC['lateral_physics.tracers.operator.discretisation'] = \"\"\n",
                "# Discretisation of lateral physics tracers scheme in the ocean\n",
                
                "# OPTIONAL ENUM - choose 1 from: \n",

                "#    Flux limiter \n",

                "#    Fourth order \n",

                "#    Second order \n",

                "#    Other: [Please specify] "

                
            ]
        },



        {
            "cell_type": "code",
            "execution_count": null,
            "metadata": {
                "collapsed": true
            },
            "outputs": [],
            "source": [
                "DOC['lateral_physics.tracers.eddy_viscosity_coeff.type'] = \"\"\n",
                "# Lateral physics tracers eddy viscosity coeff type in the ocean\n",
                
                "# OPTIONAL ENUM - choose 1 from: \n",

                "#    Constant \n",

                "#    Space varying \n",

                "#    Time + space varying (Smagorinsky) \n",

                "#    Other: [Please specify] "

                
            ]
        },

        {
            "cell_type": "code",
            "execution_count": null,
            "metadata": {
                "collapsed": true
            },
            "outputs": [],
            "source": [
                "DOC['lateral_physics.tracers.eddy_viscosity_coeff.eddy_visc_coeff_cst'] = \"\"\n",
                "# If constant, value of eddy viscosity coeff in lateral physics tracers scheme (in m2/s)\n",
                
                "# MANDATORY INTEGER"
                
            ]
        },

        {
            "cell_type": "code",
            "execution_count": null,
            "metadata": {
                "collapsed": true
            },
            "outputs": [],
            "source": [
                "DOC['lateral_physics.tracers.eddy_viscosity_coeff.eddy_visc_coeff_var'] = \"\"\n",
                "# If space-varying, describe variations of eddy viscosity coeff in lateral physics tracers scheme\n",
                
                "# MANDATORY STRING"
                
            ]
        },

        {
            "cell_type": "code",
            "execution_count": null,
            "metadata": {
                "collapsed": true
            },
            "outputs": [],
            "source": [
                "DOC['lateral_physics.tracers.eddy_viscosity_coeff.eddy_visc_coeff_background'] = \"\"\n",
                "# Background value of eddy viscosity coeff in lateral physics tracers scheme (in m2/s)\n",
                
                "# OPTIONAL INTEGER"
                
            ]
        },

        {
            "cell_type": "code",
            "execution_count": null,
            "metadata": {
                "collapsed": true
            },
            "outputs": [],
            "source": [
                "DOC['lateral_physics.tracers.eddy_viscosity_coeff.eddy_visc_coeff_backscatter'] = \"\"\n",
                "# Is there backscatter in eddy viscosity coeff in lateral physics tracers scheme ?\n",
                
                "# OPTIONAL BOOLEAN - choose 1 from: \n",
                "#    True\n",
                "#    False"
                
            ]
        },



        {
            "cell_type": "code",
            "execution_count": null,
            "metadata": {
                "collapsed": true
            },
            "outputs": [],
            "source": [
                "DOC['lateral_physics.tracers.eddy_induced_velocity.type'] = \"\"\n",
                "# Type of EIV in lateral physics tracers in the ocean\n",
                
                "# OPTIONAL ENUM - choose 1 from: \n",

                "#    GM \n",

                "#    Other: [Please specify] "

                
            ]
        },

        {
            "cell_type": "code",
            "execution_count": null,
            "metadata": {
                "collapsed": true
            },
            "outputs": [],
            "source": [
                "DOC['lateral_physics.tracers.eddy_induced_velocity.eiv_constant_val'] = \"\"\n",
                "# If EIV scheme for tracers is constant, specify coefficient value (M2/s)\n",
                
                "# MANDATORY INTEGER"
                
            ]
        },

        {
            "cell_type": "code",
            "execution_count": null,
            "metadata": {
                "collapsed": true
            },
            "outputs": [],
            "source": [
                "DOC['lateral_physics.tracers.eddy_induced_velocity.eiv_flux_type'] = \"\"\n",
                "# Type of EIV flux (advective or skew)\n",
                
                "# OPTIONAL STRING"
                
            ]
        },

        {
            "cell_type": "code",
            "execution_count": null,
            "metadata": {
                "collapsed": true
            },
            "outputs": [],
            "source": [
                "DOC['lateral_physics.tracers.eddy_induced_velocity.eiv_added_diff'] = \"\"\n",
                "# Type of EIV added diffusivity (constant, flow dependent or none)\n",
                
                "# OPTIONAL STRING"
                
            ]
        },









        {
            "cell_type": "markdown",
            "metadata": {},
            "source": [
                "### Ocean -->  Vertical Physics --> Boundary Layer Mixing\n",
                "*Properties of boundary layer mixing in the ocean (aka mixed layer)*"
            ]
        },



        {
            "cell_type": "code",
            "execution_count": null,
            "metadata": {
                "collapsed": true
            },
            "outputs": [],
            "source": [
                "DOC['vertical_physics.boundary_layer_mixing.tracers.type'] = \"\"\n",
                "# Type of boundary layer mixing for tracers in ocean\n",
                
                "# OPTIONAL ENUM - choose 1 from: \n",

                "#    Constant value \n",

                "#    Imbeded as isopycnic vertical coordinate \n",

                "#    Richardson number dependent - KT \n",

                "#    Richardson number dependent - PP \n",

                "#    Turbulent closure - Bulk Mixed Layer \n",

                "#    Turbulent closure - KPP \n",

                "#    Turbulent closure - Mellor-Yamada \n",

                "#    Turbulent closure - TKE \n",

                "#    Other: [Please specify] "

                
            ]
        },

        {
            "cell_type": "code",
            "execution_count": null,
            "metadata": {
                "collapsed": true
            },
            "outputs": [],
            "source": [
                "DOC['vertical_physics.boundary_layer_mixing.tracers.closure_order'] = \"\"\n",
                "# If turbulent BL mixing of tracers, specific order of closure (0, 1, 2.5, 3)\n",
                
                "# MANDATORY FLOAT"
                
            ]
        },

        {
            "cell_type": "code",
            "execution_count": null,
            "metadata": {
                "collapsed": true
            },
            "outputs": [],
            "source": [
                "DOC['vertical_physics.boundary_layer_mixing.tracers.constant'] = \"\"\n",
                "# If constant BL mixing of tracers, specific coefficient (m2/s)\n",
                
                "# MANDATORY INTEGER"
                
            ]
        },

        {
            "cell_type": "code",
            "execution_count": null,
            "metadata": {
                "collapsed": true
            },
            "outputs": [],
            "source": [
                "DOC['vertical_physics.boundary_layer_mixing.tracers.background'] = \"\"\n",
                "# Background BL mixing of tracers coefficient, (schema and value in m2/s - may by none)\n",
                
                "# OPTIONAL STRING"
                
            ]
        },



        {
            "cell_type": "code",
            "execution_count": null,
            "metadata": {
                "collapsed": true
            },
            "outputs": [],
            "source": [
                "DOC['vertical_physics.boundary_layer_mixing.momentum.type'] = \"\"\n",
                "# Type of boundary layer mixing for momentum in ocean\n",
                
                "# OPTIONAL ENUM - choose 1 from: \n",

                "#    Constant value \n",

                "#    Imbeded as isopycnic vertical coordinate \n",

                "#    Richardson number dependent - KT \n",

                "#    Richardson number dependent - PP \n",

                "#    Turbulent closure - Bulk Mixed Layer \n",

                "#    Turbulent closure - KPP \n",

                "#    Turbulent closure - Mellor-Yamada \n",

                "#    Turbulent closure - TKE \n",

                "#    Other: [Please specify] "

                
            ]
        },

        {
            "cell_type": "code",
            "execution_count": null,
            "metadata": {
                "collapsed": true
            },
            "outputs": [],
            "source": [
                "DOC['vertical_physics.boundary_layer_mixing.momentum.closure_order'] = \"\"\n",
                "# If turbulent BL mixing of momentum, specific order of closure (0, 1, 2.5, 3)\n",
                
                "# MANDATORY FLOAT"
                
            ]
        },

        {
            "cell_type": "code",
            "execution_count": null,
            "metadata": {
                "collapsed": true
            },
            "outputs": [],
            "source": [
                "DOC['vertical_physics.boundary_layer_mixing.momentum.constant'] = \"\"\n",
                "# If constant BL mixing of momentum, specific coefficient (m2/s)\n",
                
                "# MANDATORY INTEGER"
                
            ]
        },

        {
            "cell_type": "code",
            "execution_count": null,
            "metadata": {
                "collapsed": true
            },
            "outputs": [],
            "source": [
                "DOC['vertical_physics.boundary_layer_mixing.momentum.background'] = \"\"\n",
                "# Background BL mixing of momentum coefficient, (schema and value in m2/s - may by none)\n",
                
                "# OPTIONAL STRING"
                
            ]
        },



        {
            "cell_type": "markdown",
            "metadata": {},
            "source": [
                "### Ocean -->  Vertical Physics --> Interior Mixing\n",
                "*Properties of interior vertical mixing in the ocean*"
            ]
        },



        {
            "cell_type": "code",
            "execution_count": null,
            "metadata": {
                "collapsed": true
            },
            "outputs": [],
            "source": [
                "DOC['vertical_physics.interior_mixing.tracers.type'] = \"\"\n",
                "# Type of interior mixing for tracers in ocean\n",
                
                "# OPTIONAL ENUM - choose 1 from: \n",

                "#    Constant value \n",

                "#    Imbeded as isopycnic vertical coordinate \n",

                "#    Richardson number dependent - KT \n",

                "#    Richardson number dependent - PP \n",

                "#    Turbulent closure - Mellor-Yamada \n",

                "#    Turbulent closure / TKE \n",

                "#    Other: [Please specify] "

                
            ]
        },

        {
            "cell_type": "code",
            "execution_count": null,
            "metadata": {
                "collapsed": true
            },
            "outputs": [],
            "source": [
                "DOC['vertical_physics.interior_mixing.tracers.constant'] = \"\"\n",
                "# If constant interior mixing of tracers, specific coefficient (m2/s)\n",
                
                "# MANDATORY INTEGER"
                
            ]
        },

        {
            "cell_type": "code",
            "execution_count": null,
            "metadata": {
                "collapsed": true
            },
            "outputs": [],
            "source": [
                "DOC['vertical_physics.interior_mixing.tracers.profile'] = \"\"\n",
                "# Is the background interior mixing using a vertical profile for tracers (i.e is NOT constant) ?\n",
                
                "# OPTIONAL STRING"
                
            ]
        },

        {
            "cell_type": "code",
            "execution_count": null,
            "metadata": {
                "collapsed": true
            },
            "outputs": [],
            "source": [
                "DOC['vertical_physics.interior_mixing.tracers.background'] = \"\"\n",
                "# Background interior mixing of tracers coefficient, (schema and value in m2/s - may by none)\n",
                
                "# OPTIONAL STRING"
                
            ]
        },



        {
            "cell_type": "code",
            "execution_count": null,
            "metadata": {
                "collapsed": true
            },
            "outputs": [],
            "source": [
                "DOC['vertical_physics.interior_mixing.momentum.type'] = \"\"\n",
                "# Type of interior mixing for momentum in ocean\n",
                
                "# OPTIONAL ENUM - choose 1 from: \n",

                "#    Constant value \n",

                "#    Imbeded as isopycnic vertical coordinate \n",

                "#    Richardson number dependent - KT \n",

                "#    Richardson number dependent - PP \n",

                "#    Turbulent closure - Mellor-Yamada \n",

                "#    Turbulent closure / TKE \n",

                "#    Other: [Please specify] "

                
            ]
        },

        {
            "cell_type": "code",
            "execution_count": null,
            "metadata": {
                "collapsed": true
            },
            "outputs": [],
            "source": [
                "DOC['vertical_physics.interior_mixing.momentum.constant'] = \"\"\n",
                "# If constant interior mixing of momentum, specific coefficient (m2/s)\n",
                
                "# MANDATORY INTEGER"
                
            ]
        },

        {
            "cell_type": "code",
            "execution_count": null,
            "metadata": {
                "collapsed": true
            },
            "outputs": [],
            "source": [
                "DOC['vertical_physics.interior_mixing.momentum.profile'] = \"\"\n",
                "# Is the background interior mixing using a vertical profile for momentum (i.e is NOT constant) ?\n",
                
                "# OPTIONAL STRING"
                
            ]
        },

        {
            "cell_type": "code",
            "execution_count": null,
            "metadata": {
                "collapsed": true
            },
            "outputs": [],
            "source": [
                "DOC['vertical_physics.interior_mixing.momentum.background'] = \"\"\n",
                "# Background interior mixing of momentum coefficient, (schema and value in m2/s - may by none)\n",
                
                "# OPTIONAL STRING"
                
            ]
        },




  {
   "cell_type": "markdown",
   "metadata": {},
   "source": [
    "## ES-DOC: Persist Documentation - do not edit !"
   ]
  },
  {
   "cell_type": "code",
   "execution_count": 55,
   "metadata": {
    "collapsed": false
   },
   "outputs": [],
   "source": [
    "pyesdoc.save_notebook_output(DOC)"
   ]
  }
    ],
    "metadata": {
        "kernelspec": {
            "display_name": "Python 2",
            "language": "python",
            "name": "python2"
        },
        "language_info": {
            "codemirror_mode": {
                "name": "ipython",
                "version": 2
            },
            "file_extension": ".py",
            "mimetype": "text/x-python",
            "name": "python",
            "nbconvert_exporter": "python",
            "pygments_lexer": "ipython2",
            "version": "2.7.10"
        }
    },
    "nbformat": 4,
    "nbformat_minor": 0
}