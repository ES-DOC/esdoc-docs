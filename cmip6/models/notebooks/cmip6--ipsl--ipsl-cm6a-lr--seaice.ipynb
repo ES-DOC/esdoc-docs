{
    "nbformat_minor": 0, 
    "nbformat": 4, 
    "cells": [
        {
            "source": [
                "# ES-DOC CMIP6 Model Realm Documentation \n", 
                "**MIP Era**: CMIP6  \n", 
                "**Institute**: IPSL  \n", 
                "**Model**: IPSL-CM6A-LR  \n", 
                "**Realm**: Seaice  \n", 
                "**Realm Processes**: Dynamics, Thermodynamics, Radiative Processes.   \n", 
                "\n", 
                "**Properties**: 73 (13 required, 60 optional)  \n", 
                "**Notebook Help**: [Goto notebook help page](http://wordpress.es-doc.org/how-to-document-cmip6-models)  \n", 
                "**Notebook Initialised**: 2017-01-04 23:35:58"
            ], 
            "cell_type": "markdown", 
            "metadata": {}
        }, 
        {
            "source": [
                "# 1. Initialization"
            ], 
            "cell_type": "markdown", 
            "metadata": {}
        }, 
        {
            "source": [
                "### 1.1 Setup - DO NOT EDIT !"
            ], 
            "cell_type": "markdown", 
            "metadata": {}
        }, 
        {
            "execution_count": null, 
            "cell_type": "code", 
            "source": [
                "# DO NOT EDIT !  \n", 
                "from pyesdoc.model_realm_notebook import NotebookData  \n", 
                "\n", 
                "# DO NOT EDIT !  \n", 
                "DOC = NotebookData('cmip6', 'ipsl', 'ipsl-cm6a-lr', 'seaice')  \n", 
                "\n", 
                "# DO NOT EDIT !  \n", 
                "set_author = DOC.set_id  \n", 
                "set_contributor = DOC.set_contributor  \n", 
                "set_id = DOC.set_id  \n", 
                "set_qc = DOC.set_qc_status\n", 
                "set_val = DOC.set_value"
            ], 
            "outputs": [], 
            "metadata": {}
        }, 
        {
            "source": [
                "### 1.2 Document Authors  \n", 
                "*Set document authors*"
            ], 
            "cell_type": "markdown", 
            "metadata": {}
        }, 
        {
            "execution_count": null, 
            "cell_type": "code", 
            "source": [
                "# Set as follows: set_author('name', 'value')  \n", 
                "# TODO"
            ], 
            "outputs": [], 
            "metadata": {}
        }, 
        {
            "source": [
                "### 1.3 Document Contributors  \n", 
                "*Specify document contributors*  "
            ], 
            "cell_type": "markdown", 
            "metadata": {}
        }, 
        {
            "execution_count": null, 
            "cell_type": "code", 
            "source": [
                "# Set as follows: set_contributor('name', 'value')  \n", 
                "# TODO"
            ], 
            "outputs": [], 
            "metadata": {}
        }, 
        {
            "source": [
                "### 1.4 Table of Contents  \n", 
                "[2. Key Properties --&gt; Variables](#2. Key Properties --&gt; Variables)  \n", 
                "[3. Key Properties --&gt; Seawater Properties](#3. Key Properties --&gt; Seawater Properties)  \n", 
                "[4. Key Properties --&gt; Resolution](#4. Key Properties --&gt; Resolution)  \n", 
                "[5. Key Properties --&gt; Tuning Applied](#5. Key Properties --&gt; Tuning Applied)  \n", 
                "[6. Key Properties --&gt; Assumptions](#6. Key Properties --&gt; Assumptions)  \n", 
                "[7. Key Properties --&gt; Conservation](#7. Key Properties --&gt; Conservation)  \n", 
                "**8. Grid --&gt; Discretisation --&gt; Horizontal**  \n", 
                "**9. Grid --&gt; Discretisation --&gt; Vertical**  \n", 
                "[10. Grid --&gt; Seaice Categories](#10. Grid --&gt; Seaice Categories)  \n", 
                "[11. Grid --&gt; Snow On Seaice](#11. Grid --&gt; Snow On Seaice)  \n", 
                "[12. Dynamics](#12. Dynamics)  \n", 
                "[13. Thermodynamics --&gt; Energy](#13. Thermodynamics --&gt; Energy)  \n", 
                "[14. Thermodynamics --&gt; Mass](#14. Thermodynamics --&gt; Mass)  \n", 
                "[15. Thermodynamics --&gt; Salt](#15. Thermodynamics --&gt; Salt)  \n", 
                "**16. Thermodynamics --&gt; Salt --&gt; Mass Transport**  \n", 
                "**17. Thermodynamics --&gt; Salt --&gt; Thermodynamics**  \n", 
                "[18. Thermodynamics --&gt; Ice Thickness Distribution](#18. Thermodynamics --&gt; Ice Thickness Distribution)  \n", 
                "[19. Thermodynamics --&gt; Melt Ponds](#19. Thermodynamics --&gt; Melt Ponds)  \n", 
                "[20. Thermodynamics --&gt; Snow Processes](#20. Thermodynamics --&gt; Snow Processes)  \n", 
                "[21. Radiative Processes](#21. Radiative Processes)  \n", 
                "\n"
            ], 
            "cell_type": "markdown", 
            "metadata": {}
        }, 
        {
            "source": [
                "# 2. Finalization"
            ], 
            "cell_type": "markdown", 
            "metadata": {}
        }, 
        {
            "source": [
                "### 2.1 Review Validation Report"
            ], 
            "cell_type": "markdown", 
            "metadata": {}
        }, 
        {
            "execution_count": null, 
            "cell_type": "code", 
            "source": [
                "# DO NOT EDIT !\n", 
                "# Validation errors will be listed below - FIX THEM !\n", 
                "DOC.list_errors()"
            ], 
            "outputs": [], 
            "metadata": {}
        }, 
        {
            "source": [
                "### 2.1 Persist to File-System"
            ], 
            "cell_type": "markdown", 
            "metadata": {}
        }, 
        {
            "execution_count": null, 
            "cell_type": "code", 
            "source": [
                "# DO NOT EDIT !\n", 
                "try:\n", 
                "    DOC.persist(DOC)\n", 
                "except pyesdoc.NoteBookValidationError:\n", 
                "    print('!!! VALIDATION ERRORS MUST BE FIXED !!!')"
            ], 
            "outputs": [], 
            "metadata": {}
        }
    ], 
    "metadata": {
        "kernelspec": {
            "display_name": "Python 2", 
            "name": "python2", 
            "language": "python"
        }, 
        "language_info": {
            "mimetype": "text/x-python", 
            "nbconvert_exporter": "python", 
            "name": "python", 
            "file_extension": ".py", 
            "version": "2.7.10", 
            "pygments_lexer": "ipython2", 
            "codemirror_mode": {
                "version": 2, 
                "name": "ipython"
            }
        }
    }
}