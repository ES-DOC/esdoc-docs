{
    "nbformat_minor": 0, 
    "nbformat": 4, 
    "cells": [
        {
            "source": [
                "# ES-DOC CMIP6 Model Properties (Ocean) \n", 
                "**MIP Era**: CMIP6  \n", 
                "**Institute**: CSIRO-BOM  \n", 
                "**Source ID**: ACCESS-1-0  \n", 
                "**Realm**: Ocean  \n", 
                "**Processes**: Timestepping Framework, Advection, Lateral Physics, Vertical Physics, Uplow Boundaries, Boundary Forcing.   \n", 
                "**Properties**: 117 (84 required)  \n", 
                "\n", 
                "**Notebook Help**: [Goto notebook help page](http://wordpress.es-doc.org/how-to-document-cmip6-models)  \n", 
                "**Notebook Initialised**: 2017-05-23 14:59:18"
            ], 
            "cell_type": "markdown", 
            "metadata": {}
        }, 
        {
            "source": [
                "### Document Setup  \n", 
                "**IMPORTANT:** *to be executed each time you run the notebook*  "
            ], 
            "cell_type": "markdown", 
            "metadata": {}
        }, 
        {
            "execution_count": null, 
            "cell_type": "code", 
            "source": [
                "# DO NOT EDIT !  \n", 
                "from pyesdoc.ipython.model_realm_properties import NotebookOutput  \n", 
                "\n", 
                "# DO NOT EDIT !  \n", 
                "DOC = NotebookOutput('cmip6', 'csiro-bom', 'access-1-0', 'ocean')"
            ], 
            "outputs": [], 
            "metadata": {}
        }, 
        {
            "source": [
                "### Document Authors  \n", 
                "*Set document authors*"
            ], 
            "cell_type": "markdown", 
            "metadata": {}
        }, 
        {
            "execution_count": null, 
            "cell_type": "code", 
            "source": [
                "# Set as follows: DOC.set_author(\"name\", \"email\")  \n", 
                "# TODO"
            ], 
            "outputs": [], 
            "metadata": {}
        }, 
        {
            "source": [
                "### Document Contributors  \n", 
                "*Specify document contributors*  "
            ], 
            "cell_type": "markdown", 
            "metadata": {}
        }, 
        {
            "execution_count": null, 
            "cell_type": "code", 
            "source": [
                "# Set as follows: DOC.set_contributor(\"name\", \"email\")  \n", 
                "# TODO"
            ], 
            "outputs": [], 
            "metadata": {}
        }, 
        {
            "source": [
                "### Document Table of Contents  \n", 
                "[1. Grid --&gt; Discretisation --&gt; Vertical](#1.-Grid---&gt;-Discretisation---&gt;-Vertical)  \n", 
                "[2. Grid --&gt; Discretisation --&gt; Horizontal](#2.-Grid---&gt;-Discretisation---&gt;-Horizontal)  \n", 
                "[3. Key Properties](#3.-Key-Properties)  \n", 
                "[4. Key Properties --&gt; Seawater Properties](#4.-Key-Properties---&gt;-Seawater-Properties)  \n", 
                "[5. Key Properties --&gt; Bathymetry](#5.-Key-Properties---&gt;-Bathymetry)  \n", 
                "[6. Key Properties --&gt; Nonoceanic Waters](#6.-Key-Properties---&gt;-Nonoceanic-Waters)  \n", 
                "[7. Key Properties --&gt; Software Properties](#7.-Key-Properties---&gt;-Software-Properties)  \n", 
                "[8. Key Properties --&gt; Resolution](#8.-Key-Properties---&gt;-Resolution)  \n", 
                "[9. Key Properties --&gt; Tuning Applied](#9.-Key-Properties---&gt;-Tuning-Applied)  \n", 
                "[10. Key Properties --&gt; Conservation](#10.-Key-Properties---&gt;-Conservation)  \n", 
                "[11. Timestepping Framework --&gt; Timestepping Attributes](#11.-Timestepping-Framework---&gt;-Timestepping-Attributes)  \n", 
                "[12. Timestepping Framework --&gt; Timestepping Tracers Scheme](#12.-Timestepping-Framework---&gt;-Timestepping-Tracers-Scheme)  \n", 
                "[13. Timestepping Framework --&gt; Barotropic Solver Scheme](#13.-Timestepping-Framework---&gt;-Barotropic-Solver-Scheme)  \n", 
                "[14. Timestepping Framework --&gt; Barotropic Momentum Scheme](#14.-Timestepping-Framework---&gt;-Barotropic-Momentum-Scheme)  \n", 
                "[15. Advection --&gt; Momentum](#15.-Advection---&gt;-Momentum)  \n", 
                "[16. Advection --&gt; Lateral Tracers](#16.-Advection---&gt;-Lateral-Tracers)  \n", 
                "[17. Advection --&gt; Vertical Tracers](#17.-Advection---&gt;-Vertical-Tracers)  \n", 
                "[18. Lateral Physics](#18.-Lateral-Physics)  \n", 
                "[19. Lateral Physics --&gt; Momentum --&gt; Operator](#19.-Lateral-Physics---&gt;-Momentum---&gt;-Operator)  \n", 
                "[20. Lateral Physics --&gt; Momentum --&gt; Eddy Viscosity Coeff](#20.-Lateral-Physics---&gt;-Momentum---&gt;-Eddy-Viscosity-Coeff)  \n", 
                "[21. Lateral Physics --&gt; Tracers](#21.-Lateral-Physics---&gt;-Tracers)  \n", 
                "[22. Lateral Physics --&gt; Tracers --&gt; Operator](#22.-Lateral-Physics---&gt;-Tracers---&gt;-Operator)  \n", 
                "[23. Lateral Physics --&gt; Tracers --&gt; Eddy Viscosity Coeff](#23.-Lateral-Physics---&gt;-Tracers---&gt;-Eddy-Viscosity-Coeff)  \n", 
                "[24. Lateral Physics --&gt; Tracers --&gt; Eddy Induced Velocity](#24.-Lateral-Physics---&gt;-Tracers---&gt;-Eddy-Induced-Velocity)  \n", 
                "[25. Vertical Physics --&gt; Boundary Layer Mixing --&gt; Details](#25.-Vertical-Physics---&gt;-Boundary-Layer-Mixing---&gt;-Details)  \n", 
                "[26. Vertical Physics --&gt; Boundary Layer Mixing --&gt; Tracers](#26.-Vertical-Physics---&gt;-Boundary-Layer-Mixing---&gt;-Tracers)  \n", 
                "[27. Vertical Physics --&gt; Boundary Layer Mixing --&gt; Momentum](#27.-Vertical-Physics---&gt;-Boundary-Layer-Mixing---&gt;-Momentum)  \n", 
                "[28. Vertical Physics --&gt; Interior Mixing --&gt; Details](#28.-Vertical-Physics---&gt;-Interior-Mixing---&gt;-Details)  \n", 
                "[29. Vertical Physics --&gt; Interior Mixing --&gt; Tracers](#29.-Vertical-Physics---&gt;-Interior-Mixing---&gt;-Tracers)  \n", 
                "[30. Vertical Physics --&gt; Interior Mixing --&gt; Momentum](#30.-Vertical-Physics---&gt;-Interior-Mixing---&gt;-Momentum)  \n", 
                "[31. Uplow Boundaries --&gt; Free Surface](#31.-Uplow-Boundaries---&gt;-Free-Surface)  \n", 
                "[32. Uplow Boundaries --&gt; Bottom Boundary Layer](#32.-Uplow-Boundaries---&gt;-Bottom-Boundary-Layer)  \n", 
                "[33. Boundary Forcing](#33.-Boundary-Forcing)  \n", 
                "[34. Boundary Forcing --&gt; Momentum --&gt; Bottom Friction](#34.-Boundary-Forcing---&gt;-Momentum---&gt;-Bottom-Friction)  \n", 
                "[35. Boundary Forcing --&gt; Momentum --&gt; Lateral Friction](#35.-Boundary-Forcing---&gt;-Momentum---&gt;-Lateral-Friction)  \n", 
                "[36. Boundary Forcing --&gt; Tracers --&gt; Sunlight Penetration](#36.-Boundary-Forcing---&gt;-Tracers---&gt;-Sunlight-Penetration)  \n", 
                "[37. Boundary Forcing --&gt; Tracers --&gt; Fresh Water Forcing](#37.-Boundary-Forcing---&gt;-Tracers---&gt;-Fresh-Water-Forcing)  \n", 
                "\n"
            ], 
            "cell_type": "markdown", 
            "metadata": {}
        }, 
        {
            "source": [
                "# 1. Grid --&gt; Discretisation --&gt; Vertical  \n", 
                "*Properties of vertical discretisation in ocean*"
            ], 
            "cell_type": "markdown", 
            "metadata": {}
        }, 
        {
            "source": [
                "### 1.1. Coordinates\n", 
                " *Type of vertical coordinates in ocean*\n", 
                "\n", 
                "**Is Required:** TRUE&nbsp;&nbsp;&nbsp;&nbsp;**Type:** ENUM&nbsp;&nbsp;&nbsp;&nbsp;**Cardinality:** 1.1"
            ], 
            "cell_type": "markdown", 
            "metadata": {}
        }, 
        {
            "execution_count": null, 
            "cell_type": "code", 
            "source": [
                "# PROPERTY ID - DO NOT EDIT !  \n", 
                "DOC.set_id('cmip6.ocean.grid.discretisation.vertical.coordinates')  \n", 
                "\n", 
                "# PROPERTY VALUE: \n", 
                "# Set as follows: DOC.set_value(\"value\")  \n", 
                "# Valid Choices: \n", 
                "#      \"Z-coordinate\"  \n", 
                "#      \"Z*-coordinate\"  \n", 
                "#      \"S-coordinate\"  \n", 
                "#      \"Isopycnic - sigma 0\"  \n", 
                "#      \"Isopycnic - sigma 2\"  \n", 
                "#      \"Isopycnic - sigma 4\"  \n", 
                "#      \"Isopycnic - other\"  \n", 
                "#      \"Hybrid / Z+S\"  \n", 
                "#      \"Hybrid / Z+isopycnic\"  \n", 
                "#      \"Hybrid / ALE\"  \n", 
                "#      \"Hybrid / other\"  \n", 
                "#      \"Pressure referenced (P)\"  \n", 
                "#      \"P*\"  \n", 
                "#      \"Z**\"  \n", 
                "#      \"Other: [Please specify]\"  \n", 
                "# TODO\n", 
                "\n", 
                "# PROPERTY QUALITY CONTROL STATUS:  \n", 
                "# 0=draft, 1=in-review, 2=reviewed  \n", 
                "DOC.set_qc_status(0)"
            ], 
            "outputs": [], 
            "metadata": {
                "collapsed": true
            }
        }, 
        {
            "source": [
                "### 1.2. Partial Steps\n", 
                " *Using partial steps with Z or Z* vertical coordinate in ocean ?*\n", 
                "\n", 
                "**Is Required:** TRUE&nbsp;&nbsp;&nbsp;&nbsp;**Type:** BOOLEAN&nbsp;&nbsp;&nbsp;&nbsp;**Cardinality:** 1.1"
            ], 
            "cell_type": "markdown", 
            "metadata": {}
        }, 
        {
            "execution_count": null, 
            "cell_type": "code", 
            "source": [
                "# PROPERTY ID - DO NOT EDIT !  \n", 
                "DOC.set_id('cmip6.ocean.grid.discretisation.vertical.partial_steps')  \n", 
                "\n", 
                "# PROPERTY VALUE: \n", 
                "# Set as follows: DOC.set_value(value)  \n", 
                "# Valid Choices: \n", 
                "#     True  \n", 
                "#     False  \n", 
                "# TODO\n", 
                "\n", 
                "# PROPERTY QUALITY CONTROL STATUS:  \n", 
                "# 0=draft, 1=in-review, 2=reviewed  \n", 
                "DOC.set_qc_status(0)"
            ], 
            "outputs": [], 
            "metadata": {
                "collapsed": true
            }
        }, 
        {
            "source": [
                "# 2. Grid --&gt; Discretisation --&gt; Horizontal  \n", 
                "*Type of horizontal discretisation scheme in ocean*"
            ], 
            "cell_type": "markdown", 
            "metadata": {}
        }, 
        {
            "source": [
                "### 2.1. Type\n", 
                " *Horizontal grid type*\n", 
                "\n", 
                "**Is Required:** TRUE&nbsp;&nbsp;&nbsp;&nbsp;**Type:** ENUM&nbsp;&nbsp;&nbsp;&nbsp;**Cardinality:** 1.1"
            ], 
            "cell_type": "markdown", 
            "metadata": {}
        }, 
        {
            "execution_count": null, 
            "cell_type": "code", 
            "source": [
                "# PROPERTY ID - DO NOT EDIT !  \n", 
                "DOC.set_id('cmip6.ocean.grid.discretisation.horizontal.type')  \n", 
                "\n", 
                "# PROPERTY VALUE: \n", 
                "# Set as follows: DOC.set_value(\"value\")  \n", 
                "# Valid Choices: \n", 
                "#      \"Lat-lon\"  \n", 
                "#      \"Rotated north pole\"  \n", 
                "#      \"Two north poles (ORCA-style)\"  \n", 
                "#      \"Other: [Please specify]\"  \n", 
                "# TODO\n", 
                "\n", 
                "# PROPERTY QUALITY CONTROL STATUS:  \n", 
                "# 0=draft, 1=in-review, 2=reviewed  \n", 
                "DOC.set_qc_status(0)"
            ], 
            "outputs": [], 
            "metadata": {
                "collapsed": true
            }
        }, 
        {
            "source": [
                "### 2.2. Scheme\n", 
                " *Horizontal discretisation scheme in ocean*\n", 
                "\n", 
                "**Is Required:** TRUE&nbsp;&nbsp;&nbsp;&nbsp;**Type:** ENUM&nbsp;&nbsp;&nbsp;&nbsp;**Cardinality:** 1.1"
            ], 
            "cell_type": "markdown", 
            "metadata": {}
        }, 
        {
            "execution_count": null, 
            "cell_type": "code", 
            "source": [
                "# PROPERTY ID - DO NOT EDIT !  \n", 
                "DOC.set_id('cmip6.ocean.grid.discretisation.horizontal.scheme')  \n", 
                "\n", 
                "# PROPERTY VALUE: \n", 
                "# Set as follows: DOC.set_value(\"value\")  \n", 
                "# Valid Choices: \n", 
                "#      \"Finite difference / Arakawa B-grid\"  \n", 
                "#      \"Finite difference / Arakawa C-grid\"  \n", 
                "#      \"Finite difference / Arakawa E-grid\"  \n", 
                "#      \"Finite volumes\"  \n", 
                "#      \"Finite elements\"  \n", 
                "#      \"Unstructured grid\"  \n", 
                "#      \"Other: [Please specify]\"  \n", 
                "# TODO\n", 
                "\n", 
                "# PROPERTY QUALITY CONTROL STATUS:  \n", 
                "# 0=draft, 1=in-review, 2=reviewed  \n", 
                "DOC.set_qc_status(0)"
            ], 
            "outputs": [], 
            "metadata": {
                "collapsed": true
            }
        }, 
        {
            "source": [
                "# 3. Key Properties  \n", 
                "*Ocean key properties*"
            ], 
            "cell_type": "markdown", 
            "metadata": {}
        }, 
        {
            "source": [
                "### 3.1. Model Name\n", 
                " *Name of ocean model code (NEMO 3.6, MOM 5.0,...)*\n", 
                "\n", 
                "**Is Required:** TRUE&nbsp;&nbsp;&nbsp;&nbsp;**Type:** STRING&nbsp;&nbsp;&nbsp;&nbsp;**Cardinality:** 1.1"
            ], 
            "cell_type": "markdown", 
            "metadata": {}
        }, 
        {
            "execution_count": null, 
            "cell_type": "code", 
            "source": [
                "# PROPERTY ID - DO NOT EDIT !  \n", 
                "DOC.set_id('cmip6.ocean.key_properties.model_name')  \n", 
                "\n", 
                "# PROPERTY VALUE: \n", 
                "# Set as follows: DOC.set_value(\"value\")  \n", 
                "# TODO\n", 
                "\n", 
                "# PROPERTY QUALITY CONTROL STATUS:  \n", 
                "# 0=draft, 1=in-review, 2=reviewed  \n", 
                "DOC.set_qc_status(0)"
            ], 
            "outputs": [], 
            "metadata": {
                "collapsed": true
            }
        }, 
        {
            "source": [
                "### 3.2. Model Family\n", 
                " *Type of ocean model.*\n", 
                "\n", 
                "**Is Required:** TRUE&nbsp;&nbsp;&nbsp;&nbsp;**Type:** ENUM&nbsp;&nbsp;&nbsp;&nbsp;**Cardinality:** 1.1"
            ], 
            "cell_type": "markdown", 
            "metadata": {}
        }, 
        {
            "execution_count": null, 
            "cell_type": "code", 
            "source": [
                "# PROPERTY ID - DO NOT EDIT !  \n", 
                "DOC.set_id('cmip6.ocean.key_properties.model_family')  \n", 
                "\n", 
                "# PROPERTY VALUE: \n", 
                "# Set as follows: DOC.set_value(\"value\")  \n", 
                "# Valid Choices: \n", 
                "#      \"OGCM\"  \n", 
                "#      \"slab ocean\"  \n", 
                "#      \"mixed layer ocean\"  \n", 
                "#      \"Other: [Please specify]\"  \n", 
                "# TODO\n", 
                "\n", 
                "# PROPERTY QUALITY CONTROL STATUS:  \n", 
                "# 0=draft, 1=in-review, 2=reviewed  \n", 
                "DOC.set_qc_status(0)"
            ], 
            "outputs": [], 
            "metadata": {
                "collapsed": true
            }
        }, 
        {
            "source": [
                "### 3.3. Basic Approximations\n", 
                " *Basic approximations made in the ocean.*\n", 
                "\n", 
                "**Is Required:** TRUE&nbsp;&nbsp;&nbsp;&nbsp;**Type:** ENUM&nbsp;&nbsp;&nbsp;&nbsp;**Cardinality:** 1.N"
            ], 
            "cell_type": "markdown", 
            "metadata": {}
        }, 
        {
            "execution_count": null, 
            "cell_type": "code", 
            "source": [
                "# PROPERTY ID - DO NOT EDIT !  \n", 
                "DOC.set_id('cmip6.ocean.key_properties.basic_approximations')  \n", 
                "\n", 
                "# PROPERTY VALUE(S): \n", 
                "# Set as follows: DOC.set_value(\"value\")  \n", 
                "# Valid Choices: \n", 
                "#      \"Primitive equations\"  \n", 
                "#      \"Non-hydrostatic\"  \n", 
                "#      \"Boussinesq\"  \n", 
                "#      \"Other: [Please specify]\"  \n", 
                "# TODO\n", 
                "\n", 
                "# PROPERTY QUALITY CONTROL STATUS:  \n", 
                "# 0=draft, 1=in-review, 2=reviewed  \n", 
                "DOC.set_qc_status(0)"
            ], 
            "outputs": [], 
            "metadata": {
                "collapsed": true
            }
        }, 
        {
            "source": [
                "### 3.4. Prognostic Variables\n", 
                " *List of prognostic variables in the ocean component.*\n", 
                "\n", 
                "**Is Required:** TRUE&nbsp;&nbsp;&nbsp;&nbsp;**Type:** ENUM&nbsp;&nbsp;&nbsp;&nbsp;**Cardinality:** 1.N"
            ], 
            "cell_type": "markdown", 
            "metadata": {}
        }, 
        {
            "execution_count": null, 
            "cell_type": "code", 
            "source": [
                "# PROPERTY ID - DO NOT EDIT !  \n", 
                "DOC.set_id('cmip6.ocean.key_properties.prognostic_variables')  \n", 
                "\n", 
                "# PROPERTY VALUE(S): \n", 
                "# Set as follows: DOC.set_value(\"value\")  \n", 
                "# Valid Choices: \n", 
                "#      \"Potential temperature\"  \n", 
                "#      \"Conservative temperature\"  \n", 
                "#      \"Salinity\"  \n", 
                "#      \"U-velocity\"  \n", 
                "#      \"V-velocity\"  \n", 
                "#      \"W-velocity\"  \n", 
                "#      \"SSH\"  \n", 
                "#      \"Other: [Please specify]\"  \n", 
                "# TODO\n", 
                "\n", 
                "# PROPERTY QUALITY CONTROL STATUS:  \n", 
                "# 0=draft, 1=in-review, 2=reviewed  \n", 
                "DOC.set_qc_status(0)"
            ], 
            "outputs": [], 
            "metadata": {
                "collapsed": true
            }
        }, 
        {
            "source": [
                "# 4. Key Properties --&gt; Seawater Properties  \n", 
                "*Physical properties of seawater in ocean*"
            ], 
            "cell_type": "markdown", 
            "metadata": {}
        }, 
        {
            "source": [
                "### 4.1. Eos Type\n", 
                " *Type of EOS for sea water*\n", 
                "\n", 
                "**Is Required:** TRUE&nbsp;&nbsp;&nbsp;&nbsp;**Type:** ENUM&nbsp;&nbsp;&nbsp;&nbsp;**Cardinality:** 1.1"
            ], 
            "cell_type": "markdown", 
            "metadata": {}
        }, 
        {
            "execution_count": null, 
            "cell_type": "code", 
            "source": [
                "# PROPERTY ID - DO NOT EDIT !  \n", 
                "DOC.set_id('cmip6.ocean.key_properties.seawater_properties.eos_type')  \n", 
                "\n", 
                "# PROPERTY VALUE: \n", 
                "# Set as follows: DOC.set_value(\"value\")  \n", 
                "# Valid Choices: \n", 
                "#      \"Linear\"  \n", 
                "#      \"Mc Dougall et al.\"  \n", 
                "#      \"Jackett et al. 2006\"  \n", 
                "#      \"TEOS 2010\"  \n", 
                "#      \"Other: [Please specify]\"  \n", 
                "# TODO\n", 
                "\n", 
                "# PROPERTY QUALITY CONTROL STATUS:  \n", 
                "# 0=draft, 1=in-review, 2=reviewed  \n", 
                "DOC.set_qc_status(0)"
            ], 
            "outputs": [], 
            "metadata": {
                "collapsed": true
            }
        }, 
        {
            "source": [
                "### 4.2. Eos Functional Temp\n", 
                " *Temperature used in EOS for sea water*\n", 
                "\n", 
                "**Is Required:** TRUE&nbsp;&nbsp;&nbsp;&nbsp;**Type:** ENUM&nbsp;&nbsp;&nbsp;&nbsp;**Cardinality:** 1.1"
            ], 
            "cell_type": "markdown", 
            "metadata": {}
        }, 
        {
            "execution_count": null, 
            "cell_type": "code", 
            "source": [
                "# PROPERTY ID - DO NOT EDIT !  \n", 
                "DOC.set_id('cmip6.ocean.key_properties.seawater_properties.eos_functional_temp')  \n", 
                "\n", 
                "# PROPERTY VALUE: \n", 
                "# Set as follows: DOC.set_value(\"value\")  \n", 
                "# Valid Choices: \n", 
                "#      \"Potential temperature\"  \n", 
                "#      \"Conservative temperature\"  \n", 
                "# TODO\n", 
                "\n", 
                "# PROPERTY QUALITY CONTROL STATUS:  \n", 
                "# 0=draft, 1=in-review, 2=reviewed  \n", 
                "DOC.set_qc_status(0)"
            ], 
            "outputs": [], 
            "metadata": {
                "collapsed": true
            }
        }, 
        {
            "source": [
                "### 4.3. Eos Functional Salt\n", 
                " *Salinity used in EOS for sea water*\n", 
                "\n", 
                "**Is Required:** TRUE&nbsp;&nbsp;&nbsp;&nbsp;**Type:** ENUM&nbsp;&nbsp;&nbsp;&nbsp;**Cardinality:** 1.1"
            ], 
            "cell_type": "markdown", 
            "metadata": {}
        }, 
        {
            "execution_count": null, 
            "cell_type": "code", 
            "source": [
                "# PROPERTY ID - DO NOT EDIT !  \n", 
                "DOC.set_id('cmip6.ocean.key_properties.seawater_properties.eos_functional_salt')  \n", 
                "\n", 
                "# PROPERTY VALUE: \n", 
                "# Set as follows: DOC.set_value(\"value\")  \n", 
                "# Valid Choices: \n", 
                "#      \"Practical salinity Sp\"  \n", 
                "#      \"Absolute salinity Sa\"  \n", 
                "# TODO\n", 
                "\n", 
                "# PROPERTY QUALITY CONTROL STATUS:  \n", 
                "# 0=draft, 1=in-review, 2=reviewed  \n", 
                "DOC.set_qc_status(0)"
            ], 
            "outputs": [], 
            "metadata": {
                "collapsed": true
            }
        }, 
        {
            "source": [
                "### 4.4. Eos Functional Depth\n", 
                " *Depth or pressure used in EOS for sea water ?*\n", 
                "\n", 
                "**Is Required:** TRUE&nbsp;&nbsp;&nbsp;&nbsp;**Type:** ENUM&nbsp;&nbsp;&nbsp;&nbsp;**Cardinality:** 1.1"
            ], 
            "cell_type": "markdown", 
            "metadata": {}
        }, 
        {
            "execution_count": null, 
            "cell_type": "code", 
            "source": [
                "# PROPERTY ID - DO NOT EDIT !  \n", 
                "DOC.set_id('cmip6.ocean.key_properties.seawater_properties.eos_functional_depth')  \n", 
                "\n", 
                "# PROPERTY VALUE: \n", 
                "# Set as follows: DOC.set_value(\"value\")  \n", 
                "# Valid Choices: \n", 
                "#      \"Pressure (dbars)\"  \n", 
                "#      \"Depth (meters)\"  \n", 
                "# TODO\n", 
                "\n", 
                "# PROPERTY QUALITY CONTROL STATUS:  \n", 
                "# 0=draft, 1=in-review, 2=reviewed  \n", 
                "DOC.set_qc_status(0)"
            ], 
            "outputs": [], 
            "metadata": {
                "collapsed": true
            }
        }, 
        {
            "source": [
                "### 4.5. Ocean Freezing Point\n", 
                " *Equation used to compute the freezing point (in deg C) of seawater, as a function of salinity and pressure*\n", 
                "\n", 
                "**Is Required:** TRUE&nbsp;&nbsp;&nbsp;&nbsp;**Type:** ENUM&nbsp;&nbsp;&nbsp;&nbsp;**Cardinality:** 1.1"
            ], 
            "cell_type": "markdown", 
            "metadata": {}
        }, 
        {
            "execution_count": null, 
            "cell_type": "code", 
            "source": [
                "# PROPERTY ID - DO NOT EDIT !  \n", 
                "DOC.set_id('cmip6.ocean.key_properties.seawater_properties.ocean_freezing_point')  \n", 
                "\n", 
                "# PROPERTY VALUE: \n", 
                "# Set as follows: DOC.set_value(\"value\")  \n", 
                "# Valid Choices: \n", 
                "#      \"TEOS 2010\"  \n", 
                "#      \"Other: [Please specify]\"  \n", 
                "# TODO\n", 
                "\n", 
                "# PROPERTY QUALITY CONTROL STATUS:  \n", 
                "# 0=draft, 1=in-review, 2=reviewed  \n", 
                "DOC.set_qc_status(0)"
            ], 
            "outputs": [], 
            "metadata": {
                "collapsed": true
            }
        }, 
        {
            "source": [
                "### 4.6. Ocean Specific Heat\n", 
                " *Specific heat in ocean (cpocean) in J/(kg K)*\n", 
                "\n", 
                "**Is Required:** TRUE&nbsp;&nbsp;&nbsp;&nbsp;**Type:** FLOAT&nbsp;&nbsp;&nbsp;&nbsp;**Cardinality:** 1.1"
            ], 
            "cell_type": "markdown", 
            "metadata": {}
        }, 
        {
            "execution_count": null, 
            "cell_type": "code", 
            "source": [
                "# PROPERTY ID - DO NOT EDIT !  \n", 
                "DOC.set_id('cmip6.ocean.key_properties.seawater_properties.ocean_specific_heat')  \n", 
                "\n", 
                "# PROPERTY VALUE: \n", 
                "# Set as follows: DOC.set_value(value)  \n", 
                "# TODO\n", 
                "\n", 
                "# PROPERTY QUALITY CONTROL STATUS:  \n", 
                "# 0=draft, 1=in-review, 2=reviewed  \n", 
                "DOC.set_qc_status(0)"
            ], 
            "outputs": [], 
            "metadata": {
                "collapsed": true
            }
        }, 
        {
            "source": [
                "### 4.7. Ocean Reference Density\n", 
                " *Boussinesq reference density (rhozero) in kg / m3*\n", 
                "\n", 
                "**Is Required:** TRUE&nbsp;&nbsp;&nbsp;&nbsp;**Type:** FLOAT&nbsp;&nbsp;&nbsp;&nbsp;**Cardinality:** 1.1"
            ], 
            "cell_type": "markdown", 
            "metadata": {}
        }, 
        {
            "execution_count": null, 
            "cell_type": "code", 
            "source": [
                "# PROPERTY ID - DO NOT EDIT !  \n", 
                "DOC.set_id('cmip6.ocean.key_properties.seawater_properties.ocean_reference_density')  \n", 
                "\n", 
                "# PROPERTY VALUE: \n", 
                "# Set as follows: DOC.set_value(value)  \n", 
                "# TODO\n", 
                "\n", 
                "# PROPERTY QUALITY CONTROL STATUS:  \n", 
                "# 0=draft, 1=in-review, 2=reviewed  \n", 
                "DOC.set_qc_status(0)"
            ], 
            "outputs": [], 
            "metadata": {
                "collapsed": true
            }
        }, 
        {
            "source": [
                "# 5. Key Properties --&gt; Bathymetry  \n", 
                "*Properties of bathymetry in ocean*"
            ], 
            "cell_type": "markdown", 
            "metadata": {}
        }, 
        {
            "source": [
                "### 5.1. Reference Dates\n", 
                " *Reference date of bathymetry*\n", 
                "\n", 
                "**Is Required:** TRUE&nbsp;&nbsp;&nbsp;&nbsp;**Type:** ENUM&nbsp;&nbsp;&nbsp;&nbsp;**Cardinality:** 1.1"
            ], 
            "cell_type": "markdown", 
            "metadata": {}
        }, 
        {
            "execution_count": null, 
            "cell_type": "code", 
            "source": [
                "# PROPERTY ID - DO NOT EDIT !  \n", 
                "DOC.set_id('cmip6.ocean.key_properties.bathymetry.reference_dates')  \n", 
                "\n", 
                "# PROPERTY VALUE: \n", 
                "# Set as follows: DOC.set_value(\"value\")  \n", 
                "# Valid Choices: \n", 
                "#      \"Present day\"  \n", 
                "#      \"21000 years BP\"  \n", 
                "#      \"6000 years BP\"  \n", 
                "#      \"LGM\"  \n", 
                "#      \"Pliocene\"  \n", 
                "#      \"Other: [Please specify]\"  \n", 
                "# TODO\n", 
                "\n", 
                "# PROPERTY QUALITY CONTROL STATUS:  \n", 
                "# 0=draft, 1=in-review, 2=reviewed  \n", 
                "DOC.set_qc_status(0)"
            ], 
            "outputs": [], 
            "metadata": {
                "collapsed": true
            }
        }, 
        {
            "source": [
                "### 5.2. Type\n", 
                " *Is the bathymetry fixed in time in the ocean ?*\n", 
                "\n", 
                "**Is Required:** TRUE&nbsp;&nbsp;&nbsp;&nbsp;**Type:** BOOLEAN&nbsp;&nbsp;&nbsp;&nbsp;**Cardinality:** 1.1"
            ], 
            "cell_type": "markdown", 
            "metadata": {}
        }, 
        {
            "execution_count": null, 
            "cell_type": "code", 
            "source": [
                "# PROPERTY ID - DO NOT EDIT !  \n", 
                "DOC.set_id('cmip6.ocean.key_properties.bathymetry.type')  \n", 
                "\n", 
                "# PROPERTY VALUE: \n", 
                "# Set as follows: DOC.set_value(value)  \n", 
                "# Valid Choices: \n", 
                "#     True  \n", 
                "#     False  \n", 
                "# TODO\n", 
                "\n", 
                "# PROPERTY QUALITY CONTROL STATUS:  \n", 
                "# 0=draft, 1=in-review, 2=reviewed  \n", 
                "DOC.set_qc_status(0)"
            ], 
            "outputs": [], 
            "metadata": {
                "collapsed": true
            }
        }, 
        {
            "source": [
                "### 5.3. Ocean Smoothing\n", 
                " *Describe any smoothing or hand editing of bathymetry in ocean*\n", 
                "\n", 
                "**Is Required:** TRUE&nbsp;&nbsp;&nbsp;&nbsp;**Type:** STRING&nbsp;&nbsp;&nbsp;&nbsp;**Cardinality:** 1.1"
            ], 
            "cell_type": "markdown", 
            "metadata": {}
        }, 
        {
            "execution_count": null, 
            "cell_type": "code", 
            "source": [
                "# PROPERTY ID - DO NOT EDIT !  \n", 
                "DOC.set_id('cmip6.ocean.key_properties.bathymetry.ocean_smoothing')  \n", 
                "\n", 
                "# PROPERTY VALUE: \n", 
                "# Set as follows: DOC.set_value(\"value\")  \n", 
                "# TODO\n", 
                "\n", 
                "# PROPERTY QUALITY CONTROL STATUS:  \n", 
                "# 0=draft, 1=in-review, 2=reviewed  \n", 
                "DOC.set_qc_status(0)"
            ], 
            "outputs": [], 
            "metadata": {
                "collapsed": true
            }
        }, 
        {
            "source": [
                "### 5.4. Source\n", 
                " *Describe source of bathymetry in ocean*\n", 
                "\n", 
                "**Is Required:** TRUE&nbsp;&nbsp;&nbsp;&nbsp;**Type:** STRING&nbsp;&nbsp;&nbsp;&nbsp;**Cardinality:** 1.1"
            ], 
            "cell_type": "markdown", 
            "metadata": {}
        }, 
        {
            "execution_count": null, 
            "cell_type": "code", 
            "source": [
                "# PROPERTY ID - DO NOT EDIT !  \n", 
                "DOC.set_id('cmip6.ocean.key_properties.bathymetry.source')  \n", 
                "\n", 
                "# PROPERTY VALUE: \n", 
                "# Set as follows: DOC.set_value(\"value\")  \n", 
                "# TODO\n", 
                "\n", 
                "# PROPERTY QUALITY CONTROL STATUS:  \n", 
                "# 0=draft, 1=in-review, 2=reviewed  \n", 
                "DOC.set_qc_status(0)"
            ], 
            "outputs": [], 
            "metadata": {
                "collapsed": true
            }
        }, 
        {
            "source": [
                "# 6. Key Properties --&gt; Nonoceanic Waters  \n", 
                "*Non oceanic waters treatement in ocean*"
            ], 
            "cell_type": "markdown", 
            "metadata": {}
        }, 
        {
            "source": [
                "### 6.1. Isolated Seas\n", 
                " *Describe if/how isolated seas is performed*\n", 
                "\n", 
                "**Is Required:** FALSE&nbsp;&nbsp;&nbsp;&nbsp;**Type:** STRING&nbsp;&nbsp;&nbsp;&nbsp;**Cardinality:** 0.1"
            ], 
            "cell_type": "markdown", 
            "metadata": {}
        }, 
        {
            "execution_count": null, 
            "cell_type": "code", 
            "source": [
                "# PROPERTY ID - DO NOT EDIT !  \n", 
                "DOC.set_id('cmip6.ocean.key_properties.nonoceanic_waters.isolated_seas')  \n", 
                "\n", 
                "# PROPERTY VALUE: \n", 
                "# Set as follows: DOC.set_value(\"value\")  \n", 
                "# TODO\n", 
                "\n", 
                "# PROPERTY QUALITY CONTROL STATUS:  \n", 
                "# 0=draft, 1=in-review, 2=reviewed  \n", 
                "DOC.set_qc_status(0)"
            ], 
            "outputs": [], 
            "metadata": {
                "collapsed": true
            }
        }, 
        {
            "source": [
                "### 6.2. River Mouth\n", 
                " *Describe if/how river mouth mixing or estuaries specific treatment is performed*\n", 
                "\n", 
                "**Is Required:** FALSE&nbsp;&nbsp;&nbsp;&nbsp;**Type:** STRING&nbsp;&nbsp;&nbsp;&nbsp;**Cardinality:** 0.1"
            ], 
            "cell_type": "markdown", 
            "metadata": {}
        }, 
        {
            "execution_count": null, 
            "cell_type": "code", 
            "source": [
                "# PROPERTY ID - DO NOT EDIT !  \n", 
                "DOC.set_id('cmip6.ocean.key_properties.nonoceanic_waters.river_mouth')  \n", 
                "\n", 
                "# PROPERTY VALUE: \n", 
                "# Set as follows: DOC.set_value(\"value\")  \n", 
                "# TODO\n", 
                "\n", 
                "# PROPERTY QUALITY CONTROL STATUS:  \n", 
                "# 0=draft, 1=in-review, 2=reviewed  \n", 
                "DOC.set_qc_status(0)"
            ], 
            "outputs": [], 
            "metadata": {
                "collapsed": true
            }
        }, 
        {
            "source": [
                "# 7. Key Properties --&gt; Software Properties  \n", 
                "*Software properties of ocean code*"
            ], 
            "cell_type": "markdown", 
            "metadata": {}
        }, 
        {
            "source": [
                "### 7.1. Repository\n", 
                " *Location of code for this component.*\n", 
                "\n", 
                "**Is Required:** FALSE&nbsp;&nbsp;&nbsp;&nbsp;**Type:** STRING&nbsp;&nbsp;&nbsp;&nbsp;**Cardinality:** 0.1"
            ], 
            "cell_type": "markdown", 
            "metadata": {}
        }, 
        {
            "execution_count": null, 
            "cell_type": "code", 
            "source": [
                "# PROPERTY ID - DO NOT EDIT !  \n", 
                "DOC.set_id('cmip6.ocean.key_properties.software_properties.repository')  \n", 
                "\n", 
                "# PROPERTY VALUE: \n", 
                "# Set as follows: DOC.set_value(\"value\")  \n", 
                "# TODO\n", 
                "\n", 
                "# PROPERTY QUALITY CONTROL STATUS:  \n", 
                "# 0=draft, 1=in-review, 2=reviewed  \n", 
                "DOC.set_qc_status(0)"
            ], 
            "outputs": [], 
            "metadata": {
                "collapsed": true
            }
        }, 
        {
            "source": [
                "### 7.2. Code Version\n", 
                " *Code version identifier.*\n", 
                "\n", 
                "**Is Required:** FALSE&nbsp;&nbsp;&nbsp;&nbsp;**Type:** STRING&nbsp;&nbsp;&nbsp;&nbsp;**Cardinality:** 0.1"
            ], 
            "cell_type": "markdown", 
            "metadata": {}
        }, 
        {
            "execution_count": null, 
            "cell_type": "code", 
            "source": [
                "# PROPERTY ID - DO NOT EDIT !  \n", 
                "DOC.set_id('cmip6.ocean.key_properties.software_properties.code_version')  \n", 
                "\n", 
                "# PROPERTY VALUE: \n", 
                "# Set as follows: DOC.set_value(\"value\")  \n", 
                "# TODO\n", 
                "\n", 
                "# PROPERTY QUALITY CONTROL STATUS:  \n", 
                "# 0=draft, 1=in-review, 2=reviewed  \n", 
                "DOC.set_qc_status(0)"
            ], 
            "outputs": [], 
            "metadata": {
                "collapsed": true
            }
        }, 
        {
            "source": [
                "### 7.3. Code Languages\n", 
                " *Code language(s).*\n", 
                "\n", 
                "**Is Required:** FALSE&nbsp;&nbsp;&nbsp;&nbsp;**Type:** STRING&nbsp;&nbsp;&nbsp;&nbsp;**Cardinality:** 0.N"
            ], 
            "cell_type": "markdown", 
            "metadata": {}
        }, 
        {
            "execution_count": null, 
            "cell_type": "code", 
            "source": [
                "# PROPERTY ID - DO NOT EDIT !  \n", 
                "DOC.set_id('cmip6.ocean.key_properties.software_properties.code_languages')  \n", 
                "\n", 
                "# PROPERTY VALUE(S): \n", 
                "# Set as follows: DOC.set_value(\"value\")  \n", 
                "# TODO\n", 
                "\n", 
                "# PROPERTY QUALITY CONTROL STATUS:  \n", 
                "# 0=draft, 1=in-review, 2=reviewed  \n", 
                "DOC.set_qc_status(0)"
            ], 
            "outputs": [], 
            "metadata": {
                "collapsed": true
            }
        }, 
        {
            "source": [
                "# 8. Key Properties --&gt; Resolution  \n", 
                "*Resolution in the ocean grid*"
            ], 
            "cell_type": "markdown", 
            "metadata": {}
        }, 
        {
            "source": [
                "### 8.1. Name\n", 
                " *This is a string usually used by the modelling group to describe the resolution of this grid, e.g. ORCA025, N512L180, T512L70 etc.*\n", 
                "\n", 
                "**Is Required:** TRUE&nbsp;&nbsp;&nbsp;&nbsp;**Type:** STRING&nbsp;&nbsp;&nbsp;&nbsp;**Cardinality:** 1.1"
            ], 
            "cell_type": "markdown", 
            "metadata": {}
        }, 
        {
            "execution_count": null, 
            "cell_type": "code", 
            "source": [
                "# PROPERTY ID - DO NOT EDIT !  \n", 
                "DOC.set_id('cmip6.ocean.key_properties.resolution.name')  \n", 
                "\n", 
                "# PROPERTY VALUE: \n", 
                "# Set as follows: DOC.set_value(\"value\")  \n", 
                "# TODO\n", 
                "\n", 
                "# PROPERTY QUALITY CONTROL STATUS:  \n", 
                "# 0=draft, 1=in-review, 2=reviewed  \n", 
                "DOC.set_qc_status(0)"
            ], 
            "outputs": [], 
            "metadata": {
                "collapsed": true
            }
        }, 
        {
            "source": [
                "### 8.2. Canonical Horizontal Resolution\n", 
                " *Expression quoted for gross comparisons of resolution, eg. 50km or 0.1 degrees etc.*\n", 
                "\n", 
                "**Is Required:** FALSE&nbsp;&nbsp;&nbsp;&nbsp;**Type:** STRING&nbsp;&nbsp;&nbsp;&nbsp;**Cardinality:** 0.1"
            ], 
            "cell_type": "markdown", 
            "metadata": {}
        }, 
        {
            "execution_count": null, 
            "cell_type": "code", 
            "source": [
                "# PROPERTY ID - DO NOT EDIT !  \n", 
                "DOC.set_id('cmip6.ocean.key_properties.resolution.canonical_horizontal_resolution')  \n", 
                "\n", 
                "# PROPERTY VALUE: \n", 
                "# Set as follows: DOC.set_value(\"value\")  \n", 
                "# TODO\n", 
                "\n", 
                "# PROPERTY QUALITY CONTROL STATUS:  \n", 
                "# 0=draft, 1=in-review, 2=reviewed  \n", 
                "DOC.set_qc_status(0)"
            ], 
            "outputs": [], 
            "metadata": {
                "collapsed": true
            }
        }, 
        {
            "source": [
                "### 8.3. Number Of Horizontal Gridpoints\n", 
                " *Total number of horizontal (XY) points (or degrees of freedom) on computational grid.*\n", 
                "\n", 
                "**Is Required:** FALSE&nbsp;&nbsp;&nbsp;&nbsp;**Type:** INTEGER&nbsp;&nbsp;&nbsp;&nbsp;**Cardinality:** 0.1"
            ], 
            "cell_type": "markdown", 
            "metadata": {}
        }, 
        {
            "execution_count": null, 
            "cell_type": "code", 
            "source": [
                "# PROPERTY ID - DO NOT EDIT !  \n", 
                "DOC.set_id('cmip6.ocean.key_properties.resolution.number_of_horizontal_gridpoints')  \n", 
                "\n", 
                "# PROPERTY VALUE: \n", 
                "# Set as follows: DOC.set_value(value)  \n", 
                "# TODO\n", 
                "\n", 
                "# PROPERTY QUALITY CONTROL STATUS:  \n", 
                "# 0=draft, 1=in-review, 2=reviewed  \n", 
                "DOC.set_qc_status(0)"
            ], 
            "outputs": [], 
            "metadata": {
                "collapsed": true
            }
        }, 
        {
            "source": [
                "### 8.4. Number Of Vertical Levels\n", 
                " *Number of vertical levels resolved on computational grid.*\n", 
                "\n", 
                "**Is Required:** FALSE&nbsp;&nbsp;&nbsp;&nbsp;**Type:** INTEGER&nbsp;&nbsp;&nbsp;&nbsp;**Cardinality:** 0.1"
            ], 
            "cell_type": "markdown", 
            "metadata": {}
        }, 
        {
            "execution_count": null, 
            "cell_type": "code", 
            "source": [
                "# PROPERTY ID - DO NOT EDIT !  \n", 
                "DOC.set_id('cmip6.ocean.key_properties.resolution.number_of_vertical_levels')  \n", 
                "\n", 
                "# PROPERTY VALUE: \n", 
                "# Set as follows: DOC.set_value(value)  \n", 
                "# TODO\n", 
                "\n", 
                "# PROPERTY QUALITY CONTROL STATUS:  \n", 
                "# 0=draft, 1=in-review, 2=reviewed  \n", 
                "DOC.set_qc_status(0)"
            ], 
            "outputs": [], 
            "metadata": {
                "collapsed": true
            }
        }, 
        {
            "source": [
                "### 8.5. Is Adaptive Grid\n", 
                " *Default is False. Set true if grid resolution changes during execution.*\n", 
                "\n", 
                "**Is Required:** FALSE&nbsp;&nbsp;&nbsp;&nbsp;**Type:** BOOLEAN&nbsp;&nbsp;&nbsp;&nbsp;**Cardinality:** 0.1"
            ], 
            "cell_type": "markdown", 
            "metadata": {}
        }, 
        {
            "execution_count": null, 
            "cell_type": "code", 
            "source": [
                "# PROPERTY ID - DO NOT EDIT !  \n", 
                "DOC.set_id('cmip6.ocean.key_properties.resolution.is_adaptive_grid')  \n", 
                "\n", 
                "# PROPERTY VALUE: \n", 
                "# Set as follows: DOC.set_value(value)  \n", 
                "# Valid Choices: \n", 
                "#     True  \n", 
                "#     False  \n", 
                "# TODO\n", 
                "\n", 
                "# PROPERTY QUALITY CONTROL STATUS:  \n", 
                "# 0=draft, 1=in-review, 2=reviewed  \n", 
                "DOC.set_qc_status(0)"
            ], 
            "outputs": [], 
            "metadata": {
                "collapsed": true
            }
        }, 
        {
            "source": [
                "### 8.6. Thickness Level 1\n", 
                " *Thickness of first surface ocean level (in meters)*\n", 
                "\n", 
                "**Is Required:** TRUE&nbsp;&nbsp;&nbsp;&nbsp;**Type:** FLOAT&nbsp;&nbsp;&nbsp;&nbsp;**Cardinality:** 1.1"
            ], 
            "cell_type": "markdown", 
            "metadata": {}
        }, 
        {
            "execution_count": null, 
            "cell_type": "code", 
            "source": [
                "# PROPERTY ID - DO NOT EDIT !  \n", 
                "DOC.set_id('cmip6.ocean.key_properties.resolution.thickness_level_1')  \n", 
                "\n", 
                "# PROPERTY VALUE: \n", 
                "# Set as follows: DOC.set_value(value)  \n", 
                "# TODO\n", 
                "\n", 
                "# PROPERTY QUALITY CONTROL STATUS:  \n", 
                "# 0=draft, 1=in-review, 2=reviewed  \n", 
                "DOC.set_qc_status(0)"
            ], 
            "outputs": [], 
            "metadata": {
                "collapsed": true
            }
        }, 
        {
            "source": [
                "# 9. Key Properties --&gt; Tuning Applied  \n", 
                "*Tuning methodology for ocean component*"
            ], 
            "cell_type": "markdown", 
            "metadata": {}
        }, 
        {
            "source": [
                "### 9.1. Description\n", 
                " *General overview description of tuning: explain and motivate the main targets and metrics retained. &amp;Document the relative weight given to climate performance metrics versus process oriented metrics, &amp;and on the possible conflicts with parameterization level tuning. In particular describe any struggle &amp;with a parameter value that required pushing it to its limits to solve a particular model deficiency.*\n", 
                "\n", 
                "**Is Required:** TRUE&nbsp;&nbsp;&nbsp;&nbsp;**Type:** STRING&nbsp;&nbsp;&nbsp;&nbsp;**Cardinality:** 1.1"
            ], 
            "cell_type": "markdown", 
            "metadata": {}
        }, 
        {
            "execution_count": null, 
            "cell_type": "code", 
            "source": [
                "# PROPERTY ID - DO NOT EDIT !  \n", 
                "DOC.set_id('cmip6.ocean.key_properties.tuning_applied.description')  \n", 
                "\n", 
                "# PROPERTY VALUE: \n", 
                "# Set as follows: DOC.set_value(\"value\")  \n", 
                "# TODO\n", 
                "\n", 
                "# PROPERTY QUALITY CONTROL STATUS:  \n", 
                "# 0=draft, 1=in-review, 2=reviewed  \n", 
                "DOC.set_qc_status(0)"
            ], 
            "outputs": [], 
            "metadata": {
                "collapsed": true
            }
        }, 
        {
            "source": [
                "### 9.2. Global Mean Metrics Used\n", 
                " *List set of metrics of the global mean state used in tuning model/component*\n", 
                "\n", 
                "**Is Required:** FALSE&nbsp;&nbsp;&nbsp;&nbsp;**Type:** STRING&nbsp;&nbsp;&nbsp;&nbsp;**Cardinality:** 0.N"
            ], 
            "cell_type": "markdown", 
            "metadata": {}
        }, 
        {
            "execution_count": null, 
            "cell_type": "code", 
            "source": [
                "# PROPERTY ID - DO NOT EDIT !  \n", 
                "DOC.set_id('cmip6.ocean.key_properties.tuning_applied.global_mean_metrics_used')  \n", 
                "\n", 
                "# PROPERTY VALUE(S): \n", 
                "# Set as follows: DOC.set_value(\"value\")  \n", 
                "# TODO\n", 
                "\n", 
                "# PROPERTY QUALITY CONTROL STATUS:  \n", 
                "# 0=draft, 1=in-review, 2=reviewed  \n", 
                "DOC.set_qc_status(0)"
            ], 
            "outputs": [], 
            "metadata": {
                "collapsed": true
            }
        }, 
        {
            "source": [
                "### 9.3. Regional Metrics Used\n", 
                " *List of regional metrics of mean state (e.g THC, AABW, regional means etc) used in tuning model/component*\n", 
                "\n", 
                "**Is Required:** FALSE&nbsp;&nbsp;&nbsp;&nbsp;**Type:** STRING&nbsp;&nbsp;&nbsp;&nbsp;**Cardinality:** 0.N"
            ], 
            "cell_type": "markdown", 
            "metadata": {}
        }, 
        {
            "execution_count": null, 
            "cell_type": "code", 
            "source": [
                "# PROPERTY ID - DO NOT EDIT !  \n", 
                "DOC.set_id('cmip6.ocean.key_properties.tuning_applied.regional_metrics_used')  \n", 
                "\n", 
                "# PROPERTY VALUE(S): \n", 
                "# Set as follows: DOC.set_value(\"value\")  \n", 
                "# TODO\n", 
                "\n", 
                "# PROPERTY QUALITY CONTROL STATUS:  \n", 
                "# 0=draft, 1=in-review, 2=reviewed  \n", 
                "DOC.set_qc_status(0)"
            ], 
            "outputs": [], 
            "metadata": {
                "collapsed": true
            }
        }, 
        {
            "source": [
                "### 9.4. Trend Metrics Used\n", 
                " *List observed trend metrics used in tuning model/component*\n", 
                "\n", 
                "**Is Required:** FALSE&nbsp;&nbsp;&nbsp;&nbsp;**Type:** STRING&nbsp;&nbsp;&nbsp;&nbsp;**Cardinality:** 0.N"
            ], 
            "cell_type": "markdown", 
            "metadata": {}
        }, 
        {
            "execution_count": null, 
            "cell_type": "code", 
            "source": [
                "# PROPERTY ID - DO NOT EDIT !  \n", 
                "DOC.set_id('cmip6.ocean.key_properties.tuning_applied.trend_metrics_used')  \n", 
                "\n", 
                "# PROPERTY VALUE(S): \n", 
                "# Set as follows: DOC.set_value(\"value\")  \n", 
                "# TODO\n", 
                "\n", 
                "# PROPERTY QUALITY CONTROL STATUS:  \n", 
                "# 0=draft, 1=in-review, 2=reviewed  \n", 
                "DOC.set_qc_status(0)"
            ], 
            "outputs": [], 
            "metadata": {
                "collapsed": true
            }
        }, 
        {
            "source": [
                "# 10. Key Properties --&gt; Conservation  \n", 
                "*Conservation in the ocean component*"
            ], 
            "cell_type": "markdown", 
            "metadata": {}
        }, 
        {
            "source": [
                "### 10.1. Description\n", 
                " *Brief description of conservation methodology*\n", 
                "\n", 
                "**Is Required:** TRUE&nbsp;&nbsp;&nbsp;&nbsp;**Type:** STRING&nbsp;&nbsp;&nbsp;&nbsp;**Cardinality:** 1.1"
            ], 
            "cell_type": "markdown", 
            "metadata": {}
        }, 
        {
            "execution_count": null, 
            "cell_type": "code", 
            "source": [
                "# PROPERTY ID - DO NOT EDIT !  \n", 
                "DOC.set_id('cmip6.ocean.key_properties.conservation.description')  \n", 
                "\n", 
                "# PROPERTY VALUE: \n", 
                "# Set as follows: DOC.set_value(\"value\")  \n", 
                "# TODO\n", 
                "\n", 
                "# PROPERTY QUALITY CONTROL STATUS:  \n", 
                "# 0=draft, 1=in-review, 2=reviewed  \n", 
                "DOC.set_qc_status(0)"
            ], 
            "outputs": [], 
            "metadata": {
                "collapsed": true
            }
        }, 
        {
            "source": [
                "### 10.2. Scheme\n", 
                " *Properties conserved in the ocean by the numerical schemes*\n", 
                "\n", 
                "**Is Required:** TRUE&nbsp;&nbsp;&nbsp;&nbsp;**Type:** ENUM&nbsp;&nbsp;&nbsp;&nbsp;**Cardinality:** 1.N"
            ], 
            "cell_type": "markdown", 
            "metadata": {}
        }, 
        {
            "execution_count": null, 
            "cell_type": "code", 
            "source": [
                "# PROPERTY ID - DO NOT EDIT !  \n", 
                "DOC.set_id('cmip6.ocean.key_properties.conservation.scheme')  \n", 
                "\n", 
                "# PROPERTY VALUE(S): \n", 
                "# Set as follows: DOC.set_value(\"value\")  \n", 
                "# Valid Choices: \n", 
                "#      \"Energy\"  \n", 
                "#      \"Enstrophy\"  \n", 
                "#      \"Salt\"  \n", 
                "#      \"Volume of ocean\"  \n", 
                "#      \"Momentum\"  \n", 
                "#      \"Other: [Please specify]\"  \n", 
                "# TODO\n", 
                "\n", 
                "# PROPERTY QUALITY CONTROL STATUS:  \n", 
                "# 0=draft, 1=in-review, 2=reviewed  \n", 
                "DOC.set_qc_status(0)"
            ], 
            "outputs": [], 
            "metadata": {
                "collapsed": true
            }
        }, 
        {
            "source": [
                "### 10.3. Consistency Properties\n", 
                " *Any additional consistency properties (energy conversion, pressure gradient discretisation, ...)?*\n", 
                "\n", 
                "**Is Required:** FALSE&nbsp;&nbsp;&nbsp;&nbsp;**Type:** STRING&nbsp;&nbsp;&nbsp;&nbsp;**Cardinality:** 0.1"
            ], 
            "cell_type": "markdown", 
            "metadata": {}
        }, 
        {
            "execution_count": null, 
            "cell_type": "code", 
            "source": [
                "# PROPERTY ID - DO NOT EDIT !  \n", 
                "DOC.set_id('cmip6.ocean.key_properties.conservation.consistency_properties')  \n", 
                "\n", 
                "# PROPERTY VALUE: \n", 
                "# Set as follows: DOC.set_value(\"value\")  \n", 
                "# TODO\n", 
                "\n", 
                "# PROPERTY QUALITY CONTROL STATUS:  \n", 
                "# 0=draft, 1=in-review, 2=reviewed  \n", 
                "DOC.set_qc_status(0)"
            ], 
            "outputs": [], 
            "metadata": {
                "collapsed": true
            }
        }, 
        {
            "source": [
                "### 10.4. Corrected Conserved Prognostic Variables\n", 
                " *Set of variables which are conserved by *more* than the numerical scheme alone.*\n", 
                "\n", 
                "**Is Required:** FALSE&nbsp;&nbsp;&nbsp;&nbsp;**Type:** STRING&nbsp;&nbsp;&nbsp;&nbsp;**Cardinality:** 0.1"
            ], 
            "cell_type": "markdown", 
            "metadata": {}
        }, 
        {
            "execution_count": null, 
            "cell_type": "code", 
            "source": [
                "# PROPERTY ID - DO NOT EDIT !  \n", 
                "DOC.set_id('cmip6.ocean.key_properties.conservation.corrected_conserved_prognostic_variables')  \n", 
                "\n", 
                "# PROPERTY VALUE: \n", 
                "# Set as follows: DOC.set_value(\"value\")  \n", 
                "# TODO\n", 
                "\n", 
                "# PROPERTY QUALITY CONTROL STATUS:  \n", 
                "# 0=draft, 1=in-review, 2=reviewed  \n", 
                "DOC.set_qc_status(0)"
            ], 
            "outputs": [], 
            "metadata": {
                "collapsed": true
            }
        }, 
        {
            "source": [
                "### 10.5. Was Flux Correction Used\n", 
                " *Does conservation involved flux correction ?*\n", 
                "\n", 
                "**Is Required:** FALSE&nbsp;&nbsp;&nbsp;&nbsp;**Type:** BOOLEAN&nbsp;&nbsp;&nbsp;&nbsp;**Cardinality:** 0.1"
            ], 
            "cell_type": "markdown", 
            "metadata": {}
        }, 
        {
            "execution_count": null, 
            "cell_type": "code", 
            "source": [
                "# PROPERTY ID - DO NOT EDIT !  \n", 
                "DOC.set_id('cmip6.ocean.key_properties.conservation.was_flux_correction_used')  \n", 
                "\n", 
                "# PROPERTY VALUE: \n", 
                "# Set as follows: DOC.set_value(value)  \n", 
                "# Valid Choices: \n", 
                "#     True  \n", 
                "#     False  \n", 
                "# TODO\n", 
                "\n", 
                "# PROPERTY QUALITY CONTROL STATUS:  \n", 
                "# 0=draft, 1=in-review, 2=reviewed  \n", 
                "DOC.set_qc_status(0)"
            ], 
            "outputs": [], 
            "metadata": {
                "collapsed": true
            }
        }, 
        {
            "source": [
                "# 11. Timestepping Framework --&gt; Timestepping Attributes  \n", 
                "*Properties of time stepping in ocean*"
            ], 
            "cell_type": "markdown", 
            "metadata": {}
        }, 
        {
            "source": [
                "### 11.1. Time Step\n", 
                " *Ocean time step in seconds*\n", 
                "\n", 
                "**Is Required:** TRUE&nbsp;&nbsp;&nbsp;&nbsp;**Type:** INTEGER&nbsp;&nbsp;&nbsp;&nbsp;**Cardinality:** 1.1"
            ], 
            "cell_type": "markdown", 
            "metadata": {}
        }, 
        {
            "execution_count": null, 
            "cell_type": "code", 
            "source": [
                "# PROPERTY ID - DO NOT EDIT !  \n", 
                "DOC.set_id('cmip6.ocean.timestepping_framework.timestepping_attributes.time_step')  \n", 
                "\n", 
                "# PROPERTY VALUE: \n", 
                "# Set as follows: DOC.set_value(value)  \n", 
                "# TODO\n", 
                "\n", 
                "# PROPERTY QUALITY CONTROL STATUS:  \n", 
                "# 0=draft, 1=in-review, 2=reviewed  \n", 
                "DOC.set_qc_status(0)"
            ], 
            "outputs": [], 
            "metadata": {
                "collapsed": true
            }
        }, 
        {
            "source": [
                "### 11.2. Diurnal Cycle\n", 
                " *Diurnal cycle type*\n", 
                "\n", 
                "**Is Required:** TRUE&nbsp;&nbsp;&nbsp;&nbsp;**Type:** ENUM&nbsp;&nbsp;&nbsp;&nbsp;**Cardinality:** 1.1"
            ], 
            "cell_type": "markdown", 
            "metadata": {}
        }, 
        {
            "execution_count": null, 
            "cell_type": "code", 
            "source": [
                "# PROPERTY ID - DO NOT EDIT !  \n", 
                "DOC.set_id('cmip6.ocean.timestepping_framework.timestepping_attributes.diurnal_cycle')  \n", 
                "\n", 
                "# PROPERTY VALUE: \n", 
                "# Set as follows: DOC.set_value(\"value\")  \n", 
                "# Valid Choices: \n", 
                "#      \"None\"  \n", 
                "#      \"Via coupling\"  \n", 
                "#      \"Specific treatment\"  \n", 
                "#      \"Other: [Please specify]\"  \n", 
                "# TODO\n", 
                "\n", 
                "# PROPERTY QUALITY CONTROL STATUS:  \n", 
                "# 0=draft, 1=in-review, 2=reviewed  \n", 
                "DOC.set_qc_status(0)"
            ], 
            "outputs": [], 
            "metadata": {
                "collapsed": true
            }
        }, 
        {
            "source": [
                "# 12. Timestepping Framework --&gt; Timestepping Tracers Scheme  \n", 
                "*Properties of tracers time stepping in ocean*"
            ], 
            "cell_type": "markdown", 
            "metadata": {}
        }, 
        {
            "source": [
                "### 12.1. Tracers\n", 
                " *Time stepping tracer scheme*\n", 
                "\n", 
                "**Is Required:** TRUE&nbsp;&nbsp;&nbsp;&nbsp;**Type:** ENUM&nbsp;&nbsp;&nbsp;&nbsp;**Cardinality:** 1.1"
            ], 
            "cell_type": "markdown", 
            "metadata": {}
        }, 
        {
            "execution_count": null, 
            "cell_type": "code", 
            "source": [
                "# PROPERTY ID - DO NOT EDIT !  \n", 
                "DOC.set_id('cmip6.ocean.timestepping_framework.timestepping_tracers_scheme.tracers')  \n", 
                "\n", 
                "# PROPERTY VALUE: \n", 
                "# Set as follows: DOC.set_value(\"value\")  \n", 
                "# Valid Choices: \n", 
                "#      \"Leap-frog + Asselin filter\"  \n", 
                "#      \"Leap-frog + Periodic Euler backward solver\"  \n", 
                "#      \"Predictor-corrector\"  \n", 
                "#      \"AM3-LF (ROMS)\"  \n", 
                "#      \"Forward-backward\"  \n", 
                "#      \"Forward operator\"  \n", 
                "#      \"Other: [Please specify]\"  \n", 
                "# TODO\n", 
                "\n", 
                "# PROPERTY QUALITY CONTROL STATUS:  \n", 
                "# 0=draft, 1=in-review, 2=reviewed  \n", 
                "DOC.set_qc_status(0)"
            ], 
            "outputs": [], 
            "metadata": {
                "collapsed": true
            }
        }, 
        {
            "source": [
                "# 13. Timestepping Framework --&gt; Barotropic Solver Scheme  \n", 
                "*Barotropic solver in ocean*"
            ], 
            "cell_type": "markdown", 
            "metadata": {}
        }, 
        {
            "source": [
                "### 13.1. Barotropic Solver\n", 
                " *Barotropic solver scheme*\n", 
                "\n", 
                "**Is Required:** TRUE&nbsp;&nbsp;&nbsp;&nbsp;**Type:** ENUM&nbsp;&nbsp;&nbsp;&nbsp;**Cardinality:** 1.1"
            ], 
            "cell_type": "markdown", 
            "metadata": {}
        }, 
        {
            "execution_count": null, 
            "cell_type": "code", 
            "source": [
                "# PROPERTY ID - DO NOT EDIT !  \n", 
                "DOC.set_id('cmip6.ocean.timestepping_framework.barotropic_solver_scheme.barotropic_solver')  \n", 
                "\n", 
                "# PROPERTY VALUE: \n", 
                "# Set as follows: DOC.set_value(\"value\")  \n", 
                "# Valid Choices: \n", 
                "#      \"Leap-frog + Asselin filter\"  \n", 
                "#      \"Leap-frog + Periodic Euler backward solver\"  \n", 
                "#      \"Predictor-corrector\"  \n", 
                "#      \"AM3-LF (ROMS)\"  \n", 
                "#      \"Forward-backward\"  \n", 
                "#      \"Forward operator\"  \n", 
                "#      \"Other: [Please specify]\"  \n", 
                "# TODO\n", 
                "\n", 
                "# PROPERTY QUALITY CONTROL STATUS:  \n", 
                "# 0=draft, 1=in-review, 2=reviewed  \n", 
                "DOC.set_qc_status(0)"
            ], 
            "outputs": [], 
            "metadata": {
                "collapsed": true
            }
        }, 
        {
            "source": [
                "### 13.2. Type\n", 
                " *Barotropic solver type*\n", 
                "\n", 
                "**Is Required:** TRUE&nbsp;&nbsp;&nbsp;&nbsp;**Type:** ENUM&nbsp;&nbsp;&nbsp;&nbsp;**Cardinality:** 1.1"
            ], 
            "cell_type": "markdown", 
            "metadata": {}
        }, 
        {
            "execution_count": null, 
            "cell_type": "code", 
            "source": [
                "# PROPERTY ID - DO NOT EDIT !  \n", 
                "DOC.set_id('cmip6.ocean.timestepping_framework.barotropic_solver_scheme.type')  \n", 
                "\n", 
                "# PROPERTY VALUE: \n", 
                "# Set as follows: DOC.set_value(\"value\")  \n", 
                "# Valid Choices: \n", 
                "#      \"Preconditioned conjugate gradient\"  \n", 
                "#      \"Sub cyling\"  \n", 
                "#      \"Other: [Please specify]\"  \n", 
                "# TODO\n", 
                "\n", 
                "# PROPERTY QUALITY CONTROL STATUS:  \n", 
                "# 0=draft, 1=in-review, 2=reviewed  \n", 
                "DOC.set_qc_status(0)"
            ], 
            "outputs": [], 
            "metadata": {
                "collapsed": true
            }
        }, 
        {
            "source": [
                "# 14. Timestepping Framework --&gt; Barotropic Momentum Scheme  \n", 
                "*Barotropic momentum solver in ocean*"
            ], 
            "cell_type": "markdown", 
            "metadata": {}
        }, 
        {
            "source": [
                "### 14.1. Barotropic Momentum\n", 
                " *Barotropic momentum scheme*\n", 
                "\n", 
                "**Is Required:** TRUE&nbsp;&nbsp;&nbsp;&nbsp;**Type:** ENUM&nbsp;&nbsp;&nbsp;&nbsp;**Cardinality:** 1.1"
            ], 
            "cell_type": "markdown", 
            "metadata": {}
        }, 
        {
            "execution_count": null, 
            "cell_type": "code", 
            "source": [
                "# PROPERTY ID - DO NOT EDIT !  \n", 
                "DOC.set_id('cmip6.ocean.timestepping_framework.barotropic_momentum_scheme.barotropic_momentum')  \n", 
                "\n", 
                "# PROPERTY VALUE: \n", 
                "# Set as follows: DOC.set_value(\"value\")  \n", 
                "# Valid Choices: \n", 
                "#      \"Leap-frog + Asselin filter\"  \n", 
                "#      \"Leap-frog + Periodic Euler backward solver\"  \n", 
                "#      \"Predictor-corrector\"  \n", 
                "#      \"AM3-LF (ROMS)\"  \n", 
                "#      \"Forward-backward\"  \n", 
                "#      \"Forward operator\"  \n", 
                "#      \"Other: [Please specify]\"  \n", 
                "# TODO\n", 
                "\n", 
                "# PROPERTY QUALITY CONTROL STATUS:  \n", 
                "# 0=draft, 1=in-review, 2=reviewed  \n", 
                "DOC.set_qc_status(0)"
            ], 
            "outputs": [], 
            "metadata": {
                "collapsed": true
            }
        }, 
        {
            "source": [
                "# 15. Advection --&gt; Momentum  \n", 
                "*Properties of lateral momemtum advection scheme in ocean*"
            ], 
            "cell_type": "markdown", 
            "metadata": {}
        }, 
        {
            "source": [
                "### 15.1. Type\n", 
                " *Type of lateral momemtum advection scheme in ocean*\n", 
                "\n", 
                "**Is Required:** TRUE&nbsp;&nbsp;&nbsp;&nbsp;**Type:** ENUM&nbsp;&nbsp;&nbsp;&nbsp;**Cardinality:** 1.1"
            ], 
            "cell_type": "markdown", 
            "metadata": {}
        }, 
        {
            "execution_count": null, 
            "cell_type": "code", 
            "source": [
                "# PROPERTY ID - DO NOT EDIT !  \n", 
                "DOC.set_id('cmip6.ocean.advection.momentum.type')  \n", 
                "\n", 
                "# PROPERTY VALUE: \n", 
                "# Set as follows: DOC.set_value(\"value\")  \n", 
                "# Valid Choices: \n", 
                "#      \"Flux form\"  \n", 
                "#      \"Vector form\"  \n", 
                "# TODO\n", 
                "\n", 
                "# PROPERTY QUALITY CONTROL STATUS:  \n", 
                "# 0=draft, 1=in-review, 2=reviewed  \n", 
                "DOC.set_qc_status(0)"
            ], 
            "outputs": [], 
            "metadata": {
                "collapsed": true
            }
        }, 
        {
            "source": [
                "### 15.2. Scheme Name\n", 
                " *Name of ocean momemtum advection scheme*\n", 
                "\n", 
                "**Is Required:** TRUE&nbsp;&nbsp;&nbsp;&nbsp;**Type:** STRING&nbsp;&nbsp;&nbsp;&nbsp;**Cardinality:** 1.1"
            ], 
            "cell_type": "markdown", 
            "metadata": {}
        }, 
        {
            "execution_count": null, 
            "cell_type": "code", 
            "source": [
                "# PROPERTY ID - DO NOT EDIT !  \n", 
                "DOC.set_id('cmip6.ocean.advection.momentum.scheme_name')  \n", 
                "\n", 
                "# PROPERTY VALUE: \n", 
                "# Set as follows: DOC.set_value(\"value\")  \n", 
                "# TODO\n", 
                "\n", 
                "# PROPERTY QUALITY CONTROL STATUS:  \n", 
                "# 0=draft, 1=in-review, 2=reviewed  \n", 
                "DOC.set_qc_status(0)"
            ], 
            "outputs": [], 
            "metadata": {
                "collapsed": true
            }
        }, 
        {
            "source": [
                "### 15.3. A L E\n", 
                " *Using ALE for vertical advection ? (if vertical coordinates are sigma)*\n", 
                "\n", 
                "**Is Required:** FALSE&nbsp;&nbsp;&nbsp;&nbsp;**Type:** BOOLEAN&nbsp;&nbsp;&nbsp;&nbsp;**Cardinality:** 0.1"
            ], 
            "cell_type": "markdown", 
            "metadata": {}
        }, 
        {
            "execution_count": null, 
            "cell_type": "code", 
            "source": [
                "# PROPERTY ID - DO NOT EDIT !  \n", 
                "DOC.set_id('cmip6.ocean.advection.momentum.ALE')  \n", 
                "\n", 
                "# PROPERTY VALUE: \n", 
                "# Set as follows: DOC.set_value(value)  \n", 
                "# Valid Choices: \n", 
                "#     True  \n", 
                "#     False  \n", 
                "# TODO\n", 
                "\n", 
                "# PROPERTY QUALITY CONTROL STATUS:  \n", 
                "# 0=draft, 1=in-review, 2=reviewed  \n", 
                "DOC.set_qc_status(0)"
            ], 
            "outputs": [], 
            "metadata": {
                "collapsed": true
            }
        }, 
        {
            "source": [
                "# 16. Advection --&gt; Lateral Tracers  \n", 
                "*Properties of lateral tracer advection scheme in ocean*"
            ], 
            "cell_type": "markdown", 
            "metadata": {}
        }, 
        {
            "source": [
                "### 16.1. Type\n", 
                " *Type of lateral tracer advection scheme in ocean*\n", 
                "\n", 
                "**Is Required:** TRUE&nbsp;&nbsp;&nbsp;&nbsp;**Type:** ENUM&nbsp;&nbsp;&nbsp;&nbsp;**Cardinality:** 1.1"
            ], 
            "cell_type": "markdown", 
            "metadata": {}
        }, 
        {
            "execution_count": null, 
            "cell_type": "code", 
            "source": [
                "# PROPERTY ID - DO NOT EDIT !  \n", 
                "DOC.set_id('cmip6.ocean.advection.lateral_tracers.type')  \n", 
                "\n", 
                "# PROPERTY VALUE: \n", 
                "# Set as follows: DOC.set_value(\"value\")  \n", 
                "# Valid Choices: \n", 
                "#      \"Centred 2nd order\"  \n", 
                "#      \"Centred 4th order\"  \n", 
                "#      \"Total Variance Dissipation (TVD)\"  \n", 
                "#      \"MUSCL\"  \n", 
                "#      \"QUICKEST\"  \n", 
                "#      \"Piecewise Parabolic method\"  \n", 
                "#      \"Sweby\"  \n", 
                "#      \"Prather 2nd moment (PSOM)\"  \n", 
                "#      \"3rd order upwind\"  \n", 
                "#      \"Other: [Please specify]\"  \n", 
                "# TODO\n", 
                "\n", 
                "# PROPERTY QUALITY CONTROL STATUS:  \n", 
                "# 0=draft, 1=in-review, 2=reviewed  \n", 
                "DOC.set_qc_status(0)"
            ], 
            "outputs": [], 
            "metadata": {
                "collapsed": true
            }
        }, 
        {
            "source": [
                "### 16.2. Flux Limiter\n", 
                " *Monotonic flux limiter for vertical tracer advection scheme in ocean ?*\n", 
                "\n", 
                "**Is Required:** TRUE&nbsp;&nbsp;&nbsp;&nbsp;**Type:** BOOLEAN&nbsp;&nbsp;&nbsp;&nbsp;**Cardinality:** 1.1"
            ], 
            "cell_type": "markdown", 
            "metadata": {}
        }, 
        {
            "execution_count": null, 
            "cell_type": "code", 
            "source": [
                "# PROPERTY ID - DO NOT EDIT !  \n", 
                "DOC.set_id('cmip6.ocean.advection.lateral_tracers.flux_limiter')  \n", 
                "\n", 
                "# PROPERTY VALUE: \n", 
                "# Set as follows: DOC.set_value(value)  \n", 
                "# Valid Choices: \n", 
                "#     True  \n", 
                "#     False  \n", 
                "# TODO\n", 
                "\n", 
                "# PROPERTY QUALITY CONTROL STATUS:  \n", 
                "# 0=draft, 1=in-review, 2=reviewed  \n", 
                "DOC.set_qc_status(0)"
            ], 
            "outputs": [], 
            "metadata": {
                "collapsed": true
            }
        }, 
        {
            "source": [
                "### 16.3. Passive Tracers\n", 
                " *Passive tracers advected*\n", 
                "\n", 
                "**Is Required:** FALSE&nbsp;&nbsp;&nbsp;&nbsp;**Type:** ENUM&nbsp;&nbsp;&nbsp;&nbsp;**Cardinality:** 0.N"
            ], 
            "cell_type": "markdown", 
            "metadata": {}
        }, 
        {
            "execution_count": null, 
            "cell_type": "code", 
            "source": [
                "# PROPERTY ID - DO NOT EDIT !  \n", 
                "DOC.set_id('cmip6.ocean.advection.lateral_tracers.passive_tracers')  \n", 
                "\n", 
                "# PROPERTY VALUE(S): \n", 
                "# Set as follows: DOC.set_value(\"value\")  \n", 
                "# Valid Choices: \n", 
                "#      \"Ideal age\"  \n", 
                "#      \"CFC 11\"  \n", 
                "#      \"CFC 12\"  \n", 
                "#      \"SF6\"  \n", 
                "#      \"Other: [Please specify]\"  \n", 
                "# TODO\n", 
                "\n", 
                "# PROPERTY QUALITY CONTROL STATUS:  \n", 
                "# 0=draft, 1=in-review, 2=reviewed  \n", 
                "DOC.set_qc_status(0)"
            ], 
            "outputs": [], 
            "metadata": {
                "collapsed": true
            }
        }, 
        {
            "source": [
                "### 16.4. Passive Tracers Advection\n", 
                " *Is advection of passive tracers different than active ? if so, describe.*\n", 
                "\n", 
                "**Is Required:** FALSE&nbsp;&nbsp;&nbsp;&nbsp;**Type:** STRING&nbsp;&nbsp;&nbsp;&nbsp;**Cardinality:** 0.1"
            ], 
            "cell_type": "markdown", 
            "metadata": {}
        }, 
        {
            "execution_count": null, 
            "cell_type": "code", 
            "source": [
                "# PROPERTY ID - DO NOT EDIT !  \n", 
                "DOC.set_id('cmip6.ocean.advection.lateral_tracers.passive_tracers_advection')  \n", 
                "\n", 
                "# PROPERTY VALUE: \n", 
                "# Set as follows: DOC.set_value(\"value\")  \n", 
                "# TODO\n", 
                "\n", 
                "# PROPERTY QUALITY CONTROL STATUS:  \n", 
                "# 0=draft, 1=in-review, 2=reviewed  \n", 
                "DOC.set_qc_status(0)"
            ], 
            "outputs": [], 
            "metadata": {
                "collapsed": true
            }
        }, 
        {
            "source": [
                "# 17. Advection --&gt; Vertical Tracers  \n", 
                "*Properties of vertical tracer advection scheme in ocean*"
            ], 
            "cell_type": "markdown", 
            "metadata": {}
        }, 
        {
            "source": [
                "### 17.1. Type\n", 
                " *Type of vertical tracer advection scheme in ocean*\n", 
                "\n", 
                "**Is Required:** TRUE&nbsp;&nbsp;&nbsp;&nbsp;**Type:** ENUM&nbsp;&nbsp;&nbsp;&nbsp;**Cardinality:** 1.1"
            ], 
            "cell_type": "markdown", 
            "metadata": {}
        }, 
        {
            "execution_count": null, 
            "cell_type": "code", 
            "source": [
                "# PROPERTY ID - DO NOT EDIT !  \n", 
                "DOC.set_id('cmip6.ocean.advection.vertical_tracers.type')  \n", 
                "\n", 
                "# PROPERTY VALUE: \n", 
                "# Set as follows: DOC.set_value(\"value\")  \n", 
                "# Valid Choices: \n", 
                "#      \"Centred 2nd order\"  \n", 
                "#      \"Centred 4th order\"  \n", 
                "#      \"Total Variance Dissipation (TVD)\"  \n", 
                "#      \"MUSCL\"  \n", 
                "#      \"QUICKEST\"  \n", 
                "#      \"Piecewise Parabolic method\"  \n", 
                "#      \"Sweby\"  \n", 
                "#      \"Prather 2nd moment (PSOM)\"  \n", 
                "#      \"3rd order upwind\"  \n", 
                "#      \"Other: [Please specify]\"  \n", 
                "# TODO\n", 
                "\n", 
                "# PROPERTY QUALITY CONTROL STATUS:  \n", 
                "# 0=draft, 1=in-review, 2=reviewed  \n", 
                "DOC.set_qc_status(0)"
            ], 
            "outputs": [], 
            "metadata": {
                "collapsed": true
            }
        }, 
        {
            "source": [
                "### 17.2. Flux Limiter\n", 
                " *Monotonic flux limiter for vertical tracer advection scheme in ocean ?*\n", 
                "\n", 
                "**Is Required:** TRUE&nbsp;&nbsp;&nbsp;&nbsp;**Type:** BOOLEAN&nbsp;&nbsp;&nbsp;&nbsp;**Cardinality:** 1.1"
            ], 
            "cell_type": "markdown", 
            "metadata": {}
        }, 
        {
            "execution_count": null, 
            "cell_type": "code", 
            "source": [
                "# PROPERTY ID - DO NOT EDIT !  \n", 
                "DOC.set_id('cmip6.ocean.advection.vertical_tracers.flux_limiter')  \n", 
                "\n", 
                "# PROPERTY VALUE: \n", 
                "# Set as follows: DOC.set_value(value)  \n", 
                "# Valid Choices: \n", 
                "#     True  \n", 
                "#     False  \n", 
                "# TODO\n", 
                "\n", 
                "# PROPERTY QUALITY CONTROL STATUS:  \n", 
                "# 0=draft, 1=in-review, 2=reviewed  \n", 
                "DOC.set_qc_status(0)"
            ], 
            "outputs": [], 
            "metadata": {
                "collapsed": true
            }
        }, 
        {
            "source": [
                "# 18. Lateral Physics  \n", 
                "*Ocean lateral physics*"
            ], 
            "cell_type": "markdown", 
            "metadata": {}
        }, 
        {
            "source": [
                "### 18.1. Scheme\n", 
                " *Type of transient eddy representation in ocean*\n", 
                "\n", 
                "**Is Required:** TRUE&nbsp;&nbsp;&nbsp;&nbsp;**Type:** ENUM&nbsp;&nbsp;&nbsp;&nbsp;**Cardinality:** 1.1"
            ], 
            "cell_type": "markdown", 
            "metadata": {}
        }, 
        {
            "execution_count": null, 
            "cell_type": "code", 
            "source": [
                "# PROPERTY ID - DO NOT EDIT !  \n", 
                "DOC.set_id('cmip6.ocean.lateral_physics.scheme')  \n", 
                "\n", 
                "# PROPERTY VALUE: \n", 
                "# Set as follows: DOC.set_value(\"value\")  \n", 
                "# Valid Choices: \n", 
                "#      \"None\"  \n", 
                "#      \"Eddy active\"  \n", 
                "#      \"Eddy admitting\"  \n", 
                "# TODO\n", 
                "\n", 
                "# PROPERTY QUALITY CONTROL STATUS:  \n", 
                "# 0=draft, 1=in-review, 2=reviewed  \n", 
                "DOC.set_qc_status(0)"
            ], 
            "outputs": [], 
            "metadata": {
                "collapsed": true
            }
        }, 
        {
            "source": [
                "# 19. Lateral Physics --&gt; Momentum --&gt; Operator  \n", 
                "*Properties of lateral physics operator for momentum in ocean*"
            ], 
            "cell_type": "markdown", 
            "metadata": {}
        }, 
        {
            "source": [
                "### 19.1. Direction\n", 
                " *Direction of lateral physics momemtum scheme in the ocean*\n", 
                "\n", 
                "**Is Required:** TRUE&nbsp;&nbsp;&nbsp;&nbsp;**Type:** ENUM&nbsp;&nbsp;&nbsp;&nbsp;**Cardinality:** 1.1"
            ], 
            "cell_type": "markdown", 
            "metadata": {}
        }, 
        {
            "execution_count": null, 
            "cell_type": "code", 
            "source": [
                "# PROPERTY ID - DO NOT EDIT !  \n", 
                "DOC.set_id('cmip6.ocean.lateral_physics.momentum.operator.direction')  \n", 
                "\n", 
                "# PROPERTY VALUE: \n", 
                "# Set as follows: DOC.set_value(\"value\")  \n", 
                "# Valid Choices: \n", 
                "#      \"Horizontal\"  \n", 
                "#      \"Isopycnal\"  \n", 
                "#      \"Isoneutral\"  \n", 
                "#      \"Geopotential\"  \n", 
                "#      \"Iso-level\"  \n", 
                "#      \"Other: [Please specify]\"  \n", 
                "# TODO\n", 
                "\n", 
                "# PROPERTY QUALITY CONTROL STATUS:  \n", 
                "# 0=draft, 1=in-review, 2=reviewed  \n", 
                "DOC.set_qc_status(0)"
            ], 
            "outputs": [], 
            "metadata": {
                "collapsed": true
            }
        }, 
        {
            "source": [
                "### 19.2. Order\n", 
                " *Order of lateral physics momemtum scheme in the ocean*\n", 
                "\n", 
                "**Is Required:** TRUE&nbsp;&nbsp;&nbsp;&nbsp;**Type:** ENUM&nbsp;&nbsp;&nbsp;&nbsp;**Cardinality:** 1.1"
            ], 
            "cell_type": "markdown", 
            "metadata": {}
        }, 
        {
            "execution_count": null, 
            "cell_type": "code", 
            "source": [
                "# PROPERTY ID - DO NOT EDIT !  \n", 
                "DOC.set_id('cmip6.ocean.lateral_physics.momentum.operator.order')  \n", 
                "\n", 
                "# PROPERTY VALUE: \n", 
                "# Set as follows: DOC.set_value(\"value\")  \n", 
                "# Valid Choices: \n", 
                "#      \"Harmonic\"  \n", 
                "#      \"Bi-harmonic\"  \n", 
                "#      \"Other: [Please specify]\"  \n", 
                "# TODO\n", 
                "\n", 
                "# PROPERTY QUALITY CONTROL STATUS:  \n", 
                "# 0=draft, 1=in-review, 2=reviewed  \n", 
                "DOC.set_qc_status(0)"
            ], 
            "outputs": [], 
            "metadata": {
                "collapsed": true
            }
        }, 
        {
            "source": [
                "### 19.3. Discretisation\n", 
                " *Discretisation of lateral physics momemtum scheme in the ocean*\n", 
                "\n", 
                "**Is Required:** TRUE&nbsp;&nbsp;&nbsp;&nbsp;**Type:** ENUM&nbsp;&nbsp;&nbsp;&nbsp;**Cardinality:** 1.1"
            ], 
            "cell_type": "markdown", 
            "metadata": {}
        }, 
        {
            "execution_count": null, 
            "cell_type": "code", 
            "source": [
                "# PROPERTY ID - DO NOT EDIT !  \n", 
                "DOC.set_id('cmip6.ocean.lateral_physics.momentum.operator.discretisation')  \n", 
                "\n", 
                "# PROPERTY VALUE: \n", 
                "# Set as follows: DOC.set_value(\"value\")  \n", 
                "# Valid Choices: \n", 
                "#      \"Second order\"  \n", 
                "#      \"Higher order\"  \n", 
                "#      \"Flux limiter\"  \n", 
                "#      \"Other: [Please specify]\"  \n", 
                "# TODO\n", 
                "\n", 
                "# PROPERTY QUALITY CONTROL STATUS:  \n", 
                "# 0=draft, 1=in-review, 2=reviewed  \n", 
                "DOC.set_qc_status(0)"
            ], 
            "outputs": [], 
            "metadata": {
                "collapsed": true
            }
        }, 
        {
            "source": [
                "# 20. Lateral Physics --&gt; Momentum --&gt; Eddy Viscosity Coeff  \n", 
                "*Properties of eddy viscosity coeff in lateral physics momemtum scheme in the ocean*"
            ], 
            "cell_type": "markdown", 
            "metadata": {}
        }, 
        {
            "source": [
                "### 20.1. Type\n", 
                " *Lateral physics momemtum eddy viscosity coeff type in the ocean*\n", 
                "\n", 
                "**Is Required:** TRUE&nbsp;&nbsp;&nbsp;&nbsp;**Type:** ENUM&nbsp;&nbsp;&nbsp;&nbsp;**Cardinality:** 1.1"
            ], 
            "cell_type": "markdown", 
            "metadata": {}
        }, 
        {
            "execution_count": null, 
            "cell_type": "code", 
            "source": [
                "# PROPERTY ID - DO NOT EDIT !  \n", 
                "DOC.set_id('cmip6.ocean.lateral_physics.momentum.eddy_viscosity_coeff.type')  \n", 
                "\n", 
                "# PROPERTY VALUE: \n", 
                "# Set as follows: DOC.set_value(\"value\")  \n", 
                "# Valid Choices: \n", 
                "#      \"Constant\"  \n", 
                "#      \"Space varying\"  \n", 
                "#      \"Time + space varying (Smagorinsky)\"  \n", 
                "#      \"Other: [Please specify]\"  \n", 
                "# TODO\n", 
                "\n", 
                "# PROPERTY QUALITY CONTROL STATUS:  \n", 
                "# 0=draft, 1=in-review, 2=reviewed  \n", 
                "DOC.set_qc_status(0)"
            ], 
            "outputs": [], 
            "metadata": {
                "collapsed": true
            }
        }, 
        {
            "source": [
                "### 20.2. Constant Coefficient\n", 
                " *If constant, value of eddy viscosity coeff in lateral physics momemtum scheme (in m2/s)*\n", 
                "\n", 
                "**Is Required:** FALSE&nbsp;&nbsp;&nbsp;&nbsp;**Type:** INTEGER&nbsp;&nbsp;&nbsp;&nbsp;**Cardinality:** 0.1"
            ], 
            "cell_type": "markdown", 
            "metadata": {}
        }, 
        {
            "execution_count": null, 
            "cell_type": "code", 
            "source": [
                "# PROPERTY ID - DO NOT EDIT !  \n", 
                "DOC.set_id('cmip6.ocean.lateral_physics.momentum.eddy_viscosity_coeff.constant_coefficient')  \n", 
                "\n", 
                "# PROPERTY VALUE: \n", 
                "# Set as follows: DOC.set_value(value)  \n", 
                "# TODO\n", 
                "\n", 
                "# PROPERTY QUALITY CONTROL STATUS:  \n", 
                "# 0=draft, 1=in-review, 2=reviewed  \n", 
                "DOC.set_qc_status(0)"
            ], 
            "outputs": [], 
            "metadata": {
                "collapsed": true
            }
        }, 
        {
            "source": [
                "### 20.3. Variable Coefficient\n", 
                " *If space-varying, describe variations of eddy viscosity coeff in lateral physics momemtum scheme*\n", 
                "\n", 
                "**Is Required:** FALSE&nbsp;&nbsp;&nbsp;&nbsp;**Type:** STRING&nbsp;&nbsp;&nbsp;&nbsp;**Cardinality:** 0.1"
            ], 
            "cell_type": "markdown", 
            "metadata": {}
        }, 
        {
            "execution_count": null, 
            "cell_type": "code", 
            "source": [
                "# PROPERTY ID - DO NOT EDIT !  \n", 
                "DOC.set_id('cmip6.ocean.lateral_physics.momentum.eddy_viscosity_coeff.variable_coefficient')  \n", 
                "\n", 
                "# PROPERTY VALUE: \n", 
                "# Set as follows: DOC.set_value(\"value\")  \n", 
                "# TODO\n", 
                "\n", 
                "# PROPERTY QUALITY CONTROL STATUS:  \n", 
                "# 0=draft, 1=in-review, 2=reviewed  \n", 
                "DOC.set_qc_status(0)"
            ], 
            "outputs": [], 
            "metadata": {
                "collapsed": true
            }
        }, 
        {
            "source": [
                "### 20.4. Coeff Background\n", 
                " *Background value of eddy viscosity coeff in lateral physics momemtum scheme (in m2/s)*\n", 
                "\n", 
                "**Is Required:** TRUE&nbsp;&nbsp;&nbsp;&nbsp;**Type:** INTEGER&nbsp;&nbsp;&nbsp;&nbsp;**Cardinality:** 1.1"
            ], 
            "cell_type": "markdown", 
            "metadata": {}
        }, 
        {
            "execution_count": null, 
            "cell_type": "code", 
            "source": [
                "# PROPERTY ID - DO NOT EDIT !  \n", 
                "DOC.set_id('cmip6.ocean.lateral_physics.momentum.eddy_viscosity_coeff.coeff_background')  \n", 
                "\n", 
                "# PROPERTY VALUE: \n", 
                "# Set as follows: DOC.set_value(value)  \n", 
                "# TODO\n", 
                "\n", 
                "# PROPERTY QUALITY CONTROL STATUS:  \n", 
                "# 0=draft, 1=in-review, 2=reviewed  \n", 
                "DOC.set_qc_status(0)"
            ], 
            "outputs": [], 
            "metadata": {
                "collapsed": true
            }
        }, 
        {
            "source": [
                "### 20.5. Coeff Backscatter\n", 
                " *Is there backscatter in eddy viscosity coeff in lateral physics momemtum scheme ?*\n", 
                "\n", 
                "**Is Required:** TRUE&nbsp;&nbsp;&nbsp;&nbsp;**Type:** BOOLEAN&nbsp;&nbsp;&nbsp;&nbsp;**Cardinality:** 1.1"
            ], 
            "cell_type": "markdown", 
            "metadata": {}
        }, 
        {
            "execution_count": null, 
            "cell_type": "code", 
            "source": [
                "# PROPERTY ID - DO NOT EDIT !  \n", 
                "DOC.set_id('cmip6.ocean.lateral_physics.momentum.eddy_viscosity_coeff.coeff_backscatter')  \n", 
                "\n", 
                "# PROPERTY VALUE: \n", 
                "# Set as follows: DOC.set_value(value)  \n", 
                "# Valid Choices: \n", 
                "#     True  \n", 
                "#     False  \n", 
                "# TODO\n", 
                "\n", 
                "# PROPERTY QUALITY CONTROL STATUS:  \n", 
                "# 0=draft, 1=in-review, 2=reviewed  \n", 
                "DOC.set_qc_status(0)"
            ], 
            "outputs": [], 
            "metadata": {
                "collapsed": true
            }
        }, 
        {
            "source": [
                "# 21. Lateral Physics --&gt; Tracers  \n", 
                "*Properties of lateral physics for tracers in ocean*"
            ], 
            "cell_type": "markdown", 
            "metadata": {}
        }, 
        {
            "source": [
                "### 21.1. Mesoscale Closure\n", 
                " *Is there a mesoscale closure in the lateral physics tracers scheme ?*\n", 
                "\n", 
                "**Is Required:** TRUE&nbsp;&nbsp;&nbsp;&nbsp;**Type:** BOOLEAN&nbsp;&nbsp;&nbsp;&nbsp;**Cardinality:** 1.1"
            ], 
            "cell_type": "markdown", 
            "metadata": {}
        }, 
        {
            "execution_count": null, 
            "cell_type": "code", 
            "source": [
                "# PROPERTY ID - DO NOT EDIT !  \n", 
                "DOC.set_id('cmip6.ocean.lateral_physics.tracers.mesoscale_closure')  \n", 
                "\n", 
                "# PROPERTY VALUE: \n", 
                "# Set as follows: DOC.set_value(value)  \n", 
                "# Valid Choices: \n", 
                "#     True  \n", 
                "#     False  \n", 
                "# TODO\n", 
                "\n", 
                "# PROPERTY QUALITY CONTROL STATUS:  \n", 
                "# 0=draft, 1=in-review, 2=reviewed  \n", 
                "DOC.set_qc_status(0)"
            ], 
            "outputs": [], 
            "metadata": {
                "collapsed": true
            }
        }, 
        {
            "source": [
                "### 21.2. Submesoscale Mixing\n", 
                " *Is there a submesoscale mixing parameterisation (i.e Fox-Kemper) in the lateral physics tracers scheme ?*\n", 
                "\n", 
                "**Is Required:** TRUE&nbsp;&nbsp;&nbsp;&nbsp;**Type:** BOOLEAN&nbsp;&nbsp;&nbsp;&nbsp;**Cardinality:** 1.1"
            ], 
            "cell_type": "markdown", 
            "metadata": {}
        }, 
        {
            "execution_count": null, 
            "cell_type": "code", 
            "source": [
                "# PROPERTY ID - DO NOT EDIT !  \n", 
                "DOC.set_id('cmip6.ocean.lateral_physics.tracers.submesoscale_mixing')  \n", 
                "\n", 
                "# PROPERTY VALUE: \n", 
                "# Set as follows: DOC.set_value(value)  \n", 
                "# Valid Choices: \n", 
                "#     True  \n", 
                "#     False  \n", 
                "# TODO\n", 
                "\n", 
                "# PROPERTY QUALITY CONTROL STATUS:  \n", 
                "# 0=draft, 1=in-review, 2=reviewed  \n", 
                "DOC.set_qc_status(0)"
            ], 
            "outputs": [], 
            "metadata": {
                "collapsed": true
            }
        }, 
        {
            "source": [
                "# 22. Lateral Physics --&gt; Tracers --&gt; Operator  \n", 
                "*Properties of lateral physics operator for tracers in ocean*"
            ], 
            "cell_type": "markdown", 
            "metadata": {}
        }, 
        {
            "source": [
                "### 22.1. Direction\n", 
                " *Direction of lateral physics tracers scheme in the ocean*\n", 
                "\n", 
                "**Is Required:** TRUE&nbsp;&nbsp;&nbsp;&nbsp;**Type:** ENUM&nbsp;&nbsp;&nbsp;&nbsp;**Cardinality:** 1.1"
            ], 
            "cell_type": "markdown", 
            "metadata": {}
        }, 
        {
            "execution_count": null, 
            "cell_type": "code", 
            "source": [
                "# PROPERTY ID - DO NOT EDIT !  \n", 
                "DOC.set_id('cmip6.ocean.lateral_physics.tracers.operator.direction')  \n", 
                "\n", 
                "# PROPERTY VALUE: \n", 
                "# Set as follows: DOC.set_value(\"value\")  \n", 
                "# Valid Choices: \n", 
                "#      \"Horizontal\"  \n", 
                "#      \"Isopycnal\"  \n", 
                "#      \"Isoneutral\"  \n", 
                "#      \"Geopotential\"  \n", 
                "#      \"Iso-level\"  \n", 
                "#      \"Other: [Please specify]\"  \n", 
                "# TODO\n", 
                "\n", 
                "# PROPERTY QUALITY CONTROL STATUS:  \n", 
                "# 0=draft, 1=in-review, 2=reviewed  \n", 
                "DOC.set_qc_status(0)"
            ], 
            "outputs": [], 
            "metadata": {
                "collapsed": true
            }
        }, 
        {
            "source": [
                "### 22.2. Order\n", 
                " *Order of lateral physics tracers scheme in the ocean*\n", 
                "\n", 
                "**Is Required:** TRUE&nbsp;&nbsp;&nbsp;&nbsp;**Type:** ENUM&nbsp;&nbsp;&nbsp;&nbsp;**Cardinality:** 1.1"
            ], 
            "cell_type": "markdown", 
            "metadata": {}
        }, 
        {
            "execution_count": null, 
            "cell_type": "code", 
            "source": [
                "# PROPERTY ID - DO NOT EDIT !  \n", 
                "DOC.set_id('cmip6.ocean.lateral_physics.tracers.operator.order')  \n", 
                "\n", 
                "# PROPERTY VALUE: \n", 
                "# Set as follows: DOC.set_value(\"value\")  \n", 
                "# Valid Choices: \n", 
                "#      \"Harmonic\"  \n", 
                "#      \"Bi-harmonic\"  \n", 
                "#      \"Other: [Please specify]\"  \n", 
                "# TODO\n", 
                "\n", 
                "# PROPERTY QUALITY CONTROL STATUS:  \n", 
                "# 0=draft, 1=in-review, 2=reviewed  \n", 
                "DOC.set_qc_status(0)"
            ], 
            "outputs": [], 
            "metadata": {
                "collapsed": true
            }
        }, 
        {
            "source": [
                "### 22.3. Discretisation\n", 
                " *Discretisation of lateral physics tracers scheme in the ocean*\n", 
                "\n", 
                "**Is Required:** TRUE&nbsp;&nbsp;&nbsp;&nbsp;**Type:** ENUM&nbsp;&nbsp;&nbsp;&nbsp;**Cardinality:** 1.1"
            ], 
            "cell_type": "markdown", 
            "metadata": {}
        }, 
        {
            "execution_count": null, 
            "cell_type": "code", 
            "source": [
                "# PROPERTY ID - DO NOT EDIT !  \n", 
                "DOC.set_id('cmip6.ocean.lateral_physics.tracers.operator.discretisation')  \n", 
                "\n", 
                "# PROPERTY VALUE: \n", 
                "# Set as follows: DOC.set_value(\"value\")  \n", 
                "# Valid Choices: \n", 
                "#      \"Second order\"  \n", 
                "#      \"Higher order\"  \n", 
                "#      \"Flux limiter\"  \n", 
                "#      \"Other: [Please specify]\"  \n", 
                "# TODO\n", 
                "\n", 
                "# PROPERTY QUALITY CONTROL STATUS:  \n", 
                "# 0=draft, 1=in-review, 2=reviewed  \n", 
                "DOC.set_qc_status(0)"
            ], 
            "outputs": [], 
            "metadata": {
                "collapsed": true
            }
        }, 
        {
            "source": [
                "# 23. Lateral Physics --&gt; Tracers --&gt; Eddy Viscosity Coeff  \n", 
                "*Properties of eddy viscosity coeff in lateral physics tracers scheme in the ocean*"
            ], 
            "cell_type": "markdown", 
            "metadata": {}
        }, 
        {
            "source": [
                "### 23.1. Type\n", 
                " *Lateral physics tracers eddy viscosity coeff type in the ocean*\n", 
                "\n", 
                "**Is Required:** TRUE&nbsp;&nbsp;&nbsp;&nbsp;**Type:** ENUM&nbsp;&nbsp;&nbsp;&nbsp;**Cardinality:** 1.1"
            ], 
            "cell_type": "markdown", 
            "metadata": {}
        }, 
        {
            "execution_count": null, 
            "cell_type": "code", 
            "source": [
                "# PROPERTY ID - DO NOT EDIT !  \n", 
                "DOC.set_id('cmip6.ocean.lateral_physics.tracers.eddy_viscosity_coeff.type')  \n", 
                "\n", 
                "# PROPERTY VALUE: \n", 
                "# Set as follows: DOC.set_value(\"value\")  \n", 
                "# Valid Choices: \n", 
                "#      \"Constant\"  \n", 
                "#      \"Space varying\"  \n", 
                "#      \"Time + space varying (Smagorinsky)\"  \n", 
                "#      \"Other: [Please specify]\"  \n", 
                "# TODO\n", 
                "\n", 
                "# PROPERTY QUALITY CONTROL STATUS:  \n", 
                "# 0=draft, 1=in-review, 2=reviewed  \n", 
                "DOC.set_qc_status(0)"
            ], 
            "outputs": [], 
            "metadata": {
                "collapsed": true
            }
        }, 
        {
            "source": [
                "### 23.2. Constant Coefficient\n", 
                " *If constant, value of eddy viscosity coeff in lateral physics tracers scheme (in m2/s)*\n", 
                "\n", 
                "**Is Required:** FALSE&nbsp;&nbsp;&nbsp;&nbsp;**Type:** INTEGER&nbsp;&nbsp;&nbsp;&nbsp;**Cardinality:** 0.1"
            ], 
            "cell_type": "markdown", 
            "metadata": {}
        }, 
        {
            "execution_count": null, 
            "cell_type": "code", 
            "source": [
                "# PROPERTY ID - DO NOT EDIT !  \n", 
                "DOC.set_id('cmip6.ocean.lateral_physics.tracers.eddy_viscosity_coeff.constant_coefficient')  \n", 
                "\n", 
                "# PROPERTY VALUE: \n", 
                "# Set as follows: DOC.set_value(value)  \n", 
                "# TODO\n", 
                "\n", 
                "# PROPERTY QUALITY CONTROL STATUS:  \n", 
                "# 0=draft, 1=in-review, 2=reviewed  \n", 
                "DOC.set_qc_status(0)"
            ], 
            "outputs": [], 
            "metadata": {
                "collapsed": true
            }
        }, 
        {
            "source": [
                "### 23.3. Variable Coefficient\n", 
                " *If space-varying, describe variations of eddy viscosity coeff in lateral physics tracers scheme*\n", 
                "\n", 
                "**Is Required:** FALSE&nbsp;&nbsp;&nbsp;&nbsp;**Type:** STRING&nbsp;&nbsp;&nbsp;&nbsp;**Cardinality:** 0.1"
            ], 
            "cell_type": "markdown", 
            "metadata": {}
        }, 
        {
            "execution_count": null, 
            "cell_type": "code", 
            "source": [
                "# PROPERTY ID - DO NOT EDIT !  \n", 
                "DOC.set_id('cmip6.ocean.lateral_physics.tracers.eddy_viscosity_coeff.variable_coefficient')  \n", 
                "\n", 
                "# PROPERTY VALUE: \n", 
                "# Set as follows: DOC.set_value(\"value\")  \n", 
                "# TODO\n", 
                "\n", 
                "# PROPERTY QUALITY CONTROL STATUS:  \n", 
                "# 0=draft, 1=in-review, 2=reviewed  \n", 
                "DOC.set_qc_status(0)"
            ], 
            "outputs": [], 
            "metadata": {
                "collapsed": true
            }
        }, 
        {
            "source": [
                "### 23.4. Coeff Background\n", 
                " *Background value of eddy viscosity coeff in lateral physics tracers scheme (in m2/s)*\n", 
                "\n", 
                "**Is Required:** TRUE&nbsp;&nbsp;&nbsp;&nbsp;**Type:** INTEGER&nbsp;&nbsp;&nbsp;&nbsp;**Cardinality:** 1.1"
            ], 
            "cell_type": "markdown", 
            "metadata": {}
        }, 
        {
            "execution_count": null, 
            "cell_type": "code", 
            "source": [
                "# PROPERTY ID - DO NOT EDIT !  \n", 
                "DOC.set_id('cmip6.ocean.lateral_physics.tracers.eddy_viscosity_coeff.coeff_background')  \n", 
                "\n", 
                "# PROPERTY VALUE: \n", 
                "# Set as follows: DOC.set_value(value)  \n", 
                "# TODO\n", 
                "\n", 
                "# PROPERTY QUALITY CONTROL STATUS:  \n", 
                "# 0=draft, 1=in-review, 2=reviewed  \n", 
                "DOC.set_qc_status(0)"
            ], 
            "outputs": [], 
            "metadata": {
                "collapsed": true
            }
        }, 
        {
            "source": [
                "### 23.5. Coeff Backscatter\n", 
                " *Is there backscatter in eddy viscosity coeff in lateral physics tracers scheme ?*\n", 
                "\n", 
                "**Is Required:** TRUE&nbsp;&nbsp;&nbsp;&nbsp;**Type:** BOOLEAN&nbsp;&nbsp;&nbsp;&nbsp;**Cardinality:** 1.1"
            ], 
            "cell_type": "markdown", 
            "metadata": {}
        }, 
        {
            "execution_count": null, 
            "cell_type": "code", 
            "source": [
                "# PROPERTY ID - DO NOT EDIT !  \n", 
                "DOC.set_id('cmip6.ocean.lateral_physics.tracers.eddy_viscosity_coeff.coeff_backscatter')  \n", 
                "\n", 
                "# PROPERTY VALUE: \n", 
                "# Set as follows: DOC.set_value(value)  \n", 
                "# Valid Choices: \n", 
                "#     True  \n", 
                "#     False  \n", 
                "# TODO\n", 
                "\n", 
                "# PROPERTY QUALITY CONTROL STATUS:  \n", 
                "# 0=draft, 1=in-review, 2=reviewed  \n", 
                "DOC.set_qc_status(0)"
            ], 
            "outputs": [], 
            "metadata": {
                "collapsed": true
            }
        }, 
        {
            "source": [
                "# 24. Lateral Physics --&gt; Tracers --&gt; Eddy Induced Velocity  \n", 
                "*Properties of eddy induced velocity (EIV) in lateral physics tracers scheme in the ocean*"
            ], 
            "cell_type": "markdown", 
            "metadata": {}
        }, 
        {
            "source": [
                "### 24.1. Type\n", 
                " *Type of EIV in lateral physics tracers in the ocean*\n", 
                "\n", 
                "**Is Required:** TRUE&nbsp;&nbsp;&nbsp;&nbsp;**Type:** ENUM&nbsp;&nbsp;&nbsp;&nbsp;**Cardinality:** 1.1"
            ], 
            "cell_type": "markdown", 
            "metadata": {}
        }, 
        {
            "execution_count": null, 
            "cell_type": "code", 
            "source": [
                "# PROPERTY ID - DO NOT EDIT !  \n", 
                "DOC.set_id('cmip6.ocean.lateral_physics.tracers.eddy_induced_velocity.type')  \n", 
                "\n", 
                "# PROPERTY VALUE: \n", 
                "# Set as follows: DOC.set_value(\"value\")  \n", 
                "# Valid Choices: \n", 
                "#      \"GM\"  \n", 
                "#      \"Other: [Please specify]\"  \n", 
                "# TODO\n", 
                "\n", 
                "# PROPERTY QUALITY CONTROL STATUS:  \n", 
                "# 0=draft, 1=in-review, 2=reviewed  \n", 
                "DOC.set_qc_status(0)"
            ], 
            "outputs": [], 
            "metadata": {
                "collapsed": true
            }
        }, 
        {
            "source": [
                "### 24.2. Constant Val\n", 
                " *If EIV scheme for tracers is constant, specify coefficient value (M2/s)*\n", 
                "\n", 
                "**Is Required:** FALSE&nbsp;&nbsp;&nbsp;&nbsp;**Type:** INTEGER&nbsp;&nbsp;&nbsp;&nbsp;**Cardinality:** 0.1"
            ], 
            "cell_type": "markdown", 
            "metadata": {}
        }, 
        {
            "execution_count": null, 
            "cell_type": "code", 
            "source": [
                "# PROPERTY ID - DO NOT EDIT !  \n", 
                "DOC.set_id('cmip6.ocean.lateral_physics.tracers.eddy_induced_velocity.constant_val')  \n", 
                "\n", 
                "# PROPERTY VALUE: \n", 
                "# Set as follows: DOC.set_value(value)  \n", 
                "# TODO\n", 
                "\n", 
                "# PROPERTY QUALITY CONTROL STATUS:  \n", 
                "# 0=draft, 1=in-review, 2=reviewed  \n", 
                "DOC.set_qc_status(0)"
            ], 
            "outputs": [], 
            "metadata": {
                "collapsed": true
            }
        }, 
        {
            "source": [
                "### 24.3. Flux Type\n", 
                " *Type of EIV flux (advective or skew)*\n", 
                "\n", 
                "**Is Required:** TRUE&nbsp;&nbsp;&nbsp;&nbsp;**Type:** STRING&nbsp;&nbsp;&nbsp;&nbsp;**Cardinality:** 1.1"
            ], 
            "cell_type": "markdown", 
            "metadata": {}
        }, 
        {
            "execution_count": null, 
            "cell_type": "code", 
            "source": [
                "# PROPERTY ID - DO NOT EDIT !  \n", 
                "DOC.set_id('cmip6.ocean.lateral_physics.tracers.eddy_induced_velocity.flux_type')  \n", 
                "\n", 
                "# PROPERTY VALUE: \n", 
                "# Set as follows: DOC.set_value(\"value\")  \n", 
                "# TODO\n", 
                "\n", 
                "# PROPERTY QUALITY CONTROL STATUS:  \n", 
                "# 0=draft, 1=in-review, 2=reviewed  \n", 
                "DOC.set_qc_status(0)"
            ], 
            "outputs": [], 
            "metadata": {
                "collapsed": true
            }
        }, 
        {
            "source": [
                "### 24.4. Added Diffusivity\n", 
                " *Type of EIV added diffusivity (constant, flow dependent or none)*\n", 
                "\n", 
                "**Is Required:** TRUE&nbsp;&nbsp;&nbsp;&nbsp;**Type:** STRING&nbsp;&nbsp;&nbsp;&nbsp;**Cardinality:** 1.1"
            ], 
            "cell_type": "markdown", 
            "metadata": {}
        }, 
        {
            "execution_count": null, 
            "cell_type": "code", 
            "source": [
                "# PROPERTY ID - DO NOT EDIT !  \n", 
                "DOC.set_id('cmip6.ocean.lateral_physics.tracers.eddy_induced_velocity.added_diffusivity')  \n", 
                "\n", 
                "# PROPERTY VALUE: \n", 
                "# Set as follows: DOC.set_value(\"value\")  \n", 
                "# TODO\n", 
                "\n", 
                "# PROPERTY QUALITY CONTROL STATUS:  \n", 
                "# 0=draft, 1=in-review, 2=reviewed  \n", 
                "DOC.set_qc_status(0)"
            ], 
            "outputs": [], 
            "metadata": {
                "collapsed": true
            }
        }, 
        {
            "source": [
                "# 25. Vertical Physics --&gt; Boundary Layer Mixing --&gt; Details  \n", 
                "*Properties of vertical physics in ocean*"
            ], 
            "cell_type": "markdown", 
            "metadata": {}
        }, 
        {
            "source": [
                "### 25.1. Langmuir Cells Mixing\n", 
                " *Is there Langmuir cells mixing in upper ocean ?*\n", 
                "\n", 
                "**Is Required:** TRUE&nbsp;&nbsp;&nbsp;&nbsp;**Type:** BOOLEAN&nbsp;&nbsp;&nbsp;&nbsp;**Cardinality:** 1.1"
            ], 
            "cell_type": "markdown", 
            "metadata": {}
        }, 
        {
            "execution_count": null, 
            "cell_type": "code", 
            "source": [
                "# PROPERTY ID - DO NOT EDIT !  \n", 
                "DOC.set_id('cmip6.ocean.vertical_physics.boundary_layer_mixing.details.langmuir_cells_mixing')  \n", 
                "\n", 
                "# PROPERTY VALUE: \n", 
                "# Set as follows: DOC.set_value(value)  \n", 
                "# Valid Choices: \n", 
                "#     True  \n", 
                "#     False  \n", 
                "# TODO\n", 
                "\n", 
                "# PROPERTY QUALITY CONTROL STATUS:  \n", 
                "# 0=draft, 1=in-review, 2=reviewed  \n", 
                "DOC.set_qc_status(0)"
            ], 
            "outputs": [], 
            "metadata": {
                "collapsed": true
            }
        }, 
        {
            "source": [
                "# 26. Vertical Physics --&gt; Boundary Layer Mixing --&gt; Tracers  \n", 
                "*Properties of boundary layer (BL) mixing on tracers in the ocean *"
            ], 
            "cell_type": "markdown", 
            "metadata": {}
        }, 
        {
            "source": [
                "### 26.1. Type\n", 
                " *Type of boundary layer mixing for tracers in ocean*\n", 
                "\n", 
                "**Is Required:** TRUE&nbsp;&nbsp;&nbsp;&nbsp;**Type:** ENUM&nbsp;&nbsp;&nbsp;&nbsp;**Cardinality:** 1.1"
            ], 
            "cell_type": "markdown", 
            "metadata": {}
        }, 
        {
            "execution_count": null, 
            "cell_type": "code", 
            "source": [
                "# PROPERTY ID - DO NOT EDIT !  \n", 
                "DOC.set_id('cmip6.ocean.vertical_physics.boundary_layer_mixing.tracers.type')  \n", 
                "\n", 
                "# PROPERTY VALUE: \n", 
                "# Set as follows: DOC.set_value(\"value\")  \n", 
                "# Valid Choices: \n", 
                "#      \"Constant value\"  \n", 
                "#      \"Turbulent closure - TKE\"  \n", 
                "#      \"Turbulent closure - KPP\"  \n", 
                "#      \"Turbulent closure - Mellor-Yamada\"  \n", 
                "#      \"Turbulent closure - Bulk Mixed Layer\"  \n", 
                "#      \"Richardson number dependent - PP\"  \n", 
                "#      \"Richardson number dependent - KT\"  \n", 
                "#      \"Imbeded as isopycnic vertical coordinate\"  \n", 
                "#      \"Other: [Please specify]\"  \n", 
                "# TODO\n", 
                "\n", 
                "# PROPERTY QUALITY CONTROL STATUS:  \n", 
                "# 0=draft, 1=in-review, 2=reviewed  \n", 
                "DOC.set_qc_status(0)"
            ], 
            "outputs": [], 
            "metadata": {
                "collapsed": true
            }
        }, 
        {
            "source": [
                "### 26.2. Closure Order\n", 
                " *If turbulent BL mixing of tracers, specific order of closure (0, 1, 2.5, 3)*\n", 
                "\n", 
                "**Is Required:** FALSE&nbsp;&nbsp;&nbsp;&nbsp;**Type:** FLOAT&nbsp;&nbsp;&nbsp;&nbsp;**Cardinality:** 0.1"
            ], 
            "cell_type": "markdown", 
            "metadata": {}
        }, 
        {
            "execution_count": null, 
            "cell_type": "code", 
            "source": [
                "# PROPERTY ID - DO NOT EDIT !  \n", 
                "DOC.set_id('cmip6.ocean.vertical_physics.boundary_layer_mixing.tracers.closure_order')  \n", 
                "\n", 
                "# PROPERTY VALUE: \n", 
                "# Set as follows: DOC.set_value(value)  \n", 
                "# TODO\n", 
                "\n", 
                "# PROPERTY QUALITY CONTROL STATUS:  \n", 
                "# 0=draft, 1=in-review, 2=reviewed  \n", 
                "DOC.set_qc_status(0)"
            ], 
            "outputs": [], 
            "metadata": {
                "collapsed": true
            }
        }, 
        {
            "source": [
                "### 26.3. Constant\n", 
                " *If constant BL mixing of tracers, specific coefficient (m2/s)*\n", 
                "\n", 
                "**Is Required:** FALSE&nbsp;&nbsp;&nbsp;&nbsp;**Type:** INTEGER&nbsp;&nbsp;&nbsp;&nbsp;**Cardinality:** 0.1"
            ], 
            "cell_type": "markdown", 
            "metadata": {}
        }, 
        {
            "execution_count": null, 
            "cell_type": "code", 
            "source": [
                "# PROPERTY ID - DO NOT EDIT !  \n", 
                "DOC.set_id('cmip6.ocean.vertical_physics.boundary_layer_mixing.tracers.constant')  \n", 
                "\n", 
                "# PROPERTY VALUE: \n", 
                "# Set as follows: DOC.set_value(value)  \n", 
                "# TODO\n", 
                "\n", 
                "# PROPERTY QUALITY CONTROL STATUS:  \n", 
                "# 0=draft, 1=in-review, 2=reviewed  \n", 
                "DOC.set_qc_status(0)"
            ], 
            "outputs": [], 
            "metadata": {
                "collapsed": true
            }
        }, 
        {
            "source": [
                "### 26.4. Background\n", 
                " *Background BL mixing of tracers coefficient, (schema and value in m2/s - may by none)*\n", 
                "\n", 
                "**Is Required:** TRUE&nbsp;&nbsp;&nbsp;&nbsp;**Type:** STRING&nbsp;&nbsp;&nbsp;&nbsp;**Cardinality:** 1.1"
            ], 
            "cell_type": "markdown", 
            "metadata": {}
        }, 
        {
            "execution_count": null, 
            "cell_type": "code", 
            "source": [
                "# PROPERTY ID - DO NOT EDIT !  \n", 
                "DOC.set_id('cmip6.ocean.vertical_physics.boundary_layer_mixing.tracers.background')  \n", 
                "\n", 
                "# PROPERTY VALUE: \n", 
                "# Set as follows: DOC.set_value(\"value\")  \n", 
                "# TODO\n", 
                "\n", 
                "# PROPERTY QUALITY CONTROL STATUS:  \n", 
                "# 0=draft, 1=in-review, 2=reviewed  \n", 
                "DOC.set_qc_status(0)"
            ], 
            "outputs": [], 
            "metadata": {
                "collapsed": true
            }
        }, 
        {
            "source": [
                "# 27. Vertical Physics --&gt; Boundary Layer Mixing --&gt; Momentum  \n", 
                "*Properties of boundary layer (BL) mixing on momentum in the ocean *"
            ], 
            "cell_type": "markdown", 
            "metadata": {}
        }, 
        {
            "source": [
                "### 27.1. Type\n", 
                " *Type of boundary layer mixing for momentum in ocean*\n", 
                "\n", 
                "**Is Required:** TRUE&nbsp;&nbsp;&nbsp;&nbsp;**Type:** ENUM&nbsp;&nbsp;&nbsp;&nbsp;**Cardinality:** 1.1"
            ], 
            "cell_type": "markdown", 
            "metadata": {}
        }, 
        {
            "execution_count": null, 
            "cell_type": "code", 
            "source": [
                "# PROPERTY ID - DO NOT EDIT !  \n", 
                "DOC.set_id('cmip6.ocean.vertical_physics.boundary_layer_mixing.momentum.type')  \n", 
                "\n", 
                "# PROPERTY VALUE: \n", 
                "# Set as follows: DOC.set_value(\"value\")  \n", 
                "# Valid Choices: \n", 
                "#      \"Constant value\"  \n", 
                "#      \"Turbulent closure - TKE\"  \n", 
                "#      \"Turbulent closure - KPP\"  \n", 
                "#      \"Turbulent closure - Mellor-Yamada\"  \n", 
                "#      \"Turbulent closure - Bulk Mixed Layer\"  \n", 
                "#      \"Richardson number dependent - PP\"  \n", 
                "#      \"Richardson number dependent - KT\"  \n", 
                "#      \"Imbeded as isopycnic vertical coordinate\"  \n", 
                "#      \"Other: [Please specify]\"  \n", 
                "# TODO\n", 
                "\n", 
                "# PROPERTY QUALITY CONTROL STATUS:  \n", 
                "# 0=draft, 1=in-review, 2=reviewed  \n", 
                "DOC.set_qc_status(0)"
            ], 
            "outputs": [], 
            "metadata": {
                "collapsed": true
            }
        }, 
        {
            "source": [
                "### 27.2. Closure Order\n", 
                " *If turbulent BL mixing of momentum, specific order of closure (0, 1, 2.5, 3)*\n", 
                "\n", 
                "**Is Required:** FALSE&nbsp;&nbsp;&nbsp;&nbsp;**Type:** FLOAT&nbsp;&nbsp;&nbsp;&nbsp;**Cardinality:** 0.1"
            ], 
            "cell_type": "markdown", 
            "metadata": {}
        }, 
        {
            "execution_count": null, 
            "cell_type": "code", 
            "source": [
                "# PROPERTY ID - DO NOT EDIT !  \n", 
                "DOC.set_id('cmip6.ocean.vertical_physics.boundary_layer_mixing.momentum.closure_order')  \n", 
                "\n", 
                "# PROPERTY VALUE: \n", 
                "# Set as follows: DOC.set_value(value)  \n", 
                "# TODO\n", 
                "\n", 
                "# PROPERTY QUALITY CONTROL STATUS:  \n", 
                "# 0=draft, 1=in-review, 2=reviewed  \n", 
                "DOC.set_qc_status(0)"
            ], 
            "outputs": [], 
            "metadata": {
                "collapsed": true
            }
        }, 
        {
            "source": [
                "### 27.3. Constant\n", 
                " *If constant BL mixing of momentum, specific coefficient (m2/s)*\n", 
                "\n", 
                "**Is Required:** FALSE&nbsp;&nbsp;&nbsp;&nbsp;**Type:** INTEGER&nbsp;&nbsp;&nbsp;&nbsp;**Cardinality:** 0.1"
            ], 
            "cell_type": "markdown", 
            "metadata": {}
        }, 
        {
            "execution_count": null, 
            "cell_type": "code", 
            "source": [
                "# PROPERTY ID - DO NOT EDIT !  \n", 
                "DOC.set_id('cmip6.ocean.vertical_physics.boundary_layer_mixing.momentum.constant')  \n", 
                "\n", 
                "# PROPERTY VALUE: \n", 
                "# Set as follows: DOC.set_value(value)  \n", 
                "# TODO\n", 
                "\n", 
                "# PROPERTY QUALITY CONTROL STATUS:  \n", 
                "# 0=draft, 1=in-review, 2=reviewed  \n", 
                "DOC.set_qc_status(0)"
            ], 
            "outputs": [], 
            "metadata": {
                "collapsed": true
            }
        }, 
        {
            "source": [
                "### 27.4. Background\n", 
                " *Background BL mixing of momentum coefficient, (schema and value in m2/s - may by none)*\n", 
                "\n", 
                "**Is Required:** TRUE&nbsp;&nbsp;&nbsp;&nbsp;**Type:** STRING&nbsp;&nbsp;&nbsp;&nbsp;**Cardinality:** 1.1"
            ], 
            "cell_type": "markdown", 
            "metadata": {}
        }, 
        {
            "execution_count": null, 
            "cell_type": "code", 
            "source": [
                "# PROPERTY ID - DO NOT EDIT !  \n", 
                "DOC.set_id('cmip6.ocean.vertical_physics.boundary_layer_mixing.momentum.background')  \n", 
                "\n", 
                "# PROPERTY VALUE: \n", 
                "# Set as follows: DOC.set_value(\"value\")  \n", 
                "# TODO\n", 
                "\n", 
                "# PROPERTY QUALITY CONTROL STATUS:  \n", 
                "# 0=draft, 1=in-review, 2=reviewed  \n", 
                "DOC.set_qc_status(0)"
            ], 
            "outputs": [], 
            "metadata": {
                "collapsed": true
            }
        }, 
        {
            "source": [
                "# 28. Vertical Physics --&gt; Interior Mixing --&gt; Details  \n", 
                "*Properties of interior mixing in the ocean *"
            ], 
            "cell_type": "markdown", 
            "metadata": {}
        }, 
        {
            "source": [
                "### 28.1. Convection Type\n", 
                " *Type of vertical convection in ocean*\n", 
                "\n", 
                "**Is Required:** TRUE&nbsp;&nbsp;&nbsp;&nbsp;**Type:** ENUM&nbsp;&nbsp;&nbsp;&nbsp;**Cardinality:** 1.1"
            ], 
            "cell_type": "markdown", 
            "metadata": {}
        }, 
        {
            "execution_count": null, 
            "cell_type": "code", 
            "source": [
                "# PROPERTY ID - DO NOT EDIT !  \n", 
                "DOC.set_id('cmip6.ocean.vertical_physics.interior_mixing.details.convection_type')  \n", 
                "\n", 
                "# PROPERTY VALUE: \n", 
                "# Set as follows: DOC.set_value(\"value\")  \n", 
                "# Valid Choices: \n", 
                "#      \"Non-penetrative convective adjustment\"  \n", 
                "#      \"Enhanced vertical diffusion\"  \n", 
                "#      \"Included in turbulence closure\"  \n", 
                "#      \"Other: [Please specify]\"  \n", 
                "# TODO\n", 
                "\n", 
                "# PROPERTY QUALITY CONTROL STATUS:  \n", 
                "# 0=draft, 1=in-review, 2=reviewed  \n", 
                "DOC.set_qc_status(0)"
            ], 
            "outputs": [], 
            "metadata": {
                "collapsed": true
            }
        }, 
        {
            "source": [
                "### 28.2. Tide Induced Mixing\n", 
                " *Describe how tide induced mixing is modelled (barotropic, baroclinic, none)*\n", 
                "\n", 
                "**Is Required:** TRUE&nbsp;&nbsp;&nbsp;&nbsp;**Type:** STRING&nbsp;&nbsp;&nbsp;&nbsp;**Cardinality:** 1.1"
            ], 
            "cell_type": "markdown", 
            "metadata": {}
        }, 
        {
            "execution_count": null, 
            "cell_type": "code", 
            "source": [
                "# PROPERTY ID - DO NOT EDIT !  \n", 
                "DOC.set_id('cmip6.ocean.vertical_physics.interior_mixing.details.tide_induced_mixing')  \n", 
                "\n", 
                "# PROPERTY VALUE: \n", 
                "# Set as follows: DOC.set_value(\"value\")  \n", 
                "# TODO\n", 
                "\n", 
                "# PROPERTY QUALITY CONTROL STATUS:  \n", 
                "# 0=draft, 1=in-review, 2=reviewed  \n", 
                "DOC.set_qc_status(0)"
            ], 
            "outputs": [], 
            "metadata": {
                "collapsed": true
            }
        }, 
        {
            "source": [
                "### 28.3. Double Diffusion\n", 
                " *Is there double diffusion*\n", 
                "\n", 
                "**Is Required:** TRUE&nbsp;&nbsp;&nbsp;&nbsp;**Type:** BOOLEAN&nbsp;&nbsp;&nbsp;&nbsp;**Cardinality:** 1.1"
            ], 
            "cell_type": "markdown", 
            "metadata": {}
        }, 
        {
            "execution_count": null, 
            "cell_type": "code", 
            "source": [
                "# PROPERTY ID - DO NOT EDIT !  \n", 
                "DOC.set_id('cmip6.ocean.vertical_physics.interior_mixing.details.double_diffusion')  \n", 
                "\n", 
                "# PROPERTY VALUE: \n", 
                "# Set as follows: DOC.set_value(value)  \n", 
                "# Valid Choices: \n", 
                "#     True  \n", 
                "#     False  \n", 
                "# TODO\n", 
                "\n", 
                "# PROPERTY QUALITY CONTROL STATUS:  \n", 
                "# 0=draft, 1=in-review, 2=reviewed  \n", 
                "DOC.set_qc_status(0)"
            ], 
            "outputs": [], 
            "metadata": {
                "collapsed": true
            }
        }, 
        {
            "source": [
                "### 28.4. Shear Mixing\n", 
                " *Is there interior shear mixing*\n", 
                "\n", 
                "**Is Required:** TRUE&nbsp;&nbsp;&nbsp;&nbsp;**Type:** BOOLEAN&nbsp;&nbsp;&nbsp;&nbsp;**Cardinality:** 1.1"
            ], 
            "cell_type": "markdown", 
            "metadata": {}
        }, 
        {
            "execution_count": null, 
            "cell_type": "code", 
            "source": [
                "# PROPERTY ID - DO NOT EDIT !  \n", 
                "DOC.set_id('cmip6.ocean.vertical_physics.interior_mixing.details.shear_mixing')  \n", 
                "\n", 
                "# PROPERTY VALUE: \n", 
                "# Set as follows: DOC.set_value(value)  \n", 
                "# Valid Choices: \n", 
                "#     True  \n", 
                "#     False  \n", 
                "# TODO\n", 
                "\n", 
                "# PROPERTY QUALITY CONTROL STATUS:  \n", 
                "# 0=draft, 1=in-review, 2=reviewed  \n", 
                "DOC.set_qc_status(0)"
            ], 
            "outputs": [], 
            "metadata": {
                "collapsed": true
            }
        }, 
        {
            "source": [
                "# 29. Vertical Physics --&gt; Interior Mixing --&gt; Tracers  \n", 
                "*Properties of interior mixing on tracers in the ocean *"
            ], 
            "cell_type": "markdown", 
            "metadata": {}
        }, 
        {
            "source": [
                "### 29.1. Type\n", 
                " *Type of interior mixing for tracers in ocean*\n", 
                "\n", 
                "**Is Required:** TRUE&nbsp;&nbsp;&nbsp;&nbsp;**Type:** ENUM&nbsp;&nbsp;&nbsp;&nbsp;**Cardinality:** 1.1"
            ], 
            "cell_type": "markdown", 
            "metadata": {}
        }, 
        {
            "execution_count": null, 
            "cell_type": "code", 
            "source": [
                "# PROPERTY ID - DO NOT EDIT !  \n", 
                "DOC.set_id('cmip6.ocean.vertical_physics.interior_mixing.tracers.type')  \n", 
                "\n", 
                "# PROPERTY VALUE: \n", 
                "# Set as follows: DOC.set_value(\"value\")  \n", 
                "# Valid Choices: \n", 
                "#      \"Constant value\"  \n", 
                "#      \"Turbulent closure / TKE\"  \n", 
                "#      \"Turbulent closure - Mellor-Yamada\"  \n", 
                "#      \"Richardson number dependent - PP\"  \n", 
                "#      \"Richardson number dependent - KT\"  \n", 
                "#      \"Imbeded as isopycnic vertical coordinate\"  \n", 
                "#      \"Other: [Please specify]\"  \n", 
                "# TODO\n", 
                "\n", 
                "# PROPERTY QUALITY CONTROL STATUS:  \n", 
                "# 0=draft, 1=in-review, 2=reviewed  \n", 
                "DOC.set_qc_status(0)"
            ], 
            "outputs": [], 
            "metadata": {
                "collapsed": true
            }
        }, 
        {
            "source": [
                "### 29.2. Constant\n", 
                " *If constant interior mixing of tracers, specific coefficient (m2/s)*\n", 
                "\n", 
                "**Is Required:** FALSE&nbsp;&nbsp;&nbsp;&nbsp;**Type:** INTEGER&nbsp;&nbsp;&nbsp;&nbsp;**Cardinality:** 0.1"
            ], 
            "cell_type": "markdown", 
            "metadata": {}
        }, 
        {
            "execution_count": null, 
            "cell_type": "code", 
            "source": [
                "# PROPERTY ID - DO NOT EDIT !  \n", 
                "DOC.set_id('cmip6.ocean.vertical_physics.interior_mixing.tracers.constant')  \n", 
                "\n", 
                "# PROPERTY VALUE: \n", 
                "# Set as follows: DOC.set_value(value)  \n", 
                "# TODO\n", 
                "\n", 
                "# PROPERTY QUALITY CONTROL STATUS:  \n", 
                "# 0=draft, 1=in-review, 2=reviewed  \n", 
                "DOC.set_qc_status(0)"
            ], 
            "outputs": [], 
            "metadata": {
                "collapsed": true
            }
        }, 
        {
            "source": [
                "### 29.3. Profile\n", 
                " *Is the background interior mixing using a vertical profile for tracers (i.e is NOT constant) ?*\n", 
                "\n", 
                "**Is Required:** TRUE&nbsp;&nbsp;&nbsp;&nbsp;**Type:** STRING&nbsp;&nbsp;&nbsp;&nbsp;**Cardinality:** 1.1"
            ], 
            "cell_type": "markdown", 
            "metadata": {}
        }, 
        {
            "execution_count": null, 
            "cell_type": "code", 
            "source": [
                "# PROPERTY ID - DO NOT EDIT !  \n", 
                "DOC.set_id('cmip6.ocean.vertical_physics.interior_mixing.tracers.profile')  \n", 
                "\n", 
                "# PROPERTY VALUE: \n", 
                "# Set as follows: DOC.set_value(\"value\")  \n", 
                "# TODO\n", 
                "\n", 
                "# PROPERTY QUALITY CONTROL STATUS:  \n", 
                "# 0=draft, 1=in-review, 2=reviewed  \n", 
                "DOC.set_qc_status(0)"
            ], 
            "outputs": [], 
            "metadata": {
                "collapsed": true
            }
        }, 
        {
            "source": [
                "### 29.4. Background\n", 
                " *Background interior mixing of tracers coefficient, (schema and value in m2/s - may by none)*\n", 
                "\n", 
                "**Is Required:** TRUE&nbsp;&nbsp;&nbsp;&nbsp;**Type:** STRING&nbsp;&nbsp;&nbsp;&nbsp;**Cardinality:** 1.1"
            ], 
            "cell_type": "markdown", 
            "metadata": {}
        }, 
        {
            "execution_count": null, 
            "cell_type": "code", 
            "source": [
                "# PROPERTY ID - DO NOT EDIT !  \n", 
                "DOC.set_id('cmip6.ocean.vertical_physics.interior_mixing.tracers.background')  \n", 
                "\n", 
                "# PROPERTY VALUE: \n", 
                "# Set as follows: DOC.set_value(\"value\")  \n", 
                "# TODO\n", 
                "\n", 
                "# PROPERTY QUALITY CONTROL STATUS:  \n", 
                "# 0=draft, 1=in-review, 2=reviewed  \n", 
                "DOC.set_qc_status(0)"
            ], 
            "outputs": [], 
            "metadata": {
                "collapsed": true
            }
        }, 
        {
            "source": [
                "# 30. Vertical Physics --&gt; Interior Mixing --&gt; Momentum  \n", 
                "*Properties of interior mixing on momentum in the ocean *"
            ], 
            "cell_type": "markdown", 
            "metadata": {}
        }, 
        {
            "source": [
                "### 30.1. Type\n", 
                " *Type of interior mixing for momentum in ocean*\n", 
                "\n", 
                "**Is Required:** TRUE&nbsp;&nbsp;&nbsp;&nbsp;**Type:** ENUM&nbsp;&nbsp;&nbsp;&nbsp;**Cardinality:** 1.1"
            ], 
            "cell_type": "markdown", 
            "metadata": {}
        }, 
        {
            "execution_count": null, 
            "cell_type": "code", 
            "source": [
                "# PROPERTY ID - DO NOT EDIT !  \n", 
                "DOC.set_id('cmip6.ocean.vertical_physics.interior_mixing.momentum.type')  \n", 
                "\n", 
                "# PROPERTY VALUE: \n", 
                "# Set as follows: DOC.set_value(\"value\")  \n", 
                "# Valid Choices: \n", 
                "#      \"Constant value\"  \n", 
                "#      \"Turbulent closure / TKE\"  \n", 
                "#      \"Turbulent closure - Mellor-Yamada\"  \n", 
                "#      \"Richardson number dependent - PP\"  \n", 
                "#      \"Richardson number dependent - KT\"  \n", 
                "#      \"Imbeded as isopycnic vertical coordinate\"  \n", 
                "#      \"Other: [Please specify]\"  \n", 
                "# TODO\n", 
                "\n", 
                "# PROPERTY QUALITY CONTROL STATUS:  \n", 
                "# 0=draft, 1=in-review, 2=reviewed  \n", 
                "DOC.set_qc_status(0)"
            ], 
            "outputs": [], 
            "metadata": {
                "collapsed": true
            }
        }, 
        {
            "source": [
                "### 30.2. Constant\n", 
                " *If constant interior mixing of momentum, specific coefficient (m2/s)*\n", 
                "\n", 
                "**Is Required:** FALSE&nbsp;&nbsp;&nbsp;&nbsp;**Type:** INTEGER&nbsp;&nbsp;&nbsp;&nbsp;**Cardinality:** 0.1"
            ], 
            "cell_type": "markdown", 
            "metadata": {}
        }, 
        {
            "execution_count": null, 
            "cell_type": "code", 
            "source": [
                "# PROPERTY ID - DO NOT EDIT !  \n", 
                "DOC.set_id('cmip6.ocean.vertical_physics.interior_mixing.momentum.constant')  \n", 
                "\n", 
                "# PROPERTY VALUE: \n", 
                "# Set as follows: DOC.set_value(value)  \n", 
                "# TODO\n", 
                "\n", 
                "# PROPERTY QUALITY CONTROL STATUS:  \n", 
                "# 0=draft, 1=in-review, 2=reviewed  \n", 
                "DOC.set_qc_status(0)"
            ], 
            "outputs": [], 
            "metadata": {
                "collapsed": true
            }
        }, 
        {
            "source": [
                "### 30.3. Profile\n", 
                " *Is the background interior mixing using a vertical profile for momentum (i.e is NOT constant) ?*\n", 
                "\n", 
                "**Is Required:** TRUE&nbsp;&nbsp;&nbsp;&nbsp;**Type:** STRING&nbsp;&nbsp;&nbsp;&nbsp;**Cardinality:** 1.1"
            ], 
            "cell_type": "markdown", 
            "metadata": {}
        }, 
        {
            "execution_count": null, 
            "cell_type": "code", 
            "source": [
                "# PROPERTY ID - DO NOT EDIT !  \n", 
                "DOC.set_id('cmip6.ocean.vertical_physics.interior_mixing.momentum.profile')  \n", 
                "\n", 
                "# PROPERTY VALUE: \n", 
                "# Set as follows: DOC.set_value(\"value\")  \n", 
                "# TODO\n", 
                "\n", 
                "# PROPERTY QUALITY CONTROL STATUS:  \n", 
                "# 0=draft, 1=in-review, 2=reviewed  \n", 
                "DOC.set_qc_status(0)"
            ], 
            "outputs": [], 
            "metadata": {
                "collapsed": true
            }
        }, 
        {
            "source": [
                "### 30.4. Background\n", 
                " *Background interior mixing of momentum coefficient, (schema and value in m2/s - may by none)*\n", 
                "\n", 
                "**Is Required:** TRUE&nbsp;&nbsp;&nbsp;&nbsp;**Type:** STRING&nbsp;&nbsp;&nbsp;&nbsp;**Cardinality:** 1.1"
            ], 
            "cell_type": "markdown", 
            "metadata": {}
        }, 
        {
            "execution_count": null, 
            "cell_type": "code", 
            "source": [
                "# PROPERTY ID - DO NOT EDIT !  \n", 
                "DOC.set_id('cmip6.ocean.vertical_physics.interior_mixing.momentum.background')  \n", 
                "\n", 
                "# PROPERTY VALUE: \n", 
                "# Set as follows: DOC.set_value(\"value\")  \n", 
                "# TODO\n", 
                "\n", 
                "# PROPERTY QUALITY CONTROL STATUS:  \n", 
                "# 0=draft, 1=in-review, 2=reviewed  \n", 
                "DOC.set_qc_status(0)"
            ], 
            "outputs": [], 
            "metadata": {
                "collapsed": true
            }
        }, 
        {
            "source": [
                "# 31. Uplow Boundaries --&gt; Free Surface  \n", 
                "*Properties of free surface in ocean*"
            ], 
            "cell_type": "markdown", 
            "metadata": {}
        }, 
        {
            "source": [
                "### 31.1. Scheme\n", 
                " *Free surface scheme in ocean*\n", 
                "\n", 
                "**Is Required:** TRUE&nbsp;&nbsp;&nbsp;&nbsp;**Type:** ENUM&nbsp;&nbsp;&nbsp;&nbsp;**Cardinality:** 1.1"
            ], 
            "cell_type": "markdown", 
            "metadata": {}
        }, 
        {
            "execution_count": null, 
            "cell_type": "code", 
            "source": [
                "# PROPERTY ID - DO NOT EDIT !  \n", 
                "DOC.set_id('cmip6.ocean.uplow_boundaries.free_surface.scheme')  \n", 
                "\n", 
                "# PROPERTY VALUE: \n", 
                "# Set as follows: DOC.set_value(\"value\")  \n", 
                "# Valid Choices: \n", 
                "#      \"Linear implicit\"  \n", 
                "#      \"Linear filtered\"  \n", 
                "#      \"Linear semi-explicit\"  \n", 
                "#      \"Non-linear implicit\"  \n", 
                "#      \"Non-linear filtered\"  \n", 
                "#      \"Non-linear semi-explicit\"  \n", 
                "#      \"Other: [Please specify]\"  \n", 
                "# TODO\n", 
                "\n", 
                "# PROPERTY QUALITY CONTROL STATUS:  \n", 
                "# 0=draft, 1=in-review, 2=reviewed  \n", 
                "DOC.set_qc_status(0)"
            ], 
            "outputs": [], 
            "metadata": {
                "collapsed": true
            }
        }, 
        {
            "source": [
                "### 31.2. Embeded Seaice\n", 
                " *Is the sea-ice embeded in the ocean model (instead of levitating) ?*\n", 
                "\n", 
                "**Is Required:** TRUE&nbsp;&nbsp;&nbsp;&nbsp;**Type:** BOOLEAN&nbsp;&nbsp;&nbsp;&nbsp;**Cardinality:** 1.1"
            ], 
            "cell_type": "markdown", 
            "metadata": {}
        }, 
        {
            "execution_count": null, 
            "cell_type": "code", 
            "source": [
                "# PROPERTY ID - DO NOT EDIT !  \n", 
                "DOC.set_id('cmip6.ocean.uplow_boundaries.free_surface.embeded_seaice')  \n", 
                "\n", 
                "# PROPERTY VALUE: \n", 
                "# Set as follows: DOC.set_value(value)  \n", 
                "# Valid Choices: \n", 
                "#     True  \n", 
                "#     False  \n", 
                "# TODO\n", 
                "\n", 
                "# PROPERTY QUALITY CONTROL STATUS:  \n", 
                "# 0=draft, 1=in-review, 2=reviewed  \n", 
                "DOC.set_qc_status(0)"
            ], 
            "outputs": [], 
            "metadata": {
                "collapsed": true
            }
        }, 
        {
            "source": [
                "# 32. Uplow Boundaries --&gt; Bottom Boundary Layer  \n", 
                "*Properties of bottom boundary layer in ocean*"
            ], 
            "cell_type": "markdown", 
            "metadata": {}
        }, 
        {
            "source": [
                "### 32.1. Type Of Bbl\n", 
                " *Type of bottom boundary layer in ocean*\n", 
                "\n", 
                "**Is Required:** TRUE&nbsp;&nbsp;&nbsp;&nbsp;**Type:** ENUM&nbsp;&nbsp;&nbsp;&nbsp;**Cardinality:** 1.1"
            ], 
            "cell_type": "markdown", 
            "metadata": {}
        }, 
        {
            "execution_count": null, 
            "cell_type": "code", 
            "source": [
                "# PROPERTY ID - DO NOT EDIT !  \n", 
                "DOC.set_id('cmip6.ocean.uplow_boundaries.bottom_boundary_layer.type_of_bbl')  \n", 
                "\n", 
                "# PROPERTY VALUE: \n", 
                "# Set as follows: DOC.set_value(\"value\")  \n", 
                "# Valid Choices: \n", 
                "#      \"Diffusive\"  \n", 
                "#      \"Acvective\"  \n", 
                "#      \"Other: [Please specify]\"  \n", 
                "# TODO\n", 
                "\n", 
                "# PROPERTY QUALITY CONTROL STATUS:  \n", 
                "# 0=draft, 1=in-review, 2=reviewed  \n", 
                "DOC.set_qc_status(0)"
            ], 
            "outputs": [], 
            "metadata": {
                "collapsed": true
            }
        }, 
        {
            "source": [
                "### 32.2. Lateral Mixing Coef\n", 
                " *If bottom BL is diffusive, specify value of lateral mixing coefficient (in m2/s)*\n", 
                "\n", 
                "**Is Required:** FALSE&nbsp;&nbsp;&nbsp;&nbsp;**Type:** INTEGER&nbsp;&nbsp;&nbsp;&nbsp;**Cardinality:** 0.1"
            ], 
            "cell_type": "markdown", 
            "metadata": {}
        }, 
        {
            "execution_count": null, 
            "cell_type": "code", 
            "source": [
                "# PROPERTY ID - DO NOT EDIT !  \n", 
                "DOC.set_id('cmip6.ocean.uplow_boundaries.bottom_boundary_layer.lateral_mixing_coef')  \n", 
                "\n", 
                "# PROPERTY VALUE: \n", 
                "# Set as follows: DOC.set_value(value)  \n", 
                "# TODO\n", 
                "\n", 
                "# PROPERTY QUALITY CONTROL STATUS:  \n", 
                "# 0=draft, 1=in-review, 2=reviewed  \n", 
                "DOC.set_qc_status(0)"
            ], 
            "outputs": [], 
            "metadata": {
                "collapsed": true
            }
        }, 
        {
            "source": [
                "### 32.3. Sill Overflow\n", 
                " *Describe any specific treatment of sill overflows*\n", 
                "\n", 
                "**Is Required:** TRUE&nbsp;&nbsp;&nbsp;&nbsp;**Type:** STRING&nbsp;&nbsp;&nbsp;&nbsp;**Cardinality:** 1.1"
            ], 
            "cell_type": "markdown", 
            "metadata": {}
        }, 
        {
            "execution_count": null, 
            "cell_type": "code", 
            "source": [
                "# PROPERTY ID - DO NOT EDIT !  \n", 
                "DOC.set_id('cmip6.ocean.uplow_boundaries.bottom_boundary_layer.sill_overflow')  \n", 
                "\n", 
                "# PROPERTY VALUE: \n", 
                "# Set as follows: DOC.set_value(\"value\")  \n", 
                "# TODO\n", 
                "\n", 
                "# PROPERTY QUALITY CONTROL STATUS:  \n", 
                "# 0=draft, 1=in-review, 2=reviewed  \n", 
                "DOC.set_qc_status(0)"
            ], 
            "outputs": [], 
            "metadata": {
                "collapsed": true
            }
        }, 
        {
            "source": [
                "# 33. Boundary Forcing  \n", 
                "*Ocean boundary forcing*"
            ], 
            "cell_type": "markdown", 
            "metadata": {}
        }, 
        {
            "source": [
                "### 33.1. Surface Pressure\n", 
                " *Describe how surface pressure is transmitted to ocean (via sea-ice, nothing specific,...)*\n", 
                "\n", 
                "**Is Required:** TRUE&nbsp;&nbsp;&nbsp;&nbsp;**Type:** STRING&nbsp;&nbsp;&nbsp;&nbsp;**Cardinality:** 1.1"
            ], 
            "cell_type": "markdown", 
            "metadata": {}
        }, 
        {
            "execution_count": null, 
            "cell_type": "code", 
            "source": [
                "# PROPERTY ID - DO NOT EDIT !  \n", 
                "DOC.set_id('cmip6.ocean.boundary_forcing.surface_pressure')  \n", 
                "\n", 
                "# PROPERTY VALUE: \n", 
                "# Set as follows: DOC.set_value(\"value\")  \n", 
                "# TODO\n", 
                "\n", 
                "# PROPERTY QUALITY CONTROL STATUS:  \n", 
                "# 0=draft, 1=in-review, 2=reviewed  \n", 
                "DOC.set_qc_status(0)"
            ], 
            "outputs": [], 
            "metadata": {
                "collapsed": true
            }
        }, 
        {
            "source": [
                "### 33.2. Momentum Flux Correction\n", 
                " *Describe any type of ocean surface momentum flux correction and, if applicable, how it is applied and where.*\n", 
                "\n", 
                "**Is Required:** FALSE&nbsp;&nbsp;&nbsp;&nbsp;**Type:** STRING&nbsp;&nbsp;&nbsp;&nbsp;**Cardinality:** 0.1"
            ], 
            "cell_type": "markdown", 
            "metadata": {}
        }, 
        {
            "execution_count": null, 
            "cell_type": "code", 
            "source": [
                "# PROPERTY ID - DO NOT EDIT !  \n", 
                "DOC.set_id('cmip6.ocean.boundary_forcing.momentum_flux_correction')  \n", 
                "\n", 
                "# PROPERTY VALUE: \n", 
                "# Set as follows: DOC.set_value(\"value\")  \n", 
                "# TODO\n", 
                "\n", 
                "# PROPERTY QUALITY CONTROL STATUS:  \n", 
                "# 0=draft, 1=in-review, 2=reviewed  \n", 
                "DOC.set_qc_status(0)"
            ], 
            "outputs": [], 
            "metadata": {
                "collapsed": true
            }
        }, 
        {
            "source": [
                "### 33.3. Tracers Flux Correction\n", 
                " *Describe any type of ocean surface tracers flux correction and, if applicable, how it is applied and where.*\n", 
                "\n", 
                "**Is Required:** FALSE&nbsp;&nbsp;&nbsp;&nbsp;**Type:** STRING&nbsp;&nbsp;&nbsp;&nbsp;**Cardinality:** 0.1"
            ], 
            "cell_type": "markdown", 
            "metadata": {}
        }, 
        {
            "execution_count": null, 
            "cell_type": "code", 
            "source": [
                "# PROPERTY ID - DO NOT EDIT !  \n", 
                "DOC.set_id('cmip6.ocean.boundary_forcing.tracers_flux_correction')  \n", 
                "\n", 
                "# PROPERTY VALUE: \n", 
                "# Set as follows: DOC.set_value(\"value\")  \n", 
                "# TODO\n", 
                "\n", 
                "# PROPERTY QUALITY CONTROL STATUS:  \n", 
                "# 0=draft, 1=in-review, 2=reviewed  \n", 
                "DOC.set_qc_status(0)"
            ], 
            "outputs": [], 
            "metadata": {
                "collapsed": true
            }
        }, 
        {
            "source": [
                "### 33.4. Wave Effects\n", 
                " *Describe if/how wave effects are modelled at ocean surface.*\n", 
                "\n", 
                "**Is Required:** TRUE&nbsp;&nbsp;&nbsp;&nbsp;**Type:** STRING&nbsp;&nbsp;&nbsp;&nbsp;**Cardinality:** 1.1"
            ], 
            "cell_type": "markdown", 
            "metadata": {}
        }, 
        {
            "execution_count": null, 
            "cell_type": "code", 
            "source": [
                "# PROPERTY ID - DO NOT EDIT !  \n", 
                "DOC.set_id('cmip6.ocean.boundary_forcing.wave_effects')  \n", 
                "\n", 
                "# PROPERTY VALUE: \n", 
                "# Set as follows: DOC.set_value(\"value\")  \n", 
                "# TODO\n", 
                "\n", 
                "# PROPERTY QUALITY CONTROL STATUS:  \n", 
                "# 0=draft, 1=in-review, 2=reviewed  \n", 
                "DOC.set_qc_status(0)"
            ], 
            "outputs": [], 
            "metadata": {
                "collapsed": true
            }
        }, 
        {
            "source": [
                "### 33.5. River Runoff Budget\n", 
                " *Describe how river runoff from land surface is routed to ocean and any global adjustment done.*\n", 
                "\n", 
                "**Is Required:** TRUE&nbsp;&nbsp;&nbsp;&nbsp;**Type:** STRING&nbsp;&nbsp;&nbsp;&nbsp;**Cardinality:** 1.1"
            ], 
            "cell_type": "markdown", 
            "metadata": {}
        }, 
        {
            "execution_count": null, 
            "cell_type": "code", 
            "source": [
                "# PROPERTY ID - DO NOT EDIT !  \n", 
                "DOC.set_id('cmip6.ocean.boundary_forcing.river_runoff_budget')  \n", 
                "\n", 
                "# PROPERTY VALUE: \n", 
                "# Set as follows: DOC.set_value(\"value\")  \n", 
                "# TODO\n", 
                "\n", 
                "# PROPERTY QUALITY CONTROL STATUS:  \n", 
                "# 0=draft, 1=in-review, 2=reviewed  \n", 
                "DOC.set_qc_status(0)"
            ], 
            "outputs": [], 
            "metadata": {
                "collapsed": true
            }
        }, 
        {
            "source": [
                "### 33.6. Geothermal Heating\n", 
                " *Describe if/how geothermal heating is present at ocean bottom.*\n", 
                "\n", 
                "**Is Required:** TRUE&nbsp;&nbsp;&nbsp;&nbsp;**Type:** STRING&nbsp;&nbsp;&nbsp;&nbsp;**Cardinality:** 1.1"
            ], 
            "cell_type": "markdown", 
            "metadata": {}
        }, 
        {
            "execution_count": null, 
            "cell_type": "code", 
            "source": [
                "# PROPERTY ID - DO NOT EDIT !  \n", 
                "DOC.set_id('cmip6.ocean.boundary_forcing.geothermal_heating')  \n", 
                "\n", 
                "# PROPERTY VALUE: \n", 
                "# Set as follows: DOC.set_value(\"value\")  \n", 
                "# TODO\n", 
                "\n", 
                "# PROPERTY QUALITY CONTROL STATUS:  \n", 
                "# 0=draft, 1=in-review, 2=reviewed  \n", 
                "DOC.set_qc_status(0)"
            ], 
            "outputs": [], 
            "metadata": {
                "collapsed": true
            }
        }, 
        {
            "source": [
                "# 34. Boundary Forcing --&gt; Momentum --&gt; Bottom Friction  \n", 
                "*Properties of momentum bottom friction in ocean*"
            ], 
            "cell_type": "markdown", 
            "metadata": {}
        }, 
        {
            "source": [
                "### 34.1. Type\n", 
                " *Type of momentum bottom friction in ocean*\n", 
                "\n", 
                "**Is Required:** TRUE&nbsp;&nbsp;&nbsp;&nbsp;**Type:** ENUM&nbsp;&nbsp;&nbsp;&nbsp;**Cardinality:** 1.1"
            ], 
            "cell_type": "markdown", 
            "metadata": {}
        }, 
        {
            "execution_count": null, 
            "cell_type": "code", 
            "source": [
                "# PROPERTY ID - DO NOT EDIT !  \n", 
                "DOC.set_id('cmip6.ocean.boundary_forcing.momentum.bottom_friction.type')  \n", 
                "\n", 
                "# PROPERTY VALUE: \n", 
                "# Set as follows: DOC.set_value(\"value\")  \n", 
                "# Valid Choices: \n", 
                "#      \"Linear\"  \n", 
                "#      \"Non-linear\"  \n", 
                "#      \"Non-linear (drag function of speed of tides)\"  \n", 
                "#      \"Constant drag coefficient\"  \n", 
                "#      \"None\"  \n", 
                "#      \"Other: [Please specify]\"  \n", 
                "# TODO\n", 
                "\n", 
                "# PROPERTY QUALITY CONTROL STATUS:  \n", 
                "# 0=draft, 1=in-review, 2=reviewed  \n", 
                "DOC.set_qc_status(0)"
            ], 
            "outputs": [], 
            "metadata": {
                "collapsed": true
            }
        }, 
        {
            "source": [
                "# 35. Boundary Forcing --&gt; Momentum --&gt; Lateral Friction  \n", 
                "*Properties of momentum lateral friction in ocean*"
            ], 
            "cell_type": "markdown", 
            "metadata": {}
        }, 
        {
            "source": [
                "### 35.1. Type\n", 
                " *Type of momentum lateral friction in ocean*\n", 
                "\n", 
                "**Is Required:** TRUE&nbsp;&nbsp;&nbsp;&nbsp;**Type:** ENUM&nbsp;&nbsp;&nbsp;&nbsp;**Cardinality:** 1.1"
            ], 
            "cell_type": "markdown", 
            "metadata": {}
        }, 
        {
            "execution_count": null, 
            "cell_type": "code", 
            "source": [
                "# PROPERTY ID - DO NOT EDIT !  \n", 
                "DOC.set_id('cmip6.ocean.boundary_forcing.momentum.lateral_friction.type')  \n", 
                "\n", 
                "# PROPERTY VALUE: \n", 
                "# Set as follows: DOC.set_value(\"value\")  \n", 
                "# Valid Choices: \n", 
                "#      \"None\"  \n", 
                "#      \"Free-slip\"  \n", 
                "#      \"No-slip\"  \n", 
                "#      \"Other: [Please specify]\"  \n", 
                "# TODO\n", 
                "\n", 
                "# PROPERTY QUALITY CONTROL STATUS:  \n", 
                "# 0=draft, 1=in-review, 2=reviewed  \n", 
                "DOC.set_qc_status(0)"
            ], 
            "outputs": [], 
            "metadata": {
                "collapsed": true
            }
        }, 
        {
            "source": [
                "# 36. Boundary Forcing --&gt; Tracers --&gt; Sunlight Penetration  \n", 
                "*Properties of sunlight penetration scheme in ocean*"
            ], 
            "cell_type": "markdown", 
            "metadata": {}
        }, 
        {
            "source": [
                "### 36.1. Scheme\n", 
                " *Type of sunlight penetration scheme in ocean*\n", 
                "\n", 
                "**Is Required:** TRUE&nbsp;&nbsp;&nbsp;&nbsp;**Type:** ENUM&nbsp;&nbsp;&nbsp;&nbsp;**Cardinality:** 1.1"
            ], 
            "cell_type": "markdown", 
            "metadata": {}
        }, 
        {
            "execution_count": null, 
            "cell_type": "code", 
            "source": [
                "# PROPERTY ID - DO NOT EDIT !  \n", 
                "DOC.set_id('cmip6.ocean.boundary_forcing.tracers.sunlight_penetration.scheme')  \n", 
                "\n", 
                "# PROPERTY VALUE: \n", 
                "# Set as follows: DOC.set_value(\"value\")  \n", 
                "# Valid Choices: \n", 
                "#      \"1 extinction depth\"  \n", 
                "#      \"2 extinction depth\"  \n", 
                "#      \"3 extinction depth\"  \n", 
                "#      \"Other: [Please specify]\"  \n", 
                "# TODO\n", 
                "\n", 
                "# PROPERTY QUALITY CONTROL STATUS:  \n", 
                "# 0=draft, 1=in-review, 2=reviewed  \n", 
                "DOC.set_qc_status(0)"
            ], 
            "outputs": [], 
            "metadata": {
                "collapsed": true
            }
        }, 
        {
            "source": [
                "### 36.2. Ocean Colour\n", 
                " *Is the ocean sunlight penetration scheme ocean colour dependent ?*\n", 
                "\n", 
                "**Is Required:** TRUE&nbsp;&nbsp;&nbsp;&nbsp;**Type:** BOOLEAN&nbsp;&nbsp;&nbsp;&nbsp;**Cardinality:** 1.1"
            ], 
            "cell_type": "markdown", 
            "metadata": {}
        }, 
        {
            "execution_count": null, 
            "cell_type": "code", 
            "source": [
                "# PROPERTY ID - DO NOT EDIT !  \n", 
                "DOC.set_id('cmip6.ocean.boundary_forcing.tracers.sunlight_penetration.ocean_colour')  \n", 
                "\n", 
                "# PROPERTY VALUE: \n", 
                "# Set as follows: DOC.set_value(value)  \n", 
                "# Valid Choices: \n", 
                "#     True  \n", 
                "#     False  \n", 
                "# TODO\n", 
                "\n", 
                "# PROPERTY QUALITY CONTROL STATUS:  \n", 
                "# 0=draft, 1=in-review, 2=reviewed  \n", 
                "DOC.set_qc_status(0)"
            ], 
            "outputs": [], 
            "metadata": {
                "collapsed": true
            }
        }, 
        {
            "source": [
                "### 36.3. Extinction Depth\n", 
                " *Describe and list extinctions depths for sunlight penetration scheme (if applicable).*\n", 
                "\n", 
                "**Is Required:** FALSE&nbsp;&nbsp;&nbsp;&nbsp;**Type:** STRING&nbsp;&nbsp;&nbsp;&nbsp;**Cardinality:** 0.1"
            ], 
            "cell_type": "markdown", 
            "metadata": {}
        }, 
        {
            "execution_count": null, 
            "cell_type": "code", 
            "source": [
                "# PROPERTY ID - DO NOT EDIT !  \n", 
                "DOC.set_id('cmip6.ocean.boundary_forcing.tracers.sunlight_penetration.extinction_depth')  \n", 
                "\n", 
                "# PROPERTY VALUE: \n", 
                "# Set as follows: DOC.set_value(\"value\")  \n", 
                "# TODO\n", 
                "\n", 
                "# PROPERTY QUALITY CONTROL STATUS:  \n", 
                "# 0=draft, 1=in-review, 2=reviewed  \n", 
                "DOC.set_qc_status(0)"
            ], 
            "outputs": [], 
            "metadata": {
                "collapsed": true
            }
        }, 
        {
            "source": [
                "# 37. Boundary Forcing --&gt; Tracers --&gt; Fresh Water Forcing  \n", 
                "*Properties of surface fresh water forcing in ocean*"
            ], 
            "cell_type": "markdown", 
            "metadata": {}
        }, 
        {
            "source": [
                "### 37.1. From Atmopshere\n", 
                " *Type of surface fresh water forcing from atmos in ocean*\n", 
                "\n", 
                "**Is Required:** TRUE&nbsp;&nbsp;&nbsp;&nbsp;**Type:** ENUM&nbsp;&nbsp;&nbsp;&nbsp;**Cardinality:** 1.1"
            ], 
            "cell_type": "markdown", 
            "metadata": {}
        }, 
        {
            "execution_count": null, 
            "cell_type": "code", 
            "source": [
                "# PROPERTY ID - DO NOT EDIT !  \n", 
                "DOC.set_id('cmip6.ocean.boundary_forcing.tracers.fresh_water_forcing.from_atmopshere')  \n", 
                "\n", 
                "# PROPERTY VALUE: \n", 
                "# Set as follows: DOC.set_value(\"value\")  \n", 
                "# Valid Choices: \n", 
                "#      \"Freshwater flux\"  \n", 
                "#      \"Virtual salt flux\"  \n", 
                "#      \"Other: [Please specify]\"  \n", 
                "# TODO\n", 
                "\n", 
                "# PROPERTY QUALITY CONTROL STATUS:  \n", 
                "# 0=draft, 1=in-review, 2=reviewed  \n", 
                "DOC.set_qc_status(0)"
            ], 
            "outputs": [], 
            "metadata": {
                "collapsed": true
            }
        }, 
        {
            "source": [
                "### 37.2. From Sea Ice\n", 
                " *Type of surface fresh water forcing from sea-ice in ocean*\n", 
                "\n", 
                "**Is Required:** TRUE&nbsp;&nbsp;&nbsp;&nbsp;**Type:** ENUM&nbsp;&nbsp;&nbsp;&nbsp;**Cardinality:** 1.1"
            ], 
            "cell_type": "markdown", 
            "metadata": {}
        }, 
        {
            "execution_count": null, 
            "cell_type": "code", 
            "source": [
                "# PROPERTY ID - DO NOT EDIT !  \n", 
                "DOC.set_id('cmip6.ocean.boundary_forcing.tracers.fresh_water_forcing.from_sea_ice')  \n", 
                "\n", 
                "# PROPERTY VALUE: \n", 
                "# Set as follows: DOC.set_value(\"value\")  \n", 
                "# Valid Choices: \n", 
                "#      \"Freshwater flux\"  \n", 
                "#      \"Virtual salt flux\"  \n", 
                "#      \"Real salt flux\"  \n", 
                "#      \"Other: [Please specify]\"  \n", 
                "# TODO\n", 
                "\n", 
                "# PROPERTY QUALITY CONTROL STATUS:  \n", 
                "# 0=draft, 1=in-review, 2=reviewed  \n", 
                "DOC.set_qc_status(0)"
            ], 
            "outputs": [], 
            "metadata": {
                "collapsed": true
            }
        }, 
        {
            "source": [
                "### 37.3. Forced Mode Restoring\n", 
                " *Type of surface salinity restoring in forced mode (OMIP)*\n", 
                "\n", 
                "**Is Required:** TRUE&nbsp;&nbsp;&nbsp;&nbsp;**Type:** STRING&nbsp;&nbsp;&nbsp;&nbsp;**Cardinality:** 1.1"
            ], 
            "cell_type": "markdown", 
            "metadata": {}
        }, 
        {
            "execution_count": null, 
            "cell_type": "code", 
            "source": [
                "# PROPERTY ID - DO NOT EDIT !  \n", 
                "DOC.set_id('cmip6.ocean.boundary_forcing.tracers.fresh_water_forcing.forced_mode_restoring')  \n", 
                "\n", 
                "# PROPERTY VALUE: \n", 
                "# Set as follows: DOC.set_value(\"value\")  \n", 
                "# TODO\n", 
                "\n", 
                "# PROPERTY QUALITY CONTROL STATUS:  \n", 
                "# 0=draft, 1=in-review, 2=reviewed  \n", 
                "DOC.set_qc_status(0)"
            ], 
            "outputs": [], 
            "metadata": {
                "collapsed": true
            }
        }, 
        {
            "source": [
                "# Finalization"
            ], 
            "cell_type": "markdown", 
            "metadata": {}
        }, 
        {
            "source": [
                "### Document Persistence"
            ], 
            "cell_type": "markdown", 
            "metadata": {}
        }, 
        {
            "execution_count": null, 
            "cell_type": "code", 
            "source": [
                "# DO NOT EDIT !\n", 
                "DOC.write()"
            ], 
            "outputs": [], 
            "metadata": {}
        }
    ], 
    "metadata": {
        "kernelspec": {
            "display_name": "Python 2", 
            "name": "python2", 
            "language": "python"
        }, 
        "language_info": {
            "mimetype": "text/x-python", 
            "nbconvert_exporter": "python", 
            "name": "python", 
            "file_extension": ".py", 
            "version": "2.7.10", 
            "pygments_lexer": "ipython2", 
            "codemirror_mode": {
                "version": 2, 
                "name": "ipython"
            }
        }
    }
}