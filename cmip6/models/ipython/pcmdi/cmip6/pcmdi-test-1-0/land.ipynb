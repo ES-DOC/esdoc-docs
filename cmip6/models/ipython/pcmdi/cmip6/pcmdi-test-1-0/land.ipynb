{
    "nbformat_minor": 0, 
    "nbformat": 4, 
    "cells": [
        {
            "source": [
                "# ES-DOC CMIP6 Model Properties (Land) \n", 
                "**MIP Era**: CMIP6  \n", 
                "**Institute**: PCMDI  \n", 
                "**Source ID**: PCMDI-TEST-1-0  \n", 
                "**Realm**: Land  \n", 
                "**Processes**: Soil, Snow, Vegetation, Energy Balance, Albedo, Carbon Cycle, Nitrogen Cycle, River Routing, Lakes.   \n", 
                "**Properties**: 124 (84 required)  \n", 
                "\n", 
                "**Notebook Help**: [Goto notebook help page](http://wordpress.es-doc.org/how-to-document-cmip6-models)  \n", 
                "**Notebook Initialised**: 2017-05-23 14:59:21"
            ], 
            "cell_type": "markdown", 
            "metadata": {}
        }, 
        {
            "source": [
                "### Document Setup  \n", 
                "**IMPORTANT:** *to be executed each time you run the notebook*  "
            ], 
            "cell_type": "markdown", 
            "metadata": {}
        }, 
        {
            "execution_count": null, 
            "cell_type": "code", 
            "source": [
                "# DO NOT EDIT !  \n", 
                "from pyesdoc.ipython.model_realm_properties import NotebookOutput  \n", 
                "\n", 
                "# DO NOT EDIT !  \n", 
                "DOC = NotebookOutput('cmip6', 'pcmdi', 'pcmdi-test-1-0', 'land')"
            ], 
            "outputs": [], 
            "metadata": {}
        }, 
        {
            "source": [
                "### Document Authors  \n", 
                "*Set document authors*"
            ], 
            "cell_type": "markdown", 
            "metadata": {}
        }, 
        {
            "execution_count": null, 
            "cell_type": "code", 
            "source": [
                "# Set as follows: DOC.set_author(\"name\", \"email\")  \n", 
                "# TODO"
            ], 
            "outputs": [], 
            "metadata": {}
        }, 
        {
            "source": [
                "### Document Contributors  \n", 
                "*Specify document contributors*  "
            ], 
            "cell_type": "markdown", 
            "metadata": {}
        }, 
        {
            "execution_count": null, 
            "cell_type": "code", 
            "source": [
                "# Set as follows: DOC.set_contributor(\"name\", \"email\")  \n", 
                "# TODO"
            ], 
            "outputs": [], 
            "metadata": {}
        }, 
        {
            "source": [
                "### Document Table of Contents  \n", 
                "[1. Grid --&gt; Horizontal](#1.-Grid---&gt;-Horizontal)  \n", 
                "[2. Grid --&gt; Vertical](#2.-Grid---&gt;-Vertical)  \n", 
                "[3. Key Properties](#3.-Key-Properties)  \n", 
                "[4. Key Properties --&gt; Conservation Properties](#4.-Key-Properties---&gt;-Conservation-Properties)  \n", 
                "[5. Key Properties --&gt; Timestepping Framework](#5.-Key-Properties---&gt;-Timestepping-Framework)  \n", 
                "[6. Key Properties --&gt; Software Properties](#6.-Key-Properties---&gt;-Software-Properties)  \n", 
                "[7. Soil --&gt; Soil Map](#7.-Soil---&gt;-Soil-Map)  \n", 
                "[8. Soil --&gt; Hydrology](#8.-Soil---&gt;-Hydrology)  \n", 
                "[9. Soil --&gt; Hydrology --&gt; Freezing](#9.-Soil---&gt;-Hydrology---&gt;-Freezing)  \n", 
                "[10. Soil --&gt; Hydrology --&gt; Drainage](#10.-Soil---&gt;-Hydrology---&gt;-Drainage)  \n", 
                "[11. Soil --&gt; Hydrology --&gt; Runoff](#11.-Soil---&gt;-Hydrology---&gt;-Runoff)  \n", 
                "[12. Soil --&gt; Heat Treatment](#12.-Soil---&gt;-Heat-Treatment)  \n", 
                "[13. Snow](#13.-Snow)  \n", 
                "[14. Vegetation](#14.-Vegetation)  \n", 
                "[15. Vegetation --&gt; Methods](#15.-Vegetation---&gt;-Methods)  \n", 
                "[16. Energy Balance](#16.-Energy-Balance)  \n", 
                "[17. Albedo](#17.-Albedo)  \n", 
                "[18. Albedo --&gt; Snow Free Albedo](#18.-Albedo---&gt;-Snow-Free-Albedo)  \n", 
                "[19. Albedo --&gt; Snow Albedo](#19.-Albedo---&gt;-Snow-Albedo)  \n", 
                "[20. Albedo --&gt; Method](#20.-Albedo---&gt;-Method)  \n", 
                "[21. Carbon Cycle --&gt; Vegetation](#21.-Carbon-Cycle---&gt;-Vegetation)  \n", 
                "[22. Carbon Cycle --&gt; Vegetation --&gt; Photosynthesis](#22.-Carbon-Cycle---&gt;-Vegetation---&gt;-Photosynthesis)  \n", 
                "[23. Carbon Cycle --&gt; Vegetation --&gt; Autotrophic Respiration](#23.-Carbon-Cycle---&gt;-Vegetation---&gt;-Autotrophic-Respiration)  \n", 
                "[24. Carbon Cycle --&gt; Vegetation --&gt; Allocation](#24.-Carbon-Cycle---&gt;-Vegetation---&gt;-Allocation)  \n", 
                "[25. Carbon Cycle --&gt; Vegetation --&gt; Phenology](#25.-Carbon-Cycle---&gt;-Vegetation---&gt;-Phenology)  \n", 
                "[26. Carbon Cycle --&gt; Vegetation --&gt; Mortality](#26.-Carbon-Cycle---&gt;-Vegetation---&gt;-Mortality)  \n", 
                "[27. Carbon Cycle --&gt; Litter](#27.-Carbon-Cycle---&gt;-Litter)  \n", 
                "[28. Carbon Cycle --&gt; Soil](#28.-Carbon-Cycle---&gt;-Soil)  \n", 
                "[29. Carbon Cycle --&gt; Permafrost Carbon](#29.-Carbon-Cycle---&gt;-Permafrost-Carbon)  \n", 
                "[30. River Routing](#30.-River-Routing)  \n", 
                "[31. River Routing --&gt; Oceanic Discharge](#31.-River-Routing---&gt;-Oceanic-Discharge)  \n", 
                "[32. Lakes](#32.-Lakes)  \n", 
                "[33. Lakes --&gt; Method](#33.-Lakes---&gt;-Method)  \n", 
                "\n"
            ], 
            "cell_type": "markdown", 
            "metadata": {}
        }, 
        {
            "source": [
                "# 1. Grid --&gt; Horizontal  \n", 
                "*The horizontal grid in the land surface*"
            ], 
            "cell_type": "markdown", 
            "metadata": {}
        }, 
        {
            "source": [
                "### 1.1. Description\n", 
                " *Describe the general structure of the horizontal grid (not including any tiling)*\n", 
                "\n", 
                "**Is Required:** TRUE&nbsp;&nbsp;&nbsp;&nbsp;**Type:** STRING&nbsp;&nbsp;&nbsp;&nbsp;**Cardinality:** 1.1"
            ], 
            "cell_type": "markdown", 
            "metadata": {}
        }, 
        {
            "execution_count": null, 
            "cell_type": "code", 
            "source": [
                "# PROPERTY ID - DO NOT EDIT !  \n", 
                "DOC.set_id('cmip6.land.grid.horizontal.description')  \n", 
                "\n", 
                "# PROPERTY VALUE: \n", 
                "# Set as follows: DOC.set_value(\"value\")  \n", 
                "# TODO\n", 
                "\n", 
                "# PROPERTY QUALITY CONTROL STATUS:  \n", 
                "# 0=draft, 1=in-review, 2=reviewed  \n", 
                "DOC.set_qc_status(0)"
            ], 
            "outputs": [], 
            "metadata": {
                "collapsed": true
            }
        }, 
        {
            "source": [
                "### 1.2. Matches Atmosphere Grid\n", 
                " *Does the horizontal grid match the atmpsphere?*\n", 
                "\n", 
                "**Is Required:** TRUE&nbsp;&nbsp;&nbsp;&nbsp;**Type:** BOOLEAN&nbsp;&nbsp;&nbsp;&nbsp;**Cardinality:** 1.1"
            ], 
            "cell_type": "markdown", 
            "metadata": {}
        }, 
        {
            "execution_count": null, 
            "cell_type": "code", 
            "source": [
                "# PROPERTY ID - DO NOT EDIT !  \n", 
                "DOC.set_id('cmip6.land.grid.horizontal.matches_atmosphere_grid')  \n", 
                "\n", 
                "# PROPERTY VALUE: \n", 
                "# Set as follows: DOC.set_value(value)  \n", 
                "# Valid Choices: \n", 
                "#     True  \n", 
                "#     False  \n", 
                "# TODO\n", 
                "\n", 
                "# PROPERTY QUALITY CONTROL STATUS:  \n", 
                "# 0=draft, 1=in-review, 2=reviewed  \n", 
                "DOC.set_qc_status(0)"
            ], 
            "outputs": [], 
            "metadata": {
                "collapsed": true
            }
        }, 
        {
            "source": [
                "# 2. Grid --&gt; Vertical  \n", 
                "*The vertical grid in the soil*"
            ], 
            "cell_type": "markdown", 
            "metadata": {}
        }, 
        {
            "source": [
                "### 2.1. Description\n", 
                " *Describe the general structure of the  vertical grid in the soil (not including any tiling)*\n", 
                "\n", 
                "**Is Required:** TRUE&nbsp;&nbsp;&nbsp;&nbsp;**Type:** STRING&nbsp;&nbsp;&nbsp;&nbsp;**Cardinality:** 1.1"
            ], 
            "cell_type": "markdown", 
            "metadata": {}
        }, 
        {
            "execution_count": null, 
            "cell_type": "code", 
            "source": [
                "# PROPERTY ID - DO NOT EDIT !  \n", 
                "DOC.set_id('cmip6.land.grid.vertical.description')  \n", 
                "\n", 
                "# PROPERTY VALUE: \n", 
                "# Set as follows: DOC.set_value(\"value\")  \n", 
                "# TODO\n", 
                "\n", 
                "# PROPERTY QUALITY CONTROL STATUS:  \n", 
                "# 0=draft, 1=in-review, 2=reviewed  \n", 
                "DOC.set_qc_status(0)"
            ], 
            "outputs": [], 
            "metadata": {
                "collapsed": true
            }
        }, 
        {
            "source": [
                "### 2.2. Number Of Levels\n", 
                " *The total number of vertical levels in the soil*\n", 
                "\n", 
                "**Is Required:** TRUE&nbsp;&nbsp;&nbsp;&nbsp;**Type:** INTEGER&nbsp;&nbsp;&nbsp;&nbsp;**Cardinality:** 1.1"
            ], 
            "cell_type": "markdown", 
            "metadata": {}
        }, 
        {
            "execution_count": null, 
            "cell_type": "code", 
            "source": [
                "# PROPERTY ID - DO NOT EDIT !  \n", 
                "DOC.set_id('cmip6.land.grid.vertical.number_of_levels')  \n", 
                "\n", 
                "# PROPERTY VALUE: \n", 
                "# Set as follows: DOC.set_value(value)  \n", 
                "# TODO\n", 
                "\n", 
                "# PROPERTY QUALITY CONTROL STATUS:  \n", 
                "# 0=draft, 1=in-review, 2=reviewed  \n", 
                "DOC.set_qc_status(0)"
            ], 
            "outputs": [], 
            "metadata": {
                "collapsed": true
            }
        }, 
        {
            "source": [
                "# 3. Key Properties  \n", 
                "*Land surface key properties*"
            ], 
            "cell_type": "markdown", 
            "metadata": {}
        }, 
        {
            "source": [
                "### 3.1. Basic Approximations\n", 
                " *Decription of the basic approximations made in the LandSurface model*\n", 
                "\n", 
                "**Is Required:** TRUE&nbsp;&nbsp;&nbsp;&nbsp;**Type:** STRING&nbsp;&nbsp;&nbsp;&nbsp;**Cardinality:** 1.1"
            ], 
            "cell_type": "markdown", 
            "metadata": {}
        }, 
        {
            "execution_count": null, 
            "cell_type": "code", 
            "source": [
                "# PROPERTY ID - DO NOT EDIT !  \n", 
                "DOC.set_id('cmip6.land.key_properties.basic_approximations')  \n", 
                "\n", 
                "# PROPERTY VALUE: \n", 
                "# Set as follows: DOC.set_value(\"value\")  \n", 
                "# TODO\n", 
                "\n", 
                "# PROPERTY QUALITY CONTROL STATUS:  \n", 
                "# 0=draft, 1=in-review, 2=reviewed  \n", 
                "DOC.set_qc_status(0)"
            ], 
            "outputs": [], 
            "metadata": {
                "collapsed": true
            }
        }, 
        {
            "source": [
                "### 3.2. Land Atmosphere Flux Exchanges\n", 
                " *TODO.*\n", 
                "\n", 
                "**Is Required:** FALSE&nbsp;&nbsp;&nbsp;&nbsp;**Type:** ENUM&nbsp;&nbsp;&nbsp;&nbsp;**Cardinality:** 0.N"
            ], 
            "cell_type": "markdown", 
            "metadata": {}
        }, 
        {
            "execution_count": null, 
            "cell_type": "code", 
            "source": [
                "# PROPERTY ID - DO NOT EDIT !  \n", 
                "DOC.set_id('cmip6.land.key_properties.land_atmosphere_flux_exchanges')  \n", 
                "\n", 
                "# PROPERTY VALUE(S): \n", 
                "# Set as follows: DOC.set_value(\"value\")  \n", 
                "# Valid Choices: \n", 
                "#      \"water\"  \n", 
                "#      \"energy\"  \n", 
                "#      \"carbon\"  \n", 
                "#      \"nitrogen\"  \n", 
                "#      \"phospherous\"  \n", 
                "#      \"Other: [Please specify]\"  \n", 
                "# TODO\n", 
                "\n", 
                "# PROPERTY QUALITY CONTROL STATUS:  \n", 
                "# 0=draft, 1=in-review, 2=reviewed  \n", 
                "DOC.set_qc_status(0)"
            ], 
            "outputs": [], 
            "metadata": {
                "collapsed": true
            }
        }, 
        {
            "source": [
                "### 3.3. Atmospheric Coupling\n", 
                " *Specify the treatment of land surface coupling with the Atmosphere model component*\n", 
                "\n", 
                "**Is Required:** TRUE&nbsp;&nbsp;&nbsp;&nbsp;**Type:** ENUM&nbsp;&nbsp;&nbsp;&nbsp;**Cardinality:** 1.1"
            ], 
            "cell_type": "markdown", 
            "metadata": {}
        }, 
        {
            "execution_count": null, 
            "cell_type": "code", 
            "source": [
                "# PROPERTY ID - DO NOT EDIT !  \n", 
                "DOC.set_id('cmip6.land.key_properties.atmospheric_coupling')  \n", 
                "\n", 
                "# PROPERTY VALUE: \n", 
                "# Set as follows: DOC.set_value(\"value\")  \n", 
                "# Valid Choices: \n", 
                "#      \"implicit\"  \n", 
                "#      \"semi-implicit\"  \n", 
                "#      \"explicit\"  \n", 
                "#      \"Other: [Please specify]\"  \n", 
                "# TODO\n", 
                "\n", 
                "# PROPERTY QUALITY CONTROL STATUS:  \n", 
                "# 0=draft, 1=in-review, 2=reviewed  \n", 
                "DOC.set_qc_status(0)"
            ], 
            "outputs": [], 
            "metadata": {
                "collapsed": true
            }
        }, 
        {
            "source": [
                "### 3.4. Land Cover\n", 
                " *Types of land cover defined in the land surface model*\n", 
                "\n", 
                "**Is Required:** TRUE&nbsp;&nbsp;&nbsp;&nbsp;**Type:** ENUM&nbsp;&nbsp;&nbsp;&nbsp;**Cardinality:** 1.N"
            ], 
            "cell_type": "markdown", 
            "metadata": {}
        }, 
        {
            "execution_count": null, 
            "cell_type": "code", 
            "source": [
                "# PROPERTY ID - DO NOT EDIT !  \n", 
                "DOC.set_id('cmip6.land.key_properties.land_cover')  \n", 
                "\n", 
                "# PROPERTY VALUE(S): \n", 
                "# Set as follows: DOC.set_value(\"value\")  \n", 
                "# Valid Choices: \n", 
                "#      \"bare soil\"  \n", 
                "#      \"urban\"  \n", 
                "#      \"lake\"  \n", 
                "#      \"ice\"  \n", 
                "#      \"vegetated\"  \n", 
                "#      \"Other: [Please specify]\"  \n", 
                "# TODO\n", 
                "\n", 
                "# PROPERTY QUALITY CONTROL STATUS:  \n", 
                "# 0=draft, 1=in-review, 2=reviewed  \n", 
                "DOC.set_qc_status(0)"
            ], 
            "outputs": [], 
            "metadata": {
                "collapsed": true
            }
        }, 
        {
            "source": [
                "### 3.5. Prognostic Variables\n", 
                " *List of prognostic variables in the land surface component.*\n", 
                "\n", 
                "**Is Required:** TRUE&nbsp;&nbsp;&nbsp;&nbsp;**Type:** ENUM&nbsp;&nbsp;&nbsp;&nbsp;**Cardinality:** 1.N"
            ], 
            "cell_type": "markdown", 
            "metadata": {}
        }, 
        {
            "execution_count": null, 
            "cell_type": "code", 
            "source": [
                "# PROPERTY ID - DO NOT EDIT !  \n", 
                "DOC.set_id('cmip6.land.key_properties.prognostic_variables')  \n", 
                "\n", 
                "# PROPERTY VALUE(S): \n", 
                "# Set as follows: DOC.set_value(\"value\")  \n", 
                "# Valid Choices: \n", 
                "#      \"soil temperature\"  \n", 
                "#      \"soil heat content\"  \n", 
                "#      \"soil moisture\"  \n", 
                "#      \"soil ice content\"  \n", 
                "#      \"snow mass\"  \n", 
                "#      \"snow albedo\"  \n", 
                "#      \"snow density\"  \n", 
                "#      \"snow water content\"  \n", 
                "#      \"snow layer thickness\"  \n", 
                "#      \"snow \"  \n", 
                "#      \"canopy water content\"  \n", 
                "#      \"canopy heat content\"  \n", 
                "#      \"canopy snow content\"  \n", 
                "#      \"canopy skin temperature\"  \n", 
                "#      \"canopy height\"  \n", 
                "#      \"surface skin temperature\"  \n", 
                "#      \"river water discharge\"  \n", 
                "#      \"carbon\"  \n", 
                "#      \"nitrogen\"  \n", 
                "#      \"Other: [Please specify]\"  \n", 
                "# TODO\n", 
                "\n", 
                "# PROPERTY QUALITY CONTROL STATUS:  \n", 
                "# 0=draft, 1=in-review, 2=reviewed  \n", 
                "DOC.set_qc_status(0)"
            ], 
            "outputs": [], 
            "metadata": {
                "collapsed": true
            }
        }, 
        {
            "source": [
                "### 3.6. Tiling\n", 
                " *Is tiling used in the land surface?*\n", 
                "\n", 
                "**Is Required:** TRUE&nbsp;&nbsp;&nbsp;&nbsp;**Type:** BOOLEAN&nbsp;&nbsp;&nbsp;&nbsp;**Cardinality:** 1.1"
            ], 
            "cell_type": "markdown", 
            "metadata": {}
        }, 
        {
            "execution_count": null, 
            "cell_type": "code", 
            "source": [
                "# PROPERTY ID - DO NOT EDIT !  \n", 
                "DOC.set_id('cmip6.land.key_properties.tiling')  \n", 
                "\n", 
                "# PROPERTY VALUE: \n", 
                "# Set as follows: DOC.set_value(value)  \n", 
                "# Valid Choices: \n", 
                "#     True  \n", 
                "#     False  \n", 
                "# TODO\n", 
                "\n", 
                "# PROPERTY QUALITY CONTROL STATUS:  \n", 
                "# 0=draft, 1=in-review, 2=reviewed  \n", 
                "DOC.set_qc_status(0)"
            ], 
            "outputs": [], 
            "metadata": {
                "collapsed": true
            }
        }, 
        {
            "source": [
                "# 4. Key Properties --&gt; Conservation Properties  \n", 
                "*TODO*"
            ], 
            "cell_type": "markdown", 
            "metadata": {}
        }, 
        {
            "source": [
                "### 4.1. Energy\n", 
                " *Describe if/how energy is conserved and to what level*\n", 
                "\n", 
                "**Is Required:** FALSE&nbsp;&nbsp;&nbsp;&nbsp;**Type:** STRING&nbsp;&nbsp;&nbsp;&nbsp;**Cardinality:** 0.1"
            ], 
            "cell_type": "markdown", 
            "metadata": {}
        }, 
        {
            "execution_count": null, 
            "cell_type": "code", 
            "source": [
                "# PROPERTY ID - DO NOT EDIT !  \n", 
                "DOC.set_id('cmip6.land.key_properties.conservation_properties.energy')  \n", 
                "\n", 
                "# PROPERTY VALUE: \n", 
                "# Set as follows: DOC.set_value(\"value\")  \n", 
                "# TODO\n", 
                "\n", 
                "# PROPERTY QUALITY CONTROL STATUS:  \n", 
                "# 0=draft, 1=in-review, 2=reviewed  \n", 
                "DOC.set_qc_status(0)"
            ], 
            "outputs": [], 
            "metadata": {
                "collapsed": true
            }
        }, 
        {
            "source": [
                "### 4.2. Water\n", 
                " *Describe if/how water is conserved and to what level*\n", 
                "\n", 
                "**Is Required:** FALSE&nbsp;&nbsp;&nbsp;&nbsp;**Type:** STRING&nbsp;&nbsp;&nbsp;&nbsp;**Cardinality:** 0.1"
            ], 
            "cell_type": "markdown", 
            "metadata": {}
        }, 
        {
            "execution_count": null, 
            "cell_type": "code", 
            "source": [
                "# PROPERTY ID - DO NOT EDIT !  \n", 
                "DOC.set_id('cmip6.land.key_properties.conservation_properties.water')  \n", 
                "\n", 
                "# PROPERTY VALUE: \n", 
                "# Set as follows: DOC.set_value(\"value\")  \n", 
                "# TODO\n", 
                "\n", 
                "# PROPERTY QUALITY CONTROL STATUS:  \n", 
                "# 0=draft, 1=in-review, 2=reviewed  \n", 
                "DOC.set_qc_status(0)"
            ], 
            "outputs": [], 
            "metadata": {
                "collapsed": true
            }
        }, 
        {
            "source": [
                "### 4.3. Carbon\n", 
                " *Describe if/how carbon is conserved and to what level*\n", 
                "\n", 
                "**Is Required:** FALSE&nbsp;&nbsp;&nbsp;&nbsp;**Type:** STRING&nbsp;&nbsp;&nbsp;&nbsp;**Cardinality:** 0.1"
            ], 
            "cell_type": "markdown", 
            "metadata": {}
        }, 
        {
            "execution_count": null, 
            "cell_type": "code", 
            "source": [
                "# PROPERTY ID - DO NOT EDIT !  \n", 
                "DOC.set_id('cmip6.land.key_properties.conservation_properties.carbon')  \n", 
                "\n", 
                "# PROPERTY VALUE: \n", 
                "# Set as follows: DOC.set_value(\"value\")  \n", 
                "# TODO\n", 
                "\n", 
                "# PROPERTY QUALITY CONTROL STATUS:  \n", 
                "# 0=draft, 1=in-review, 2=reviewed  \n", 
                "DOC.set_qc_status(0)"
            ], 
            "outputs": [], 
            "metadata": {
                "collapsed": true
            }
        }, 
        {
            "source": [
                "### 4.4. Energy\n", 
                " *Describe if/how energy is conserved and to what level*\n", 
                "\n", 
                "**Is Required:** FALSE&nbsp;&nbsp;&nbsp;&nbsp;**Type:** STRING&nbsp;&nbsp;&nbsp;&nbsp;**Cardinality:** 0.1"
            ], 
            "cell_type": "markdown", 
            "metadata": {}
        }, 
        {
            "execution_count": null, 
            "cell_type": "code", 
            "source": [
                "# PROPERTY ID - DO NOT EDIT !  \n", 
                "DOC.set_id('cmip6.land.key_properties.conservation_properties.energy')  \n", 
                "\n", 
                "# PROPERTY VALUE: \n", 
                "# Set as follows: DOC.set_value(\"value\")  \n", 
                "# TODO\n", 
                "\n", 
                "# PROPERTY QUALITY CONTROL STATUS:  \n", 
                "# 0=draft, 1=in-review, 2=reviewed  \n", 
                "DOC.set_qc_status(0)"
            ], 
            "outputs": [], 
            "metadata": {
                "collapsed": true
            }
        }, 
        {
            "source": [
                "# 5. Key Properties --&gt; Timestepping Framework  \n", 
                "*TODO*"
            ], 
            "cell_type": "markdown", 
            "metadata": {}
        }, 
        {
            "source": [
                "### 5.1. Timestep Dependent On Atmosphere\n", 
                " *Is a time step dependent on the atmosphere coupling?*\n", 
                "\n", 
                "**Is Required:** TRUE&nbsp;&nbsp;&nbsp;&nbsp;**Type:** BOOLEAN&nbsp;&nbsp;&nbsp;&nbsp;**Cardinality:** 1.1"
            ], 
            "cell_type": "markdown", 
            "metadata": {}
        }, 
        {
            "execution_count": null, 
            "cell_type": "code", 
            "source": [
                "# PROPERTY ID - DO NOT EDIT !  \n", 
                "DOC.set_id('cmip6.land.key_properties.timestepping_framework.timestep_dependent_on_atmosphere')  \n", 
                "\n", 
                "# PROPERTY VALUE: \n", 
                "# Set as follows: DOC.set_value(value)  \n", 
                "# Valid Choices: \n", 
                "#     True  \n", 
                "#     False  \n", 
                "# TODO\n", 
                "\n", 
                "# PROPERTY QUALITY CONTROL STATUS:  \n", 
                "# 0=draft, 1=in-review, 2=reviewed  \n", 
                "DOC.set_qc_status(0)"
            ], 
            "outputs": [], 
            "metadata": {
                "collapsed": true
            }
        }, 
        {
            "source": [
                "### 5.2. Timestepping Method\n", 
                " *Describe time stepping method and associated time step(s)*\n", 
                "\n", 
                "**Is Required:** TRUE&nbsp;&nbsp;&nbsp;&nbsp;**Type:** STRING&nbsp;&nbsp;&nbsp;&nbsp;**Cardinality:** 1.1"
            ], 
            "cell_type": "markdown", 
            "metadata": {}
        }, 
        {
            "execution_count": null, 
            "cell_type": "code", 
            "source": [
                "# PROPERTY ID - DO NOT EDIT !  \n", 
                "DOC.set_id('cmip6.land.key_properties.timestepping_framework.timestepping_method')  \n", 
                "\n", 
                "# PROPERTY VALUE: \n", 
                "# Set as follows: DOC.set_value(\"value\")  \n", 
                "# TODO\n", 
                "\n", 
                "# PROPERTY QUALITY CONTROL STATUS:  \n", 
                "# 0=draft, 1=in-review, 2=reviewed  \n", 
                "DOC.set_qc_status(0)"
            ], 
            "outputs": [], 
            "metadata": {
                "collapsed": true
            }
        }, 
        {
            "source": [
                "# 6. Key Properties --&gt; Software Properties  \n", 
                "*Software properties of land surface code*"
            ], 
            "cell_type": "markdown", 
            "metadata": {}
        }, 
        {
            "source": [
                "### 6.1. Repository\n", 
                " *Location of code for this component.*\n", 
                "\n", 
                "**Is Required:** FALSE&nbsp;&nbsp;&nbsp;&nbsp;**Type:** STRING&nbsp;&nbsp;&nbsp;&nbsp;**Cardinality:** 0.1"
            ], 
            "cell_type": "markdown", 
            "metadata": {}
        }, 
        {
            "execution_count": null, 
            "cell_type": "code", 
            "source": [
                "# PROPERTY ID - DO NOT EDIT !  \n", 
                "DOC.set_id('cmip6.land.key_properties.software_properties.repository')  \n", 
                "\n", 
                "# PROPERTY VALUE: \n", 
                "# Set as follows: DOC.set_value(\"value\")  \n", 
                "# TODO\n", 
                "\n", 
                "# PROPERTY QUALITY CONTROL STATUS:  \n", 
                "# 0=draft, 1=in-review, 2=reviewed  \n", 
                "DOC.set_qc_status(0)"
            ], 
            "outputs": [], 
            "metadata": {
                "collapsed": true
            }
        }, 
        {
            "source": [
                "### 6.2. Code Version\n", 
                " *Code version identifier.*\n", 
                "\n", 
                "**Is Required:** FALSE&nbsp;&nbsp;&nbsp;&nbsp;**Type:** STRING&nbsp;&nbsp;&nbsp;&nbsp;**Cardinality:** 0.1"
            ], 
            "cell_type": "markdown", 
            "metadata": {}
        }, 
        {
            "execution_count": null, 
            "cell_type": "code", 
            "source": [
                "# PROPERTY ID - DO NOT EDIT !  \n", 
                "DOC.set_id('cmip6.land.key_properties.software_properties.code_version')  \n", 
                "\n", 
                "# PROPERTY VALUE: \n", 
                "# Set as follows: DOC.set_value(\"value\")  \n", 
                "# TODO\n", 
                "\n", 
                "# PROPERTY QUALITY CONTROL STATUS:  \n", 
                "# 0=draft, 1=in-review, 2=reviewed  \n", 
                "DOC.set_qc_status(0)"
            ], 
            "outputs": [], 
            "metadata": {
                "collapsed": true
            }
        }, 
        {
            "source": [
                "### 6.3. Code Languages\n", 
                " *Code language(s).*\n", 
                "\n", 
                "**Is Required:** FALSE&nbsp;&nbsp;&nbsp;&nbsp;**Type:** STRING&nbsp;&nbsp;&nbsp;&nbsp;**Cardinality:** 0.N"
            ], 
            "cell_type": "markdown", 
            "metadata": {}
        }, 
        {
            "execution_count": null, 
            "cell_type": "code", 
            "source": [
                "# PROPERTY ID - DO NOT EDIT !  \n", 
                "DOC.set_id('cmip6.land.key_properties.software_properties.code_languages')  \n", 
                "\n", 
                "# PROPERTY VALUE(S): \n", 
                "# Set as follows: DOC.set_value(\"value\")  \n", 
                "# TODO\n", 
                "\n", 
                "# PROPERTY QUALITY CONTROL STATUS:  \n", 
                "# 0=draft, 1=in-review, 2=reviewed  \n", 
                "DOC.set_qc_status(0)"
            ], 
            "outputs": [], 
            "metadata": {
                "collapsed": true
            }
        }, 
        {
            "source": [
                "# 7. Soil --&gt; Soil Map  \n", 
                "*Key properties of the land surface soil map*"
            ], 
            "cell_type": "markdown", 
            "metadata": {}
        }, 
        {
            "source": [
                "### 7.1. Description\n", 
                " *General description of soil map*\n", 
                "\n", 
                "**Is Required:** TRUE&nbsp;&nbsp;&nbsp;&nbsp;**Type:** STRING&nbsp;&nbsp;&nbsp;&nbsp;**Cardinality:** 1.1"
            ], 
            "cell_type": "markdown", 
            "metadata": {}
        }, 
        {
            "execution_count": null, 
            "cell_type": "code", 
            "source": [
                "# PROPERTY ID - DO NOT EDIT !  \n", 
                "DOC.set_id('cmip6.land.soil.soil_map.description')  \n", 
                "\n", 
                "# PROPERTY VALUE: \n", 
                "# Set as follows: DOC.set_value(\"value\")  \n", 
                "# TODO\n", 
                "\n", 
                "# PROPERTY QUALITY CONTROL STATUS:  \n", 
                "# 0=draft, 1=in-review, 2=reviewed  \n", 
                "DOC.set_qc_status(0)"
            ], 
            "outputs": [], 
            "metadata": {
                "collapsed": true
            }
        }, 
        {
            "source": [
                "### 7.2. Structure\n", 
                " *Describe the soil map structure*\n", 
                "\n", 
                "**Is Required:** TRUE&nbsp;&nbsp;&nbsp;&nbsp;**Type:** STRING&nbsp;&nbsp;&nbsp;&nbsp;**Cardinality:** 1.1"
            ], 
            "cell_type": "markdown", 
            "metadata": {}
        }, 
        {
            "execution_count": null, 
            "cell_type": "code", 
            "source": [
                "# PROPERTY ID - DO NOT EDIT !  \n", 
                "DOC.set_id('cmip6.land.soil.soil_map.structure')  \n", 
                "\n", 
                "# PROPERTY VALUE: \n", 
                "# Set as follows: DOC.set_value(\"value\")  \n", 
                "# TODO\n", 
                "\n", 
                "# PROPERTY QUALITY CONTROL STATUS:  \n", 
                "# 0=draft, 1=in-review, 2=reviewed  \n", 
                "DOC.set_qc_status(0)"
            ], 
            "outputs": [], 
            "metadata": {
                "collapsed": true
            }
        }, 
        {
            "source": [
                "### 7.3. Texture\n", 
                " *Describe the soil map texture*\n", 
                "\n", 
                "**Is Required:** TRUE&nbsp;&nbsp;&nbsp;&nbsp;**Type:** STRING&nbsp;&nbsp;&nbsp;&nbsp;**Cardinality:** 1.1"
            ], 
            "cell_type": "markdown", 
            "metadata": {}
        }, 
        {
            "execution_count": null, 
            "cell_type": "code", 
            "source": [
                "# PROPERTY ID - DO NOT EDIT !  \n", 
                "DOC.set_id('cmip6.land.soil.soil_map.texture')  \n", 
                "\n", 
                "# PROPERTY VALUE: \n", 
                "# Set as follows: DOC.set_value(\"value\")  \n", 
                "# TODO\n", 
                "\n", 
                "# PROPERTY QUALITY CONTROL STATUS:  \n", 
                "# 0=draft, 1=in-review, 2=reviewed  \n", 
                "DOC.set_qc_status(0)"
            ], 
            "outputs": [], 
            "metadata": {
                "collapsed": true
            }
        }, 
        {
            "source": [
                "### 7.4. Albedo\n", 
                " *Describe the soil map albedo*\n", 
                "\n", 
                "**Is Required:** TRUE&nbsp;&nbsp;&nbsp;&nbsp;**Type:** STRING&nbsp;&nbsp;&nbsp;&nbsp;**Cardinality:** 1.1"
            ], 
            "cell_type": "markdown", 
            "metadata": {}
        }, 
        {
            "execution_count": null, 
            "cell_type": "code", 
            "source": [
                "# PROPERTY ID - DO NOT EDIT !  \n", 
                "DOC.set_id('cmip6.land.soil.soil_map.albedo')  \n", 
                "\n", 
                "# PROPERTY VALUE: \n", 
                "# Set as follows: DOC.set_value(\"value\")  \n", 
                "# TODO\n", 
                "\n", 
                "# PROPERTY QUALITY CONTROL STATUS:  \n", 
                "# 0=draft, 1=in-review, 2=reviewed  \n", 
                "DOC.set_qc_status(0)"
            ], 
            "outputs": [], 
            "metadata": {
                "collapsed": true
            }
        }, 
        {
            "source": [
                "### 7.5. Water Table\n", 
                " *Describe the soil map water_table*\n", 
                "\n", 
                "**Is Required:** TRUE&nbsp;&nbsp;&nbsp;&nbsp;**Type:** STRING&nbsp;&nbsp;&nbsp;&nbsp;**Cardinality:** 1.1"
            ], 
            "cell_type": "markdown", 
            "metadata": {}
        }, 
        {
            "execution_count": null, 
            "cell_type": "code", 
            "source": [
                "# PROPERTY ID - DO NOT EDIT !  \n", 
                "DOC.set_id('cmip6.land.soil.soil_map.water_table')  \n", 
                "\n", 
                "# PROPERTY VALUE: \n", 
                "# Set as follows: DOC.set_value(\"value\")  \n", 
                "# TODO\n", 
                "\n", 
                "# PROPERTY QUALITY CONTROL STATUS:  \n", 
                "# 0=draft, 1=in-review, 2=reviewed  \n", 
                "DOC.set_qc_status(0)"
            ], 
            "outputs": [], 
            "metadata": {
                "collapsed": true
            }
        }, 
        {
            "source": [
                "### 7.6. Soil Depth\n", 
                " *Describe the soil map total soil depth*\n", 
                "\n", 
                "**Is Required:** TRUE&nbsp;&nbsp;&nbsp;&nbsp;**Type:** STRING&nbsp;&nbsp;&nbsp;&nbsp;**Cardinality:** 1.1"
            ], 
            "cell_type": "markdown", 
            "metadata": {}
        }, 
        {
            "execution_count": null, 
            "cell_type": "code", 
            "source": [
                "# PROPERTY ID - DO NOT EDIT !  \n", 
                "DOC.set_id('cmip6.land.soil.soil_map.soil_depth')  \n", 
                "\n", 
                "# PROPERTY VALUE: \n", 
                "# Set as follows: DOC.set_value(\"value\")  \n", 
                "# TODO\n", 
                "\n", 
                "# PROPERTY QUALITY CONTROL STATUS:  \n", 
                "# 0=draft, 1=in-review, 2=reviewed  \n", 
                "DOC.set_qc_status(0)"
            ], 
            "outputs": [], 
            "metadata": {
                "collapsed": true
            }
        }, 
        {
            "source": [
                "# 8. Soil --&gt; Hydrology  \n", 
                "*Key properties of the land surface soil hydrology*"
            ], 
            "cell_type": "markdown", 
            "metadata": {}
        }, 
        {
            "source": [
                "### 8.1. Description\n", 
                " *General description of how soil hydrological properties are defined*\n", 
                "\n", 
                "**Is Required:** TRUE&nbsp;&nbsp;&nbsp;&nbsp;**Type:** STRING&nbsp;&nbsp;&nbsp;&nbsp;**Cardinality:** 1.1"
            ], 
            "cell_type": "markdown", 
            "metadata": {}
        }, 
        {
            "execution_count": null, 
            "cell_type": "code", 
            "source": [
                "# PROPERTY ID - DO NOT EDIT !  \n", 
                "DOC.set_id('cmip6.land.soil.hydrology.description')  \n", 
                "\n", 
                "# PROPERTY VALUE: \n", 
                "# Set as follows: DOC.set_value(\"value\")  \n", 
                "# TODO\n", 
                "\n", 
                "# PROPERTY QUALITY CONTROL STATUS:  \n", 
                "# 0=draft, 1=in-review, 2=reviewed  \n", 
                "DOC.set_qc_status(0)"
            ], 
            "outputs": [], 
            "metadata": {
                "collapsed": true
            }
        }, 
        {
            "source": [
                "### 8.2. Tiling\n", 
                " *Describe the soil hydrology tiling, if any.*\n", 
                "\n", 
                "**Is Required:** FALSE&nbsp;&nbsp;&nbsp;&nbsp;**Type:** STRING&nbsp;&nbsp;&nbsp;&nbsp;**Cardinality:** 0.1"
            ], 
            "cell_type": "markdown", 
            "metadata": {}
        }, 
        {
            "execution_count": null, 
            "cell_type": "code", 
            "source": [
                "# PROPERTY ID - DO NOT EDIT !  \n", 
                "DOC.set_id('cmip6.land.soil.hydrology.tiling')  \n", 
                "\n", 
                "# PROPERTY VALUE: \n", 
                "# Set as follows: DOC.set_value(\"value\")  \n", 
                "# TODO\n", 
                "\n", 
                "# PROPERTY QUALITY CONTROL STATUS:  \n", 
                "# 0=draft, 1=in-review, 2=reviewed  \n", 
                "DOC.set_qc_status(0)"
            ], 
            "outputs": [], 
            "metadata": {
                "collapsed": true
            }
        }, 
        {
            "source": [
                "### 8.3. Number Of Ground Water Layers\n", 
                " *The number of ground water levels used in the land surface scheme/model*\n", 
                "\n", 
                "**Is Required:** TRUE&nbsp;&nbsp;&nbsp;&nbsp;**Type:** INTEGER&nbsp;&nbsp;&nbsp;&nbsp;**Cardinality:** 1.1"
            ], 
            "cell_type": "markdown", 
            "metadata": {}
        }, 
        {
            "execution_count": null, 
            "cell_type": "code", 
            "source": [
                "# PROPERTY ID - DO NOT EDIT !  \n", 
                "DOC.set_id('cmip6.land.soil.hydrology.number_of_ground_water_layers')  \n", 
                "\n", 
                "# PROPERTY VALUE: \n", 
                "# Set as follows: DOC.set_value(value)  \n", 
                "# TODO\n", 
                "\n", 
                "# PROPERTY QUALITY CONTROL STATUS:  \n", 
                "# 0=draft, 1=in-review, 2=reviewed  \n", 
                "DOC.set_qc_status(0)"
            ], 
            "outputs": [], 
            "metadata": {
                "collapsed": true
            }
        }, 
        {
            "source": [
                "### 8.4. Water Storage Method\n", 
                " *Describe the method by which water is stored in the land surface scheme/model*\n", 
                "\n", 
                "**Is Required:** TRUE&nbsp;&nbsp;&nbsp;&nbsp;**Type:** ENUM&nbsp;&nbsp;&nbsp;&nbsp;**Cardinality:** 1.1"
            ], 
            "cell_type": "markdown", 
            "metadata": {}
        }, 
        {
            "execution_count": null, 
            "cell_type": "code", 
            "source": [
                "# PROPERTY ID - DO NOT EDIT !  \n", 
                "DOC.set_id('cmip6.land.soil.hydrology.water_storage_method')  \n", 
                "\n", 
                "# PROPERTY VALUE: \n", 
                "# Set as follows: DOC.set_value(\"value\")  \n", 
                "# Valid Choices: \n", 
                "#      \"Bucket\"  \n", 
                "#      \"Force-restore\"  \n", 
                "#      \"Choisnel\"  \n", 
                "#      \"Explicit diffusion\"  \n", 
                "#      \"Other: [Please specify]\"  \n", 
                "# TODO\n", 
                "\n", 
                "# PROPERTY QUALITY CONTROL STATUS:  \n", 
                "# 0=draft, 1=in-review, 2=reviewed  \n", 
                "DOC.set_qc_status(0)"
            ], 
            "outputs": [], 
            "metadata": {
                "collapsed": true
            }
        }, 
        {
            "source": [
                "# 9. Soil --&gt; Hydrology --&gt; Freezing  \n", 
                "*TODO*"
            ], 
            "cell_type": "markdown", 
            "metadata": {}
        }, 
        {
            "source": [
                "### 9.1. Number Of Ground Ice Layers\n", 
                " *How many ground ice layers are included in the land surface scheme*\n", 
                "\n", 
                "**Is Required:** TRUE&nbsp;&nbsp;&nbsp;&nbsp;**Type:** INTEGER&nbsp;&nbsp;&nbsp;&nbsp;**Cardinality:** 1.1"
            ], 
            "cell_type": "markdown", 
            "metadata": {}
        }, 
        {
            "execution_count": null, 
            "cell_type": "code", 
            "source": [
                "# PROPERTY ID - DO NOT EDIT !  \n", 
                "DOC.set_id('cmip6.land.soil.hydrology.freezing.number_of_ground_ice_layers')  \n", 
                "\n", 
                "# PROPERTY VALUE: \n", 
                "# Set as follows: DOC.set_value(value)  \n", 
                "# TODO\n", 
                "\n", 
                "# PROPERTY QUALITY CONTROL STATUS:  \n", 
                "# 0=draft, 1=in-review, 2=reviewed  \n", 
                "DOC.set_qc_status(0)"
            ], 
            "outputs": [], 
            "metadata": {
                "collapsed": true
            }
        }, 
        {
            "source": [
                "### 9.2. Ice Storage Method\n", 
                " *Describe the method of ice storage*\n", 
                "\n", 
                "**Is Required:** TRUE&nbsp;&nbsp;&nbsp;&nbsp;**Type:** STRING&nbsp;&nbsp;&nbsp;&nbsp;**Cardinality:** 1.1"
            ], 
            "cell_type": "markdown", 
            "metadata": {}
        }, 
        {
            "execution_count": null, 
            "cell_type": "code", 
            "source": [
                "# PROPERTY ID - DO NOT EDIT !  \n", 
                "DOC.set_id('cmip6.land.soil.hydrology.freezing.ice_storage_method')  \n", 
                "\n", 
                "# PROPERTY VALUE: \n", 
                "# Set as follows: DOC.set_value(\"value\")  \n", 
                "# TODO\n", 
                "\n", 
                "# PROPERTY QUALITY CONTROL STATUS:  \n", 
                "# 0=draft, 1=in-review, 2=reviewed  \n", 
                "DOC.set_qc_status(0)"
            ], 
            "outputs": [], 
            "metadata": {
                "collapsed": true
            }
        }, 
        {
            "source": [
                "### 9.3. Permafrost\n", 
                " *Describe the treatment of permafrost, if any, within the land surface scheme*\n", 
                "\n", 
                "**Is Required:** TRUE&nbsp;&nbsp;&nbsp;&nbsp;**Type:** STRING&nbsp;&nbsp;&nbsp;&nbsp;**Cardinality:** 1.1"
            ], 
            "cell_type": "markdown", 
            "metadata": {}
        }, 
        {
            "execution_count": null, 
            "cell_type": "code", 
            "source": [
                "# PROPERTY ID - DO NOT EDIT !  \n", 
                "DOC.set_id('cmip6.land.soil.hydrology.freezing.permafrost')  \n", 
                "\n", 
                "# PROPERTY VALUE: \n", 
                "# Set as follows: DOC.set_value(\"value\")  \n", 
                "# TODO\n", 
                "\n", 
                "# PROPERTY QUALITY CONTROL STATUS:  \n", 
                "# 0=draft, 1=in-review, 2=reviewed  \n", 
                "DOC.set_qc_status(0)"
            ], 
            "outputs": [], 
            "metadata": {
                "collapsed": true
            }
        }, 
        {
            "source": [
                "# 10. Soil --&gt; Hydrology --&gt; Drainage  \n", 
                "*TODO*"
            ], 
            "cell_type": "markdown", 
            "metadata": {}
        }, 
        {
            "source": [
                "### 10.1. Description\n", 
                " *Describe how drainage is included in the land surface scheme*\n", 
                "\n", 
                "**Is Required:** TRUE&nbsp;&nbsp;&nbsp;&nbsp;**Type:** STRING&nbsp;&nbsp;&nbsp;&nbsp;**Cardinality:** 1.1"
            ], 
            "cell_type": "markdown", 
            "metadata": {}
        }, 
        {
            "execution_count": null, 
            "cell_type": "code", 
            "source": [
                "# PROPERTY ID - DO NOT EDIT !  \n", 
                "DOC.set_id('cmip6.land.soil.hydrology.drainage.description')  \n", 
                "\n", 
                "# PROPERTY VALUE: \n", 
                "# Set as follows: DOC.set_value(\"value\")  \n", 
                "# TODO\n", 
                "\n", 
                "# PROPERTY QUALITY CONTROL STATUS:  \n", 
                "# 0=draft, 1=in-review, 2=reviewed  \n", 
                "DOC.set_qc_status(0)"
            ], 
            "outputs": [], 
            "metadata": {
                "collapsed": true
            }
        }, 
        {
            "source": [
                "# 11. Soil --&gt; Hydrology --&gt; Runoff  \n", 
                "*TODO*"
            ], 
            "cell_type": "markdown", 
            "metadata": {}
        }, 
        {
            "source": [
                "### 11.1. Description\n", 
                " *Describe how runoff is included in the land surface scheme*\n", 
                "\n", 
                "**Is Required:** TRUE&nbsp;&nbsp;&nbsp;&nbsp;**Type:** STRING&nbsp;&nbsp;&nbsp;&nbsp;**Cardinality:** 1.1"
            ], 
            "cell_type": "markdown", 
            "metadata": {}
        }, 
        {
            "execution_count": null, 
            "cell_type": "code", 
            "source": [
                "# PROPERTY ID - DO NOT EDIT !  \n", 
                "DOC.set_id('cmip6.land.soil.hydrology.runoff.description')  \n", 
                "\n", 
                "# PROPERTY VALUE: \n", 
                "# Set as follows: DOC.set_value(\"value\")  \n", 
                "# TODO\n", 
                "\n", 
                "# PROPERTY QUALITY CONTROL STATUS:  \n", 
                "# 0=draft, 1=in-review, 2=reviewed  \n", 
                "DOC.set_qc_status(0)"
            ], 
            "outputs": [], 
            "metadata": {
                "collapsed": true
            }
        }, 
        {
            "source": [
                "# 12. Soil --&gt; Heat Treatment  \n", 
                "*TODO*"
            ], 
            "cell_type": "markdown", 
            "metadata": {}
        }, 
        {
            "source": [
                "### 12.1. Description\n", 
                " *General description of how heat treatment properties are defined*\n", 
                "\n", 
                "**Is Required:** TRUE&nbsp;&nbsp;&nbsp;&nbsp;**Type:** STRING&nbsp;&nbsp;&nbsp;&nbsp;**Cardinality:** 1.1"
            ], 
            "cell_type": "markdown", 
            "metadata": {}
        }, 
        {
            "execution_count": null, 
            "cell_type": "code", 
            "source": [
                "# PROPERTY ID - DO NOT EDIT !  \n", 
                "DOC.set_id('cmip6.land.soil.heat_treatment.description')  \n", 
                "\n", 
                "# PROPERTY VALUE: \n", 
                "# Set as follows: DOC.set_value(\"value\")  \n", 
                "# TODO\n", 
                "\n", 
                "# PROPERTY QUALITY CONTROL STATUS:  \n", 
                "# 0=draft, 1=in-review, 2=reviewed  \n", 
                "DOC.set_qc_status(0)"
            ], 
            "outputs": [], 
            "metadata": {
                "collapsed": true
            }
        }, 
        {
            "source": [
                "### 12.2. Tiling\n", 
                " *Describe the soil heat treatment tiling, if any.*\n", 
                "\n", 
                "**Is Required:** FALSE&nbsp;&nbsp;&nbsp;&nbsp;**Type:** STRING&nbsp;&nbsp;&nbsp;&nbsp;**Cardinality:** 0.1"
            ], 
            "cell_type": "markdown", 
            "metadata": {}
        }, 
        {
            "execution_count": null, 
            "cell_type": "code", 
            "source": [
                "# PROPERTY ID - DO NOT EDIT !  \n", 
                "DOC.set_id('cmip6.land.soil.heat_treatment.tiling')  \n", 
                "\n", 
                "# PROPERTY VALUE: \n", 
                "# Set as follows: DOC.set_value(\"value\")  \n", 
                "# TODO\n", 
                "\n", 
                "# PROPERTY QUALITY CONTROL STATUS:  \n", 
                "# 0=draft, 1=in-review, 2=reviewed  \n", 
                "DOC.set_qc_status(0)"
            ], 
            "outputs": [], 
            "metadata": {
                "collapsed": true
            }
        }, 
        {
            "source": [
                "### 12.3. Number Of Ground Heat Layers\n", 
                " *How many ground heat layers are included in the land surface scheme*\n", 
                "\n", 
                "**Is Required:** TRUE&nbsp;&nbsp;&nbsp;&nbsp;**Type:** INTEGER&nbsp;&nbsp;&nbsp;&nbsp;**Cardinality:** 1.1"
            ], 
            "cell_type": "markdown", 
            "metadata": {}
        }, 
        {
            "execution_count": null, 
            "cell_type": "code", 
            "source": [
                "# PROPERTY ID - DO NOT EDIT !  \n", 
                "DOC.set_id('cmip6.land.soil.heat_treatment.number_of_ground_heat_layers')  \n", 
                "\n", 
                "# PROPERTY VALUE: \n", 
                "# Set as follows: DOC.set_value(value)  \n", 
                "# TODO\n", 
                "\n", 
                "# PROPERTY QUALITY CONTROL STATUS:  \n", 
                "# 0=draft, 1=in-review, 2=reviewed  \n", 
                "DOC.set_qc_status(0)"
            ], 
            "outputs": [], 
            "metadata": {
                "collapsed": true
            }
        }, 
        {
            "source": [
                "### 12.4. Vertical Discretisation\n", 
                " *Describe the typical vertical discretisation*\n", 
                "\n", 
                "**Is Required:** TRUE&nbsp;&nbsp;&nbsp;&nbsp;**Type:** STRING&nbsp;&nbsp;&nbsp;&nbsp;**Cardinality:** 1.1"
            ], 
            "cell_type": "markdown", 
            "metadata": {}
        }, 
        {
            "execution_count": null, 
            "cell_type": "code", 
            "source": [
                "# PROPERTY ID - DO NOT EDIT !  \n", 
                "DOC.set_id('cmip6.land.soil.heat_treatment.vertical_discretisation')  \n", 
                "\n", 
                "# PROPERTY VALUE: \n", 
                "# Set as follows: DOC.set_value(\"value\")  \n", 
                "# TODO\n", 
                "\n", 
                "# PROPERTY QUALITY CONTROL STATUS:  \n", 
                "# 0=draft, 1=in-review, 2=reviewed  \n", 
                "DOC.set_qc_status(0)"
            ], 
            "outputs": [], 
            "metadata": {
                "collapsed": true
            }
        }, 
        {
            "source": [
                "### 12.5. Heat Storage\n", 
                " *Specify the method of heat storage*\n", 
                "\n", 
                "**Is Required:** TRUE&nbsp;&nbsp;&nbsp;&nbsp;**Type:** ENUM&nbsp;&nbsp;&nbsp;&nbsp;**Cardinality:** 1.1"
            ], 
            "cell_type": "markdown", 
            "metadata": {}
        }, 
        {
            "execution_count": null, 
            "cell_type": "code", 
            "source": [
                "# PROPERTY ID - DO NOT EDIT !  \n", 
                "DOC.set_id('cmip6.land.soil.heat_treatment.heat_storage')  \n", 
                "\n", 
                "# PROPERTY VALUE: \n", 
                "# Set as follows: DOC.set_value(\"value\")  \n", 
                "# Valid Choices: \n", 
                "#      \"Force-restore\"  \n", 
                "#      \"Explicit diffusion\"  \n", 
                "#      \"Other: [Please specify]\"  \n", 
                "# TODO\n", 
                "\n", 
                "# PROPERTY QUALITY CONTROL STATUS:  \n", 
                "# 0=draft, 1=in-review, 2=reviewed  \n", 
                "DOC.set_qc_status(0)"
            ], 
            "outputs": [], 
            "metadata": {
                "collapsed": true
            }
        }, 
        {
            "source": [
                "### 12.6. Processes\n", 
                " *Describe processes included in the treatment of soil heat*\n", 
                "\n", 
                "**Is Required:** TRUE&nbsp;&nbsp;&nbsp;&nbsp;**Type:** ENUM&nbsp;&nbsp;&nbsp;&nbsp;**Cardinality:** 1.N"
            ], 
            "cell_type": "markdown", 
            "metadata": {}
        }, 
        {
            "execution_count": null, 
            "cell_type": "code", 
            "source": [
                "# PROPERTY ID - DO NOT EDIT !  \n", 
                "DOC.set_id('cmip6.land.soil.heat_treatment.processes')  \n", 
                "\n", 
                "# PROPERTY VALUE(S): \n", 
                "# Set as follows: DOC.set_value(\"value\")  \n", 
                "# Valid Choices: \n", 
                "#      \"soil moisture freeze-thaw\"  \n", 
                "#      \"coupling with snow temperature\"  \n", 
                "#      \"Other: [Please specify]\"  \n", 
                "# TODO\n", 
                "\n", 
                "# PROPERTY QUALITY CONTROL STATUS:  \n", 
                "# 0=draft, 1=in-review, 2=reviewed  \n", 
                "DOC.set_qc_status(0)"
            ], 
            "outputs": [], 
            "metadata": {
                "collapsed": true
            }
        }, 
        {
            "source": [
                "# 13. Snow  \n", 
                "*Land surface snow*"
            ], 
            "cell_type": "markdown", 
            "metadata": {}
        }, 
        {
            "source": [
                "### 13.1. Tiling\n", 
                " *Describe the snow tiling, if any.*\n", 
                "\n", 
                "**Is Required:** FALSE&nbsp;&nbsp;&nbsp;&nbsp;**Type:** STRING&nbsp;&nbsp;&nbsp;&nbsp;**Cardinality:** 0.1"
            ], 
            "cell_type": "markdown", 
            "metadata": {}
        }, 
        {
            "execution_count": null, 
            "cell_type": "code", 
            "source": [
                "# PROPERTY ID - DO NOT EDIT !  \n", 
                "DOC.set_id('cmip6.land.snow.tiling')  \n", 
                "\n", 
                "# PROPERTY VALUE: \n", 
                "# Set as follows: DOC.set_value(\"value\")  \n", 
                "# TODO\n", 
                "\n", 
                "# PROPERTY QUALITY CONTROL STATUS:  \n", 
                "# 0=draft, 1=in-review, 2=reviewed  \n", 
                "DOC.set_qc_status(0)"
            ], 
            "outputs": [], 
            "metadata": {
                "collapsed": true
            }
        }, 
        {
            "source": [
                "### 13.2. Number Of Snow Layers\n", 
                " *The number of snow levels used in the land surface scheme/model*\n", 
                "\n", 
                "**Is Required:** TRUE&nbsp;&nbsp;&nbsp;&nbsp;**Type:** INTEGER&nbsp;&nbsp;&nbsp;&nbsp;**Cardinality:** 1.1"
            ], 
            "cell_type": "markdown", 
            "metadata": {}
        }, 
        {
            "execution_count": null, 
            "cell_type": "code", 
            "source": [
                "# PROPERTY ID - DO NOT EDIT !  \n", 
                "DOC.set_id('cmip6.land.snow.number_of_snow_layers')  \n", 
                "\n", 
                "# PROPERTY VALUE: \n", 
                "# Set as follows: DOC.set_value(value)  \n", 
                "# TODO\n", 
                "\n", 
                "# PROPERTY QUALITY CONTROL STATUS:  \n", 
                "# 0=draft, 1=in-review, 2=reviewed  \n", 
                "DOC.set_qc_status(0)"
            ], 
            "outputs": [], 
            "metadata": {
                "collapsed": true
            }
        }, 
        {
            "source": [
                "### 13.3. Albedo\n", 
                " *Description of the treatment of snow albedo*\n", 
                "\n", 
                "**Is Required:** TRUE&nbsp;&nbsp;&nbsp;&nbsp;**Type:** ENUM&nbsp;&nbsp;&nbsp;&nbsp;**Cardinality:** 1.1"
            ], 
            "cell_type": "markdown", 
            "metadata": {}
        }, 
        {
            "execution_count": null, 
            "cell_type": "code", 
            "source": [
                "# PROPERTY ID - DO NOT EDIT !  \n", 
                "DOC.set_id('cmip6.land.snow.albedo')  \n", 
                "\n", 
                "# PROPERTY VALUE: \n", 
                "# Set as follows: DOC.set_value(\"value\")  \n", 
                "# Valid Choices: \n", 
                "#      \"prognostic\"  \n", 
                "#      \"diagnostic\"  \n", 
                "#      \"constant\"  \n", 
                "#      \"Other: [Please specify]\"  \n", 
                "# TODO\n", 
                "\n", 
                "# PROPERTY QUALITY CONTROL STATUS:  \n", 
                "# 0=draft, 1=in-review, 2=reviewed  \n", 
                "DOC.set_qc_status(0)"
            ], 
            "outputs": [], 
            "metadata": {
                "collapsed": true
            }
        }, 
        {
            "source": [
                "### 13.4. Density\n", 
                " *Description of the treatment of snow density*\n", 
                "\n", 
                "**Is Required:** TRUE&nbsp;&nbsp;&nbsp;&nbsp;**Type:** ENUM&nbsp;&nbsp;&nbsp;&nbsp;**Cardinality:** 1.1"
            ], 
            "cell_type": "markdown", 
            "metadata": {}
        }, 
        {
            "execution_count": null, 
            "cell_type": "code", 
            "source": [
                "# PROPERTY ID - DO NOT EDIT !  \n", 
                "DOC.set_id('cmip6.land.snow.density')  \n", 
                "\n", 
                "# PROPERTY VALUE: \n", 
                "# Set as follows: DOC.set_value(\"value\")  \n", 
                "# Valid Choices: \n", 
                "#      \"prognostic\"  \n", 
                "#      \"constant\"  \n", 
                "#      \"Other: [Please specify]\"  \n", 
                "# TODO\n", 
                "\n", 
                "# PROPERTY QUALITY CONTROL STATUS:  \n", 
                "# 0=draft, 1=in-review, 2=reviewed  \n", 
                "DOC.set_qc_status(0)"
            ], 
            "outputs": [], 
            "metadata": {
                "collapsed": true
            }
        }, 
        {
            "source": [
                "### 13.5. Water Equivalent\n", 
                " *Description of the treatment of the snow water equivalent*\n", 
                "\n", 
                "**Is Required:** TRUE&nbsp;&nbsp;&nbsp;&nbsp;**Type:** ENUM&nbsp;&nbsp;&nbsp;&nbsp;**Cardinality:** 1.1"
            ], 
            "cell_type": "markdown", 
            "metadata": {}
        }, 
        {
            "execution_count": null, 
            "cell_type": "code", 
            "source": [
                "# PROPERTY ID - DO NOT EDIT !  \n", 
                "DOC.set_id('cmip6.land.snow.water_equivalent')  \n", 
                "\n", 
                "# PROPERTY VALUE: \n", 
                "# Set as follows: DOC.set_value(\"value\")  \n", 
                "# Valid Choices: \n", 
                "#      \"prognostic\"  \n", 
                "#      \"diagnostic\"  \n", 
                "#      \"Other: [Please specify]\"  \n", 
                "# TODO\n", 
                "\n", 
                "# PROPERTY QUALITY CONTROL STATUS:  \n", 
                "# 0=draft, 1=in-review, 2=reviewed  \n", 
                "DOC.set_qc_status(0)"
            ], 
            "outputs": [], 
            "metadata": {
                "collapsed": true
            }
        }, 
        {
            "source": [
                "### 13.6. Heat Content\n", 
                " *Description of the treatment of the heat content of snow*\n", 
                "\n", 
                "**Is Required:** TRUE&nbsp;&nbsp;&nbsp;&nbsp;**Type:** ENUM&nbsp;&nbsp;&nbsp;&nbsp;**Cardinality:** 1.1"
            ], 
            "cell_type": "markdown", 
            "metadata": {}
        }, 
        {
            "execution_count": null, 
            "cell_type": "code", 
            "source": [
                "# PROPERTY ID - DO NOT EDIT !  \n", 
                "DOC.set_id('cmip6.land.snow.heat_content')  \n", 
                "\n", 
                "# PROPERTY VALUE: \n", 
                "# Set as follows: DOC.set_value(\"value\")  \n", 
                "# Valid Choices: \n", 
                "#      \"prognostic\"  \n", 
                "#      \"diagnostic\"  \n", 
                "#      \"Other: [Please specify]\"  \n", 
                "# TODO\n", 
                "\n", 
                "# PROPERTY QUALITY CONTROL STATUS:  \n", 
                "# 0=draft, 1=in-review, 2=reviewed  \n", 
                "DOC.set_qc_status(0)"
            ], 
            "outputs": [], 
            "metadata": {
                "collapsed": true
            }
        }, 
        {
            "source": [
                "### 13.7. Temperature\n", 
                " *Description of the treatment of snow temperature*\n", 
                "\n", 
                "**Is Required:** TRUE&nbsp;&nbsp;&nbsp;&nbsp;**Type:** ENUM&nbsp;&nbsp;&nbsp;&nbsp;**Cardinality:** 1.1"
            ], 
            "cell_type": "markdown", 
            "metadata": {}
        }, 
        {
            "execution_count": null, 
            "cell_type": "code", 
            "source": [
                "# PROPERTY ID - DO NOT EDIT !  \n", 
                "DOC.set_id('cmip6.land.snow.temperature')  \n", 
                "\n", 
                "# PROPERTY VALUE: \n", 
                "# Set as follows: DOC.set_value(\"value\")  \n", 
                "# Valid Choices: \n", 
                "#      \"prognostic\"  \n", 
                "#      \"diagnostic\"  \n", 
                "#      \"Other: [Please specify]\"  \n", 
                "# TODO\n", 
                "\n", 
                "# PROPERTY QUALITY CONTROL STATUS:  \n", 
                "# 0=draft, 1=in-review, 2=reviewed  \n", 
                "DOC.set_qc_status(0)"
            ], 
            "outputs": [], 
            "metadata": {
                "collapsed": true
            }
        }, 
        {
            "source": [
                "### 13.8. Liquid Water Content\n", 
                " *Description of the treatment of snow liquid water*\n", 
                "\n", 
                "**Is Required:** TRUE&nbsp;&nbsp;&nbsp;&nbsp;**Type:** ENUM&nbsp;&nbsp;&nbsp;&nbsp;**Cardinality:** 1.1"
            ], 
            "cell_type": "markdown", 
            "metadata": {}
        }, 
        {
            "execution_count": null, 
            "cell_type": "code", 
            "source": [
                "# PROPERTY ID - DO NOT EDIT !  \n", 
                "DOC.set_id('cmip6.land.snow.liquid_water_content')  \n", 
                "\n", 
                "# PROPERTY VALUE: \n", 
                "# Set as follows: DOC.set_value(\"value\")  \n", 
                "# Valid Choices: \n", 
                "#      \"prognostic\"  \n", 
                "#      \"diagnostic\"  \n", 
                "#      \"Other: [Please specify]\"  \n", 
                "# TODO\n", 
                "\n", 
                "# PROPERTY QUALITY CONTROL STATUS:  \n", 
                "# 0=draft, 1=in-review, 2=reviewed  \n", 
                "DOC.set_qc_status(0)"
            ], 
            "outputs": [], 
            "metadata": {
                "collapsed": true
            }
        }, 
        {
            "source": [
                "### 13.9. Snow Cover Fractions\n", 
                " *Specify cover fractions used in the surface snow scheme*\n", 
                "\n", 
                "**Is Required:** TRUE&nbsp;&nbsp;&nbsp;&nbsp;**Type:** ENUM&nbsp;&nbsp;&nbsp;&nbsp;**Cardinality:** 1.N"
            ], 
            "cell_type": "markdown", 
            "metadata": {}
        }, 
        {
            "execution_count": null, 
            "cell_type": "code", 
            "source": [
                "# PROPERTY ID - DO NOT EDIT !  \n", 
                "DOC.set_id('cmip6.land.snow.snow_cover_fractions')  \n", 
                "\n", 
                "# PROPERTY VALUE(S): \n", 
                "# Set as follows: DOC.set_value(\"value\")  \n", 
                "# Valid Choices: \n", 
                "#      \"ground snow fraction\"  \n", 
                "#      \"vegetation snow fraction\"  \n", 
                "#      \"Other: [Please specify]\"  \n", 
                "# TODO\n", 
                "\n", 
                "# PROPERTY QUALITY CONTROL STATUS:  \n", 
                "# 0=draft, 1=in-review, 2=reviewed  \n", 
                "DOC.set_qc_status(0)"
            ], 
            "outputs": [], 
            "metadata": {
                "collapsed": true
            }
        }, 
        {
            "source": [
                "### 13.10. Processes\n", 
                " *Snow related processes in the land surface scheme*\n", 
                "\n", 
                "**Is Required:** TRUE&nbsp;&nbsp;&nbsp;&nbsp;**Type:** ENUM&nbsp;&nbsp;&nbsp;&nbsp;**Cardinality:** 1.N"
            ], 
            "cell_type": "markdown", 
            "metadata": {}
        }, 
        {
            "execution_count": null, 
            "cell_type": "code", 
            "source": [
                "# PROPERTY ID - DO NOT EDIT !  \n", 
                "DOC.set_id('cmip6.land.snow.processes')  \n", 
                "\n", 
                "# PROPERTY VALUE(S): \n", 
                "# Set as follows: DOC.set_value(\"value\")  \n", 
                "# Valid Choices: \n", 
                "#      \"snow interception\"  \n", 
                "#      \"snow melting\"  \n", 
                "#      \"snow freezing\"  \n", 
                "#      \"blowing snow\"  \n", 
                "#      \"Other: [Please specify]\"  \n", 
                "# TODO\n", 
                "\n", 
                "# PROPERTY QUALITY CONTROL STATUS:  \n", 
                "# 0=draft, 1=in-review, 2=reviewed  \n", 
                "DOC.set_qc_status(0)"
            ], 
            "outputs": [], 
            "metadata": {
                "collapsed": true
            }
        }, 
        {
            "source": [
                "# 14. Vegetation  \n", 
                "*Land surface soil*"
            ], 
            "cell_type": "markdown", 
            "metadata": {}
        }, 
        {
            "source": [
                "### 14.1. Description\n", 
                " *General description of soil map*\n", 
                "\n", 
                "**Is Required:** TRUE&nbsp;&nbsp;&nbsp;&nbsp;**Type:** STRING&nbsp;&nbsp;&nbsp;&nbsp;**Cardinality:** 1.1"
            ], 
            "cell_type": "markdown", 
            "metadata": {}
        }, 
        {
            "execution_count": null, 
            "cell_type": "code", 
            "source": [
                "# PROPERTY ID - DO NOT EDIT !  \n", 
                "DOC.set_id('cmip6.land.vegetation.description')  \n", 
                "\n", 
                "# PROPERTY VALUE: \n", 
                "# Set as follows: DOC.set_value(\"value\")  \n", 
                "# TODO\n", 
                "\n", 
                "# PROPERTY QUALITY CONTROL STATUS:  \n", 
                "# 0=draft, 1=in-review, 2=reviewed  \n", 
                "DOC.set_qc_status(0)"
            ], 
            "outputs": [], 
            "metadata": {
                "collapsed": true
            }
        }, 
        {
            "source": [
                "### 14.2. Structure\n", 
                " *Describe the soil map structure*\n", 
                "\n", 
                "**Is Required:** TRUE&nbsp;&nbsp;&nbsp;&nbsp;**Type:** STRING&nbsp;&nbsp;&nbsp;&nbsp;**Cardinality:** 1.1"
            ], 
            "cell_type": "markdown", 
            "metadata": {}
        }, 
        {
            "execution_count": null, 
            "cell_type": "code", 
            "source": [
                "# PROPERTY ID - DO NOT EDIT !  \n", 
                "DOC.set_id('cmip6.land.vegetation.structure')  \n", 
                "\n", 
                "# PROPERTY VALUE: \n", 
                "# Set as follows: DOC.set_value(\"value\")  \n", 
                "# TODO\n", 
                "\n", 
                "# PROPERTY QUALITY CONTROL STATUS:  \n", 
                "# 0=draft, 1=in-review, 2=reviewed  \n", 
                "DOC.set_qc_status(0)"
            ], 
            "outputs": [], 
            "metadata": {
                "collapsed": true
            }
        }, 
        {
            "source": [
                "### 14.3. Texture\n", 
                " *Describe the soil map texture*\n", 
                "\n", 
                "**Is Required:** TRUE&nbsp;&nbsp;&nbsp;&nbsp;**Type:** STRING&nbsp;&nbsp;&nbsp;&nbsp;**Cardinality:** 1.1"
            ], 
            "cell_type": "markdown", 
            "metadata": {}
        }, 
        {
            "execution_count": null, 
            "cell_type": "code", 
            "source": [
                "# PROPERTY ID - DO NOT EDIT !  \n", 
                "DOC.set_id('cmip6.land.vegetation.texture')  \n", 
                "\n", 
                "# PROPERTY VALUE: \n", 
                "# Set as follows: DOC.set_value(\"value\")  \n", 
                "# TODO\n", 
                "\n", 
                "# PROPERTY QUALITY CONTROL STATUS:  \n", 
                "# 0=draft, 1=in-review, 2=reviewed  \n", 
                "DOC.set_qc_status(0)"
            ], 
            "outputs": [], 
            "metadata": {
                "collapsed": true
            }
        }, 
        {
            "source": [
                "### 14.4. Albedo\n", 
                " *Describe the soil map albedo*\n", 
                "\n", 
                "**Is Required:** TRUE&nbsp;&nbsp;&nbsp;&nbsp;**Type:** STRING&nbsp;&nbsp;&nbsp;&nbsp;**Cardinality:** 1.1"
            ], 
            "cell_type": "markdown", 
            "metadata": {}
        }, 
        {
            "execution_count": null, 
            "cell_type": "code", 
            "source": [
                "# PROPERTY ID - DO NOT EDIT !  \n", 
                "DOC.set_id('cmip6.land.vegetation.albedo')  \n", 
                "\n", 
                "# PROPERTY VALUE: \n", 
                "# Set as follows: DOC.set_value(\"value\")  \n", 
                "# TODO\n", 
                "\n", 
                "# PROPERTY QUALITY CONTROL STATUS:  \n", 
                "# 0=draft, 1=in-review, 2=reviewed  \n", 
                "DOC.set_qc_status(0)"
            ], 
            "outputs": [], 
            "metadata": {
                "collapsed": true
            }
        }, 
        {
            "source": [
                "### 14.5. Water Table\n", 
                " *Describe the soil map water_table*\n", 
                "\n", 
                "**Is Required:** TRUE&nbsp;&nbsp;&nbsp;&nbsp;**Type:** STRING&nbsp;&nbsp;&nbsp;&nbsp;**Cardinality:** 1.1"
            ], 
            "cell_type": "markdown", 
            "metadata": {}
        }, 
        {
            "execution_count": null, 
            "cell_type": "code", 
            "source": [
                "# PROPERTY ID - DO NOT EDIT !  \n", 
                "DOC.set_id('cmip6.land.vegetation.water_table')  \n", 
                "\n", 
                "# PROPERTY VALUE: \n", 
                "# Set as follows: DOC.set_value(\"value\")  \n", 
                "# TODO\n", 
                "\n", 
                "# PROPERTY QUALITY CONTROL STATUS:  \n", 
                "# 0=draft, 1=in-review, 2=reviewed  \n", 
                "DOC.set_qc_status(0)"
            ], 
            "outputs": [], 
            "metadata": {
                "collapsed": true
            }
        }, 
        {
            "source": [
                "### 14.6. Soil Depth\n", 
                " *Describe the soil map total soil depth*\n", 
                "\n", 
                "**Is Required:** TRUE&nbsp;&nbsp;&nbsp;&nbsp;**Type:** STRING&nbsp;&nbsp;&nbsp;&nbsp;**Cardinality:** 1.1"
            ], 
            "cell_type": "markdown", 
            "metadata": {}
        }, 
        {
            "execution_count": null, 
            "cell_type": "code", 
            "source": [
                "# PROPERTY ID - DO NOT EDIT !  \n", 
                "DOC.set_id('cmip6.land.vegetation.soil_depth')  \n", 
                "\n", 
                "# PROPERTY VALUE: \n", 
                "# Set as follows: DOC.set_value(\"value\")  \n", 
                "# TODO\n", 
                "\n", 
                "# PROPERTY QUALITY CONTROL STATUS:  \n", 
                "# 0=draft, 1=in-review, 2=reviewed  \n", 
                "DOC.set_qc_status(0)"
            ], 
            "outputs": [], 
            "metadata": {
                "collapsed": true
            }
        }, 
        {
            "source": [
                "# 15. Vegetation --&gt; Methods  \n", 
                "*TODO*"
            ], 
            "cell_type": "markdown", 
            "metadata": {}
        }, 
        {
            "source": [
                "### 15.1. Phenology\n", 
                " *Treatment of vegetation phenology*\n", 
                "\n", 
                "**Is Required:** TRUE&nbsp;&nbsp;&nbsp;&nbsp;**Type:** ENUM&nbsp;&nbsp;&nbsp;&nbsp;**Cardinality:** 1.1"
            ], 
            "cell_type": "markdown", 
            "metadata": {}
        }, 
        {
            "execution_count": null, 
            "cell_type": "code", 
            "source": [
                "# PROPERTY ID - DO NOT EDIT !  \n", 
                "DOC.set_id('cmip6.land.vegetation.methods.phenology')  \n", 
                "\n", 
                "# PROPERTY VALUE: \n", 
                "# Set as follows: DOC.set_value(\"value\")  \n", 
                "# Valid Choices: \n", 
                "#      \"prognostic\"  \n", 
                "#      \"diagnostic (vegetation map)\"  \n", 
                "#      \"Other: [Please specify]\"  \n", 
                "# TODO\n", 
                "\n", 
                "# PROPERTY QUALITY CONTROL STATUS:  \n", 
                "# 0=draft, 1=in-review, 2=reviewed  \n", 
                "DOC.set_qc_status(0)"
            ], 
            "outputs": [], 
            "metadata": {
                "collapsed": true
            }
        }, 
        {
            "source": [
                "### 15.2. Phenology Description\n", 
                " *General description of the treatment of vegetation phenology*\n", 
                "\n", 
                "**Is Required:** FALSE&nbsp;&nbsp;&nbsp;&nbsp;**Type:** STRING&nbsp;&nbsp;&nbsp;&nbsp;**Cardinality:** 0.1"
            ], 
            "cell_type": "markdown", 
            "metadata": {}
        }, 
        {
            "execution_count": null, 
            "cell_type": "code", 
            "source": [
                "# PROPERTY ID - DO NOT EDIT !  \n", 
                "DOC.set_id('cmip6.land.vegetation.methods.phenology_description')  \n", 
                "\n", 
                "# PROPERTY VALUE: \n", 
                "# Set as follows: DOC.set_value(\"value\")  \n", 
                "# TODO\n", 
                "\n", 
                "# PROPERTY QUALITY CONTROL STATUS:  \n", 
                "# 0=draft, 1=in-review, 2=reviewed  \n", 
                "DOC.set_qc_status(0)"
            ], 
            "outputs": [], 
            "metadata": {
                "collapsed": true
            }
        }, 
        {
            "source": [
                "### 15.3. Leaf Area Index\n", 
                " *Treatment of vegetation leaf area index*\n", 
                "\n", 
                "**Is Required:** TRUE&nbsp;&nbsp;&nbsp;&nbsp;**Type:** ENUM&nbsp;&nbsp;&nbsp;&nbsp;**Cardinality:** 1.1"
            ], 
            "cell_type": "markdown", 
            "metadata": {}
        }, 
        {
            "execution_count": null, 
            "cell_type": "code", 
            "source": [
                "# PROPERTY ID - DO NOT EDIT !  \n", 
                "DOC.set_id('cmip6.land.vegetation.methods.leaf_area_index')  \n", 
                "\n", 
                "# PROPERTY VALUE: \n", 
                "# Set as follows: DOC.set_value(\"value\")  \n", 
                "# Valid Choices: \n", 
                "#      \"prescribed\"  \n", 
                "#      \"prognostic\"  \n", 
                "#      \"diagnostic\"  \n", 
                "#      \"Other: [Please specify]\"  \n", 
                "# TODO\n", 
                "\n", 
                "# PROPERTY QUALITY CONTROL STATUS:  \n", 
                "# 0=draft, 1=in-review, 2=reviewed  \n", 
                "DOC.set_qc_status(0)"
            ], 
            "outputs": [], 
            "metadata": {
                "collapsed": true
            }
        }, 
        {
            "source": [
                "### 15.4. Leaf Area Index Description\n", 
                " *General description of the treatment of leaf area index*\n", 
                "\n", 
                "**Is Required:** FALSE&nbsp;&nbsp;&nbsp;&nbsp;**Type:** STRING&nbsp;&nbsp;&nbsp;&nbsp;**Cardinality:** 0.1"
            ], 
            "cell_type": "markdown", 
            "metadata": {}
        }, 
        {
            "execution_count": null, 
            "cell_type": "code", 
            "source": [
                "# PROPERTY ID - DO NOT EDIT !  \n", 
                "DOC.set_id('cmip6.land.vegetation.methods.leaf_area_index_description')  \n", 
                "\n", 
                "# PROPERTY VALUE: \n", 
                "# Set as follows: DOC.set_value(\"value\")  \n", 
                "# TODO\n", 
                "\n", 
                "# PROPERTY QUALITY CONTROL STATUS:  \n", 
                "# 0=draft, 1=in-review, 2=reviewed  \n", 
                "DOC.set_qc_status(0)"
            ], 
            "outputs": [], 
            "metadata": {
                "collapsed": true
            }
        }, 
        {
            "source": [
                "### 15.5. Biomass\n", 
                " *Treatment of vegetation biomass *\n", 
                "\n", 
                "**Is Required:** TRUE&nbsp;&nbsp;&nbsp;&nbsp;**Type:** ENUM&nbsp;&nbsp;&nbsp;&nbsp;**Cardinality:** 1.1"
            ], 
            "cell_type": "markdown", 
            "metadata": {}
        }, 
        {
            "execution_count": null, 
            "cell_type": "code", 
            "source": [
                "# PROPERTY ID - DO NOT EDIT !  \n", 
                "DOC.set_id('cmip6.land.vegetation.methods.biomass')  \n", 
                "\n", 
                "# PROPERTY VALUE: \n", 
                "# Set as follows: DOC.set_value(\"value\")  \n", 
                "# Valid Choices: \n", 
                "#      \"prognostic\"  \n", 
                "#      \"diagnostic\"  \n", 
                "#      \"Other: [Please specify]\"  \n", 
                "# TODO\n", 
                "\n", 
                "# PROPERTY QUALITY CONTROL STATUS:  \n", 
                "# 0=draft, 1=in-review, 2=reviewed  \n", 
                "DOC.set_qc_status(0)"
            ], 
            "outputs": [], 
            "metadata": {
                "collapsed": true
            }
        }, 
        {
            "source": [
                "### 15.6. Biomass Description\n", 
                " *General description of the treatment of vegetation biomass*\n", 
                "\n", 
                "**Is Required:** FALSE&nbsp;&nbsp;&nbsp;&nbsp;**Type:** STRING&nbsp;&nbsp;&nbsp;&nbsp;**Cardinality:** 0.1"
            ], 
            "cell_type": "markdown", 
            "metadata": {}
        }, 
        {
            "execution_count": null, 
            "cell_type": "code", 
            "source": [
                "# PROPERTY ID - DO NOT EDIT !  \n", 
                "DOC.set_id('cmip6.land.vegetation.methods.biomass_description')  \n", 
                "\n", 
                "# PROPERTY VALUE: \n", 
                "# Set as follows: DOC.set_value(\"value\")  \n", 
                "# TODO\n", 
                "\n", 
                "# PROPERTY QUALITY CONTROL STATUS:  \n", 
                "# 0=draft, 1=in-review, 2=reviewed  \n", 
                "DOC.set_qc_status(0)"
            ], 
            "outputs": [], 
            "metadata": {
                "collapsed": true
            }
        }, 
        {
            "source": [
                "### 15.7. Biogeography\n", 
                " *Treatment of vegetation biogeography*\n", 
                "\n", 
                "**Is Required:** TRUE&nbsp;&nbsp;&nbsp;&nbsp;**Type:** ENUM&nbsp;&nbsp;&nbsp;&nbsp;**Cardinality:** 1.1"
            ], 
            "cell_type": "markdown", 
            "metadata": {}
        }, 
        {
            "execution_count": null, 
            "cell_type": "code", 
            "source": [
                "# PROPERTY ID - DO NOT EDIT !  \n", 
                "DOC.set_id('cmip6.land.vegetation.methods.biogeography')  \n", 
                "\n", 
                "# PROPERTY VALUE: \n", 
                "# Set as follows: DOC.set_value(\"value\")  \n", 
                "# Valid Choices: \n", 
                "#      \"prognostic\"  \n", 
                "#      \"diagnostic\"  \n", 
                "#      \"Other: [Please specify]\"  \n", 
                "# TODO\n", 
                "\n", 
                "# PROPERTY QUALITY CONTROL STATUS:  \n", 
                "# 0=draft, 1=in-review, 2=reviewed  \n", 
                "DOC.set_qc_status(0)"
            ], 
            "outputs": [], 
            "metadata": {
                "collapsed": true
            }
        }, 
        {
            "source": [
                "### 15.8. Biogeography Description\n", 
                " *General description of the treatment of vegetation biogeography*\n", 
                "\n", 
                "**Is Required:** FALSE&nbsp;&nbsp;&nbsp;&nbsp;**Type:** STRING&nbsp;&nbsp;&nbsp;&nbsp;**Cardinality:** 0.1"
            ], 
            "cell_type": "markdown", 
            "metadata": {}
        }, 
        {
            "execution_count": null, 
            "cell_type": "code", 
            "source": [
                "# PROPERTY ID - DO NOT EDIT !  \n", 
                "DOC.set_id('cmip6.land.vegetation.methods.biogeography_description')  \n", 
                "\n", 
                "# PROPERTY VALUE: \n", 
                "# Set as follows: DOC.set_value(\"value\")  \n", 
                "# TODO\n", 
                "\n", 
                "# PROPERTY QUALITY CONTROL STATUS:  \n", 
                "# 0=draft, 1=in-review, 2=reviewed  \n", 
                "DOC.set_qc_status(0)"
            ], 
            "outputs": [], 
            "metadata": {
                "collapsed": true
            }
        }, 
        {
            "source": [
                "### 15.9. Stomatal Resistance\n", 
                " *Specify the dependancies on vegetation stomatal resistance*\n", 
                "\n", 
                "**Is Required:** TRUE&nbsp;&nbsp;&nbsp;&nbsp;**Type:** ENUM&nbsp;&nbsp;&nbsp;&nbsp;**Cardinality:** 1.N"
            ], 
            "cell_type": "markdown", 
            "metadata": {}
        }, 
        {
            "execution_count": null, 
            "cell_type": "code", 
            "source": [
                "# PROPERTY ID - DO NOT EDIT !  \n", 
                "DOC.set_id('cmip6.land.vegetation.methods.stomatal_resistance')  \n", 
                "\n", 
                "# PROPERTY VALUE(S): \n", 
                "# Set as follows: DOC.set_value(\"value\")  \n", 
                "# Valid Choices: \n", 
                "#      \"light\"  \n", 
                "#      \"temperature\"  \n", 
                "#      \"water availability\"  \n", 
                "#      \"CO2\"  \n", 
                "#      \"O3\"  \n", 
                "#      \"Other: [Please specify]\"  \n", 
                "# TODO\n", 
                "\n", 
                "# PROPERTY QUALITY CONTROL STATUS:  \n", 
                "# 0=draft, 1=in-review, 2=reviewed  \n", 
                "DOC.set_qc_status(0)"
            ], 
            "outputs": [], 
            "metadata": {
                "collapsed": true
            }
        }, 
        {
            "source": [
                "### 15.10. Stomatal Resistance Description\n", 
                " *General description of the treatment of vegetation stomatal resistance*\n", 
                "\n", 
                "**Is Required:** FALSE&nbsp;&nbsp;&nbsp;&nbsp;**Type:** STRING&nbsp;&nbsp;&nbsp;&nbsp;**Cardinality:** 0.1"
            ], 
            "cell_type": "markdown", 
            "metadata": {}
        }, 
        {
            "execution_count": null, 
            "cell_type": "code", 
            "source": [
                "# PROPERTY ID - DO NOT EDIT !  \n", 
                "DOC.set_id('cmip6.land.vegetation.methods.stomatal_resistance_description')  \n", 
                "\n", 
                "# PROPERTY VALUE: \n", 
                "# Set as follows: DOC.set_value(\"value\")  \n", 
                "# TODO\n", 
                "\n", 
                "# PROPERTY QUALITY CONTROL STATUS:  \n", 
                "# 0=draft, 1=in-review, 2=reviewed  \n", 
                "DOC.set_qc_status(0)"
            ], 
            "outputs": [], 
            "metadata": {
                "collapsed": true
            }
        }, 
        {
            "source": [
                "# 16. Energy Balance  \n", 
                "*Land surface energy balance*"
            ], 
            "cell_type": "markdown", 
            "metadata": {}
        }, 
        {
            "source": [
                "### 16.1. Tiling\n", 
                " *Describe the energy balance tiling, if any.*\n", 
                "\n", 
                "**Is Required:** FALSE&nbsp;&nbsp;&nbsp;&nbsp;**Type:** STRING&nbsp;&nbsp;&nbsp;&nbsp;**Cardinality:** 0.1"
            ], 
            "cell_type": "markdown", 
            "metadata": {}
        }, 
        {
            "execution_count": null, 
            "cell_type": "code", 
            "source": [
                "# PROPERTY ID - DO NOT EDIT !  \n", 
                "DOC.set_id('cmip6.land.energy_balance.tiling')  \n", 
                "\n", 
                "# PROPERTY VALUE: \n", 
                "# Set as follows: DOC.set_value(\"value\")  \n", 
                "# TODO\n", 
                "\n", 
                "# PROPERTY QUALITY CONTROL STATUS:  \n", 
                "# 0=draft, 1=in-review, 2=reviewed  \n", 
                "DOC.set_qc_status(0)"
            ], 
            "outputs": [], 
            "metadata": {
                "collapsed": true
            }
        }, 
        {
            "source": [
                "### 16.2. Number Of Surface Temperature\n", 
                " *The numnber of surface temperatures used*\n", 
                "\n", 
                "**Is Required:** TRUE&nbsp;&nbsp;&nbsp;&nbsp;**Type:** INTEGER&nbsp;&nbsp;&nbsp;&nbsp;**Cardinality:** 1.1"
            ], 
            "cell_type": "markdown", 
            "metadata": {}
        }, 
        {
            "execution_count": null, 
            "cell_type": "code", 
            "source": [
                "# PROPERTY ID - DO NOT EDIT !  \n", 
                "DOC.set_id('cmip6.land.energy_balance.number_of_surface_temperature')  \n", 
                "\n", 
                "# PROPERTY VALUE: \n", 
                "# Set as follows: DOC.set_value(value)  \n", 
                "# TODO\n", 
                "\n", 
                "# PROPERTY QUALITY CONTROL STATUS:  \n", 
                "# 0=draft, 1=in-review, 2=reviewed  \n", 
                "DOC.set_qc_status(0)"
            ], 
            "outputs": [], 
            "metadata": {
                "collapsed": true
            }
        }, 
        {
            "source": [
                "### 16.3. Evaporation Formulation\n", 
                " *Specify the formulation method for land surface evaporation*\n", 
                "\n", 
                "**Is Required:** TRUE&nbsp;&nbsp;&nbsp;&nbsp;**Type:** ENUM&nbsp;&nbsp;&nbsp;&nbsp;**Cardinality:** 1.1"
            ], 
            "cell_type": "markdown", 
            "metadata": {}
        }, 
        {
            "execution_count": null, 
            "cell_type": "code", 
            "source": [
                "# PROPERTY ID - DO NOT EDIT !  \n", 
                "DOC.set_id('cmip6.land.energy_balance.evaporation_formulation')  \n", 
                "\n", 
                "# PROPERTY VALUE: \n", 
                "# Set as follows: DOC.set_value(\"value\")  \n", 
                "# Valid Choices: \n", 
                "#      \"alpha\"  \n", 
                "#      \"beta\"  \n", 
                "#      \"combined\"  \n", 
                "#      \"Monteith potential evaporation\"  \n", 
                "#      \"Other: [Please specify]\"  \n", 
                "# TODO\n", 
                "\n", 
                "# PROPERTY QUALITY CONTROL STATUS:  \n", 
                "# 0=draft, 1=in-review, 2=reviewed  \n", 
                "DOC.set_qc_status(0)"
            ], 
            "outputs": [], 
            "metadata": {
                "collapsed": true
            }
        }, 
        {
            "source": [
                "### 16.4. Processes\n", 
                " *Describe which processes are included in the energy balance scheme*\n", 
                "\n", 
                "**Is Required:** TRUE&nbsp;&nbsp;&nbsp;&nbsp;**Type:** ENUM&nbsp;&nbsp;&nbsp;&nbsp;**Cardinality:** 1.N"
            ], 
            "cell_type": "markdown", 
            "metadata": {}
        }, 
        {
            "execution_count": null, 
            "cell_type": "code", 
            "source": [
                "# PROPERTY ID - DO NOT EDIT !  \n", 
                "DOC.set_id('cmip6.land.energy_balance.processes')  \n", 
                "\n", 
                "# PROPERTY VALUE(S): \n", 
                "# Set as follows: DOC.set_value(\"value\")  \n", 
                "# Valid Choices: \n", 
                "#      \"transpiration\"  \n", 
                "#      \"Other: [Please specify]\"  \n", 
                "# TODO\n", 
                "\n", 
                "# PROPERTY QUALITY CONTROL STATUS:  \n", 
                "# 0=draft, 1=in-review, 2=reviewed  \n", 
                "DOC.set_qc_status(0)"
            ], 
            "outputs": [], 
            "metadata": {
                "collapsed": true
            }
        }, 
        {
            "source": [
                "# 17. Albedo  \n", 
                "*Land surface albedo*"
            ], 
            "cell_type": "markdown", 
            "metadata": {}
        }, 
        {
            "source": [
                "### 17.1. Tiling\n", 
                " *Describe the albedo tiling, if any.*\n", 
                "\n", 
                "**Is Required:** FALSE&nbsp;&nbsp;&nbsp;&nbsp;**Type:** STRING&nbsp;&nbsp;&nbsp;&nbsp;**Cardinality:** 0.1"
            ], 
            "cell_type": "markdown", 
            "metadata": {}
        }, 
        {
            "execution_count": null, 
            "cell_type": "code", 
            "source": [
                "# PROPERTY ID - DO NOT EDIT !  \n", 
                "DOC.set_id('cmip6.land.albedo.tiling')  \n", 
                "\n", 
                "# PROPERTY VALUE: \n", 
                "# Set as follows: DOC.set_value(\"value\")  \n", 
                "# TODO\n", 
                "\n", 
                "# PROPERTY QUALITY CONTROL STATUS:  \n", 
                "# 0=draft, 1=in-review, 2=reviewed  \n", 
                "DOC.set_qc_status(0)"
            ], 
            "outputs": [], 
            "metadata": {
                "collapsed": true
            }
        }, 
        {
            "source": [
                "# 18. Albedo --&gt; Snow Free Albedo  \n", 
                "*TODO*"
            ], 
            "cell_type": "markdown", 
            "metadata": {}
        }, 
        {
            "source": [
                "### 18.1. Prognostic\n", 
                " *Is snow free albedo prognostic?*\n", 
                "\n", 
                "**Is Required:** TRUE&nbsp;&nbsp;&nbsp;&nbsp;**Type:** BOOLEAN&nbsp;&nbsp;&nbsp;&nbsp;**Cardinality:** 1.1"
            ], 
            "cell_type": "markdown", 
            "metadata": {}
        }, 
        {
            "execution_count": null, 
            "cell_type": "code", 
            "source": [
                "# PROPERTY ID - DO NOT EDIT !  \n", 
                "DOC.set_id('cmip6.land.albedo.snow_free_albedo.prognostic')  \n", 
                "\n", 
                "# PROPERTY VALUE: \n", 
                "# Set as follows: DOC.set_value(value)  \n", 
                "# Valid Choices: \n", 
                "#     True  \n", 
                "#     False  \n", 
                "# TODO\n", 
                "\n", 
                "# PROPERTY QUALITY CONTROL STATUS:  \n", 
                "# 0=draft, 1=in-review, 2=reviewed  \n", 
                "DOC.set_qc_status(0)"
            ], 
            "outputs": [], 
            "metadata": {
                "collapsed": true
            }
        }, 
        {
            "source": [
                "### 18.2. Functions\n", 
                " *If prognostic, describe the dependancies on snow free albedo calculations*\n", 
                "\n", 
                "**Is Required:** FALSE&nbsp;&nbsp;&nbsp;&nbsp;**Type:** ENUM&nbsp;&nbsp;&nbsp;&nbsp;**Cardinality:** 0.N"
            ], 
            "cell_type": "markdown", 
            "metadata": {}
        }, 
        {
            "execution_count": null, 
            "cell_type": "code", 
            "source": [
                "# PROPERTY ID - DO NOT EDIT !  \n", 
                "DOC.set_id('cmip6.land.albedo.snow_free_albedo.functions')  \n", 
                "\n", 
                "# PROPERTY VALUE(S): \n", 
                "# Set as follows: DOC.set_value(\"value\")  \n", 
                "# Valid Choices: \n", 
                "#      \"vegetation type\"  \n", 
                "#      \"soil humidity\"  \n", 
                "#      \"vegatation state\"  \n", 
                "#      \"Other: [Please specify]\"  \n", 
                "# TODO\n", 
                "\n", 
                "# PROPERTY QUALITY CONTROL STATUS:  \n", 
                "# 0=draft, 1=in-review, 2=reviewed  \n", 
                "DOC.set_qc_status(0)"
            ], 
            "outputs": [], 
            "metadata": {
                "collapsed": true
            }
        }, 
        {
            "source": [
                "### 18.3. Direct Diffuse\n", 
                " *If prognostic, describe the distinction between direct and diffuse albedo*\n", 
                "\n", 
                "**Is Required:** FALSE&nbsp;&nbsp;&nbsp;&nbsp;**Type:** ENUM&nbsp;&nbsp;&nbsp;&nbsp;**Cardinality:** 0.1"
            ], 
            "cell_type": "markdown", 
            "metadata": {}
        }, 
        {
            "execution_count": null, 
            "cell_type": "code", 
            "source": [
                "# PROPERTY ID - DO NOT EDIT !  \n", 
                "DOC.set_id('cmip6.land.albedo.snow_free_albedo.direct_diffuse')  \n", 
                "\n", 
                "# PROPERTY VALUE: \n", 
                "# Set as follows: DOC.set_value(\"value\")  \n", 
                "# Valid Choices: \n", 
                "#      \"distinction between direct and diffuse albedo\"  \n", 
                "#      \"no distinction between direct and diffuse albedo\"  \n", 
                "#      \"Other: [Please specify]\"  \n", 
                "# TODO\n", 
                "\n", 
                "# PROPERTY QUALITY CONTROL STATUS:  \n", 
                "# 0=draft, 1=in-review, 2=reviewed  \n", 
                "DOC.set_qc_status(0)"
            ], 
            "outputs": [], 
            "metadata": {
                "collapsed": true
            }
        }, 
        {
            "source": [
                "### 18.4. Number Of Wavelength Bands\n", 
                " *If prognostic, enter the number of wavelength bands used*\n", 
                "\n", 
                "**Is Required:** FALSE&nbsp;&nbsp;&nbsp;&nbsp;**Type:** INTEGER&nbsp;&nbsp;&nbsp;&nbsp;**Cardinality:** 0.1"
            ], 
            "cell_type": "markdown", 
            "metadata": {}
        }, 
        {
            "execution_count": null, 
            "cell_type": "code", 
            "source": [
                "# PROPERTY ID - DO NOT EDIT !  \n", 
                "DOC.set_id('cmip6.land.albedo.snow_free_albedo.number_of_wavelength_bands')  \n", 
                "\n", 
                "# PROPERTY VALUE: \n", 
                "# Set as follows: DOC.set_value(value)  \n", 
                "# TODO\n", 
                "\n", 
                "# PROPERTY QUALITY CONTROL STATUS:  \n", 
                "# 0=draft, 1=in-review, 2=reviewed  \n", 
                "DOC.set_qc_status(0)"
            ], 
            "outputs": [], 
            "metadata": {
                "collapsed": true
            }
        }, 
        {
            "source": [
                "# 19. Albedo --&gt; Snow Albedo  \n", 
                "*TODO*"
            ], 
            "cell_type": "markdown", 
            "metadata": {}
        }, 
        {
            "source": [
                "### 19.1. Type\n", 
                " *Describe the treatment of snow-covered land albedo*\n", 
                "\n", 
                "**Is Required:** TRUE&nbsp;&nbsp;&nbsp;&nbsp;**Type:** ENUM&nbsp;&nbsp;&nbsp;&nbsp;**Cardinality:** 1.1"
            ], 
            "cell_type": "markdown", 
            "metadata": {}
        }, 
        {
            "execution_count": null, 
            "cell_type": "code", 
            "source": [
                "# PROPERTY ID - DO NOT EDIT !  \n", 
                "DOC.set_id('cmip6.land.albedo.snow_albedo.type')  \n", 
                "\n", 
                "# PROPERTY VALUE: \n", 
                "# Set as follows: DOC.set_value(\"value\")  \n", 
                "# Valid Choices: \n", 
                "#      \"prognostic\"  \n", 
                "#      \"prescribed\"  \n", 
                "#      \"Other: [Please specify]\"  \n", 
                "# TODO\n", 
                "\n", 
                "# PROPERTY QUALITY CONTROL STATUS:  \n", 
                "# 0=draft, 1=in-review, 2=reviewed  \n", 
                "DOC.set_qc_status(0)"
            ], 
            "outputs": [], 
            "metadata": {
                "collapsed": true
            }
        }, 
        {
            "source": [
                "### 19.2. Functions\n", 
                " *If prognostic, *\n", 
                "\n", 
                "**Is Required:** FALSE&nbsp;&nbsp;&nbsp;&nbsp;**Type:** ENUM&nbsp;&nbsp;&nbsp;&nbsp;**Cardinality:** 0.N"
            ], 
            "cell_type": "markdown", 
            "metadata": {}
        }, 
        {
            "execution_count": null, 
            "cell_type": "code", 
            "source": [
                "# PROPERTY ID - DO NOT EDIT !  \n", 
                "DOC.set_id('cmip6.land.albedo.snow_albedo.functions')  \n", 
                "\n", 
                "# PROPERTY VALUE(S): \n", 
                "# Set as follows: DOC.set_value(\"value\")  \n", 
                "# Valid Choices: \n", 
                "#      \"vegetation type\"  \n", 
                "#      \"snow age\"  \n", 
                "#      \"snow density\"  \n", 
                "#      \"snow grain type\"  \n", 
                "#      \"aerosol deposition\"  \n", 
                "#      \"Other: [Please specify]\"  \n", 
                "# TODO\n", 
                "\n", 
                "# PROPERTY QUALITY CONTROL STATUS:  \n", 
                "# 0=draft, 1=in-review, 2=reviewed  \n", 
                "DOC.set_qc_status(0)"
            ], 
            "outputs": [], 
            "metadata": {
                "collapsed": true
            }
        }, 
        {
            "source": [
                "# 20. Albedo --&gt; Method  \n", 
                "*TODO*"
            ], 
            "cell_type": "markdown", 
            "metadata": {}
        }, 
        {
            "source": [
                "### 20.1. Phenology\n", 
                " *Description of the treatment of vegetation phenolo]gy*\n", 
                "\n", 
                "**Is Required:** TRUE&nbsp;&nbsp;&nbsp;&nbsp;**Type:** ENUM&nbsp;&nbsp;&nbsp;&nbsp;**Cardinality:** 1.1"
            ], 
            "cell_type": "markdown", 
            "metadata": {}
        }, 
        {
            "execution_count": null, 
            "cell_type": "code", 
            "source": [
                "# PROPERTY ID - DO NOT EDIT !  \n", 
                "DOC.set_id('cmip6.land.albedo.method.phenology')  \n", 
                "\n", 
                "# PROPERTY VALUE: \n", 
                "# Set as follows: DOC.set_value(\"value\")  \n", 
                "# Valid Choices: \n", 
                "#      \"prognostic\"  \n", 
                "#      \"diagnostic (vegetation map)\"  \n", 
                "#      \"Other: [Please specify]\"  \n", 
                "# TODO\n", 
                "\n", 
                "# PROPERTY QUALITY CONTROL STATUS:  \n", 
                "# 0=draft, 1=in-review, 2=reviewed  \n", 
                "DOC.set_qc_status(0)"
            ], 
            "outputs": [], 
            "metadata": {
                "collapsed": true
            }
        }, 
        {
            "source": [
                "### 20.2. Leaf Area Index\n", 
                " *Describe the treatment of the leaf area index*\n", 
                "\n", 
                "**Is Required:** TRUE&nbsp;&nbsp;&nbsp;&nbsp;**Type:** ENUM&nbsp;&nbsp;&nbsp;&nbsp;**Cardinality:** 1.1"
            ], 
            "cell_type": "markdown", 
            "metadata": {}
        }, 
        {
            "execution_count": null, 
            "cell_type": "code", 
            "source": [
                "# PROPERTY ID - DO NOT EDIT !  \n", 
                "DOC.set_id('cmip6.land.albedo.method.leaf_area_index')  \n", 
                "\n", 
                "# PROPERTY VALUE: \n", 
                "# Set as follows: DOC.set_value(\"value\")  \n", 
                "# Valid Choices: \n", 
                "#      \"prescribed\"  \n", 
                "#      \"prognostic\"  \n", 
                "#      \"diagnostic\"  \n", 
                "#      \"Other: [Please specify]\"  \n", 
                "# TODO\n", 
                "\n", 
                "# PROPERTY QUALITY CONTROL STATUS:  \n", 
                "# 0=draft, 1=in-review, 2=reviewed  \n", 
                "DOC.set_qc_status(0)"
            ], 
            "outputs": [], 
            "metadata": {
                "collapsed": true
            }
        }, 
        {
            "source": [
                "### 20.3. Biomass\n", 
                " *Describe the treatment of vegetation biomass*\n", 
                "\n", 
                "**Is Required:** TRUE&nbsp;&nbsp;&nbsp;&nbsp;**Type:** ENUM&nbsp;&nbsp;&nbsp;&nbsp;**Cardinality:** 1.1"
            ], 
            "cell_type": "markdown", 
            "metadata": {}
        }, 
        {
            "execution_count": null, 
            "cell_type": "code", 
            "source": [
                "# PROPERTY ID - DO NOT EDIT !  \n", 
                "DOC.set_id('cmip6.land.albedo.method.biomass')  \n", 
                "\n", 
                "# PROPERTY VALUE: \n", 
                "# Set as follows: DOC.set_value(\"value\")  \n", 
                "# Valid Choices: \n", 
                "#      \"prognostic\"  \n", 
                "#      \"diagnostic\"  \n", 
                "#      \"Other: [Please specify]\"  \n", 
                "# TODO\n", 
                "\n", 
                "# PROPERTY QUALITY CONTROL STATUS:  \n", 
                "# 0=draft, 1=in-review, 2=reviewed  \n", 
                "DOC.set_qc_status(0)"
            ], 
            "outputs": [], 
            "metadata": {
                "collapsed": true
            }
        }, 
        {
            "source": [
                "### 20.4. Biogeography\n", 
                " *Describe the treatment of vegatation biogeography*\n", 
                "\n", 
                "**Is Required:** TRUE&nbsp;&nbsp;&nbsp;&nbsp;**Type:** ENUM&nbsp;&nbsp;&nbsp;&nbsp;**Cardinality:** 1.1"
            ], 
            "cell_type": "markdown", 
            "metadata": {}
        }, 
        {
            "execution_count": null, 
            "cell_type": "code", 
            "source": [
                "# PROPERTY ID - DO NOT EDIT !  \n", 
                "DOC.set_id('cmip6.land.albedo.method.biogeography')  \n", 
                "\n", 
                "# PROPERTY VALUE: \n", 
                "# Set as follows: DOC.set_value(\"value\")  \n", 
                "# Valid Choices: \n", 
                "#      \"prognostic\"  \n", 
                "#      \"diagnostic\"  \n", 
                "#      \"Other: [Please specify]\"  \n", 
                "# TODO\n", 
                "\n", 
                "# PROPERTY QUALITY CONTROL STATUS:  \n", 
                "# 0=draft, 1=in-review, 2=reviewed  \n", 
                "DOC.set_qc_status(0)"
            ], 
            "outputs": [], 
            "metadata": {
                "collapsed": true
            }
        }, 
        {
            "source": [
                "### 20.5. Stomatal Resistance\n", 
                " *Specify the dependancies on vegetation stomatal resistance*\n", 
                "\n", 
                "**Is Required:** TRUE&nbsp;&nbsp;&nbsp;&nbsp;**Type:** ENUM&nbsp;&nbsp;&nbsp;&nbsp;**Cardinality:** 1.N"
            ], 
            "cell_type": "markdown", 
            "metadata": {}
        }, 
        {
            "execution_count": null, 
            "cell_type": "code", 
            "source": [
                "# PROPERTY ID - DO NOT EDIT !  \n", 
                "DOC.set_id('cmip6.land.albedo.method.stomatal_resistance')  \n", 
                "\n", 
                "# PROPERTY VALUE(S): \n", 
                "# Set as follows: DOC.set_value(\"value\")  \n", 
                "# Valid Choices: \n", 
                "#      \"light\"  \n", 
                "#      \"temperature\"  \n", 
                "#      \"water availability\"  \n", 
                "#      \"CO2\"  \n", 
                "#      \"O3\"  \n", 
                "#      \"Other: [Please specify]\"  \n", 
                "# TODO\n", 
                "\n", 
                "# PROPERTY QUALITY CONTROL STATUS:  \n", 
                "# 0=draft, 1=in-review, 2=reviewed  \n", 
                "DOC.set_qc_status(0)"
            ], 
            "outputs": [], 
            "metadata": {
                "collapsed": true
            }
        }, 
        {
            "source": [
                "# 21. Carbon Cycle --&gt; Vegetation  \n", 
                "*TODO*"
            ], 
            "cell_type": "markdown", 
            "metadata": {}
        }, 
        {
            "source": [
                "### 21.1. Number Of Carbon Pools\n", 
                " *Enter the number of carbon pools used*\n", 
                "\n", 
                "**Is Required:** TRUE&nbsp;&nbsp;&nbsp;&nbsp;**Type:** INTEGER&nbsp;&nbsp;&nbsp;&nbsp;**Cardinality:** 1.1"
            ], 
            "cell_type": "markdown", 
            "metadata": {}
        }, 
        {
            "execution_count": null, 
            "cell_type": "code", 
            "source": [
                "# PROPERTY ID - DO NOT EDIT !  \n", 
                "DOC.set_id('cmip6.land.carbon_cycle.vegetation.number_of_carbon_pools')  \n", 
                "\n", 
                "# PROPERTY VALUE: \n", 
                "# Set as follows: DOC.set_value(value)  \n", 
                "# TODO\n", 
                "\n", 
                "# PROPERTY QUALITY CONTROL STATUS:  \n", 
                "# 0=draft, 1=in-review, 2=reviewed  \n", 
                "DOC.set_qc_status(0)"
            ], 
            "outputs": [], 
            "metadata": {
                "collapsed": true
            }
        }, 
        {
            "source": [
                "### 21.2. Carbon Pools\n", 
                " *List the carbon pools used*\n", 
                "\n", 
                "**Is Required:** FALSE&nbsp;&nbsp;&nbsp;&nbsp;**Type:** STRING&nbsp;&nbsp;&nbsp;&nbsp;**Cardinality:** 0.1"
            ], 
            "cell_type": "markdown", 
            "metadata": {}
        }, 
        {
            "execution_count": null, 
            "cell_type": "code", 
            "source": [
                "# PROPERTY ID - DO NOT EDIT !  \n", 
                "DOC.set_id('cmip6.land.carbon_cycle.vegetation.carbon_pools')  \n", 
                "\n", 
                "# PROPERTY VALUE: \n", 
                "# Set as follows: DOC.set_value(\"value\")  \n", 
                "# TODO\n", 
                "\n", 
                "# PROPERTY QUALITY CONTROL STATUS:  \n", 
                "# 0=draft, 1=in-review, 2=reviewed  \n", 
                "DOC.set_qc_status(0)"
            ], 
            "outputs": [], 
            "metadata": {
                "collapsed": true
            }
        }, 
        {
            "source": [
                "### 21.3. Forest Stand Dynamics\n", 
                " *Describe the treatment of forest stand dyanmics*\n", 
                "\n", 
                "**Is Required:** FALSE&nbsp;&nbsp;&nbsp;&nbsp;**Type:** STRING&nbsp;&nbsp;&nbsp;&nbsp;**Cardinality:** 0.1"
            ], 
            "cell_type": "markdown", 
            "metadata": {}
        }, 
        {
            "execution_count": null, 
            "cell_type": "code", 
            "source": [
                "# PROPERTY ID - DO NOT EDIT !  \n", 
                "DOC.set_id('cmip6.land.carbon_cycle.vegetation.forest_stand_dynamics')  \n", 
                "\n", 
                "# PROPERTY VALUE: \n", 
                "# Set as follows: DOC.set_value(\"value\")  \n", 
                "# TODO\n", 
                "\n", 
                "# PROPERTY QUALITY CONTROL STATUS:  \n", 
                "# 0=draft, 1=in-review, 2=reviewed  \n", 
                "DOC.set_qc_status(0)"
            ], 
            "outputs": [], 
            "metadata": {
                "collapsed": true
            }
        }, 
        {
            "source": [
                "# 22. Carbon Cycle --&gt; Vegetation --&gt; Photosynthesis  \n", 
                "*TODO*"
            ], 
            "cell_type": "markdown", 
            "metadata": {}
        }, 
        {
            "source": [
                "### 22.1. Method\n", 
                " *Describe the general method used for photosynthesis (e.g. type of photosynthesis, distinction between C3 and C4 grasses, Nitrogen depencence, etc.)*\n", 
                "\n", 
                "**Is Required:** FALSE&nbsp;&nbsp;&nbsp;&nbsp;**Type:** STRING&nbsp;&nbsp;&nbsp;&nbsp;**Cardinality:** 0.1"
            ], 
            "cell_type": "markdown", 
            "metadata": {}
        }, 
        {
            "execution_count": null, 
            "cell_type": "code", 
            "source": [
                "# PROPERTY ID - DO NOT EDIT !  \n", 
                "DOC.set_id('cmip6.land.carbon_cycle.vegetation.photosynthesis.method')  \n", 
                "\n", 
                "# PROPERTY VALUE: \n", 
                "# Set as follows: DOC.set_value(\"value\")  \n", 
                "# TODO\n", 
                "\n", 
                "# PROPERTY QUALITY CONTROL STATUS:  \n", 
                "# 0=draft, 1=in-review, 2=reviewed  \n", 
                "DOC.set_qc_status(0)"
            ], 
            "outputs": [], 
            "metadata": {
                "collapsed": true
            }
        }, 
        {
            "source": [
                "# 23. Carbon Cycle --&gt; Vegetation --&gt; Autotrophic Respiration  \n", 
                "*TODO*"
            ], 
            "cell_type": "markdown", 
            "metadata": {}
        }, 
        {
            "source": [
                "### 23.1. Parametrised\n", 
                " *Is the method parametrised?*\n", 
                "\n", 
                "**Is Required:** TRUE&nbsp;&nbsp;&nbsp;&nbsp;**Type:** BOOLEAN&nbsp;&nbsp;&nbsp;&nbsp;**Cardinality:** 1.1"
            ], 
            "cell_type": "markdown", 
            "metadata": {}
        }, 
        {
            "execution_count": null, 
            "cell_type": "code", 
            "source": [
                "# PROPERTY ID - DO NOT EDIT !  \n", 
                "DOC.set_id('cmip6.land.carbon_cycle.vegetation.autotrophic_respiration.parametrised')  \n", 
                "\n", 
                "# PROPERTY VALUE: \n", 
                "# Set as follows: DOC.set_value(value)  \n", 
                "# Valid Choices: \n", 
                "#     True  \n", 
                "#     False  \n", 
                "# TODO\n", 
                "\n", 
                "# PROPERTY QUALITY CONTROL STATUS:  \n", 
                "# 0=draft, 1=in-review, 2=reviewed  \n", 
                "DOC.set_qc_status(0)"
            ], 
            "outputs": [], 
            "metadata": {
                "collapsed": true
            }
        }, 
        {
            "source": [
                "### 23.2. Maintainance Respiration\n", 
                " *Describe the general method used for maintainence respiration*\n", 
                "\n", 
                "**Is Required:** FALSE&nbsp;&nbsp;&nbsp;&nbsp;**Type:** STRING&nbsp;&nbsp;&nbsp;&nbsp;**Cardinality:** 0.1"
            ], 
            "cell_type": "markdown", 
            "metadata": {}
        }, 
        {
            "execution_count": null, 
            "cell_type": "code", 
            "source": [
                "# PROPERTY ID - DO NOT EDIT !  \n", 
                "DOC.set_id('cmip6.land.carbon_cycle.vegetation.autotrophic_respiration.maintainance_respiration')  \n", 
                "\n", 
                "# PROPERTY VALUE: \n", 
                "# Set as follows: DOC.set_value(\"value\")  \n", 
                "# TODO\n", 
                "\n", 
                "# PROPERTY QUALITY CONTROL STATUS:  \n", 
                "# 0=draft, 1=in-review, 2=reviewed  \n", 
                "DOC.set_qc_status(0)"
            ], 
            "outputs": [], 
            "metadata": {
                "collapsed": true
            }
        }, 
        {
            "source": [
                "### 23.3. Growth Respiration\n", 
                " *Describe the general method used for growth respiration*\n", 
                "\n", 
                "**Is Required:** FALSE&nbsp;&nbsp;&nbsp;&nbsp;**Type:** STRING&nbsp;&nbsp;&nbsp;&nbsp;**Cardinality:** 0.1"
            ], 
            "cell_type": "markdown", 
            "metadata": {}
        }, 
        {
            "execution_count": null, 
            "cell_type": "code", 
            "source": [
                "# PROPERTY ID - DO NOT EDIT !  \n", 
                "DOC.set_id('cmip6.land.carbon_cycle.vegetation.autotrophic_respiration.growth_respiration')  \n", 
                "\n", 
                "# PROPERTY VALUE: \n", 
                "# Set as follows: DOC.set_value(\"value\")  \n", 
                "# TODO\n", 
                "\n", 
                "# PROPERTY QUALITY CONTROL STATUS:  \n", 
                "# 0=draft, 1=in-review, 2=reviewed  \n", 
                "DOC.set_qc_status(0)"
            ], 
            "outputs": [], 
            "metadata": {
                "collapsed": true
            }
        }, 
        {
            "source": [
                "# 24. Carbon Cycle --&gt; Vegetation --&gt; Allocation  \n", 
                "*TODO*"
            ], 
            "cell_type": "markdown", 
            "metadata": {}
        }, 
        {
            "source": [
                "### 24.1. Method\n", 
                " *Describe the general principle behind the allocation scheme*\n", 
                "\n", 
                "**Is Required:** TRUE&nbsp;&nbsp;&nbsp;&nbsp;**Type:** STRING&nbsp;&nbsp;&nbsp;&nbsp;**Cardinality:** 1.1"
            ], 
            "cell_type": "markdown", 
            "metadata": {}
        }, 
        {
            "execution_count": null, 
            "cell_type": "code", 
            "source": [
                "# PROPERTY ID - DO NOT EDIT !  \n", 
                "DOC.set_id('cmip6.land.carbon_cycle.vegetation.allocation.method')  \n", 
                "\n", 
                "# PROPERTY VALUE: \n", 
                "# Set as follows: DOC.set_value(\"value\")  \n", 
                "# TODO\n", 
                "\n", 
                "# PROPERTY QUALITY CONTROL STATUS:  \n", 
                "# 0=draft, 1=in-review, 2=reviewed  \n", 
                "DOC.set_qc_status(0)"
            ], 
            "outputs": [], 
            "metadata": {
                "collapsed": true
            }
        }, 
        {
            "source": [
                "### 24.2. Allocation Bins\n", 
                " *Specify the allocation of vegetation carbon bins*\n", 
                "\n", 
                "**Is Required:** TRUE&nbsp;&nbsp;&nbsp;&nbsp;**Type:** ENUM&nbsp;&nbsp;&nbsp;&nbsp;**Cardinality:** 1.1"
            ], 
            "cell_type": "markdown", 
            "metadata": {}
        }, 
        {
            "execution_count": null, 
            "cell_type": "code", 
            "source": [
                "# PROPERTY ID - DO NOT EDIT !  \n", 
                "DOC.set_id('cmip6.land.carbon_cycle.vegetation.allocation.allocation_bins')  \n", 
                "\n", 
                "# PROPERTY VALUE: \n", 
                "# Set as follows: DOC.set_value(\"value\")  \n", 
                "# Valid Choices: \n", 
                "#      \"leaves + stems + roots\"  \n", 
                "#      \"leaves + stems + roots (leafy + woody)\"  \n", 
                "#      \"leaves + fine roots + coarse roots + stems\"  \n", 
                "#      \"whole plant (no distinction)\"  \n", 
                "#      \"Other: [Please specify]\"  \n", 
                "# TODO\n", 
                "\n", 
                "# PROPERTY QUALITY CONTROL STATUS:  \n", 
                "# 0=draft, 1=in-review, 2=reviewed  \n", 
                "DOC.set_qc_status(0)"
            ], 
            "outputs": [], 
            "metadata": {
                "collapsed": true
            }
        }, 
        {
            "source": [
                "### 24.3. Allocation Fractions\n", 
                " *Describe how the fractions of allocation are calculated*\n", 
                "\n", 
                "**Is Required:** TRUE&nbsp;&nbsp;&nbsp;&nbsp;**Type:** ENUM&nbsp;&nbsp;&nbsp;&nbsp;**Cardinality:** 1.1"
            ], 
            "cell_type": "markdown", 
            "metadata": {}
        }, 
        {
            "execution_count": null, 
            "cell_type": "code", 
            "source": [
                "# PROPERTY ID - DO NOT EDIT !  \n", 
                "DOC.set_id('cmip6.land.carbon_cycle.vegetation.allocation.allocation_fractions')  \n", 
                "\n", 
                "# PROPERTY VALUE: \n", 
                "# Set as follows: DOC.set_value(\"value\")  \n", 
                "# Valid Choices: \n", 
                "#      \"fixed\"  \n", 
                "#      \"function of vegetation type\"  \n", 
                "#      \"function of plant allometry\"  \n", 
                "#      \"explicitly calculated\"  \n", 
                "#      \"Other: [Please specify]\"  \n", 
                "# TODO\n", 
                "\n", 
                "# PROPERTY QUALITY CONTROL STATUS:  \n", 
                "# 0=draft, 1=in-review, 2=reviewed  \n", 
                "DOC.set_qc_status(0)"
            ], 
            "outputs": [], 
            "metadata": {
                "collapsed": true
            }
        }, 
        {
            "source": [
                "# 25. Carbon Cycle --&gt; Vegetation --&gt; Phenology  \n", 
                "*TODO*"
            ], 
            "cell_type": "markdown", 
            "metadata": {}
        }, 
        {
            "source": [
                "### 25.1. Method\n", 
                " *Describe the general principle behind the phenology scheme*\n", 
                "\n", 
                "**Is Required:** TRUE&nbsp;&nbsp;&nbsp;&nbsp;**Type:** STRING&nbsp;&nbsp;&nbsp;&nbsp;**Cardinality:** 1.1"
            ], 
            "cell_type": "markdown", 
            "metadata": {}
        }, 
        {
            "execution_count": null, 
            "cell_type": "code", 
            "source": [
                "# PROPERTY ID - DO NOT EDIT !  \n", 
                "DOC.set_id('cmip6.land.carbon_cycle.vegetation.phenology.method')  \n", 
                "\n", 
                "# PROPERTY VALUE: \n", 
                "# Set as follows: DOC.set_value(\"value\")  \n", 
                "# TODO\n", 
                "\n", 
                "# PROPERTY QUALITY CONTROL STATUS:  \n", 
                "# 0=draft, 1=in-review, 2=reviewed  \n", 
                "DOC.set_qc_status(0)"
            ], 
            "outputs": [], 
            "metadata": {
                "collapsed": true
            }
        }, 
        {
            "source": [
                "# 26. Carbon Cycle --&gt; Vegetation --&gt; Mortality  \n", 
                "*TODO*"
            ], 
            "cell_type": "markdown", 
            "metadata": {}
        }, 
        {
            "source": [
                "### 26.1. Method\n", 
                " *Describe the general principle behind the mortality scheme*\n", 
                "\n", 
                "**Is Required:** TRUE&nbsp;&nbsp;&nbsp;&nbsp;**Type:** STRING&nbsp;&nbsp;&nbsp;&nbsp;**Cardinality:** 1.1"
            ], 
            "cell_type": "markdown", 
            "metadata": {}
        }, 
        {
            "execution_count": null, 
            "cell_type": "code", 
            "source": [
                "# PROPERTY ID - DO NOT EDIT !  \n", 
                "DOC.set_id('cmip6.land.carbon_cycle.vegetation.mortality.method')  \n", 
                "\n", 
                "# PROPERTY VALUE: \n", 
                "# Set as follows: DOC.set_value(\"value\")  \n", 
                "# TODO\n", 
                "\n", 
                "# PROPERTY QUALITY CONTROL STATUS:  \n", 
                "# 0=draft, 1=in-review, 2=reviewed  \n", 
                "DOC.set_qc_status(0)"
            ], 
            "outputs": [], 
            "metadata": {
                "collapsed": true
            }
        }, 
        {
            "source": [
                "# 27. Carbon Cycle --&gt; Litter  \n", 
                "*TODO*"
            ], 
            "cell_type": "markdown", 
            "metadata": {}
        }, 
        {
            "source": [
                "### 27.1. Number Of Carbon Pools\n", 
                " *Enter the number of carbon pools used*\n", 
                "\n", 
                "**Is Required:** TRUE&nbsp;&nbsp;&nbsp;&nbsp;**Type:** INTEGER&nbsp;&nbsp;&nbsp;&nbsp;**Cardinality:** 1.1"
            ], 
            "cell_type": "markdown", 
            "metadata": {}
        }, 
        {
            "execution_count": null, 
            "cell_type": "code", 
            "source": [
                "# PROPERTY ID - DO NOT EDIT !  \n", 
                "DOC.set_id('cmip6.land.carbon_cycle.litter.number_of_carbon_pools')  \n", 
                "\n", 
                "# PROPERTY VALUE: \n", 
                "# Set as follows: DOC.set_value(value)  \n", 
                "# TODO\n", 
                "\n", 
                "# PROPERTY QUALITY CONTROL STATUS:  \n", 
                "# 0=draft, 1=in-review, 2=reviewed  \n", 
                "DOC.set_qc_status(0)"
            ], 
            "outputs": [], 
            "metadata": {
                "collapsed": true
            }
        }, 
        {
            "source": [
                "### 27.2. Carbon Pools\n", 
                " *List the carbon pools used*\n", 
                "\n", 
                "**Is Required:** FALSE&nbsp;&nbsp;&nbsp;&nbsp;**Type:** STRING&nbsp;&nbsp;&nbsp;&nbsp;**Cardinality:** 0.1"
            ], 
            "cell_type": "markdown", 
            "metadata": {}
        }, 
        {
            "execution_count": null, 
            "cell_type": "code", 
            "source": [
                "# PROPERTY ID - DO NOT EDIT !  \n", 
                "DOC.set_id('cmip6.land.carbon_cycle.litter.carbon_pools')  \n", 
                "\n", 
                "# PROPERTY VALUE: \n", 
                "# Set as follows: DOC.set_value(\"value\")  \n", 
                "# TODO\n", 
                "\n", 
                "# PROPERTY QUALITY CONTROL STATUS:  \n", 
                "# 0=draft, 1=in-review, 2=reviewed  \n", 
                "DOC.set_qc_status(0)"
            ], 
            "outputs": [], 
            "metadata": {
                "collapsed": true
            }
        }, 
        {
            "source": [
                "### 27.3. Decomposition\n", 
                " *List the decomposition methods used*\n", 
                "\n", 
                "**Is Required:** FALSE&nbsp;&nbsp;&nbsp;&nbsp;**Type:** STRING&nbsp;&nbsp;&nbsp;&nbsp;**Cardinality:** 0.1"
            ], 
            "cell_type": "markdown", 
            "metadata": {}
        }, 
        {
            "execution_count": null, 
            "cell_type": "code", 
            "source": [
                "# PROPERTY ID - DO NOT EDIT !  \n", 
                "DOC.set_id('cmip6.land.carbon_cycle.litter.decomposition')  \n", 
                "\n", 
                "# PROPERTY VALUE: \n", 
                "# Set as follows: DOC.set_value(\"value\")  \n", 
                "# TODO\n", 
                "\n", 
                "# PROPERTY QUALITY CONTROL STATUS:  \n", 
                "# 0=draft, 1=in-review, 2=reviewed  \n", 
                "DOC.set_qc_status(0)"
            ], 
            "outputs": [], 
            "metadata": {
                "collapsed": true
            }
        }, 
        {
            "source": [
                "### 27.4. Method\n", 
                " *List the general method used*\n", 
                "\n", 
                "**Is Required:** FALSE&nbsp;&nbsp;&nbsp;&nbsp;**Type:** STRING&nbsp;&nbsp;&nbsp;&nbsp;**Cardinality:** 0.1"
            ], 
            "cell_type": "markdown", 
            "metadata": {}
        }, 
        {
            "execution_count": null, 
            "cell_type": "code", 
            "source": [
                "# PROPERTY ID - DO NOT EDIT !  \n", 
                "DOC.set_id('cmip6.land.carbon_cycle.litter.method')  \n", 
                "\n", 
                "# PROPERTY VALUE: \n", 
                "# Set as follows: DOC.set_value(\"value\")  \n", 
                "# TODO\n", 
                "\n", 
                "# PROPERTY QUALITY CONTROL STATUS:  \n", 
                "# 0=draft, 1=in-review, 2=reviewed  \n", 
                "DOC.set_qc_status(0)"
            ], 
            "outputs": [], 
            "metadata": {
                "collapsed": true
            }
        }, 
        {
            "source": [
                "# 28. Carbon Cycle --&gt; Soil  \n", 
                "*TODO*"
            ], 
            "cell_type": "markdown", 
            "metadata": {}
        }, 
        {
            "source": [
                "### 28.1. Number Of Carbon Pools\n", 
                " *Enter the number of carbon pools used*\n", 
                "\n", 
                "**Is Required:** TRUE&nbsp;&nbsp;&nbsp;&nbsp;**Type:** INTEGER&nbsp;&nbsp;&nbsp;&nbsp;**Cardinality:** 1.1"
            ], 
            "cell_type": "markdown", 
            "metadata": {}
        }, 
        {
            "execution_count": null, 
            "cell_type": "code", 
            "source": [
                "# PROPERTY ID - DO NOT EDIT !  \n", 
                "DOC.set_id('cmip6.land.carbon_cycle.soil.number_of_carbon_pools')  \n", 
                "\n", 
                "# PROPERTY VALUE: \n", 
                "# Set as follows: DOC.set_value(value)  \n", 
                "# TODO\n", 
                "\n", 
                "# PROPERTY QUALITY CONTROL STATUS:  \n", 
                "# 0=draft, 1=in-review, 2=reviewed  \n", 
                "DOC.set_qc_status(0)"
            ], 
            "outputs": [], 
            "metadata": {
                "collapsed": true
            }
        }, 
        {
            "source": [
                "### 28.2. Carbon Pools\n", 
                " *List the carbon pools used*\n", 
                "\n", 
                "**Is Required:** FALSE&nbsp;&nbsp;&nbsp;&nbsp;**Type:** STRING&nbsp;&nbsp;&nbsp;&nbsp;**Cardinality:** 0.1"
            ], 
            "cell_type": "markdown", 
            "metadata": {}
        }, 
        {
            "execution_count": null, 
            "cell_type": "code", 
            "source": [
                "# PROPERTY ID - DO NOT EDIT !  \n", 
                "DOC.set_id('cmip6.land.carbon_cycle.soil.carbon_pools')  \n", 
                "\n", 
                "# PROPERTY VALUE: \n", 
                "# Set as follows: DOC.set_value(\"value\")  \n", 
                "# TODO\n", 
                "\n", 
                "# PROPERTY QUALITY CONTROL STATUS:  \n", 
                "# 0=draft, 1=in-review, 2=reviewed  \n", 
                "DOC.set_qc_status(0)"
            ], 
            "outputs": [], 
            "metadata": {
                "collapsed": true
            }
        }, 
        {
            "source": [
                "### 28.3. Decomposition\n", 
                " *List the decomposition methods used*\n", 
                "\n", 
                "**Is Required:** FALSE&nbsp;&nbsp;&nbsp;&nbsp;**Type:** STRING&nbsp;&nbsp;&nbsp;&nbsp;**Cardinality:** 0.1"
            ], 
            "cell_type": "markdown", 
            "metadata": {}
        }, 
        {
            "execution_count": null, 
            "cell_type": "code", 
            "source": [
                "# PROPERTY ID - DO NOT EDIT !  \n", 
                "DOC.set_id('cmip6.land.carbon_cycle.soil.decomposition')  \n", 
                "\n", 
                "# PROPERTY VALUE: \n", 
                "# Set as follows: DOC.set_value(\"value\")  \n", 
                "# TODO\n", 
                "\n", 
                "# PROPERTY QUALITY CONTROL STATUS:  \n", 
                "# 0=draft, 1=in-review, 2=reviewed  \n", 
                "DOC.set_qc_status(0)"
            ], 
            "outputs": [], 
            "metadata": {
                "collapsed": true
            }
        }, 
        {
            "source": [
                "### 28.4. Method\n", 
                " *List the general method used*\n", 
                "\n", 
                "**Is Required:** FALSE&nbsp;&nbsp;&nbsp;&nbsp;**Type:** STRING&nbsp;&nbsp;&nbsp;&nbsp;**Cardinality:** 0.1"
            ], 
            "cell_type": "markdown", 
            "metadata": {}
        }, 
        {
            "execution_count": null, 
            "cell_type": "code", 
            "source": [
                "# PROPERTY ID - DO NOT EDIT !  \n", 
                "DOC.set_id('cmip6.land.carbon_cycle.soil.method')  \n", 
                "\n", 
                "# PROPERTY VALUE: \n", 
                "# Set as follows: DOC.set_value(\"value\")  \n", 
                "# TODO\n", 
                "\n", 
                "# PROPERTY QUALITY CONTROL STATUS:  \n", 
                "# 0=draft, 1=in-review, 2=reviewed  \n", 
                "DOC.set_qc_status(0)"
            ], 
            "outputs": [], 
            "metadata": {
                "collapsed": true
            }
        }, 
        {
            "source": [
                "# 29. Carbon Cycle --&gt; Permafrost Carbon  \n", 
                "*TODO*"
            ], 
            "cell_type": "markdown", 
            "metadata": {}
        }, 
        {
            "source": [
                "### 29.1. Is Permafrost Included\n", 
                " *Is permafrost included?*\n", 
                "\n", 
                "**Is Required:** TRUE&nbsp;&nbsp;&nbsp;&nbsp;**Type:** BOOLEAN&nbsp;&nbsp;&nbsp;&nbsp;**Cardinality:** 1.1"
            ], 
            "cell_type": "markdown", 
            "metadata": {}
        }, 
        {
            "execution_count": null, 
            "cell_type": "code", 
            "source": [
                "# PROPERTY ID - DO NOT EDIT !  \n", 
                "DOC.set_id('cmip6.land.carbon_cycle.permafrost_carbon.is_permafrost_included')  \n", 
                "\n", 
                "# PROPERTY VALUE: \n", 
                "# Set as follows: DOC.set_value(value)  \n", 
                "# Valid Choices: \n", 
                "#     True  \n", 
                "#     False  \n", 
                "# TODO\n", 
                "\n", 
                "# PROPERTY QUALITY CONTROL STATUS:  \n", 
                "# 0=draft, 1=in-review, 2=reviewed  \n", 
                "DOC.set_qc_status(0)"
            ], 
            "outputs": [], 
            "metadata": {
                "collapsed": true
            }
        }, 
        {
            "source": [
                "### 29.2. Emitted Greenhouse Gases\n", 
                " *List the GHGs emitted*\n", 
                "\n", 
                "**Is Required:** FALSE&nbsp;&nbsp;&nbsp;&nbsp;**Type:** STRING&nbsp;&nbsp;&nbsp;&nbsp;**Cardinality:** 0.1"
            ], 
            "cell_type": "markdown", 
            "metadata": {}
        }, 
        {
            "execution_count": null, 
            "cell_type": "code", 
            "source": [
                "# PROPERTY ID - DO NOT EDIT !  \n", 
                "DOC.set_id('cmip6.land.carbon_cycle.permafrost_carbon.Emitted_greenhouse_gases')  \n", 
                "\n", 
                "# PROPERTY VALUE: \n", 
                "# Set as follows: DOC.set_value(\"value\")  \n", 
                "# TODO\n", 
                "\n", 
                "# PROPERTY QUALITY CONTROL STATUS:  \n", 
                "# 0=draft, 1=in-review, 2=reviewed  \n", 
                "DOC.set_qc_status(0)"
            ], 
            "outputs": [], 
            "metadata": {
                "collapsed": true
            }
        }, 
        {
            "source": [
                "### 29.3. Decomposition\n", 
                " *List the decomposition methods used*\n", 
                "\n", 
                "**Is Required:** FALSE&nbsp;&nbsp;&nbsp;&nbsp;**Type:** STRING&nbsp;&nbsp;&nbsp;&nbsp;**Cardinality:** 0.1"
            ], 
            "cell_type": "markdown", 
            "metadata": {}
        }, 
        {
            "execution_count": null, 
            "cell_type": "code", 
            "source": [
                "# PROPERTY ID - DO NOT EDIT !  \n", 
                "DOC.set_id('cmip6.land.carbon_cycle.permafrost_carbon.decomposition')  \n", 
                "\n", 
                "# PROPERTY VALUE: \n", 
                "# Set as follows: DOC.set_value(\"value\")  \n", 
                "# TODO\n", 
                "\n", 
                "# PROPERTY QUALITY CONTROL STATUS:  \n", 
                "# 0=draft, 1=in-review, 2=reviewed  \n", 
                "DOC.set_qc_status(0)"
            ], 
            "outputs": [], 
            "metadata": {
                "collapsed": true
            }
        }, 
        {
            "source": [
                "### 29.4. Impact On Soil Properties\n", 
                " *Describe the impact of permafrost on soil properties*\n", 
                "\n", 
                "**Is Required:** FALSE&nbsp;&nbsp;&nbsp;&nbsp;**Type:** STRING&nbsp;&nbsp;&nbsp;&nbsp;**Cardinality:** 0.1"
            ], 
            "cell_type": "markdown", 
            "metadata": {}
        }, 
        {
            "execution_count": null, 
            "cell_type": "code", 
            "source": [
                "# PROPERTY ID - DO NOT EDIT !  \n", 
                "DOC.set_id('cmip6.land.carbon_cycle.permafrost_carbon.impact_on_soil_properties')  \n", 
                "\n", 
                "# PROPERTY VALUE: \n", 
                "# Set as follows: DOC.set_value(\"value\")  \n", 
                "# TODO\n", 
                "\n", 
                "# PROPERTY QUALITY CONTROL STATUS:  \n", 
                "# 0=draft, 1=in-review, 2=reviewed  \n", 
                "DOC.set_qc_status(0)"
            ], 
            "outputs": [], 
            "metadata": {
                "collapsed": true
            }
        }, 
        {
            "source": [
                "# 30. River Routing  \n", 
                "*Land surface river routing*"
            ], 
            "cell_type": "markdown", 
            "metadata": {}
        }, 
        {
            "source": [
                "### 30.1. Tiling\n", 
                " *Describe the river routing, if any.*\n", 
                "\n", 
                "**Is Required:** FALSE&nbsp;&nbsp;&nbsp;&nbsp;**Type:** STRING&nbsp;&nbsp;&nbsp;&nbsp;**Cardinality:** 0.1"
            ], 
            "cell_type": "markdown", 
            "metadata": {}
        }, 
        {
            "execution_count": null, 
            "cell_type": "code", 
            "source": [
                "# PROPERTY ID - DO NOT EDIT !  \n", 
                "DOC.set_id('cmip6.land.river_routing.tiling')  \n", 
                "\n", 
                "# PROPERTY VALUE: \n", 
                "# Set as follows: DOC.set_value(\"value\")  \n", 
                "# TODO\n", 
                "\n", 
                "# PROPERTY QUALITY CONTROL STATUS:  \n", 
                "# 0=draft, 1=in-review, 2=reviewed  \n", 
                "DOC.set_qc_status(0)"
            ], 
            "outputs": [], 
            "metadata": {
                "collapsed": true
            }
        }, 
        {
            "source": [
                "### 30.2. Grid Inherited From Land Surface\n", 
                " *Is the grid inherited from land surface?*\n", 
                "\n", 
                "**Is Required:** TRUE&nbsp;&nbsp;&nbsp;&nbsp;**Type:** BOOLEAN&nbsp;&nbsp;&nbsp;&nbsp;**Cardinality:** 1.1"
            ], 
            "cell_type": "markdown", 
            "metadata": {}
        }, 
        {
            "execution_count": null, 
            "cell_type": "code", 
            "source": [
                "# PROPERTY ID - DO NOT EDIT !  \n", 
                "DOC.set_id('cmip6.land.river_routing.grid_inherited_from_land_surface')  \n", 
                "\n", 
                "# PROPERTY VALUE: \n", 
                "# Set as follows: DOC.set_value(value)  \n", 
                "# Valid Choices: \n", 
                "#     True  \n", 
                "#     False  \n", 
                "# TODO\n", 
                "\n", 
                "# PROPERTY QUALITY CONTROL STATUS:  \n", 
                "# 0=draft, 1=in-review, 2=reviewed  \n", 
                "DOC.set_qc_status(0)"
            ], 
            "outputs": [], 
            "metadata": {
                "collapsed": true
            }
        }, 
        {
            "source": [
                "### 30.3. Grid Description\n", 
                " *General description of grid, if not inherited from land surface*\n", 
                "\n", 
                "**Is Required:** TRUE&nbsp;&nbsp;&nbsp;&nbsp;**Type:** STRING&nbsp;&nbsp;&nbsp;&nbsp;**Cardinality:** 1.1"
            ], 
            "cell_type": "markdown", 
            "metadata": {}
        }, 
        {
            "execution_count": null, 
            "cell_type": "code", 
            "source": [
                "# PROPERTY ID - DO NOT EDIT !  \n", 
                "DOC.set_id('cmip6.land.river_routing.grid_description')  \n", 
                "\n", 
                "# PROPERTY VALUE: \n", 
                "# Set as follows: DOC.set_value(\"value\")  \n", 
                "# TODO\n", 
                "\n", 
                "# PROPERTY QUALITY CONTROL STATUS:  \n", 
                "# 0=draft, 1=in-review, 2=reviewed  \n", 
                "DOC.set_qc_status(0)"
            ], 
            "outputs": [], 
            "metadata": {
                "collapsed": true
            }
        }, 
        {
            "source": [
                "### 30.4. Number Of Reservoirs\n", 
                " *Enter the number of reservoirs*\n", 
                "\n", 
                "**Is Required:** TRUE&nbsp;&nbsp;&nbsp;&nbsp;**Type:** INTEGER&nbsp;&nbsp;&nbsp;&nbsp;**Cardinality:** 1.1"
            ], 
            "cell_type": "markdown", 
            "metadata": {}
        }, 
        {
            "execution_count": null, 
            "cell_type": "code", 
            "source": [
                "# PROPERTY ID - DO NOT EDIT !  \n", 
                "DOC.set_id('cmip6.land.river_routing.number_of_reservoirs')  \n", 
                "\n", 
                "# PROPERTY VALUE: \n", 
                "# Set as follows: DOC.set_value(value)  \n", 
                "# TODO\n", 
                "\n", 
                "# PROPERTY QUALITY CONTROL STATUS:  \n", 
                "# 0=draft, 1=in-review, 2=reviewed  \n", 
                "DOC.set_qc_status(0)"
            ], 
            "outputs": [], 
            "metadata": {
                "collapsed": true
            }
        }, 
        {
            "source": [
                "### 30.5. Prognostic Variables\n", 
                " *Specify the prognostic variables within the river routing scheme*\n", 
                "\n", 
                "**Is Required:** TRUE&nbsp;&nbsp;&nbsp;&nbsp;**Type:** ENUM&nbsp;&nbsp;&nbsp;&nbsp;**Cardinality:** 1.N"
            ], 
            "cell_type": "markdown", 
            "metadata": {}
        }, 
        {
            "execution_count": null, 
            "cell_type": "code", 
            "source": [
                "# PROPERTY ID - DO NOT EDIT !  \n", 
                "DOC.set_id('cmip6.land.river_routing.prognostic_variables')  \n", 
                "\n", 
                "# PROPERTY VALUE(S): \n", 
                "# Set as follows: DOC.set_value(\"value\")  \n", 
                "# Valid Choices: \n", 
                "#      \"heat\"  \n", 
                "#      \"water\"  \n", 
                "#      \"tracers\"  \n", 
                "#      \"Other: [Please specify]\"  \n", 
                "# TODO\n", 
                "\n", 
                "# PROPERTY QUALITY CONTROL STATUS:  \n", 
                "# 0=draft, 1=in-review, 2=reviewed  \n", 
                "DOC.set_qc_status(0)"
            ], 
            "outputs": [], 
            "metadata": {
                "collapsed": true
            }
        }, 
        {
            "source": [
                "### 30.6. Water Re Evaporation\n", 
                " *TODO*\n", 
                "\n", 
                "**Is Required:** TRUE&nbsp;&nbsp;&nbsp;&nbsp;**Type:** ENUM&nbsp;&nbsp;&nbsp;&nbsp;**Cardinality:** 1.N"
            ], 
            "cell_type": "markdown", 
            "metadata": {}
        }, 
        {
            "execution_count": null, 
            "cell_type": "code", 
            "source": [
                "# PROPERTY ID - DO NOT EDIT !  \n", 
                "DOC.set_id('cmip6.land.river_routing.water_re_evaporation')  \n", 
                "\n", 
                "# PROPERTY VALUE(S): \n", 
                "# Set as follows: DOC.set_value(\"value\")  \n", 
                "# Valid Choices: \n", 
                "#      \"flood plains\"  \n", 
                "#      \"irrigation\"  \n", 
                "#      \"Other: [Please specify]\"  \n", 
                "# TODO\n", 
                "\n", 
                "# PROPERTY QUALITY CONTROL STATUS:  \n", 
                "# 0=draft, 1=in-review, 2=reviewed  \n", 
                "DOC.set_qc_status(0)"
            ], 
            "outputs": [], 
            "metadata": {
                "collapsed": true
            }
        }, 
        {
            "source": [
                "### 30.7. Coupled To Atmosphere\n", 
                " *Is river routing coupled to the atmosphere model component?*\n", 
                "\n", 
                "**Is Required:** FALSE&nbsp;&nbsp;&nbsp;&nbsp;**Type:** BOOLEAN&nbsp;&nbsp;&nbsp;&nbsp;**Cardinality:** 0.1"
            ], 
            "cell_type": "markdown", 
            "metadata": {}
        }, 
        {
            "execution_count": null, 
            "cell_type": "code", 
            "source": [
                "# PROPERTY ID - DO NOT EDIT !  \n", 
                "DOC.set_id('cmip6.land.river_routing.coupled_to_atmosphere')  \n", 
                "\n", 
                "# PROPERTY VALUE: \n", 
                "# Set as follows: DOC.set_value(value)  \n", 
                "# Valid Choices: \n", 
                "#     True  \n", 
                "#     False  \n", 
                "# TODO\n", 
                "\n", 
                "# PROPERTY QUALITY CONTROL STATUS:  \n", 
                "# 0=draft, 1=in-review, 2=reviewed  \n", 
                "DOC.set_qc_status(0)"
            ], 
            "outputs": [], 
            "metadata": {
                "collapsed": true
            }
        }, 
        {
            "source": [
                "### 30.8. Quantities Exchanged With Atmosphere\n", 
                " *If couple to atmosphere, which quantities are exchanged between river routing and the atmosphere model components?*\n", 
                "\n", 
                "**Is Required:** FALSE&nbsp;&nbsp;&nbsp;&nbsp;**Type:** ENUM&nbsp;&nbsp;&nbsp;&nbsp;**Cardinality:** 0.N"
            ], 
            "cell_type": "markdown", 
            "metadata": {}
        }, 
        {
            "execution_count": null, 
            "cell_type": "code", 
            "source": [
                "# PROPERTY ID - DO NOT EDIT !  \n", 
                "DOC.set_id('cmip6.land.river_routing.quantities_exchanged_with_atmosphere')  \n", 
                "\n", 
                "# PROPERTY VALUE(S): \n", 
                "# Set as follows: DOC.set_value(\"value\")  \n", 
                "# Valid Choices: \n", 
                "#      \"heat\"  \n", 
                "#      \"water\"  \n", 
                "#      \"tracers\"  \n", 
                "#      \"Other: [Please specify]\"  \n", 
                "# TODO\n", 
                "\n", 
                "# PROPERTY QUALITY CONTROL STATUS:  \n", 
                "# 0=draft, 1=in-review, 2=reviewed  \n", 
                "DOC.set_qc_status(0)"
            ], 
            "outputs": [], 
            "metadata": {
                "collapsed": true
            }
        }, 
        {
            "source": [
                "### 30.9. Basin Flow Direction Map\n", 
                " *What type of basin flow direction map is being used?*\n", 
                "\n", 
                "**Is Required:** TRUE&nbsp;&nbsp;&nbsp;&nbsp;**Type:** ENUM&nbsp;&nbsp;&nbsp;&nbsp;**Cardinality:** 1.1"
            ], 
            "cell_type": "markdown", 
            "metadata": {}
        }, 
        {
            "execution_count": null, 
            "cell_type": "code", 
            "source": [
                "# PROPERTY ID - DO NOT EDIT !  \n", 
                "DOC.set_id('cmip6.land.river_routing.basin_flow_direction_map')  \n", 
                "\n", 
                "# PROPERTY VALUE: \n", 
                "# Set as follows: DOC.set_value(\"value\")  \n", 
                "# Valid Choices: \n", 
                "#      \"present day\"  \n", 
                "#      \"adapted for other periods\"  \n", 
                "#      \"Other: [Please specify]\"  \n", 
                "# TODO\n", 
                "\n", 
                "# PROPERTY QUALITY CONTROL STATUS:  \n", 
                "# 0=draft, 1=in-review, 2=reviewed  \n", 
                "DOC.set_qc_status(0)"
            ], 
            "outputs": [], 
            "metadata": {
                "collapsed": true
            }
        }, 
        {
            "source": [
                "# 31. River Routing --&gt; Oceanic Discharge  \n", 
                "*TODO*"
            ], 
            "cell_type": "markdown", 
            "metadata": {}
        }, 
        {
            "source": [
                "### 31.1. Discharge Type\n", 
                " *Specify how rivers are discharged to the ocean*\n", 
                "\n", 
                "**Is Required:** TRUE&nbsp;&nbsp;&nbsp;&nbsp;**Type:** ENUM&nbsp;&nbsp;&nbsp;&nbsp;**Cardinality:** 1.1"
            ], 
            "cell_type": "markdown", 
            "metadata": {}
        }, 
        {
            "execution_count": null, 
            "cell_type": "code", 
            "source": [
                "# PROPERTY ID - DO NOT EDIT !  \n", 
                "DOC.set_id('cmip6.land.river_routing.oceanic_discharge.discharge_type')  \n", 
                "\n", 
                "# PROPERTY VALUE: \n", 
                "# Set as follows: DOC.set_value(\"value\")  \n", 
                "# Valid Choices: \n", 
                "#      \"direct (large rivers)\"  \n", 
                "#      \"diffuse\"  \n", 
                "#      \"Other: [Please specify]\"  \n", 
                "# TODO\n", 
                "\n", 
                "# PROPERTY QUALITY CONTROL STATUS:  \n", 
                "# 0=draft, 1=in-review, 2=reviewed  \n", 
                "DOC.set_qc_status(0)"
            ], 
            "outputs": [], 
            "metadata": {
                "collapsed": true
            }
        }, 
        {
            "source": [
                "### 31.2. Quantities Transported\n", 
                " *Quantities that are exchanged from river-routing to the ocean model component*\n", 
                "\n", 
                "**Is Required:** TRUE&nbsp;&nbsp;&nbsp;&nbsp;**Type:** ENUM&nbsp;&nbsp;&nbsp;&nbsp;**Cardinality:** 1.N"
            ], 
            "cell_type": "markdown", 
            "metadata": {}
        }, 
        {
            "execution_count": null, 
            "cell_type": "code", 
            "source": [
                "# PROPERTY ID - DO NOT EDIT !  \n", 
                "DOC.set_id('cmip6.land.river_routing.oceanic_discharge.quantities_transported')  \n", 
                "\n", 
                "# PROPERTY VALUE(S): \n", 
                "# Set as follows: DOC.set_value(\"value\")  \n", 
                "# Valid Choices: \n", 
                "#      \"heat\"  \n", 
                "#      \"water\"  \n", 
                "#      \"tracers\"  \n", 
                "#      \"Other: [Please specify]\"  \n", 
                "# TODO\n", 
                "\n", 
                "# PROPERTY QUALITY CONTROL STATUS:  \n", 
                "# 0=draft, 1=in-review, 2=reviewed  \n", 
                "DOC.set_qc_status(0)"
            ], 
            "outputs": [], 
            "metadata": {
                "collapsed": true
            }
        }, 
        {
            "source": [
                "# 32. Lakes  \n", 
                "*Land surface lakes*"
            ], 
            "cell_type": "markdown", 
            "metadata": {}
        }, 
        {
            "source": [
                "### 32.1. Coupling With Rivers\n", 
                " *Are lakes coupled to the river routing model component?*\n", 
                "\n", 
                "**Is Required:** TRUE&nbsp;&nbsp;&nbsp;&nbsp;**Type:** BOOLEAN&nbsp;&nbsp;&nbsp;&nbsp;**Cardinality:** 1.1"
            ], 
            "cell_type": "markdown", 
            "metadata": {}
        }, 
        {
            "execution_count": null, 
            "cell_type": "code", 
            "source": [
                "# PROPERTY ID - DO NOT EDIT !  \n", 
                "DOC.set_id('cmip6.land.lakes.coupling_with_rivers')  \n", 
                "\n", 
                "# PROPERTY VALUE: \n", 
                "# Set as follows: DOC.set_value(value)  \n", 
                "# Valid Choices: \n", 
                "#     True  \n", 
                "#     False  \n", 
                "# TODO\n", 
                "\n", 
                "# PROPERTY QUALITY CONTROL STATUS:  \n", 
                "# 0=draft, 1=in-review, 2=reviewed  \n", 
                "DOC.set_qc_status(0)"
            ], 
            "outputs": [], 
            "metadata": {
                "collapsed": true
            }
        }, 
        {
            "source": [
                "### 32.2. Quantities Exchanged With Rivers\n", 
                " *If coupling with rivers, which quantities are exchanged between the lakes and rivers*\n", 
                "\n", 
                "**Is Required:** FALSE&nbsp;&nbsp;&nbsp;&nbsp;**Type:** ENUM&nbsp;&nbsp;&nbsp;&nbsp;**Cardinality:** 0.N"
            ], 
            "cell_type": "markdown", 
            "metadata": {}
        }, 
        {
            "execution_count": null, 
            "cell_type": "code", 
            "source": [
                "# PROPERTY ID - DO NOT EDIT !  \n", 
                "DOC.set_id('cmip6.land.lakes.quantities_exchanged_with_rivers')  \n", 
                "\n", 
                "# PROPERTY VALUE(S): \n", 
                "# Set as follows: DOC.set_value(\"value\")  \n", 
                "# Valid Choices: \n", 
                "#      \"heat\"  \n", 
                "#      \"water\"  \n", 
                "#      \"tracers\"  \n", 
                "#      \"Other: [Please specify]\"  \n", 
                "# TODO\n", 
                "\n", 
                "# PROPERTY QUALITY CONTROL STATUS:  \n", 
                "# 0=draft, 1=in-review, 2=reviewed  \n", 
                "DOC.set_qc_status(0)"
            ], 
            "outputs": [], 
            "metadata": {
                "collapsed": true
            }
        }, 
        {
            "source": [
                "# 33. Lakes --&gt; Method  \n", 
                "*TODO*"
            ], 
            "cell_type": "markdown", 
            "metadata": {}
        }, 
        {
            "source": [
                "### 33.1. Ice Treatment\n", 
                " *Is lake ice included?*\n", 
                "\n", 
                "**Is Required:** TRUE&nbsp;&nbsp;&nbsp;&nbsp;**Type:** BOOLEAN&nbsp;&nbsp;&nbsp;&nbsp;**Cardinality:** 1.1"
            ], 
            "cell_type": "markdown", 
            "metadata": {}
        }, 
        {
            "execution_count": null, 
            "cell_type": "code", 
            "source": [
                "# PROPERTY ID - DO NOT EDIT !  \n", 
                "DOC.set_id('cmip6.land.lakes.method.ice_treatment')  \n", 
                "\n", 
                "# PROPERTY VALUE: \n", 
                "# Set as follows: DOC.set_value(value)  \n", 
                "# Valid Choices: \n", 
                "#     True  \n", 
                "#     False  \n", 
                "# TODO\n", 
                "\n", 
                "# PROPERTY QUALITY CONTROL STATUS:  \n", 
                "# 0=draft, 1=in-review, 2=reviewed  \n", 
                "DOC.set_qc_status(0)"
            ], 
            "outputs": [], 
            "metadata": {
                "collapsed": true
            }
        }, 
        {
            "source": [
                "### 33.2. Albedo\n", 
                " *Describe the treatment of lake albedo*\n", 
                "\n", 
                "**Is Required:** TRUE&nbsp;&nbsp;&nbsp;&nbsp;**Type:** ENUM&nbsp;&nbsp;&nbsp;&nbsp;**Cardinality:** 1.1"
            ], 
            "cell_type": "markdown", 
            "metadata": {}
        }, 
        {
            "execution_count": null, 
            "cell_type": "code", 
            "source": [
                "# PROPERTY ID - DO NOT EDIT !  \n", 
                "DOC.set_id('cmip6.land.lakes.method.albedo')  \n", 
                "\n", 
                "# PROPERTY VALUE: \n", 
                "# Set as follows: DOC.set_value(\"value\")  \n", 
                "# Valid Choices: \n", 
                "#      \"prognostic\"  \n", 
                "#      \"diagnostic\"  \n", 
                "#      \"Other: [Please specify]\"  \n", 
                "# TODO\n", 
                "\n", 
                "# PROPERTY QUALITY CONTROL STATUS:  \n", 
                "# 0=draft, 1=in-review, 2=reviewed  \n", 
                "DOC.set_qc_status(0)"
            ], 
            "outputs": [], 
            "metadata": {
                "collapsed": true
            }
        }, 
        {
            "source": [
                "### 33.3. Dynamics\n", 
                " *Which dynamics of lakes are treated? horizontal, vertical, etc.*\n", 
                "\n", 
                "**Is Required:** TRUE&nbsp;&nbsp;&nbsp;&nbsp;**Type:** ENUM&nbsp;&nbsp;&nbsp;&nbsp;**Cardinality:** 1.N"
            ], 
            "cell_type": "markdown", 
            "metadata": {}
        }, 
        {
            "execution_count": null, 
            "cell_type": "code", 
            "source": [
                "# PROPERTY ID - DO NOT EDIT !  \n", 
                "DOC.set_id('cmip6.land.lakes.method.dynamics')  \n", 
                "\n", 
                "# PROPERTY VALUE(S): \n", 
                "# Set as follows: DOC.set_value(\"value\")  \n", 
                "# Valid Choices: \n", 
                "#      \"No lake dynamics\"  \n", 
                "#      \"vertical\"  \n", 
                "#      \"horizontal\"  \n", 
                "#      \"Other: [Please specify]\"  \n", 
                "# TODO\n", 
                "\n", 
                "# PROPERTY QUALITY CONTROL STATUS:  \n", 
                "# 0=draft, 1=in-review, 2=reviewed  \n", 
                "DOC.set_qc_status(0)"
            ], 
            "outputs": [], 
            "metadata": {
                "collapsed": true
            }
        }, 
        {
            "source": [
                "### 33.4. Dynamic Lake Extent\n", 
                " *Is a dynamic lake extent scheme included?*\n", 
                "\n", 
                "**Is Required:** TRUE&nbsp;&nbsp;&nbsp;&nbsp;**Type:** BOOLEAN&nbsp;&nbsp;&nbsp;&nbsp;**Cardinality:** 1.1"
            ], 
            "cell_type": "markdown", 
            "metadata": {}
        }, 
        {
            "execution_count": null, 
            "cell_type": "code", 
            "source": [
                "# PROPERTY ID - DO NOT EDIT !  \n", 
                "DOC.set_id('cmip6.land.lakes.method.dynamic_lake_extent')  \n", 
                "\n", 
                "# PROPERTY VALUE: \n", 
                "# Set as follows: DOC.set_value(value)  \n", 
                "# Valid Choices: \n", 
                "#     True  \n", 
                "#     False  \n", 
                "# TODO\n", 
                "\n", 
                "# PROPERTY QUALITY CONTROL STATUS:  \n", 
                "# 0=draft, 1=in-review, 2=reviewed  \n", 
                "DOC.set_qc_status(0)"
            ], 
            "outputs": [], 
            "metadata": {
                "collapsed": true
            }
        }, 
        {
            "source": [
                "### 33.5. Endorheic Basins\n", 
                " *Basins not flowing to ocean included?*\n", 
                "\n", 
                "**Is Required:** TRUE&nbsp;&nbsp;&nbsp;&nbsp;**Type:** BOOLEAN&nbsp;&nbsp;&nbsp;&nbsp;**Cardinality:** 1.1"
            ], 
            "cell_type": "markdown", 
            "metadata": {}
        }, 
        {
            "execution_count": null, 
            "cell_type": "code", 
            "source": [
                "# PROPERTY ID - DO NOT EDIT !  \n", 
                "DOC.set_id('cmip6.land.lakes.method.endorheic_basins')  \n", 
                "\n", 
                "# PROPERTY VALUE: \n", 
                "# Set as follows: DOC.set_value(value)  \n", 
                "# Valid Choices: \n", 
                "#     True  \n", 
                "#     False  \n", 
                "# TODO\n", 
                "\n", 
                "# PROPERTY QUALITY CONTROL STATUS:  \n", 
                "# 0=draft, 1=in-review, 2=reviewed  \n", 
                "DOC.set_qc_status(0)"
            ], 
            "outputs": [], 
            "metadata": {
                "collapsed": true
            }
        }, 
        {
            "source": [
                "# Finalization"
            ], 
            "cell_type": "markdown", 
            "metadata": {}
        }, 
        {
            "source": [
                "### Document Persistence"
            ], 
            "cell_type": "markdown", 
            "metadata": {}
        }, 
        {
            "execution_count": null, 
            "cell_type": "code", 
            "source": [
                "# DO NOT EDIT !\n", 
                "DOC.write()"
            ], 
            "outputs": [], 
            "metadata": {}
        }
    ], 
    "metadata": {
        "kernelspec": {
            "display_name": "Python 2", 
            "name": "python2", 
            "language": "python"
        }, 
        "language_info": {
            "mimetype": "text/x-python", 
            "nbconvert_exporter": "python", 
            "name": "python", 
            "file_extension": ".py", 
            "version": "2.7.10", 
            "pygments_lexer": "ipython2", 
            "codemirror_mode": {
                "version": 2, 
                "name": "ipython"
            }
        }
    }
}