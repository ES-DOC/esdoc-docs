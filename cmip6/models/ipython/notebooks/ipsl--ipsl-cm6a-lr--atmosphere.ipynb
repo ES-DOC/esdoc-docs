{
    "nbformat_minor": 0, 
    "nbformat": 4, 
    "cells": [
        {
            "source": [
                "# ES-DOC CMIP6 Model Realm Properties \n", 
                "**MIP Era**: CMIP6  \n", 
                "**Institute**: IPSL  \n", 
                "**Model**: IPSL-CM6A-LR  \n", 
                "**Realm**: Atmosphere  \n", 
                "**Realm Processes**: Dynamical Core, Radiation, Turbulence Convection, Microphysics Precipitation, Cloud Scheme, Cloud Simulator, Gravity Waves, Solar, Volcanos.   \n", 
                "**Properties**: 91 (3 required, 88 optional)  \n", 
                "\n", 
                "**Notebook Help**: [Goto notebook help page](http://wordpress.es-doc.org/how-to-document-cmip6-models)  \n", 
                "**Notebook Initialised**: 2017-01-05 00:51:18"
            ], 
            "cell_type": "markdown", 
            "metadata": {}
        }, 
        {
            "source": [
                "### Document Setup  \n"
            ], 
            "cell_type": "markdown", 
            "metadata": {}
        }, 
        {
            "execution_count": null, 
            "cell_type": "code", 
            "source": [
                "# DO NOT EDIT !  \n", 
                "from pyesdoc.model_realm_notebook import NotebookData  \n", 
                "\n", 
                "# DO NOT EDIT !  \n", 
                "DOC = NotebookData('cmip6', 'ipsl', 'ipsl-cm6a-lr', 'atmosphere')"
            ], 
            "outputs": [], 
            "metadata": {}
        }, 
        {
            "source": [
                "### Document Authors  \n", 
                "*Set document authors*"
            ], 
            "cell_type": "markdown", 
            "metadata": {}
        }, 
        {
            "execution_count": null, 
            "cell_type": "code", 
            "source": [
                "# Set as follows: DOC.set_author('name', 'value')  \n", 
                "# TODO"
            ], 
            "outputs": [], 
            "metadata": {}
        }, 
        {
            "source": [
                "### Document Contributors  \n", 
                "*Specify document contributors*  "
            ], 
            "cell_type": "markdown", 
            "metadata": {}
        }, 
        {
            "execution_count": null, 
            "cell_type": "code", 
            "source": [
                "# Set as follows: DOC.set_contributor('name', 'value')  \n", 
                "# TODO"
            ], 
            "outputs": [], 
            "metadata": {}
        }, 
        {
            "source": [
                "### Document Property Sets  \n", 
                "\n", 
                "[1. Key Properties](#1.-Key-Properties)  \n", 
                "[2. Key Properties --&gt; Orography](#2.-Key-Properties---&gt;-Orography)  \n", 
                "\n", 
                "[3. Grid --&gt; Discretisation --&gt; Horizontal](#3.-Grid---&gt;-Discretisation---&gt;-Horizontal)  \n", 
                "\n", 
                "[4. Dynamical Core](#4.-Dynamical-Core)  \n", 
                "[5. Dynamical Core --&gt; Top Boundary](#5.-Dynamical-Core---&gt;-Top-Boundary)  \n", 
                "[6. Dynamical Core --&gt; Lateral Boundary](#6.-Dynamical-Core---&gt;-Lateral-Boundary)  \n", 
                "[7. Dynamical Core --&gt; Diffusion Horizontal](#7.-Dynamical-Core---&gt;-Diffusion-Horizontal)  \n", 
                "[8. Dynamical Core --&gt; Advection Tracers](#8.-Dynamical-Core---&gt;-Advection-Tracers)  \n", 
                "[9. Dynamical Core --&gt; Advection Momentum](#9.-Dynamical-Core---&gt;-Advection-Momentum)  \n", 
                "\n", 
                "[10. Radiation](#10.-Radiation)  \n", 
                "[11. Radiation --&gt; Longwave Radiation](#11.-Radiation---&gt;-Longwave-Radiation)  \n", 
                "[12. Radiation --&gt; Shortwave Radiation](#12.-Radiation---&gt;-Shortwave-Radiation)  \n", 
                "[13. Radiation --&gt; Single Scattering Properties](#13.-Radiation---&gt;-Single-Scattering-Properties)  \n", 
                "\n", 
                "[14. Turbulence Convection --&gt; Boundary Layer Turbulence](#14.-Turbulence-Convection---&gt;-Boundary-Layer-Turbulence)  \n", 
                "[15. Turbulence Convection --&gt; Deep Convection](#15.-Turbulence-Convection---&gt;-Deep-Convection)  \n", 
                "[16. Turbulence Convection --&gt; Shallow Convection](#16.-Turbulence-Convection---&gt;-Shallow-Convection)  \n", 
                "\n", 
                "[17. Microphysics Precipitation --&gt; Large Scale Precipitation](#17.-Microphysics-Precipitation---&gt;-Large-Scale-Precipitation)  \n", 
                "[18. Microphysics Precipitation --&gt; Cloud Microphysics](#18.-Microphysics-Precipitation---&gt;-Cloud-Microphysics)  \n", 
                "\n", 
                "[19. Cloud Scheme](#19.-Cloud-Scheme)  \n", 
                "[20. Cloud Scheme --&gt; Sub Grid Scale Water Distribution](#20.-Cloud-Scheme---&gt;-Sub-Grid-Scale-Water-Distribution)  \n", 
                "\n", 
                "[21. Cloud Simulator --&gt; Isscp Attributes](#21.-Cloud-Simulator---&gt;-Isscp-Attributes)  \n", 
                "[22. Cloud Simulator --&gt; Cosp Attributes](#22.-Cloud-Simulator---&gt;-Cosp-Attributes)  \n", 
                "[23. Cloud Simulator --&gt; Radar Inputs](#23.-Cloud-Simulator---&gt;-Radar-Inputs)  \n", 
                "[24. Cloud Simulator --&gt; Lidar Inputs](#24.-Cloud-Simulator---&gt;-Lidar-Inputs)  \n", 
                "\n", 
                "[25. Gravity Waves](#25.-Gravity-Waves)  \n", 
                "[26. Gravity Waves --&gt; Orographic Gravity Waves](#26.-Gravity-Waves---&gt;-Orographic-Gravity-Waves)  \n", 
                "[27. Gravity Waves --&gt; Non Orographic Gravity Waves](#27.-Gravity-Waves---&gt;-Non-Orographic-Gravity-Waves)  \n", 
                "\n", 
                "[28. Solar --&gt; Solar Pathways](#28.-Solar---&gt;-Solar-Pathways)  \n", 
                "[29. Solar --&gt; Solar Constant](#29.-Solar---&gt;-Solar-Constant)  \n", 
                "[30. Solar --&gt; Orbital Parameters](#30.-Solar---&gt;-Orbital-Parameters)  \n", 
                "[31. Solar --&gt; Insolation Ozone](#31.-Solar---&gt;-Insolation-Ozone)  \n", 
                "\n", 
                "[32. Volcanos --&gt; Volcanoes Treatment](#32.-Volcanos---&gt;-Volcanoes-Treatment)  \n", 
                "\n"
            ], 
            "cell_type": "markdown", 
            "metadata": {}
        }, 
        {
            "source": [
                "# 1. Key Properties  \n", 
                "*Atmosphere key properties*"
            ], 
            "cell_type": "markdown", 
            "metadata": {}
        }, 
        {
            "source": [
                "### 1.1. Model Family\n", 
                " *Type of atmospheric model.*"
            ], 
            "cell_type": "markdown", 
            "metadata": {}
        }, 
        {
            "execution_count": null, 
            "cell_type": "code", 
            "source": [
                "# PROPERTY INFO: \n", 
                "# Is Required: False \n", 
                "# Type: ENUM \n", 
                "# Cardinality: 1.1 \n", 
                "\n", 
                "# PROPERTY ID - DO NOT EDIT !  \n", 
                "DOC.set_id('cmip6.atmosphere.key_properties.model_family')  \n", 
                "\n", 
                "# PROPERTY QUALITY CONTROL:  \n", 
                "# 0=draft, 1=in-review, 2=reviewed  \n", 
                "DOC.set_qc_status(0)  \n", 
                "\n", 
                "# PROPERTY VALUE: \n", 
                "# Set as follows: DOC.set_value(value)  \n", 
                "# Choices: \n", 
                "#      'AGCM'  \n", 
                "#      'ARCM'  \n", 
                "#      'Other: [Please specify]'  \n", 
                "# TODO"
            ], 
            "outputs": [], 
            "metadata": {
                "collapsed": true
            }
        }, 
        {
            "source": [
                "### 1.2. Basic Approximations\n", 
                " *Basic approximations made in the atmosphere.*"
            ], 
            "cell_type": "markdown", 
            "metadata": {}
        }, 
        {
            "execution_count": null, 
            "cell_type": "code", 
            "source": [
                "# PROPERTY INFO: \n", 
                "# Is Required: False \n", 
                "# Type: ENUM \n", 
                "# Cardinality: 1.N \n", 
                "\n", 
                "# PROPERTY ID - DO NOT EDIT !  \n", 
                "DOC.set_id('cmip6.atmosphere.key_properties.basic_approximations')  \n", 
                "\n", 
                "# PROPERTY QUALITY CONTROL:  \n", 
                "# 0=draft, 1=in-review, 2=reviewed  \n", 
                "DOC.set_qc_status(0)  \n", 
                "\n", 
                "# PROPERTY VALUE(S): \n", 
                "# Set as follows: DOC.set_value(value)  \n", 
                "# Choices: \n", 
                "#      'primitive equations'  \n", 
                "#      'non-hydrostatic'  \n", 
                "#      'anelastic'  \n", 
                "#      'Boussinesq'  \n", 
                "#      'hydrostatic'  \n", 
                "#      'quasi-hydrostatic'  \n", 
                "#      'Other: [Please specify]'  \n", 
                "# TODO"
            ], 
            "outputs": [], 
            "metadata": {
                "collapsed": true
            }
        }, 
        {
            "source": [
                "# 2. Key Properties --&gt; Orography  \n", 
                "*Characteristics of the model orography*"
            ], 
            "cell_type": "markdown", 
            "metadata": {}
        }, 
        {
            "source": [
                "### 2.1. Type\n", 
                " *Time adaptation of the orography.*"
            ], 
            "cell_type": "markdown", 
            "metadata": {}
        }, 
        {
            "execution_count": null, 
            "cell_type": "code", 
            "source": [
                "# PROPERTY INFO: \n", 
                "# Is Required: False \n", 
                "# Type: ENUM \n", 
                "# Cardinality: 1.1 \n", 
                "\n", 
                "# PROPERTY ID - DO NOT EDIT !  \n", 
                "DOC.set_id('cmip6.atmosphere.key_properties.orography.type')  \n", 
                "\n", 
                "# PROPERTY QUALITY CONTROL:  \n", 
                "# 0=draft, 1=in-review, 2=reviewed  \n", 
                "DOC.set_qc_status(0)  \n", 
                "\n", 
                "# PROPERTY VALUE: \n", 
                "# Set as follows: DOC.set_value(value)  \n", 
                "# Choices: \n", 
                "#      'present-day'  \n", 
                "#      'modified'  \n", 
                "# TODO"
            ], 
            "outputs": [], 
            "metadata": {
                "collapsed": true
            }
        }, 
        {
            "source": [
                "### 2.2. Changes\n", 
                " *If the orography type is modified describe the time adaptation changes.*"
            ], 
            "cell_type": "markdown", 
            "metadata": {}
        }, 
        {
            "execution_count": null, 
            "cell_type": "code", 
            "source": [
                "# PROPERTY INFO: \n", 
                "# Is Required: False \n", 
                "# Type: ENUM \n", 
                "# Cardinality: 1.N \n", 
                "\n", 
                "# PROPERTY ID - DO NOT EDIT !  \n", 
                "DOC.set_id('cmip6.atmosphere.key_properties.orography.changes')  \n", 
                "\n", 
                "# PROPERTY QUALITY CONTROL:  \n", 
                "# 0=draft, 1=in-review, 2=reviewed  \n", 
                "DOC.set_qc_status(0)  \n", 
                "\n", 
                "# PROPERTY VALUE(S): \n", 
                "# Set as follows: DOC.set_value(value)  \n", 
                "# Choices: \n", 
                "#      'related to ice sheets'  \n", 
                "#      'related to tectonics'  \n", 
                "#      'modified mean'  \n", 
                "#      'modified variance if taken into account in model (cf gravity waves)'  \n", 
                "# TODO"
            ], 
            "outputs": [], 
            "metadata": {
                "collapsed": true
            }
        }, 
        {
            "source": [
                "# 3. Grid --&gt; Discretisation --&gt; Horizontal  \n", 
                "*Atmosphere discretisation in the horizontal*"
            ], 
            "cell_type": "markdown", 
            "metadata": {}
        }, 
        {
            "source": [
                "### 3.1. Scheme Type\n", 
                " *Horizontal discretisation type*"
            ], 
            "cell_type": "markdown", 
            "metadata": {}
        }, 
        {
            "execution_count": null, 
            "cell_type": "code", 
            "source": [
                "# PROPERTY INFO: \n", 
                "# Is Required: False \n", 
                "# Type: ENUM \n", 
                "# Cardinality: 1.1 \n", 
                "\n", 
                "# PROPERTY ID - DO NOT EDIT !  \n", 
                "DOC.set_id('cmip6.atmosphere.grid.discretisation.horizontal.scheme_type')  \n", 
                "\n", 
                "# PROPERTY QUALITY CONTROL:  \n", 
                "# 0=draft, 1=in-review, 2=reviewed  \n", 
                "DOC.set_qc_status(0)  \n", 
                "\n", 
                "# PROPERTY VALUE: \n", 
                "# Set as follows: DOC.set_value(value)  \n", 
                "# Choices: \n", 
                "#      'spectral'  \n", 
                "#      'fixed grid'  \n", 
                "#      'Other: [Please specify]'  \n", 
                "# TODO"
            ], 
            "outputs": [], 
            "metadata": {
                "collapsed": true
            }
        }, 
        {
            "source": [
                "### 3.2. Scheme Method\n", 
                " *Horizontal discretisation method*"
            ], 
            "cell_type": "markdown", 
            "metadata": {}
        }, 
        {
            "execution_count": null, 
            "cell_type": "code", 
            "source": [
                "# PROPERTY INFO: \n", 
                "# Is Required: False \n", 
                "# Type: ENUM \n", 
                "# Cardinality: 1.1 \n", 
                "\n", 
                "# PROPERTY ID - DO NOT EDIT !  \n", 
                "DOC.set_id('cmip6.atmosphere.grid.discretisation.horizontal.scheme_method')  \n", 
                "\n", 
                "# PROPERTY QUALITY CONTROL:  \n", 
                "# 0=draft, 1=in-review, 2=reviewed  \n", 
                "DOC.set_qc_status(0)  \n", 
                "\n", 
                "# PROPERTY VALUE: \n", 
                "# Set as follows: DOC.set_value(value)  \n", 
                "# Choices: \n", 
                "#      'finite elements'  \n", 
                "#      'finite volumes'  \n", 
                "#      'finite difference'  \n", 
                "#      'centered finite difference'  \n", 
                "# TODO"
            ], 
            "outputs": [], 
            "metadata": {
                "collapsed": true
            }
        }, 
        {
            "source": [
                "### 3.3. Scheme Order\n", 
                " *Horizontal discretisation function order*"
            ], 
            "cell_type": "markdown", 
            "metadata": {}
        }, 
        {
            "execution_count": null, 
            "cell_type": "code", 
            "source": [
                "# PROPERTY INFO: \n", 
                "# Is Required: False \n", 
                "# Type: INTEGER \n", 
                "# Cardinality: 1.1 \n", 
                "\n", 
                "# PROPERTY ID - DO NOT EDIT !  \n", 
                "DOC.set_id('cmip6.atmosphere.grid.discretisation.horizontal.scheme_order')  \n", 
                "\n", 
                "# PROPERTY QUALITY CONTROL:  \n", 
                "# 0=draft, 1=in-review, 2=reviewed  \n", 
                "DOC.set_qc_status(0)  \n", 
                "\n", 
                "# PROPERTY VALUE: \n", 
                "# Set as follows: DOC.set_value(value)  \n", 
                "# TODO"
            ], 
            "outputs": [], 
            "metadata": {
                "collapsed": true
            }
        }, 
        {
            "source": [
                "### 3.4. Horizontal Pole\n", 
                " *Horizontal discretisation pole singularity treatment*"
            ], 
            "cell_type": "markdown", 
            "metadata": {}
        }, 
        {
            "execution_count": null, 
            "cell_type": "code", 
            "source": [
                "# PROPERTY INFO: \n", 
                "# Is Required: False \n", 
                "# Type: ENUM \n", 
                "# Cardinality: 1.1 \n", 
                "\n", 
                "# PROPERTY ID - DO NOT EDIT !  \n", 
                "DOC.set_id('cmip6.atmosphere.grid.discretisation.horizontal.horizontal_pole')  \n", 
                "\n", 
                "# PROPERTY QUALITY CONTROL:  \n", 
                "# 0=draft, 1=in-review, 2=reviewed  \n", 
                "DOC.set_qc_status(0)  \n", 
                "\n", 
                "# PROPERTY VALUE: \n", 
                "# Set as follows: DOC.set_value(value)  \n", 
                "# Choices: \n", 
                "#      'filter'  \n", 
                "#      'pole rotation'  \n", 
                "#      'artificial island'  \n", 
                "#      'Other: [Please specify]'  \n", 
                "# TODO"
            ], 
            "outputs": [], 
            "metadata": {
                "collapsed": true
            }
        }, 
        {
            "source": [
                "# 4. Dynamical Core  \n", 
                "*Characteristics of the dynamical core*"
            ], 
            "cell_type": "markdown", 
            "metadata": {}
        }, 
        {
            "source": [
                "### 4.1. Timestepping Type\n", 
                " *Timestepping framework type*"
            ], 
            "cell_type": "markdown", 
            "metadata": {}
        }, 
        {
            "execution_count": null, 
            "cell_type": "code", 
            "source": [
                "# PROPERTY INFO: \n", 
                "# Is Required: False \n", 
                "# Type: ENUM \n", 
                "# Cardinality: 1.1 \n", 
                "\n", 
                "# PROPERTY ID - DO NOT EDIT !  \n", 
                "DOC.set_id('cmip6.atmosphere.dynamical_core.timestepping_type')  \n", 
                "\n", 
                "# PROPERTY QUALITY CONTROL:  \n", 
                "# 0=draft, 1=in-review, 2=reviewed  \n", 
                "DOC.set_qc_status(0)  \n", 
                "\n", 
                "# PROPERTY VALUE: \n", 
                "# Set as follows: DOC.set_value(value)  \n", 
                "# Choices: \n", 
                "#      'Adams-Bashforth'  \n", 
                "#      'explicit'  \n", 
                "#      'implicit'  \n", 
                "#      'semi-implicit'  \n", 
                "#      'leap frog'  \n", 
                "#      'multi-step'  \n", 
                "#      'Runge Kutta fifth order'  \n", 
                "#      'Runge Kutta second order'  \n", 
                "#      'Runge Kutta third order'  \n", 
                "#      'Other: [Please specify]'  \n", 
                "# TODO"
            ], 
            "outputs": [], 
            "metadata": {
                "collapsed": true
            }
        }, 
        {
            "source": [
                "### 4.2. Prognostic Variables\n", 
                " *List of the model prognostic variables*"
            ], 
            "cell_type": "markdown", 
            "metadata": {}
        }, 
        {
            "execution_count": null, 
            "cell_type": "code", 
            "source": [
                "# PROPERTY INFO: \n", 
                "# Is Required: False \n", 
                "# Type: ENUM \n", 
                "# Cardinality: 1.N \n", 
                "\n", 
                "# PROPERTY ID - DO NOT EDIT !  \n", 
                "DOC.set_id('cmip6.atmosphere.dynamical_core.prognostic_variables')  \n", 
                "\n", 
                "# PROPERTY QUALITY CONTROL:  \n", 
                "# 0=draft, 1=in-review, 2=reviewed  \n", 
                "DOC.set_qc_status(0)  \n", 
                "\n", 
                "# PROPERTY VALUE(S): \n", 
                "# Set as follows: DOC.set_value(value)  \n", 
                "# Choices: \n", 
                "#      'surface pressure'  \n", 
                "#      'wind components'  \n", 
                "#      'divergence/curl'  \n", 
                "#      'temperature'  \n", 
                "#      'potential temperature'  \n", 
                "#      'total water'  \n", 
                "#      'water vapour'  \n", 
                "#      'water liquid'  \n", 
                "#      'water ice'  \n", 
                "#      'total water moments'  \n", 
                "#      'clouds'  \n", 
                "#      'radiation'  \n", 
                "#      'Other: [Please specify]'  \n", 
                "# TODO"
            ], 
            "outputs": [], 
            "metadata": {
                "collapsed": true
            }
        }, 
        {
            "source": [
                "# 5. Dynamical Core --&gt; Top Boundary  \n", 
                "*Type of boundary layer at the top of the model*"
            ], 
            "cell_type": "markdown", 
            "metadata": {}
        }, 
        {
            "source": [
                "### 5.1. Top Boundary Condition\n", 
                " *Top boundary condition*"
            ], 
            "cell_type": "markdown", 
            "metadata": {}
        }, 
        {
            "execution_count": null, 
            "cell_type": "code", 
            "source": [
                "# PROPERTY INFO: \n", 
                "# Is Required: False \n", 
                "# Type: ENUM \n", 
                "# Cardinality: 1.1 \n", 
                "\n", 
                "# PROPERTY ID - DO NOT EDIT !  \n", 
                "DOC.set_id('cmip6.atmosphere.dynamical_core.top_boundary.top_boundary_condition')  \n", 
                "\n", 
                "# PROPERTY QUALITY CONTROL:  \n", 
                "# 0=draft, 1=in-review, 2=reviewed  \n", 
                "DOC.set_qc_status(0)  \n", 
                "\n", 
                "# PROPERTY VALUE: \n", 
                "# Set as follows: DOC.set_value(value)  \n", 
                "# Choices: \n", 
                "#      'sponge layer'  \n", 
                "#      'radiation boundary condition'  \n", 
                "#      'Other: [Please specify]'  \n", 
                "# TODO"
            ], 
            "outputs": [], 
            "metadata": {
                "collapsed": true
            }
        }, 
        {
            "source": [
                "### 5.2. Top Heat\n", 
                " *Top boundary heat treatment*"
            ], 
            "cell_type": "markdown", 
            "metadata": {}
        }, 
        {
            "execution_count": null, 
            "cell_type": "code", 
            "source": [
                "# PROPERTY INFO: \n", 
                "# Is Required: False \n", 
                "# Type: STRING \n", 
                "# Cardinality: 1.1 \n", 
                "\n", 
                "# PROPERTY ID - DO NOT EDIT !  \n", 
                "DOC.set_id('cmip6.atmosphere.dynamical_core.top_boundary.top_heat')  \n", 
                "\n", 
                "# PROPERTY QUALITY CONTROL:  \n", 
                "# 0=draft, 1=in-review, 2=reviewed  \n", 
                "DOC.set_qc_status(0)  \n", 
                "\n", 
                "# PROPERTY VALUE: \n", 
                "# Set as follows: DOC.set_value(value)  \n", 
                "# TODO"
            ], 
            "outputs": [], 
            "metadata": {
                "collapsed": true
            }
        }, 
        {
            "source": [
                "### 5.3. Top Wind\n", 
                " *Top boundary wind treatment*"
            ], 
            "cell_type": "markdown", 
            "metadata": {}
        }, 
        {
            "execution_count": null, 
            "cell_type": "code", 
            "source": [
                "# PROPERTY INFO: \n", 
                "# Is Required: False \n", 
                "# Type: STRING \n", 
                "# Cardinality: 1.1 \n", 
                "\n", 
                "# PROPERTY ID - DO NOT EDIT !  \n", 
                "DOC.set_id('cmip6.atmosphere.dynamical_core.top_boundary.top_wind')  \n", 
                "\n", 
                "# PROPERTY QUALITY CONTROL:  \n", 
                "# 0=draft, 1=in-review, 2=reviewed  \n", 
                "DOC.set_qc_status(0)  \n", 
                "\n", 
                "# PROPERTY VALUE: \n", 
                "# Set as follows: DOC.set_value(value)  \n", 
                "# TODO"
            ], 
            "outputs": [], 
            "metadata": {
                "collapsed": true
            }
        }, 
        {
            "source": [
                "# 6. Dynamical Core --&gt; Lateral Boundary  \n", 
                "*Type of lateral boundary condition (if the model is a regional model)*"
            ], 
            "cell_type": "markdown", 
            "metadata": {}
        }, 
        {
            "source": [
                "### 6.1. Condition\n", 
                " *Type of lateral boundary condition*"
            ], 
            "cell_type": "markdown", 
            "metadata": {}
        }, 
        {
            "execution_count": null, 
            "cell_type": "code", 
            "source": [
                "# PROPERTY INFO: \n", 
                "# Is Required: True \n", 
                "# Type: ENUM \n", 
                "# Cardinality: 0.1 \n", 
                "\n", 
                "# PROPERTY ID - DO NOT EDIT !  \n", 
                "DOC.set_id('cmip6.atmosphere.dynamical_core.lateral_boundary.condition')  \n", 
                "\n", 
                "# PROPERTY QUALITY CONTROL:  \n", 
                "# 0=draft, 1=in-review, 2=reviewed  \n", 
                "DOC.set_qc_status(0)  \n", 
                "\n", 
                "# PROPERTY VALUE: \n", 
                "# Set as follows: DOC.set_value(value)  \n", 
                "# Choices: \n", 
                "#      'sponge layer'  \n", 
                "#      'radiation boundary condition'  \n", 
                "#      'Other: [Please specify]'  \n", 
                "# TODO"
            ], 
            "outputs": [], 
            "metadata": {
                "collapsed": true
            }
        }, 
        {
            "source": [
                "# 7. Dynamical Core --&gt; Diffusion Horizontal  \n", 
                "*Horizontal diffusion scheme*"
            ], 
            "cell_type": "markdown", 
            "metadata": {}
        }, 
        {
            "source": [
                "### 7.1. Scheme Name\n", 
                " *Horizontal diffusion scheme name*"
            ], 
            "cell_type": "markdown", 
            "metadata": {}
        }, 
        {
            "execution_count": null, 
            "cell_type": "code", 
            "source": [
                "# PROPERTY INFO: \n", 
                "# Is Required: False \n", 
                "# Type: STRING \n", 
                "# Cardinality: 1.1 \n", 
                "\n", 
                "# PROPERTY ID - DO NOT EDIT !  \n", 
                "DOC.set_id('cmip6.atmosphere.dynamical_core.diffusion_horizontal.scheme_name')  \n", 
                "\n", 
                "# PROPERTY QUALITY CONTROL:  \n", 
                "# 0=draft, 1=in-review, 2=reviewed  \n", 
                "DOC.set_qc_status(0)  \n", 
                "\n", 
                "# PROPERTY VALUE: \n", 
                "# Set as follows: DOC.set_value(value)  \n", 
                "# TODO"
            ], 
            "outputs": [], 
            "metadata": {
                "collapsed": true
            }
        }, 
        {
            "source": [
                "### 7.2. Scheme Method\n", 
                " *Horizontal diffusion scheme method*"
            ], 
            "cell_type": "markdown", 
            "metadata": {}
        }, 
        {
            "execution_count": null, 
            "cell_type": "code", 
            "source": [
                "# PROPERTY INFO: \n", 
                "# Is Required: False \n", 
                "# Type: ENUM \n", 
                "# Cardinality: 1.1 \n", 
                "\n", 
                "# PROPERTY ID - DO NOT EDIT !  \n", 
                "DOC.set_id('cmip6.atmosphere.dynamical_core.diffusion_horizontal.scheme_method')  \n", 
                "\n", 
                "# PROPERTY QUALITY CONTROL:  \n", 
                "# 0=draft, 1=in-review, 2=reviewed  \n", 
                "DOC.set_qc_status(0)  \n", 
                "\n", 
                "# PROPERTY VALUE: \n", 
                "# Set as follows: DOC.set_value(value)  \n", 
                "# Choices: \n", 
                "#      'iterated Laplacian'  \n", 
                "#      'bi-harmonic'  \n", 
                "#      'Other: [Please specify]'  \n", 
                "# TODO"
            ], 
            "outputs": [], 
            "metadata": {
                "collapsed": true
            }
        }, 
        {
            "source": [
                "# 8. Dynamical Core --&gt; Advection Tracers  \n", 
                "*Tracer advection scheme*"
            ], 
            "cell_type": "markdown", 
            "metadata": {}
        }, 
        {
            "source": [
                "### 8.1. Scheme Name\n", 
                " *Tracer advection scheme name*"
            ], 
            "cell_type": "markdown", 
            "metadata": {}
        }, 
        {
            "execution_count": null, 
            "cell_type": "code", 
            "source": [
                "# PROPERTY INFO: \n", 
                "# Is Required: False \n", 
                "# Type: ENUM \n", 
                "# Cardinality: 1.1 \n", 
                "\n", 
                "# PROPERTY ID - DO NOT EDIT !  \n", 
                "DOC.set_id('cmip6.atmosphere.dynamical_core.advection_tracers.scheme_name')  \n", 
                "\n", 
                "# PROPERTY QUALITY CONTROL:  \n", 
                "# 0=draft, 1=in-review, 2=reviewed  \n", 
                "DOC.set_qc_status(0)  \n", 
                "\n", 
                "# PROPERTY VALUE: \n", 
                "# Set as follows: DOC.set_value(value)  \n", 
                "# Choices: \n", 
                "#      'Heun'  \n", 
                "#      'Roe and VanLeer'  \n", 
                "#      'Roe and Superbee'  \n", 
                "#      'Prather'  \n", 
                "#      'UTOPIA'  \n", 
                "#      'Other: [Please specify]'  \n", 
                "# TODO"
            ], 
            "outputs": [], 
            "metadata": {
                "collapsed": true
            }
        }, 
        {
            "source": [
                "### 8.2. Scheme Characteristics\n", 
                " *Tracer advection scheme characteristics*"
            ], 
            "cell_type": "markdown", 
            "metadata": {}
        }, 
        {
            "execution_count": null, 
            "cell_type": "code", 
            "source": [
                "# PROPERTY INFO: \n", 
                "# Is Required: False \n", 
                "# Type: ENUM \n", 
                "# Cardinality: 1.N \n", 
                "\n", 
                "# PROPERTY ID - DO NOT EDIT !  \n", 
                "DOC.set_id('cmip6.atmosphere.dynamical_core.advection_tracers.scheme_characteristics')  \n", 
                "\n", 
                "# PROPERTY QUALITY CONTROL:  \n", 
                "# 0=draft, 1=in-review, 2=reviewed  \n", 
                "DOC.set_qc_status(0)  \n", 
                "\n", 
                "# PROPERTY VALUE(S): \n", 
                "# Set as follows: DOC.set_value(value)  \n", 
                "# Choices: \n", 
                "#      'Eulerian'  \n", 
                "#      'modified Euler'  \n", 
                "#      'Lagrangian'  \n", 
                "#      'semi-Lagrangian'  \n", 
                "#      'cubic semi-Lagrangian'  \n", 
                "#      'quintic semi-Lagrangian'  \n", 
                "#      'mass-conserving'  \n", 
                "#      'finite volume'  \n", 
                "#      'flux-corrected'  \n", 
                "#      'linear'  \n", 
                "#      'quadratic'  \n", 
                "#      'quartic'  \n", 
                "#      'Other: [Please specify]'  \n", 
                "# TODO"
            ], 
            "outputs": [], 
            "metadata": {
                "collapsed": true
            }
        }, 
        {
            "source": [
                "### 8.3. Conserved Quantities\n", 
                " *Tracer advection scheme conserved quantities*"
            ], 
            "cell_type": "markdown", 
            "metadata": {}
        }, 
        {
            "execution_count": null, 
            "cell_type": "code", 
            "source": [
                "# PROPERTY INFO: \n", 
                "# Is Required: False \n", 
                "# Type: ENUM \n", 
                "# Cardinality: 1.N \n", 
                "\n", 
                "# PROPERTY ID - DO NOT EDIT !  \n", 
                "DOC.set_id('cmip6.atmosphere.dynamical_core.advection_tracers.conserved_quantities')  \n", 
                "\n", 
                "# PROPERTY QUALITY CONTROL:  \n", 
                "# 0=draft, 1=in-review, 2=reviewed  \n", 
                "DOC.set_qc_status(0)  \n", 
                "\n", 
                "# PROPERTY VALUE(S): \n", 
                "# Set as follows: DOC.set_value(value)  \n", 
                "# Choices: \n", 
                "#      'dry mass'  \n", 
                "#      'Other: [Please specify]'  \n", 
                "# TODO"
            ], 
            "outputs": [], 
            "metadata": {
                "collapsed": true
            }
        }, 
        {
            "source": [
                "### 8.4. Conservation Method\n", 
                " *Tracer advection scheme conservation method*"
            ], 
            "cell_type": "markdown", 
            "metadata": {}
        }, 
        {
            "execution_count": null, 
            "cell_type": "code", 
            "source": [
                "# PROPERTY INFO: \n", 
                "# Is Required: False \n", 
                "# Type: ENUM \n", 
                "# Cardinality: 1.1 \n", 
                "\n", 
                "# PROPERTY ID - DO NOT EDIT !  \n", 
                "DOC.set_id('cmip6.atmosphere.dynamical_core.advection_tracers.conservation_method')  \n", 
                "\n", 
                "# PROPERTY QUALITY CONTROL:  \n", 
                "# 0=draft, 1=in-review, 2=reviewed  \n", 
                "DOC.set_qc_status(0)  \n", 
                "\n", 
                "# PROPERTY VALUE: \n", 
                "# Set as follows: DOC.set_value(value)  \n", 
                "# Choices: \n", 
                "#      'conservation fixer'  \n", 
                "#      'Priestley algorithm'  \n", 
                "#      'Other: [Please specify]'  \n", 
                "# TODO"
            ], 
            "outputs": [], 
            "metadata": {
                "collapsed": true
            }
        }, 
        {
            "source": [
                "# 9. Dynamical Core --&gt; Advection Momentum  \n", 
                "*Momentum advection scheme*"
            ], 
            "cell_type": "markdown", 
            "metadata": {}
        }, 
        {
            "source": [
                "### 9.1. Scheme Name\n", 
                " *Momentum advection schemes name*"
            ], 
            "cell_type": "markdown", 
            "metadata": {}
        }, 
        {
            "execution_count": null, 
            "cell_type": "code", 
            "source": [
                "# PROPERTY INFO: \n", 
                "# Is Required: False \n", 
                "# Type: ENUM \n", 
                "# Cardinality: 1.1 \n", 
                "\n", 
                "# PROPERTY ID - DO NOT EDIT !  \n", 
                "DOC.set_id('cmip6.atmosphere.dynamical_core.advection_momentum.scheme_name')  \n", 
                "\n", 
                "# PROPERTY QUALITY CONTROL:  \n", 
                "# 0=draft, 1=in-review, 2=reviewed  \n", 
                "DOC.set_qc_status(0)  \n", 
                "\n", 
                "# PROPERTY VALUE: \n", 
                "# Set as follows: DOC.set_value(value)  \n", 
                "# Choices: \n", 
                "#      'VanLeer'  \n", 
                "#      'Janjic'  \n", 
                "#      'SUPG (Streamline Upwind Petrov-Galerkin)'  \n", 
                "#      'Other: [Please specify]'  \n", 
                "# TODO"
            ], 
            "outputs": [], 
            "metadata": {
                "collapsed": true
            }
        }, 
        {
            "source": [
                "### 9.2. Scheme Characteristics\n", 
                " *Momentum advection scheme characteristics*"
            ], 
            "cell_type": "markdown", 
            "metadata": {}
        }, 
        {
            "execution_count": null, 
            "cell_type": "code", 
            "source": [
                "# PROPERTY INFO: \n", 
                "# Is Required: False \n", 
                "# Type: ENUM \n", 
                "# Cardinality: 1.N \n", 
                "\n", 
                "# PROPERTY ID - DO NOT EDIT !  \n", 
                "DOC.set_id('cmip6.atmosphere.dynamical_core.advection_momentum.scheme_characteristics')  \n", 
                "\n", 
                "# PROPERTY QUALITY CONTROL:  \n", 
                "# 0=draft, 1=in-review, 2=reviewed  \n", 
                "DOC.set_qc_status(0)  \n", 
                "\n", 
                "# PROPERTY VALUE(S): \n", 
                "# Set as follows: DOC.set_value(value)  \n", 
                "# Choices: \n", 
                "#      '2nd order'  \n", 
                "#      '4th order'  \n", 
                "#      'cell-centred'  \n", 
                "#      'staggered grid'  \n", 
                "#      'semi-staggered grid'  \n", 
                "#      'Other: [Please specify]'  \n", 
                "# TODO"
            ], 
            "outputs": [], 
            "metadata": {
                "collapsed": true
            }
        }, 
        {
            "source": [
                "### 9.3. Scheme Staggering Type\n", 
                " *Momentum advection scheme staggering type*"
            ], 
            "cell_type": "markdown", 
            "metadata": {}
        }, 
        {
            "execution_count": null, 
            "cell_type": "code", 
            "source": [
                "# PROPERTY INFO: \n", 
                "# Is Required: False \n", 
                "# Type: ENUM \n", 
                "# Cardinality: 1.1 \n", 
                "\n", 
                "# PROPERTY ID - DO NOT EDIT !  \n", 
                "DOC.set_id('cmip6.atmosphere.dynamical_core.advection_momentum.scheme_staggering_type')  \n", 
                "\n", 
                "# PROPERTY QUALITY CONTROL:  \n", 
                "# 0=draft, 1=in-review, 2=reviewed  \n", 
                "DOC.set_qc_status(0)  \n", 
                "\n", 
                "# PROPERTY VALUE: \n", 
                "# Set as follows: DOC.set_value(value)  \n", 
                "# Choices: \n", 
                "#      'Arakawa B-grid'  \n", 
                "#      'Arakawa C-grid'  \n", 
                "#      'Arakawa D-grid'  \n", 
                "#      'Arakawa E-grid'  \n", 
                "#      'Other: [Please specify]'  \n", 
                "# TODO"
            ], 
            "outputs": [], 
            "metadata": {
                "collapsed": true
            }
        }, 
        {
            "source": [
                "### 9.4. Conserved Quantities\n", 
                " *Momentum advection scheme conserved quantities*"
            ], 
            "cell_type": "markdown", 
            "metadata": {}
        }, 
        {
            "execution_count": null, 
            "cell_type": "code", 
            "source": [
                "# PROPERTY INFO: \n", 
                "# Is Required: False \n", 
                "# Type: ENUM \n", 
                "# Cardinality: 1.N \n", 
                "\n", 
                "# PROPERTY ID - DO NOT EDIT !  \n", 
                "DOC.set_id('cmip6.atmosphere.dynamical_core.advection_momentum.conserved_quantities')  \n", 
                "\n", 
                "# PROPERTY QUALITY CONTROL:  \n", 
                "# 0=draft, 1=in-review, 2=reviewed  \n", 
                "DOC.set_qc_status(0)  \n", 
                "\n", 
                "# PROPERTY VALUE(S): \n", 
                "# Set as follows: DOC.set_value(value)  \n", 
                "# Choices: \n", 
                "#      'Angular momentum'  \n", 
                "#      'Horizontal momentum'  \n", 
                "#      'Enstrophy'  \n", 
                "#      'Mass'  \n", 
                "#      'Total energy'  \n", 
                "#      'Vorticity'  \n", 
                "#      'Other: [Please specify]'  \n", 
                "# TODO"
            ], 
            "outputs": [], 
            "metadata": {
                "collapsed": true
            }
        }, 
        {
            "source": [
                "### 9.5. Conservation Method\n", 
                " *Momentum advection scheme conservation method*"
            ], 
            "cell_type": "markdown", 
            "metadata": {}
        }, 
        {
            "execution_count": null, 
            "cell_type": "code", 
            "source": [
                "# PROPERTY INFO: \n", 
                "# Is Required: False \n", 
                "# Type: ENUM \n", 
                "# Cardinality: 1.1 \n", 
                "\n", 
                "# PROPERTY ID - DO NOT EDIT !  \n", 
                "DOC.set_id('cmip6.atmosphere.dynamical_core.advection_momentum.conservation_method')  \n", 
                "\n", 
                "# PROPERTY QUALITY CONTROL:  \n", 
                "# 0=draft, 1=in-review, 2=reviewed  \n", 
                "DOC.set_qc_status(0)  \n", 
                "\n", 
                "# PROPERTY VALUE: \n", 
                "# Set as follows: DOC.set_value(value)  \n", 
                "# Choices: \n", 
                "#      'conservation fixer'  \n", 
                "#      'Other: [Please specify]'  \n", 
                "# TODO"
            ], 
            "outputs": [], 
            "metadata": {
                "collapsed": true
            }
        }, 
        {
            "source": [
                "# 10. Radiation  \n", 
                "*Characteristics of the atmosphere radiation process*"
            ], 
            "cell_type": "markdown", 
            "metadata": {}
        }, 
        {
            "source": [
                "### 10.1. Aerosols\n", 
                " *Aerosols whose radiative effect is taken into account in the atmosphere model*"
            ], 
            "cell_type": "markdown", 
            "metadata": {}
        }, 
        {
            "execution_count": null, 
            "cell_type": "code", 
            "source": [
                "# PROPERTY INFO: \n", 
                "# Is Required: False \n", 
                "# Type: ENUM \n", 
                "# Cardinality: 1.N \n", 
                "\n", 
                "# PROPERTY ID - DO NOT EDIT !  \n", 
                "DOC.set_id('cmip6.atmosphere.radiation.aerosols')  \n", 
                "\n", 
                "# PROPERTY QUALITY CONTROL:  \n", 
                "# 0=draft, 1=in-review, 2=reviewed  \n", 
                "DOC.set_qc_status(0)  \n", 
                "\n", 
                "# PROPERTY VALUE(S): \n", 
                "# Set as follows: DOC.set_value(value)  \n", 
                "# Choices: \n", 
                "#      'sulphate'  \n", 
                "#      'nitrate'  \n", 
                "#      'sea salt'  \n", 
                "#      'dust'  \n", 
                "#      'ice'  \n", 
                "#      'organic'  \n", 
                "#      'BC (black carbon / soot)'  \n", 
                "#      'SOA (secondary organic aerosols)'  \n", 
                "#      'POM (particulate organic matter)'  \n", 
                "#      'polar stratospheric ice'  \n", 
                "#      'NAT (nitric acid trihydrate)'  \n", 
                "#      'NAD (nitric acid dihydrate)'  \n", 
                "#      'STS (supercooled ternary solution aerosol particle)'  \n", 
                "#      'Other: [Please specify]'  \n", 
                "# TODO"
            ], 
            "outputs": [], 
            "metadata": {
                "collapsed": true
            }
        }, 
        {
            "source": [
                "### 10.2. Greenhouse Gases\n", 
                " *Greenhouse gases whose radiative effect is taken into account in the atmosphere model*"
            ], 
            "cell_type": "markdown", 
            "metadata": {}
        }, 
        {
            "execution_count": null, 
            "cell_type": "code", 
            "source": [
                "# PROPERTY INFO: \n", 
                "# Is Required: False \n", 
                "# Type: ENUM \n", 
                "# Cardinality: 1.N \n", 
                "\n", 
                "# PROPERTY ID - DO NOT EDIT !  \n", 
                "DOC.set_id('cmip6.atmosphere.radiation.greenhouse_gases')  \n", 
                "\n", 
                "# PROPERTY QUALITY CONTROL:  \n", 
                "# 0=draft, 1=in-review, 2=reviewed  \n", 
                "DOC.set_qc_status(0)  \n", 
                "\n", 
                "# PROPERTY VALUE(S): \n", 
                "# Set as follows: DOC.set_value(value)  \n", 
                "# Choices: \n", 
                "#      'H2O'  \n", 
                "#      'CO2'  \n", 
                "#      'CH4'  \n", 
                "#      'N2O'  \n", 
                "#      'O3'  \n", 
                "#      'CFCs'  \n", 
                "#      'HFCs'  \n", 
                "#      'PFCs'  \n", 
                "#      'SF6'  \n", 
                "#      'NF3'  \n", 
                "#      'Other: [Please specify]'  \n", 
                "# TODO"
            ], 
            "outputs": [], 
            "metadata": {
                "collapsed": true
            }
        }, 
        {
            "source": [
                "### 10.3. Cloud Ice\n", 
                " *Radiative properties of ice crystals in clouds*"
            ], 
            "cell_type": "markdown", 
            "metadata": {}
        }, 
        {
            "execution_count": null, 
            "cell_type": "code", 
            "source": [
                "# PROPERTY INFO: \n", 
                "# Is Required: False \n", 
                "# Type: ENUM \n", 
                "# Cardinality: 1.N \n", 
                "\n", 
                "# PROPERTY ID - DO NOT EDIT !  \n", 
                "DOC.set_id('cmip6.atmosphere.radiation.cloud_ice')  \n", 
                "\n", 
                "# PROPERTY QUALITY CONTROL:  \n", 
                "# 0=draft, 1=in-review, 2=reviewed  \n", 
                "DOC.set_qc_status(0)  \n", 
                "\n", 
                "# PROPERTY VALUE(S): \n", 
                "# Set as follows: DOC.set_value(value)  \n", 
                "# Choices: \n", 
                "#      'treated as spherical particles'  \n", 
                "#      'effective crystal radius'  \n", 
                "#      'treated as non-spherical particles'  \n", 
                "#      'mean projected area'  \n", 
                "#      'bi-modal size distribution'  \n", 
                "#      'ensemble of ice crystals'  \n", 
                "#      'ice water path'  \n", 
                "#      'crystal asymmetry'  \n", 
                "#      'crystal aspect ratio'  \n", 
                "#      'emissivity'  \n", 
                "#      'absorption'  \n", 
                "#      'backward scattering'  \n", 
                "#      'side scattering'  \n", 
                "#      'Other: [Please specify]'  \n", 
                "# TODO"
            ], 
            "outputs": [], 
            "metadata": {
                "collapsed": true
            }
        }, 
        {
            "source": [
                "### 10.4. Cloud Liquid\n", 
                " *Radiative properties of liquid droplets in clouds*"
            ], 
            "cell_type": "markdown", 
            "metadata": {}
        }, 
        {
            "execution_count": null, 
            "cell_type": "code", 
            "source": [
                "# PROPERTY INFO: \n", 
                "# Is Required: False \n", 
                "# Type: ENUM \n", 
                "# Cardinality: 1.N \n", 
                "\n", 
                "# PROPERTY ID - DO NOT EDIT !  \n", 
                "DOC.set_id('cmip6.atmosphere.radiation.cloud_liquid')  \n", 
                "\n", 
                "# PROPERTY QUALITY CONTROL:  \n", 
                "# 0=draft, 1=in-review, 2=reviewed  \n", 
                "DOC.set_qc_status(0)  \n", 
                "\n", 
                "# PROPERTY VALUE(S): \n", 
                "# Set as follows: DOC.set_value(value)  \n", 
                "# Choices: \n", 
                "#      'droplet scattering'  \n", 
                "#      'droplet absorption'  \n", 
                "#      'cloud droplet number concentration'  \n", 
                "#      'effective cloud droplet radii'  \n", 
                "#      'droplet size distribution'  \n", 
                "#      'liquid water path'  \n", 
                "#      'broadband reflectivity'  \n", 
                "#      'broadband transmissivity'  \n", 
                "#      'broadband absorbtivity'  \n", 
                "#      'Other: [Please specify]'  \n", 
                "# TODO"
            ], 
            "outputs": [], 
            "metadata": {
                "collapsed": true
            }
        }, 
        {
            "source": [
                "# 11. Radiation --&gt; Longwave Radiation  \n", 
                "*Properties of the longwave radiation scheme*"
            ], 
            "cell_type": "markdown", 
            "metadata": {}
        }, 
        {
            "source": [
                "### 11.1. Scheme Type\n", 
                " *Longwave radiation scheme type*"
            ], 
            "cell_type": "markdown", 
            "metadata": {}
        }, 
        {
            "execution_count": null, 
            "cell_type": "code", 
            "source": [
                "# PROPERTY INFO: \n", 
                "# Is Required: False \n", 
                "# Type: ENUM \n", 
                "# Cardinality: 1.1 \n", 
                "\n", 
                "# PROPERTY ID - DO NOT EDIT !  \n", 
                "DOC.set_id('cmip6.atmosphere.radiation.longwave_radiation.scheme_type')  \n", 
                "\n", 
                "# PROPERTY QUALITY CONTROL:  \n", 
                "# 0=draft, 1=in-review, 2=reviewed  \n", 
                "DOC.set_qc_status(0)  \n", 
                "\n", 
                "# PROPERTY VALUE: \n", 
                "# Set as follows: DOC.set_value(value)  \n", 
                "# Choices: \n", 
                "#      'wide-band model'  \n", 
                "#      'wide-band model (Morcrette)'  \n", 
                "#      'K-correlated'  \n", 
                "#      'K-correlated (RRTM)'  \n", 
                "#      'Other: [Please specify]'  \n", 
                "# TODO"
            ], 
            "outputs": [], 
            "metadata": {
                "collapsed": true
            }
        }, 
        {
            "source": [
                "### 11.2. Scheme Method\n", 
                " *Longwave radiation scheme method*"
            ], 
            "cell_type": "markdown", 
            "metadata": {}
        }, 
        {
            "execution_count": null, 
            "cell_type": "code", 
            "source": [
                "# PROPERTY INFO: \n", 
                "# Is Required: False \n", 
                "# Type: ENUM \n", 
                "# Cardinality: 1.1 \n", 
                "\n", 
                "# PROPERTY ID - DO NOT EDIT !  \n", 
                "DOC.set_id('cmip6.atmosphere.radiation.longwave_radiation.scheme_method')  \n", 
                "\n", 
                "# PROPERTY QUALITY CONTROL:  \n", 
                "# 0=draft, 1=in-review, 2=reviewed  \n", 
                "DOC.set_qc_status(0)  \n", 
                "\n", 
                "# PROPERTY VALUE: \n", 
                "# Set as follows: DOC.set_value(value)  \n", 
                "# Choices: \n", 
                "#      'two-stream'  \n", 
                "#      'layer interaction'  \n", 
                "#      'adaptive'  \n", 
                "#      'Other: [Please specify]'  \n", 
                "# TODO"
            ], 
            "outputs": [], 
            "metadata": {
                "collapsed": true
            }
        }, 
        {
            "source": [
                "### 11.3. Spectral Intervals\n", 
                " *Longwave radiation scheme spectral intervals*"
            ], 
            "cell_type": "markdown", 
            "metadata": {}
        }, 
        {
            "execution_count": null, 
            "cell_type": "code", 
            "source": [
                "# PROPERTY INFO: \n", 
                "# Is Required: False \n", 
                "# Type: INTEGER \n", 
                "# Cardinality: 1.1 \n", 
                "\n", 
                "# PROPERTY ID - DO NOT EDIT !  \n", 
                "DOC.set_id('cmip6.atmosphere.radiation.longwave_radiation.spectral_intervals')  \n", 
                "\n", 
                "# PROPERTY QUALITY CONTROL:  \n", 
                "# 0=draft, 1=in-review, 2=reviewed  \n", 
                "DOC.set_qc_status(0)  \n", 
                "\n", 
                "# PROPERTY VALUE: \n", 
                "# Set as follows: DOC.set_value(value)  \n", 
                "# TODO"
            ], 
            "outputs": [], 
            "metadata": {
                "collapsed": true
            }
        }, 
        {
            "source": [
                "# 12. Radiation --&gt; Shortwave Radiation  \n", 
                "*Properties of the shortwave radiation scheme*"
            ], 
            "cell_type": "markdown", 
            "metadata": {}
        }, 
        {
            "source": [
                "### 12.1. Scheme Type\n", 
                " *Shortwave radiation scheme type*"
            ], 
            "cell_type": "markdown", 
            "metadata": {}
        }, 
        {
            "execution_count": null, 
            "cell_type": "code", 
            "source": [
                "# PROPERTY INFO: \n", 
                "# Is Required: False \n", 
                "# Type: ENUM \n", 
                "# Cardinality: 1.1 \n", 
                "\n", 
                "# PROPERTY ID - DO NOT EDIT !  \n", 
                "DOC.set_id('cmip6.atmosphere.radiation.shortwave_radiation.scheme_type')  \n", 
                "\n", 
                "# PROPERTY QUALITY CONTROL:  \n", 
                "# 0=draft, 1=in-review, 2=reviewed  \n", 
                "DOC.set_qc_status(0)  \n", 
                "\n", 
                "# PROPERTY VALUE: \n", 
                "# Set as follows: DOC.set_value(value)  \n", 
                "# Choices: \n", 
                "#      'wide-band model'  \n", 
                "#      'wide-band model (Fouquart)'  \n", 
                "#      'bulk-scheme'  \n", 
                "#      'two-stream'  \n", 
                "#      'two-stream (delta-Eddington)'  \n", 
                "#      'Other: [Please specify]'  \n", 
                "# TODO"
            ], 
            "outputs": [], 
            "metadata": {
                "collapsed": true
            }
        }, 
        {
            "source": [
                "### 12.2. Spectral Intervals\n", 
                " *Shortwave radiation scheme spectral intervals*"
            ], 
            "cell_type": "markdown", 
            "metadata": {}
        }, 
        {
            "execution_count": null, 
            "cell_type": "code", 
            "source": [
                "# PROPERTY INFO: \n", 
                "# Is Required: False \n", 
                "# Type: INTEGER \n", 
                "# Cardinality: 1.1 \n", 
                "\n", 
                "# PROPERTY ID - DO NOT EDIT !  \n", 
                "DOC.set_id('cmip6.atmosphere.radiation.shortwave_radiation.spectral_intervals')  \n", 
                "\n", 
                "# PROPERTY QUALITY CONTROL:  \n", 
                "# 0=draft, 1=in-review, 2=reviewed  \n", 
                "DOC.set_qc_status(0)  \n", 
                "\n", 
                "# PROPERTY VALUE: \n", 
                "# Set as follows: DOC.set_value(value)  \n", 
                "# TODO"
            ], 
            "outputs": [], 
            "metadata": {
                "collapsed": true
            }
        }, 
        {
            "source": [
                "# 13. Radiation --&gt; Single Scattering Properties  \n", 
                "*Single scattering properties of ice clouds*"
            ], 
            "cell_type": "markdown", 
            "metadata": {}
        }, 
        {
            "source": [
                "### 13.1. Single Scattering\n", 
                " *Methods for calculating single scattering properties of ice crystals*"
            ], 
            "cell_type": "markdown", 
            "metadata": {}
        }, 
        {
            "execution_count": null, 
            "cell_type": "code", 
            "source": [
                "# PROPERTY INFO: \n", 
                "# Is Required: True \n", 
                "# Type: ENUM \n", 
                "# Cardinality: 0.N \n", 
                "\n", 
                "# PROPERTY ID - DO NOT EDIT !  \n", 
                "DOC.set_id('cmip6.atmosphere.radiation.single_scattering_properties.single_scattering')  \n", 
                "\n", 
                "# PROPERTY QUALITY CONTROL:  \n", 
                "# 0=draft, 1=in-review, 2=reviewed  \n", 
                "DOC.set_qc_status(0)  \n", 
                "\n", 
                "# PROPERTY VALUE(S): \n", 
                "# Set as follows: DOC.set_value(value)  \n", 
                "# Choices: \n", 
                "#      'T-Matrix'  \n", 
                "#      'geometrical optics'  \n", 
                "#      'finite difference time domain'  \n", 
                "#      'anomalous diffraction approximation'  \n", 
                "#      'Other: [Please specify]'  \n", 
                "# TODO"
            ], 
            "outputs": [], 
            "metadata": {
                "collapsed": true
            }
        }, 
        {
            "source": [
                "# 14. Turbulence Convection --&gt; Boundary Layer Turbulence  \n", 
                "*Properties of the boundary layer turbulence scheme*"
            ], 
            "cell_type": "markdown", 
            "metadata": {}
        }, 
        {
            "source": [
                "### 14.1. Scheme Name\n", 
                " *Boundary layer turbulence scheme name*"
            ], 
            "cell_type": "markdown", 
            "metadata": {}
        }, 
        {
            "execution_count": null, 
            "cell_type": "code", 
            "source": [
                "# PROPERTY INFO: \n", 
                "# Is Required: False \n", 
                "# Type: ENUM \n", 
                "# Cardinality: 1.1 \n", 
                "\n", 
                "# PROPERTY ID - DO NOT EDIT !  \n", 
                "DOC.set_id('cmip6.atmosphere.turbulence_convection.boundary_layer_turbulence.scheme_name')  \n", 
                "\n", 
                "# PROPERTY QUALITY CONTROL:  \n", 
                "# 0=draft, 1=in-review, 2=reviewed  \n", 
                "DOC.set_qc_status(0)  \n", 
                "\n", 
                "# PROPERTY VALUE: \n", 
                "# Set as follows: DOC.set_value(value)  \n", 
                "# Choices: \n", 
                "#      'Mellor-Yamada'  \n", 
                "#      'Holtslag-Boville'  \n", 
                "#      'EDMF'  \n", 
                "#      'Other: [Please specify]'  \n", 
                "# TODO"
            ], 
            "outputs": [], 
            "metadata": {
                "collapsed": true
            }
        }, 
        {
            "source": [
                "### 14.2. Scheme Type\n", 
                " *Boundary layer turbulence scheme type*"
            ], 
            "cell_type": "markdown", 
            "metadata": {}
        }, 
        {
            "execution_count": null, 
            "cell_type": "code", 
            "source": [
                "# PROPERTY INFO: \n", 
                "# Is Required: False \n", 
                "# Type: ENUM \n", 
                "# Cardinality: 1.N \n", 
                "\n", 
                "# PROPERTY ID - DO NOT EDIT !  \n", 
                "DOC.set_id('cmip6.atmosphere.turbulence_convection.boundary_layer_turbulence.scheme_type')  \n", 
                "\n", 
                "# PROPERTY QUALITY CONTROL:  \n", 
                "# 0=draft, 1=in-review, 2=reviewed  \n", 
                "DOC.set_qc_status(0)  \n", 
                "\n", 
                "# PROPERTY VALUE(S): \n", 
                "# Set as follows: DOC.set_value(value)  \n", 
                "# Choices: \n", 
                "#      'TKE prognostic'  \n", 
                "#      'TKE diagnostic'  \n", 
                "#      'TKE coupled with water'  \n", 
                "#      'vertical profile of Kz'  \n", 
                "#      'non-local diffusion'  \n", 
                "#      'Monin-Obukhov similarity'  \n", 
                "#      'Coastal Buddy Scheme'  \n", 
                "#      'Coupled with convection'  \n", 
                "#      'Coupled with gravity waves'  \n", 
                "#      'Depth capped at cloud base'  \n", 
                "#      'Other: [Please specify]'  \n", 
                "# TODO"
            ], 
            "outputs": [], 
            "metadata": {
                "collapsed": true
            }
        }, 
        {
            "source": [
                "### 14.3. Closure Order\n", 
                " *Boundary layer turbulence scheme closure order*"
            ], 
            "cell_type": "markdown", 
            "metadata": {}
        }, 
        {
            "execution_count": null, 
            "cell_type": "code", 
            "source": [
                "# PROPERTY INFO: \n", 
                "# Is Required: False \n", 
                "# Type: INTEGER \n", 
                "# Cardinality: 1.1 \n", 
                "\n", 
                "# PROPERTY ID - DO NOT EDIT !  \n", 
                "DOC.set_id('cmip6.atmosphere.turbulence_convection.boundary_layer_turbulence.closure_order')  \n", 
                "\n", 
                "# PROPERTY QUALITY CONTROL:  \n", 
                "# 0=draft, 1=in-review, 2=reviewed  \n", 
                "DOC.set_qc_status(0)  \n", 
                "\n", 
                "# PROPERTY VALUE: \n", 
                "# Set as follows: DOC.set_value(value)  \n", 
                "# TODO"
            ], 
            "outputs": [], 
            "metadata": {
                "collapsed": true
            }
        }, 
        {
            "source": [
                "### 14.4. Counter Gradient\n", 
                " *Uses boundary layer turbulence scheme counter gradient*"
            ], 
            "cell_type": "markdown", 
            "metadata": {}
        }, 
        {
            "execution_count": null, 
            "cell_type": "code", 
            "source": [
                "# PROPERTY INFO: \n", 
                "# Is Required: False \n", 
                "# Type: BOOLEAN \n", 
                "# Cardinality: 1.1 \n", 
                "\n", 
                "# PROPERTY ID - DO NOT EDIT !  \n", 
                "DOC.set_id('cmip6.atmosphere.turbulence_convection.boundary_layer_turbulence.counter_gradient')  \n", 
                "\n", 
                "# PROPERTY QUALITY CONTROL:  \n", 
                "# 0=draft, 1=in-review, 2=reviewed  \n", 
                "DOC.set_qc_status(0)  \n", 
                "\n", 
                "# PROPERTY VALUE: \n", 
                "# Set as follows: DOC.set_value(value)  \n", 
                "# Choices: \n", 
                "#     True  \n", 
                "#     False  \n", 
                "# TODO"
            ], 
            "outputs": [], 
            "metadata": {
                "collapsed": true
            }
        }, 
        {
            "source": [
                "# 15. Turbulence Convection --&gt; Deep Convection  \n", 
                "*Properties of the deep convection scheme*"
            ], 
            "cell_type": "markdown", 
            "metadata": {}
        }, 
        {
            "source": [
                "### 15.1. Scheme Name\n", 
                " *Deep convection scheme name*"
            ], 
            "cell_type": "markdown", 
            "metadata": {}
        }, 
        {
            "execution_count": null, 
            "cell_type": "code", 
            "source": [
                "# PROPERTY INFO: \n", 
                "# Is Required: False \n", 
                "# Type: STRING \n", 
                "# Cardinality: 1.1 \n", 
                "\n", 
                "# PROPERTY ID - DO NOT EDIT !  \n", 
                "DOC.set_id('cmip6.atmosphere.turbulence_convection.deep_convection.scheme_name')  \n", 
                "\n", 
                "# PROPERTY QUALITY CONTROL:  \n", 
                "# 0=draft, 1=in-review, 2=reviewed  \n", 
                "DOC.set_qc_status(0)  \n", 
                "\n", 
                "# PROPERTY VALUE: \n", 
                "# Set as follows: DOC.set_value(value)  \n", 
                "# TODO"
            ], 
            "outputs": [], 
            "metadata": {
                "collapsed": true
            }
        }, 
        {
            "source": [
                "### 15.2. Scheme Type\n", 
                " *Deep convection scheme type*"
            ], 
            "cell_type": "markdown", 
            "metadata": {}
        }, 
        {
            "execution_count": null, 
            "cell_type": "code", 
            "source": [
                "# PROPERTY INFO: \n", 
                "# Is Required: False \n", 
                "# Type: ENUM \n", 
                "# Cardinality: 1.N \n", 
                "\n", 
                "# PROPERTY ID - DO NOT EDIT !  \n", 
                "DOC.set_id('cmip6.atmosphere.turbulence_convection.deep_convection.scheme_type')  \n", 
                "\n", 
                "# PROPERTY QUALITY CONTROL:  \n", 
                "# 0=draft, 1=in-review, 2=reviewed  \n", 
                "DOC.set_qc_status(0)  \n", 
                "\n", 
                "# PROPERTY VALUE(S): \n", 
                "# Set as follows: DOC.set_value(value)  \n", 
                "# Choices: \n", 
                "#      'mass-flux'  \n", 
                "#      'adjustment'  \n", 
                "#      'plume ensemble'  \n", 
                "#      'Other: [Please specify]'  \n", 
                "# TODO"
            ], 
            "outputs": [], 
            "metadata": {
                "collapsed": true
            }
        }, 
        {
            "source": [
                "### 15.3. Scheme Method\n", 
                " *Deep convection scheme method*"
            ], 
            "cell_type": "markdown", 
            "metadata": {}
        }, 
        {
            "execution_count": null, 
            "cell_type": "code", 
            "source": [
                "# PROPERTY INFO: \n", 
                "# Is Required: False \n", 
                "# Type: ENUM \n", 
                "# Cardinality: 1.N \n", 
                "\n", 
                "# PROPERTY ID - DO NOT EDIT !  \n", 
                "DOC.set_id('cmip6.atmosphere.turbulence_convection.deep_convection.scheme_method')  \n", 
                "\n", 
                "# PROPERTY QUALITY CONTROL:  \n", 
                "# 0=draft, 1=in-review, 2=reviewed  \n", 
                "DOC.set_qc_status(0)  \n", 
                "\n", 
                "# PROPERTY VALUE(S): \n", 
                "# Set as follows: DOC.set_value(value)  \n", 
                "# Choices: \n", 
                "#      'CAPE'  \n", 
                "#      'bulk'  \n", 
                "#      'ensemble'  \n", 
                "#      'Other: [Please specify]'  \n", 
                "# TODO"
            ], 
            "outputs": [], 
            "metadata": {
                "collapsed": true
            }
        }, 
        {
            "source": [
                "### 15.4. Processes\n", 
                " *Deep convection scheme processes*"
            ], 
            "cell_type": "markdown", 
            "metadata": {}
        }, 
        {
            "execution_count": null, 
            "cell_type": "code", 
            "source": [
                "# PROPERTY INFO: \n", 
                "# Is Required: False \n", 
                "# Type: ENUM \n", 
                "# Cardinality: 1.N \n", 
                "\n", 
                "# PROPERTY ID - DO NOT EDIT !  \n", 
                "DOC.set_id('cmip6.atmosphere.turbulence_convection.deep_convection.processes')  \n", 
                "\n", 
                "# PROPERTY QUALITY CONTROL:  \n", 
                "# 0=draft, 1=in-review, 2=reviewed  \n", 
                "DOC.set_qc_status(0)  \n", 
                "\n", 
                "# PROPERTY VALUE(S): \n", 
                "# Set as follows: DOC.set_value(value)  \n", 
                "# Choices: \n", 
                "#      'vertical momentum transport'  \n", 
                "#      'convective momentum transport'  \n", 
                "#      'entrainment'  \n", 
                "#      'detrainment'  \n", 
                "#      'penetrative convection'  \n", 
                "#      'updrafts'  \n", 
                "#      'downdrafts'  \n", 
                "#      'radiative effect of anvils'  \n", 
                "#      'Other: [Please specify]'  \n", 
                "# TODO"
            ], 
            "outputs": [], 
            "metadata": {
                "collapsed": true
            }
        }, 
        {
            "source": [
                "# 16. Turbulence Convection --&gt; Shallow Convection  \n", 
                "*Properties of the shallow convection scheme*"
            ], 
            "cell_type": "markdown", 
            "metadata": {}
        }, 
        {
            "source": [
                "### 16.1. Scheme Method\n", 
                " *shallow convection scheme method*"
            ], 
            "cell_type": "markdown", 
            "metadata": {}
        }, 
        {
            "execution_count": null, 
            "cell_type": "code", 
            "source": [
                "# PROPERTY INFO: \n", 
                "# Is Required: False \n", 
                "# Type: ENUM \n", 
                "# Cardinality: 1.1 \n", 
                "\n", 
                "# PROPERTY ID - DO NOT EDIT !  \n", 
                "DOC.set_id('cmip6.atmosphere.turbulence_convection.shallow_convection.scheme_method')  \n", 
                "\n", 
                "# PROPERTY QUALITY CONTROL:  \n", 
                "# 0=draft, 1=in-review, 2=reviewed  \n", 
                "DOC.set_qc_status(0)  \n", 
                "\n", 
                "# PROPERTY VALUE: \n", 
                "# Set as follows: DOC.set_value(value)  \n", 
                "# Choices: \n", 
                "#      'same as deep (unified)'  \n", 
                "#      'included in boundary layer turbulence'  \n", 
                "#      'separate diagnosis'  \n", 
                "# TODO"
            ], 
            "outputs": [], 
            "metadata": {
                "collapsed": true
            }
        }, 
        {
            "source": [
                "### 16.2. Scheme Type\n", 
                " *shallow convection scheme type*"
            ], 
            "cell_type": "markdown", 
            "metadata": {}
        }, 
        {
            "execution_count": null, 
            "cell_type": "code", 
            "source": [
                "# PROPERTY INFO: \n", 
                "# Is Required: False \n", 
                "# Type: ENUM \n", 
                "# Cardinality: 1.N \n", 
                "\n", 
                "# PROPERTY ID - DO NOT EDIT !  \n", 
                "DOC.set_id('cmip6.atmosphere.turbulence_convection.shallow_convection.scheme_type')  \n", 
                "\n", 
                "# PROPERTY QUALITY CONTROL:  \n", 
                "# 0=draft, 1=in-review, 2=reviewed  \n", 
                "DOC.set_qc_status(0)  \n", 
                "\n", 
                "# PROPERTY VALUE(S): \n", 
                "# Set as follows: DOC.set_value(value)  \n", 
                "# Choices: \n", 
                "#      'mass-flux'  \n", 
                "#      'cumulus-capped boundary layer'  \n", 
                "#      'Other: [Please specify]'  \n", 
                "# TODO"
            ], 
            "outputs": [], 
            "metadata": {
                "collapsed": true
            }
        }, 
        {
            "source": [
                "### 16.3. Scheme Name\n", 
                " *Shallow convection scheme name*"
            ], 
            "cell_type": "markdown", 
            "metadata": {}
        }, 
        {
            "execution_count": null, 
            "cell_type": "code", 
            "source": [
                "# PROPERTY INFO: \n", 
                "# Is Required: False \n", 
                "# Type: STRING \n", 
                "# Cardinality: 1.1 \n", 
                "\n", 
                "# PROPERTY ID - DO NOT EDIT !  \n", 
                "DOC.set_id('cmip6.atmosphere.turbulence_convection.shallow_convection.scheme_name')  \n", 
                "\n", 
                "# PROPERTY QUALITY CONTROL:  \n", 
                "# 0=draft, 1=in-review, 2=reviewed  \n", 
                "DOC.set_qc_status(0)  \n", 
                "\n", 
                "# PROPERTY VALUE: \n", 
                "# Set as follows: DOC.set_value(value)  \n", 
                "# TODO"
            ], 
            "outputs": [], 
            "metadata": {
                "collapsed": true
            }
        }, 
        {
            "source": [
                "### 16.4. Processes\n", 
                " *Physical processes taken into account in the parameterisation of shallow convection*"
            ], 
            "cell_type": "markdown", 
            "metadata": {}
        }, 
        {
            "execution_count": null, 
            "cell_type": "code", 
            "source": [
                "# PROPERTY INFO: \n", 
                "# Is Required: False \n", 
                "# Type: ENUM \n", 
                "# Cardinality: 1.N \n", 
                "\n", 
                "# PROPERTY ID - DO NOT EDIT !  \n", 
                "DOC.set_id('cmip6.atmosphere.turbulence_convection.shallow_convection.processes')  \n", 
                "\n", 
                "# PROPERTY QUALITY CONTROL:  \n", 
                "# 0=draft, 1=in-review, 2=reviewed  \n", 
                "DOC.set_qc_status(0)  \n", 
                "\n", 
                "# PROPERTY VALUE(S): \n", 
                "# Set as follows: DOC.set_value(value)  \n", 
                "# Choices: \n", 
                "#      'convective momentum transport'  \n", 
                "#      'entrainment'  \n", 
                "#      'detrainment'  \n", 
                "#      'penetrative convection'  \n", 
                "#      'Other: [Please specify]'  \n", 
                "# TODO"
            ], 
            "outputs": [], 
            "metadata": {
                "collapsed": true
            }
        }, 
        {
            "source": [
                "# 17. Microphysics Precipitation --&gt; Large Scale Precipitation  \n", 
                "*Properties of the large scale precipitation scheme*"
            ], 
            "cell_type": "markdown", 
            "metadata": {}
        }, 
        {
            "source": [
                "### 17.1. Scheme\n", 
                " *Commonly used name of the large scale precipitation parameterisation scheme*"
            ], 
            "cell_type": "markdown", 
            "metadata": {}
        }, 
        {
            "execution_count": null, 
            "cell_type": "code", 
            "source": [
                "# PROPERTY INFO: \n", 
                "# Is Required: False \n", 
                "# Type: STRING \n", 
                "# Cardinality: 1.1 \n", 
                "\n", 
                "# PROPERTY ID - DO NOT EDIT !  \n", 
                "DOC.set_id('cmip6.atmosphere.microphysics_precipitation.large_scale_precipitation.scheme')  \n", 
                "\n", 
                "# PROPERTY QUALITY CONTROL:  \n", 
                "# 0=draft, 1=in-review, 2=reviewed  \n", 
                "DOC.set_qc_status(0)  \n", 
                "\n", 
                "# PROPERTY VALUE: \n", 
                "# Set as follows: DOC.set_value(value)  \n", 
                "# TODO"
            ], 
            "outputs": [], 
            "metadata": {
                "collapsed": true
            }
        }, 
        {
            "source": [
                "### 17.2. Hydrometeors\n", 
                " *Precipitating hydrometeors taken into account in the large scale precipitation scheme*"
            ], 
            "cell_type": "markdown", 
            "metadata": {}
        }, 
        {
            "execution_count": null, 
            "cell_type": "code", 
            "source": [
                "# PROPERTY INFO: \n", 
                "# Is Required: False \n", 
                "# Type: ENUM \n", 
                "# Cardinality: 1.N \n", 
                "\n", 
                "# PROPERTY ID - DO NOT EDIT !  \n", 
                "DOC.set_id('cmip6.atmosphere.microphysics_precipitation.large_scale_precipitation.hydrometeors')  \n", 
                "\n", 
                "# PROPERTY QUALITY CONTROL:  \n", 
                "# 0=draft, 1=in-review, 2=reviewed  \n", 
                "DOC.set_qc_status(0)  \n", 
                "\n", 
                "# PROPERTY VALUE(S): \n", 
                "# Set as follows: DOC.set_value(value)  \n", 
                "# Choices: \n", 
                "#      'liquid rain'  \n", 
                "#      'snow'  \n", 
                "#      'hail'  \n", 
                "#      'graupel'  \n", 
                "#      'Other: [Please specify]'  \n", 
                "# TODO"
            ], 
            "outputs": [], 
            "metadata": {
                "collapsed": true
            }
        }, 
        {
            "source": [
                "# 18. Microphysics Precipitation --&gt; Cloud Microphysics  \n", 
                "*Properties of the cloud microphysics scheme*"
            ], 
            "cell_type": "markdown", 
            "metadata": {}
        }, 
        {
            "source": [
                "### 18.1. Scheme Name\n", 
                " *Commonly used name of the microphysics parameterisation scheme.*"
            ], 
            "cell_type": "markdown", 
            "metadata": {}
        }, 
        {
            "execution_count": null, 
            "cell_type": "code", 
            "source": [
                "# PROPERTY INFO: \n", 
                "# Is Required: False \n", 
                "# Type: STRING \n", 
                "# Cardinality: 1.1 \n", 
                "\n", 
                "# PROPERTY ID - DO NOT EDIT !  \n", 
                "DOC.set_id('cmip6.atmosphere.microphysics_precipitation.cloud_microphysics.scheme_name')  \n", 
                "\n", 
                "# PROPERTY QUALITY CONTROL:  \n", 
                "# 0=draft, 1=in-review, 2=reviewed  \n", 
                "DOC.set_qc_status(0)  \n", 
                "\n", 
                "# PROPERTY VALUE: \n", 
                "# Set as follows: DOC.set_value(value)  \n", 
                "# TODO"
            ], 
            "outputs": [], 
            "metadata": {
                "collapsed": true
            }
        }, 
        {
            "source": [
                "### 18.2. Processes\n", 
                " *Cloud microphysics processes*"
            ], 
            "cell_type": "markdown", 
            "metadata": {}
        }, 
        {
            "execution_count": null, 
            "cell_type": "code", 
            "source": [
                "# PROPERTY INFO: \n", 
                "# Is Required: False \n", 
                "# Type: ENUM \n", 
                "# Cardinality: 1.N \n", 
                "\n", 
                "# PROPERTY ID - DO NOT EDIT !  \n", 
                "DOC.set_id('cmip6.atmosphere.microphysics_precipitation.cloud_microphysics.processes')  \n", 
                "\n", 
                "# PROPERTY QUALITY CONTROL:  \n", 
                "# 0=draft, 1=in-review, 2=reviewed  \n", 
                "DOC.set_qc_status(0)  \n", 
                "\n", 
                "# PROPERTY VALUE(S): \n", 
                "# Set as follows: DOC.set_value(value)  \n", 
                "# Choices: \n", 
                "#      'mixed phase'  \n", 
                "#      'cloud droplets'  \n", 
                "#      'cloud ice'  \n", 
                "#      'ice nucleation'  \n", 
                "#      'water vapour deposition'  \n", 
                "#      'effect of raindrops'  \n", 
                "#      'effect of snow'  \n", 
                "#      'effect of graupel'  \n", 
                "#      'Other: [Please specify]'  \n", 
                "# TODO"
            ], 
            "outputs": [], 
            "metadata": {
                "collapsed": true
            }
        }, 
        {
            "source": [
                "# 19. Cloud Scheme  \n", 
                "*Characteristics of the cloud scheme*"
            ], 
            "cell_type": "markdown", 
            "metadata": {}
        }, 
        {
            "source": [
                "### 19.1. Uses Separate Treatment\n", 
                " *Different cloud schemes for the different types of clouds (convective, stratiform and boundary layer clouds*"
            ], 
            "cell_type": "markdown", 
            "metadata": {}
        }, 
        {
            "execution_count": null, 
            "cell_type": "code", 
            "source": [
                "# PROPERTY INFO: \n", 
                "# Is Required: False \n", 
                "# Type: BOOLEAN \n", 
                "# Cardinality: 1.1 \n", 
                "\n", 
                "# PROPERTY ID - DO NOT EDIT !  \n", 
                "DOC.set_id('cmip6.atmosphere.cloud_scheme.uses_separate_treatment')  \n", 
                "\n", 
                "# PROPERTY QUALITY CONTROL:  \n", 
                "# 0=draft, 1=in-review, 2=reviewed  \n", 
                "DOC.set_qc_status(0)  \n", 
                "\n", 
                "# PROPERTY VALUE: \n", 
                "# Set as follows: DOC.set_value(value)  \n", 
                "# Choices: \n", 
                "#     True  \n", 
                "#     False  \n", 
                "# TODO"
            ], 
            "outputs": [], 
            "metadata": {
                "collapsed": true
            }
        }, 
        {
            "source": [
                "### 19.2. Cloud Overlap Method\n", 
                " *Method for taking into account overlapping of cloud layers*"
            ], 
            "cell_type": "markdown", 
            "metadata": {}
        }, 
        {
            "execution_count": null, 
            "cell_type": "code", 
            "source": [
                "# PROPERTY INFO: \n", 
                "# Is Required: False \n", 
                "# Type: ENUM \n", 
                "# Cardinality: 1.1 \n", 
                "\n", 
                "# PROPERTY ID - DO NOT EDIT !  \n", 
                "DOC.set_id('cmip6.atmosphere.cloud_scheme.cloud_overlap_method')  \n", 
                "\n", 
                "# PROPERTY QUALITY CONTROL:  \n", 
                "# 0=draft, 1=in-review, 2=reviewed  \n", 
                "DOC.set_qc_status(0)  \n", 
                "\n", 
                "# PROPERTY VALUE: \n", 
                "# Set as follows: DOC.set_value(value)  \n", 
                "# Choices: \n", 
                "#      'random'  \n", 
                "#      'maximum'  \n", 
                "#      'arbitrary'  \n", 
                "#      'Other: [Please specify]'  \n", 
                "# TODO"
            ], 
            "outputs": [], 
            "metadata": {
                "collapsed": true
            }
        }, 
        {
            "source": [
                "### 19.3. Processes\n", 
                " *Processes included in the cloud scheme*"
            ], 
            "cell_type": "markdown", 
            "metadata": {}
        }, 
        {
            "execution_count": null, 
            "cell_type": "code", 
            "source": [
                "# PROPERTY INFO: \n", 
                "# Is Required: False \n", 
                "# Type: ENUM \n", 
                "# Cardinality: 1.N \n", 
                "\n", 
                "# PROPERTY ID - DO NOT EDIT !  \n", 
                "DOC.set_id('cmip6.atmosphere.cloud_scheme.processes')  \n", 
                "\n", 
                "# PROPERTY QUALITY CONTROL:  \n", 
                "# 0=draft, 1=in-review, 2=reviewed  \n", 
                "DOC.set_qc_status(0)  \n", 
                "\n", 
                "# PROPERTY VALUE(S): \n", 
                "# Set as follows: DOC.set_value(value)  \n", 
                "# Choices: \n", 
                "#      'entrainment'  \n", 
                "#      'detrainment'  \n", 
                "#      'bulk cloud'  \n", 
                "#      'Other: [Please specify]'  \n", 
                "# TODO"
            ], 
            "outputs": [], 
            "metadata": {
                "collapsed": true
            }
        }, 
        {
            "source": [
                "# 20. Cloud Scheme --&gt; Sub Grid Scale Water Distribution  \n", 
                "*Sub-grid scale water distribution*"
            ], 
            "cell_type": "markdown", 
            "metadata": {}
        }, 
        {
            "source": [
                "### 20.1. Type\n", 
                " *Sub-grid scale water distribution type*"
            ], 
            "cell_type": "markdown", 
            "metadata": {}
        }, 
        {
            "execution_count": null, 
            "cell_type": "code", 
            "source": [
                "# PROPERTY INFO: \n", 
                "# Is Required: False \n", 
                "# Type: ENUM \n", 
                "# Cardinality: 1.1 \n", 
                "\n", 
                "# PROPERTY ID - DO NOT EDIT !  \n", 
                "DOC.set_id('cmip6.atmosphere.cloud_scheme.sub_grid_scale_water_distribution.type')  \n", 
                "\n", 
                "# PROPERTY QUALITY CONTROL:  \n", 
                "# 0=draft, 1=in-review, 2=reviewed  \n", 
                "DOC.set_qc_status(0)  \n", 
                "\n", 
                "# PROPERTY VALUE: \n", 
                "# Set as follows: DOC.set_value(value)  \n", 
                "# Choices: \n", 
                "#      'prognostic'  \n", 
                "#      'diagnostic'  \n", 
                "# TODO"
            ], 
            "outputs": [], 
            "metadata": {
                "collapsed": true
            }
        }, 
        {
            "source": [
                "### 20.2. Function Name\n", 
                " *Sub-grid scale water distribution function name*"
            ], 
            "cell_type": "markdown", 
            "metadata": {}
        }, 
        {
            "execution_count": null, 
            "cell_type": "code", 
            "source": [
                "# PROPERTY INFO: \n", 
                "# Is Required: False \n", 
                "# Type: STRING \n", 
                "# Cardinality: 1.1 \n", 
                "\n", 
                "# PROPERTY ID - DO NOT EDIT !  \n", 
                "DOC.set_id('cmip6.atmosphere.cloud_scheme.sub_grid_scale_water_distribution.function_name')  \n", 
                "\n", 
                "# PROPERTY QUALITY CONTROL:  \n", 
                "# 0=draft, 1=in-review, 2=reviewed  \n", 
                "DOC.set_qc_status(0)  \n", 
                "\n", 
                "# PROPERTY VALUE: \n", 
                "# Set as follows: DOC.set_value(value)  \n", 
                "# TODO"
            ], 
            "outputs": [], 
            "metadata": {
                "collapsed": true
            }
        }, 
        {
            "source": [
                "### 20.3. Function Order\n", 
                " *Sub-grid scale water distribution function type*"
            ], 
            "cell_type": "markdown", 
            "metadata": {}
        }, 
        {
            "execution_count": null, 
            "cell_type": "code", 
            "source": [
                "# PROPERTY INFO: \n", 
                "# Is Required: False \n", 
                "# Type: INTEGER \n", 
                "# Cardinality: 1.1 \n", 
                "\n", 
                "# PROPERTY ID - DO NOT EDIT !  \n", 
                "DOC.set_id('cmip6.atmosphere.cloud_scheme.sub_grid_scale_water_distribution.function_order')  \n", 
                "\n", 
                "# PROPERTY QUALITY CONTROL:  \n", 
                "# 0=draft, 1=in-review, 2=reviewed  \n", 
                "DOC.set_qc_status(0)  \n", 
                "\n", 
                "# PROPERTY VALUE: \n", 
                "# Set as follows: DOC.set_value(value)  \n", 
                "# TODO"
            ], 
            "outputs": [], 
            "metadata": {
                "collapsed": true
            }
        }, 
        {
            "source": [
                "### 20.4. Convection Coupling\n", 
                " *Sub-grid scale water distribution coupling with convection*"
            ], 
            "cell_type": "markdown", 
            "metadata": {}
        }, 
        {
            "execution_count": null, 
            "cell_type": "code", 
            "source": [
                "# PROPERTY INFO: \n", 
                "# Is Required: False \n", 
                "# Type: ENUM \n", 
                "# Cardinality: 1.N \n", 
                "\n", 
                "# PROPERTY ID - DO NOT EDIT !  \n", 
                "DOC.set_id('cmip6.atmosphere.cloud_scheme.sub_grid_scale_water_distribution.convection_coupling')  \n", 
                "\n", 
                "# PROPERTY QUALITY CONTROL:  \n", 
                "# 0=draft, 1=in-review, 2=reviewed  \n", 
                "DOC.set_qc_status(0)  \n", 
                "\n", 
                "# PROPERTY VALUE(S): \n", 
                "# Set as follows: DOC.set_value(value)  \n", 
                "# Choices: \n", 
                "#      'coupled with deep'  \n", 
                "#      'coupled with shallow'  \n", 
                "#      'not coupled with convection'  \n", 
                "# TODO"
            ], 
            "outputs": [], 
            "metadata": {
                "collapsed": true
            }
        }, 
        {
            "source": [
                "# 21. Cloud Simulator --&gt; Isscp Attributes  \n", 
                "*ISSCP Characteristics*"
            ], 
            "cell_type": "markdown", 
            "metadata": {}
        }, 
        {
            "source": [
                "### 21.1. Top Height\n", 
                " *Cloud simulator ISSCP top height*"
            ], 
            "cell_type": "markdown", 
            "metadata": {}
        }, 
        {
            "execution_count": null, 
            "cell_type": "code", 
            "source": [
                "# PROPERTY INFO: \n", 
                "# Is Required: False \n", 
                "# Type: ENUM \n", 
                "# Cardinality: 1.N \n", 
                "\n", 
                "# PROPERTY ID - DO NOT EDIT !  \n", 
                "DOC.set_id('cmip6.atmosphere.cloud_simulator.isscp_attributes.top_height')  \n", 
                "\n", 
                "# PROPERTY QUALITY CONTROL:  \n", 
                "# 0=draft, 1=in-review, 2=reviewed  \n", 
                "DOC.set_qc_status(0)  \n", 
                "\n", 
                "# PROPERTY VALUE(S): \n", 
                "# Set as follows: DOC.set_value(value)  \n", 
                "# Choices: \n", 
                "#      'no adjustment'  \n", 
                "#      'IR brightness'  \n", 
                "#      'visible optical depth'  \n", 
                "#      'Other: [Please specify]'  \n", 
                "# TODO"
            ], 
            "outputs": [], 
            "metadata": {
                "collapsed": true
            }
        }, 
        {
            "source": [
                "### 21.2. Top Height Direction\n", 
                " *Cloud simulator ISSCP top height direction*"
            ], 
            "cell_type": "markdown", 
            "metadata": {}
        }, 
        {
            "execution_count": null, 
            "cell_type": "code", 
            "source": [
                "# PROPERTY INFO: \n", 
                "# Is Required: False \n", 
                "# Type: ENUM \n", 
                "# Cardinality: 1.1 \n", 
                "\n", 
                "# PROPERTY ID - DO NOT EDIT !  \n", 
                "DOC.set_id('cmip6.atmosphere.cloud_simulator.isscp_attributes.top_height_direction')  \n", 
                "\n", 
                "# PROPERTY QUALITY CONTROL:  \n", 
                "# 0=draft, 1=in-review, 2=reviewed  \n", 
                "DOC.set_qc_status(0)  \n", 
                "\n", 
                "# PROPERTY VALUE: \n", 
                "# Set as follows: DOC.set_value(value)  \n", 
                "# Choices: \n", 
                "#      'lowest altitude level'  \n", 
                "#      'highest altitude level'  \n", 
                "#      'Other: [Please specify]'  \n", 
                "# TODO"
            ], 
            "outputs": [], 
            "metadata": {
                "collapsed": true
            }
        }, 
        {
            "source": [
                "# 22. Cloud Simulator --&gt; Cosp Attributes  \n", 
                "*CFMIP Observational Simulator Package attributes*"
            ], 
            "cell_type": "markdown", 
            "metadata": {}
        }, 
        {
            "source": [
                "### 22.1. Run Configuration\n", 
                " *Cloud simulator COSP run configuration*"
            ], 
            "cell_type": "markdown", 
            "metadata": {}
        }, 
        {
            "execution_count": null, 
            "cell_type": "code", 
            "source": [
                "# PROPERTY INFO: \n", 
                "# Is Required: False \n", 
                "# Type: ENUM \n", 
                "# Cardinality: 1.1 \n", 
                "\n", 
                "# PROPERTY ID - DO NOT EDIT !  \n", 
                "DOC.set_id('cmip6.atmosphere.cloud_simulator.cosp_attributes.run_configuration')  \n", 
                "\n", 
                "# PROPERTY QUALITY CONTROL:  \n", 
                "# 0=draft, 1=in-review, 2=reviewed  \n", 
                "DOC.set_qc_status(0)  \n", 
                "\n", 
                "# PROPERTY VALUE: \n", 
                "# Set as follows: DOC.set_value(value)  \n", 
                "# Choices: \n", 
                "#      'Inline'  \n", 
                "#      'Offline'  \n", 
                "#      'Other: [Please specify]'  \n", 
                "# TODO"
            ], 
            "outputs": [], 
            "metadata": {
                "collapsed": true
            }
        }, 
        {
            "source": [
                "### 22.2. Number Of Grid Points\n", 
                " *Cloud simulator COSP number of grid points*"
            ], 
            "cell_type": "markdown", 
            "metadata": {}
        }, 
        {
            "execution_count": null, 
            "cell_type": "code", 
            "source": [
                "# PROPERTY INFO: \n", 
                "# Is Required: False \n", 
                "# Type: INTEGER \n", 
                "# Cardinality: 1.1 \n", 
                "\n", 
                "# PROPERTY ID - DO NOT EDIT !  \n", 
                "DOC.set_id('cmip6.atmosphere.cloud_simulator.cosp_attributes.number_of_grid_points')  \n", 
                "\n", 
                "# PROPERTY QUALITY CONTROL:  \n", 
                "# 0=draft, 1=in-review, 2=reviewed  \n", 
                "DOC.set_qc_status(0)  \n", 
                "\n", 
                "# PROPERTY VALUE: \n", 
                "# Set as follows: DOC.set_value(value)  \n", 
                "# TODO"
            ], 
            "outputs": [], 
            "metadata": {
                "collapsed": true
            }
        }, 
        {
            "source": [
                "### 22.3. Number Of Columns\n", 
                " *Cloud simulator COSP number of cloumns*"
            ], 
            "cell_type": "markdown", 
            "metadata": {}
        }, 
        {
            "execution_count": null, 
            "cell_type": "code", 
            "source": [
                "# PROPERTY INFO: \n", 
                "# Is Required: False \n", 
                "# Type: INTEGER \n", 
                "# Cardinality: 1.1 \n", 
                "\n", 
                "# PROPERTY ID - DO NOT EDIT !  \n", 
                "DOC.set_id('cmip6.atmosphere.cloud_simulator.cosp_attributes.number_of_columns')  \n", 
                "\n", 
                "# PROPERTY QUALITY CONTROL:  \n", 
                "# 0=draft, 1=in-review, 2=reviewed  \n", 
                "DOC.set_qc_status(0)  \n", 
                "\n", 
                "# PROPERTY VALUE: \n", 
                "# Set as follows: DOC.set_value(value)  \n", 
                "# TODO"
            ], 
            "outputs": [], 
            "metadata": {
                "collapsed": true
            }
        }, 
        {
            "source": [
                "### 22.4. Number Of Levels\n", 
                " *Cloud simulator COSP number of levels*"
            ], 
            "cell_type": "markdown", 
            "metadata": {}
        }, 
        {
            "execution_count": null, 
            "cell_type": "code", 
            "source": [
                "# PROPERTY INFO: \n", 
                "# Is Required: False \n", 
                "# Type: INTEGER \n", 
                "# Cardinality: 1.1 \n", 
                "\n", 
                "# PROPERTY ID - DO NOT EDIT !  \n", 
                "DOC.set_id('cmip6.atmosphere.cloud_simulator.cosp_attributes.number_of_levels')  \n", 
                "\n", 
                "# PROPERTY QUALITY CONTROL:  \n", 
                "# 0=draft, 1=in-review, 2=reviewed  \n", 
                "DOC.set_qc_status(0)  \n", 
                "\n", 
                "# PROPERTY VALUE: \n", 
                "# Set as follows: DOC.set_value(value)  \n", 
                "# TODO"
            ], 
            "outputs": [], 
            "metadata": {
                "collapsed": true
            }
        }, 
        {
            "source": [
                "# 23. Cloud Simulator --&gt; Radar Inputs  \n", 
                "*Characteristics of the cloud radar simulator*"
            ], 
            "cell_type": "markdown", 
            "metadata": {}
        }, 
        {
            "source": [
                "### 23.1. Frequency\n", 
                " *Cloud simulator radar frequency (Hz)*"
            ], 
            "cell_type": "markdown", 
            "metadata": {}
        }, 
        {
            "execution_count": null, 
            "cell_type": "code", 
            "source": [
                "# PROPERTY INFO: \n", 
                "# Is Required: False \n", 
                "# Type: FLOAT \n", 
                "# Cardinality: 1.1 \n", 
                "\n", 
                "# PROPERTY ID - DO NOT EDIT !  \n", 
                "DOC.set_id('cmip6.atmosphere.cloud_simulator.radar_inputs.frequency')  \n", 
                "\n", 
                "# PROPERTY QUALITY CONTROL:  \n", 
                "# 0=draft, 1=in-review, 2=reviewed  \n", 
                "DOC.set_qc_status(0)  \n", 
                "\n", 
                "# PROPERTY VALUE: \n", 
                "# Set as follows: DOC.set_value(value)  \n", 
                "# TODO"
            ], 
            "outputs": [], 
            "metadata": {
                "collapsed": true
            }
        }, 
        {
            "source": [
                "### 23.2. Type\n", 
                " *Cloud simulator radar type*"
            ], 
            "cell_type": "markdown", 
            "metadata": {}
        }, 
        {
            "execution_count": null, 
            "cell_type": "code", 
            "source": [
                "# PROPERTY INFO: \n", 
                "# Is Required: False \n", 
                "# Type: ENUM \n", 
                "# Cardinality: 1.1 \n", 
                "\n", 
                "# PROPERTY ID - DO NOT EDIT !  \n", 
                "DOC.set_id('cmip6.atmosphere.cloud_simulator.radar_inputs.type')  \n", 
                "\n", 
                "# PROPERTY QUALITY CONTROL:  \n", 
                "# 0=draft, 1=in-review, 2=reviewed  \n", 
                "DOC.set_qc_status(0)  \n", 
                "\n", 
                "# PROPERTY VALUE: \n", 
                "# Set as follows: DOC.set_value(value)  \n", 
                "# Choices: \n", 
                "#      'surface'  \n", 
                "#      'space borne'  \n", 
                "#      'Other: [Please specify]'  \n", 
                "# TODO"
            ], 
            "outputs": [], 
            "metadata": {
                "collapsed": true
            }
        }, 
        {
            "source": [
                "### 23.3. Gas Absorption\n", 
                " *Cloud simulator radar uses gas absorption*"
            ], 
            "cell_type": "markdown", 
            "metadata": {}
        }, 
        {
            "execution_count": null, 
            "cell_type": "code", 
            "source": [
                "# PROPERTY INFO: \n", 
                "# Is Required: False \n", 
                "# Type: BOOLEAN \n", 
                "# Cardinality: 1.1 \n", 
                "\n", 
                "# PROPERTY ID - DO NOT EDIT !  \n", 
                "DOC.set_id('cmip6.atmosphere.cloud_simulator.radar_inputs.gas_absorption')  \n", 
                "\n", 
                "# PROPERTY QUALITY CONTROL:  \n", 
                "# 0=draft, 1=in-review, 2=reviewed  \n", 
                "DOC.set_qc_status(0)  \n", 
                "\n", 
                "# PROPERTY VALUE: \n", 
                "# Set as follows: DOC.set_value(value)  \n", 
                "# Choices: \n", 
                "#     True  \n", 
                "#     False  \n", 
                "# TODO"
            ], 
            "outputs": [], 
            "metadata": {
                "collapsed": true
            }
        }, 
        {
            "source": [
                "### 23.4. Effective Radius\n", 
                " *Cloud simulator radar uses effective radius*"
            ], 
            "cell_type": "markdown", 
            "metadata": {}
        }, 
        {
            "execution_count": null, 
            "cell_type": "code", 
            "source": [
                "# PROPERTY INFO: \n", 
                "# Is Required: False \n", 
                "# Type: BOOLEAN \n", 
                "# Cardinality: 1.1 \n", 
                "\n", 
                "# PROPERTY ID - DO NOT EDIT !  \n", 
                "DOC.set_id('cmip6.atmosphere.cloud_simulator.radar_inputs.effective_radius')  \n", 
                "\n", 
                "# PROPERTY QUALITY CONTROL:  \n", 
                "# 0=draft, 1=in-review, 2=reviewed  \n", 
                "DOC.set_qc_status(0)  \n", 
                "\n", 
                "# PROPERTY VALUE: \n", 
                "# Set as follows: DOC.set_value(value)  \n", 
                "# Choices: \n", 
                "#     True  \n", 
                "#     False  \n", 
                "# TODO"
            ], 
            "outputs": [], 
            "metadata": {
                "collapsed": true
            }
        }, 
        {
            "source": [
                "# 24. Cloud Simulator --&gt; Lidar Inputs  \n", 
                "*Characteristics of the cloud lidar simulator*"
            ], 
            "cell_type": "markdown", 
            "metadata": {}
        }, 
        {
            "source": [
                "### 24.1. Ice Types\n", 
                " *Cloud simulator lidar ice type*"
            ], 
            "cell_type": "markdown", 
            "metadata": {}
        }, 
        {
            "execution_count": null, 
            "cell_type": "code", 
            "source": [
                "# PROPERTY INFO: \n", 
                "# Is Required: False \n", 
                "# Type: ENUM \n", 
                "# Cardinality: 1.1 \n", 
                "\n", 
                "# PROPERTY ID - DO NOT EDIT !  \n", 
                "DOC.set_id('cmip6.atmosphere.cloud_simulator.lidar_inputs.ice_types')  \n", 
                "\n", 
                "# PROPERTY QUALITY CONTROL:  \n", 
                "# 0=draft, 1=in-review, 2=reviewed  \n", 
                "DOC.set_qc_status(0)  \n", 
                "\n", 
                "# PROPERTY VALUE: \n", 
                "# Set as follows: DOC.set_value(value)  \n", 
                "# Choices: \n", 
                "#      'ice spheres'  \n", 
                "#      'ice non-spherical'  \n", 
                "#      'Other: [Please specify]'  \n", 
                "# TODO"
            ], 
            "outputs": [], 
            "metadata": {
                "collapsed": true
            }
        }, 
        {
            "source": [
                "### 24.2. Overlap\n", 
                " *Cloud simulator lidar overlap*"
            ], 
            "cell_type": "markdown", 
            "metadata": {}
        }, 
        {
            "execution_count": null, 
            "cell_type": "code", 
            "source": [
                "# PROPERTY INFO: \n", 
                "# Is Required: False \n", 
                "# Type: ENUM \n", 
                "# Cardinality: 1.N \n", 
                "\n", 
                "# PROPERTY ID - DO NOT EDIT !  \n", 
                "DOC.set_id('cmip6.atmosphere.cloud_simulator.lidar_inputs.overlap')  \n", 
                "\n", 
                "# PROPERTY QUALITY CONTROL:  \n", 
                "# 0=draft, 1=in-review, 2=reviewed  \n", 
                "DOC.set_qc_status(0)  \n", 
                "\n", 
                "# PROPERTY VALUE(S): \n", 
                "# Set as follows: DOC.set_value(value)  \n", 
                "# Choices: \n", 
                "#      'max'  \n", 
                "#      'random'  \n", 
                "#      'Other: [Please specify]'  \n", 
                "# TODO"
            ], 
            "outputs": [], 
            "metadata": {
                "collapsed": true
            }
        }, 
        {
            "source": [
                "# 25. Gravity Waves  \n", 
                "*Characteristics of the parameterised gravity waves in the atmosphere, whether from orography or other sources.*"
            ], 
            "cell_type": "markdown", 
            "metadata": {}
        }, 
        {
            "source": [
                "### 25.1. Sponge Layer\n", 
                " *Sponge layer in the upper levels in order to avoid gravity wave reflection at the top.*"
            ], 
            "cell_type": "markdown", 
            "metadata": {}
        }, 
        {
            "execution_count": null, 
            "cell_type": "code", 
            "source": [
                "# PROPERTY INFO: \n", 
                "# Is Required: False \n", 
                "# Type: ENUM \n", 
                "# Cardinality: 1.1 \n", 
                "\n", 
                "# PROPERTY ID - DO NOT EDIT !  \n", 
                "DOC.set_id('cmip6.atmosphere.gravity_waves.sponge_layer')  \n", 
                "\n", 
                "# PROPERTY QUALITY CONTROL:  \n", 
                "# 0=draft, 1=in-review, 2=reviewed  \n", 
                "DOC.set_qc_status(0)  \n", 
                "\n", 
                "# PROPERTY VALUE: \n", 
                "# Set as follows: DOC.set_value(value)  \n", 
                "# Choices: \n", 
                "#      'Rayleigh friction'  \n", 
                "#      'Diffusive sponge layer'  \n", 
                "#      'Other: [Please specify]'  \n", 
                "# TODO"
            ], 
            "outputs": [], 
            "metadata": {
                "collapsed": true
            }
        }, 
        {
            "source": [
                "### 25.2. Background\n", 
                " *Background wave distribution*"
            ], 
            "cell_type": "markdown", 
            "metadata": {}
        }, 
        {
            "execution_count": null, 
            "cell_type": "code", 
            "source": [
                "# PROPERTY INFO: \n", 
                "# Is Required: False \n", 
                "# Type: ENUM \n", 
                "# Cardinality: 1.1 \n", 
                "\n", 
                "# PROPERTY ID - DO NOT EDIT !  \n", 
                "DOC.set_id('cmip6.atmosphere.gravity_waves.background')  \n", 
                "\n", 
                "# PROPERTY QUALITY CONTROL:  \n", 
                "# 0=draft, 1=in-review, 2=reviewed  \n", 
                "DOC.set_qc_status(0)  \n", 
                "\n", 
                "# PROPERTY VALUE: \n", 
                "# Set as follows: DOC.set_value(value)  \n", 
                "# Choices: \n", 
                "#      'continuous spectrum'  \n", 
                "#      'discrete spectrum'  \n", 
                "#      'Other: [Please specify]'  \n", 
                "# TODO"
            ], 
            "outputs": [], 
            "metadata": {
                "collapsed": true
            }
        }, 
        {
            "source": [
                "### 25.3. Subgrid Scale Orography\n", 
                " *Subgrid scale orography effects taken into account.*"
            ], 
            "cell_type": "markdown", 
            "metadata": {}
        }, 
        {
            "execution_count": null, 
            "cell_type": "code", 
            "source": [
                "# PROPERTY INFO: \n", 
                "# Is Required: False \n", 
                "# Type: ENUM \n", 
                "# Cardinality: 1.N \n", 
                "\n", 
                "# PROPERTY ID - DO NOT EDIT !  \n", 
                "DOC.set_id('cmip6.atmosphere.gravity_waves.subgrid_scale_orography')  \n", 
                "\n", 
                "# PROPERTY QUALITY CONTROL:  \n", 
                "# 0=draft, 1=in-review, 2=reviewed  \n", 
                "DOC.set_qc_status(0)  \n", 
                "\n", 
                "# PROPERTY VALUE(S): \n", 
                "# Set as follows: DOC.set_value(value)  \n", 
                "# Choices: \n", 
                "#      'effect on drag'  \n", 
                "#      'effect on lifting'  \n", 
                "#      'enhanced topography'  \n", 
                "#      'Other: [Please specify]'  \n", 
                "# TODO"
            ], 
            "outputs": [], 
            "metadata": {
                "collapsed": true
            }
        }, 
        {
            "source": [
                "# 26. Gravity Waves --&gt; Orographic Gravity Waves  \n", 
                "*Gravity waves generated due to the presence of orography*"
            ], 
            "cell_type": "markdown", 
            "metadata": {}
        }, 
        {
            "source": [
                "### 26.1. Source Mechanisms\n", 
                " *Orographic gravity wave source mechanisms*"
            ], 
            "cell_type": "markdown", 
            "metadata": {}
        }, 
        {
            "execution_count": null, 
            "cell_type": "code", 
            "source": [
                "# PROPERTY INFO: \n", 
                "# Is Required: False \n", 
                "# Type: ENUM \n", 
                "# Cardinality: 1.N \n", 
                "\n", 
                "# PROPERTY ID - DO NOT EDIT !  \n", 
                "DOC.set_id('cmip6.atmosphere.gravity_waves.orographic_gravity_waves.source_mechanisms')  \n", 
                "\n", 
                "# PROPERTY QUALITY CONTROL:  \n", 
                "# 0=draft, 1=in-review, 2=reviewed  \n", 
                "DOC.set_qc_status(0)  \n", 
                "\n", 
                "# PROPERTY VALUE(S): \n", 
                "# Set as follows: DOC.set_value(value)  \n", 
                "# Choices: \n", 
                "#      'linear mountain waves'  \n", 
                "#      'hydraulic jump'  \n", 
                "#      'envelope orography'  \n", 
                "#      'low level flow blocking'  \n", 
                "#      'statistical sub-grid scale variance'  \n", 
                "#      'Other: [Please specify]'  \n", 
                "# TODO"
            ], 
            "outputs": [], 
            "metadata": {
                "collapsed": true
            }
        }, 
        {
            "source": [
                "### 26.2. Calculation Method\n", 
                " *Orographic gravity wave calculation method*"
            ], 
            "cell_type": "markdown", 
            "metadata": {}
        }, 
        {
            "execution_count": null, 
            "cell_type": "code", 
            "source": [
                "# PROPERTY INFO: \n", 
                "# Is Required: False \n", 
                "# Type: ENUM \n", 
                "# Cardinality: 1.N \n", 
                "\n", 
                "# PROPERTY ID - DO NOT EDIT !  \n", 
                "DOC.set_id('cmip6.atmosphere.gravity_waves.orographic_gravity_waves.calculation_method')  \n", 
                "\n", 
                "# PROPERTY QUALITY CONTROL:  \n", 
                "# 0=draft, 1=in-review, 2=reviewed  \n", 
                "DOC.set_qc_status(0)  \n", 
                "\n", 
                "# PROPERTY VALUE(S): \n", 
                "# Set as follows: DOC.set_value(value)  \n", 
                "# Choices: \n", 
                "#      'non-linear calculation'  \n", 
                "#      'more than two cardinal directions'  \n", 
                "#      'Other: [Please specify]'  \n", 
                "# TODO"
            ], 
            "outputs": [], 
            "metadata": {
                "collapsed": true
            }
        }, 
        {
            "source": [
                "### 26.3. Propagation Scheme\n", 
                " *Orographic gravity wave propogation scheme*"
            ], 
            "cell_type": "markdown", 
            "metadata": {}
        }, 
        {
            "execution_count": null, 
            "cell_type": "code", 
            "source": [
                "# PROPERTY INFO: \n", 
                "# Is Required: False \n", 
                "# Type: ENUM \n", 
                "# Cardinality: 1.1 \n", 
                "\n", 
                "# PROPERTY ID - DO NOT EDIT !  \n", 
                "DOC.set_id('cmip6.atmosphere.gravity_waves.orographic_gravity_waves.propagation_scheme')  \n", 
                "\n", 
                "# PROPERTY QUALITY CONTROL:  \n", 
                "# 0=draft, 1=in-review, 2=reviewed  \n", 
                "DOC.set_qc_status(0)  \n", 
                "\n", 
                "# PROPERTY VALUE: \n", 
                "# Set as follows: DOC.set_value(value)  \n", 
                "# Choices: \n", 
                "#      'linear theory'  \n", 
                "#      'non-linear theory'  \n", 
                "#      'Other: [Please specify]'  \n", 
                "# TODO"
            ], 
            "outputs": [], 
            "metadata": {
                "collapsed": true
            }
        }, 
        {
            "source": [
                "### 26.4. Dissipation Scheme\n", 
                " *Orographic gravity wave dissipation scheme*"
            ], 
            "cell_type": "markdown", 
            "metadata": {}
        }, 
        {
            "execution_count": null, 
            "cell_type": "code", 
            "source": [
                "# PROPERTY INFO: \n", 
                "# Is Required: False \n", 
                "# Type: ENUM \n", 
                "# Cardinality: 1.1 \n", 
                "\n", 
                "# PROPERTY ID - DO NOT EDIT !  \n", 
                "DOC.set_id('cmip6.atmosphere.gravity_waves.orographic_gravity_waves.dissipation_scheme')  \n", 
                "\n", 
                "# PROPERTY QUALITY CONTROL:  \n", 
                "# 0=draft, 1=in-review, 2=reviewed  \n", 
                "DOC.set_qc_status(0)  \n", 
                "\n", 
                "# PROPERTY VALUE: \n", 
                "# Set as follows: DOC.set_value(value)  \n", 
                "# Choices: \n", 
                "#      'total wave'  \n", 
                "#      'single wave'  \n", 
                "#      'spectral'  \n", 
                "#      'linear'  \n", 
                "#      'Other: [Please specify]'  \n", 
                "# TODO"
            ], 
            "outputs": [], 
            "metadata": {
                "collapsed": true
            }
        }, 
        {
            "source": [
                "# 27. Gravity Waves --&gt; Non Orographic Gravity Waves  \n", 
                "*Gravity waves generated by non-orographic processes.*"
            ], 
            "cell_type": "markdown", 
            "metadata": {}
        }, 
        {
            "source": [
                "### 27.1. Source Mechanisms\n", 
                " *Non-orographic gravity wave source mechanisms*"
            ], 
            "cell_type": "markdown", 
            "metadata": {}
        }, 
        {
            "execution_count": null, 
            "cell_type": "code", 
            "source": [
                "# PROPERTY INFO: \n", 
                "# Is Required: False \n", 
                "# Type: ENUM \n", 
                "# Cardinality: 1.N \n", 
                "\n", 
                "# PROPERTY ID - DO NOT EDIT !  \n", 
                "DOC.set_id('cmip6.atmosphere.gravity_waves.non_orographic_gravity_waves.source_mechanisms')  \n", 
                "\n", 
                "# PROPERTY QUALITY CONTROL:  \n", 
                "# 0=draft, 1=in-review, 2=reviewed  \n", 
                "DOC.set_qc_status(0)  \n", 
                "\n", 
                "# PROPERTY VALUE(S): \n", 
                "# Set as follows: DOC.set_value(value)  \n", 
                "# Choices: \n", 
                "#      'convection'  \n", 
                "#      'precipitation'  \n", 
                "#      'background spectrum'  \n", 
                "#      'Other: [Please specify]'  \n", 
                "# TODO"
            ], 
            "outputs": [], 
            "metadata": {
                "collapsed": true
            }
        }, 
        {
            "source": [
                "### 27.2. Calculation Method\n", 
                " *Non-orographic gravity wave calculation method*"
            ], 
            "cell_type": "markdown", 
            "metadata": {}
        }, 
        {
            "execution_count": null, 
            "cell_type": "code", 
            "source": [
                "# PROPERTY INFO: \n", 
                "# Is Required: False \n", 
                "# Type: ENUM \n", 
                "# Cardinality: 1.N \n", 
                "\n", 
                "# PROPERTY ID - DO NOT EDIT !  \n", 
                "DOC.set_id('cmip6.atmosphere.gravity_waves.non_orographic_gravity_waves.calculation_method')  \n", 
                "\n", 
                "# PROPERTY QUALITY CONTROL:  \n", 
                "# 0=draft, 1=in-review, 2=reviewed  \n", 
                "DOC.set_qc_status(0)  \n", 
                "\n", 
                "# PROPERTY VALUE(S): \n", 
                "# Set as follows: DOC.set_value(value)  \n", 
                "# Choices: \n", 
                "#      'spatially dependent'  \n", 
                "#      'temporally dependent'  \n", 
                "# TODO"
            ], 
            "outputs": [], 
            "metadata": {
                "collapsed": true
            }
        }, 
        {
            "source": [
                "### 27.3. Propagation Scheme\n", 
                " *Non-orographic gravity wave propogation scheme*"
            ], 
            "cell_type": "markdown", 
            "metadata": {}
        }, 
        {
            "execution_count": null, 
            "cell_type": "code", 
            "source": [
                "# PROPERTY INFO: \n", 
                "# Is Required: False \n", 
                "# Type: ENUM \n", 
                "# Cardinality: 1.1 \n", 
                "\n", 
                "# PROPERTY ID - DO NOT EDIT !  \n", 
                "DOC.set_id('cmip6.atmosphere.gravity_waves.non_orographic_gravity_waves.propagation_scheme')  \n", 
                "\n", 
                "# PROPERTY QUALITY CONTROL:  \n", 
                "# 0=draft, 1=in-review, 2=reviewed  \n", 
                "DOC.set_qc_status(0)  \n", 
                "\n", 
                "# PROPERTY VALUE: \n", 
                "# Set as follows: DOC.set_value(value)  \n", 
                "# Choices: \n", 
                "#      'linear theory'  \n", 
                "#      'non-linear theory'  \n", 
                "#      'Other: [Please specify]'  \n", 
                "# TODO"
            ], 
            "outputs": [], 
            "metadata": {
                "collapsed": true
            }
        }, 
        {
            "source": [
                "### 27.4. Dissipation Scheme\n", 
                " *Non-orographic gravity wave dissipation scheme*"
            ], 
            "cell_type": "markdown", 
            "metadata": {}
        }, 
        {
            "execution_count": null, 
            "cell_type": "code", 
            "source": [
                "# PROPERTY INFO: \n", 
                "# Is Required: False \n", 
                "# Type: ENUM \n", 
                "# Cardinality: 1.1 \n", 
                "\n", 
                "# PROPERTY ID - DO NOT EDIT !  \n", 
                "DOC.set_id('cmip6.atmosphere.gravity_waves.non_orographic_gravity_waves.dissipation_scheme')  \n", 
                "\n", 
                "# PROPERTY QUALITY CONTROL:  \n", 
                "# 0=draft, 1=in-review, 2=reviewed  \n", 
                "DOC.set_qc_status(0)  \n", 
                "\n", 
                "# PROPERTY VALUE: \n", 
                "# Set as follows: DOC.set_value(value)  \n", 
                "# Choices: \n", 
                "#      'total wave'  \n", 
                "#      'single wave'  \n", 
                "#      'spectral'  \n", 
                "#      'linear'  \n", 
                "#      'Other: [Please specify]'  \n", 
                "# TODO"
            ], 
            "outputs": [], 
            "metadata": {
                "collapsed": true
            }
        }, 
        {
            "source": [
                "# 28. Solar --&gt; Solar Pathways  \n", 
                "*Pathways for solar forcing of the atmosphere*"
            ], 
            "cell_type": "markdown", 
            "metadata": {}
        }, 
        {
            "source": [
                "### 28.1. Pathways\n", 
                " *Pathways for the solar forcing of the atmosphere model domain*"
            ], 
            "cell_type": "markdown", 
            "metadata": {}
        }, 
        {
            "execution_count": null, 
            "cell_type": "code", 
            "source": [
                "# PROPERTY INFO: \n", 
                "# Is Required: False \n", 
                "# Type: ENUM \n", 
                "# Cardinality: 1.N \n", 
                "\n", 
                "# PROPERTY ID - DO NOT EDIT !  \n", 
                "DOC.set_id('cmip6.atmosphere.solar.solar_pathways.pathways')  \n", 
                "\n", 
                "# PROPERTY QUALITY CONTROL:  \n", 
                "# 0=draft, 1=in-review, 2=reviewed  \n", 
                "DOC.set_qc_status(0)  \n", 
                "\n", 
                "# PROPERTY VALUE(S): \n", 
                "# Set as follows: DOC.set_value(value)  \n", 
                "# Choices: \n", 
                "#      'SW radiation'  \n", 
                "#      'precipitating energetic particles'  \n", 
                "#      'cosmic rays'  \n", 
                "#      'Other: [Please specify]'  \n", 
                "# TODO"
            ], 
            "outputs": [], 
            "metadata": {
                "collapsed": true
            }
        }, 
        {
            "source": [
                "# 29. Solar --&gt; Solar Constant  \n", 
                "*Solar constant and top of atmosphere insolation characteristics*"
            ], 
            "cell_type": "markdown", 
            "metadata": {}
        }, 
        {
            "source": [
                "### 29.1. Type\n", 
                " *Time adaptation of the solar constant.*"
            ], 
            "cell_type": "markdown", 
            "metadata": {}
        }, 
        {
            "execution_count": null, 
            "cell_type": "code", 
            "source": [
                "# PROPERTY INFO: \n", 
                "# Is Required: False \n", 
                "# Type: ENUM \n", 
                "# Cardinality: 1.1 \n", 
                "\n", 
                "# PROPERTY ID - DO NOT EDIT !  \n", 
                "DOC.set_id('cmip6.atmosphere.solar.solar_constant.type')  \n", 
                "\n", 
                "# PROPERTY QUALITY CONTROL:  \n", 
                "# 0=draft, 1=in-review, 2=reviewed  \n", 
                "DOC.set_qc_status(0)  \n", 
                "\n", 
                "# PROPERTY VALUE: \n", 
                "# Set as follows: DOC.set_value(value)  \n", 
                "# Choices: \n", 
                "#      'fixed'  \n", 
                "#      'transient'  \n", 
                "# TODO"
            ], 
            "outputs": [], 
            "metadata": {
                "collapsed": true
            }
        }, 
        {
            "source": [
                "### 29.2. Fixed Value\n", 
                " *If the solar constant is fixed, enter the value of the solar constant (W m-2).*"
            ], 
            "cell_type": "markdown", 
            "metadata": {}
        }, 
        {
            "execution_count": null, 
            "cell_type": "code", 
            "source": [
                "# PROPERTY INFO: \n", 
                "# Is Required: True \n", 
                "# Type: FLOAT \n", 
                "# Cardinality: 0.1 \n", 
                "\n", 
                "# PROPERTY ID - DO NOT EDIT !  \n", 
                "DOC.set_id('cmip6.atmosphere.solar.solar_constant.fixed_value')  \n", 
                "\n", 
                "# PROPERTY QUALITY CONTROL:  \n", 
                "# 0=draft, 1=in-review, 2=reviewed  \n", 
                "DOC.set_qc_status(0)  \n", 
                "\n", 
                "# PROPERTY VALUE: \n", 
                "# Set as follows: DOC.set_value(value)  \n", 
                "# TODO"
            ], 
            "outputs": [], 
            "metadata": {
                "collapsed": true
            }
        }, 
        {
            "source": [
                "### 29.3. Transient Characteristics\n", 
                " *solar constant transient characteristics (W m-2)*"
            ], 
            "cell_type": "markdown", 
            "metadata": {}
        }, 
        {
            "execution_count": null, 
            "cell_type": "code", 
            "source": [
                "# PROPERTY INFO: \n", 
                "# Is Required: False \n", 
                "# Type: STRING \n", 
                "# Cardinality: 1.1 \n", 
                "\n", 
                "# PROPERTY ID - DO NOT EDIT !  \n", 
                "DOC.set_id('cmip6.atmosphere.solar.solar_constant.transient_characteristics')  \n", 
                "\n", 
                "# PROPERTY QUALITY CONTROL:  \n", 
                "# 0=draft, 1=in-review, 2=reviewed  \n", 
                "DOC.set_qc_status(0)  \n", 
                "\n", 
                "# PROPERTY VALUE: \n", 
                "# Set as follows: DOC.set_value(value)  \n", 
                "# TODO"
            ], 
            "outputs": [], 
            "metadata": {
                "collapsed": true
            }
        }, 
        {
            "source": [
                "# 30. Solar --&gt; Orbital Parameters  \n", 
                "*Orbital parameters and top of atmosphere insolation characteristics*"
            ], 
            "cell_type": "markdown", 
            "metadata": {}
        }, 
        {
            "source": [
                "### 30.1. Type\n", 
                " *Time adaptation of orbital parameters*"
            ], 
            "cell_type": "markdown", 
            "metadata": {}
        }, 
        {
            "execution_count": null, 
            "cell_type": "code", 
            "source": [
                "# PROPERTY INFO: \n", 
                "# Is Required: False \n", 
                "# Type: ENUM \n", 
                "# Cardinality: 1.1 \n", 
                "\n", 
                "# PROPERTY ID - DO NOT EDIT !  \n", 
                "DOC.set_id('cmip6.atmosphere.solar.orbital_parameters.type')  \n", 
                "\n", 
                "# PROPERTY QUALITY CONTROL:  \n", 
                "# 0=draft, 1=in-review, 2=reviewed  \n", 
                "DOC.set_qc_status(0)  \n", 
                "\n", 
                "# PROPERTY VALUE: \n", 
                "# Set as follows: DOC.set_value(value)  \n", 
                "# Choices: \n", 
                "#      'fixed'  \n", 
                "#      'transient'  \n", 
                "# TODO"
            ], 
            "outputs": [], 
            "metadata": {
                "collapsed": true
            }
        }, 
        {
            "source": [
                "### 30.2. Fixed Reference Date\n", 
                " *Reference date for fixed orbital parameters (yyyy)*"
            ], 
            "cell_type": "markdown", 
            "metadata": {}
        }, 
        {
            "execution_count": null, 
            "cell_type": "code", 
            "source": [
                "# PROPERTY INFO: \n", 
                "# Is Required: False \n", 
                "# Type: INTEGER \n", 
                "# Cardinality: 1.1 \n", 
                "\n", 
                "# PROPERTY ID - DO NOT EDIT !  \n", 
                "DOC.set_id('cmip6.atmosphere.solar.orbital_parameters.fixed_reference_date')  \n", 
                "\n", 
                "# PROPERTY QUALITY CONTROL:  \n", 
                "# 0=draft, 1=in-review, 2=reviewed  \n", 
                "DOC.set_qc_status(0)  \n", 
                "\n", 
                "# PROPERTY VALUE: \n", 
                "# Set as follows: DOC.set_value(value)  \n", 
                "# TODO"
            ], 
            "outputs": [], 
            "metadata": {
                "collapsed": true
            }
        }, 
        {
            "source": [
                "### 30.3. Solar Constant Transient Characteristics\n", 
                " *Characteristics of transient orbital parameters*"
            ], 
            "cell_type": "markdown", 
            "metadata": {}
        }, 
        {
            "execution_count": null, 
            "cell_type": "code", 
            "source": [
                "# PROPERTY INFO: \n", 
                "# Is Required: False \n", 
                "# Type: STRING \n", 
                "# Cardinality: 1.1 \n", 
                "\n", 
                "# PROPERTY ID - DO NOT EDIT !  \n", 
                "DOC.set_id('cmip6.atmosphere.solar.orbital_parameters.solar_constant_transient_characteristics')  \n", 
                "\n", 
                "# PROPERTY QUALITY CONTROL:  \n", 
                "# 0=draft, 1=in-review, 2=reviewed  \n", 
                "DOC.set_qc_status(0)  \n", 
                "\n", 
                "# PROPERTY VALUE: \n", 
                "# Set as follows: DOC.set_value(value)  \n", 
                "# TODO"
            ], 
            "outputs": [], 
            "metadata": {
                "collapsed": true
            }
        }, 
        {
            "source": [
                "### 30.4. Computation Method\n", 
                " *Method used for computing orbital parameters.*"
            ], 
            "cell_type": "markdown", 
            "metadata": {}
        }, 
        {
            "execution_count": null, 
            "cell_type": "code", 
            "source": [
                "# PROPERTY INFO: \n", 
                "# Is Required: False \n", 
                "# Type: ENUM \n", 
                "# Cardinality: 1.1 \n", 
                "\n", 
                "# PROPERTY ID - DO NOT EDIT !  \n", 
                "DOC.set_id('cmip6.atmosphere.solar.orbital_parameters.computation_method')  \n", 
                "\n", 
                "# PROPERTY QUALITY CONTROL:  \n", 
                "# 0=draft, 1=in-review, 2=reviewed  \n", 
                "DOC.set_qc_status(0)  \n", 
                "\n", 
                "# PROPERTY VALUE: \n", 
                "# Set as follows: DOC.set_value(value)  \n", 
                "# Choices: \n", 
                "#      'Berger 1978'  \n", 
                "#      'Laskar 2004'  \n", 
                "#      'Other: [Please specify]'  \n", 
                "# TODO"
            ], 
            "outputs": [], 
            "metadata": {
                "collapsed": true
            }
        }, 
        {
            "source": [
                "# 31. Solar --&gt; Insolation Ozone  \n", 
                "*Impact of solar insolation on stratospheric ozone*"
            ], 
            "cell_type": "markdown", 
            "metadata": {}
        }, 
        {
            "source": [
                "### 31.1. Solar Ozone Impact\n", 
                " *Does top of atmosphere insolation impact on stratospheric ozone?*"
            ], 
            "cell_type": "markdown", 
            "metadata": {}
        }, 
        {
            "execution_count": null, 
            "cell_type": "code", 
            "source": [
                "# PROPERTY INFO: \n", 
                "# Is Required: False \n", 
                "# Type: BOOLEAN \n", 
                "# Cardinality: 1.1 \n", 
                "\n", 
                "# PROPERTY ID - DO NOT EDIT !  \n", 
                "DOC.set_id('cmip6.atmosphere.solar.insolation_ozone.solar_ozone_impact')  \n", 
                "\n", 
                "# PROPERTY QUALITY CONTROL:  \n", 
                "# 0=draft, 1=in-review, 2=reviewed  \n", 
                "DOC.set_qc_status(0)  \n", 
                "\n", 
                "# PROPERTY VALUE: \n", 
                "# Set as follows: DOC.set_value(value)  \n", 
                "# Choices: \n", 
                "#     True  \n", 
                "#     False  \n", 
                "# TODO"
            ], 
            "outputs": [], 
            "metadata": {
                "collapsed": true
            }
        }, 
        {
            "source": [
                "# 32. Volcanos --&gt; Volcanoes Treatment  \n", 
                "*Treatment of volcanoes in the atmosphere*"
            ], 
            "cell_type": "markdown", 
            "metadata": {}
        }, 
        {
            "source": [
                "### 32.1. Volcanoes Implementation\n", 
                " *How volcanic effects are modeled in the atmosphere.*"
            ], 
            "cell_type": "markdown", 
            "metadata": {}
        }, 
        {
            "execution_count": null, 
            "cell_type": "code", 
            "source": [
                "# PROPERTY INFO: \n", 
                "# Is Required: False \n", 
                "# Type: ENUM \n", 
                "# Cardinality: 1.1 \n", 
                "\n", 
                "# PROPERTY ID - DO NOT EDIT !  \n", 
                "DOC.set_id('cmip6.atmosphere.volcanos.volcanoes_treatment.volcanoes_implementation')  \n", 
                "\n", 
                "# PROPERTY QUALITY CONTROL:  \n", 
                "# 0=draft, 1=in-review, 2=reviewed  \n", 
                "DOC.set_qc_status(0)  \n", 
                "\n", 
                "# PROPERTY VALUE: \n", 
                "# Set as follows: DOC.set_value(value)  \n", 
                "# Choices: \n", 
                "#      'high frequency solar constant anomaly'  \n", 
                "#      'stratospheric aerosols optical thickness'  \n", 
                "#      'Other: [Please specify]'  \n", 
                "# TODO"
            ], 
            "outputs": [], 
            "metadata": {
                "collapsed": true
            }
        }, 
        {
            "source": [
                "# Finalization"
            ], 
            "cell_type": "markdown", 
            "metadata": {}
        }, 
        {
            "source": [
                "### Review Validation Report"
            ], 
            "cell_type": "markdown", 
            "metadata": {}
        }, 
        {
            "execution_count": null, 
            "cell_type": "code", 
            "source": [
                "# DO NOT EDIT !\n", 
                "# Validation errors will be listed below - FIX THEM !\n", 
                "DOC.list_errors()"
            ], 
            "outputs": [], 
            "metadata": {}
        }, 
        {
            "source": [
                "### Persist to File-System"
            ], 
            "cell_type": "markdown", 
            "metadata": {}
        }, 
        {
            "execution_count": null, 
            "cell_type": "code", 
            "source": [
                "# DO NOT EDIT !\n", 
                "try:\n", 
                "    DOC.persist(DOC)\n", 
                "except pyesdoc.NoteBookValidationError:\n", 
                "    print('!!! VALIDATION ERRORS MUST BE FIXED !!!')"
            ], 
            "outputs": [], 
            "metadata": {}
        }
    ], 
    "metadata": {
        "kernelspec": {
            "display_name": "Python 2", 
            "name": "python2", 
            "language": "python"
        }, 
        "language_info": {
            "mimetype": "text/x-python", 
            "nbconvert_exporter": "python", 
            "name": "python", 
            "file_extension": ".py", 
            "version": "2.7.10", 
            "pygments_lexer": "ipython2", 
            "codemirror_mode": {
                "version": 2, 
                "name": "ipython"
            }
        }
    }
}