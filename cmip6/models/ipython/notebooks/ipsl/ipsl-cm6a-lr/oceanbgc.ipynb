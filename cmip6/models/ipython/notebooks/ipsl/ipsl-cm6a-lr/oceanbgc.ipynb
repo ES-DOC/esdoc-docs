{
    "nbformat_minor": 0, 
    "nbformat": 4, 
    "cells": [
        {
            "source": [
                "# ES-DOC CMIP6 Model Realm Properties \n", 
                "**MIP Era**: CMIP6  \n", 
                "**Institute**: IPSL  \n", 
                "**Source ID**: IPSL-CM6A-LR  \n", 
                "**Realm**: Oceanbgc  \n", 
                "**Realm Processes**: Tracers.   \n", 
                "**Properties**: 49 (26 required, 23 optional)  \n", 
                "\n", 
                "**Notebook Help**: [Goto notebook help page](http://wordpress.es-doc.org/how-to-document-cmip6-models)  \n", 
                "**Notebook Initialised**: 2017-02-01 11:24:55"
            ], 
            "cell_type": "markdown", 
            "metadata": {}
        }, 
        {
            "source": [
                "### Document Setup  \n", 
                "**IMPORTANT:** *to be executed each time you run the notebook*  "
            ], 
            "cell_type": "markdown", 
            "metadata": {}
        }, 
        {
            "execution_count": null, 
            "cell_type": "code", 
            "source": [
                "# DO NOT EDIT !  \n", 
                "from pyesdoc.ipython.model_realm_properties import NotebookOutput  \n", 
                "\n", 
                "# DO NOT EDIT !  \n", 
                "DOC = NotebookOutput('cmip6', 'ipsl', 'ipsl-cm6a-lr', 'oceanbgc')"
            ], 
            "outputs": [], 
            "metadata": {}
        }, 
        {
            "source": [
                "### Realm Citations  \n", 
                "*Set realm citations*"
            ], 
            "cell_type": "markdown", 
            "metadata": {}
        }, 
        {
            "source": [
                "### Document Authors  \n", 
                "*Set document authors*"
            ], 
            "cell_type": "markdown", 
            "metadata": {}
        }, 
        {
            "execution_count": null, 
            "cell_type": "code", 
            "source": [
                "# Set as follows: DOC.set_author(\"name\", \"email\")  \n", 
                "# TODO"
            ], 
            "outputs": [], 
            "metadata": {}
        }, 
        {
            "source": [
                "### Document Contributors  \n", 
                "*Specify document contributors*  "
            ], 
            "cell_type": "markdown", 
            "metadata": {}
        }, 
        {
            "execution_count": null, 
            "cell_type": "code", 
            "source": [
                "# Set as follows: DOC.set_contributor(\"name\", \"email\")  \n", 
                "# TODO"
            ], 
            "outputs": [], 
            "metadata": {}
        }, 
        {
            "source": [
                "### Document Table of Contents  \n", 
                "[1. Key Properties](#1.-Key-Properties)  \n", 
                "[2. Key Properties --&gt; Time Stepping Framework --&gt; Passive Tracers Transport](#2.-Key-Properties---&gt;-Time-Stepping-Framework---&gt;-Passive-Tracers-Transport)  \n", 
                "[3. Key Properties --&gt; Time Stepping Framework --&gt; Biology Sources Sinks](#3.-Key-Properties---&gt;-Time-Stepping-Framework---&gt;-Biology-Sources-Sinks)  \n", 
                "[4. Key Properties --&gt; Transport Scheme](#4.-Key-Properties---&gt;-Transport-Scheme)  \n", 
                "[5. Key Properties --&gt; Boundary Forcing](#5.-Key-Properties---&gt;-Boundary-Forcing)  \n", 
                "[6. Key Properties --&gt; Gas Exchange](#6.-Key-Properties---&gt;-Gas-Exchange)  \n", 
                "[7. Key Properties --&gt; Carbon Chemistry](#7.-Key-Properties---&gt;-Carbon-Chemistry)  \n", 
                "[8. Tracers](#8.-Tracers)  \n", 
                "[9. Tracers --&gt; Ecosystem](#9.-Tracers---&gt;-Ecosystem)  \n", 
                "[10. Tracers --&gt; Ecosystem --&gt; Phytoplancton](#10.-Tracers---&gt;-Ecosystem---&gt;-Phytoplancton)  \n", 
                "[11. Tracers --&gt; Ecosystem --&gt; Zooplancton](#11.-Tracers---&gt;-Ecosystem---&gt;-Zooplancton)  \n", 
                "[12. Tracers --&gt; Disolved Organic Matter](#12.-Tracers---&gt;-Disolved-Organic-Matter)  \n", 
                "[13. Tracers --&gt; Particules](#13.-Tracers---&gt;-Particules)  \n", 
                "\n"
            ], 
            "cell_type": "markdown", 
            "metadata": {}
        }, 
        {
            "source": [
                "# 1. Key Properties  \n", 
                "*Ocean Biogeochemistry key properties*"
            ], 
            "cell_type": "markdown", 
            "metadata": {}
        }, 
        {
            "source": [
                "### 1.1. Model Name\n", 
                " *Name of ocean biogeochemistry model code (PISCES 2.0,...)*\n", 
                "\n", 
                "**Is Required:** TRUE&nbsp;&nbsp;&nbsp;&nbsp;**Type:** STRING&nbsp;&nbsp;&nbsp;&nbsp;**Cardinality:** 1.1"
            ], 
            "cell_type": "markdown", 
            "metadata": {}
        }, 
        {
            "execution_count": null, 
            "cell_type": "code", 
            "source": [
                "# PROPERTY ID - DO NOT EDIT !  \n", 
                "DOC.set_id('cmip6.oceanbgc.key_properties.model_name')  \n", 
                "\n", 
                "# PROPERTY VALUE: \n", 
                "# Set as follows: DOC.set_value(\"value\")  \n", 
                "# TODO\n", 
                "\n", 
                "# PROPERTY QUALITY CONTROL STATUS:  \n", 
                "# 0=draft, 1=in-review, 2=reviewed  \n", 
                "DOC.set_qc_status(0)"
            ], 
            "outputs": [], 
            "metadata": {
                "collapsed": true
            }
        }, 
        {
            "source": [
                "### 1.2. Model Family\n", 
                " *Type of ocean biogeochemistry model*\n", 
                "\n", 
                "**Is Required:** TRUE&nbsp;&nbsp;&nbsp;&nbsp;**Type:** STRING&nbsp;&nbsp;&nbsp;&nbsp;**Cardinality:** 1.1"
            ], 
            "cell_type": "markdown", 
            "metadata": {}
        }, 
        {
            "execution_count": null, 
            "cell_type": "code", 
            "source": [
                "# PROPERTY ID - DO NOT EDIT !  \n", 
                "DOC.set_id('cmip6.oceanbgc.key_properties.model_family')  \n", 
                "\n", 
                "# PROPERTY VALUE: \n", 
                "# Set as follows: DOC.set_value(\"value\")  \n", 
                "# TODO\n", 
                "\n", 
                "# PROPERTY QUALITY CONTROL STATUS:  \n", 
                "# 0=draft, 1=in-review, 2=reviewed  \n", 
                "DOC.set_qc_status(0)"
            ], 
            "outputs": [], 
            "metadata": {
                "collapsed": true
            }
        }, 
        {
            "source": [
                "### 1.3. Basic Approximations\n", 
                " *Basic approximations made in the ocean biogeochemistry*\n", 
                "\n", 
                "**Is Required:** TRUE&nbsp;&nbsp;&nbsp;&nbsp;**Type:** STRING&nbsp;&nbsp;&nbsp;&nbsp;**Cardinality:** 1.1"
            ], 
            "cell_type": "markdown", 
            "metadata": {}
        }, 
        {
            "execution_count": null, 
            "cell_type": "code", 
            "source": [
                "# PROPERTY ID - DO NOT EDIT !  \n", 
                "DOC.set_id('cmip6.oceanbgc.key_properties.basic_approximations')  \n", 
                "\n", 
                "# PROPERTY VALUE: \n", 
                "# Set as follows: DOC.set_value(\"value\")  \n", 
                "# TODO\n", 
                "\n", 
                "# PROPERTY QUALITY CONTROL STATUS:  \n", 
                "# 0=draft, 1=in-review, 2=reviewed  \n", 
                "DOC.set_qc_status(0)"
            ], 
            "outputs": [], 
            "metadata": {
                "collapsed": true
            }
        }, 
        {
            "source": [
                "### 1.4. Prognostic Variables\n", 
                " *List of prognostic variables in the ocean biogeochemistry component*\n", 
                "\n", 
                "**Is Required:** TRUE&nbsp;&nbsp;&nbsp;&nbsp;**Type:** STRING&nbsp;&nbsp;&nbsp;&nbsp;**Cardinality:** 1.N"
            ], 
            "cell_type": "markdown", 
            "metadata": {}
        }, 
        {
            "execution_count": null, 
            "cell_type": "code", 
            "source": [
                "# PROPERTY ID - DO NOT EDIT !  \n", 
                "DOC.set_id('cmip6.oceanbgc.key_properties.prognostic_variables')  \n", 
                "\n", 
                "# PROPERTY VALUE(S): \n", 
                "# Set as follows: DOC.set_value(\"value\")  \n", 
                "# TODO\n", 
                "\n", 
                "# PROPERTY QUALITY CONTROL STATUS:  \n", 
                "# 0=draft, 1=in-review, 2=reviewed  \n", 
                "DOC.set_qc_status(0)"
            ], 
            "outputs": [], 
            "metadata": {
                "collapsed": true
            }
        }, 
        {
            "source": [
                "### 1.5. Damping\n", 
                " *Describe any tracer damping used*\n", 
                "\n", 
                "**Is Required:** FALSE&nbsp;&nbsp;&nbsp;&nbsp;**Type:** STRING&nbsp;&nbsp;&nbsp;&nbsp;**Cardinality:** 0.1"
            ], 
            "cell_type": "markdown", 
            "metadata": {}
        }, 
        {
            "execution_count": null, 
            "cell_type": "code", 
            "source": [
                "# PROPERTY ID - DO NOT EDIT !  \n", 
                "DOC.set_id('cmip6.oceanbgc.key_properties.damping')  \n", 
                "\n", 
                "# PROPERTY VALUE: \n", 
                "# Set as follows: DOC.set_value(\"value\")  \n", 
                "# TODO\n", 
                "\n", 
                "# PROPERTY QUALITY CONTROL STATUS:  \n", 
                "# 0=draft, 1=in-review, 2=reviewed  \n", 
                "DOC.set_qc_status(0)"
            ], 
            "outputs": [], 
            "metadata": {
                "collapsed": true
            }
        }, 
        {
            "source": [
                "# 2. Key Properties --&gt; Time Stepping Framework --&gt; Passive Tracers Transport  \n", 
                "*Time stepping method for passive tracers transport in ocean biogeochemistry*"
            ], 
            "cell_type": "markdown", 
            "metadata": {}
        }, 
        {
            "source": [
                "### 2.1. Passive Tracers Transport Method\n", 
                " *Time stepping framework for passive tracers*\n", 
                "\n", 
                "**Is Required:** TRUE&nbsp;&nbsp;&nbsp;&nbsp;**Type:** ENUM&nbsp;&nbsp;&nbsp;&nbsp;**Cardinality:** 1.1"
            ], 
            "cell_type": "markdown", 
            "metadata": {}
        }, 
        {
            "execution_count": null, 
            "cell_type": "code", 
            "source": [
                "# PROPERTY ID - DO NOT EDIT !  \n", 
                "DOC.set_id('cmip6.oceanbgc.key_properties.time_stepping_framework.passive_tracers_transport.passive_tracers_transport_method')  \n", 
                "\n", 
                "# PROPERTY VALUE: \n", 
                "# Set as follows: DOC.set_value(\"value\")  \n", 
                "# Valid Choices: \n", 
                "#      \"use ocesn model transport time step\"  \n", 
                "#      \"use specific time step\"  \n", 
                "# TODO\n", 
                "\n", 
                "# PROPERTY QUALITY CONTROL STATUS:  \n", 
                "# 0=draft, 1=in-review, 2=reviewed  \n", 
                "DOC.set_qc_status(0)"
            ], 
            "outputs": [], 
            "metadata": {
                "collapsed": true
            }
        }, 
        {
            "source": [
                "### 2.2. Passive Tracers Timestep\n", 
                " *Time step for passive tracers (if different from ocean)*\n", 
                "\n", 
                "**Is Required:** FALSE&nbsp;&nbsp;&nbsp;&nbsp;**Type:** INTEGER&nbsp;&nbsp;&nbsp;&nbsp;**Cardinality:** 0.1"
            ], 
            "cell_type": "markdown", 
            "metadata": {}
        }, 
        {
            "execution_count": null, 
            "cell_type": "code", 
            "source": [
                "# PROPERTY ID - DO NOT EDIT !  \n", 
                "DOC.set_id('cmip6.oceanbgc.key_properties.time_stepping_framework.passive_tracers_transport.passive_tracers_timestep')  \n", 
                "\n", 
                "# PROPERTY VALUE: \n", 
                "# Set as follows: DOC.set_value(value)  \n", 
                "# TODO\n", 
                "\n", 
                "# PROPERTY QUALITY CONTROL STATUS:  \n", 
                "# 0=draft, 1=in-review, 2=reviewed  \n", 
                "DOC.set_qc_status(0)"
            ], 
            "outputs": [], 
            "metadata": {
                "collapsed": true
            }
        }, 
        {
            "source": [
                "# 3. Key Properties --&gt; Time Stepping Framework --&gt; Biology Sources Sinks  \n", 
                "*Time stepping framework for biology sources and sinks in ocean biogeochemistry*"
            ], 
            "cell_type": "markdown", 
            "metadata": {}
        }, 
        {
            "source": [
                "### 3.1. Biology Sources Sinks Transport Method\n", 
                " *Time stepping framework for biology sources and sinks*\n", 
                "\n", 
                "**Is Required:** TRUE&nbsp;&nbsp;&nbsp;&nbsp;**Type:** ENUM&nbsp;&nbsp;&nbsp;&nbsp;**Cardinality:** 1.1"
            ], 
            "cell_type": "markdown", 
            "metadata": {}
        }, 
        {
            "execution_count": null, 
            "cell_type": "code", 
            "source": [
                "# PROPERTY ID - DO NOT EDIT !  \n", 
                "DOC.set_id('cmip6.oceanbgc.key_properties.time_stepping_framework.biology_sources_sinks.biology_sources_sinks_transport_method')  \n", 
                "\n", 
                "# PROPERTY VALUE: \n", 
                "# Set as follows: DOC.set_value(\"value\")  \n", 
                "# Valid Choices: \n", 
                "#      \"use ocesn model transport time step\"  \n", 
                "#      \"use specific time step\"  \n", 
                "# TODO\n", 
                "\n", 
                "# PROPERTY QUALITY CONTROL STATUS:  \n", 
                "# 0=draft, 1=in-review, 2=reviewed  \n", 
                "DOC.set_qc_status(0)"
            ], 
            "outputs": [], 
            "metadata": {
                "collapsed": true
            }
        }, 
        {
            "source": [
                "### 3.2. Passive Tracers Timestep\n", 
                " *Time step for biology sources and sinks (if different from ocean)*\n", 
                "\n", 
                "**Is Required:** FALSE&nbsp;&nbsp;&nbsp;&nbsp;**Type:** INTEGER&nbsp;&nbsp;&nbsp;&nbsp;**Cardinality:** 0.1"
            ], 
            "cell_type": "markdown", 
            "metadata": {}
        }, 
        {
            "execution_count": null, 
            "cell_type": "code", 
            "source": [
                "# PROPERTY ID - DO NOT EDIT !  \n", 
                "DOC.set_id('cmip6.oceanbgc.key_properties.time_stepping_framework.biology_sources_sinks.passive_tracers_timestep')  \n", 
                "\n", 
                "# PROPERTY VALUE: \n", 
                "# Set as follows: DOC.set_value(value)  \n", 
                "# TODO\n", 
                "\n", 
                "# PROPERTY QUALITY CONTROL STATUS:  \n", 
                "# 0=draft, 1=in-review, 2=reviewed  \n", 
                "DOC.set_qc_status(0)"
            ], 
            "outputs": [], 
            "metadata": {
                "collapsed": true
            }
        }, 
        {
            "source": [
                "# 4. Key Properties --&gt; Transport Scheme  \n", 
                "*Transport scheme in ocean biogeochemistry*"
            ], 
            "cell_type": "markdown", 
            "metadata": {}
        }, 
        {
            "source": [
                "### 4.1. Type\n", 
                " *Type of transport scheme*\n", 
                "\n", 
                "**Is Required:** TRUE&nbsp;&nbsp;&nbsp;&nbsp;**Type:** ENUM&nbsp;&nbsp;&nbsp;&nbsp;**Cardinality:** 1.1"
            ], 
            "cell_type": "markdown", 
            "metadata": {}
        }, 
        {
            "execution_count": null, 
            "cell_type": "code", 
            "source": [
                "# PROPERTY ID - DO NOT EDIT !  \n", 
                "DOC.set_id('cmip6.oceanbgc.key_properties.transport_scheme.type')  \n", 
                "\n", 
                "# PROPERTY VALUE: \n", 
                "# Set as follows: DOC.set_value(\"value\")  \n", 
                "# Valid Choices: \n", 
                "#      \"Offline\"  \n", 
                "#      \"Online\"  \n", 
                "# TODO\n", 
                "\n", 
                "# PROPERTY QUALITY CONTROL STATUS:  \n", 
                "# 0=draft, 1=in-review, 2=reviewed  \n", 
                "DOC.set_qc_status(0)"
            ], 
            "outputs": [], 
            "metadata": {
                "collapsed": true
            }
        }, 
        {
            "source": [
                "### 4.2. Scheme\n", 
                " *Is transport scheme same as that of ocean model ?*\n", 
                "\n", 
                "**Is Required:** TRUE&nbsp;&nbsp;&nbsp;&nbsp;**Type:** BOOLEAN&nbsp;&nbsp;&nbsp;&nbsp;**Cardinality:** 1.1"
            ], 
            "cell_type": "markdown", 
            "metadata": {}
        }, 
        {
            "execution_count": null, 
            "cell_type": "code", 
            "source": [
                "# PROPERTY ID - DO NOT EDIT !  \n", 
                "DOC.set_id('cmip6.oceanbgc.key_properties.transport_scheme.scheme')  \n", 
                "\n", 
                "# PROPERTY VALUE: \n", 
                "# Set as follows: DOC.set_value(value)  \n", 
                "# Valid Choices: \n", 
                "#     True  \n", 
                "#     False  \n", 
                "# TODO\n", 
                "\n", 
                "# PROPERTY QUALITY CONTROL STATUS:  \n", 
                "# 0=draft, 1=in-review, 2=reviewed  \n", 
                "DOC.set_qc_status(0)"
            ], 
            "outputs": [], 
            "metadata": {
                "collapsed": true
            }
        }, 
        {
            "source": [
                "### 4.3. Different Scheme\n", 
                " *Decribe transport scheme if differen than that of ocean model*\n", 
                "\n", 
                "**Is Required:** FALSE&nbsp;&nbsp;&nbsp;&nbsp;**Type:** STRING&nbsp;&nbsp;&nbsp;&nbsp;**Cardinality:** 0.1"
            ], 
            "cell_type": "markdown", 
            "metadata": {}
        }, 
        {
            "execution_count": null, 
            "cell_type": "code", 
            "source": [
                "# PROPERTY ID - DO NOT EDIT !  \n", 
                "DOC.set_id('cmip6.oceanbgc.key_properties.transport_scheme.different_scheme')  \n", 
                "\n", 
                "# PROPERTY VALUE: \n", 
                "# Set as follows: DOC.set_value(\"value\")  \n", 
                "# TODO\n", 
                "\n", 
                "# PROPERTY QUALITY CONTROL STATUS:  \n", 
                "# 0=draft, 1=in-review, 2=reviewed  \n", 
                "DOC.set_qc_status(0)"
            ], 
            "outputs": [], 
            "metadata": {
                "collapsed": true
            }
        }, 
        {
            "source": [
                "# 5. Key Properties --&gt; Boundary Forcing  \n", 
                "*Properties of biogeochemistry boundary forcing*"
            ], 
            "cell_type": "markdown", 
            "metadata": {}
        }, 
        {
            "source": [
                "### 5.1. Atmospheric Deposition\n", 
                " *Describe how atmospheric deposition is modeled*\n", 
                "\n", 
                "**Is Required:** TRUE&nbsp;&nbsp;&nbsp;&nbsp;**Type:** ENUM&nbsp;&nbsp;&nbsp;&nbsp;**Cardinality:** 1.1"
            ], 
            "cell_type": "markdown", 
            "metadata": {}
        }, 
        {
            "execution_count": null, 
            "cell_type": "code", 
            "source": [
                "# PROPERTY ID - DO NOT EDIT !  \n", 
                "DOC.set_id('cmip6.oceanbgc.key_properties.boundary_forcing.atmospheric_deposition')  \n", 
                "\n", 
                "# PROPERTY VALUE: \n", 
                "# Set as follows: DOC.set_value(\"value\")  \n", 
                "# Valid Choices: \n", 
                "#      \"from file\"  \n", 
                "#      \"from Atmospheric Chemistry model\"  \n", 
                "# TODO\n", 
                "\n", 
                "# PROPERTY QUALITY CONTROL STATUS:  \n", 
                "# 0=draft, 1=in-review, 2=reviewed  \n", 
                "DOC.set_qc_status(0)"
            ], 
            "outputs": [], 
            "metadata": {
                "collapsed": true
            }
        }, 
        {
            "source": [
                "### 5.2. River Input\n", 
                " *Describe how river input is modeled*\n", 
                "\n", 
                "**Is Required:** TRUE&nbsp;&nbsp;&nbsp;&nbsp;**Type:** ENUM&nbsp;&nbsp;&nbsp;&nbsp;**Cardinality:** 1.1"
            ], 
            "cell_type": "markdown", 
            "metadata": {}
        }, 
        {
            "execution_count": null, 
            "cell_type": "code", 
            "source": [
                "# PROPERTY ID - DO NOT EDIT !  \n", 
                "DOC.set_id('cmip6.oceanbgc.key_properties.boundary_forcing.river_input')  \n", 
                "\n", 
                "# PROPERTY VALUE: \n", 
                "# Set as follows: DOC.set_value(\"value\")  \n", 
                "# Valid Choices: \n", 
                "#      \"from file\"  \n", 
                "#      \"from Land Surface model\"  \n", 
                "# TODO\n", 
                "\n", 
                "# PROPERTY QUALITY CONTROL STATUS:  \n", 
                "# 0=draft, 1=in-review, 2=reviewed  \n", 
                "DOC.set_qc_status(0)"
            ], 
            "outputs": [], 
            "metadata": {
                "collapsed": true
            }
        }, 
        {
            "source": [
                "### 5.3. Sediment Boundary Conditions\n", 
                " *List which sediments are speficied from boundary condition*\n", 
                "\n", 
                "**Is Required:** FALSE&nbsp;&nbsp;&nbsp;&nbsp;**Type:** STRING&nbsp;&nbsp;&nbsp;&nbsp;**Cardinality:** 0.1"
            ], 
            "cell_type": "markdown", 
            "metadata": {}
        }, 
        {
            "execution_count": null, 
            "cell_type": "code", 
            "source": [
                "# PROPERTY ID - DO NOT EDIT !  \n", 
                "DOC.set_id('cmip6.oceanbgc.key_properties.boundary_forcing.sediment_boundary_conditions')  \n", 
                "\n", 
                "# PROPERTY VALUE: \n", 
                "# Set as follows: DOC.set_value(\"value\")  \n", 
                "# TODO\n", 
                "\n", 
                "# PROPERTY QUALITY CONTROL STATUS:  \n", 
                "# 0=draft, 1=in-review, 2=reviewed  \n", 
                "DOC.set_qc_status(0)"
            ], 
            "outputs": [], 
            "metadata": {
                "collapsed": true
            }
        }, 
        {
            "source": [
                "### 5.4. Sediment From Explicit Model\n", 
                " *List which sediments are speficied from explicit sediment model*\n", 
                "\n", 
                "**Is Required:** FALSE&nbsp;&nbsp;&nbsp;&nbsp;**Type:** STRING&nbsp;&nbsp;&nbsp;&nbsp;**Cardinality:** 0.1"
            ], 
            "cell_type": "markdown", 
            "metadata": {}
        }, 
        {
            "execution_count": null, 
            "cell_type": "code", 
            "source": [
                "# PROPERTY ID - DO NOT EDIT !  \n", 
                "DOC.set_id('cmip6.oceanbgc.key_properties.boundary_forcing.sediment_from_explicit_model')  \n", 
                "\n", 
                "# PROPERTY VALUE: \n", 
                "# Set as follows: DOC.set_value(\"value\")  \n", 
                "# TODO\n", 
                "\n", 
                "# PROPERTY QUALITY CONTROL STATUS:  \n", 
                "# 0=draft, 1=in-review, 2=reviewed  \n", 
                "DOC.set_qc_status(0)"
            ], 
            "outputs": [], 
            "metadata": {
                "collapsed": true
            }
        }, 
        {
            "source": [
                "# 6. Key Properties --&gt; Gas Exchange  \n", 
                "*Properties of gas exchange in ocean biogeochemistry *"
            ], 
            "cell_type": "markdown", 
            "metadata": {}
        }, 
        {
            "source": [
                "### 6.1. Co 2 Exchange\n", 
                " *Is CO2 gas exchange modeled ?*\n", 
                "\n", 
                "**Is Required:** TRUE&nbsp;&nbsp;&nbsp;&nbsp;**Type:** BOOLEAN&nbsp;&nbsp;&nbsp;&nbsp;**Cardinality:** 1.1"
            ], 
            "cell_type": "markdown", 
            "metadata": {}
        }, 
        {
            "execution_count": null, 
            "cell_type": "code", 
            "source": [
                "# PROPERTY ID - DO NOT EDIT !  \n", 
                "DOC.set_id('cmip6.oceanbgc.key_properties.gas_exchange.co2_exchange')  \n", 
                "\n", 
                "# PROPERTY VALUE: \n", 
                "# Set as follows: DOC.set_value(value)  \n", 
                "# Valid Choices: \n", 
                "#     True  \n", 
                "#     False  \n", 
                "# TODO\n", 
                "\n", 
                "# PROPERTY QUALITY CONTROL STATUS:  \n", 
                "# 0=draft, 1=in-review, 2=reviewed  \n", 
                "DOC.set_qc_status(0)"
            ], 
            "outputs": [], 
            "metadata": {
                "collapsed": true
            }
        }, 
        {
            "source": [
                "### 6.2. Co 2 Type\n", 
                " *Describe CO2 gas exchange*\n", 
                "\n", 
                "**Is Required:** FALSE&nbsp;&nbsp;&nbsp;&nbsp;**Type:** ENUM&nbsp;&nbsp;&nbsp;&nbsp;**Cardinality:** 0.1"
            ], 
            "cell_type": "markdown", 
            "metadata": {}
        }, 
        {
            "execution_count": null, 
            "cell_type": "code", 
            "source": [
                "# PROPERTY ID - DO NOT EDIT !  \n", 
                "DOC.set_id('cmip6.oceanbgc.key_properties.gas_exchange.co2_type')  \n", 
                "\n", 
                "# PROPERTY VALUE: \n", 
                "# Set as follows: DOC.set_value(\"value\")  \n", 
                "# Valid Choices: \n", 
                "#      \"OMIP protocol\"  \n", 
                "#      \"Other: [Please specify]\"  \n", 
                "# TODO\n", 
                "\n", 
                "# PROPERTY QUALITY CONTROL STATUS:  \n", 
                "# 0=draft, 1=in-review, 2=reviewed  \n", 
                "DOC.set_qc_status(0)"
            ], 
            "outputs": [], 
            "metadata": {
                "collapsed": true
            }
        }, 
        {
            "source": [
                "### 6.3. O 2 Exchange\n", 
                " *Is O2 gas exchange modeled ?*\n", 
                "\n", 
                "**Is Required:** TRUE&nbsp;&nbsp;&nbsp;&nbsp;**Type:** BOOLEAN&nbsp;&nbsp;&nbsp;&nbsp;**Cardinality:** 1.1"
            ], 
            "cell_type": "markdown", 
            "metadata": {}
        }, 
        {
            "execution_count": null, 
            "cell_type": "code", 
            "source": [
                "# PROPERTY ID - DO NOT EDIT !  \n", 
                "DOC.set_id('cmip6.oceanbgc.key_properties.gas_exchange.o2_exchange')  \n", 
                "\n", 
                "# PROPERTY VALUE: \n", 
                "# Set as follows: DOC.set_value(value)  \n", 
                "# Valid Choices: \n", 
                "#     True  \n", 
                "#     False  \n", 
                "# TODO\n", 
                "\n", 
                "# PROPERTY QUALITY CONTROL STATUS:  \n", 
                "# 0=draft, 1=in-review, 2=reviewed  \n", 
                "DOC.set_qc_status(0)"
            ], 
            "outputs": [], 
            "metadata": {
                "collapsed": true
            }
        }, 
        {
            "source": [
                "### 6.4. O 2 Type\n", 
                " *Describe O2 gas exchange*\n", 
                "\n", 
                "**Is Required:** FALSE&nbsp;&nbsp;&nbsp;&nbsp;**Type:** ENUM&nbsp;&nbsp;&nbsp;&nbsp;**Cardinality:** 0.1"
            ], 
            "cell_type": "markdown", 
            "metadata": {}
        }, 
        {
            "execution_count": null, 
            "cell_type": "code", 
            "source": [
                "# PROPERTY ID - DO NOT EDIT !  \n", 
                "DOC.set_id('cmip6.oceanbgc.key_properties.gas_exchange.o2_type')  \n", 
                "\n", 
                "# PROPERTY VALUE: \n", 
                "# Set as follows: DOC.set_value(\"value\")  \n", 
                "# Valid Choices: \n", 
                "#      \"OMIP protocol\"  \n", 
                "#      \"Other: [Please specify]\"  \n", 
                "# TODO\n", 
                "\n", 
                "# PROPERTY QUALITY CONTROL STATUS:  \n", 
                "# 0=draft, 1=in-review, 2=reviewed  \n", 
                "DOC.set_qc_status(0)"
            ], 
            "outputs": [], 
            "metadata": {
                "collapsed": true
            }
        }, 
        {
            "source": [
                "### 6.5. Dms Exchange\n", 
                " *Is DMS gas exchange modeled ?*\n", 
                "\n", 
                "**Is Required:** TRUE&nbsp;&nbsp;&nbsp;&nbsp;**Type:** BOOLEAN&nbsp;&nbsp;&nbsp;&nbsp;**Cardinality:** 1.1"
            ], 
            "cell_type": "markdown", 
            "metadata": {}
        }, 
        {
            "execution_count": null, 
            "cell_type": "code", 
            "source": [
                "# PROPERTY ID - DO NOT EDIT !  \n", 
                "DOC.set_id('cmip6.oceanbgc.key_properties.gas_exchange.dms_exchange')  \n", 
                "\n", 
                "# PROPERTY VALUE: \n", 
                "# Set as follows: DOC.set_value(value)  \n", 
                "# Valid Choices: \n", 
                "#     True  \n", 
                "#     False  \n", 
                "# TODO\n", 
                "\n", 
                "# PROPERTY QUALITY CONTROL STATUS:  \n", 
                "# 0=draft, 1=in-review, 2=reviewed  \n", 
                "DOC.set_qc_status(0)"
            ], 
            "outputs": [], 
            "metadata": {
                "collapsed": true
            }
        }, 
        {
            "source": [
                "### 6.6. Dms Type\n", 
                " *Specify DMS gas exchange scheme type*\n", 
                "\n", 
                "**Is Required:** FALSE&nbsp;&nbsp;&nbsp;&nbsp;**Type:** STRING&nbsp;&nbsp;&nbsp;&nbsp;**Cardinality:** 0.1"
            ], 
            "cell_type": "markdown", 
            "metadata": {}
        }, 
        {
            "execution_count": null, 
            "cell_type": "code", 
            "source": [
                "# PROPERTY ID - DO NOT EDIT !  \n", 
                "DOC.set_id('cmip6.oceanbgc.key_properties.gas_exchange.dms_type')  \n", 
                "\n", 
                "# PROPERTY VALUE: \n", 
                "# Set as follows: DOC.set_value(\"value\")  \n", 
                "# TODO\n", 
                "\n", 
                "# PROPERTY QUALITY CONTROL STATUS:  \n", 
                "# 0=draft, 1=in-review, 2=reviewed  \n", 
                "DOC.set_qc_status(0)"
            ], 
            "outputs": [], 
            "metadata": {
                "collapsed": true
            }
        }, 
        {
            "source": [
                "### 6.7. N 2 Exchange\n", 
                " *Is N2 gas exchange modeled ?*\n", 
                "\n", 
                "**Is Required:** TRUE&nbsp;&nbsp;&nbsp;&nbsp;**Type:** BOOLEAN&nbsp;&nbsp;&nbsp;&nbsp;**Cardinality:** 1.1"
            ], 
            "cell_type": "markdown", 
            "metadata": {}
        }, 
        {
            "execution_count": null, 
            "cell_type": "code", 
            "source": [
                "# PROPERTY ID - DO NOT EDIT !  \n", 
                "DOC.set_id('cmip6.oceanbgc.key_properties.gas_exchange.n2_exchange')  \n", 
                "\n", 
                "# PROPERTY VALUE: \n", 
                "# Set as follows: DOC.set_value(value)  \n", 
                "# Valid Choices: \n", 
                "#     True  \n", 
                "#     False  \n", 
                "# TODO\n", 
                "\n", 
                "# PROPERTY QUALITY CONTROL STATUS:  \n", 
                "# 0=draft, 1=in-review, 2=reviewed  \n", 
                "DOC.set_qc_status(0)"
            ], 
            "outputs": [], 
            "metadata": {
                "collapsed": true
            }
        }, 
        {
            "source": [
                "### 6.8. N 2 Type\n", 
                " *Specify N2 gas exchange scheme type*\n", 
                "\n", 
                "**Is Required:** FALSE&nbsp;&nbsp;&nbsp;&nbsp;**Type:** STRING&nbsp;&nbsp;&nbsp;&nbsp;**Cardinality:** 0.1"
            ], 
            "cell_type": "markdown", 
            "metadata": {}
        }, 
        {
            "execution_count": null, 
            "cell_type": "code", 
            "source": [
                "# PROPERTY ID - DO NOT EDIT !  \n", 
                "DOC.set_id('cmip6.oceanbgc.key_properties.gas_exchange.n2_type')  \n", 
                "\n", 
                "# PROPERTY VALUE: \n", 
                "# Set as follows: DOC.set_value(\"value\")  \n", 
                "# TODO\n", 
                "\n", 
                "# PROPERTY QUALITY CONTROL STATUS:  \n", 
                "# 0=draft, 1=in-review, 2=reviewed  \n", 
                "DOC.set_qc_status(0)"
            ], 
            "outputs": [], 
            "metadata": {
                "collapsed": true
            }
        }, 
        {
            "source": [
                "### 6.9. N 2o Exchange\n", 
                " *Is N2O gas exchange modeled ?*\n", 
                "\n", 
                "**Is Required:** TRUE&nbsp;&nbsp;&nbsp;&nbsp;**Type:** BOOLEAN&nbsp;&nbsp;&nbsp;&nbsp;**Cardinality:** 1.1"
            ], 
            "cell_type": "markdown", 
            "metadata": {}
        }, 
        {
            "execution_count": null, 
            "cell_type": "code", 
            "source": [
                "# PROPERTY ID - DO NOT EDIT !  \n", 
                "DOC.set_id('cmip6.oceanbgc.key_properties.gas_exchange.n2o_exchange')  \n", 
                "\n", 
                "# PROPERTY VALUE: \n", 
                "# Set as follows: DOC.set_value(value)  \n", 
                "# Valid Choices: \n", 
                "#     True  \n", 
                "#     False  \n", 
                "# TODO\n", 
                "\n", 
                "# PROPERTY QUALITY CONTROL STATUS:  \n", 
                "# 0=draft, 1=in-review, 2=reviewed  \n", 
                "DOC.set_qc_status(0)"
            ], 
            "outputs": [], 
            "metadata": {
                "collapsed": true
            }
        }, 
        {
            "source": [
                "### 6.10. N 2o Type\n", 
                " *Specify N2O gas exchange scheme type*\n", 
                "\n", 
                "**Is Required:** FALSE&nbsp;&nbsp;&nbsp;&nbsp;**Type:** STRING&nbsp;&nbsp;&nbsp;&nbsp;**Cardinality:** 0.1"
            ], 
            "cell_type": "markdown", 
            "metadata": {}
        }, 
        {
            "execution_count": null, 
            "cell_type": "code", 
            "source": [
                "# PROPERTY ID - DO NOT EDIT !  \n", 
                "DOC.set_id('cmip6.oceanbgc.key_properties.gas_exchange.n2o_type')  \n", 
                "\n", 
                "# PROPERTY VALUE: \n", 
                "# Set as follows: DOC.set_value(\"value\")  \n", 
                "# TODO\n", 
                "\n", 
                "# PROPERTY QUALITY CONTROL STATUS:  \n", 
                "# 0=draft, 1=in-review, 2=reviewed  \n", 
                "DOC.set_qc_status(0)"
            ], 
            "outputs": [], 
            "metadata": {
                "collapsed": true
            }
        }, 
        {
            "source": [
                "### 6.11. C O Exchange\n", 
                " *Is CO gas exchange modeled ?*\n", 
                "\n", 
                "**Is Required:** TRUE&nbsp;&nbsp;&nbsp;&nbsp;**Type:** BOOLEAN&nbsp;&nbsp;&nbsp;&nbsp;**Cardinality:** 1.1"
            ], 
            "cell_type": "markdown", 
            "metadata": {}
        }, 
        {
            "execution_count": null, 
            "cell_type": "code", 
            "source": [
                "# PROPERTY ID - DO NOT EDIT !  \n", 
                "DOC.set_id('cmip6.oceanbgc.key_properties.gas_exchange.CO_exchange')  \n", 
                "\n", 
                "# PROPERTY VALUE: \n", 
                "# Set as follows: DOC.set_value(value)  \n", 
                "# Valid Choices: \n", 
                "#     True  \n", 
                "#     False  \n", 
                "# TODO\n", 
                "\n", 
                "# PROPERTY QUALITY CONTROL STATUS:  \n", 
                "# 0=draft, 1=in-review, 2=reviewed  \n", 
                "DOC.set_qc_status(0)"
            ], 
            "outputs": [], 
            "metadata": {
                "collapsed": true
            }
        }, 
        {
            "source": [
                "### 6.12. C O Type\n", 
                " *Specify CO gas exchange scheme type*\n", 
                "\n", 
                "**Is Required:** FALSE&nbsp;&nbsp;&nbsp;&nbsp;**Type:** STRING&nbsp;&nbsp;&nbsp;&nbsp;**Cardinality:** 0.1"
            ], 
            "cell_type": "markdown", 
            "metadata": {}
        }, 
        {
            "execution_count": null, 
            "cell_type": "code", 
            "source": [
                "# PROPERTY ID - DO NOT EDIT !  \n", 
                "DOC.set_id('cmip6.oceanbgc.key_properties.gas_exchange.CO_type')  \n", 
                "\n", 
                "# PROPERTY VALUE: \n", 
                "# Set as follows: DOC.set_value(\"value\")  \n", 
                "# TODO\n", 
                "\n", 
                "# PROPERTY QUALITY CONTROL STATUS:  \n", 
                "# 0=draft, 1=in-review, 2=reviewed  \n", 
                "DOC.set_qc_status(0)"
            ], 
            "outputs": [], 
            "metadata": {
                "collapsed": true
            }
        }, 
        {
            "source": [
                "### 6.13. Other Gases\n", 
                " *Specify any other gas exchange*\n", 
                "\n", 
                "**Is Required:** FALSE&nbsp;&nbsp;&nbsp;&nbsp;**Type:** STRING&nbsp;&nbsp;&nbsp;&nbsp;**Cardinality:** 0.1"
            ], 
            "cell_type": "markdown", 
            "metadata": {}
        }, 
        {
            "execution_count": null, 
            "cell_type": "code", 
            "source": [
                "# PROPERTY ID - DO NOT EDIT !  \n", 
                "DOC.set_id('cmip6.oceanbgc.key_properties.gas_exchange.other_gases')  \n", 
                "\n", 
                "# PROPERTY VALUE: \n", 
                "# Set as follows: DOC.set_value(\"value\")  \n", 
                "# TODO\n", 
                "\n", 
                "# PROPERTY QUALITY CONTROL STATUS:  \n", 
                "# 0=draft, 1=in-review, 2=reviewed  \n", 
                "DOC.set_qc_status(0)"
            ], 
            "outputs": [], 
            "metadata": {
                "collapsed": true
            }
        }, 
        {
            "source": [
                "# 7. Key Properties --&gt; Carbon Chemistry  \n", 
                "*Properties of carbon chemistry biogeochemistry*"
            ], 
            "cell_type": "markdown", 
            "metadata": {}
        }, 
        {
            "source": [
                "### 7.1. Type\n", 
                " *Describe how carbon chemistry is modeled*\n", 
                "\n", 
                "**Is Required:** TRUE&nbsp;&nbsp;&nbsp;&nbsp;**Type:** ENUM&nbsp;&nbsp;&nbsp;&nbsp;**Cardinality:** 1.1"
            ], 
            "cell_type": "markdown", 
            "metadata": {}
        }, 
        {
            "execution_count": null, 
            "cell_type": "code", 
            "source": [
                "# PROPERTY ID - DO NOT EDIT !  \n", 
                "DOC.set_id('cmip6.oceanbgc.key_properties.carbon_chemistry.type')  \n", 
                "\n", 
                "# PROPERTY VALUE: \n", 
                "# Set as follows: DOC.set_value(\"value\")  \n", 
                "# Valid Choices: \n", 
                "#      \"OMIP protocol\"  \n", 
                "#      \"Other protocol\"  \n", 
                "# TODO\n", 
                "\n", 
                "# PROPERTY QUALITY CONTROL STATUS:  \n", 
                "# 0=draft, 1=in-review, 2=reviewed  \n", 
                "DOC.set_qc_status(0)"
            ], 
            "outputs": [], 
            "metadata": {
                "collapsed": true
            }
        }, 
        {
            "source": [
                "### 7.2. Ph Scale\n", 
                " *If NOT OMIP protocol, describe pH scale.*\n", 
                "\n", 
                "**Is Required:** FALSE&nbsp;&nbsp;&nbsp;&nbsp;**Type:** ENUM&nbsp;&nbsp;&nbsp;&nbsp;**Cardinality:** 0.1"
            ], 
            "cell_type": "markdown", 
            "metadata": {}
        }, 
        {
            "execution_count": null, 
            "cell_type": "code", 
            "source": [
                "# PROPERTY ID - DO NOT EDIT !  \n", 
                "DOC.set_id('cmip6.oceanbgc.key_properties.carbon_chemistry.ph_scale')  \n", 
                "\n", 
                "# PROPERTY VALUE: \n", 
                "# Set as follows: DOC.set_value(\"value\")  \n", 
                "# Valid Choices: \n", 
                "#      \"Sea water\"  \n", 
                "#      \"Free\"  \n", 
                "#      \"Other: [Please specify]\"  \n", 
                "# TODO\n", 
                "\n", 
                "# PROPERTY QUALITY CONTROL STATUS:  \n", 
                "# 0=draft, 1=in-review, 2=reviewed  \n", 
                "DOC.set_qc_status(0)"
            ], 
            "outputs": [], 
            "metadata": {
                "collapsed": true
            }
        }, 
        {
            "source": [
                "### 7.3. Constants\n", 
                " *If NOT OMIP protocol, list carbon chemistry constants.*\n", 
                "\n", 
                "**Is Required:** FALSE&nbsp;&nbsp;&nbsp;&nbsp;**Type:** STRING&nbsp;&nbsp;&nbsp;&nbsp;**Cardinality:** 0.1"
            ], 
            "cell_type": "markdown", 
            "metadata": {}
        }, 
        {
            "execution_count": null, 
            "cell_type": "code", 
            "source": [
                "# PROPERTY ID - DO NOT EDIT !  \n", 
                "DOC.set_id('cmip6.oceanbgc.key_properties.carbon_chemistry.constants')  \n", 
                "\n", 
                "# PROPERTY VALUE: \n", 
                "# Set as follows: DOC.set_value(\"value\")  \n", 
                "# TODO\n", 
                "\n", 
                "# PROPERTY QUALITY CONTROL STATUS:  \n", 
                "# 0=draft, 1=in-review, 2=reviewed  \n", 
                "DOC.set_qc_status(0)"
            ], 
            "outputs": [], 
            "metadata": {
                "collapsed": true
            }
        }, 
        {
            "source": [
                "# 8. Tracers  \n", 
                "*Ocean biogeochemistry tracers*"
            ], 
            "cell_type": "markdown", 
            "metadata": {}
        }, 
        {
            "source": [
                "### 8.1. Sulfur Cycle\n", 
                " *Is sulfur cycle modeled ?*\n", 
                "\n", 
                "**Is Required:** TRUE&nbsp;&nbsp;&nbsp;&nbsp;**Type:** BOOLEAN&nbsp;&nbsp;&nbsp;&nbsp;**Cardinality:** 1.1"
            ], 
            "cell_type": "markdown", 
            "metadata": {}
        }, 
        {
            "execution_count": null, 
            "cell_type": "code", 
            "source": [
                "# PROPERTY ID - DO NOT EDIT !  \n", 
                "DOC.set_id('cmip6.oceanbgc.tracers.sulfur_cycle')  \n", 
                "\n", 
                "# PROPERTY VALUE: \n", 
                "# Set as follows: DOC.set_value(value)  \n", 
                "# Valid Choices: \n", 
                "#     True  \n", 
                "#     False  \n", 
                "# TODO\n", 
                "\n", 
                "# PROPERTY QUALITY CONTROL STATUS:  \n", 
                "# 0=draft, 1=in-review, 2=reviewed  \n", 
                "DOC.set_qc_status(0)"
            ], 
            "outputs": [], 
            "metadata": {
                "collapsed": true
            }
        }, 
        {
            "source": [
                "### 8.2. Nutrients\n", 
                " *List nutrient species present in ocean biogeochemistry model*\n", 
                "\n", 
                "**Is Required:** TRUE&nbsp;&nbsp;&nbsp;&nbsp;**Type:** ENUM&nbsp;&nbsp;&nbsp;&nbsp;**Cardinality:** 1.N"
            ], 
            "cell_type": "markdown", 
            "metadata": {}
        }, 
        {
            "execution_count": null, 
            "cell_type": "code", 
            "source": [
                "# PROPERTY ID - DO NOT EDIT !  \n", 
                "DOC.set_id('cmip6.oceanbgc.tracers.nutrients')  \n", 
                "\n", 
                "# PROPERTY VALUE(S): \n", 
                "# Set as follows: DOC.set_value(\"value\")  \n", 
                "# Valid Choices: \n", 
                "#      \"Nitrogen (N)\"  \n", 
                "#      \"Phosphorous (P)\"  \n", 
                "#      \"Silicium (S)\"  \n", 
                "#      \"Iron (Fe)\"  \n", 
                "#      \"Other: [Please specify]\"  \n", 
                "# TODO\n", 
                "\n", 
                "# PROPERTY QUALITY CONTROL STATUS:  \n", 
                "# 0=draft, 1=in-review, 2=reviewed  \n", 
                "DOC.set_qc_status(0)"
            ], 
            "outputs": [], 
            "metadata": {
                "collapsed": true
            }
        }, 
        {
            "source": [
                "### 8.3. Nitrous Species\n", 
                " *If nitrogen present, list nitrous species.*\n", 
                "\n", 
                "**Is Required:** FALSE&nbsp;&nbsp;&nbsp;&nbsp;**Type:** ENUM&nbsp;&nbsp;&nbsp;&nbsp;**Cardinality:** 0.N"
            ], 
            "cell_type": "markdown", 
            "metadata": {}
        }, 
        {
            "execution_count": null, 
            "cell_type": "code", 
            "source": [
                "# PROPERTY ID - DO NOT EDIT !  \n", 
                "DOC.set_id('cmip6.oceanbgc.tracers.nitrous_species')  \n", 
                "\n", 
                "# PROPERTY VALUE(S): \n", 
                "# Set as follows: DOC.set_value(\"value\")  \n", 
                "# Valid Choices: \n", 
                "#      \"Nitrates (NO3)\"  \n", 
                "#      \"Amonium (NH4)\"  \n", 
                "#      \"Other: [Please specify]\"  \n", 
                "# TODO\n", 
                "\n", 
                "# PROPERTY QUALITY CONTROL STATUS:  \n", 
                "# 0=draft, 1=in-review, 2=reviewed  \n", 
                "DOC.set_qc_status(0)"
            ], 
            "outputs": [], 
            "metadata": {
                "collapsed": true
            }
        }, 
        {
            "source": [
                "### 8.4. Nitrous Processes\n", 
                " *If nitrogen present, list nitrous processes.*\n", 
                "\n", 
                "**Is Required:** FALSE&nbsp;&nbsp;&nbsp;&nbsp;**Type:** ENUM&nbsp;&nbsp;&nbsp;&nbsp;**Cardinality:** 0.N"
            ], 
            "cell_type": "markdown", 
            "metadata": {}
        }, 
        {
            "execution_count": null, 
            "cell_type": "code", 
            "source": [
                "# PROPERTY ID - DO NOT EDIT !  \n", 
                "DOC.set_id('cmip6.oceanbgc.tracers.nitrous_processes')  \n", 
                "\n", 
                "# PROPERTY VALUE(S): \n", 
                "# Set as follows: DOC.set_value(\"value\")  \n", 
                "# Valid Choices: \n", 
                "#      \"Dentrification\"  \n", 
                "#      \"N fixation\"  \n", 
                "#      \"Other: [Please specify]\"  \n", 
                "# TODO\n", 
                "\n", 
                "# PROPERTY QUALITY CONTROL STATUS:  \n", 
                "# 0=draft, 1=in-review, 2=reviewed  \n", 
                "DOC.set_qc_status(0)"
            ], 
            "outputs": [], 
            "metadata": {
                "collapsed": true
            }
        }, 
        {
            "source": [
                "# 9. Tracers --&gt; Ecosystem  \n", 
                "*Ecosystem properties in ocean biogeochemistry*"
            ], 
            "cell_type": "markdown", 
            "metadata": {}
        }, 
        {
            "source": [
                "### 9.1. Upper Trophic Levels\n", 
                " *Definition of upper trophic level (e.g. based on size) ?*\n", 
                "\n", 
                "**Is Required:** TRUE&nbsp;&nbsp;&nbsp;&nbsp;**Type:** STRING&nbsp;&nbsp;&nbsp;&nbsp;**Cardinality:** 1.1"
            ], 
            "cell_type": "markdown", 
            "metadata": {}
        }, 
        {
            "execution_count": null, 
            "cell_type": "code", 
            "source": [
                "# PROPERTY ID - DO NOT EDIT !  \n", 
                "DOC.set_id('cmip6.oceanbgc.tracers.Ecosystem.upper_trophic_levels')  \n", 
                "\n", 
                "# PROPERTY VALUE: \n", 
                "# Set as follows: DOC.set_value(\"value\")  \n", 
                "# TODO\n", 
                "\n", 
                "# PROPERTY QUALITY CONTROL STATUS:  \n", 
                "# 0=draft, 1=in-review, 2=reviewed  \n", 
                "DOC.set_qc_status(0)"
            ], 
            "outputs": [], 
            "metadata": {
                "collapsed": true
            }
        }, 
        {
            "source": [
                "### 9.2. Upper Trophic Levels Treatment\n", 
                " *Define how upper trophic level are treated*\n", 
                "\n", 
                "**Is Required:** TRUE&nbsp;&nbsp;&nbsp;&nbsp;**Type:** STRING&nbsp;&nbsp;&nbsp;&nbsp;**Cardinality:** 1.1"
            ], 
            "cell_type": "markdown", 
            "metadata": {}
        }, 
        {
            "execution_count": null, 
            "cell_type": "code", 
            "source": [
                "# PROPERTY ID - DO NOT EDIT !  \n", 
                "DOC.set_id('cmip6.oceanbgc.tracers.Ecosystem.upper_trophic_levels_treatment')  \n", 
                "\n", 
                "# PROPERTY VALUE: \n", 
                "# Set as follows: DOC.set_value(\"value\")  \n", 
                "# TODO\n", 
                "\n", 
                "# PROPERTY QUALITY CONTROL STATUS:  \n", 
                "# 0=draft, 1=in-review, 2=reviewed  \n", 
                "DOC.set_qc_status(0)"
            ], 
            "outputs": [], 
            "metadata": {
                "collapsed": true
            }
        }, 
        {
            "source": [
                "# 10. Tracers --&gt; Ecosystem --&gt; Phytoplancton  \n", 
                "*Phytoplancton properties in ocean biogeochemistry*"
            ], 
            "cell_type": "markdown", 
            "metadata": {}
        }, 
        {
            "source": [
                "### 10.1. Type\n", 
                " *Type of phytoplancton*\n", 
                "\n", 
                "**Is Required:** TRUE&nbsp;&nbsp;&nbsp;&nbsp;**Type:** ENUM&nbsp;&nbsp;&nbsp;&nbsp;**Cardinality:** 1.1"
            ], 
            "cell_type": "markdown", 
            "metadata": {}
        }, 
        {
            "execution_count": null, 
            "cell_type": "code", 
            "source": [
                "# PROPERTY ID - DO NOT EDIT !  \n", 
                "DOC.set_id('cmip6.oceanbgc.tracers.Ecosystem.phytoplancton.type')  \n", 
                "\n", 
                "# PROPERTY VALUE: \n", 
                "# Set as follows: DOC.set_value(\"value\")  \n", 
                "# Valid Choices: \n", 
                "#      \"None\"  \n", 
                "#      \"Generic\"  \n", 
                "#      \"List (specify below)\"  \n", 
                "# TODO\n", 
                "\n", 
                "# PROPERTY QUALITY CONTROL STATUS:  \n", 
                "# 0=draft, 1=in-review, 2=reviewed  \n", 
                "DOC.set_qc_status(0)"
            ], 
            "outputs": [], 
            "metadata": {
                "collapsed": true
            }
        }, 
        {
            "source": [
                "### 10.2. List\n", 
                " *List species of phytoplancton if applicable*\n", 
                "\n", 
                "**Is Required:** FALSE&nbsp;&nbsp;&nbsp;&nbsp;**Type:** ENUM&nbsp;&nbsp;&nbsp;&nbsp;**Cardinality:** 0.N"
            ], 
            "cell_type": "markdown", 
            "metadata": {}
        }, 
        {
            "execution_count": null, 
            "cell_type": "code", 
            "source": [
                "# PROPERTY ID - DO NOT EDIT !  \n", 
                "DOC.set_id('cmip6.oceanbgc.tracers.Ecosystem.phytoplancton.list')  \n", 
                "\n", 
                "# PROPERTY VALUE(S): \n", 
                "# Set as follows: DOC.set_value(\"value\")  \n", 
                "# Valid Choices: \n", 
                "#      \"diatoms\"  \n", 
                "#      \"Nfixers\"  \n", 
                "#      \"calcifiers\"  \n", 
                "#      \"picophytoplancton\"  \n", 
                "#      \"Other: [Please specify]\"  \n", 
                "# TODO\n", 
                "\n", 
                "# PROPERTY QUALITY CONTROL STATUS:  \n", 
                "# 0=draft, 1=in-review, 2=reviewed  \n", 
                "DOC.set_qc_status(0)"
            ], 
            "outputs": [], 
            "metadata": {
                "collapsed": true
            }
        }, 
        {
            "source": [
                "# 11. Tracers --&gt; Ecosystem --&gt; Zooplancton  \n", 
                "*Zooplancton properties in ocean biogeochemistry*"
            ], 
            "cell_type": "markdown", 
            "metadata": {}
        }, 
        {
            "source": [
                "### 11.1. Type\n", 
                " *Type of zooplancton*\n", 
                "\n", 
                "**Is Required:** TRUE&nbsp;&nbsp;&nbsp;&nbsp;**Type:** ENUM&nbsp;&nbsp;&nbsp;&nbsp;**Cardinality:** 1.1"
            ], 
            "cell_type": "markdown", 
            "metadata": {}
        }, 
        {
            "execution_count": null, 
            "cell_type": "code", 
            "source": [
                "# PROPERTY ID - DO NOT EDIT !  \n", 
                "DOC.set_id('cmip6.oceanbgc.tracers.Ecosystem.zooplancton.type')  \n", 
                "\n", 
                "# PROPERTY VALUE: \n", 
                "# Set as follows: DOC.set_value(\"value\")  \n", 
                "# Valid Choices: \n", 
                "#      \"None\"  \n", 
                "#      \"Generic\"  \n", 
                "#      \"List (specify below)\"  \n", 
                "# TODO\n", 
                "\n", 
                "# PROPERTY QUALITY CONTROL STATUS:  \n", 
                "# 0=draft, 1=in-review, 2=reviewed  \n", 
                "DOC.set_qc_status(0)"
            ], 
            "outputs": [], 
            "metadata": {
                "collapsed": true
            }
        }, 
        {
            "source": [
                "### 11.2. List\n", 
                " *List species of zooplancton if applicable*\n", 
                "\n", 
                "**Is Required:** FALSE&nbsp;&nbsp;&nbsp;&nbsp;**Type:** ENUM&nbsp;&nbsp;&nbsp;&nbsp;**Cardinality:** 0.N"
            ], 
            "cell_type": "markdown", 
            "metadata": {}
        }, 
        {
            "execution_count": null, 
            "cell_type": "code", 
            "source": [
                "# PROPERTY ID - DO NOT EDIT !  \n", 
                "DOC.set_id('cmip6.oceanbgc.tracers.Ecosystem.zooplancton.list')  \n", 
                "\n", 
                "# PROPERTY VALUE(S): \n", 
                "# Set as follows: DOC.set_value(\"value\")  \n", 
                "# Valid Choices: \n", 
                "#      \"microzooplancton\"  \n", 
                "#      \"mesozooplancton\"  \n", 
                "#      \"Other: [Please specify]\"  \n", 
                "# TODO\n", 
                "\n", 
                "# PROPERTY QUALITY CONTROL STATUS:  \n", 
                "# 0=draft, 1=in-review, 2=reviewed  \n", 
                "DOC.set_qc_status(0)"
            ], 
            "outputs": [], 
            "metadata": {
                "collapsed": true
            }
        }, 
        {
            "source": [
                "# 12. Tracers --&gt; Disolved Organic Matter  \n", 
                "*Disolved organic matter properties in ocean biogeochemistry*"
            ], 
            "cell_type": "markdown", 
            "metadata": {}
        }, 
        {
            "source": [
                "### 12.1. Bacteria Representation\n", 
                " *Is there bacteria representation ?*\n", 
                "\n", 
                "**Is Required:** TRUE&nbsp;&nbsp;&nbsp;&nbsp;**Type:** BOOLEAN&nbsp;&nbsp;&nbsp;&nbsp;**Cardinality:** 1.1"
            ], 
            "cell_type": "markdown", 
            "metadata": {}
        }, 
        {
            "execution_count": null, 
            "cell_type": "code", 
            "source": [
                "# PROPERTY ID - DO NOT EDIT !  \n", 
                "DOC.set_id('cmip6.oceanbgc.tracers.Disolved_organic_matter.bacteria_representation')  \n", 
                "\n", 
                "# PROPERTY VALUE: \n", 
                "# Set as follows: DOC.set_value(value)  \n", 
                "# Valid Choices: \n", 
                "#     True  \n", 
                "#     False  \n", 
                "# TODO\n", 
                "\n", 
                "# PROPERTY QUALITY CONTROL STATUS:  \n", 
                "# 0=draft, 1=in-review, 2=reviewed  \n", 
                "DOC.set_qc_status(0)"
            ], 
            "outputs": [], 
            "metadata": {
                "collapsed": true
            }
        }, 
        {
            "source": [
                "### 12.2. Lability\n", 
                " *Describe treatment of lability in dissolved organic matter*\n", 
                "\n", 
                "**Is Required:** TRUE&nbsp;&nbsp;&nbsp;&nbsp;**Type:** ENUM&nbsp;&nbsp;&nbsp;&nbsp;**Cardinality:** 1.1"
            ], 
            "cell_type": "markdown", 
            "metadata": {}
        }, 
        {
            "execution_count": null, 
            "cell_type": "code", 
            "source": [
                "# PROPERTY ID - DO NOT EDIT !  \n", 
                "DOC.set_id('cmip6.oceanbgc.tracers.Disolved_organic_matter.lability')  \n", 
                "\n", 
                "# PROPERTY VALUE: \n", 
                "# Set as follows: DOC.set_value(\"value\")  \n", 
                "# Valid Choices: \n", 
                "#      \"none\"  \n", 
                "#      \"labile\"  \n", 
                "#      \"semi-labile\"  \n", 
                "#      \"refractory\"  \n", 
                "#      \"Other: [Please specify]\"  \n", 
                "# TODO\n", 
                "\n", 
                "# PROPERTY QUALITY CONTROL STATUS:  \n", 
                "# 0=draft, 1=in-review, 2=reviewed  \n", 
                "DOC.set_qc_status(0)"
            ], 
            "outputs": [], 
            "metadata": {
                "collapsed": true
            }
        }, 
        {
            "source": [
                "# 13. Tracers --&gt; Particules  \n", 
                "*Particulate carbon properties in ocean biogeochemistry*"
            ], 
            "cell_type": "markdown", 
            "metadata": {}
        }, 
        {
            "source": [
                "### 13.1. Method\n", 
                " *How is particulate carbon represented in ocean biogeochemistry?*\n", 
                "\n", 
                "**Is Required:** TRUE&nbsp;&nbsp;&nbsp;&nbsp;**Type:** ENUM&nbsp;&nbsp;&nbsp;&nbsp;**Cardinality:** 1.1"
            ], 
            "cell_type": "markdown", 
            "metadata": {}
        }, 
        {
            "execution_count": null, 
            "cell_type": "code", 
            "source": [
                "# PROPERTY ID - DO NOT EDIT !  \n", 
                "DOC.set_id('cmip6.oceanbgc.tracers.Particules.method')  \n", 
                "\n", 
                "# PROPERTY VALUE: \n", 
                "# Set as follows: DOC.set_value(\"value\")  \n", 
                "# Valid Choices: \n", 
                "#      \"Diagnostic\"  \n", 
                "#      \"Diagnostic (Martin profile)\"  \n", 
                "#      \"Diagnostic (Balast)\"  \n", 
                "#      \"Prognostic\"  \n", 
                "#      \"Other: [Please specify]\"  \n", 
                "# TODO\n", 
                "\n", 
                "# PROPERTY QUALITY CONTROL STATUS:  \n", 
                "# 0=draft, 1=in-review, 2=reviewed  \n", 
                "DOC.set_qc_status(0)"
            ], 
            "outputs": [], 
            "metadata": {
                "collapsed": true
            }
        }, 
        {
            "source": [
                "### 13.2. Types\n", 
                " *If prognostic, types of particulate matter taken into account*\n", 
                "\n", 
                "**Is Required:** FALSE&nbsp;&nbsp;&nbsp;&nbsp;**Type:** ENUM&nbsp;&nbsp;&nbsp;&nbsp;**Cardinality:** 0.1"
            ], 
            "cell_type": "markdown", 
            "metadata": {}
        }, 
        {
            "execution_count": null, 
            "cell_type": "code", 
            "source": [
                "# PROPERTY ID - DO NOT EDIT !  \n", 
                "DOC.set_id('cmip6.oceanbgc.tracers.Particules.types')  \n", 
                "\n", 
                "# PROPERTY VALUE: \n", 
                "# Set as follows: DOC.set_value(\"value\")  \n", 
                "# Valid Choices: \n", 
                "#      \"POC\"  \n", 
                "#      \"PIC (calcite)\"  \n", 
                "#      \"PIC (aragonite\"  \n", 
                "#      \"BSi\"  \n", 
                "#      \"Other: [Please specify]\"  \n", 
                "# TODO\n", 
                "\n", 
                "# PROPERTY QUALITY CONTROL STATUS:  \n", 
                "# 0=draft, 1=in-review, 2=reviewed  \n", 
                "DOC.set_qc_status(0)"
            ], 
            "outputs": [], 
            "metadata": {
                "collapsed": true
            }
        }, 
        {
            "source": [
                "### 13.3. Size\n", 
                " *If prognostic, describe if a particule size spectrum is used to represent distribution of particules in water volume*\n", 
                "\n", 
                "**Is Required:** FALSE&nbsp;&nbsp;&nbsp;&nbsp;**Type:** ENUM&nbsp;&nbsp;&nbsp;&nbsp;**Cardinality:** 0.1"
            ], 
            "cell_type": "markdown", 
            "metadata": {}
        }, 
        {
            "execution_count": null, 
            "cell_type": "code", 
            "source": [
                "# PROPERTY ID - DO NOT EDIT !  \n", 
                "DOC.set_id('cmip6.oceanbgc.tracers.Particules.size')  \n", 
                "\n", 
                "# PROPERTY VALUE: \n", 
                "# Set as follows: DOC.set_value(\"value\")  \n", 
                "# Valid Choices: \n", 
                "#      \"Full size spectrum\"  \n", 
                "#      \"Discrete size classes (specify which below)\"  \n", 
                "#      \"No size spectrum used\"  \n", 
                "# TODO\n", 
                "\n", 
                "# PROPERTY QUALITY CONTROL STATUS:  \n", 
                "# 0=draft, 1=in-review, 2=reviewed  \n", 
                "DOC.set_qc_status(0)"
            ], 
            "outputs": [], 
            "metadata": {
                "collapsed": true
            }
        }, 
        {
            "source": [
                "### 13.4. Discrete Size\n", 
                " *If prognostic and discrete size, describe which size classes are used*\n", 
                "\n", 
                "**Is Required:** FALSE&nbsp;&nbsp;&nbsp;&nbsp;**Type:** STRING&nbsp;&nbsp;&nbsp;&nbsp;**Cardinality:** 0.1"
            ], 
            "cell_type": "markdown", 
            "metadata": {}
        }, 
        {
            "execution_count": null, 
            "cell_type": "code", 
            "source": [
                "# PROPERTY ID - DO NOT EDIT !  \n", 
                "DOC.set_id('cmip6.oceanbgc.tracers.Particules.discrete_size')  \n", 
                "\n", 
                "# PROPERTY VALUE: \n", 
                "# Set as follows: DOC.set_value(\"value\")  \n", 
                "# TODO\n", 
                "\n", 
                "# PROPERTY QUALITY CONTROL STATUS:  \n", 
                "# 0=draft, 1=in-review, 2=reviewed  \n", 
                "DOC.set_qc_status(0)"
            ], 
            "outputs": [], 
            "metadata": {
                "collapsed": true
            }
        }, 
        {
            "source": [
                "### 13.5. Sinking Speed\n", 
                " *If prognostic, method for calculation of sinking speed of particules*\n", 
                "\n", 
                "**Is Required:** FALSE&nbsp;&nbsp;&nbsp;&nbsp;**Type:** ENUM&nbsp;&nbsp;&nbsp;&nbsp;**Cardinality:** 0.1"
            ], 
            "cell_type": "markdown", 
            "metadata": {}
        }, 
        {
            "execution_count": null, 
            "cell_type": "code", 
            "source": [
                "# PROPERTY ID - DO NOT EDIT !  \n", 
                "DOC.set_id('cmip6.oceanbgc.tracers.Particules.sinking_speed')  \n", 
                "\n", 
                "# PROPERTY VALUE: \n", 
                "# Set as follows: DOC.set_value(\"value\")  \n", 
                "# Valid Choices: \n", 
                "#      \"Constant\"  \n", 
                "#      \"Function of particule size\"  \n", 
                "#      \"Function of particul type (balast)\"  \n", 
                "#      \"Other: [Please specify]\"  \n", 
                "# TODO\n", 
                "\n", 
                "# PROPERTY QUALITY CONTROL STATUS:  \n", 
                "# 0=draft, 1=in-review, 2=reviewed  \n", 
                "DOC.set_qc_status(0)"
            ], 
            "outputs": [], 
            "metadata": {
                "collapsed": true
            }
        }, 
        {
            "source": [
                "# Finalization"
            ], 
            "cell_type": "markdown", 
            "metadata": {}
        }, 
        {
            "source": [
                "### Document Persistence"
            ], 
            "cell_type": "markdown", 
            "metadata": {}
        }, 
        {
            "execution_count": null, 
            "cell_type": "code", 
            "source": [
                "# DO NOT EDIT !\n", 
                "DOC.write()"
            ], 
            "outputs": [], 
            "metadata": {}
        }
    ], 
    "metadata": {
        "kernelspec": {
            "display_name": "Python 2", 
            "name": "python2", 
            "language": "python"
        }, 
        "language_info": {
            "mimetype": "text/x-python", 
            "nbconvert_exporter": "python", 
            "name": "python", 
            "file_extension": ".py", 
            "version": "2.7.10", 
            "pygments_lexer": "ipython2", 
            "codemirror_mode": {
                "version": 2, 
                "name": "ipython"
            }
        }
    }
}