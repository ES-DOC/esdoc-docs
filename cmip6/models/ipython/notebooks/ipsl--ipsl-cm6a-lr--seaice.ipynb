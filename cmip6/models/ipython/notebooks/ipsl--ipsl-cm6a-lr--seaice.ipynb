{
 "cells": [
  {
   "cell_type": "markdown",
   "metadata": {},
   "source": [
    "# ES-DOC CMIP6 Model Realm Properties \n",
    "**MIP Era**: CMIP6  \n",
    "**Institute**: IPSL  \n",
    "**Source ID**: IPSL-CM6A-LR  \n",
    "**Realm**: Seaice  \n",
    "**Realm Processes**: Dynamics, Thermodynamics, Radiative Processes.   \n",
    "**Properties**: 73 (60 required, 13 optional)  \n",
    "\n",
    "**Notebook Help**: [Goto notebook help page](http://wordpress.es-doc.org/how-to-document-cmip6-models)  \n",
    "**Notebook Initialised**: 2017-01-13 23:31:52"
   ]
  },
  {
   "cell_type": "markdown",
   "metadata": {},
   "source": [
    "### Document Setup  \n",
    "**IMPORTANT:** *to be executed each time you run the notebook*  "
   ]
  },
  {
   "cell_type": "code",
   "execution_count": 79,
   "metadata": {
    "collapsed": true
   },
   "outputs": [],
   "source": [
    "# DO NOT EDIT !  \n",
    "from pyesdoc.ipython.model_realm import NotebookData  \n",
    "\n",
    "# DO NOT EDIT !  \n",
    "DOC = NotebookData('cmip6', 'ipsl', 'ipsl-cm6a-lr', 'seaice')"
   ]
  },
  {
   "cell_type": "markdown",
   "metadata": {},
   "source": [
    "### Document Authors  \n",
    "*Set document authors*"
   ]
  },
  {
   "cell_type": "code",
   "execution_count": null,
   "metadata": {
    "collapsed": true
   },
   "outputs": [],
   "source": [
    "# Set as follows: DOC.set_author(\"name\", \"email\")  \n",
    "DOC.set_author('Mark A. Greenslade', 'momipsl@ipsl.jussieu.fr')"
   ]
  },
  {
   "cell_type": "markdown",
   "metadata": {},
   "source": [
    "### Document Contributors  \n",
    "*Specify document contributors*  "
   ]
  },
  {
   "cell_type": "code",
   "execution_count": null,
   "metadata": {
    "collapsed": true
   },
   "outputs": [],
   "source": [
    "# Set as follows: DOC.set_contributor(\"name\", \"email\")  \n",
    "DOC.set_contributor('Mark A. Greenslade', 'momipsl@ipsl.jussieu.fr')"
   ]
  },
  {
   "cell_type": "markdown",
   "metadata": {},
   "source": [
    "### Document Table of Contents  \n",
    "[1. Key Properties --&gt; Variables](#1.-Key-Properties---&gt;-Variables)  \n",
    "[2. Key Properties --&gt; Seawater Properties](#2.-Key-Properties---&gt;-Seawater-Properties)  \n",
    "[3. Key Properties --&gt; Resolution](#3.-Key-Properties---&gt;-Resolution)  \n",
    "[4. Key Properties --&gt; Tuning Applied](#4.-Key-Properties---&gt;-Tuning-Applied)  \n",
    "[5. Key Properties --&gt; Assumptions](#5.-Key-Properties---&gt;-Assumptions)  \n",
    "[6. Key Properties --&gt; Conservation](#6.-Key-Properties---&gt;-Conservation)  \n",
    "[7. Grid --&gt; Discretisation --&gt; Horizontal](#7.-Grid---&gt;-Discretisation---&gt;-Horizontal)  \n",
    "[8. Grid --&gt; Discretisation --&gt; Vertical](#8.-Grid---&gt;-Discretisation---&gt;-Vertical)  \n",
    "[9. Grid --&gt; Seaice Categories](#9.-Grid---&gt;-Seaice-Categories)  \n",
    "[10. Grid --&gt; Snow On Seaice](#10.-Grid---&gt;-Snow-On-Seaice)  \n",
    "[11. Dynamics](#11.-Dynamics)  \n",
    "[12. Thermodynamics --&gt; Energy](#12.-Thermodynamics---&gt;-Energy)  \n",
    "[13. Thermodynamics --&gt; Mass](#13.-Thermodynamics---&gt;-Mass)  \n",
    "[14. Thermodynamics --&gt; Salt](#14.-Thermodynamics---&gt;-Salt)  \n",
    "[15. Thermodynamics --&gt; Salt --&gt; Mass Transport](#15.-Thermodynamics---&gt;-Salt---&gt;-Mass-Transport)  \n",
    "[16. Thermodynamics --&gt; Salt --&gt; Thermodynamics](#16.-Thermodynamics---&gt;-Salt---&gt;-Thermodynamics)  \n",
    "[17. Thermodynamics --&gt; Ice Thickness Distribution](#17.-Thermodynamics---&gt;-Ice-Thickness-Distribution)  \n",
    "[18. Thermodynamics --&gt; Melt Ponds](#18.-Thermodynamics---&gt;-Melt-Ponds)  \n",
    "[19. Thermodynamics --&gt; Snow Processes](#19.-Thermodynamics---&gt;-Snow-Processes)  \n",
    "[20. Radiative Processes](#20.-Radiative-Processes)  \n",
    "\n"
   ]
  },
  {
   "cell_type": "markdown",
   "metadata": {},
   "source": [
    "# 1. Key Properties --&gt; Variables  \n",
    "*List of prognostic variable in the sea ice model.*"
   ]
  },
  {
   "cell_type": "markdown",
   "metadata": {},
   "source": [
    "### 1.1. Prognostic\n",
    " *List of prognostic variables in the sea ice component.*\n",
    "\n",
    "**Is Required:** TRUE&nbsp;&nbsp;&nbsp;&nbsp;**Type:** ENUM&nbsp;&nbsp;&nbsp;&nbsp;**Cardinality:** 1.N"
   ]
  },
  {
   "cell_type": "code",
   "execution_count": null,
   "metadata": {
    "collapsed": true
   },
   "outputs": [],
   "source": [
    "# PROPERTY ID - DO NOT EDIT !  \n",
    "DOC.set_id('cmip6.seaice.key_properties.variables.prognostic')  \n",
    "\n",
    "# PROPERTY VALUE(S): \n",
    "# Set as follows: DOC.set_value(\"value\")  \n",
    "# Choices: \n",
    "#      \"Sea ice Temperature\"  \n",
    "#      \"Sea ice concentration\"  \n",
    "#      \"Sea ice thickness\"  \n",
    "#      \"Sea ice U-velocity\"  \n",
    "#      \"Sea ice V-velocity\"  \n",
    "#      \"Internal ice stress\"  \n",
    "#      \"Salinity\"  \n",
    "#      \"Snow temperature\"  \n",
    "#      \"Snow depth\"  \n",
    "#      \"Other: [Please specify]\"  \n",
    "DOC.set_value(\"Sea ice Temperature\")  \n",
    "\n",
    "# PROPERTY QUALITY CONTROL STATUS:  \n",
    "# 0=draft, 1=in-review, 2=reviewed  \n",
    "DOC.set_qc_status(0)"
   ]
  },
  {
   "cell_type": "markdown",
   "metadata": {},
   "source": [
    "# 2. Key Properties --&gt; Seawater Properties  \n",
    "*Properties of seawater relevant to sea ice*"
   ]
  },
  {
   "cell_type": "markdown",
   "metadata": {},
   "source": [
    "### 2.1. Ocean Freezing Point\n",
    " *Equation used to compute the freezing point (in deg C) of seawater, as a function of salinity and pressure*\n",
    "\n",
    "**Is Required:** TRUE&nbsp;&nbsp;&nbsp;&nbsp;**Type:** ENUM&nbsp;&nbsp;&nbsp;&nbsp;**Cardinality:** 1.1"
   ]
  },
  {
   "cell_type": "code",
   "execution_count": null,
   "metadata": {
    "collapsed": true
   },
   "outputs": [],
   "source": [
    "# PROPERTY ID - DO NOT EDIT !  \n",
    "DOC.set_id('cmip6.seaice.key_properties.seawater_properties.ocean_freezing_point')  \n",
    "\n",
    "# PROPERTY VALUE: \n",
    "# Set as follows: DOC.set_value(\"value\")  \n",
    "# Choices: \n",
    "#      \"TEOS-10\"  \n",
    "#      \"Constant\"  \n",
    "#      \"Other: [Please specify]\"  \n",
    "# TODO\n",
    "DOC.set_value()\n",
    "# PROPERTY QUALITY CONTROL STATUS:  \n",
    "# 0=draft, 1=in-review, 2=reviewed  \n",
    "DOC.set_qc_status(0)"
   ]
  },
  {
   "cell_type": "markdown",
   "metadata": {},
   "source": [
    "### 2.2. Ocean Freezing Point Value\n",
    " *If using a constant seawater freezing point, specify this value.*\n",
    "\n",
    "**Is Required:** FALSE&nbsp;&nbsp;&nbsp;&nbsp;**Type:** FLOAT&nbsp;&nbsp;&nbsp;&nbsp;**Cardinality:** 0.1"
   ]
  },
  {
   "cell_type": "code",
   "execution_count": null,
   "metadata": {
    "collapsed": true
   },
   "outputs": [],
   "source": [
    "# PROPERTY ID - DO NOT EDIT !  \n",
    "DOC.set_id('cmip6.seaice.key_properties.seawater_properties.ocean_freezing_point_value')  \n",
    "\n",
    "# PROPERTY VALUE: \n",
    "# Set as follows: DOC.set_value(value)  \n",
    "# TODO\n",
    "\n",
    "# PROPERTY QUALITY CONTROL STATUS:  \n",
    "# 0=draft, 1=in-review, 2=reviewed  \n",
    "DOC.set_qc_status(0)"
   ]
  },
  {
   "cell_type": "markdown",
   "metadata": {},
   "source": [
    "# 3. Key Properties --&gt; Resolution  \n",
    "*Resolution in the sea ice grid*"
   ]
  },
  {
   "cell_type": "markdown",
   "metadata": {},
   "source": [
    "### 3.1. Name\n",
    " *This is a string usually used by the modelling group to describe the resolution of this grid e.g. N512L180, T512L70, ORCA025 etc.*\n",
    "\n",
    "**Is Required:** TRUE&nbsp;&nbsp;&nbsp;&nbsp;**Type:** STRING&nbsp;&nbsp;&nbsp;&nbsp;**Cardinality:** 1.1"
   ]
  },
  {
   "cell_type": "code",
   "execution_count": null,
   "metadata": {
    "collapsed": true
   },
   "outputs": [],
   "source": [
    "# PROPERTY ID - DO NOT EDIT !  \n",
    "DOC.set_id('cmip6.seaice.key_properties.resolution.name')  \n",
    "\n",
    "# PROPERTY VALUE: \n",
    "# Set as follows: DOC.set_value(\"value\")  \n",
    "# TODO\n",
    "\n",
    "# PROPERTY QUALITY CONTROL STATUS:  \n",
    "# 0=draft, 1=in-review, 2=reviewed  \n",
    "DOC.set_qc_status(0)"
   ]
  },
  {
   "cell_type": "markdown",
   "metadata": {},
   "source": [
    "### 3.2. Canonical Horizontal Resolution\n",
    " *Expression quoted for gross comparisons of resolution, eg. 50km or 0.1 degrees etc.*\n",
    "\n",
    "**Is Required:** TRUE&nbsp;&nbsp;&nbsp;&nbsp;**Type:** STRING&nbsp;&nbsp;&nbsp;&nbsp;**Cardinality:** 1.1"
   ]
  },
  {
   "cell_type": "code",
   "execution_count": null,
   "metadata": {
    "collapsed": true
   },
   "outputs": [],
   "source": [
    "# PROPERTY ID - DO NOT EDIT !  \n",
    "DOC.set_id('cmip6.seaice.key_properties.resolution.canonical_horizontal_resolution')  \n",
    "\n",
    "# PROPERTY VALUE: \n",
    "# Set as follows: DOC.set_value(\"value\")  \n",
    "# TODO\n",
    "\n",
    "# PROPERTY QUALITY CONTROL STATUS:  \n",
    "# 0=draft, 1=in-review, 2=reviewed  \n",
    "DOC.set_qc_status(0)"
   ]
  },
  {
   "cell_type": "markdown",
   "metadata": {},
   "source": [
    "### 3.3. Number Of Horizontal Gridpoints\n",
    " *Total number of horizontal (XY) points (or degrees of freedom) on computational grid.*\n",
    "\n",
    "**Is Required:** TRUE&nbsp;&nbsp;&nbsp;&nbsp;**Type:** INTEGER&nbsp;&nbsp;&nbsp;&nbsp;**Cardinality:** 1.1"
   ]
  },
  {
   "cell_type": "code",
   "execution_count": null,
   "metadata": {
    "collapsed": true
   },
   "outputs": [],
   "source": [
    "# PROPERTY ID - DO NOT EDIT !  \n",
    "DOC.set_id('cmip6.seaice.key_properties.resolution.number_of_horizontal_gridpoints')  \n",
    "\n",
    "# PROPERTY VALUE: \n",
    "# Set as follows: DOC.set_value(value)  \n",
    "# TODO\n",
    "\n",
    "# PROPERTY QUALITY CONTROL STATUS:  \n",
    "# 0=draft, 1=in-review, 2=reviewed  \n",
    "DOC.set_qc_status(0)"
   ]
  },
  {
   "cell_type": "markdown",
   "metadata": {},
   "source": [
    "# 4. Key Properties --&gt; Tuning Applied  \n",
    "*Tuning applied to sea ice model component*"
   ]
  },
  {
   "cell_type": "markdown",
   "metadata": {},
   "source": [
    "### 4.1. Description\n",
    " *General overview description of tuning: explain and motivate the main targets and metrics retained.  Document the relative weight given to climate performance metrics versus process oriented metrics, and on the possible conflicts with parameterization level tuning. In particular describe any struggle with a parameter value that required pushing it to its limits to solve a particular model deficiency.*\n",
    "\n",
    "**Is Required:** TRUE&nbsp;&nbsp;&nbsp;&nbsp;**Type:** STRING&nbsp;&nbsp;&nbsp;&nbsp;**Cardinality:** 1.1"
   ]
  },
  {
   "cell_type": "code",
   "execution_count": null,
   "metadata": {
    "collapsed": true
   },
   "outputs": [],
   "source": [
    "# PROPERTY ID - DO NOT EDIT !  \n",
    "DOC.set_id('cmip6.seaice.key_properties.tuning_applied.description')  \n",
    "\n",
    "# PROPERTY VALUE: \n",
    "# Set as follows: DOC.set_value(\"value\")  \n",
    "# TODO\n",
    "\n",
    "# PROPERTY QUALITY CONTROL STATUS:  \n",
    "# 0=draft, 1=in-review, 2=reviewed  \n",
    "DOC.set_qc_status(0)"
   ]
  },
  {
   "cell_type": "markdown",
   "metadata": {},
   "source": [
    "### 4.2. Target\n",
    " *What was the aim of tuning, e.g. correct sea ice minima, correct seasonal cycle.*\n",
    "\n",
    "**Is Required:** TRUE&nbsp;&nbsp;&nbsp;&nbsp;**Type:** STRING&nbsp;&nbsp;&nbsp;&nbsp;**Cardinality:** 1.1"
   ]
  },
  {
   "cell_type": "code",
   "execution_count": null,
   "metadata": {
    "collapsed": true
   },
   "outputs": [],
   "source": [
    "# PROPERTY ID - DO NOT EDIT !  \n",
    "DOC.set_id('cmip6.seaice.key_properties.tuning_applied.target')  \n",
    "\n",
    "# PROPERTY VALUE: \n",
    "# Set as follows: DOC.set_value(\"value\")  \n",
    "# TODO\n",
    "\n",
    "# PROPERTY QUALITY CONTROL STATUS:  \n",
    "# 0=draft, 1=in-review, 2=reviewed  \n",
    "DOC.set_qc_status(0)"
   ]
  },
  {
   "cell_type": "markdown",
   "metadata": {},
   "source": [
    "### 4.3. Simulations\n",
    " *Which simulations had tuning applied, e.g. all, not historical, only pi-control? *\n",
    "\n",
    "**Is Required:** TRUE&nbsp;&nbsp;&nbsp;&nbsp;**Type:** STRING&nbsp;&nbsp;&nbsp;&nbsp;**Cardinality:** 1.1"
   ]
  },
  {
   "cell_type": "code",
   "execution_count": null,
   "metadata": {
    "collapsed": true
   },
   "outputs": [],
   "source": [
    "# PROPERTY ID - DO NOT EDIT !  \n",
    "DOC.set_id('cmip6.seaice.key_properties.tuning_applied.simulations')  \n",
    "\n",
    "# PROPERTY VALUE: \n",
    "# Set as follows: DOC.set_value(\"value\")  \n",
    "# TODO\n",
    "\n",
    "# PROPERTY QUALITY CONTROL STATUS:  \n",
    "# 0=draft, 1=in-review, 2=reviewed  \n",
    "DOC.set_qc_status(0)"
   ]
  },
  {
   "cell_type": "markdown",
   "metadata": {},
   "source": [
    "### 4.4. Metrics Used\n",
    " *List any observed metrics used in tuning model/parameters*\n",
    "\n",
    "**Is Required:** TRUE&nbsp;&nbsp;&nbsp;&nbsp;**Type:** STRING&nbsp;&nbsp;&nbsp;&nbsp;**Cardinality:** 1.1"
   ]
  },
  {
   "cell_type": "code",
   "execution_count": null,
   "metadata": {
    "collapsed": true
   },
   "outputs": [],
   "source": [
    "# PROPERTY ID - DO NOT EDIT !  \n",
    "DOC.set_id('cmip6.seaice.key_properties.tuning_applied.metrics_used')  \n",
    "\n",
    "# PROPERTY VALUE: \n",
    "# Set as follows: DOC.set_value(\"value\")  \n",
    "# TODO\n",
    "\n",
    "# PROPERTY QUALITY CONTROL STATUS:  \n",
    "# 0=draft, 1=in-review, 2=reviewed  \n",
    "DOC.set_qc_status(0)"
   ]
  },
  {
   "cell_type": "markdown",
   "metadata": {},
   "source": [
    "### 4.5. Variables\n",
    " *Which variables were changed during the tuning process?*\n",
    "\n",
    "**Is Required:** FALSE&nbsp;&nbsp;&nbsp;&nbsp;**Type:** STRING&nbsp;&nbsp;&nbsp;&nbsp;**Cardinality:** 0.1"
   ]
  },
  {
   "cell_type": "code",
   "execution_count": null,
   "metadata": {
    "collapsed": true
   },
   "outputs": [],
   "source": [
    "# PROPERTY ID - DO NOT EDIT !  \n",
    "DOC.set_id('cmip6.seaice.key_properties.tuning_applied.variables')  \n",
    "\n",
    "# PROPERTY VALUE: \n",
    "# Set as follows: DOC.set_value(\"value\")  \n",
    "# TODO\n",
    "\n",
    "# PROPERTY QUALITY CONTROL STATUS:  \n",
    "# 0=draft, 1=in-review, 2=reviewed  \n",
    "DOC.set_qc_status(0)"
   ]
  },
  {
   "cell_type": "markdown",
   "metadata": {},
   "source": [
    "# 5. Key Properties --&gt; Assumptions  \n",
    "*Assumptions made in the sea ice model*"
   ]
  },
  {
   "cell_type": "markdown",
   "metadata": {},
   "source": [
    "### 5.1. Description\n",
    " *General overview description of any *key* assumptions made in this model.*\n",
    "\n",
    "**Is Required:** TRUE&nbsp;&nbsp;&nbsp;&nbsp;**Type:** STRING&nbsp;&nbsp;&nbsp;&nbsp;**Cardinality:** 1.N"
   ]
  },
  {
   "cell_type": "code",
   "execution_count": null,
   "metadata": {
    "collapsed": true
   },
   "outputs": [],
   "source": [
    "# PROPERTY ID - DO NOT EDIT !  \n",
    "DOC.set_id('cmip6.seaice.key_properties.assumptions.description')  \n",
    "\n",
    "# PROPERTY VALUE(S): \n",
    "# Set as follows: DOC.set_value(\"value\")  \n",
    "# TODO\n",
    "\n",
    "# PROPERTY QUALITY CONTROL STATUS:  \n",
    "# 0=draft, 1=in-review, 2=reviewed  \n",
    "DOC.set_qc_status(0)"
   ]
  },
  {
   "cell_type": "markdown",
   "metadata": {},
   "source": [
    "### 5.2. On Diagnostic Variables\n",
    " *Note any assumptions that specifically affect the CMIP6 diagnostic sea ice variables.*\n",
    "\n",
    "**Is Required:** TRUE&nbsp;&nbsp;&nbsp;&nbsp;**Type:** STRING&nbsp;&nbsp;&nbsp;&nbsp;**Cardinality:** 1.N"
   ]
  },
  {
   "cell_type": "code",
   "execution_count": null,
   "metadata": {
    "collapsed": true
   },
   "outputs": [],
   "source": [
    "# PROPERTY ID - DO NOT EDIT !  \n",
    "DOC.set_id('cmip6.seaice.key_properties.assumptions.on_diagnostic_variables')  \n",
    "\n",
    "# PROPERTY VALUE(S): \n",
    "# Set as follows: DOC.set_value(\"value\")  \n",
    "# TODO\n",
    "\n",
    "# PROPERTY QUALITY CONTROL STATUS:  \n",
    "# 0=draft, 1=in-review, 2=reviewed  \n",
    "DOC.set_qc_status(0)"
   ]
  },
  {
   "cell_type": "markdown",
   "metadata": {},
   "source": [
    "### 5.3. Missing Processes\n",
    " *List any *key* processes missing in this model configuration? Provide full details where this affects the CMIP6 diagnostic sea ice variables?*\n",
    "\n",
    "**Is Required:** TRUE&nbsp;&nbsp;&nbsp;&nbsp;**Type:** STRING&nbsp;&nbsp;&nbsp;&nbsp;**Cardinality:** 1.N"
   ]
  },
  {
   "cell_type": "code",
   "execution_count": null,
   "metadata": {
    "collapsed": true
   },
   "outputs": [],
   "source": [
    "# PROPERTY ID - DO NOT EDIT !  \n",
    "DOC.set_id('cmip6.seaice.key_properties.assumptions.missing_processes')  \n",
    "\n",
    "# PROPERTY VALUE(S): \n",
    "# Set as follows: DOC.set_value(\"value\")  \n",
    "# TODO\n",
    "\n",
    "# PROPERTY QUALITY CONTROL STATUS:  \n",
    "# 0=draft, 1=in-review, 2=reviewed  \n",
    "DOC.set_qc_status(0)"
   ]
  },
  {
   "cell_type": "markdown",
   "metadata": {},
   "source": [
    "# 6. Key Properties --&gt; Conservation  \n",
    "*Conservation in the sea ice component*"
   ]
  },
  {
   "cell_type": "markdown",
   "metadata": {},
   "source": [
    "### 6.1. Description\n",
    " *Provide a general description of conservation methodology.*\n",
    "\n",
    "**Is Required:** TRUE&nbsp;&nbsp;&nbsp;&nbsp;**Type:** STRING&nbsp;&nbsp;&nbsp;&nbsp;**Cardinality:** 1.1"
   ]
  },
  {
   "cell_type": "code",
   "execution_count": null,
   "metadata": {
    "collapsed": true
   },
   "outputs": [],
   "source": [
    "# PROPERTY ID - DO NOT EDIT !  \n",
    "DOC.set_id('cmip6.seaice.key_properties.conservation.description')  \n",
    "\n",
    "# PROPERTY VALUE: \n",
    "# Set as follows: DOC.set_value(\"value\")  \n",
    "# TODO\n",
    "\n",
    "# PROPERTY QUALITY CONTROL STATUS:  \n",
    "# 0=draft, 1=in-review, 2=reviewed  \n",
    "DOC.set_qc_status(0)"
   ]
  },
  {
   "cell_type": "markdown",
   "metadata": {},
   "source": [
    "### 6.2. Properties\n",
    " *Properties conserved in sea ice by the numerical schemes.*\n",
    "\n",
    "**Is Required:** TRUE&nbsp;&nbsp;&nbsp;&nbsp;**Type:** ENUM&nbsp;&nbsp;&nbsp;&nbsp;**Cardinality:** 1.N"
   ]
  },
  {
   "cell_type": "code",
   "execution_count": null,
   "metadata": {
    "collapsed": true
   },
   "outputs": [],
   "source": [
    "# PROPERTY ID - DO NOT EDIT !  \n",
    "DOC.set_id('cmip6.seaice.key_properties.conservation.properties')  \n",
    "\n",
    "# PROPERTY VALUE(S): \n",
    "# Set as follows: DOC.set_value(\"value\")  \n",
    "# Choices: \n",
    "#      \"Energy\"  \n",
    "#      \"Mass\"  \n",
    "#      \"Salt\"  \n",
    "#      \"Other: [Please specify]\"  \n",
    "# TODO\n",
    "\n",
    "# PROPERTY QUALITY CONTROL STATUS:  \n",
    "# 0=draft, 1=in-review, 2=reviewed  \n",
    "DOC.set_qc_status(0)"
   ]
  },
  {
   "cell_type": "markdown",
   "metadata": {},
   "source": [
    "### 6.3. Budget\n",
    " *For each conserved property, specify the output variables which close the related budgets.*\n",
    "\n",
    "**Is Required:** TRUE&nbsp;&nbsp;&nbsp;&nbsp;**Type:** STRING&nbsp;&nbsp;&nbsp;&nbsp;**Cardinality:** 1.1"
   ]
  },
  {
   "cell_type": "code",
   "execution_count": null,
   "metadata": {
    "collapsed": true
   },
   "outputs": [],
   "source": [
    "# PROPERTY ID - DO NOT EDIT !  \n",
    "DOC.set_id('cmip6.seaice.key_properties.conservation.budget')  \n",
    "\n",
    "# PROPERTY VALUE: \n",
    "# Set as follows: DOC.set_value(\"value\")  \n",
    "# TODO\n",
    "\n",
    "# PROPERTY QUALITY CONTROL STATUS:  \n",
    "# 0=draft, 1=in-review, 2=reviewed  \n",
    "DOC.set_qc_status(0)"
   ]
  },
  {
   "cell_type": "markdown",
   "metadata": {},
   "source": [
    "### 6.4. Was Flux Correction Used\n",
    " *Does conservation involved flux correction?*\n",
    "\n",
    "**Is Required:** TRUE&nbsp;&nbsp;&nbsp;&nbsp;**Type:** BOOLEAN&nbsp;&nbsp;&nbsp;&nbsp;**Cardinality:** 1.1"
   ]
  },
  {
   "cell_type": "code",
   "execution_count": null,
   "metadata": {
    "collapsed": true
   },
   "outputs": [],
   "source": [
    "# PROPERTY ID - DO NOT EDIT !  \n",
    "DOC.set_id('cmip6.seaice.key_properties.conservation.was_flux_correction_used')  \n",
    "\n",
    "# PROPERTY VALUE: \n",
    "# Set as follows: DOC.set_value(value)  \n",
    "# Choices: \n",
    "#     True  \n",
    "#     False  \n",
    "# TODO\n",
    "\n",
    "# PROPERTY QUALITY CONTROL STATUS:  \n",
    "# 0=draft, 1=in-review, 2=reviewed  \n",
    "DOC.set_qc_status(0)"
   ]
  },
  {
   "cell_type": "markdown",
   "metadata": {},
   "source": [
    "### 6.5. Corrected Conserved Prognostic Variables\n",
    " *List any variables which are conserved by *more* than the numerical scheme alone.*\n",
    "\n",
    "**Is Required:** TRUE&nbsp;&nbsp;&nbsp;&nbsp;**Type:** STRING&nbsp;&nbsp;&nbsp;&nbsp;**Cardinality:** 1.1"
   ]
  },
  {
   "cell_type": "code",
   "execution_count": null,
   "metadata": {
    "collapsed": true
   },
   "outputs": [],
   "source": [
    "# PROPERTY ID - DO NOT EDIT !  \n",
    "DOC.set_id('cmip6.seaice.key_properties.conservation.corrected_conserved_prognostic_variables')  \n",
    "\n",
    "# PROPERTY VALUE: \n",
    "# Set as follows: DOC.set_value(\"value\")  \n",
    "# TODO\n",
    "\n",
    "# PROPERTY QUALITY CONTROL STATUS:  \n",
    "# 0=draft, 1=in-review, 2=reviewed  \n",
    "DOC.set_qc_status(0)"
   ]
  },
  {
   "cell_type": "markdown",
   "metadata": {},
   "source": [
    "# 7. Grid --&gt; Discretisation --&gt; Horizontal  \n",
    "*Sea ice discretisation in the horizontal*"
   ]
  },
  {
   "cell_type": "markdown",
   "metadata": {},
   "source": [
    "### 7.1. Grid\n",
    " *Grid on which sea ice is horizontal discretised?*\n",
    "\n",
    "**Is Required:** TRUE&nbsp;&nbsp;&nbsp;&nbsp;**Type:** ENUM&nbsp;&nbsp;&nbsp;&nbsp;**Cardinality:** 1.1"
   ]
  },
  {
   "cell_type": "code",
   "execution_count": null,
   "metadata": {
    "collapsed": true
   },
   "outputs": [],
   "source": [
    "# PROPERTY ID - DO NOT EDIT !  \n",
    "DOC.set_id('cmip6.seaice.grid.discretisation.horizontal.grid')  \n",
    "\n",
    "# PROPERTY VALUE: \n",
    "# Set as follows: DOC.set_value(\"value\")  \n",
    "# Choices: \n",
    "#      \"Ocean grid\"  \n",
    "#      \"Atmosphere Grid\"  \n",
    "#      \"Own Grid\"  \n",
    "#      \"Other: [Please specify]\"  \n",
    "# TODO\n",
    "\n",
    "# PROPERTY QUALITY CONTROL STATUS:  \n",
    "# 0=draft, 1=in-review, 2=reviewed  \n",
    "DOC.set_qc_status(0)"
   ]
  },
  {
   "cell_type": "markdown",
   "metadata": {},
   "source": [
    "### 7.2. Grid Type\n",
    " *What is the type of sea ice grid?*\n",
    "\n",
    "**Is Required:** TRUE&nbsp;&nbsp;&nbsp;&nbsp;**Type:** ENUM&nbsp;&nbsp;&nbsp;&nbsp;**Cardinality:** 1.1"
   ]
  },
  {
   "cell_type": "code",
   "execution_count": null,
   "metadata": {
    "collapsed": true
   },
   "outputs": [],
   "source": [
    "# PROPERTY ID - DO NOT EDIT !  \n",
    "DOC.set_id('cmip6.seaice.grid.discretisation.horizontal.grid_type')  \n",
    "\n",
    "# PROPERTY VALUE: \n",
    "# Set as follows: DOC.set_value(\"value\")  \n",
    "# Choices: \n",
    "#      \"Structured grid\"  \n",
    "#      \"Unstructured grid\"  \n",
    "#      \"Adaptive grid\"  \n",
    "#      \"Other: [Please specify]\"  \n",
    "# TODO\n",
    "\n",
    "# PROPERTY QUALITY CONTROL STATUS:  \n",
    "# 0=draft, 1=in-review, 2=reviewed  \n",
    "DOC.set_qc_status(0)"
   ]
  },
  {
   "cell_type": "markdown",
   "metadata": {},
   "source": [
    "### 7.3. Scheme\n",
    " *What is the advection scheme?*\n",
    "\n",
    "**Is Required:** TRUE&nbsp;&nbsp;&nbsp;&nbsp;**Type:** ENUM&nbsp;&nbsp;&nbsp;&nbsp;**Cardinality:** 1.1"
   ]
  },
  {
   "cell_type": "code",
   "execution_count": null,
   "metadata": {
    "collapsed": true
   },
   "outputs": [],
   "source": [
    "# PROPERTY ID - DO NOT EDIT !  \n",
    "DOC.set_id('cmip6.seaice.grid.discretisation.horizontal.scheme')  \n",
    "\n",
    "# PROPERTY VALUE: \n",
    "# Set as follows: DOC.set_value(\"value\")  \n",
    "# Choices: \n",
    "#      \"Finite differences\"  \n",
    "#      \"Finite elements\"  \n",
    "#      \"Finite volumes\"  \n",
    "#      \"Other: [Please specify]\"  \n",
    "# TODO\n",
    "\n",
    "# PROPERTY QUALITY CONTROL STATUS:  \n",
    "# 0=draft, 1=in-review, 2=reviewed  \n",
    "DOC.set_qc_status(0)"
   ]
  },
  {
   "cell_type": "markdown",
   "metadata": {},
   "source": [
    "### 7.4. Thermodynamics Time Step\n",
    " *What is the time step in the sea ice model thermodynamic component in seconds.*\n",
    "\n",
    "**Is Required:** TRUE&nbsp;&nbsp;&nbsp;&nbsp;**Type:** INTEGER&nbsp;&nbsp;&nbsp;&nbsp;**Cardinality:** 1.1"
   ]
  },
  {
   "cell_type": "code",
   "execution_count": null,
   "metadata": {
    "collapsed": true
   },
   "outputs": [],
   "source": [
    "# PROPERTY ID - DO NOT EDIT !  \n",
    "DOC.set_id('cmip6.seaice.grid.discretisation.horizontal.thermodynamics_time_step')  \n",
    "\n",
    "# PROPERTY VALUE: \n",
    "# Set as follows: DOC.set_value(value)  \n",
    "# TODO\n",
    "\n",
    "# PROPERTY QUALITY CONTROL STATUS:  \n",
    "# 0=draft, 1=in-review, 2=reviewed  \n",
    "DOC.set_qc_status(0)"
   ]
  },
  {
   "cell_type": "markdown",
   "metadata": {},
   "source": [
    "### 7.5. Dynamics Time Step\n",
    " *What is the time step in the sea ice model dynamic component in seconds.*\n",
    "\n",
    "**Is Required:** TRUE&nbsp;&nbsp;&nbsp;&nbsp;**Type:** INTEGER&nbsp;&nbsp;&nbsp;&nbsp;**Cardinality:** 1.1"
   ]
  },
  {
   "cell_type": "code",
   "execution_count": null,
   "metadata": {
    "collapsed": true
   },
   "outputs": [],
   "source": [
    "# PROPERTY ID - DO NOT EDIT !  \n",
    "DOC.set_id('cmip6.seaice.grid.discretisation.horizontal.dynamics_time_step')  \n",
    "\n",
    "# PROPERTY VALUE: \n",
    "# Set as follows: DOC.set_value(value)  \n",
    "# TODO\n",
    "\n",
    "# PROPERTY QUALITY CONTROL STATUS:  \n",
    "# 0=draft, 1=in-review, 2=reviewed  \n",
    "DOC.set_qc_status(0)"
   ]
  },
  {
   "cell_type": "markdown",
   "metadata": {},
   "source": [
    "### 7.6. Additional Details\n",
    " *Specify any additional horizontal discretisation details.*\n",
    "\n",
    "**Is Required:** FALSE&nbsp;&nbsp;&nbsp;&nbsp;**Type:** STRING&nbsp;&nbsp;&nbsp;&nbsp;**Cardinality:** 0.1"
   ]
  },
  {
   "cell_type": "code",
   "execution_count": null,
   "metadata": {
    "collapsed": true
   },
   "outputs": [],
   "source": [
    "# PROPERTY ID - DO NOT EDIT !  \n",
    "DOC.set_id('cmip6.seaice.grid.discretisation.horizontal.additional_details')  \n",
    "\n",
    "# PROPERTY VALUE: \n",
    "# Set as follows: DOC.set_value(\"value\")  \n",
    "# TODO\n",
    "\n",
    "# PROPERTY QUALITY CONTROL STATUS:  \n",
    "# 0=draft, 1=in-review, 2=reviewed  \n",
    "DOC.set_qc_status(0)"
   ]
  },
  {
   "cell_type": "markdown",
   "metadata": {},
   "source": [
    "# 8. Grid --&gt; Discretisation --&gt; Vertical  \n",
    "*Sea ice vertical properties*"
   ]
  },
  {
   "cell_type": "markdown",
   "metadata": {},
   "source": [
    "### 8.1. Layering\n",
    " *What type of sea ice vertical layers are implemented for purposes of thermodynamic calculations?*\n",
    "\n",
    "**Is Required:** TRUE&nbsp;&nbsp;&nbsp;&nbsp;**Type:** ENUM&nbsp;&nbsp;&nbsp;&nbsp;**Cardinality:** 1.N"
   ]
  },
  {
   "cell_type": "code",
   "execution_count": null,
   "metadata": {
    "collapsed": true
   },
   "outputs": [],
   "source": [
    "# PROPERTY ID - DO NOT EDIT !  \n",
    "DOC.set_id('cmip6.seaice.grid.discretisation.vertical.layering')  \n",
    "\n",
    "# PROPERTY VALUE(S): \n",
    "# Set as follows: DOC.set_value(\"value\")  \n",
    "# Choices: \n",
    "#      \"Zero-layer\"  \n",
    "#      \"Two-levels\"  \n",
    "#      \"Multi-level\"  \n",
    "#      \"Other: [Please specify]\"  \n",
    "# TODO\n",
    "\n",
    "# PROPERTY QUALITY CONTROL STATUS:  \n",
    "# 0=draft, 1=in-review, 2=reviewed  \n",
    "DOC.set_qc_status(0)"
   ]
  },
  {
   "cell_type": "markdown",
   "metadata": {},
   "source": [
    "### 8.2. Number Of Layers\n",
    " *If using multi-layers specify how many.*\n",
    "\n",
    "**Is Required:** TRUE&nbsp;&nbsp;&nbsp;&nbsp;**Type:** INTEGER&nbsp;&nbsp;&nbsp;&nbsp;**Cardinality:** 1.1"
   ]
  },
  {
   "cell_type": "code",
   "execution_count": null,
   "metadata": {
    "collapsed": true
   },
   "outputs": [],
   "source": [
    "# PROPERTY ID - DO NOT EDIT !  \n",
    "DOC.set_id('cmip6.seaice.grid.discretisation.vertical.number_of_layers')  \n",
    "\n",
    "# PROPERTY VALUE: \n",
    "# Set as follows: DOC.set_value(value)  \n",
    "# TODO\n",
    "\n",
    "# PROPERTY QUALITY CONTROL STATUS:  \n",
    "# 0=draft, 1=in-review, 2=reviewed  \n",
    "DOC.set_qc_status(0)"
   ]
  },
  {
   "cell_type": "markdown",
   "metadata": {},
   "source": [
    "### 8.3. Additional Details\n",
    " *Specify any additional vertical grid details.*\n",
    "\n",
    "**Is Required:** FALSE&nbsp;&nbsp;&nbsp;&nbsp;**Type:** STRING&nbsp;&nbsp;&nbsp;&nbsp;**Cardinality:** 0.1"
   ]
  },
  {
   "cell_type": "code",
   "execution_count": null,
   "metadata": {
    "collapsed": true
   },
   "outputs": [],
   "source": [
    "# PROPERTY ID - DO NOT EDIT !  \n",
    "DOC.set_id('cmip6.seaice.grid.discretisation.vertical.additional_details')  \n",
    "\n",
    "# PROPERTY VALUE: \n",
    "# Set as follows: DOC.set_value(\"value\")  \n",
    "# TODO\n",
    "\n",
    "# PROPERTY QUALITY CONTROL STATUS:  \n",
    "# 0=draft, 1=in-review, 2=reviewed  \n",
    "DOC.set_qc_status(0)"
   ]
  },
  {
   "cell_type": "markdown",
   "metadata": {},
   "source": [
    "# 9. Grid --&gt; Seaice Categories  \n",
    "*What method is used to represent sea ice categories ?*"
   ]
  },
  {
   "cell_type": "markdown",
   "metadata": {},
   "source": [
    "### 9.1. Has Mulitple Categories\n",
    " *Set to true if the sea ice model has multiple sea ice categories.*\n",
    "\n",
    "**Is Required:** TRUE&nbsp;&nbsp;&nbsp;&nbsp;**Type:** BOOLEAN&nbsp;&nbsp;&nbsp;&nbsp;**Cardinality:** 1.1"
   ]
  },
  {
   "cell_type": "code",
   "execution_count": null,
   "metadata": {
    "collapsed": true
   },
   "outputs": [],
   "source": [
    "# PROPERTY ID - DO NOT EDIT !  \n",
    "DOC.set_id('cmip6.seaice.grid.seaice_categories.has_mulitple_categories')  \n",
    "\n",
    "# PROPERTY VALUE: \n",
    "# Set as follows: DOC.set_value(value)  \n",
    "# Choices: \n",
    "#     True  \n",
    "#     False  \n",
    "# TODO\n",
    "\n",
    "# PROPERTY QUALITY CONTROL STATUS:  \n",
    "# 0=draft, 1=in-review, 2=reviewed  \n",
    "DOC.set_qc_status(0)"
   ]
  },
  {
   "cell_type": "markdown",
   "metadata": {},
   "source": [
    "### 9.2. Number Of Categories\n",
    " *If using sea ice categories specify how many.*\n",
    "\n",
    "**Is Required:** TRUE&nbsp;&nbsp;&nbsp;&nbsp;**Type:** INTEGER&nbsp;&nbsp;&nbsp;&nbsp;**Cardinality:** 1.1"
   ]
  },
  {
   "cell_type": "code",
   "execution_count": null,
   "metadata": {
    "collapsed": true
   },
   "outputs": [],
   "source": [
    "# PROPERTY ID - DO NOT EDIT !  \n",
    "DOC.set_id('cmip6.seaice.grid.seaice_categories.number_of_categories')  \n",
    "\n",
    "# PROPERTY VALUE: \n",
    "# Set as follows: DOC.set_value(value)  \n",
    "# TODO\n",
    "\n",
    "# PROPERTY QUALITY CONTROL STATUS:  \n",
    "# 0=draft, 1=in-review, 2=reviewed  \n",
    "DOC.set_qc_status(0)"
   ]
  },
  {
   "cell_type": "markdown",
   "metadata": {},
   "source": [
    "### 9.3. Category Limits\n",
    " *If using sea ice categories specify each of the category limits.*\n",
    "\n",
    "**Is Required:** TRUE&nbsp;&nbsp;&nbsp;&nbsp;**Type:** STRING&nbsp;&nbsp;&nbsp;&nbsp;**Cardinality:** 1.1"
   ]
  },
  {
   "cell_type": "code",
   "execution_count": null,
   "metadata": {
    "collapsed": true
   },
   "outputs": [],
   "source": [
    "# PROPERTY ID - DO NOT EDIT !  \n",
    "DOC.set_id('cmip6.seaice.grid.seaice_categories.category_limits')  \n",
    "\n",
    "# PROPERTY VALUE: \n",
    "# Set as follows: DOC.set_value(\"value\")  \n",
    "# TODO\n",
    "\n",
    "# PROPERTY QUALITY CONTROL STATUS:  \n",
    "# 0=draft, 1=in-review, 2=reviewed  \n",
    "DOC.set_qc_status(0)"
   ]
  },
  {
   "cell_type": "markdown",
   "metadata": {},
   "source": [
    "### 9.4. Ice Thickness Distribution Scheme\n",
    " *Describe the sea ice thickness distribution scheme*\n",
    "\n",
    "**Is Required:** TRUE&nbsp;&nbsp;&nbsp;&nbsp;**Type:** STRING&nbsp;&nbsp;&nbsp;&nbsp;**Cardinality:** 1.1"
   ]
  },
  {
   "cell_type": "code",
   "execution_count": null,
   "metadata": {
    "collapsed": true
   },
   "outputs": [],
   "source": [
    "# PROPERTY ID - DO NOT EDIT !  \n",
    "DOC.set_id('cmip6.seaice.grid.seaice_categories.ice_thickness_distribution_scheme')  \n",
    "\n",
    "# PROPERTY VALUE: \n",
    "# Set as follows: DOC.set_value(\"value\")  \n",
    "# TODO\n",
    "\n",
    "# PROPERTY QUALITY CONTROL STATUS:  \n",
    "# 0=draft, 1=in-review, 2=reviewed  \n",
    "DOC.set_qc_status(0)"
   ]
  },
  {
   "cell_type": "markdown",
   "metadata": {},
   "source": [
    "### 9.5. Other\n",
    " *If the sea ice model does not use sea ice categories specify any additional details.*\n",
    "\n",
    "**Is Required:** FALSE&nbsp;&nbsp;&nbsp;&nbsp;**Type:** STRING&nbsp;&nbsp;&nbsp;&nbsp;**Cardinality:** 0.1"
   ]
  },
  {
   "cell_type": "code",
   "execution_count": null,
   "metadata": {
    "collapsed": true
   },
   "outputs": [],
   "source": [
    "# PROPERTY ID - DO NOT EDIT !  \n",
    "DOC.set_id('cmip6.seaice.grid.seaice_categories.other')  \n",
    "\n",
    "# PROPERTY VALUE: \n",
    "# Set as follows: DOC.set_value(\"value\")  \n",
    "# TODO\n",
    "\n",
    "# PROPERTY QUALITY CONTROL STATUS:  \n",
    "# 0=draft, 1=in-review, 2=reviewed  \n",
    "DOC.set_qc_status(0)"
   ]
  },
  {
   "cell_type": "markdown",
   "metadata": {},
   "source": [
    "# 10. Grid --&gt; Snow On Seaice  \n",
    "*Snow on sea ice details*"
   ]
  },
  {
   "cell_type": "markdown",
   "metadata": {},
   "source": [
    "### 10.1. Has Snow On Ice\n",
    " *Is snow on ice represented in this model?*\n",
    "\n",
    "**Is Required:** TRUE&nbsp;&nbsp;&nbsp;&nbsp;**Type:** BOOLEAN&nbsp;&nbsp;&nbsp;&nbsp;**Cardinality:** 1.1"
   ]
  },
  {
   "cell_type": "code",
   "execution_count": null,
   "metadata": {
    "collapsed": true
   },
   "outputs": [],
   "source": [
    "# PROPERTY ID - DO NOT EDIT !  \n",
    "DOC.set_id('cmip6.seaice.grid.snow_on_seaice.has_snow_on_ice')  \n",
    "\n",
    "# PROPERTY VALUE: \n",
    "# Set as follows: DOC.set_value(value)  \n",
    "# Choices: \n",
    "#     True  \n",
    "#     False  \n",
    "# TODO\n",
    "\n",
    "# PROPERTY QUALITY CONTROL STATUS:  \n",
    "# 0=draft, 1=in-review, 2=reviewed  \n",
    "DOC.set_qc_status(0)"
   ]
  },
  {
   "cell_type": "markdown",
   "metadata": {},
   "source": [
    "### 10.2. Number Of Snow Levels\n",
    " *Number of vertical levels of snow on ice?*\n",
    "\n",
    "**Is Required:** TRUE&nbsp;&nbsp;&nbsp;&nbsp;**Type:** INTEGER&nbsp;&nbsp;&nbsp;&nbsp;**Cardinality:** 1.1"
   ]
  },
  {
   "cell_type": "code",
   "execution_count": null,
   "metadata": {
    "collapsed": true
   },
   "outputs": [],
   "source": [
    "# PROPERTY ID - DO NOT EDIT !  \n",
    "DOC.set_id('cmip6.seaice.grid.snow_on_seaice.number_of_snow_levels')  \n",
    "\n",
    "# PROPERTY VALUE: \n",
    "# Set as follows: DOC.set_value(value)  \n",
    "# TODO\n",
    "\n",
    "# PROPERTY QUALITY CONTROL STATUS:  \n",
    "# 0=draft, 1=in-review, 2=reviewed  \n",
    "DOC.set_qc_status(0)"
   ]
  },
  {
   "cell_type": "markdown",
   "metadata": {},
   "source": [
    "### 10.3. Snow Fraction\n",
    " *Describe how the snow fraction on sea ice is determined*\n",
    "\n",
    "**Is Required:** TRUE&nbsp;&nbsp;&nbsp;&nbsp;**Type:** STRING&nbsp;&nbsp;&nbsp;&nbsp;**Cardinality:** 1.1"
   ]
  },
  {
   "cell_type": "code",
   "execution_count": null,
   "metadata": {
    "collapsed": true
   },
   "outputs": [],
   "source": [
    "# PROPERTY ID - DO NOT EDIT !  \n",
    "DOC.set_id('cmip6.seaice.grid.snow_on_seaice.snow_fraction')  \n",
    "\n",
    "# PROPERTY VALUE: \n",
    "# Set as follows: DOC.set_value(\"value\")  \n",
    "# TODO\n",
    "\n",
    "# PROPERTY QUALITY CONTROL STATUS:  \n",
    "# 0=draft, 1=in-review, 2=reviewed  \n",
    "DOC.set_qc_status(0)"
   ]
  },
  {
   "cell_type": "markdown",
   "metadata": {},
   "source": [
    "### 10.4. Additional Details\n",
    " *Specify any additional details related to snow on ice.*\n",
    "\n",
    "**Is Required:** FALSE&nbsp;&nbsp;&nbsp;&nbsp;**Type:** STRING&nbsp;&nbsp;&nbsp;&nbsp;**Cardinality:** 0.1"
   ]
  },
  {
   "cell_type": "code",
   "execution_count": null,
   "metadata": {
    "collapsed": true
   },
   "outputs": [],
   "source": [
    "# PROPERTY ID - DO NOT EDIT !  \n",
    "DOC.set_id('cmip6.seaice.grid.snow_on_seaice.additional_details')  \n",
    "\n",
    "# PROPERTY VALUE: \n",
    "# Set as follows: DOC.set_value(\"value\")  \n",
    "# TODO\n",
    "\n",
    "# PROPERTY QUALITY CONTROL STATUS:  \n",
    "# 0=draft, 1=in-review, 2=reviewed  \n",
    "DOC.set_qc_status(0)"
   ]
  },
  {
   "cell_type": "markdown",
   "metadata": {},
   "source": [
    "# 11. Dynamics  \n",
    "*Sea Ice Dynamics*"
   ]
  },
  {
   "cell_type": "markdown",
   "metadata": {},
   "source": [
    "### 11.1. Horizontal Transport\n",
    " *What is the method of horizontal advection of sea ice?*\n",
    "\n",
    "**Is Required:** TRUE&nbsp;&nbsp;&nbsp;&nbsp;**Type:** ENUM&nbsp;&nbsp;&nbsp;&nbsp;**Cardinality:** 1.1"
   ]
  },
  {
   "cell_type": "code",
   "execution_count": null,
   "metadata": {
    "collapsed": true
   },
   "outputs": [],
   "source": [
    "# PROPERTY ID - DO NOT EDIT !  \n",
    "DOC.set_id('cmip6.seaice.dynamics.horizontal_transport')  \n",
    "\n",
    "# PROPERTY VALUE: \n",
    "# Set as follows: DOC.set_value(\"value\")  \n",
    "# Choices: \n",
    "#      \"Incremental Re-mapping\"  \n",
    "#      \"Prather\"  \n",
    "#      \"Eulerian\"  \n",
    "#      \"Other: [Please specify]\"  \n",
    "# TODO\n",
    "\n",
    "# PROPERTY QUALITY CONTROL STATUS:  \n",
    "# 0=draft, 1=in-review, 2=reviewed  \n",
    "DOC.set_qc_status(0)"
   ]
  },
  {
   "cell_type": "markdown",
   "metadata": {},
   "source": [
    "### 11.2. Transport In Thickness Space\n",
    " *What is the method of sea ice transport in thickness space (i.e. in thickness categories)?*\n",
    "\n",
    "**Is Required:** TRUE&nbsp;&nbsp;&nbsp;&nbsp;**Type:** ENUM&nbsp;&nbsp;&nbsp;&nbsp;**Cardinality:** 1.1"
   ]
  },
  {
   "cell_type": "code",
   "execution_count": null,
   "metadata": {
    "collapsed": true
   },
   "outputs": [],
   "source": [
    "# PROPERTY ID - DO NOT EDIT !  \n",
    "DOC.set_id('cmip6.seaice.dynamics.transport_in_thickness_space')  \n",
    "\n",
    "# PROPERTY VALUE: \n",
    "# Set as follows: DOC.set_value(\"value\")  \n",
    "# Choices: \n",
    "#      \"Incremental Re-mapping\"  \n",
    "#      \"Prather\"  \n",
    "#      \"Eulerian\"  \n",
    "#      \"Other: [Please specify]\"  \n",
    "# TODO\n",
    "\n",
    "# PROPERTY QUALITY CONTROL STATUS:  \n",
    "# 0=draft, 1=in-review, 2=reviewed  \n",
    "DOC.set_qc_status(0)"
   ]
  },
  {
   "cell_type": "markdown",
   "metadata": {},
   "source": [
    "### 11.3. Ice Strength Formulation\n",
    " *Which method of sea ice strength formulation is used?*\n",
    "\n",
    "**Is Required:** TRUE&nbsp;&nbsp;&nbsp;&nbsp;**Type:** ENUM&nbsp;&nbsp;&nbsp;&nbsp;**Cardinality:** 1.1"
   ]
  },
  {
   "cell_type": "code",
   "execution_count": null,
   "metadata": {
    "collapsed": true
   },
   "outputs": [],
   "source": [
    "# PROPERTY ID - DO NOT EDIT !  \n",
    "DOC.set_id('cmip6.seaice.dynamics.ice_strength_formulation')  \n",
    "\n",
    "# PROPERTY VALUE: \n",
    "# Set as follows: DOC.set_value(\"value\")  \n",
    "# Choices: \n",
    "#      \"Hibler 1979\"  \n",
    "#      \"Rothrock 1975\"  \n",
    "#      \"Other: [Please specify]\"  \n",
    "# TODO\n",
    "\n",
    "# PROPERTY QUALITY CONTROL STATUS:  \n",
    "# 0=draft, 1=in-review, 2=reviewed  \n",
    "DOC.set_qc_status(0)"
   ]
  },
  {
   "cell_type": "markdown",
   "metadata": {},
   "source": [
    "### 11.4. Redistribution\n",
    " *Which processes can redistribute sea ice?*\n",
    "\n",
    "**Is Required:** TRUE&nbsp;&nbsp;&nbsp;&nbsp;**Type:** ENUM&nbsp;&nbsp;&nbsp;&nbsp;**Cardinality:** 1.N"
   ]
  },
  {
   "cell_type": "code",
   "execution_count": null,
   "metadata": {
    "collapsed": true
   },
   "outputs": [],
   "source": [
    "# PROPERTY ID - DO NOT EDIT !  \n",
    "DOC.set_id('cmip6.seaice.dynamics.redistribution')  \n",
    "\n",
    "# PROPERTY VALUE(S): \n",
    "# Set as follows: DOC.set_value(\"value\")  \n",
    "# Choices: \n",
    "#      \"Rafting\"  \n",
    "#      \"Ridging\"  \n",
    "#      \"Other: [Please specify]\"  \n",
    "# TODO\n",
    "\n",
    "# PROPERTY QUALITY CONTROL STATUS:  \n",
    "# 0=draft, 1=in-review, 2=reviewed  \n",
    "DOC.set_qc_status(0)"
   ]
  },
  {
   "cell_type": "markdown",
   "metadata": {},
   "source": [
    "### 11.5. Rheology\n",
    " *Rheology, what is the ice deformation formulation?*\n",
    "\n",
    "**Is Required:** TRUE&nbsp;&nbsp;&nbsp;&nbsp;**Type:** ENUM&nbsp;&nbsp;&nbsp;&nbsp;**Cardinality:** 1.1"
   ]
  },
  {
   "cell_type": "code",
   "execution_count": null,
   "metadata": {
    "collapsed": true
   },
   "outputs": [],
   "source": [
    "# PROPERTY ID - DO NOT EDIT !  \n",
    "DOC.set_id('cmip6.seaice.dynamics.rheology')  \n",
    "\n",
    "# PROPERTY VALUE: \n",
    "# Set as follows: DOC.set_value(\"value\")  \n",
    "# Choices: \n",
    "#      \"free-drift\"  \n",
    "#      \"Mohr-Coloumb\"  \n",
    "#      \"visco-plastic\"  \n",
    "#      \"elastic-visco-plastic\"  \n",
    "#      \"Elastic-aniostropic-plastic\"  \n",
    "#      \"granular\"  \n",
    "#      \"Other: [Please specify]\"  \n",
    "# TODO\n",
    "\n",
    "# PROPERTY QUALITY CONTROL STATUS:  \n",
    "# 0=draft, 1=in-review, 2=reviewed  \n",
    "DOC.set_qc_status(0)"
   ]
  },
  {
   "cell_type": "markdown",
   "metadata": {},
   "source": [
    "# 12. Thermodynamics --&gt; Energy  \n",
    "*Processes related to energy in sea ice thermodynamics*"
   ]
  },
  {
   "cell_type": "markdown",
   "metadata": {},
   "source": [
    "### 12.1. Enthalpy Formulation\n",
    " *What is the energy formulation?*\n",
    "\n",
    "**Is Required:** TRUE&nbsp;&nbsp;&nbsp;&nbsp;**Type:** ENUM&nbsp;&nbsp;&nbsp;&nbsp;**Cardinality:** 1.1"
   ]
  },
  {
   "cell_type": "code",
   "execution_count": null,
   "metadata": {
    "collapsed": true
   },
   "outputs": [],
   "source": [
    "# PROPERTY ID - DO NOT EDIT !  \n",
    "DOC.set_id('cmip6.seaice.thermodynamics.energy.enthalpy_formulation')  \n",
    "\n",
    "# PROPERTY VALUE: \n",
    "# Set as follows: DOC.set_value(\"value\")  \n",
    "# Choices: \n",
    "#      \"Pure ice latent heat (Semtner 0-layer)\"  \n",
    "#      \"Pure ice latent and sensible heat\"  \n",
    "#      \"Pure ice latent and sensible heat + brine heat reservoir (Semtner 3-layer)\"  \n",
    "#      \"Pure ice latent and sensible heat + explicit brine inclusions (Bitz and Lipscomb)\"  \n",
    "#      \"Other: [Please specify]\"  \n",
    "# TODO\n",
    "\n",
    "# PROPERTY QUALITY CONTROL STATUS:  \n",
    "# 0=draft, 1=in-review, 2=reviewed  \n",
    "DOC.set_qc_status(0)"
   ]
  },
  {
   "cell_type": "markdown",
   "metadata": {},
   "source": [
    "### 12.2. Thermal Conductivity\n",
    " *What type of thermal conductivity is used?*\n",
    "\n",
    "**Is Required:** TRUE&nbsp;&nbsp;&nbsp;&nbsp;**Type:** ENUM&nbsp;&nbsp;&nbsp;&nbsp;**Cardinality:** 1.1"
   ]
  },
  {
   "cell_type": "code",
   "execution_count": null,
   "metadata": {
    "collapsed": true
   },
   "outputs": [],
   "source": [
    "# PROPERTY ID - DO NOT EDIT !  \n",
    "DOC.set_id('cmip6.seaice.thermodynamics.energy.thermal_conductivity')  \n",
    "\n",
    "# PROPERTY VALUE: \n",
    "# Set as follows: DOC.set_value(\"value\")  \n",
    "# Choices: \n",
    "#      \"Pure ice\"  \n",
    "#      \"Saline ice\"  \n",
    "#      \"Other: [Please specify]\"  \n",
    "# TODO\n",
    "\n",
    "# PROPERTY QUALITY CONTROL STATUS:  \n",
    "# 0=draft, 1=in-review, 2=reviewed  \n",
    "DOC.set_qc_status(0)"
   ]
  },
  {
   "cell_type": "markdown",
   "metadata": {},
   "source": [
    "### 12.3. Heat Diffusion\n",
    " *What is the method of heat diffusion?*\n",
    "\n",
    "**Is Required:** TRUE&nbsp;&nbsp;&nbsp;&nbsp;**Type:** ENUM&nbsp;&nbsp;&nbsp;&nbsp;**Cardinality:** 1.1"
   ]
  },
  {
   "cell_type": "code",
   "execution_count": null,
   "metadata": {
    "collapsed": true
   },
   "outputs": [],
   "source": [
    "# PROPERTY ID - DO NOT EDIT !  \n",
    "DOC.set_id('cmip6.seaice.thermodynamics.energy.heat_diffusion')  \n",
    "\n",
    "# PROPERTY VALUE: \n",
    "# Set as follows: DOC.set_value(\"value\")  \n",
    "# Choices: \n",
    "#      \"Conduction fluxes\"  \n",
    "#      \"Conduction and radiation heat fluxes\"  \n",
    "#      \"Conduction, radiation and latent heat transport\"  \n",
    "#      \"Other: [Please specify]\"  \n",
    "# TODO\n",
    "\n",
    "# PROPERTY QUALITY CONTROL STATUS:  \n",
    "# 0=draft, 1=in-review, 2=reviewed  \n",
    "DOC.set_qc_status(0)"
   ]
  },
  {
   "cell_type": "markdown",
   "metadata": {},
   "source": [
    "### 12.4. Basal Heat Flux\n",
    " *Method by which basal ocean heat flux is handled?*\n",
    "\n",
    "**Is Required:** TRUE&nbsp;&nbsp;&nbsp;&nbsp;**Type:** ENUM&nbsp;&nbsp;&nbsp;&nbsp;**Cardinality:** 1.1"
   ]
  },
  {
   "cell_type": "code",
   "execution_count": null,
   "metadata": {
    "collapsed": true
   },
   "outputs": [],
   "source": [
    "# PROPERTY ID - DO NOT EDIT !  \n",
    "DOC.set_id('cmip6.seaice.thermodynamics.energy.basal_heat_flux')  \n",
    "\n",
    "# PROPERTY VALUE: \n",
    "# Set as follows: DOC.set_value(\"value\")  \n",
    "# Choices: \n",
    "#      \"Heat Reservoir\"  \n",
    "#      \"Thermal Fixed Salinity\"  \n",
    "#      \"Thermal Varying Salinity\"  \n",
    "#      \"Other: [Please specify]\"  \n",
    "# TODO\n",
    "\n",
    "# PROPERTY QUALITY CONTROL STATUS:  \n",
    "# 0=draft, 1=in-review, 2=reviewed  \n",
    "DOC.set_qc_status(0)"
   ]
  },
  {
   "cell_type": "markdown",
   "metadata": {},
   "source": [
    "### 12.5. Fixed Salinity Value\n",
    " *If you have selected {Thermal properties depend on S-T (with fixed salinity)}, supply fixed salinity value for each sea ice layer.*\n",
    "\n",
    "**Is Required:** FALSE&nbsp;&nbsp;&nbsp;&nbsp;**Type:** FLOAT&nbsp;&nbsp;&nbsp;&nbsp;**Cardinality:** 0.1"
   ]
  },
  {
   "cell_type": "code",
   "execution_count": null,
   "metadata": {
    "collapsed": true
   },
   "outputs": [],
   "source": [
    "# PROPERTY ID - DO NOT EDIT !  \n",
    "DOC.set_id('cmip6.seaice.thermodynamics.energy.fixed_salinity_value')  \n",
    "\n",
    "# PROPERTY VALUE: \n",
    "# Set as follows: DOC.set_value(value)  \n",
    "# TODO\n",
    "\n",
    "# PROPERTY QUALITY CONTROL STATUS:  \n",
    "# 0=draft, 1=in-review, 2=reviewed  \n",
    "DOC.set_qc_status(0)"
   ]
  },
  {
   "cell_type": "markdown",
   "metadata": {},
   "source": [
    "### 12.6. Heat Content Precip\n",
    " *Describe the method by which the heat content of precipitation is handled.*\n",
    "\n",
    "**Is Required:** TRUE&nbsp;&nbsp;&nbsp;&nbsp;**Type:** STRING&nbsp;&nbsp;&nbsp;&nbsp;**Cardinality:** 1.1"
   ]
  },
  {
   "cell_type": "code",
   "execution_count": null,
   "metadata": {
    "collapsed": true
   },
   "outputs": [],
   "source": [
    "# PROPERTY ID - DO NOT EDIT !  \n",
    "DOC.set_id('cmip6.seaice.thermodynamics.energy.heat_content_precip')  \n",
    "\n",
    "# PROPERTY VALUE: \n",
    "# Set as follows: DOC.set_value(\"value\")  \n",
    "# TODO\n",
    "\n",
    "# PROPERTY QUALITY CONTROL STATUS:  \n",
    "# 0=draft, 1=in-review, 2=reviewed  \n",
    "DOC.set_qc_status(0)"
   ]
  },
  {
   "cell_type": "markdown",
   "metadata": {},
   "source": [
    "# 13. Thermodynamics --&gt; Mass  \n",
    "*Processes related to mass in sea ice thermodynamics*"
   ]
  },
  {
   "cell_type": "markdown",
   "metadata": {},
   "source": [
    "### 13.1. New Ice Formation\n",
    " *Describe the method by which new sea ice is formed in open water.*\n",
    "\n",
    "**Is Required:** TRUE&nbsp;&nbsp;&nbsp;&nbsp;**Type:** STRING&nbsp;&nbsp;&nbsp;&nbsp;**Cardinality:** 1.1"
   ]
  },
  {
   "cell_type": "code",
   "execution_count": null,
   "metadata": {
    "collapsed": true
   },
   "outputs": [],
   "source": [
    "# PROPERTY ID - DO NOT EDIT !  \n",
    "DOC.set_id('cmip6.seaice.thermodynamics.mass.new_ice_formation')  \n",
    "\n",
    "# PROPERTY VALUE: \n",
    "# Set as follows: DOC.set_value(\"value\")  \n",
    "# TODO\n",
    "\n",
    "# PROPERTY QUALITY CONTROL STATUS:  \n",
    "# 0=draft, 1=in-review, 2=reviewed  \n",
    "DOC.set_qc_status(0)"
   ]
  },
  {
   "cell_type": "markdown",
   "metadata": {},
   "source": [
    "### 13.2. Ice Vertical Growth And Melt\n",
    " *Describe the method that governs the vertical growth and melt of sea ice.*\n",
    "\n",
    "**Is Required:** TRUE&nbsp;&nbsp;&nbsp;&nbsp;**Type:** STRING&nbsp;&nbsp;&nbsp;&nbsp;**Cardinality:** 1.1"
   ]
  },
  {
   "cell_type": "code",
   "execution_count": null,
   "metadata": {
    "collapsed": true
   },
   "outputs": [],
   "source": [
    "# PROPERTY ID - DO NOT EDIT !  \n",
    "DOC.set_id('cmip6.seaice.thermodynamics.mass.ice_vertical_growth_and_melt')  \n",
    "\n",
    "# PROPERTY VALUE: \n",
    "# Set as follows: DOC.set_value(\"value\")  \n",
    "# TODO\n",
    "\n",
    "# PROPERTY QUALITY CONTROL STATUS:  \n",
    "# 0=draft, 1=in-review, 2=reviewed  \n",
    "DOC.set_qc_status(0)"
   ]
  },
  {
   "cell_type": "markdown",
   "metadata": {},
   "source": [
    "### 13.3. Ice Lateral Melting\n",
    " *What is the method of sea ice lateral melting?*\n",
    "\n",
    "**Is Required:** TRUE&nbsp;&nbsp;&nbsp;&nbsp;**Type:** ENUM&nbsp;&nbsp;&nbsp;&nbsp;**Cardinality:** 1.1"
   ]
  },
  {
   "cell_type": "code",
   "execution_count": null,
   "metadata": {
    "collapsed": true
   },
   "outputs": [],
   "source": [
    "# PROPERTY ID - DO NOT EDIT !  \n",
    "DOC.set_id('cmip6.seaice.thermodynamics.mass.ice_lateral_melting')  \n",
    "\n",
    "# PROPERTY VALUE: \n",
    "# Set as follows: DOC.set_value(\"value\")  \n",
    "# Choices: \n",
    "#      \"Floe-size dependent (Bitz et al 2001)\"  \n",
    "#      \"Virtual thin ice melting (for single-category)\"  \n",
    "#      \"Other: [Please specify]\"  \n",
    "# TODO\n",
    "\n",
    "# PROPERTY QUALITY CONTROL STATUS:  \n",
    "# 0=draft, 1=in-review, 2=reviewed  \n",
    "DOC.set_qc_status(0)"
   ]
  },
  {
   "cell_type": "markdown",
   "metadata": {},
   "source": [
    "### 13.4. Ice Surface Sublimation\n",
    " *Describe the method that governs sea ice surface sublimation.*\n",
    "\n",
    "**Is Required:** TRUE&nbsp;&nbsp;&nbsp;&nbsp;**Type:** STRING&nbsp;&nbsp;&nbsp;&nbsp;**Cardinality:** 1.1"
   ]
  },
  {
   "cell_type": "code",
   "execution_count": null,
   "metadata": {
    "collapsed": true
   },
   "outputs": [],
   "source": [
    "# PROPERTY ID - DO NOT EDIT !  \n",
    "DOC.set_id('cmip6.seaice.thermodynamics.mass.ice_surface_sublimation')  \n",
    "\n",
    "# PROPERTY VALUE: \n",
    "# Set as follows: DOC.set_value(\"value\")  \n",
    "# TODO\n",
    "\n",
    "# PROPERTY QUALITY CONTROL STATUS:  \n",
    "# 0=draft, 1=in-review, 2=reviewed  \n",
    "DOC.set_qc_status(0)"
   ]
  },
  {
   "cell_type": "markdown",
   "metadata": {},
   "source": [
    "### 13.5. Frazil Ice\n",
    " *Describe the method of frazil ice formation.*\n",
    "\n",
    "**Is Required:** TRUE&nbsp;&nbsp;&nbsp;&nbsp;**Type:** STRING&nbsp;&nbsp;&nbsp;&nbsp;**Cardinality:** 1.1"
   ]
  },
  {
   "cell_type": "code",
   "execution_count": null,
   "metadata": {
    "collapsed": true
   },
   "outputs": [],
   "source": [
    "# PROPERTY ID - DO NOT EDIT !  \n",
    "DOC.set_id('cmip6.seaice.thermodynamics.mass.frazil_ice')  \n",
    "\n",
    "# PROPERTY VALUE: \n",
    "# Set as follows: DOC.set_value(\"value\")  \n",
    "# TODO\n",
    "\n",
    "# PROPERTY QUALITY CONTROL STATUS:  \n",
    "# 0=draft, 1=in-review, 2=reviewed  \n",
    "DOC.set_qc_status(0)"
   ]
  },
  {
   "cell_type": "markdown",
   "metadata": {},
   "source": [
    "# 14. Thermodynamics --&gt; Salt  \n",
    "*Processes related to salt in sea ice thermodynamics.*"
   ]
  },
  {
   "cell_type": "markdown",
   "metadata": {},
   "source": [
    "### 14.1. Has Multiple Sea Ice Salinities\n",
    " *Does the sea ice model use two different salinities: one for thermodynamic calculations; and one for the salt budget?*\n",
    "\n",
    "**Is Required:** TRUE&nbsp;&nbsp;&nbsp;&nbsp;**Type:** BOOLEAN&nbsp;&nbsp;&nbsp;&nbsp;**Cardinality:** 1.1"
   ]
  },
  {
   "cell_type": "code",
   "execution_count": null,
   "metadata": {
    "collapsed": true
   },
   "outputs": [],
   "source": [
    "# PROPERTY ID - DO NOT EDIT !  \n",
    "DOC.set_id('cmip6.seaice.thermodynamics.salt.has_multiple_sea_ice_salinities')  \n",
    "\n",
    "# PROPERTY VALUE: \n",
    "# Set as follows: DOC.set_value(value)  \n",
    "# Choices: \n",
    "#     True  \n",
    "#     False  \n",
    "# TODO\n",
    "\n",
    "# PROPERTY QUALITY CONTROL STATUS:  \n",
    "# 0=draft, 1=in-review, 2=reviewed  \n",
    "DOC.set_qc_status(0)"
   ]
  },
  {
   "cell_type": "markdown",
   "metadata": {},
   "source": [
    "### 14.2. Sea Ice Salinity Thermal Impacts\n",
    " *Does sea ice salinity impact the thermal properties of sea ice?*\n",
    "\n",
    "**Is Required:** TRUE&nbsp;&nbsp;&nbsp;&nbsp;**Type:** BOOLEAN&nbsp;&nbsp;&nbsp;&nbsp;**Cardinality:** 1.1"
   ]
  },
  {
   "cell_type": "code",
   "execution_count": null,
   "metadata": {
    "collapsed": true
   },
   "outputs": [],
   "source": [
    "# PROPERTY ID - DO NOT EDIT !  \n",
    "DOC.set_id('cmip6.seaice.thermodynamics.salt.sea_ice_salinity_thermal_impacts')  \n",
    "\n",
    "# PROPERTY VALUE: \n",
    "# Set as follows: DOC.set_value(value)  \n",
    "# Choices: \n",
    "#     True  \n",
    "#     False  \n",
    "# TODO\n",
    "\n",
    "# PROPERTY QUALITY CONTROL STATUS:  \n",
    "# 0=draft, 1=in-review, 2=reviewed  \n",
    "DOC.set_qc_status(0)"
   ]
  },
  {
   "cell_type": "markdown",
   "metadata": {},
   "source": [
    "# 15. Thermodynamics --&gt; Salt --&gt; Mass Transport  \n",
    "*Mass transport of salt*"
   ]
  },
  {
   "cell_type": "markdown",
   "metadata": {},
   "source": [
    "### 15.1. Salinity Type\n",
    " *How is salinity determined in the mass transport of salt calculation?*\n",
    "\n",
    "**Is Required:** TRUE&nbsp;&nbsp;&nbsp;&nbsp;**Type:** ENUM&nbsp;&nbsp;&nbsp;&nbsp;**Cardinality:** 1.1"
   ]
  },
  {
   "cell_type": "code",
   "execution_count": null,
   "metadata": {
    "collapsed": true
   },
   "outputs": [],
   "source": [
    "# PROPERTY ID - DO NOT EDIT !  \n",
    "DOC.set_id('cmip6.seaice.thermodynamics.salt.mass_transport.salinity_type')  \n",
    "\n",
    "# PROPERTY VALUE: \n",
    "# Set as follows: DOC.set_value(\"value\")  \n",
    "# Choices: \n",
    "#      \"constant\"  \n",
    "#      \"prescribed salinity profile\"  \n",
    "#      \"prognostic salinity profile\"  \n",
    "#      \"Other: [Please specify]\"  \n",
    "# TODO\n",
    "\n",
    "# PROPERTY QUALITY CONTROL STATUS:  \n",
    "# 0=draft, 1=in-review, 2=reviewed  \n",
    "DOC.set_qc_status(0)"
   ]
  },
  {
   "cell_type": "markdown",
   "metadata": {},
   "source": [
    "### 15.2. Constant Salinity Value\n",
    " *If using a constant salinity value specify this value in PSU?*\n",
    "\n",
    "**Is Required:** FALSE&nbsp;&nbsp;&nbsp;&nbsp;**Type:** FLOAT&nbsp;&nbsp;&nbsp;&nbsp;**Cardinality:** 0.1"
   ]
  },
  {
   "cell_type": "code",
   "execution_count": null,
   "metadata": {
    "collapsed": true
   },
   "outputs": [],
   "source": [
    "# PROPERTY ID - DO NOT EDIT !  \n",
    "DOC.set_id('cmip6.seaice.thermodynamics.salt.mass_transport.constant_salinity_value')  \n",
    "\n",
    "# PROPERTY VALUE: \n",
    "# Set as follows: DOC.set_value(value)  \n",
    "# TODO\n",
    "\n",
    "# PROPERTY QUALITY CONTROL STATUS:  \n",
    "# 0=draft, 1=in-review, 2=reviewed  \n",
    "DOC.set_qc_status(0)"
   ]
  },
  {
   "cell_type": "markdown",
   "metadata": {},
   "source": [
    "### 15.3. Additional Details\n",
    " *Describe the salinity profile used.*\n",
    "\n",
    "**Is Required:** FALSE&nbsp;&nbsp;&nbsp;&nbsp;**Type:** STRING&nbsp;&nbsp;&nbsp;&nbsp;**Cardinality:** 0.1"
   ]
  },
  {
   "cell_type": "code",
   "execution_count": null,
   "metadata": {
    "collapsed": true
   },
   "outputs": [],
   "source": [
    "# PROPERTY ID - DO NOT EDIT !  \n",
    "DOC.set_id('cmip6.seaice.thermodynamics.salt.mass_transport.additional_details')  \n",
    "\n",
    "# PROPERTY VALUE: \n",
    "# Set as follows: DOC.set_value(\"value\")  \n",
    "# TODO\n",
    "\n",
    "# PROPERTY QUALITY CONTROL STATUS:  \n",
    "# 0=draft, 1=in-review, 2=reviewed  \n",
    "DOC.set_qc_status(0)"
   ]
  },
  {
   "cell_type": "markdown",
   "metadata": {},
   "source": [
    "# 16. Thermodynamics --&gt; Salt --&gt; Thermodynamics  \n",
    "*Salt thermodynamics*"
   ]
  },
  {
   "cell_type": "markdown",
   "metadata": {},
   "source": [
    "### 16.1. Salinity\n",
    " *How is salinity determined in the thermodynamic calculation?*\n",
    "\n",
    "**Is Required:** TRUE&nbsp;&nbsp;&nbsp;&nbsp;**Type:** ENUM&nbsp;&nbsp;&nbsp;&nbsp;**Cardinality:** 1.1"
   ]
  },
  {
   "cell_type": "code",
   "execution_count": null,
   "metadata": {
    "collapsed": true
   },
   "outputs": [],
   "source": [
    "# PROPERTY ID - DO NOT EDIT !  \n",
    "DOC.set_id('cmip6.seaice.thermodynamics.salt.thermodynamics.salinity')  \n",
    "\n",
    "# PROPERTY VALUE: \n",
    "# Set as follows: DOC.set_value(\"value\")  \n",
    "# Choices: \n",
    "#      \"constant\"  \n",
    "#      \"prescribed salinity profile\"  \n",
    "#      \"prognostic salinity profile\"  \n",
    "#      \"Other: [Please specify]\"  \n",
    "# TODO\n",
    "\n",
    "# PROPERTY QUALITY CONTROL STATUS:  \n",
    "# 0=draft, 1=in-review, 2=reviewed  \n",
    "DOC.set_qc_status(0)"
   ]
  },
  {
   "cell_type": "markdown",
   "metadata": {},
   "source": [
    "### 16.2. Constant Salinity Value\n",
    " *If using a constant salinity value specify this value in PSU?*\n",
    "\n",
    "**Is Required:** FALSE&nbsp;&nbsp;&nbsp;&nbsp;**Type:** FLOAT&nbsp;&nbsp;&nbsp;&nbsp;**Cardinality:** 0.1"
   ]
  },
  {
   "cell_type": "code",
   "execution_count": null,
   "metadata": {
    "collapsed": true
   },
   "outputs": [],
   "source": [
    "# PROPERTY ID - DO NOT EDIT !  \n",
    "DOC.set_id('cmip6.seaice.thermodynamics.salt.thermodynamics.constant_salinity_value')  \n",
    "\n",
    "# PROPERTY VALUE: \n",
    "# Set as follows: DOC.set_value(value)  \n",
    "# TODO\n",
    "\n",
    "# PROPERTY QUALITY CONTROL STATUS:  \n",
    "# 0=draft, 1=in-review, 2=reviewed  \n",
    "DOC.set_qc_status(0)"
   ]
  },
  {
   "cell_type": "markdown",
   "metadata": {},
   "source": [
    "### 16.3. Additional Details\n",
    " *Describe the salinity profile used.*\n",
    "\n",
    "**Is Required:** FALSE&nbsp;&nbsp;&nbsp;&nbsp;**Type:** STRING&nbsp;&nbsp;&nbsp;&nbsp;**Cardinality:** 0.1"
   ]
  },
  {
   "cell_type": "code",
   "execution_count": null,
   "metadata": {
    "collapsed": true
   },
   "outputs": [],
   "source": [
    "# PROPERTY ID - DO NOT EDIT !  \n",
    "DOC.set_id('cmip6.seaice.thermodynamics.salt.thermodynamics.additional_details')  \n",
    "\n",
    "# PROPERTY VALUE: \n",
    "# Set as follows: DOC.set_value(\"value\")  \n",
    "# TODO\n",
    "\n",
    "# PROPERTY QUALITY CONTROL STATUS:  \n",
    "# 0=draft, 1=in-review, 2=reviewed  \n",
    "DOC.set_qc_status(0)"
   ]
  },
  {
   "cell_type": "markdown",
   "metadata": {},
   "source": [
    "# 17. Thermodynamics --&gt; Ice Thickness Distribution  \n",
    "*Ice thickness distribution details.*"
   ]
  },
  {
   "cell_type": "markdown",
   "metadata": {},
   "source": [
    "### 17.1. Representation\n",
    " *How is the sea ice thickness distribution represented?*\n",
    "\n",
    "**Is Required:** TRUE&nbsp;&nbsp;&nbsp;&nbsp;**Type:** ENUM&nbsp;&nbsp;&nbsp;&nbsp;**Cardinality:** 1.1"
   ]
  },
  {
   "cell_type": "code",
   "execution_count": null,
   "metadata": {
    "collapsed": true
   },
   "outputs": [],
   "source": [
    "# PROPERTY ID - DO NOT EDIT !  \n",
    "DOC.set_id('cmip6.seaice.thermodynamics.ice_thickness_distribution.representation')  \n",
    "\n",
    "# PROPERTY VALUE: \n",
    "# Set as follows: DOC.set_value(\"value\")  \n",
    "# Choices: \n",
    "#      \"Explicit\"  \n",
    "#      \"Virtual (enhancement of thermal conductivity, thin ice melting)\"  \n",
    "#      \"Other: [Please specify]\"  \n",
    "# TODO\n",
    "\n",
    "# PROPERTY QUALITY CONTROL STATUS:  \n",
    "# 0=draft, 1=in-review, 2=reviewed  \n",
    "DOC.set_qc_status(0)"
   ]
  },
  {
   "cell_type": "markdown",
   "metadata": {},
   "source": [
    "# 18. Thermodynamics --&gt; Melt Ponds  \n",
    "*Characteristics of melt ponds.*"
   ]
  },
  {
   "cell_type": "markdown",
   "metadata": {},
   "source": [
    "### 18.1. Are Included\n",
    " *Are melt ponds included in the sea ice model?*\n",
    "\n",
    "**Is Required:** TRUE&nbsp;&nbsp;&nbsp;&nbsp;**Type:** BOOLEAN&nbsp;&nbsp;&nbsp;&nbsp;**Cardinality:** 1.1"
   ]
  },
  {
   "cell_type": "code",
   "execution_count": null,
   "metadata": {
    "collapsed": true
   },
   "outputs": [],
   "source": [
    "# PROPERTY ID - DO NOT EDIT !  \n",
    "DOC.set_id('cmip6.seaice.thermodynamics.melt_ponds.are_included')  \n",
    "\n",
    "# PROPERTY VALUE: \n",
    "# Set as follows: DOC.set_value(value)  \n",
    "# Choices: \n",
    "#     True  \n",
    "#     False  \n",
    "# TODO\n",
    "\n",
    "# PROPERTY QUALITY CONTROL STATUS:  \n",
    "# 0=draft, 1=in-review, 2=reviewed  \n",
    "DOC.set_qc_status(0)"
   ]
  },
  {
   "cell_type": "markdown",
   "metadata": {},
   "source": [
    "### 18.2. Formulation\n",
    " *What method of melt pond formulation is used?*\n",
    "\n",
    "**Is Required:** TRUE&nbsp;&nbsp;&nbsp;&nbsp;**Type:** ENUM&nbsp;&nbsp;&nbsp;&nbsp;**Cardinality:** 1.1"
   ]
  },
  {
   "cell_type": "code",
   "execution_count": null,
   "metadata": {
    "collapsed": true
   },
   "outputs": [],
   "source": [
    "# PROPERTY ID - DO NOT EDIT !  \n",
    "DOC.set_id('cmip6.seaice.thermodynamics.melt_ponds.formulation')  \n",
    "\n",
    "# PROPERTY VALUE: \n",
    "# Set as follows: DOC.set_value(\"value\")  \n",
    "# Choices: \n",
    "#      \"Flocco and Feltham (2010)\"  \n",
    "#      \"Level-ice melt ponds\"  \n",
    "#      \"Other: [Please specify]\"  \n",
    "# TODO\n",
    "\n",
    "# PROPERTY QUALITY CONTROL STATUS:  \n",
    "# 0=draft, 1=in-review, 2=reviewed  \n",
    "DOC.set_qc_status(0)"
   ]
  },
  {
   "cell_type": "markdown",
   "metadata": {},
   "source": [
    "### 18.3. Impacts\n",
    " *What do melt ponds have an impact on?*\n",
    "\n",
    "**Is Required:** TRUE&nbsp;&nbsp;&nbsp;&nbsp;**Type:** ENUM&nbsp;&nbsp;&nbsp;&nbsp;**Cardinality:** 1.N"
   ]
  },
  {
   "cell_type": "code",
   "execution_count": null,
   "metadata": {
    "collapsed": true
   },
   "outputs": [],
   "source": [
    "# PROPERTY ID - DO NOT EDIT !  \n",
    "DOC.set_id('cmip6.seaice.thermodynamics.melt_ponds.impacts')  \n",
    "\n",
    "# PROPERTY VALUE(S): \n",
    "# Set as follows: DOC.set_value(\"value\")  \n",
    "# Choices: \n",
    "#      \"Albedo\"  \n",
    "#      \"Freshwater\"  \n",
    "#      \"Heat\"  \n",
    "#      \"Other: [Please specify]\"  \n",
    "# TODO\n",
    "\n",
    "# PROPERTY QUALITY CONTROL STATUS:  \n",
    "# 0=draft, 1=in-review, 2=reviewed  \n",
    "DOC.set_qc_status(0)"
   ]
  },
  {
   "cell_type": "markdown",
   "metadata": {},
   "source": [
    "# 19. Thermodynamics --&gt; Snow Processes  \n",
    "*Thermodynamic processes in snow on sea ice*"
   ]
  },
  {
   "cell_type": "markdown",
   "metadata": {},
   "source": [
    "### 19.1. Has Snow Aging\n",
    " *Set to True if the sea ice model has a snow aging scheme.*\n",
    "\n",
    "**Is Required:** TRUE&nbsp;&nbsp;&nbsp;&nbsp;**Type:** BOOLEAN&nbsp;&nbsp;&nbsp;&nbsp;**Cardinality:** 1.N"
   ]
  },
  {
   "cell_type": "code",
   "execution_count": null,
   "metadata": {
    "collapsed": true
   },
   "outputs": [],
   "source": [
    "# PROPERTY ID - DO NOT EDIT !  \n",
    "DOC.set_id('cmip6.seaice.thermodynamics.snow_processes.has_snow_aging')  \n",
    "\n",
    "# PROPERTY VALUE(S): \n",
    "# Set as follows: DOC.set_value(value)  \n",
    "# Choices: \n",
    "#     True  \n",
    "#     False  \n",
    "# TODO\n",
    "\n",
    "# PROPERTY QUALITY CONTROL STATUS:  \n",
    "# 0=draft, 1=in-review, 2=reviewed  \n",
    "DOC.set_qc_status(0)"
   ]
  },
  {
   "cell_type": "markdown",
   "metadata": {},
   "source": [
    "### 19.2. Snow Aging Scheme\n",
    " *Describe the snow aging scheme.*\n",
    "\n",
    "**Is Required:** FALSE&nbsp;&nbsp;&nbsp;&nbsp;**Type:** STRING&nbsp;&nbsp;&nbsp;&nbsp;**Cardinality:** 0.1"
   ]
  },
  {
   "cell_type": "code",
   "execution_count": null,
   "metadata": {
    "collapsed": true
   },
   "outputs": [],
   "source": [
    "# PROPERTY ID - DO NOT EDIT !  \n",
    "DOC.set_id('cmip6.seaice.thermodynamics.snow_processes.snow_aging_scheme')  \n",
    "\n",
    "# PROPERTY VALUE: \n",
    "# Set as follows: DOC.set_value(\"value\")  \n",
    "# TODO\n",
    "\n",
    "# PROPERTY QUALITY CONTROL STATUS:  \n",
    "# 0=draft, 1=in-review, 2=reviewed  \n",
    "DOC.set_qc_status(0)"
   ]
  },
  {
   "cell_type": "markdown",
   "metadata": {},
   "source": [
    "### 19.3. Has Snow Ice Formation\n",
    " *Set to True if the sea ice model has snow ice formation.*\n",
    "\n",
    "**Is Required:** TRUE&nbsp;&nbsp;&nbsp;&nbsp;**Type:** BOOLEAN&nbsp;&nbsp;&nbsp;&nbsp;**Cardinality:** 1.N"
   ]
  },
  {
   "cell_type": "code",
   "execution_count": null,
   "metadata": {
    "collapsed": true
   },
   "outputs": [],
   "source": [
    "# PROPERTY ID - DO NOT EDIT !  \n",
    "DOC.set_id('cmip6.seaice.thermodynamics.snow_processes.has_snow_ice_formation')  \n",
    "\n",
    "# PROPERTY VALUE(S): \n",
    "# Set as follows: DOC.set_value(value)  \n",
    "# Choices: \n",
    "#     True  \n",
    "#     False  \n",
    "# TODO\n",
    "\n",
    "# PROPERTY QUALITY CONTROL STATUS:  \n",
    "# 0=draft, 1=in-review, 2=reviewed  \n",
    "DOC.set_qc_status(0)"
   ]
  },
  {
   "cell_type": "markdown",
   "metadata": {},
   "source": [
    "### 19.4. Snow Ice Formation Scheme\n",
    " *Describe the snow ice formation scheme.*\n",
    "\n",
    "**Is Required:** FALSE&nbsp;&nbsp;&nbsp;&nbsp;**Type:** STRING&nbsp;&nbsp;&nbsp;&nbsp;**Cardinality:** 0.1"
   ]
  },
  {
   "cell_type": "code",
   "execution_count": null,
   "metadata": {
    "collapsed": true
   },
   "outputs": [],
   "source": [
    "# PROPERTY ID - DO NOT EDIT !  \n",
    "DOC.set_id('cmip6.seaice.thermodynamics.snow_processes.snow_ice_formation_scheme')  \n",
    "\n",
    "# PROPERTY VALUE: \n",
    "# Set as follows: DOC.set_value(\"value\")  \n",
    "# TODO\n",
    "\n",
    "# PROPERTY QUALITY CONTROL STATUS:  \n",
    "# 0=draft, 1=in-review, 2=reviewed  \n",
    "DOC.set_qc_status(0)"
   ]
  },
  {
   "cell_type": "markdown",
   "metadata": {},
   "source": [
    "### 19.5. Redistribution\n",
    " *What is the impact of ridging on snow cover?*\n",
    "\n",
    "**Is Required:** TRUE&nbsp;&nbsp;&nbsp;&nbsp;**Type:** STRING&nbsp;&nbsp;&nbsp;&nbsp;**Cardinality:** 1.1"
   ]
  },
  {
   "cell_type": "code",
   "execution_count": null,
   "metadata": {
    "collapsed": true
   },
   "outputs": [],
   "source": [
    "# PROPERTY ID - DO NOT EDIT !  \n",
    "DOC.set_id('cmip6.seaice.thermodynamics.snow_processes.redistribution')  \n",
    "\n",
    "# PROPERTY VALUE: \n",
    "# Set as follows: DOC.set_value(\"value\")  \n",
    "# TODO\n",
    "\n",
    "# PROPERTY QUALITY CONTROL STATUS:  \n",
    "# 0=draft, 1=in-review, 2=reviewed  \n",
    "DOC.set_qc_status(0)"
   ]
  },
  {
   "cell_type": "markdown",
   "metadata": {},
   "source": [
    "### 19.6. Heat Diffusion\n",
    " *What is the heat diffusion through snow methodology in sea ice thermodynamics?*\n",
    "\n",
    "**Is Required:** TRUE&nbsp;&nbsp;&nbsp;&nbsp;**Type:** ENUM&nbsp;&nbsp;&nbsp;&nbsp;**Cardinality:** 1.1"
   ]
  },
  {
   "cell_type": "code",
   "execution_count": null,
   "metadata": {
    "collapsed": true
   },
   "outputs": [],
   "source": [
    "# PROPERTY ID - DO NOT EDIT !  \n",
    "DOC.set_id('cmip6.seaice.thermodynamics.snow_processes.heat_diffusion')  \n",
    "\n",
    "# PROPERTY VALUE: \n",
    "# Set as follows: DOC.set_value(\"value\")  \n",
    "# Choices: \n",
    "#      \"single-layered heat diffusion\"  \n",
    "#      \"multi-layered heat diffusion\"  \n",
    "#      \"Other: [Please specify]\"  \n",
    "# TODO\n",
    "\n",
    "# PROPERTY QUALITY CONTROL STATUS:  \n",
    "# 0=draft, 1=in-review, 2=reviewed  \n",
    "DOC.set_qc_status(0)"
   ]
  },
  {
   "cell_type": "markdown",
   "metadata": {},
   "source": [
    "# 20. Radiative Processes  \n",
    "*Sea Ice Radiative Processes*"
   ]
  },
  {
   "cell_type": "markdown",
   "metadata": {},
   "source": [
    "### 20.1. Surface Albedo\n",
    " *Method used to handle surface albedo.*\n",
    "\n",
    "**Is Required:** TRUE&nbsp;&nbsp;&nbsp;&nbsp;**Type:** ENUM&nbsp;&nbsp;&nbsp;&nbsp;**Cardinality:** 1.1"
   ]
  },
  {
   "cell_type": "code",
   "execution_count": null,
   "metadata": {
    "collapsed": true
   },
   "outputs": [],
   "source": [
    "# PROPERTY ID - DO NOT EDIT !  \n",
    "DOC.set_id('cmip6.seaice.radiative_processes.surface_albedo')  \n",
    "\n",
    "# PROPERTY VALUE: \n",
    "# Set as follows: DOC.set_value(\"value\")  \n",
    "# Choices: \n",
    "#      \"Delta-Eddington\"  \n",
    "#      \"Parameterized\"  \n",
    "#      \"Multi-band albedo\"  \n",
    "#      \"Other: [Please specify]\"  \n",
    "# TODO\n",
    "\n",
    "# PROPERTY QUALITY CONTROL STATUS:  \n",
    "# 0=draft, 1=in-review, 2=reviewed  \n",
    "DOC.set_qc_status(0)"
   ]
  },
  {
   "cell_type": "markdown",
   "metadata": {},
   "source": [
    "### 20.2. Ice Radiation Transmission\n",
    " *Method by which solar radiation through sea ice is handled.*\n",
    "\n",
    "**Is Required:** TRUE&nbsp;&nbsp;&nbsp;&nbsp;**Type:** ENUM&nbsp;&nbsp;&nbsp;&nbsp;**Cardinality:** 1.N"
   ]
  },
  {
   "cell_type": "code",
   "execution_count": null,
   "metadata": {
    "collapsed": true
   },
   "outputs": [],
   "source": [
    "# PROPERTY ID - DO NOT EDIT !  \n",
    "DOC.set_id('cmip6.seaice.radiative_processes.ice_radiation_transmission')  \n",
    "\n",
    "# PROPERTY VALUE(S): \n",
    "# Set as follows: DOC.set_value(\"value\")  \n",
    "# Choices: \n",
    "#      \"Delta-Eddington\"  \n",
    "#      \"Exponential attenuation\"  \n",
    "#      \"Ice radiation transmission per category\"  \n",
    "#      \"Other: [Please specify]\"  \n",
    "# TODO\n",
    "\n",
    "# PROPERTY QUALITY CONTROL STATUS:  \n",
    "# 0=draft, 1=in-review, 2=reviewed  \n",
    "DOC.set_qc_status(0)"
   ]
  },
  {
   "cell_type": "markdown",
   "metadata": {},
   "source": [
    "# Finalization"
   ]
  },
  {
   "cell_type": "markdown",
   "metadata": {},
   "source": [
    "### Document Persistence"
   ]
  },
  {
   "cell_type": "code",
   "execution_count": null,
   "metadata": {
    "collapsed": true
   },
   "outputs": [],
   "source": [
    "# DO NOT EDIT !\n",
    "DOC.write()"
   ]
  }
 ],
 "metadata": {
  "kernelspec": {
   "display_name": "Python 2",
   "language": "python",
   "name": "python2"
  },
  "language_info": {
   "codemirror_mode": {
    "name": "ipython",
    "version": 2
   },
   "file_extension": ".py",
   "mimetype": "text/x-python",
   "name": "python",
   "nbconvert_exporter": "python",
   "pygments_lexer": "ipython2",
   "version": "2.7.10"
  }
 },
 "nbformat": 4,
 "nbformat_minor": 0
}
