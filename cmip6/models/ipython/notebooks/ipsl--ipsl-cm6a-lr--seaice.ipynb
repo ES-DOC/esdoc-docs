{
    "nbformat_minor": 0, 
    "nbformat": 4, 
    "cells": [
        {
            "source": [
                "# ES-DOC CMIP6 Model Realm Properties \n", 
                "**MIP Era**: CMIP6  \n", 
                "**Institute**: IPSL  \n", 
                "**Model**: IPSL-CM6A-LR  \n", 
                "**Realm**: Seaice  \n", 
                "**Realm Processes**: Dynamics, Thermodynamics, Radiative Processes.   \n", 
                "**Properties**: 73 (13 required, 60 optional)  \n", 
                "\n", 
                "**Notebook Help**: [Goto notebook help page](http://wordpress.es-doc.org/how-to-document-cmip6-models)  \n", 
                "**Notebook Initialised**: 2017-01-05 14:23:41"
            ], 
            "cell_type": "markdown", 
            "metadata": {}
        }, 
        {
            "source": [
                "### Document Setup  \n"
            ], 
            "cell_type": "markdown", 
            "metadata": {}
        }, 
        {
            "execution_count": null, 
            "cell_type": "code", 
            "source": [
                "# DO NOT EDIT !  \n", 
                "from pyesdoc.model_realm_notebook import NotebookData  \n", 
                "\n", 
                "# DO NOT EDIT !  \n", 
                "DOC = NotebookData('cmip6', 'ipsl', 'ipsl-cm6a-lr', 'seaice')"
            ], 
            "outputs": [], 
            "metadata": {}
        }, 
        {
            "source": [
                "### Document Authors  \n", 
                "*Set document authors*"
            ], 
            "cell_type": "markdown", 
            "metadata": {}
        }, 
        {
            "execution_count": null, 
            "cell_type": "code", 
            "source": [
                "# Set as follows: DOC.set_author('name', 'value')  \n", 
                "# TODO"
            ], 
            "outputs": [], 
            "metadata": {}
        }, 
        {
            "source": [
                "### Document Contributors  \n", 
                "*Specify document contributors*  "
            ], 
            "cell_type": "markdown", 
            "metadata": {}
        }, 
        {
            "execution_count": null, 
            "cell_type": "code", 
            "source": [
                "# Set as follows: DOC.set_contributor('name', 'value')  \n", 
                "# TODO"
            ], 
            "outputs": [], 
            "metadata": {}
        }, 
        {
            "source": [
                "### Document Property Sets  \n", 
                "\n", 
                "[1. Key Properties --&gt; Variables](#1.-Key-Properties---&gt;-Variables)  \n", 
                "[2. Key Properties --&gt; Seawater Properties](#2.-Key-Properties---&gt;-Seawater-Properties)  \n", 
                "[3. Key Properties --&gt; Resolution](#3.-Key-Properties---&gt;-Resolution)  \n", 
                "[4. Key Properties --&gt; Tuning Applied](#4.-Key-Properties---&gt;-Tuning-Applied)  \n", 
                "[5. Key Properties --&gt; Assumptions](#5.-Key-Properties---&gt;-Assumptions)  \n", 
                "[6. Key Properties --&gt; Conservation](#6.-Key-Properties---&gt;-Conservation)  \n", 
                "\n", 
                "[7. Grid --&gt; Discretisation --&gt; Horizontal](#7.-Grid---&gt;-Discretisation---&gt;-Horizontal)  \n", 
                "[8. Grid --&gt; Discretisation --&gt; Vertical](#8.-Grid---&gt;-Discretisation---&gt;-Vertical)  \n", 
                "[9. Grid --&gt; Seaice Categories](#9.-Grid---&gt;-Seaice-Categories)  \n", 
                "[10. Grid --&gt; Snow On Seaice](#10.-Grid---&gt;-Snow-On-Seaice)  \n", 
                "\n", 
                "[11. Dynamics](#11.-Dynamics)  \n", 
                "\n", 
                "[12. Thermodynamics --&gt; Energy](#12.-Thermodynamics---&gt;-Energy)  \n", 
                "[13. Thermodynamics --&gt; Mass](#13.-Thermodynamics---&gt;-Mass)  \n", 
                "[14. Thermodynamics --&gt; Salt](#14.-Thermodynamics---&gt;-Salt)  \n", 
                "[15. Thermodynamics --&gt; Salt --&gt; Mass Transport](#15.-Thermodynamics---&gt;-Salt---&gt;-Mass-Transport)  \n", 
                "[16. Thermodynamics --&gt; Salt --&gt; Thermodynamics](#16.-Thermodynamics---&gt;-Salt---&gt;-Thermodynamics)  \n", 
                "[17. Thermodynamics --&gt; Ice Thickness Distribution](#17.-Thermodynamics---&gt;-Ice-Thickness-Distribution)  \n", 
                "[18. Thermodynamics --&gt; Melt Ponds](#18.-Thermodynamics---&gt;-Melt-Ponds)  \n", 
                "[19. Thermodynamics --&gt; Snow Processes](#19.-Thermodynamics---&gt;-Snow-Processes)  \n", 
                "\n", 
                "[20. Radiative Processes](#20.-Radiative-Processes)  \n", 
                "\n"
            ], 
            "cell_type": "markdown", 
            "metadata": {}
        }, 
        {
            "source": [
                "# 1. Key Properties --&gt; Variables  \n", 
                "*List of prognostic variable in the sea ice model.*"
            ], 
            "cell_type": "markdown", 
            "metadata": {}
        }, 
        {
            "source": [
                "### 1.1. Prognostic\n", 
                " *List of prognostic variables in the sea ice component.*"
            ], 
            "cell_type": "markdown", 
            "metadata": {}
        }, 
        {
            "execution_count": null, 
            "cell_type": "code", 
            "source": [
                "# PROPERTY INFO: \n", 
                "# Is Required: False \n", 
                "# Type: ENUM \n", 
                "# Cardinality: 1.N \n", 
                "\n", 
                "# PROPERTY ID - DO NOT EDIT !  \n", 
                "DOC.set_id('cmip6.seaice.key_properties.variables.prognostic')  \n", 
                "\n", 
                "# PROPERTY QUALITY CONTROL:  \n", 
                "# 0=draft, 1=in-review, 2=reviewed  \n", 
                "DOC.set_qc_status(0)  \n", 
                "\n", 
                "# PROPERTY VALUE(S): \n", 
                "# Set as follows: DOC.set_value(value)  \n", 
                "# Choices: \n", 
                "#      'Sea ice Temperature'  \n", 
                "#      'Sea ice concentration'  \n", 
                "#      'Sea ice thickness'  \n", 
                "#      'Sea ice U-velocity'  \n", 
                "#      'Sea ice V-velocity'  \n", 
                "#      'Internal ice stress'  \n", 
                "#      'Salinity'  \n", 
                "#      'Snow temperature'  \n", 
                "#      'Snow depth'  \n", 
                "#      'Other: [Please specify]'  \n", 
                "# TODO"
            ], 
            "outputs": [], 
            "metadata": {
                "collapsed": true
            }
        }, 
        {
            "source": [
                "# 2. Key Properties --&gt; Seawater Properties  \n", 
                "*Properties of seawater relevant to sea ice*"
            ], 
            "cell_type": "markdown", 
            "metadata": {}
        }, 
        {
            "source": [
                "### 2.1. Ocean Freezing Point\n", 
                " *Equation used to compute the freezing point (in deg C) of seawater, as a function of salinity and pressure*"
            ], 
            "cell_type": "markdown", 
            "metadata": {}
        }, 
        {
            "execution_count": null, 
            "cell_type": "code", 
            "source": [
                "# PROPERTY INFO: \n", 
                "# Is Required: False \n", 
                "# Type: ENUM \n", 
                "# Cardinality: 1.1 \n", 
                "\n", 
                "# PROPERTY ID - DO NOT EDIT !  \n", 
                "DOC.set_id('cmip6.seaice.key_properties.seawater_properties.ocean_freezing_point')  \n", 
                "\n", 
                "# PROPERTY QUALITY CONTROL:  \n", 
                "# 0=draft, 1=in-review, 2=reviewed  \n", 
                "DOC.set_qc_status(0)  \n", 
                "\n", 
                "# PROPERTY VALUE: \n", 
                "# Set as follows: DOC.set_value(value)  \n", 
                "# Choices: \n", 
                "#      'TEOS-10'  \n", 
                "#      'Constant'  \n", 
                "#      'Other: [Please specify]'  \n", 
                "# TODO"
            ], 
            "outputs": [], 
            "metadata": {
                "collapsed": true
            }
        }, 
        {
            "source": [
                "### 2.2. Ocean Freezing Point Value\n", 
                " *If using a constant seawater freezing point, specify this value.*"
            ], 
            "cell_type": "markdown", 
            "metadata": {}
        }, 
        {
            "execution_count": null, 
            "cell_type": "code", 
            "source": [
                "# PROPERTY INFO: \n", 
                "# Is Required: True \n", 
                "# Type: FLOAT \n", 
                "# Cardinality: 0.1 \n", 
                "\n", 
                "# PROPERTY ID - DO NOT EDIT !  \n", 
                "DOC.set_id('cmip6.seaice.key_properties.seawater_properties.ocean_freezing_point_value')  \n", 
                "\n", 
                "# PROPERTY QUALITY CONTROL:  \n", 
                "# 0=draft, 1=in-review, 2=reviewed  \n", 
                "DOC.set_qc_status(0)  \n", 
                "\n", 
                "# PROPERTY VALUE: \n", 
                "# Set as follows: DOC.set_value(value)  \n", 
                "# TODO"
            ], 
            "outputs": [], 
            "metadata": {
                "collapsed": true
            }
        }, 
        {
            "source": [
                "# 3. Key Properties --&gt; Resolution  \n", 
                "*Resolution in the sea ice grid*"
            ], 
            "cell_type": "markdown", 
            "metadata": {}
        }, 
        {
            "source": [
                "### 3.1. Name\n", 
                " *This is a string usually used by the modelling group to describe the resolution of this grid e.g. N512L180, T512L70, ORCA025 etc.*"
            ], 
            "cell_type": "markdown", 
            "metadata": {}
        }, 
        {
            "execution_count": null, 
            "cell_type": "code", 
            "source": [
                "# PROPERTY INFO: \n", 
                "# Is Required: False \n", 
                "# Type: STRING \n", 
                "# Cardinality: 1.1 \n", 
                "\n", 
                "# PROPERTY ID - DO NOT EDIT !  \n", 
                "DOC.set_id('cmip6.seaice.key_properties.resolution.name')  \n", 
                "\n", 
                "# PROPERTY QUALITY CONTROL:  \n", 
                "# 0=draft, 1=in-review, 2=reviewed  \n", 
                "DOC.set_qc_status(0)  \n", 
                "\n", 
                "# PROPERTY VALUE: \n", 
                "# Set as follows: DOC.set_value(value)  \n", 
                "# TODO"
            ], 
            "outputs": [], 
            "metadata": {
                "collapsed": true
            }
        }, 
        {
            "source": [
                "### 3.2. Canonical Horizontal Resolution\n", 
                " *Expression quoted for gross comparisons of resolution, eg. 50km or 0.1 degrees etc.*"
            ], 
            "cell_type": "markdown", 
            "metadata": {}
        }, 
        {
            "execution_count": null, 
            "cell_type": "code", 
            "source": [
                "# PROPERTY INFO: \n", 
                "# Is Required: False \n", 
                "# Type: STRING \n", 
                "# Cardinality: 1.1 \n", 
                "\n", 
                "# PROPERTY ID - DO NOT EDIT !  \n", 
                "DOC.set_id('cmip6.seaice.key_properties.resolution.canonical_horizontal_resolution')  \n", 
                "\n", 
                "# PROPERTY QUALITY CONTROL:  \n", 
                "# 0=draft, 1=in-review, 2=reviewed  \n", 
                "DOC.set_qc_status(0)  \n", 
                "\n", 
                "# PROPERTY VALUE: \n", 
                "# Set as follows: DOC.set_value(value)  \n", 
                "# TODO"
            ], 
            "outputs": [], 
            "metadata": {
                "collapsed": true
            }
        }, 
        {
            "source": [
                "### 3.3. Number Of Horizontal Gridpoints\n", 
                " *Total number of horizontal (XY) points (or degrees of freedom) on computational grid.*"
            ], 
            "cell_type": "markdown", 
            "metadata": {}
        }, 
        {
            "execution_count": null, 
            "cell_type": "code", 
            "source": [
                "# PROPERTY INFO: \n", 
                "# Is Required: False \n", 
                "# Type: INTEGER \n", 
                "# Cardinality: 1.1 \n", 
                "\n", 
                "# PROPERTY ID - DO NOT EDIT !  \n", 
                "DOC.set_id('cmip6.seaice.key_properties.resolution.number_of_horizontal_gridpoints')  \n", 
                "\n", 
                "# PROPERTY QUALITY CONTROL:  \n", 
                "# 0=draft, 1=in-review, 2=reviewed  \n", 
                "DOC.set_qc_status(0)  \n", 
                "\n", 
                "# PROPERTY VALUE: \n", 
                "# Set as follows: DOC.set_value(value)  \n", 
                "# TODO"
            ], 
            "outputs": [], 
            "metadata": {
                "collapsed": true
            }
        }, 
        {
            "source": [
                "# 4. Key Properties --&gt; Tuning Applied  \n", 
                "*Tuning applied to sea ice model component*"
            ], 
            "cell_type": "markdown", 
            "metadata": {}
        }, 
        {
            "source": [
                "### 4.1. Description\n", 
                " *General overview description of tuning: explain and motivate the main targets and metrics retained.  Document the relative weight given to climate performance metrics versus process oriented metrics, and on the possible conflicts with parameterization level tuning. In particular describe any struggle with a parameter value that required pushing it to its limits to solve a particular model deficiency.*"
            ], 
            "cell_type": "markdown", 
            "metadata": {}
        }, 
        {
            "execution_count": null, 
            "cell_type": "code", 
            "source": [
                "# PROPERTY INFO: \n", 
                "# Is Required: False \n", 
                "# Type: STRING \n", 
                "# Cardinality: 1.1 \n", 
                "\n", 
                "# PROPERTY ID - DO NOT EDIT !  \n", 
                "DOC.set_id('cmip6.seaice.key_properties.tuning_applied.description')  \n", 
                "\n", 
                "# PROPERTY QUALITY CONTROL:  \n", 
                "# 0=draft, 1=in-review, 2=reviewed  \n", 
                "DOC.set_qc_status(0)  \n", 
                "\n", 
                "# PROPERTY VALUE: \n", 
                "# Set as follows: DOC.set_value(value)  \n", 
                "# TODO"
            ], 
            "outputs": [], 
            "metadata": {
                "collapsed": true
            }
        }, 
        {
            "source": [
                "### 4.2. Target\n", 
                " *What was the aim of tuning, e.g. correct sea ice minima, correct seasonal cycle.*"
            ], 
            "cell_type": "markdown", 
            "metadata": {}
        }, 
        {
            "execution_count": null, 
            "cell_type": "code", 
            "source": [
                "# PROPERTY INFO: \n", 
                "# Is Required: False \n", 
                "# Type: STRING \n", 
                "# Cardinality: 1.1 \n", 
                "\n", 
                "# PROPERTY ID - DO NOT EDIT !  \n", 
                "DOC.set_id('cmip6.seaice.key_properties.tuning_applied.target')  \n", 
                "\n", 
                "# PROPERTY QUALITY CONTROL:  \n", 
                "# 0=draft, 1=in-review, 2=reviewed  \n", 
                "DOC.set_qc_status(0)  \n", 
                "\n", 
                "# PROPERTY VALUE: \n", 
                "# Set as follows: DOC.set_value(value)  \n", 
                "# TODO"
            ], 
            "outputs": [], 
            "metadata": {
                "collapsed": true
            }
        }, 
        {
            "source": [
                "### 4.3. Simulations\n", 
                " *Which simulations had tuning applied, e.g. all, not historical, only pi-control? *"
            ], 
            "cell_type": "markdown", 
            "metadata": {}
        }, 
        {
            "execution_count": null, 
            "cell_type": "code", 
            "source": [
                "# PROPERTY INFO: \n", 
                "# Is Required: False \n", 
                "# Type: STRING \n", 
                "# Cardinality: 1.1 \n", 
                "\n", 
                "# PROPERTY ID - DO NOT EDIT !  \n", 
                "DOC.set_id('cmip6.seaice.key_properties.tuning_applied.simulations')  \n", 
                "\n", 
                "# PROPERTY QUALITY CONTROL:  \n", 
                "# 0=draft, 1=in-review, 2=reviewed  \n", 
                "DOC.set_qc_status(0)  \n", 
                "\n", 
                "# PROPERTY VALUE: \n", 
                "# Set as follows: DOC.set_value(value)  \n", 
                "# TODO"
            ], 
            "outputs": [], 
            "metadata": {
                "collapsed": true
            }
        }, 
        {
            "source": [
                "### 4.4. Metrics Used\n", 
                " *List any observed metrics used in tuning model/parameters*"
            ], 
            "cell_type": "markdown", 
            "metadata": {}
        }, 
        {
            "execution_count": null, 
            "cell_type": "code", 
            "source": [
                "# PROPERTY INFO: \n", 
                "# Is Required: False \n", 
                "# Type: STRING \n", 
                "# Cardinality: 1.1 \n", 
                "\n", 
                "# PROPERTY ID - DO NOT EDIT !  \n", 
                "DOC.set_id('cmip6.seaice.key_properties.tuning_applied.metrics_used')  \n", 
                "\n", 
                "# PROPERTY QUALITY CONTROL:  \n", 
                "# 0=draft, 1=in-review, 2=reviewed  \n", 
                "DOC.set_qc_status(0)  \n", 
                "\n", 
                "# PROPERTY VALUE: \n", 
                "# Set as follows: DOC.set_value(value)  \n", 
                "# TODO"
            ], 
            "outputs": [], 
            "metadata": {
                "collapsed": true
            }
        }, 
        {
            "source": [
                "### 4.5. Variables\n", 
                " *Which variables were changed during the tuning process?*"
            ], 
            "cell_type": "markdown", 
            "metadata": {}
        }, 
        {
            "execution_count": null, 
            "cell_type": "code", 
            "source": [
                "# PROPERTY INFO: \n", 
                "# Is Required: True \n", 
                "# Type: STRING \n", 
                "# Cardinality: 0.1 \n", 
                "\n", 
                "# PROPERTY ID - DO NOT EDIT !  \n", 
                "DOC.set_id('cmip6.seaice.key_properties.tuning_applied.variables')  \n", 
                "\n", 
                "# PROPERTY QUALITY CONTROL:  \n", 
                "# 0=draft, 1=in-review, 2=reviewed  \n", 
                "DOC.set_qc_status(0)  \n", 
                "\n", 
                "# PROPERTY VALUE: \n", 
                "# Set as follows: DOC.set_value(value)  \n", 
                "# TODO"
            ], 
            "outputs": [], 
            "metadata": {
                "collapsed": true
            }
        }, 
        {
            "source": [
                "# 5. Key Properties --&gt; Assumptions  \n", 
                "*Assumptions made in the sea ice model*"
            ], 
            "cell_type": "markdown", 
            "metadata": {}
        }, 
        {
            "source": [
                "### 5.1. Description\n", 
                " *General overview description of any *key* assumptions made in this model.*"
            ], 
            "cell_type": "markdown", 
            "metadata": {}
        }, 
        {
            "execution_count": null, 
            "cell_type": "code", 
            "source": [
                "# PROPERTY INFO: \n", 
                "# Is Required: False \n", 
                "# Type: STRING \n", 
                "# Cardinality: 1.N \n", 
                "\n", 
                "# PROPERTY ID - DO NOT EDIT !  \n", 
                "DOC.set_id('cmip6.seaice.key_properties.assumptions.description')  \n", 
                "\n", 
                "# PROPERTY QUALITY CONTROL:  \n", 
                "# 0=draft, 1=in-review, 2=reviewed  \n", 
                "DOC.set_qc_status(0)  \n", 
                "\n", 
                "# PROPERTY VALUE(S): \n", 
                "# Set as follows: DOC.set_value(value)  \n", 
                "# TODO"
            ], 
            "outputs": [], 
            "metadata": {
                "collapsed": true
            }
        }, 
        {
            "source": [
                "### 5.2. On Diagnostic Variables\n", 
                " *Note any assumptions that specifically affect the CMIP6 diagnostic sea ice variables.*"
            ], 
            "cell_type": "markdown", 
            "metadata": {}
        }, 
        {
            "execution_count": null, 
            "cell_type": "code", 
            "source": [
                "# PROPERTY INFO: \n", 
                "# Is Required: False \n", 
                "# Type: STRING \n", 
                "# Cardinality: 1.N \n", 
                "\n", 
                "# PROPERTY ID - DO NOT EDIT !  \n", 
                "DOC.set_id('cmip6.seaice.key_properties.assumptions.on_diagnostic_variables')  \n", 
                "\n", 
                "# PROPERTY QUALITY CONTROL:  \n", 
                "# 0=draft, 1=in-review, 2=reviewed  \n", 
                "DOC.set_qc_status(0)  \n", 
                "\n", 
                "# PROPERTY VALUE(S): \n", 
                "# Set as follows: DOC.set_value(value)  \n", 
                "# TODO"
            ], 
            "outputs": [], 
            "metadata": {
                "collapsed": true
            }
        }, 
        {
            "source": [
                "### 5.3. Missing Processes\n", 
                " *List any *key* processes missing in this model configuration? Provide full details where this affects the CMIP6 diagnostic sea ice variables?*"
            ], 
            "cell_type": "markdown", 
            "metadata": {}
        }, 
        {
            "execution_count": null, 
            "cell_type": "code", 
            "source": [
                "# PROPERTY INFO: \n", 
                "# Is Required: False \n", 
                "# Type: STRING \n", 
                "# Cardinality: 1.N \n", 
                "\n", 
                "# PROPERTY ID - DO NOT EDIT !  \n", 
                "DOC.set_id('cmip6.seaice.key_properties.assumptions.missing_processes')  \n", 
                "\n", 
                "# PROPERTY QUALITY CONTROL:  \n", 
                "# 0=draft, 1=in-review, 2=reviewed  \n", 
                "DOC.set_qc_status(0)  \n", 
                "\n", 
                "# PROPERTY VALUE(S): \n", 
                "# Set as follows: DOC.set_value(value)  \n", 
                "# TODO"
            ], 
            "outputs": [], 
            "metadata": {
                "collapsed": true
            }
        }, 
        {
            "source": [
                "# 6. Key Properties --&gt; Conservation  \n", 
                "*Conservation in the sea ice component*"
            ], 
            "cell_type": "markdown", 
            "metadata": {}
        }, 
        {
            "source": [
                "### 6.1. Description\n", 
                " *Provide a general description of conservation methodology.*"
            ], 
            "cell_type": "markdown", 
            "metadata": {}
        }, 
        {
            "execution_count": null, 
            "cell_type": "code", 
            "source": [
                "# PROPERTY INFO: \n", 
                "# Is Required: False \n", 
                "# Type: STRING \n", 
                "# Cardinality: 1.1 \n", 
                "\n", 
                "# PROPERTY ID - DO NOT EDIT !  \n", 
                "DOC.set_id('cmip6.seaice.key_properties.conservation.description')  \n", 
                "\n", 
                "# PROPERTY QUALITY CONTROL:  \n", 
                "# 0=draft, 1=in-review, 2=reviewed  \n", 
                "DOC.set_qc_status(0)  \n", 
                "\n", 
                "# PROPERTY VALUE: \n", 
                "# Set as follows: DOC.set_value(value)  \n", 
                "# TODO"
            ], 
            "outputs": [], 
            "metadata": {
                "collapsed": true
            }
        }, 
        {
            "source": [
                "### 6.2. Properties\n", 
                " *Properties conserved in sea ice by the numerical schemes.*"
            ], 
            "cell_type": "markdown", 
            "metadata": {}
        }, 
        {
            "execution_count": null, 
            "cell_type": "code", 
            "source": [
                "# PROPERTY INFO: \n", 
                "# Is Required: False \n", 
                "# Type: ENUM \n", 
                "# Cardinality: 1.N \n", 
                "\n", 
                "# PROPERTY ID - DO NOT EDIT !  \n", 
                "DOC.set_id('cmip6.seaice.key_properties.conservation.properties')  \n", 
                "\n", 
                "# PROPERTY QUALITY CONTROL:  \n", 
                "# 0=draft, 1=in-review, 2=reviewed  \n", 
                "DOC.set_qc_status(0)  \n", 
                "\n", 
                "# PROPERTY VALUE(S): \n", 
                "# Set as follows: DOC.set_value(value)  \n", 
                "# Choices: \n", 
                "#      'Energy'  \n", 
                "#      'Mass'  \n", 
                "#      'Salt'  \n", 
                "#      'Other: [Please specify]'  \n", 
                "# TODO"
            ], 
            "outputs": [], 
            "metadata": {
                "collapsed": true
            }
        }, 
        {
            "source": [
                "### 6.3. Budget\n", 
                " *For each conserved property, specify the output variables which close the related budgets.*"
            ], 
            "cell_type": "markdown", 
            "metadata": {}
        }, 
        {
            "execution_count": null, 
            "cell_type": "code", 
            "source": [
                "# PROPERTY INFO: \n", 
                "# Is Required: False \n", 
                "# Type: STRING \n", 
                "# Cardinality: 1.1 \n", 
                "\n", 
                "# PROPERTY ID - DO NOT EDIT !  \n", 
                "DOC.set_id('cmip6.seaice.key_properties.conservation.budget')  \n", 
                "\n", 
                "# PROPERTY QUALITY CONTROL:  \n", 
                "# 0=draft, 1=in-review, 2=reviewed  \n", 
                "DOC.set_qc_status(0)  \n", 
                "\n", 
                "# PROPERTY VALUE: \n", 
                "# Set as follows: DOC.set_value(value)  \n", 
                "# TODO"
            ], 
            "outputs": [], 
            "metadata": {
                "collapsed": true
            }
        }, 
        {
            "source": [
                "### 6.4. Was Flux Correction Used\n", 
                " *Does conservation involved flux correction?*"
            ], 
            "cell_type": "markdown", 
            "metadata": {}
        }, 
        {
            "execution_count": null, 
            "cell_type": "code", 
            "source": [
                "# PROPERTY INFO: \n", 
                "# Is Required: False \n", 
                "# Type: BOOLEAN \n", 
                "# Cardinality: 1.1 \n", 
                "\n", 
                "# PROPERTY ID - DO NOT EDIT !  \n", 
                "DOC.set_id('cmip6.seaice.key_properties.conservation.was_flux_correction_used')  \n", 
                "\n", 
                "# PROPERTY QUALITY CONTROL:  \n", 
                "# 0=draft, 1=in-review, 2=reviewed  \n", 
                "DOC.set_qc_status(0)  \n", 
                "\n", 
                "# PROPERTY VALUE: \n", 
                "# Set as follows: DOC.set_value(value)  \n", 
                "# Choices: \n", 
                "#     True  \n", 
                "#     False  \n", 
                "# TODO"
            ], 
            "outputs": [], 
            "metadata": {
                "collapsed": true
            }
        }, 
        {
            "source": [
                "### 6.5. Corrected Conserved Prognostic Variables\n", 
                " *List any variables which are conserved by *more* than the numerical scheme alone.*"
            ], 
            "cell_type": "markdown", 
            "metadata": {}
        }, 
        {
            "execution_count": null, 
            "cell_type": "code", 
            "source": [
                "# PROPERTY INFO: \n", 
                "# Is Required: False \n", 
                "# Type: STRING \n", 
                "# Cardinality: 1.1 \n", 
                "\n", 
                "# PROPERTY ID - DO NOT EDIT !  \n", 
                "DOC.set_id('cmip6.seaice.key_properties.conservation.corrected_conserved_prognostic_variables')  \n", 
                "\n", 
                "# PROPERTY QUALITY CONTROL:  \n", 
                "# 0=draft, 1=in-review, 2=reviewed  \n", 
                "DOC.set_qc_status(0)  \n", 
                "\n", 
                "# PROPERTY VALUE: \n", 
                "# Set as follows: DOC.set_value(value)  \n", 
                "# TODO"
            ], 
            "outputs": [], 
            "metadata": {
                "collapsed": true
            }
        }, 
        {
            "source": [
                "# 7. Grid --&gt; Discretisation --&gt; Horizontal  \n", 
                "*Sea ice discretisation in the horizontal*"
            ], 
            "cell_type": "markdown", 
            "metadata": {}
        }, 
        {
            "source": [
                "### 7.1. Grid\n", 
                " *Grid on which sea ice is horizontal discretised?*"
            ], 
            "cell_type": "markdown", 
            "metadata": {}
        }, 
        {
            "execution_count": null, 
            "cell_type": "code", 
            "source": [
                "# PROPERTY INFO: \n", 
                "# Is Required: False \n", 
                "# Type: ENUM \n", 
                "# Cardinality: 1.1 \n", 
                "\n", 
                "# PROPERTY ID - DO NOT EDIT !  \n", 
                "DOC.set_id('cmip6.seaice.grid.discretisation.horizontal.grid')  \n", 
                "\n", 
                "# PROPERTY QUALITY CONTROL:  \n", 
                "# 0=draft, 1=in-review, 2=reviewed  \n", 
                "DOC.set_qc_status(0)  \n", 
                "\n", 
                "# PROPERTY VALUE: \n", 
                "# Set as follows: DOC.set_value(value)  \n", 
                "# Choices: \n", 
                "#      'Ocean grid'  \n", 
                "#      'Atmosphere Grid'  \n", 
                "#      'Own Grid'  \n", 
                "#      'Other: [Please specify]'  \n", 
                "# TODO"
            ], 
            "outputs": [], 
            "metadata": {
                "collapsed": true
            }
        }, 
        {
            "source": [
                "### 7.2. Grid Type\n", 
                " *What is the type of sea ice grid?*"
            ], 
            "cell_type": "markdown", 
            "metadata": {}
        }, 
        {
            "execution_count": null, 
            "cell_type": "code", 
            "source": [
                "# PROPERTY INFO: \n", 
                "# Is Required: False \n", 
                "# Type: ENUM \n", 
                "# Cardinality: 1.1 \n", 
                "\n", 
                "# PROPERTY ID - DO NOT EDIT !  \n", 
                "DOC.set_id('cmip6.seaice.grid.discretisation.horizontal.grid_type')  \n", 
                "\n", 
                "# PROPERTY QUALITY CONTROL:  \n", 
                "# 0=draft, 1=in-review, 2=reviewed  \n", 
                "DOC.set_qc_status(0)  \n", 
                "\n", 
                "# PROPERTY VALUE: \n", 
                "# Set as follows: DOC.set_value(value)  \n", 
                "# Choices: \n", 
                "#      'Structured grid'  \n", 
                "#      'Unstructured grid'  \n", 
                "#      'Adaptive grid'  \n", 
                "#      'Other: [Please specify]'  \n", 
                "# TODO"
            ], 
            "outputs": [], 
            "metadata": {
                "collapsed": true
            }
        }, 
        {
            "source": [
                "### 7.3. Scheme\n", 
                " *What is the advection scheme?*"
            ], 
            "cell_type": "markdown", 
            "metadata": {}
        }, 
        {
            "execution_count": null, 
            "cell_type": "code", 
            "source": [
                "# PROPERTY INFO: \n", 
                "# Is Required: False \n", 
                "# Type: ENUM \n", 
                "# Cardinality: 1.1 \n", 
                "\n", 
                "# PROPERTY ID - DO NOT EDIT !  \n", 
                "DOC.set_id('cmip6.seaice.grid.discretisation.horizontal.scheme')  \n", 
                "\n", 
                "# PROPERTY QUALITY CONTROL:  \n", 
                "# 0=draft, 1=in-review, 2=reviewed  \n", 
                "DOC.set_qc_status(0)  \n", 
                "\n", 
                "# PROPERTY VALUE: \n", 
                "# Set as follows: DOC.set_value(value)  \n", 
                "# Choices: \n", 
                "#      'Finite differences'  \n", 
                "#      'Finite elements'  \n", 
                "#      'Finite volumes'  \n", 
                "#      'Other: [Please specify]'  \n", 
                "# TODO"
            ], 
            "outputs": [], 
            "metadata": {
                "collapsed": true
            }
        }, 
        {
            "source": [
                "### 7.4. Thermodynamics Time Step\n", 
                " *What is the time step in the sea ice model thermodynamic component in seconds.*"
            ], 
            "cell_type": "markdown", 
            "metadata": {}
        }, 
        {
            "execution_count": null, 
            "cell_type": "code", 
            "source": [
                "# PROPERTY INFO: \n", 
                "# Is Required: False \n", 
                "# Type: INTEGER \n", 
                "# Cardinality: 1.1 \n", 
                "\n", 
                "# PROPERTY ID - DO NOT EDIT !  \n", 
                "DOC.set_id('cmip6.seaice.grid.discretisation.horizontal.thermodynamics_time_step')  \n", 
                "\n", 
                "# PROPERTY QUALITY CONTROL:  \n", 
                "# 0=draft, 1=in-review, 2=reviewed  \n", 
                "DOC.set_qc_status(0)  \n", 
                "\n", 
                "# PROPERTY VALUE: \n", 
                "# Set as follows: DOC.set_value(value)  \n", 
                "# TODO"
            ], 
            "outputs": [], 
            "metadata": {
                "collapsed": true
            }
        }, 
        {
            "source": [
                "### 7.5. Dynamics Time Step\n", 
                " *What is the time step in the sea ice model dynamic component in seconds.*"
            ], 
            "cell_type": "markdown", 
            "metadata": {}
        }, 
        {
            "execution_count": null, 
            "cell_type": "code", 
            "source": [
                "# PROPERTY INFO: \n", 
                "# Is Required: False \n", 
                "# Type: INTEGER \n", 
                "# Cardinality: 1.1 \n", 
                "\n", 
                "# PROPERTY ID - DO NOT EDIT !  \n", 
                "DOC.set_id('cmip6.seaice.grid.discretisation.horizontal.dynamics_time_step')  \n", 
                "\n", 
                "# PROPERTY QUALITY CONTROL:  \n", 
                "# 0=draft, 1=in-review, 2=reviewed  \n", 
                "DOC.set_qc_status(0)  \n", 
                "\n", 
                "# PROPERTY VALUE: \n", 
                "# Set as follows: DOC.set_value(value)  \n", 
                "# TODO"
            ], 
            "outputs": [], 
            "metadata": {
                "collapsed": true
            }
        }, 
        {
            "source": [
                "### 7.6. Additional Details\n", 
                " *Specify any additional horizontal discretisation details.*"
            ], 
            "cell_type": "markdown", 
            "metadata": {}
        }, 
        {
            "execution_count": null, 
            "cell_type": "code", 
            "source": [
                "# PROPERTY INFO: \n", 
                "# Is Required: True \n", 
                "# Type: STRING \n", 
                "# Cardinality: 0.1 \n", 
                "\n", 
                "# PROPERTY ID - DO NOT EDIT !  \n", 
                "DOC.set_id('cmip6.seaice.grid.discretisation.horizontal.additional_details')  \n", 
                "\n", 
                "# PROPERTY QUALITY CONTROL:  \n", 
                "# 0=draft, 1=in-review, 2=reviewed  \n", 
                "DOC.set_qc_status(0)  \n", 
                "\n", 
                "# PROPERTY VALUE: \n", 
                "# Set as follows: DOC.set_value(value)  \n", 
                "# TODO"
            ], 
            "outputs": [], 
            "metadata": {
                "collapsed": true
            }
        }, 
        {
            "source": [
                "# 8. Grid --&gt; Discretisation --&gt; Vertical  \n", 
                "*Sea ice vertical properties*"
            ], 
            "cell_type": "markdown", 
            "metadata": {}
        }, 
        {
            "source": [
                "### 8.1. Layering\n", 
                " *What type of sea ice vertical layers are implemented for purposes of thermodynamic calculations?*"
            ], 
            "cell_type": "markdown", 
            "metadata": {}
        }, 
        {
            "execution_count": null, 
            "cell_type": "code", 
            "source": [
                "# PROPERTY INFO: \n", 
                "# Is Required: False \n", 
                "# Type: ENUM \n", 
                "# Cardinality: 1.N \n", 
                "\n", 
                "# PROPERTY ID - DO NOT EDIT !  \n", 
                "DOC.set_id('cmip6.seaice.grid.discretisation.vertical.layering')  \n", 
                "\n", 
                "# PROPERTY QUALITY CONTROL:  \n", 
                "# 0=draft, 1=in-review, 2=reviewed  \n", 
                "DOC.set_qc_status(0)  \n", 
                "\n", 
                "# PROPERTY VALUE(S): \n", 
                "# Set as follows: DOC.set_value(value)  \n", 
                "# Choices: \n", 
                "#      'Zero-layer'  \n", 
                "#      'Two-levels'  \n", 
                "#      'Multi-level'  \n", 
                "#      'Other: [Please specify]'  \n", 
                "# TODO"
            ], 
            "outputs": [], 
            "metadata": {
                "collapsed": true
            }
        }, 
        {
            "source": [
                "### 8.2. Number Of Layers\n", 
                " *If using multi-layers specify how many.*"
            ], 
            "cell_type": "markdown", 
            "metadata": {}
        }, 
        {
            "execution_count": null, 
            "cell_type": "code", 
            "source": [
                "# PROPERTY INFO: \n", 
                "# Is Required: False \n", 
                "# Type: INTEGER \n", 
                "# Cardinality: 1.1 \n", 
                "\n", 
                "# PROPERTY ID - DO NOT EDIT !  \n", 
                "DOC.set_id('cmip6.seaice.grid.discretisation.vertical.number_of_layers')  \n", 
                "\n", 
                "# PROPERTY QUALITY CONTROL:  \n", 
                "# 0=draft, 1=in-review, 2=reviewed  \n", 
                "DOC.set_qc_status(0)  \n", 
                "\n", 
                "# PROPERTY VALUE: \n", 
                "# Set as follows: DOC.set_value(value)  \n", 
                "# TODO"
            ], 
            "outputs": [], 
            "metadata": {
                "collapsed": true
            }
        }, 
        {
            "source": [
                "### 8.3. Additional Details\n", 
                " *Specify any additional vertical grid details.*"
            ], 
            "cell_type": "markdown", 
            "metadata": {}
        }, 
        {
            "execution_count": null, 
            "cell_type": "code", 
            "source": [
                "# PROPERTY INFO: \n", 
                "# Is Required: True \n", 
                "# Type: STRING \n", 
                "# Cardinality: 0.1 \n", 
                "\n", 
                "# PROPERTY ID - DO NOT EDIT !  \n", 
                "DOC.set_id('cmip6.seaice.grid.discretisation.vertical.additional_details')  \n", 
                "\n", 
                "# PROPERTY QUALITY CONTROL:  \n", 
                "# 0=draft, 1=in-review, 2=reviewed  \n", 
                "DOC.set_qc_status(0)  \n", 
                "\n", 
                "# PROPERTY VALUE: \n", 
                "# Set as follows: DOC.set_value(value)  \n", 
                "# TODO"
            ], 
            "outputs": [], 
            "metadata": {
                "collapsed": true
            }
        }, 
        {
            "source": [
                "# 9. Grid --&gt; Seaice Categories  \n", 
                "*What method is used to represent sea ice categories ?*"
            ], 
            "cell_type": "markdown", 
            "metadata": {}
        }, 
        {
            "source": [
                "### 9.1. Has Mulitple Categories\n", 
                " *Set to true if the sea ice model has multiple sea ice categories.*"
            ], 
            "cell_type": "markdown", 
            "metadata": {}
        }, 
        {
            "execution_count": null, 
            "cell_type": "code", 
            "source": [
                "# PROPERTY INFO: \n", 
                "# Is Required: False \n", 
                "# Type: BOOLEAN \n", 
                "# Cardinality: 1.1 \n", 
                "\n", 
                "# PROPERTY ID - DO NOT EDIT !  \n", 
                "DOC.set_id('cmip6.seaice.grid.seaice_categories.has_mulitple_categories')  \n", 
                "\n", 
                "# PROPERTY QUALITY CONTROL:  \n", 
                "# 0=draft, 1=in-review, 2=reviewed  \n", 
                "DOC.set_qc_status(0)  \n", 
                "\n", 
                "# PROPERTY VALUE: \n", 
                "# Set as follows: DOC.set_value(value)  \n", 
                "# Choices: \n", 
                "#     True  \n", 
                "#     False  \n", 
                "# TODO"
            ], 
            "outputs": [], 
            "metadata": {
                "collapsed": true
            }
        }, 
        {
            "source": [
                "### 9.2. Number Of Categories\n", 
                " *If using sea ice categories specify how many.*"
            ], 
            "cell_type": "markdown", 
            "metadata": {}
        }, 
        {
            "execution_count": null, 
            "cell_type": "code", 
            "source": [
                "# PROPERTY INFO: \n", 
                "# Is Required: False \n", 
                "# Type: INTEGER \n", 
                "# Cardinality: 1.1 \n", 
                "\n", 
                "# PROPERTY ID - DO NOT EDIT !  \n", 
                "DOC.set_id('cmip6.seaice.grid.seaice_categories.number_of_categories')  \n", 
                "\n", 
                "# PROPERTY QUALITY CONTROL:  \n", 
                "# 0=draft, 1=in-review, 2=reviewed  \n", 
                "DOC.set_qc_status(0)  \n", 
                "\n", 
                "# PROPERTY VALUE: \n", 
                "# Set as follows: DOC.set_value(value)  \n", 
                "# TODO"
            ], 
            "outputs": [], 
            "metadata": {
                "collapsed": true
            }
        }, 
        {
            "source": [
                "### 9.3. Category Limits\n", 
                " *If using sea ice categories specify each of the category limits.*"
            ], 
            "cell_type": "markdown", 
            "metadata": {}
        }, 
        {
            "execution_count": null, 
            "cell_type": "code", 
            "source": [
                "# PROPERTY INFO: \n", 
                "# Is Required: False \n", 
                "# Type: STRING \n", 
                "# Cardinality: 1.1 \n", 
                "\n", 
                "# PROPERTY ID - DO NOT EDIT !  \n", 
                "DOC.set_id('cmip6.seaice.grid.seaice_categories.category_limits')  \n", 
                "\n", 
                "# PROPERTY QUALITY CONTROL:  \n", 
                "# 0=draft, 1=in-review, 2=reviewed  \n", 
                "DOC.set_qc_status(0)  \n", 
                "\n", 
                "# PROPERTY VALUE: \n", 
                "# Set as follows: DOC.set_value(value)  \n", 
                "# TODO"
            ], 
            "outputs": [], 
            "metadata": {
                "collapsed": true
            }
        }, 
        {
            "source": [
                "### 9.4. Ice Thickness Distribution Scheme\n", 
                " *Describe the sea ice thickness distribution scheme*"
            ], 
            "cell_type": "markdown", 
            "metadata": {}
        }, 
        {
            "execution_count": null, 
            "cell_type": "code", 
            "source": [
                "# PROPERTY INFO: \n", 
                "# Is Required: False \n", 
                "# Type: STRING \n", 
                "# Cardinality: 1.1 \n", 
                "\n", 
                "# PROPERTY ID - DO NOT EDIT !  \n", 
                "DOC.set_id('cmip6.seaice.grid.seaice_categories.ice_thickness_distribution_scheme')  \n", 
                "\n", 
                "# PROPERTY QUALITY CONTROL:  \n", 
                "# 0=draft, 1=in-review, 2=reviewed  \n", 
                "DOC.set_qc_status(0)  \n", 
                "\n", 
                "# PROPERTY VALUE: \n", 
                "# Set as follows: DOC.set_value(value)  \n", 
                "# TODO"
            ], 
            "outputs": [], 
            "metadata": {
                "collapsed": true
            }
        }, 
        {
            "source": [
                "### 9.5. Other\n", 
                " *If the sea ice model does not use sea ice categories specify any additional details.*"
            ], 
            "cell_type": "markdown", 
            "metadata": {}
        }, 
        {
            "execution_count": null, 
            "cell_type": "code", 
            "source": [
                "# PROPERTY INFO: \n", 
                "# Is Required: True \n", 
                "# Type: STRING \n", 
                "# Cardinality: 0.1 \n", 
                "\n", 
                "# PROPERTY ID - DO NOT EDIT !  \n", 
                "DOC.set_id('cmip6.seaice.grid.seaice_categories.other')  \n", 
                "\n", 
                "# PROPERTY QUALITY CONTROL:  \n", 
                "# 0=draft, 1=in-review, 2=reviewed  \n", 
                "DOC.set_qc_status(0)  \n", 
                "\n", 
                "# PROPERTY VALUE: \n", 
                "# Set as follows: DOC.set_value(value)  \n", 
                "# TODO"
            ], 
            "outputs": [], 
            "metadata": {
                "collapsed": true
            }
        }, 
        {
            "source": [
                "# 10. Grid --&gt; Snow On Seaice  \n", 
                "*Snow on sea ice details*"
            ], 
            "cell_type": "markdown", 
            "metadata": {}
        }, 
        {
            "source": [
                "### 10.1. Has Snow On Ice\n", 
                " *Is snow on ice represented in this model?*"
            ], 
            "cell_type": "markdown", 
            "metadata": {}
        }, 
        {
            "execution_count": null, 
            "cell_type": "code", 
            "source": [
                "# PROPERTY INFO: \n", 
                "# Is Required: False \n", 
                "# Type: BOOLEAN \n", 
                "# Cardinality: 1.1 \n", 
                "\n", 
                "# PROPERTY ID - DO NOT EDIT !  \n", 
                "DOC.set_id('cmip6.seaice.grid.snow_on_seaice.has_snow_on_ice')  \n", 
                "\n", 
                "# PROPERTY QUALITY CONTROL:  \n", 
                "# 0=draft, 1=in-review, 2=reviewed  \n", 
                "DOC.set_qc_status(0)  \n", 
                "\n", 
                "# PROPERTY VALUE: \n", 
                "# Set as follows: DOC.set_value(value)  \n", 
                "# Choices: \n", 
                "#     True  \n", 
                "#     False  \n", 
                "# TODO"
            ], 
            "outputs": [], 
            "metadata": {
                "collapsed": true
            }
        }, 
        {
            "source": [
                "### 10.2. Number Of Snow Levels\n", 
                " *Number of vertical levels of snow on ice?*"
            ], 
            "cell_type": "markdown", 
            "metadata": {}
        }, 
        {
            "execution_count": null, 
            "cell_type": "code", 
            "source": [
                "# PROPERTY INFO: \n", 
                "# Is Required: False \n", 
                "# Type: INTEGER \n", 
                "# Cardinality: 1.1 \n", 
                "\n", 
                "# PROPERTY ID - DO NOT EDIT !  \n", 
                "DOC.set_id('cmip6.seaice.grid.snow_on_seaice.number_of_snow_levels')  \n", 
                "\n", 
                "# PROPERTY QUALITY CONTROL:  \n", 
                "# 0=draft, 1=in-review, 2=reviewed  \n", 
                "DOC.set_qc_status(0)  \n", 
                "\n", 
                "# PROPERTY VALUE: \n", 
                "# Set as follows: DOC.set_value(value)  \n", 
                "# TODO"
            ], 
            "outputs": [], 
            "metadata": {
                "collapsed": true
            }
        }, 
        {
            "source": [
                "### 10.3. Snow Fraction\n", 
                " *Describe how the snow fraction on sea ice is determined*"
            ], 
            "cell_type": "markdown", 
            "metadata": {}
        }, 
        {
            "execution_count": null, 
            "cell_type": "code", 
            "source": [
                "# PROPERTY INFO: \n", 
                "# Is Required: False \n", 
                "# Type: STRING \n", 
                "# Cardinality: 1.1 \n", 
                "\n", 
                "# PROPERTY ID - DO NOT EDIT !  \n", 
                "DOC.set_id('cmip6.seaice.grid.snow_on_seaice.snow_fraction')  \n", 
                "\n", 
                "# PROPERTY QUALITY CONTROL:  \n", 
                "# 0=draft, 1=in-review, 2=reviewed  \n", 
                "DOC.set_qc_status(0)  \n", 
                "\n", 
                "# PROPERTY VALUE: \n", 
                "# Set as follows: DOC.set_value(value)  \n", 
                "# TODO"
            ], 
            "outputs": [], 
            "metadata": {
                "collapsed": true
            }
        }, 
        {
            "source": [
                "### 10.4. Additional Details\n", 
                " *Specify any additional details related to snow on ice.*"
            ], 
            "cell_type": "markdown", 
            "metadata": {}
        }, 
        {
            "execution_count": null, 
            "cell_type": "code", 
            "source": [
                "# PROPERTY INFO: \n", 
                "# Is Required: True \n", 
                "# Type: STRING \n", 
                "# Cardinality: 0.1 \n", 
                "\n", 
                "# PROPERTY ID - DO NOT EDIT !  \n", 
                "DOC.set_id('cmip6.seaice.grid.snow_on_seaice.additional_details')  \n", 
                "\n", 
                "# PROPERTY QUALITY CONTROL:  \n", 
                "# 0=draft, 1=in-review, 2=reviewed  \n", 
                "DOC.set_qc_status(0)  \n", 
                "\n", 
                "# PROPERTY VALUE: \n", 
                "# Set as follows: DOC.set_value(value)  \n", 
                "# TODO"
            ], 
            "outputs": [], 
            "metadata": {
                "collapsed": true
            }
        }, 
        {
            "source": [
                "# 11. Dynamics  \n", 
                "*Sea Ice Dynamics*"
            ], 
            "cell_type": "markdown", 
            "metadata": {}
        }, 
        {
            "source": [
                "### 11.1. Horizontal Transport\n", 
                " *What is the method of horizontal advection of sea ice?*"
            ], 
            "cell_type": "markdown", 
            "metadata": {}
        }, 
        {
            "execution_count": null, 
            "cell_type": "code", 
            "source": [
                "# PROPERTY INFO: \n", 
                "# Is Required: False \n", 
                "# Type: ENUM \n", 
                "# Cardinality: 1.1 \n", 
                "\n", 
                "# PROPERTY ID - DO NOT EDIT !  \n", 
                "DOC.set_id('cmip6.seaice.dynamics.horizontal_transport')  \n", 
                "\n", 
                "# PROPERTY QUALITY CONTROL:  \n", 
                "# 0=draft, 1=in-review, 2=reviewed  \n", 
                "DOC.set_qc_status(0)  \n", 
                "\n", 
                "# PROPERTY VALUE: \n", 
                "# Set as follows: DOC.set_value(value)  \n", 
                "# Choices: \n", 
                "#      'Incremental Re-mapping'  \n", 
                "#      'Prather'  \n", 
                "#      'Eulerian'  \n", 
                "#      'Other: [Please specify]'  \n", 
                "# TODO"
            ], 
            "outputs": [], 
            "metadata": {
                "collapsed": true
            }
        }, 
        {
            "source": [
                "### 11.2. Transport In Thickness Space\n", 
                " *What is the method of sea ice transport in thickness space (i.e. in thickness categories)?*"
            ], 
            "cell_type": "markdown", 
            "metadata": {}
        }, 
        {
            "execution_count": null, 
            "cell_type": "code", 
            "source": [
                "# PROPERTY INFO: \n", 
                "# Is Required: False \n", 
                "# Type: ENUM \n", 
                "# Cardinality: 1.1 \n", 
                "\n", 
                "# PROPERTY ID - DO NOT EDIT !  \n", 
                "DOC.set_id('cmip6.seaice.dynamics.transport_in_thickness_space')  \n", 
                "\n", 
                "# PROPERTY QUALITY CONTROL:  \n", 
                "# 0=draft, 1=in-review, 2=reviewed  \n", 
                "DOC.set_qc_status(0)  \n", 
                "\n", 
                "# PROPERTY VALUE: \n", 
                "# Set as follows: DOC.set_value(value)  \n", 
                "# Choices: \n", 
                "#      'Incremental Re-mapping'  \n", 
                "#      'Prather'  \n", 
                "#      'Eulerian'  \n", 
                "#      'Other: [Please specify]'  \n", 
                "# TODO"
            ], 
            "outputs": [], 
            "metadata": {
                "collapsed": true
            }
        }, 
        {
            "source": [
                "### 11.3. Ice Strength Formulation\n", 
                " *Which method of sea ice strength formulation is used?*"
            ], 
            "cell_type": "markdown", 
            "metadata": {}
        }, 
        {
            "execution_count": null, 
            "cell_type": "code", 
            "source": [
                "# PROPERTY INFO: \n", 
                "# Is Required: False \n", 
                "# Type: ENUM \n", 
                "# Cardinality: 1.1 \n", 
                "\n", 
                "# PROPERTY ID - DO NOT EDIT !  \n", 
                "DOC.set_id('cmip6.seaice.dynamics.ice_strength_formulation')  \n", 
                "\n", 
                "# PROPERTY QUALITY CONTROL:  \n", 
                "# 0=draft, 1=in-review, 2=reviewed  \n", 
                "DOC.set_qc_status(0)  \n", 
                "\n", 
                "# PROPERTY VALUE: \n", 
                "# Set as follows: DOC.set_value(value)  \n", 
                "# Choices: \n", 
                "#      'Hibler 1979'  \n", 
                "#      'Rothrock 1975'  \n", 
                "#      'Other: [Please specify]'  \n", 
                "# TODO"
            ], 
            "outputs": [], 
            "metadata": {
                "collapsed": true
            }
        }, 
        {
            "source": [
                "### 11.4. Redistribution\n", 
                " *Which processes can redistribute sea ice?*"
            ], 
            "cell_type": "markdown", 
            "metadata": {}
        }, 
        {
            "execution_count": null, 
            "cell_type": "code", 
            "source": [
                "# PROPERTY INFO: \n", 
                "# Is Required: False \n", 
                "# Type: ENUM \n", 
                "# Cardinality: 1.N \n", 
                "\n", 
                "# PROPERTY ID - DO NOT EDIT !  \n", 
                "DOC.set_id('cmip6.seaice.dynamics.redistribution')  \n", 
                "\n", 
                "# PROPERTY QUALITY CONTROL:  \n", 
                "# 0=draft, 1=in-review, 2=reviewed  \n", 
                "DOC.set_qc_status(0)  \n", 
                "\n", 
                "# PROPERTY VALUE(S): \n", 
                "# Set as follows: DOC.set_value(value)  \n", 
                "# Choices: \n", 
                "#      'Rafting'  \n", 
                "#      'Ridging'  \n", 
                "#      'Other: [Please specify]'  \n", 
                "# TODO"
            ], 
            "outputs": [], 
            "metadata": {
                "collapsed": true
            }
        }, 
        {
            "source": [
                "### 11.5. Rheology\n", 
                " *Rheology, what is the ice deformation formulation?*"
            ], 
            "cell_type": "markdown", 
            "metadata": {}
        }, 
        {
            "execution_count": null, 
            "cell_type": "code", 
            "source": [
                "# PROPERTY INFO: \n", 
                "# Is Required: False \n", 
                "# Type: ENUM \n", 
                "# Cardinality: 1.1 \n", 
                "\n", 
                "# PROPERTY ID - DO NOT EDIT !  \n", 
                "DOC.set_id('cmip6.seaice.dynamics.rheology')  \n", 
                "\n", 
                "# PROPERTY QUALITY CONTROL:  \n", 
                "# 0=draft, 1=in-review, 2=reviewed  \n", 
                "DOC.set_qc_status(0)  \n", 
                "\n", 
                "# PROPERTY VALUE: \n", 
                "# Set as follows: DOC.set_value(value)  \n", 
                "# Choices: \n", 
                "#      'free-drift'  \n", 
                "#      'Mohr-Coloumb'  \n", 
                "#      'visco-plastic'  \n", 
                "#      'elastic-visco-plastic'  \n", 
                "#      'Elastic-aniostropic-plastic'  \n", 
                "#      'granular'  \n", 
                "#      'Other: [Please specify]'  \n", 
                "# TODO"
            ], 
            "outputs": [], 
            "metadata": {
                "collapsed": true
            }
        }, 
        {
            "source": [
                "# 12. Thermodynamics --&gt; Energy  \n", 
                "*Processes related to energy in sea ice thermodynamics*"
            ], 
            "cell_type": "markdown", 
            "metadata": {}
        }, 
        {
            "source": [
                "### 12.1. Enthalpy Formulation\n", 
                " *What is the energy formulation?*"
            ], 
            "cell_type": "markdown", 
            "metadata": {}
        }, 
        {
            "execution_count": null, 
            "cell_type": "code", 
            "source": [
                "# PROPERTY INFO: \n", 
                "# Is Required: False \n", 
                "# Type: ENUM \n", 
                "# Cardinality: 1.1 \n", 
                "\n", 
                "# PROPERTY ID - DO NOT EDIT !  \n", 
                "DOC.set_id('cmip6.seaice.thermodynamics.energy.enthalpy_formulation')  \n", 
                "\n", 
                "# PROPERTY QUALITY CONTROL:  \n", 
                "# 0=draft, 1=in-review, 2=reviewed  \n", 
                "DOC.set_qc_status(0)  \n", 
                "\n", 
                "# PROPERTY VALUE: \n", 
                "# Set as follows: DOC.set_value(value)  \n", 
                "# Choices: \n", 
                "#      'Pure ice latent heat (Semtner 0-layer)'  \n", 
                "#      'Pure ice latent and sensible heat'  \n", 
                "#      'Pure ice latent and sensible heat + brine heat reservoir (Semtner 3-layer)'  \n", 
                "#      'Pure ice latent and sensible heat + explicit brine inclusions (Bitz and Lipscomb)'  \n", 
                "#      'Other: [Please specify]'  \n", 
                "# TODO"
            ], 
            "outputs": [], 
            "metadata": {
                "collapsed": true
            }
        }, 
        {
            "source": [
                "### 12.2. Thermal Conductivity\n", 
                " *What type of thermal conductivity is used?*"
            ], 
            "cell_type": "markdown", 
            "metadata": {}
        }, 
        {
            "execution_count": null, 
            "cell_type": "code", 
            "source": [
                "# PROPERTY INFO: \n", 
                "# Is Required: False \n", 
                "# Type: ENUM \n", 
                "# Cardinality: 1.1 \n", 
                "\n", 
                "# PROPERTY ID - DO NOT EDIT !  \n", 
                "DOC.set_id('cmip6.seaice.thermodynamics.energy.thermal_conductivity')  \n", 
                "\n", 
                "# PROPERTY QUALITY CONTROL:  \n", 
                "# 0=draft, 1=in-review, 2=reviewed  \n", 
                "DOC.set_qc_status(0)  \n", 
                "\n", 
                "# PROPERTY VALUE: \n", 
                "# Set as follows: DOC.set_value(value)  \n", 
                "# Choices: \n", 
                "#      'Pure ice'  \n", 
                "#      'Saline ice'  \n", 
                "#      'Other: [Please specify]'  \n", 
                "# TODO"
            ], 
            "outputs": [], 
            "metadata": {
                "collapsed": true
            }
        }, 
        {
            "source": [
                "### 12.3. Heat Diffusion\n", 
                " *What is the method of heat diffusion?*"
            ], 
            "cell_type": "markdown", 
            "metadata": {}
        }, 
        {
            "execution_count": null, 
            "cell_type": "code", 
            "source": [
                "# PROPERTY INFO: \n", 
                "# Is Required: False \n", 
                "# Type: ENUM \n", 
                "# Cardinality: 1.1 \n", 
                "\n", 
                "# PROPERTY ID - DO NOT EDIT !  \n", 
                "DOC.set_id('cmip6.seaice.thermodynamics.energy.heat_diffusion')  \n", 
                "\n", 
                "# PROPERTY QUALITY CONTROL:  \n", 
                "# 0=draft, 1=in-review, 2=reviewed  \n", 
                "DOC.set_qc_status(0)  \n", 
                "\n", 
                "# PROPERTY VALUE: \n", 
                "# Set as follows: DOC.set_value(value)  \n", 
                "# Choices: \n", 
                "#      'Conduction fluxes'  \n", 
                "#      'Conduction and radiation heat fluxes'  \n", 
                "#      'Conduction, radiation and latent heat transport'  \n", 
                "#      'Other: [Please specify]'  \n", 
                "# TODO"
            ], 
            "outputs": [], 
            "metadata": {
                "collapsed": true
            }
        }, 
        {
            "source": [
                "### 12.4. Basal Heat Flux\n", 
                " *Method by which basal ocean heat flux is handled?*"
            ], 
            "cell_type": "markdown", 
            "metadata": {}
        }, 
        {
            "execution_count": null, 
            "cell_type": "code", 
            "source": [
                "# PROPERTY INFO: \n", 
                "# Is Required: False \n", 
                "# Type: ENUM \n", 
                "# Cardinality: 1.1 \n", 
                "\n", 
                "# PROPERTY ID - DO NOT EDIT !  \n", 
                "DOC.set_id('cmip6.seaice.thermodynamics.energy.basal_heat_flux')  \n", 
                "\n", 
                "# PROPERTY QUALITY CONTROL:  \n", 
                "# 0=draft, 1=in-review, 2=reviewed  \n", 
                "DOC.set_qc_status(0)  \n", 
                "\n", 
                "# PROPERTY VALUE: \n", 
                "# Set as follows: DOC.set_value(value)  \n", 
                "# Choices: \n", 
                "#      'Heat Reservoir'  \n", 
                "#      'Thermal Fixed Salinity'  \n", 
                "#      'Thermal Varying Salinity'  \n", 
                "#      'Other: [Please specify]'  \n", 
                "# TODO"
            ], 
            "outputs": [], 
            "metadata": {
                "collapsed": true
            }
        }, 
        {
            "source": [
                "### 12.5. Fixed Salinity Value\n", 
                " *If you have selected {Thermal properties depend on S-T (with fixed salinity)}, supply fixed salinity value for each sea ice layer.*"
            ], 
            "cell_type": "markdown", 
            "metadata": {}
        }, 
        {
            "execution_count": null, 
            "cell_type": "code", 
            "source": [
                "# PROPERTY INFO: \n", 
                "# Is Required: True \n", 
                "# Type: FLOAT \n", 
                "# Cardinality: 0.1 \n", 
                "\n", 
                "# PROPERTY ID - DO NOT EDIT !  \n", 
                "DOC.set_id('cmip6.seaice.thermodynamics.energy.fixed_salinity_value')  \n", 
                "\n", 
                "# PROPERTY QUALITY CONTROL:  \n", 
                "# 0=draft, 1=in-review, 2=reviewed  \n", 
                "DOC.set_qc_status(0)  \n", 
                "\n", 
                "# PROPERTY VALUE: \n", 
                "# Set as follows: DOC.set_value(value)  \n", 
                "# TODO"
            ], 
            "outputs": [], 
            "metadata": {
                "collapsed": true
            }
        }, 
        {
            "source": [
                "### 12.6. Heat Content Precip\n", 
                " *Describe the method by which the heat content of precipitation is handled.*"
            ], 
            "cell_type": "markdown", 
            "metadata": {}
        }, 
        {
            "execution_count": null, 
            "cell_type": "code", 
            "source": [
                "# PROPERTY INFO: \n", 
                "# Is Required: False \n", 
                "# Type: STRING \n", 
                "# Cardinality: 1.1 \n", 
                "\n", 
                "# PROPERTY ID - DO NOT EDIT !  \n", 
                "DOC.set_id('cmip6.seaice.thermodynamics.energy.heat_content_precip')  \n", 
                "\n", 
                "# PROPERTY QUALITY CONTROL:  \n", 
                "# 0=draft, 1=in-review, 2=reviewed  \n", 
                "DOC.set_qc_status(0)  \n", 
                "\n", 
                "# PROPERTY VALUE: \n", 
                "# Set as follows: DOC.set_value(value)  \n", 
                "# TODO"
            ], 
            "outputs": [], 
            "metadata": {
                "collapsed": true
            }
        }, 
        {
            "source": [
                "# 13. Thermodynamics --&gt; Mass  \n", 
                "*Processes related to mass in sea ice thermodynamics*"
            ], 
            "cell_type": "markdown", 
            "metadata": {}
        }, 
        {
            "source": [
                "### 13.1. New Ice Formation\n", 
                " *Describe the method by which new sea ice is formed in open water.*"
            ], 
            "cell_type": "markdown", 
            "metadata": {}
        }, 
        {
            "execution_count": null, 
            "cell_type": "code", 
            "source": [
                "# PROPERTY INFO: \n", 
                "# Is Required: False \n", 
                "# Type: STRING \n", 
                "# Cardinality: 1.1 \n", 
                "\n", 
                "# PROPERTY ID - DO NOT EDIT !  \n", 
                "DOC.set_id('cmip6.seaice.thermodynamics.mass.new_ice_formation')  \n", 
                "\n", 
                "# PROPERTY QUALITY CONTROL:  \n", 
                "# 0=draft, 1=in-review, 2=reviewed  \n", 
                "DOC.set_qc_status(0)  \n", 
                "\n", 
                "# PROPERTY VALUE: \n", 
                "# Set as follows: DOC.set_value(value)  \n", 
                "# TODO"
            ], 
            "outputs": [], 
            "metadata": {
                "collapsed": true
            }
        }, 
        {
            "source": [
                "### 13.2. Ice Vertical Growth And Melt\n", 
                " *Describe the method that governs the vertical growth and melt of sea ice.*"
            ], 
            "cell_type": "markdown", 
            "metadata": {}
        }, 
        {
            "execution_count": null, 
            "cell_type": "code", 
            "source": [
                "# PROPERTY INFO: \n", 
                "# Is Required: False \n", 
                "# Type: STRING \n", 
                "# Cardinality: 1.1 \n", 
                "\n", 
                "# PROPERTY ID - DO NOT EDIT !  \n", 
                "DOC.set_id('cmip6.seaice.thermodynamics.mass.ice_vertical_growth_and_melt')  \n", 
                "\n", 
                "# PROPERTY QUALITY CONTROL:  \n", 
                "# 0=draft, 1=in-review, 2=reviewed  \n", 
                "DOC.set_qc_status(0)  \n", 
                "\n", 
                "# PROPERTY VALUE: \n", 
                "# Set as follows: DOC.set_value(value)  \n", 
                "# TODO"
            ], 
            "outputs": [], 
            "metadata": {
                "collapsed": true
            }
        }, 
        {
            "source": [
                "### 13.3. Ice Lateral Melting\n", 
                " *What is the method of sea ice lateral melting?*"
            ], 
            "cell_type": "markdown", 
            "metadata": {}
        }, 
        {
            "execution_count": null, 
            "cell_type": "code", 
            "source": [
                "# PROPERTY INFO: \n", 
                "# Is Required: False \n", 
                "# Type: ENUM \n", 
                "# Cardinality: 1.1 \n", 
                "\n", 
                "# PROPERTY ID - DO NOT EDIT !  \n", 
                "DOC.set_id('cmip6.seaice.thermodynamics.mass.ice_lateral_melting')  \n", 
                "\n", 
                "# PROPERTY QUALITY CONTROL:  \n", 
                "# 0=draft, 1=in-review, 2=reviewed  \n", 
                "DOC.set_qc_status(0)  \n", 
                "\n", 
                "# PROPERTY VALUE: \n", 
                "# Set as follows: DOC.set_value(value)  \n", 
                "# Choices: \n", 
                "#      'Floe-size dependent (Bitz et al 2001)'  \n", 
                "#      'Virtual thin ice melting (for single-category)'  \n", 
                "#      'Other: [Please specify]'  \n", 
                "# TODO"
            ], 
            "outputs": [], 
            "metadata": {
                "collapsed": true
            }
        }, 
        {
            "source": [
                "### 13.4. Ice Surface Sublimation\n", 
                " *Describe the method that governs sea ice surface sublimation.*"
            ], 
            "cell_type": "markdown", 
            "metadata": {}
        }, 
        {
            "execution_count": null, 
            "cell_type": "code", 
            "source": [
                "# PROPERTY INFO: \n", 
                "# Is Required: False \n", 
                "# Type: STRING \n", 
                "# Cardinality: 1.1 \n", 
                "\n", 
                "# PROPERTY ID - DO NOT EDIT !  \n", 
                "DOC.set_id('cmip6.seaice.thermodynamics.mass.ice_surface_sublimation')  \n", 
                "\n", 
                "# PROPERTY QUALITY CONTROL:  \n", 
                "# 0=draft, 1=in-review, 2=reviewed  \n", 
                "DOC.set_qc_status(0)  \n", 
                "\n", 
                "# PROPERTY VALUE: \n", 
                "# Set as follows: DOC.set_value(value)  \n", 
                "# TODO"
            ], 
            "outputs": [], 
            "metadata": {
                "collapsed": true
            }
        }, 
        {
            "source": [
                "### 13.5. Frazil Ice\n", 
                " *Describe the method of frazil ice formation.*"
            ], 
            "cell_type": "markdown", 
            "metadata": {}
        }, 
        {
            "execution_count": null, 
            "cell_type": "code", 
            "source": [
                "# PROPERTY INFO: \n", 
                "# Is Required: False \n", 
                "# Type: STRING \n", 
                "# Cardinality: 1.1 \n", 
                "\n", 
                "# PROPERTY ID - DO NOT EDIT !  \n", 
                "DOC.set_id('cmip6.seaice.thermodynamics.mass.frazil_ice')  \n", 
                "\n", 
                "# PROPERTY QUALITY CONTROL:  \n", 
                "# 0=draft, 1=in-review, 2=reviewed  \n", 
                "DOC.set_qc_status(0)  \n", 
                "\n", 
                "# PROPERTY VALUE: \n", 
                "# Set as follows: DOC.set_value(value)  \n", 
                "# TODO"
            ], 
            "outputs": [], 
            "metadata": {
                "collapsed": true
            }
        }, 
        {
            "source": [
                "# 14. Thermodynamics --&gt; Salt  \n", 
                "*Processes related to salt in sea ice thermodynamics.*"
            ], 
            "cell_type": "markdown", 
            "metadata": {}
        }, 
        {
            "source": [
                "### 14.1. Has Multiple Sea Ice Salinities\n", 
                " *Does the sea ice model use two different salinities: one for thermodynamic calculations; and one for the salt budget?*"
            ], 
            "cell_type": "markdown", 
            "metadata": {}
        }, 
        {
            "execution_count": null, 
            "cell_type": "code", 
            "source": [
                "# PROPERTY INFO: \n", 
                "# Is Required: False \n", 
                "# Type: BOOLEAN \n", 
                "# Cardinality: 1.1 \n", 
                "\n", 
                "# PROPERTY ID - DO NOT EDIT !  \n", 
                "DOC.set_id('cmip6.seaice.thermodynamics.salt.has_multiple_sea_ice_salinities')  \n", 
                "\n", 
                "# PROPERTY QUALITY CONTROL:  \n", 
                "# 0=draft, 1=in-review, 2=reviewed  \n", 
                "DOC.set_qc_status(0)  \n", 
                "\n", 
                "# PROPERTY VALUE: \n", 
                "# Set as follows: DOC.set_value(value)  \n", 
                "# Choices: \n", 
                "#     True  \n", 
                "#     False  \n", 
                "# TODO"
            ], 
            "outputs": [], 
            "metadata": {
                "collapsed": true
            }
        }, 
        {
            "source": [
                "### 14.2. Sea Ice Salinity Thermal Impacts\n", 
                " *Does sea ice salinity impact the thermal properties of sea ice?*"
            ], 
            "cell_type": "markdown", 
            "metadata": {}
        }, 
        {
            "execution_count": null, 
            "cell_type": "code", 
            "source": [
                "# PROPERTY INFO: \n", 
                "# Is Required: False \n", 
                "# Type: BOOLEAN \n", 
                "# Cardinality: 1.1 \n", 
                "\n", 
                "# PROPERTY ID - DO NOT EDIT !  \n", 
                "DOC.set_id('cmip6.seaice.thermodynamics.salt.sea_ice_salinity_thermal_impacts')  \n", 
                "\n", 
                "# PROPERTY QUALITY CONTROL:  \n", 
                "# 0=draft, 1=in-review, 2=reviewed  \n", 
                "DOC.set_qc_status(0)  \n", 
                "\n", 
                "# PROPERTY VALUE: \n", 
                "# Set as follows: DOC.set_value(value)  \n", 
                "# Choices: \n", 
                "#     True  \n", 
                "#     False  \n", 
                "# TODO"
            ], 
            "outputs": [], 
            "metadata": {
                "collapsed": true
            }
        }, 
        {
            "source": [
                "# 15. Thermodynamics --&gt; Salt --&gt; Mass Transport  \n", 
                "*Mass transport of salt*"
            ], 
            "cell_type": "markdown", 
            "metadata": {}
        }, 
        {
            "source": [
                "### 15.1. Salinity Type\n", 
                " *How is salinity determined in the mass transport of salt calculation?*"
            ], 
            "cell_type": "markdown", 
            "metadata": {}
        }, 
        {
            "execution_count": null, 
            "cell_type": "code", 
            "source": [
                "# PROPERTY INFO: \n", 
                "# Is Required: False \n", 
                "# Type: ENUM \n", 
                "# Cardinality: 1.1 \n", 
                "\n", 
                "# PROPERTY ID - DO NOT EDIT !  \n", 
                "DOC.set_id('cmip6.seaice.thermodynamics.salt.mass_transport.salinity_type')  \n", 
                "\n", 
                "# PROPERTY QUALITY CONTROL:  \n", 
                "# 0=draft, 1=in-review, 2=reviewed  \n", 
                "DOC.set_qc_status(0)  \n", 
                "\n", 
                "# PROPERTY VALUE: \n", 
                "# Set as follows: DOC.set_value(value)  \n", 
                "# Choices: \n", 
                "#      'constant'  \n", 
                "#      'prescribed salinity profile'  \n", 
                "#      'prognostic salinity profile'  \n", 
                "#      'Other: [Please specify]'  \n", 
                "# TODO"
            ], 
            "outputs": [], 
            "metadata": {
                "collapsed": true
            }
        }, 
        {
            "source": [
                "### 15.2. Constant Salinity Value\n", 
                " *If using a constant salinity value specify this value in PSU?*"
            ], 
            "cell_type": "markdown", 
            "metadata": {}
        }, 
        {
            "execution_count": null, 
            "cell_type": "code", 
            "source": [
                "# PROPERTY INFO: \n", 
                "# Is Required: True \n", 
                "# Type: FLOAT \n", 
                "# Cardinality: 0.1 \n", 
                "\n", 
                "# PROPERTY ID - DO NOT EDIT !  \n", 
                "DOC.set_id('cmip6.seaice.thermodynamics.salt.mass_transport.constant_salinity_value')  \n", 
                "\n", 
                "# PROPERTY QUALITY CONTROL:  \n", 
                "# 0=draft, 1=in-review, 2=reviewed  \n", 
                "DOC.set_qc_status(0)  \n", 
                "\n", 
                "# PROPERTY VALUE: \n", 
                "# Set as follows: DOC.set_value(value)  \n", 
                "# TODO"
            ], 
            "outputs": [], 
            "metadata": {
                "collapsed": true
            }
        }, 
        {
            "source": [
                "### 15.3. Additional Details\n", 
                " *Describe the salinity profile used.*"
            ], 
            "cell_type": "markdown", 
            "metadata": {}
        }, 
        {
            "execution_count": null, 
            "cell_type": "code", 
            "source": [
                "# PROPERTY INFO: \n", 
                "# Is Required: True \n", 
                "# Type: STRING \n", 
                "# Cardinality: 0.1 \n", 
                "\n", 
                "# PROPERTY ID - DO NOT EDIT !  \n", 
                "DOC.set_id('cmip6.seaice.thermodynamics.salt.mass_transport.additional_details')  \n", 
                "\n", 
                "# PROPERTY QUALITY CONTROL:  \n", 
                "# 0=draft, 1=in-review, 2=reviewed  \n", 
                "DOC.set_qc_status(0)  \n", 
                "\n", 
                "# PROPERTY VALUE: \n", 
                "# Set as follows: DOC.set_value(value)  \n", 
                "# TODO"
            ], 
            "outputs": [], 
            "metadata": {
                "collapsed": true
            }
        }, 
        {
            "source": [
                "# 16. Thermodynamics --&gt; Salt --&gt; Thermodynamics  \n", 
                "*Salt thermodynamics*"
            ], 
            "cell_type": "markdown", 
            "metadata": {}
        }, 
        {
            "source": [
                "### 16.1. Salinity\n", 
                " *How is salinity determined in the thermodynamic calculation?*"
            ], 
            "cell_type": "markdown", 
            "metadata": {}
        }, 
        {
            "execution_count": null, 
            "cell_type": "code", 
            "source": [
                "# PROPERTY INFO: \n", 
                "# Is Required: False \n", 
                "# Type: ENUM \n", 
                "# Cardinality: 1.1 \n", 
                "\n", 
                "# PROPERTY ID - DO NOT EDIT !  \n", 
                "DOC.set_id('cmip6.seaice.thermodynamics.salt.thermodynamics.salinity')  \n", 
                "\n", 
                "# PROPERTY QUALITY CONTROL:  \n", 
                "# 0=draft, 1=in-review, 2=reviewed  \n", 
                "DOC.set_qc_status(0)  \n", 
                "\n", 
                "# PROPERTY VALUE: \n", 
                "# Set as follows: DOC.set_value(value)  \n", 
                "# Choices: \n", 
                "#      'constant'  \n", 
                "#      'prescribed salinity profile'  \n", 
                "#      'prognostic salinity profile'  \n", 
                "#      'Other: [Please specify]'  \n", 
                "# TODO"
            ], 
            "outputs": [], 
            "metadata": {
                "collapsed": true
            }
        }, 
        {
            "source": [
                "### 16.2. Constant Salinity Value\n", 
                " *If using a constant salinity value specify this value in PSU?*"
            ], 
            "cell_type": "markdown", 
            "metadata": {}
        }, 
        {
            "execution_count": null, 
            "cell_type": "code", 
            "source": [
                "# PROPERTY INFO: \n", 
                "# Is Required: True \n", 
                "# Type: FLOAT \n", 
                "# Cardinality: 0.1 \n", 
                "\n", 
                "# PROPERTY ID - DO NOT EDIT !  \n", 
                "DOC.set_id('cmip6.seaice.thermodynamics.salt.thermodynamics.constant_salinity_value')  \n", 
                "\n", 
                "# PROPERTY QUALITY CONTROL:  \n", 
                "# 0=draft, 1=in-review, 2=reviewed  \n", 
                "DOC.set_qc_status(0)  \n", 
                "\n", 
                "# PROPERTY VALUE: \n", 
                "# Set as follows: DOC.set_value(value)  \n", 
                "# TODO"
            ], 
            "outputs": [], 
            "metadata": {
                "collapsed": true
            }
        }, 
        {
            "source": [
                "### 16.3. Additional Details\n", 
                " *Describe the salinity profile used.*"
            ], 
            "cell_type": "markdown", 
            "metadata": {}
        }, 
        {
            "execution_count": null, 
            "cell_type": "code", 
            "source": [
                "# PROPERTY INFO: \n", 
                "# Is Required: True \n", 
                "# Type: STRING \n", 
                "# Cardinality: 0.1 \n", 
                "\n", 
                "# PROPERTY ID - DO NOT EDIT !  \n", 
                "DOC.set_id('cmip6.seaice.thermodynamics.salt.thermodynamics.additional_details')  \n", 
                "\n", 
                "# PROPERTY QUALITY CONTROL:  \n", 
                "# 0=draft, 1=in-review, 2=reviewed  \n", 
                "DOC.set_qc_status(0)  \n", 
                "\n", 
                "# PROPERTY VALUE: \n", 
                "# Set as follows: DOC.set_value(value)  \n", 
                "# TODO"
            ], 
            "outputs": [], 
            "metadata": {
                "collapsed": true
            }
        }, 
        {
            "source": [
                "# 17. Thermodynamics --&gt; Ice Thickness Distribution  \n", 
                "*Ice thickness distribution details.*"
            ], 
            "cell_type": "markdown", 
            "metadata": {}
        }, 
        {
            "source": [
                "### 17.1. Representation\n", 
                " *How is the sea ice thickness distribution represented?*"
            ], 
            "cell_type": "markdown", 
            "metadata": {}
        }, 
        {
            "execution_count": null, 
            "cell_type": "code", 
            "source": [
                "# PROPERTY INFO: \n", 
                "# Is Required: False \n", 
                "# Type: ENUM \n", 
                "# Cardinality: 1.1 \n", 
                "\n", 
                "# PROPERTY ID - DO NOT EDIT !  \n", 
                "DOC.set_id('cmip6.seaice.thermodynamics.ice_thickness_distribution.representation')  \n", 
                "\n", 
                "# PROPERTY QUALITY CONTROL:  \n", 
                "# 0=draft, 1=in-review, 2=reviewed  \n", 
                "DOC.set_qc_status(0)  \n", 
                "\n", 
                "# PROPERTY VALUE: \n", 
                "# Set as follows: DOC.set_value(value)  \n", 
                "# Choices: \n", 
                "#      'Explicit'  \n", 
                "#      'Virtual (enhancement of thermal conductivity, thin ice melting)'  \n", 
                "#      'Other: [Please specify]'  \n", 
                "# TODO"
            ], 
            "outputs": [], 
            "metadata": {
                "collapsed": true
            }
        }, 
        {
            "source": [
                "# 18. Thermodynamics --&gt; Melt Ponds  \n", 
                "*Characteristics of melt ponds.*"
            ], 
            "cell_type": "markdown", 
            "metadata": {}
        }, 
        {
            "source": [
                "### 18.1. Are Included\n", 
                " *Are melt ponds included in the sea ice model?*"
            ], 
            "cell_type": "markdown", 
            "metadata": {}
        }, 
        {
            "execution_count": null, 
            "cell_type": "code", 
            "source": [
                "# PROPERTY INFO: \n", 
                "# Is Required: False \n", 
                "# Type: BOOLEAN \n", 
                "# Cardinality: 1.1 \n", 
                "\n", 
                "# PROPERTY ID - DO NOT EDIT !  \n", 
                "DOC.set_id('cmip6.seaice.thermodynamics.melt_ponds.are_included')  \n", 
                "\n", 
                "# PROPERTY QUALITY CONTROL:  \n", 
                "# 0=draft, 1=in-review, 2=reviewed  \n", 
                "DOC.set_qc_status(0)  \n", 
                "\n", 
                "# PROPERTY VALUE: \n", 
                "# Set as follows: DOC.set_value(value)  \n", 
                "# Choices: \n", 
                "#     True  \n", 
                "#     False  \n", 
                "# TODO"
            ], 
            "outputs": [], 
            "metadata": {
                "collapsed": true
            }
        }, 
        {
            "source": [
                "### 18.2. Formulation\n", 
                " *What method of melt pond formulation is used?*"
            ], 
            "cell_type": "markdown", 
            "metadata": {}
        }, 
        {
            "execution_count": null, 
            "cell_type": "code", 
            "source": [
                "# PROPERTY INFO: \n", 
                "# Is Required: False \n", 
                "# Type: ENUM \n", 
                "# Cardinality: 1.1 \n", 
                "\n", 
                "# PROPERTY ID - DO NOT EDIT !  \n", 
                "DOC.set_id('cmip6.seaice.thermodynamics.melt_ponds.formulation')  \n", 
                "\n", 
                "# PROPERTY QUALITY CONTROL:  \n", 
                "# 0=draft, 1=in-review, 2=reviewed  \n", 
                "DOC.set_qc_status(0)  \n", 
                "\n", 
                "# PROPERTY VALUE: \n", 
                "# Set as follows: DOC.set_value(value)  \n", 
                "# Choices: \n", 
                "#      'Flocco and Feltham (2010)'  \n", 
                "#      'Level-ice melt ponds'  \n", 
                "#      'Other: [Please specify]'  \n", 
                "# TODO"
            ], 
            "outputs": [], 
            "metadata": {
                "collapsed": true
            }
        }, 
        {
            "source": [
                "### 18.3. Impacts\n", 
                " *What do melt ponds have an impact on?*"
            ], 
            "cell_type": "markdown", 
            "metadata": {}
        }, 
        {
            "execution_count": null, 
            "cell_type": "code", 
            "source": [
                "# PROPERTY INFO: \n", 
                "# Is Required: False \n", 
                "# Type: ENUM \n", 
                "# Cardinality: 1.N \n", 
                "\n", 
                "# PROPERTY ID - DO NOT EDIT !  \n", 
                "DOC.set_id('cmip6.seaice.thermodynamics.melt_ponds.impacts')  \n", 
                "\n", 
                "# PROPERTY QUALITY CONTROL:  \n", 
                "# 0=draft, 1=in-review, 2=reviewed  \n", 
                "DOC.set_qc_status(0)  \n", 
                "\n", 
                "# PROPERTY VALUE(S): \n", 
                "# Set as follows: DOC.set_value(value)  \n", 
                "# Choices: \n", 
                "#      'Albedo'  \n", 
                "#      'Freshwater'  \n", 
                "#      'Heat'  \n", 
                "#      'Other: [Please specify]'  \n", 
                "# TODO"
            ], 
            "outputs": [], 
            "metadata": {
                "collapsed": true
            }
        }, 
        {
            "source": [
                "# 19. Thermodynamics --&gt; Snow Processes  \n", 
                "*Thermodynamic processes in snow on sea ice*"
            ], 
            "cell_type": "markdown", 
            "metadata": {}
        }, 
        {
            "source": [
                "### 19.1. Has Snow Aging\n", 
                " *Set to True if the sea ice model has a snow aging scheme.*"
            ], 
            "cell_type": "markdown", 
            "metadata": {}
        }, 
        {
            "execution_count": null, 
            "cell_type": "code", 
            "source": [
                "# PROPERTY INFO: \n", 
                "# Is Required: False \n", 
                "# Type: BOOLEAN \n", 
                "# Cardinality: 1.N \n", 
                "\n", 
                "# PROPERTY ID - DO NOT EDIT !  \n", 
                "DOC.set_id('cmip6.seaice.thermodynamics.snow_processes.has_snow_aging')  \n", 
                "\n", 
                "# PROPERTY QUALITY CONTROL:  \n", 
                "# 0=draft, 1=in-review, 2=reviewed  \n", 
                "DOC.set_qc_status(0)  \n", 
                "\n", 
                "# PROPERTY VALUE(S): \n", 
                "# Set as follows: DOC.set_value(value)  \n", 
                "# Choices: \n", 
                "#     True  \n", 
                "#     False  \n", 
                "# TODO"
            ], 
            "outputs": [], 
            "metadata": {
                "collapsed": true
            }
        }, 
        {
            "source": [
                "### 19.2. Snow Aging Scheme\n", 
                " *Describe the snow aging scheme.*"
            ], 
            "cell_type": "markdown", 
            "metadata": {}
        }, 
        {
            "execution_count": null, 
            "cell_type": "code", 
            "source": [
                "# PROPERTY INFO: \n", 
                "# Is Required: True \n", 
                "# Type: STRING \n", 
                "# Cardinality: 0.1 \n", 
                "\n", 
                "# PROPERTY ID - DO NOT EDIT !  \n", 
                "DOC.set_id('cmip6.seaice.thermodynamics.snow_processes.snow_aging_scheme')  \n", 
                "\n", 
                "# PROPERTY QUALITY CONTROL:  \n", 
                "# 0=draft, 1=in-review, 2=reviewed  \n", 
                "DOC.set_qc_status(0)  \n", 
                "\n", 
                "# PROPERTY VALUE: \n", 
                "# Set as follows: DOC.set_value(value)  \n", 
                "# TODO"
            ], 
            "outputs": [], 
            "metadata": {
                "collapsed": true
            }
        }, 
        {
            "source": [
                "### 19.3. Has Snow Ice Formation\n", 
                " *Set to True if the sea ice model has snow ice formation.*"
            ], 
            "cell_type": "markdown", 
            "metadata": {}
        }, 
        {
            "execution_count": null, 
            "cell_type": "code", 
            "source": [
                "# PROPERTY INFO: \n", 
                "# Is Required: False \n", 
                "# Type: BOOLEAN \n", 
                "# Cardinality: 1.N \n", 
                "\n", 
                "# PROPERTY ID - DO NOT EDIT !  \n", 
                "DOC.set_id('cmip6.seaice.thermodynamics.snow_processes.has_snow_ice_formation')  \n", 
                "\n", 
                "# PROPERTY QUALITY CONTROL:  \n", 
                "# 0=draft, 1=in-review, 2=reviewed  \n", 
                "DOC.set_qc_status(0)  \n", 
                "\n", 
                "# PROPERTY VALUE(S): \n", 
                "# Set as follows: DOC.set_value(value)  \n", 
                "# Choices: \n", 
                "#     True  \n", 
                "#     False  \n", 
                "# TODO"
            ], 
            "outputs": [], 
            "metadata": {
                "collapsed": true
            }
        }, 
        {
            "source": [
                "### 19.4. Snow Ice Formation Scheme\n", 
                " *Describe the snow ice formation scheme.*"
            ], 
            "cell_type": "markdown", 
            "metadata": {}
        }, 
        {
            "execution_count": null, 
            "cell_type": "code", 
            "source": [
                "# PROPERTY INFO: \n", 
                "# Is Required: True \n", 
                "# Type: STRING \n", 
                "# Cardinality: 0.1 \n", 
                "\n", 
                "# PROPERTY ID - DO NOT EDIT !  \n", 
                "DOC.set_id('cmip6.seaice.thermodynamics.snow_processes.snow_ice_formation_scheme')  \n", 
                "\n", 
                "# PROPERTY QUALITY CONTROL:  \n", 
                "# 0=draft, 1=in-review, 2=reviewed  \n", 
                "DOC.set_qc_status(0)  \n", 
                "\n", 
                "# PROPERTY VALUE: \n", 
                "# Set as follows: DOC.set_value(value)  \n", 
                "# TODO"
            ], 
            "outputs": [], 
            "metadata": {
                "collapsed": true
            }
        }, 
        {
            "source": [
                "### 19.5. Redistribution\n", 
                " *What is the impact of ridging on snow cover?*"
            ], 
            "cell_type": "markdown", 
            "metadata": {}
        }, 
        {
            "execution_count": null, 
            "cell_type": "code", 
            "source": [
                "# PROPERTY INFO: \n", 
                "# Is Required: False \n", 
                "# Type: STRING \n", 
                "# Cardinality: 1.1 \n", 
                "\n", 
                "# PROPERTY ID - DO NOT EDIT !  \n", 
                "DOC.set_id('cmip6.seaice.thermodynamics.snow_processes.redistribution')  \n", 
                "\n", 
                "# PROPERTY QUALITY CONTROL:  \n", 
                "# 0=draft, 1=in-review, 2=reviewed  \n", 
                "DOC.set_qc_status(0)  \n", 
                "\n", 
                "# PROPERTY VALUE: \n", 
                "# Set as follows: DOC.set_value(value)  \n", 
                "# TODO"
            ], 
            "outputs": [], 
            "metadata": {
                "collapsed": true
            }
        }, 
        {
            "source": [
                "### 19.6. Heat Diffusion\n", 
                " *What is the heat diffusion through snow methodology in sea ice thermodynamics?*"
            ], 
            "cell_type": "markdown", 
            "metadata": {}
        }, 
        {
            "execution_count": null, 
            "cell_type": "code", 
            "source": [
                "# PROPERTY INFO: \n", 
                "# Is Required: False \n", 
                "# Type: ENUM \n", 
                "# Cardinality: 1.1 \n", 
                "\n", 
                "# PROPERTY ID - DO NOT EDIT !  \n", 
                "DOC.set_id('cmip6.seaice.thermodynamics.snow_processes.heat_diffusion')  \n", 
                "\n", 
                "# PROPERTY QUALITY CONTROL:  \n", 
                "# 0=draft, 1=in-review, 2=reviewed  \n", 
                "DOC.set_qc_status(0)  \n", 
                "\n", 
                "# PROPERTY VALUE: \n", 
                "# Set as follows: DOC.set_value(value)  \n", 
                "# Choices: \n", 
                "#      'single-layered heat diffusion'  \n", 
                "#      'multi-layered heat diffusion'  \n", 
                "#      'Other: [Please specify]'  \n", 
                "# TODO"
            ], 
            "outputs": [], 
            "metadata": {
                "collapsed": true
            }
        }, 
        {
            "source": [
                "# 20. Radiative Processes  \n", 
                "*Sea Ice Radiative Processes*"
            ], 
            "cell_type": "markdown", 
            "metadata": {}
        }, 
        {
            "source": [
                "### 20.1. Surface Albedo\n", 
                " *Method used to handle surface albedo.*"
            ], 
            "cell_type": "markdown", 
            "metadata": {}
        }, 
        {
            "execution_count": null, 
            "cell_type": "code", 
            "source": [
                "# PROPERTY INFO: \n", 
                "# Is Required: False \n", 
                "# Type: ENUM \n", 
                "# Cardinality: 1.1 \n", 
                "\n", 
                "# PROPERTY ID - DO NOT EDIT !  \n", 
                "DOC.set_id('cmip6.seaice.radiative_processes.surface_albedo')  \n", 
                "\n", 
                "# PROPERTY QUALITY CONTROL:  \n", 
                "# 0=draft, 1=in-review, 2=reviewed  \n", 
                "DOC.set_qc_status(0)  \n", 
                "\n", 
                "# PROPERTY VALUE: \n", 
                "# Set as follows: DOC.set_value(value)  \n", 
                "# Choices: \n", 
                "#      'Delta-Eddington'  \n", 
                "#      'Parameterized'  \n", 
                "#      'Multi-band albedo'  \n", 
                "#      'Other: [Please specify]'  \n", 
                "# TODO"
            ], 
            "outputs": [], 
            "metadata": {
                "collapsed": true
            }
        }, 
        {
            "source": [
                "### 20.2. Ice Radiation Transmission\n", 
                " *Method by which solar radiation through sea ice is handled.*"
            ], 
            "cell_type": "markdown", 
            "metadata": {}
        }, 
        {
            "execution_count": null, 
            "cell_type": "code", 
            "source": [
                "# PROPERTY INFO: \n", 
                "# Is Required: False \n", 
                "# Type: ENUM \n", 
                "# Cardinality: 1.N \n", 
                "\n", 
                "# PROPERTY ID - DO NOT EDIT !  \n", 
                "DOC.set_id('cmip6.seaice.radiative_processes.ice_radiation_transmission')  \n", 
                "\n", 
                "# PROPERTY QUALITY CONTROL:  \n", 
                "# 0=draft, 1=in-review, 2=reviewed  \n", 
                "DOC.set_qc_status(0)  \n", 
                "\n", 
                "# PROPERTY VALUE(S): \n", 
                "# Set as follows: DOC.set_value(value)  \n", 
                "# Choices: \n", 
                "#      'Delta-Eddington'  \n", 
                "#      'Exponential attenuation'  \n", 
                "#      'Ice radiation transmission per category'  \n", 
                "#      'Other: [Please specify]'  \n", 
                "# TODO"
            ], 
            "outputs": [], 
            "metadata": {
                "collapsed": true
            }
        }, 
        {
            "source": [
                "# Finalization"
            ], 
            "cell_type": "markdown", 
            "metadata": {}
        }, 
        {
            "source": [
                "### Review Validation Report"
            ], 
            "cell_type": "markdown", 
            "metadata": {}
        }, 
        {
            "execution_count": null, 
            "cell_type": "code", 
            "source": [
                "# DO NOT EDIT !\n", 
                "# Validation errors will be listed below - FIX THEM !\n", 
                "DOC.list_errors()"
            ], 
            "outputs": [], 
            "metadata": {}
        }, 
        {
            "source": [
                "### Persist to File-System"
            ], 
            "cell_type": "markdown", 
            "metadata": {}
        }, 
        {
            "execution_count": null, 
            "cell_type": "code", 
            "source": [
                "# DO NOT EDIT !\n", 
                "try:\n", 
                "    DOC.persist(DOC)\n", 
                "except pyesdoc.NoteBookValidationError:\n", 
                "    print('!!! VALIDATION ERRORS MUST BE FIXED !!!')"
            ], 
            "outputs": [], 
            "metadata": {}
        }
    ], 
    "metadata": {
        "kernelspec": {
            "display_name": "Python 2", 
            "name": "python2", 
            "language": "python"
        }, 
        "language_info": {
            "mimetype": "text/x-python", 
            "nbconvert_exporter": "python", 
            "name": "python", 
            "file_extension": ".py", 
            "version": "2.7.10", 
            "pygments_lexer": "ipython2", 
            "codemirror_mode": {
                "version": 2, 
                "name": "ipython"
            }
        }
    }
}