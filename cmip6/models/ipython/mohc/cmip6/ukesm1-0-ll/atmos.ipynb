{
    "nbformat_minor": 0, 
    "nbformat": 4, 
    "cells": [
        {
            "source": [
                "# ES-DOC CMIP6 Model Properties (Atmos) \n", 
                "**MIP Era**: CMIP6  \n", 
                "**Institute**: MOHC  \n", 
                "**Source ID**: UKESM1-0-LL  \n", 
                "**Realm**: Atmos  \n", 
                "**Processes**: Dynamical Core, Radiation, Turbulence Convection, Microphysics Precipitation, Cloud Scheme, Cloud Simulator, Gravity Waves, Solar, Volcanos.   \n", 
                "**Properties**: 126 (108 required, 18 optional)  \n", 
                "\n", 
                "**Notebook Help**: [Goto notebook help page](http://wordpress.es-doc.org/how-to-document-cmip6-models)  \n", 
                "**Notebook Initialised**: 2017-03-10 16:45:47"
            ], 
            "cell_type": "markdown", 
            "metadata": {}
        }, 
        {
            "source": [
                "### Document Setup  \n", 
                "**IMPORTANT:** *to be executed each time you run the notebook*  "
            ], 
            "cell_type": "markdown", 
            "metadata": {}
        }, 
        {
            "execution_count": null, 
            "cell_type": "code", 
            "source": [
                "# DO NOT EDIT !  \n", 
                "from pyesdoc.ipython.model_realm_properties import NotebookOutput  \n", 
                "\n", 
                "# DO NOT EDIT !  \n", 
                "DOC = NotebookOutput('cmip6', 'mohc', 'ukesm1-0-ll', 'atmos')"
            ], 
            "outputs": [], 
            "metadata": {}
        }, 
        {
            "source": [
                "### Document Authors  \n", 
                "*Set document authors*"
            ], 
            "cell_type": "markdown", 
            "metadata": {}
        }, 
        {
            "execution_count": null, 
            "cell_type": "code", 
            "source": [
                "# Set as follows: DOC.set_author(\"name\", \"email\")  \n", 
                "# TODO"
            ], 
            "outputs": [], 
            "metadata": {}
        }, 
        {
            "source": [
                "### Document Contributors  \n", 
                "*Specify document contributors*  "
            ], 
            "cell_type": "markdown", 
            "metadata": {}
        }, 
        {
            "execution_count": null, 
            "cell_type": "code", 
            "source": [
                "# Set as follows: DOC.set_contributor(\"name\", \"email\")  \n", 
                "# TODO"
            ], 
            "outputs": [], 
            "metadata": {}
        }, 
        {
            "source": [
                "### Document Table of Contents  \n", 
                "[1. Grid --&gt; Discretisation --&gt; Horizontal](#1.-Grid---&gt;-Discretisation---&gt;-Horizontal)  \n", 
                "[2. Grid --&gt; Discretisation --&gt; Vertical](#2.-Grid---&gt;-Discretisation---&gt;-Vertical)  \n", 
                "[3. Key Properties](#3.-Key-Properties)  \n", 
                "[4. Key Properties --&gt; Resolution](#4.-Key-Properties---&gt;-Resolution)  \n", 
                "[5. Key Properties --&gt; Orography](#5.-Key-Properties---&gt;-Orography)  \n", 
                "[6. Dynamical Core](#6.-Dynamical-Core)  \n", 
                "[7. Dynamical Core --&gt; Top Boundary](#7.-Dynamical-Core---&gt;-Top-Boundary)  \n", 
                "[8. Dynamical Core --&gt; Lateral Boundary](#8.-Dynamical-Core---&gt;-Lateral-Boundary)  \n", 
                "[9. Dynamical Core --&gt; Diffusion Horizontal](#9.-Dynamical-Core---&gt;-Diffusion-Horizontal)  \n", 
                "[10. Dynamical Core --&gt; Advection Tracers](#10.-Dynamical-Core---&gt;-Advection-Tracers)  \n", 
                "[11. Dynamical Core --&gt; Advection Momentum](#11.-Dynamical-Core---&gt;-Advection-Momentum)  \n", 
                "[12. Radiation](#12.-Radiation)  \n", 
                "[13. Radiation --&gt; Shortwave Radiation](#13.-Radiation---&gt;-Shortwave-Radiation)  \n", 
                "[14. Radiation --&gt; Sw Cloud Ice](#14.-Radiation---&gt;-Sw-Cloud-Ice)  \n", 
                "[15. Radiation --&gt; Sw Cloud Liquid](#15.-Radiation---&gt;-Sw-Cloud-Liquid)  \n", 
                "[16. Radiation --&gt; Sw Aerosols](#16.-Radiation---&gt;-Sw-Aerosols)  \n", 
                "[17. Radiation --&gt; Sw Gases](#17.-Radiation---&gt;-Sw-Gases)  \n", 
                "[18. Radiation --&gt; Longwave Radiation](#18.-Radiation---&gt;-Longwave-Radiation)  \n", 
                "[19. Radiation --&gt; Lw Cloud Ice](#19.-Radiation---&gt;-Lw-Cloud-Ice)  \n", 
                "[20. Radiation --&gt; Lw Cloud Liquid](#20.-Radiation---&gt;-Lw-Cloud-Liquid)  \n", 
                "[21. Radiation --&gt; Lw Aerosols](#21.-Radiation---&gt;-Lw-Aerosols)  \n", 
                "[22. Radiation --&gt; Lw Gases](#22.-Radiation---&gt;-Lw-Gases)  \n", 
                "[23. Turbulence Convection --&gt; Boundary Layer Turbulence](#23.-Turbulence-Convection---&gt;-Boundary-Layer-Turbulence)  \n", 
                "[24. Turbulence Convection --&gt; Deep Convection](#24.-Turbulence-Convection---&gt;-Deep-Convection)  \n", 
                "[25. Turbulence Convection --&gt; Shallow Convection](#25.-Turbulence-Convection---&gt;-Shallow-Convection)  \n", 
                "[26. Microphysics Precipitation --&gt; Large Scale Precipitation](#26.-Microphysics-Precipitation---&gt;-Large-Scale-Precipitation)  \n", 
                "[27. Microphysics Precipitation --&gt; Cloud Microphysics](#27.-Microphysics-Precipitation---&gt;-Cloud-Microphysics)  \n", 
                "[28. Cloud Scheme](#28.-Cloud-Scheme)  \n", 
                "[29. Cloud Scheme --&gt; Sub Grid Scale Water Distribution](#29.-Cloud-Scheme---&gt;-Sub-Grid-Scale-Water-Distribution)  \n", 
                "[30. Cloud Simulator --&gt; Isscp Attributes](#30.-Cloud-Simulator---&gt;-Isscp-Attributes)  \n", 
                "[31. Cloud Simulator --&gt; Cosp Attributes](#31.-Cloud-Simulator---&gt;-Cosp-Attributes)  \n", 
                "[32. Cloud Simulator --&gt; Radar Inputs](#32.-Cloud-Simulator---&gt;-Radar-Inputs)  \n", 
                "[33. Cloud Simulator --&gt; Lidar Inputs](#33.-Cloud-Simulator---&gt;-Lidar-Inputs)  \n", 
                "[34. Gravity Waves](#34.-Gravity-Waves)  \n", 
                "[35. Gravity Waves --&gt; Orographic Gravity Waves](#35.-Gravity-Waves---&gt;-Orographic-Gravity-Waves)  \n", 
                "[36. Gravity Waves --&gt; Non Orographic Gravity Waves](#36.-Gravity-Waves---&gt;-Non-Orographic-Gravity-Waves)  \n", 
                "[37. Solar --&gt; Solar Pathways](#37.-Solar---&gt;-Solar-Pathways)  \n", 
                "[38. Solar --&gt; Solar Constant](#38.-Solar---&gt;-Solar-Constant)  \n", 
                "[39. Solar --&gt; Orbital Parameters](#39.-Solar---&gt;-Orbital-Parameters)  \n", 
                "[40. Solar --&gt; Insolation Ozone](#40.-Solar---&gt;-Insolation-Ozone)  \n", 
                "[41. Volcanos --&gt; Volcanoes Treatment](#41.-Volcanos---&gt;-Volcanoes-Treatment)  \n", 
                "\n"
            ], 
            "cell_type": "markdown", 
            "metadata": {}
        }, 
        {
            "source": [
                "# 1. Grid --&gt; Discretisation --&gt; Horizontal  \n", 
                "*Atmosphere discretisation in the horizontal*"
            ], 
            "cell_type": "markdown", 
            "metadata": {}
        }, 
        {
            "source": [
                "### 1.1. Scheme Type\n", 
                " *Horizontal discretisation type*\n", 
                "\n", 
                "**Is Required:** TRUE&nbsp;&nbsp;&nbsp;&nbsp;**Type:** ENUM&nbsp;&nbsp;&nbsp;&nbsp;**Cardinality:** 1.1"
            ], 
            "cell_type": "markdown", 
            "metadata": {}
        }, 
        {
            "execution_count": null, 
            "cell_type": "code", 
            "source": [
                "# PROPERTY ID - DO NOT EDIT !  \n", 
                "DOC.set_id('cmip6.atmos.grid.discretisation.horizontal.scheme_type')  \n", 
                "\n", 
                "# PROPERTY VALUE: \n", 
                "# Set as follows: DOC.set_value(\"value\")  \n", 
                "# Valid Choices: \n", 
                "#      \"spectral\"  \n", 
                "#      \"fixed grid\"  \n", 
                "#      \"Other: [Please specify]\"  \n", 
                "# TODO\n", 
                "\n", 
                "# PROPERTY QUALITY CONTROL STATUS:  \n", 
                "# 0=draft, 1=in-review, 2=reviewed  \n", 
                "DOC.set_qc_status(0)"
            ], 
            "outputs": [], 
            "metadata": {
                "collapsed": true
            }
        }, 
        {
            "source": [
                "### 1.2. Scheme Method\n", 
                " *Horizontal discretisation method*\n", 
                "\n", 
                "**Is Required:** TRUE&nbsp;&nbsp;&nbsp;&nbsp;**Type:** ENUM&nbsp;&nbsp;&nbsp;&nbsp;**Cardinality:** 1.1"
            ], 
            "cell_type": "markdown", 
            "metadata": {}
        }, 
        {
            "execution_count": null, 
            "cell_type": "code", 
            "source": [
                "# PROPERTY ID - DO NOT EDIT !  \n", 
                "DOC.set_id('cmip6.atmos.grid.discretisation.horizontal.scheme_method')  \n", 
                "\n", 
                "# PROPERTY VALUE: \n", 
                "# Set as follows: DOC.set_value(\"value\")  \n", 
                "# Valid Choices: \n", 
                "#      \"finite elements\"  \n", 
                "#      \"finite volumes\"  \n", 
                "#      \"finite difference\"  \n", 
                "#      \"centered finite difference\"  \n", 
                "# TODO\n", 
                "\n", 
                "# PROPERTY QUALITY CONTROL STATUS:  \n", 
                "# 0=draft, 1=in-review, 2=reviewed  \n", 
                "DOC.set_qc_status(0)"
            ], 
            "outputs": [], 
            "metadata": {
                "collapsed": true
            }
        }, 
        {
            "source": [
                "### 1.3. Scheme Order\n", 
                " *Horizontal discretisation function order*\n", 
                "\n", 
                "**Is Required:** TRUE&nbsp;&nbsp;&nbsp;&nbsp;**Type:** INTEGER&nbsp;&nbsp;&nbsp;&nbsp;**Cardinality:** 1.1"
            ], 
            "cell_type": "markdown", 
            "metadata": {}
        }, 
        {
            "execution_count": null, 
            "cell_type": "code", 
            "source": [
                "# PROPERTY ID - DO NOT EDIT !  \n", 
                "DOC.set_id('cmip6.atmos.grid.discretisation.horizontal.scheme_order')  \n", 
                "\n", 
                "# PROPERTY VALUE: \n", 
                "# Set as follows: DOC.set_value(value)  \n", 
                "# TODO\n", 
                "\n", 
                "# PROPERTY QUALITY CONTROL STATUS:  \n", 
                "# 0=draft, 1=in-review, 2=reviewed  \n", 
                "DOC.set_qc_status(0)"
            ], 
            "outputs": [], 
            "metadata": {
                "collapsed": true
            }
        }, 
        {
            "source": [
                "### 1.4. Horizontal Pole\n", 
                " *Horizontal discretisation pole singularity treatment*\n", 
                "\n", 
                "**Is Required:** TRUE&nbsp;&nbsp;&nbsp;&nbsp;**Type:** ENUM&nbsp;&nbsp;&nbsp;&nbsp;**Cardinality:** 1.1"
            ], 
            "cell_type": "markdown", 
            "metadata": {}
        }, 
        {
            "execution_count": null, 
            "cell_type": "code", 
            "source": [
                "# PROPERTY ID - DO NOT EDIT !  \n", 
                "DOC.set_id('cmip6.atmos.grid.discretisation.horizontal.horizontal_pole')  \n", 
                "\n", 
                "# PROPERTY VALUE: \n", 
                "# Set as follows: DOC.set_value(\"value\")  \n", 
                "# Valid Choices: \n", 
                "#      \"filter\"  \n", 
                "#      \"pole rotation\"  \n", 
                "#      \"artificial island\"  \n", 
                "#      \"Other: [Please specify]\"  \n", 
                "# TODO\n", 
                "\n", 
                "# PROPERTY QUALITY CONTROL STATUS:  \n", 
                "# 0=draft, 1=in-review, 2=reviewed  \n", 
                "DOC.set_qc_status(0)"
            ], 
            "outputs": [], 
            "metadata": {
                "collapsed": true
            }
        }, 
        {
            "source": [
                "# 2. Grid --&gt; Discretisation --&gt; Vertical  \n", 
                "*Atmosphere discretisation in the vertical*"
            ], 
            "cell_type": "markdown", 
            "metadata": {}
        }, 
        {
            "source": [
                "### 2.1. Coordinate Type\n", 
                " *Type of vertical coordinate system*\n", 
                "\n", 
                "**Is Required:** TRUE&nbsp;&nbsp;&nbsp;&nbsp;**Type:** ENUM&nbsp;&nbsp;&nbsp;&nbsp;**Cardinality:** 1.N"
            ], 
            "cell_type": "markdown", 
            "metadata": {}
        }, 
        {
            "execution_count": null, 
            "cell_type": "code", 
            "source": [
                "# PROPERTY ID - DO NOT EDIT !  \n", 
                "DOC.set_id('cmip6.atmos.grid.discretisation.vertical.coordinate_type')  \n", 
                "\n", 
                "# PROPERTY VALUE(S): \n", 
                "# Set as follows: DOC.set_value(\"value\")  \n", 
                "# Valid Choices: \n", 
                "#      \"isobaric\"  \n", 
                "#      \"sigma\"  \n", 
                "#      \"hybrid sigma-pressure\"  \n", 
                "#      \"Other: [Please specify]\"  \n", 
                "# TODO\n", 
                "\n", 
                "# PROPERTY QUALITY CONTROL STATUS:  \n", 
                "# 0=draft, 1=in-review, 2=reviewed  \n", 
                "DOC.set_qc_status(0)"
            ], 
            "outputs": [], 
            "metadata": {
                "collapsed": true
            }
        }, 
        {
            "source": [
                "# 3. Key Properties  \n", 
                "*Atmosphere key properties*"
            ], 
            "cell_type": "markdown", 
            "metadata": {}
        }, 
        {
            "source": [
                "### 3.1. Model Family\n", 
                " *Type of atmospheric model.*\n", 
                "\n", 
                "**Is Required:** TRUE&nbsp;&nbsp;&nbsp;&nbsp;**Type:** ENUM&nbsp;&nbsp;&nbsp;&nbsp;**Cardinality:** 1.1"
            ], 
            "cell_type": "markdown", 
            "metadata": {}
        }, 
        {
            "execution_count": null, 
            "cell_type": "code", 
            "source": [
                "# PROPERTY ID - DO NOT EDIT !  \n", 
                "DOC.set_id('cmip6.atmos.key_properties.model_family')  \n", 
                "\n", 
                "# PROPERTY VALUE: \n", 
                "# Set as follows: DOC.set_value(\"value\")  \n", 
                "# Valid Choices: \n", 
                "#      \"AGCM\"  \n", 
                "#      \"ARCM\"  \n", 
                "#      \"Other: [Please specify]\"  \n", 
                "# TODO\n", 
                "\n", 
                "# PROPERTY QUALITY CONTROL STATUS:  \n", 
                "# 0=draft, 1=in-review, 2=reviewed  \n", 
                "DOC.set_qc_status(0)"
            ], 
            "outputs": [], 
            "metadata": {
                "collapsed": true
            }
        }, 
        {
            "source": [
                "### 3.2. Basic Approximations\n", 
                " *Basic approximations made in the atmosphere.*\n", 
                "\n", 
                "**Is Required:** TRUE&nbsp;&nbsp;&nbsp;&nbsp;**Type:** ENUM&nbsp;&nbsp;&nbsp;&nbsp;**Cardinality:** 1.N"
            ], 
            "cell_type": "markdown", 
            "metadata": {}
        }, 
        {
            "execution_count": null, 
            "cell_type": "code", 
            "source": [
                "# PROPERTY ID - DO NOT EDIT !  \n", 
                "DOC.set_id('cmip6.atmos.key_properties.basic_approximations')  \n", 
                "\n", 
                "# PROPERTY VALUE(S): \n", 
                "# Set as follows: DOC.set_value(\"value\")  \n", 
                "# Valid Choices: \n", 
                "#      \"primitive equations\"  \n", 
                "#      \"non-hydrostatic\"  \n", 
                "#      \"anelastic\"  \n", 
                "#      \"Boussinesq\"  \n", 
                "#      \"hydrostatic\"  \n", 
                "#      \"quasi-hydrostatic\"  \n", 
                "#      \"Other: [Please specify]\"  \n", 
                "# TODO\n", 
                "\n", 
                "# PROPERTY QUALITY CONTROL STATUS:  \n", 
                "# 0=draft, 1=in-review, 2=reviewed  \n", 
                "DOC.set_qc_status(0)"
            ], 
            "outputs": [], 
            "metadata": {
                "collapsed": true
            }
        }, 
        {
            "source": [
                "# 4. Key Properties --&gt; Resolution  \n", 
                "*Characteristics of the model resolution*"
            ], 
            "cell_type": "markdown", 
            "metadata": {}
        }, 
        {
            "source": [
                "### 4.1. Horizontal Resolution Name\n", 
                " *This is a string usually used by the modelling group to describe the resolution of the model grid, e.g. T42, N48.*\n", 
                "\n", 
                "**Is Required:** TRUE&nbsp;&nbsp;&nbsp;&nbsp;**Type:** STRING&nbsp;&nbsp;&nbsp;&nbsp;**Cardinality:** 1.1"
            ], 
            "cell_type": "markdown", 
            "metadata": {}
        }, 
        {
            "execution_count": null, 
            "cell_type": "code", 
            "source": [
                "# PROPERTY ID - DO NOT EDIT !  \n", 
                "DOC.set_id('cmip6.atmos.key_properties.resolution.horizontal_resolution_name')  \n", 
                "\n", 
                "# PROPERTY VALUE: \n", 
                "# Set as follows: DOC.set_value(\"value\")  \n", 
                "# TODO\n", 
                "\n", 
                "# PROPERTY QUALITY CONTROL STATUS:  \n", 
                "# 0=draft, 1=in-review, 2=reviewed  \n", 
                "DOC.set_qc_status(0)"
            ], 
            "outputs": [], 
            "metadata": {
                "collapsed": true
            }
        }, 
        {
            "source": [
                "### 4.2. Canonical Horizontal Resolution\n", 
                " *Expression quoted for gross comparisons of resolution, e.g. 2.5 x 3.75 degrees lat-lon.*\n", 
                "\n", 
                "**Is Required:** TRUE&nbsp;&nbsp;&nbsp;&nbsp;**Type:** STRING&nbsp;&nbsp;&nbsp;&nbsp;**Cardinality:** 1.1"
            ], 
            "cell_type": "markdown", 
            "metadata": {}
        }, 
        {
            "execution_count": null, 
            "cell_type": "code", 
            "source": [
                "# PROPERTY ID - DO NOT EDIT !  \n", 
                "DOC.set_id('cmip6.atmos.key_properties.resolution.canonical_horizontal_resolution')  \n", 
                "\n", 
                "# PROPERTY VALUE: \n", 
                "# Set as follows: DOC.set_value(\"value\")  \n", 
                "# TODO\n", 
                "\n", 
                "# PROPERTY QUALITY CONTROL STATUS:  \n", 
                "# 0=draft, 1=in-review, 2=reviewed  \n", 
                "DOC.set_qc_status(0)"
            ], 
            "outputs": [], 
            "metadata": {
                "collapsed": true
            }
        }, 
        {
            "source": [
                "### 4.3. Number Of Vertical Levels\n", 
                " *Number of vertical levels resolved on the computational grid.*\n", 
                "\n", 
                "**Is Required:** TRUE&nbsp;&nbsp;&nbsp;&nbsp;**Type:** INTEGER&nbsp;&nbsp;&nbsp;&nbsp;**Cardinality:** 1.1"
            ], 
            "cell_type": "markdown", 
            "metadata": {}
        }, 
        {
            "execution_count": null, 
            "cell_type": "code", 
            "source": [
                "# PROPERTY ID - DO NOT EDIT !  \n", 
                "DOC.set_id('cmip6.atmos.key_properties.resolution.number_of_vertical_levels')  \n", 
                "\n", 
                "# PROPERTY VALUE: \n", 
                "# Set as follows: DOC.set_value(value)  \n", 
                "# TODO\n", 
                "\n", 
                "# PROPERTY QUALITY CONTROL STATUS:  \n", 
                "# 0=draft, 1=in-review, 2=reviewed  \n", 
                "DOC.set_qc_status(0)"
            ], 
            "outputs": [], 
            "metadata": {
                "collapsed": true
            }
        }, 
        {
            "source": [
                "### 4.4. High Top\n", 
                " *Does the atmosphere have a high-top? High-Top atmospheres have a fully resolved stratosphere with a model top above the stratopause.*\n", 
                "\n", 
                "**Is Required:** TRUE&nbsp;&nbsp;&nbsp;&nbsp;**Type:** BOOLEAN&nbsp;&nbsp;&nbsp;&nbsp;**Cardinality:** 1.1"
            ], 
            "cell_type": "markdown", 
            "metadata": {}
        }, 
        {
            "execution_count": null, 
            "cell_type": "code", 
            "source": [
                "# PROPERTY ID - DO NOT EDIT !  \n", 
                "DOC.set_id('cmip6.atmos.key_properties.resolution.high_top')  \n", 
                "\n", 
                "# PROPERTY VALUE: \n", 
                "# Set as follows: DOC.set_value(value)  \n", 
                "# Valid Choices: \n", 
                "#     True  \n", 
                "#     False  \n", 
                "# TODO\n", 
                "\n", 
                "# PROPERTY QUALITY CONTROL STATUS:  \n", 
                "# 0=draft, 1=in-review, 2=reviewed  \n", 
                "DOC.set_qc_status(0)"
            ], 
            "outputs": [], 
            "metadata": {
                "collapsed": true
            }
        }, 
        {
            "source": [
                "### 4.5. Timestep Dynamics\n", 
                " *Timestep for the dynamics, e.g. 30 min.*\n", 
                "\n", 
                "**Is Required:** TRUE&nbsp;&nbsp;&nbsp;&nbsp;**Type:** STRING&nbsp;&nbsp;&nbsp;&nbsp;**Cardinality:** 1.1"
            ], 
            "cell_type": "markdown", 
            "metadata": {}
        }, 
        {
            "execution_count": null, 
            "cell_type": "code", 
            "source": [
                "# PROPERTY ID - DO NOT EDIT !  \n", 
                "DOC.set_id('cmip6.atmos.key_properties.resolution.timestep_dynamics')  \n", 
                "\n", 
                "# PROPERTY VALUE: \n", 
                "# Set as follows: DOC.set_value(\"value\")  \n", 
                "# TODO\n", 
                "\n", 
                "# PROPERTY QUALITY CONTROL STATUS:  \n", 
                "# 0=draft, 1=in-review, 2=reviewed  \n", 
                "DOC.set_qc_status(0)"
            ], 
            "outputs": [], 
            "metadata": {
                "collapsed": true
            }
        }, 
        {
            "source": [
                "### 4.6. Timestep Radiative Transfer\n", 
                " *Timestep for the radiative transfer, e.g. 3 hours.*\n", 
                "\n", 
                "**Is Required:** FALSE&nbsp;&nbsp;&nbsp;&nbsp;**Type:** STRING&nbsp;&nbsp;&nbsp;&nbsp;**Cardinality:** 0.1"
            ], 
            "cell_type": "markdown", 
            "metadata": {}
        }, 
        {
            "execution_count": null, 
            "cell_type": "code", 
            "source": [
                "# PROPERTY ID - DO NOT EDIT !  \n", 
                "DOC.set_id('cmip6.atmos.key_properties.resolution.timestep_radiative_transfer')  \n", 
                "\n", 
                "# PROPERTY VALUE: \n", 
                "# Set as follows: DOC.set_value(\"value\")  \n", 
                "# TODO\n", 
                "\n", 
                "# PROPERTY QUALITY CONTROL STATUS:  \n", 
                "# 0=draft, 1=in-review, 2=reviewed  \n", 
                "DOC.set_qc_status(0)"
            ], 
            "outputs": [], 
            "metadata": {
                "collapsed": true
            }
        }, 
        {
            "source": [
                "# 5. Key Properties --&gt; Orography  \n", 
                "*Characteristics of the model orography*"
            ], 
            "cell_type": "markdown", 
            "metadata": {}
        }, 
        {
            "source": [
                "### 5.1. Type\n", 
                " *Time adaptation of the orography.*\n", 
                "\n", 
                "**Is Required:** TRUE&nbsp;&nbsp;&nbsp;&nbsp;**Type:** ENUM&nbsp;&nbsp;&nbsp;&nbsp;**Cardinality:** 1.1"
            ], 
            "cell_type": "markdown", 
            "metadata": {}
        }, 
        {
            "execution_count": null, 
            "cell_type": "code", 
            "source": [
                "# PROPERTY ID - DO NOT EDIT !  \n", 
                "DOC.set_id('cmip6.atmos.key_properties.orography.type')  \n", 
                "\n", 
                "# PROPERTY VALUE: \n", 
                "# Set as follows: DOC.set_value(\"value\")  \n", 
                "# Valid Choices: \n", 
                "#      \"present-day\"  \n", 
                "#      \"modified\"  \n", 
                "# TODO\n", 
                "\n", 
                "# PROPERTY QUALITY CONTROL STATUS:  \n", 
                "# 0=draft, 1=in-review, 2=reviewed  \n", 
                "DOC.set_qc_status(0)"
            ], 
            "outputs": [], 
            "metadata": {
                "collapsed": true
            }
        }, 
        {
            "source": [
                "### 5.2. Changes\n", 
                " *If the orography type is modified describe the time adaptation changes.*\n", 
                "\n", 
                "**Is Required:** TRUE&nbsp;&nbsp;&nbsp;&nbsp;**Type:** ENUM&nbsp;&nbsp;&nbsp;&nbsp;**Cardinality:** 1.N"
            ], 
            "cell_type": "markdown", 
            "metadata": {}
        }, 
        {
            "execution_count": null, 
            "cell_type": "code", 
            "source": [
                "# PROPERTY ID - DO NOT EDIT !  \n", 
                "DOC.set_id('cmip6.atmos.key_properties.orography.changes')  \n", 
                "\n", 
                "# PROPERTY VALUE(S): \n", 
                "# Set as follows: DOC.set_value(\"value\")  \n", 
                "# Valid Choices: \n", 
                "#      \"related to ice sheets\"  \n", 
                "#      \"related to tectonics\"  \n", 
                "#      \"modified mean\"  \n", 
                "#      \"modified variance if taken into account in model (cf gravity waves)\"  \n", 
                "# TODO\n", 
                "\n", 
                "# PROPERTY QUALITY CONTROL STATUS:  \n", 
                "# 0=draft, 1=in-review, 2=reviewed  \n", 
                "DOC.set_qc_status(0)"
            ], 
            "outputs": [], 
            "metadata": {
                "collapsed": true
            }
        }, 
        {
            "source": [
                "# 6. Dynamical Core  \n", 
                "*Characteristics of the dynamical core*"
            ], 
            "cell_type": "markdown", 
            "metadata": {}
        }, 
        {
            "source": [
                "### 6.1. Name\n", 
                " *Commonly used name for the dynamical core of the model.*\n", 
                "\n", 
                "**Is Required:** FALSE&nbsp;&nbsp;&nbsp;&nbsp;**Type:** STRING&nbsp;&nbsp;&nbsp;&nbsp;**Cardinality:** 0.1"
            ], 
            "cell_type": "markdown", 
            "metadata": {}
        }, 
        {
            "execution_count": null, 
            "cell_type": "code", 
            "source": [
                "# PROPERTY ID - DO NOT EDIT !  \n", 
                "DOC.set_id('cmip6.atmos.dynamical_core.name')  \n", 
                "\n", 
                "# PROPERTY VALUE: \n", 
                "# Set as follows: DOC.set_value(\"value\")  \n", 
                "# TODO\n", 
                "\n", 
                "# PROPERTY QUALITY CONTROL STATUS:  \n", 
                "# 0=draft, 1=in-review, 2=reviewed  \n", 
                "DOC.set_qc_status(0)"
            ], 
            "outputs": [], 
            "metadata": {
                "collapsed": true
            }
        }, 
        {
            "source": [
                "### 6.2. Timestepping Type\n", 
                " *Timestepping framework type*\n", 
                "\n", 
                "**Is Required:** TRUE&nbsp;&nbsp;&nbsp;&nbsp;**Type:** ENUM&nbsp;&nbsp;&nbsp;&nbsp;**Cardinality:** 1.1"
            ], 
            "cell_type": "markdown", 
            "metadata": {}
        }, 
        {
            "execution_count": null, 
            "cell_type": "code", 
            "source": [
                "# PROPERTY ID - DO NOT EDIT !  \n", 
                "DOC.set_id('cmip6.atmos.dynamical_core.timestepping_type')  \n", 
                "\n", 
                "# PROPERTY VALUE: \n", 
                "# Set as follows: DOC.set_value(\"value\")  \n", 
                "# Valid Choices: \n", 
                "#      \"Adams-Bashforth\"  \n", 
                "#      \"explicit\"  \n", 
                "#      \"implicit\"  \n", 
                "#      \"semi-implicit\"  \n", 
                "#      \"leap frog\"  \n", 
                "#      \"multi-step\"  \n", 
                "#      \"Runge Kutta fifth order\"  \n", 
                "#      \"Runge Kutta second order\"  \n", 
                "#      \"Runge Kutta third order\"  \n", 
                "#      \"Other: [Please specify]\"  \n", 
                "# TODO\n", 
                "\n", 
                "# PROPERTY QUALITY CONTROL STATUS:  \n", 
                "# 0=draft, 1=in-review, 2=reviewed  \n", 
                "DOC.set_qc_status(0)"
            ], 
            "outputs": [], 
            "metadata": {
                "collapsed": true
            }
        }, 
        {
            "source": [
                "### 6.3. Prognostic Variables\n", 
                " *List of the model prognostic variables*\n", 
                "\n", 
                "**Is Required:** TRUE&nbsp;&nbsp;&nbsp;&nbsp;**Type:** ENUM&nbsp;&nbsp;&nbsp;&nbsp;**Cardinality:** 1.N"
            ], 
            "cell_type": "markdown", 
            "metadata": {}
        }, 
        {
            "execution_count": null, 
            "cell_type": "code", 
            "source": [
                "# PROPERTY ID - DO NOT EDIT !  \n", 
                "DOC.set_id('cmip6.atmos.dynamical_core.prognostic_variables')  \n", 
                "\n", 
                "# PROPERTY VALUE(S): \n", 
                "# Set as follows: DOC.set_value(\"value\")  \n", 
                "# Valid Choices: \n", 
                "#      \"surface pressure\"  \n", 
                "#      \"wind components\"  \n", 
                "#      \"divergence/curl\"  \n", 
                "#      \"temperature\"  \n", 
                "#      \"potential temperature\"  \n", 
                "#      \"total water\"  \n", 
                "#      \"water vapour\"  \n", 
                "#      \"water liquid\"  \n", 
                "#      \"water ice\"  \n", 
                "#      \"total water moments\"  \n", 
                "#      \"clouds\"  \n", 
                "#      \"radiation\"  \n", 
                "#      \"Other: [Please specify]\"  \n", 
                "# TODO\n", 
                "\n", 
                "# PROPERTY QUALITY CONTROL STATUS:  \n", 
                "# 0=draft, 1=in-review, 2=reviewed  \n", 
                "DOC.set_qc_status(0)"
            ], 
            "outputs": [], 
            "metadata": {
                "collapsed": true
            }
        }, 
        {
            "source": [
                "# 7. Dynamical Core --&gt; Top Boundary  \n", 
                "*Type of boundary layer at the top of the model*"
            ], 
            "cell_type": "markdown", 
            "metadata": {}
        }, 
        {
            "source": [
                "### 7.1. Top Boundary Condition\n", 
                " *Top boundary condition*\n", 
                "\n", 
                "**Is Required:** TRUE&nbsp;&nbsp;&nbsp;&nbsp;**Type:** ENUM&nbsp;&nbsp;&nbsp;&nbsp;**Cardinality:** 1.1"
            ], 
            "cell_type": "markdown", 
            "metadata": {}
        }, 
        {
            "execution_count": null, 
            "cell_type": "code", 
            "source": [
                "# PROPERTY ID - DO NOT EDIT !  \n", 
                "DOC.set_id('cmip6.atmos.dynamical_core.top_boundary.top_boundary_condition')  \n", 
                "\n", 
                "# PROPERTY VALUE: \n", 
                "# Set as follows: DOC.set_value(\"value\")  \n", 
                "# Valid Choices: \n", 
                "#      \"sponge layer\"  \n", 
                "#      \"radiation boundary condition\"  \n", 
                "#      \"Other: [Please specify]\"  \n", 
                "# TODO\n", 
                "\n", 
                "# PROPERTY QUALITY CONTROL STATUS:  \n", 
                "# 0=draft, 1=in-review, 2=reviewed  \n", 
                "DOC.set_qc_status(0)"
            ], 
            "outputs": [], 
            "metadata": {
                "collapsed": true
            }
        }, 
        {
            "source": [
                "### 7.2. Top Heat\n", 
                " *Top boundary heat treatment*\n", 
                "\n", 
                "**Is Required:** TRUE&nbsp;&nbsp;&nbsp;&nbsp;**Type:** STRING&nbsp;&nbsp;&nbsp;&nbsp;**Cardinality:** 1.1"
            ], 
            "cell_type": "markdown", 
            "metadata": {}
        }, 
        {
            "execution_count": null, 
            "cell_type": "code", 
            "source": [
                "# PROPERTY ID - DO NOT EDIT !  \n", 
                "DOC.set_id('cmip6.atmos.dynamical_core.top_boundary.top_heat')  \n", 
                "\n", 
                "# PROPERTY VALUE: \n", 
                "# Set as follows: DOC.set_value(\"value\")  \n", 
                "# TODO\n", 
                "\n", 
                "# PROPERTY QUALITY CONTROL STATUS:  \n", 
                "# 0=draft, 1=in-review, 2=reviewed  \n", 
                "DOC.set_qc_status(0)"
            ], 
            "outputs": [], 
            "metadata": {
                "collapsed": true
            }
        }, 
        {
            "source": [
                "### 7.3. Top Wind\n", 
                " *Top boundary wind treatment*\n", 
                "\n", 
                "**Is Required:** TRUE&nbsp;&nbsp;&nbsp;&nbsp;**Type:** STRING&nbsp;&nbsp;&nbsp;&nbsp;**Cardinality:** 1.1"
            ], 
            "cell_type": "markdown", 
            "metadata": {}
        }, 
        {
            "execution_count": null, 
            "cell_type": "code", 
            "source": [
                "# PROPERTY ID - DO NOT EDIT !  \n", 
                "DOC.set_id('cmip6.atmos.dynamical_core.top_boundary.top_wind')  \n", 
                "\n", 
                "# PROPERTY VALUE: \n", 
                "# Set as follows: DOC.set_value(\"value\")  \n", 
                "# TODO\n", 
                "\n", 
                "# PROPERTY QUALITY CONTROL STATUS:  \n", 
                "# 0=draft, 1=in-review, 2=reviewed  \n", 
                "DOC.set_qc_status(0)"
            ], 
            "outputs": [], 
            "metadata": {
                "collapsed": true
            }
        }, 
        {
            "source": [
                "# 8. Dynamical Core --&gt; Lateral Boundary  \n", 
                "*Type of lateral boundary condition (if the model is a regional model)*"
            ], 
            "cell_type": "markdown", 
            "metadata": {}
        }, 
        {
            "source": [
                "### 8.1. Condition\n", 
                " *Type of lateral boundary condition*\n", 
                "\n", 
                "**Is Required:** FALSE&nbsp;&nbsp;&nbsp;&nbsp;**Type:** ENUM&nbsp;&nbsp;&nbsp;&nbsp;**Cardinality:** 0.1"
            ], 
            "cell_type": "markdown", 
            "metadata": {}
        }, 
        {
            "execution_count": null, 
            "cell_type": "code", 
            "source": [
                "# PROPERTY ID - DO NOT EDIT !  \n", 
                "DOC.set_id('cmip6.atmos.dynamical_core.lateral_boundary.condition')  \n", 
                "\n", 
                "# PROPERTY VALUE: \n", 
                "# Set as follows: DOC.set_value(\"value\")  \n", 
                "# Valid Choices: \n", 
                "#      \"sponge layer\"  \n", 
                "#      \"radiation boundary condition\"  \n", 
                "#      \"Other: [Please specify]\"  \n", 
                "# TODO\n", 
                "\n", 
                "# PROPERTY QUALITY CONTROL STATUS:  \n", 
                "# 0=draft, 1=in-review, 2=reviewed  \n", 
                "DOC.set_qc_status(0)"
            ], 
            "outputs": [], 
            "metadata": {
                "collapsed": true
            }
        }, 
        {
            "source": [
                "# 9. Dynamical Core --&gt; Diffusion Horizontal  \n", 
                "*Horizontal diffusion scheme*"
            ], 
            "cell_type": "markdown", 
            "metadata": {}
        }, 
        {
            "source": [
                "### 9.1. Scheme Name\n", 
                " *Horizontal diffusion scheme name*\n", 
                "\n", 
                "**Is Required:** FALSE&nbsp;&nbsp;&nbsp;&nbsp;**Type:** STRING&nbsp;&nbsp;&nbsp;&nbsp;**Cardinality:** 0.1"
            ], 
            "cell_type": "markdown", 
            "metadata": {}
        }, 
        {
            "execution_count": null, 
            "cell_type": "code", 
            "source": [
                "# PROPERTY ID - DO NOT EDIT !  \n", 
                "DOC.set_id('cmip6.atmos.dynamical_core.diffusion_horizontal.scheme_name')  \n", 
                "\n", 
                "# PROPERTY VALUE: \n", 
                "# Set as follows: DOC.set_value(\"value\")  \n", 
                "# TODO\n", 
                "\n", 
                "# PROPERTY QUALITY CONTROL STATUS:  \n", 
                "# 0=draft, 1=in-review, 2=reviewed  \n", 
                "DOC.set_qc_status(0)"
            ], 
            "outputs": [], 
            "metadata": {
                "collapsed": true
            }
        }, 
        {
            "source": [
                "### 9.2. Scheme Method\n", 
                " *Horizontal diffusion scheme method*\n", 
                "\n", 
                "**Is Required:** TRUE&nbsp;&nbsp;&nbsp;&nbsp;**Type:** ENUM&nbsp;&nbsp;&nbsp;&nbsp;**Cardinality:** 1.1"
            ], 
            "cell_type": "markdown", 
            "metadata": {}
        }, 
        {
            "execution_count": null, 
            "cell_type": "code", 
            "source": [
                "# PROPERTY ID - DO NOT EDIT !  \n", 
                "DOC.set_id('cmip6.atmos.dynamical_core.diffusion_horizontal.scheme_method')  \n", 
                "\n", 
                "# PROPERTY VALUE: \n", 
                "# Set as follows: DOC.set_value(\"value\")  \n", 
                "# Valid Choices: \n", 
                "#      \"iterated Laplacian\"  \n", 
                "#      \"bi-harmonic\"  \n", 
                "#      \"Other: [Please specify]\"  \n", 
                "# TODO\n", 
                "\n", 
                "# PROPERTY QUALITY CONTROL STATUS:  \n", 
                "# 0=draft, 1=in-review, 2=reviewed  \n", 
                "DOC.set_qc_status(0)"
            ], 
            "outputs": [], 
            "metadata": {
                "collapsed": true
            }
        }, 
        {
            "source": [
                "# 10. Dynamical Core --&gt; Advection Tracers  \n", 
                "*Tracer advection scheme*"
            ], 
            "cell_type": "markdown", 
            "metadata": {}
        }, 
        {
            "source": [
                "### 10.1. Scheme Name\n", 
                " *Tracer advection scheme name*\n", 
                "\n", 
                "**Is Required:** FALSE&nbsp;&nbsp;&nbsp;&nbsp;**Type:** ENUM&nbsp;&nbsp;&nbsp;&nbsp;**Cardinality:** 0.1"
            ], 
            "cell_type": "markdown", 
            "metadata": {}
        }, 
        {
            "execution_count": null, 
            "cell_type": "code", 
            "source": [
                "# PROPERTY ID - DO NOT EDIT !  \n", 
                "DOC.set_id('cmip6.atmos.dynamical_core.advection_tracers.scheme_name')  \n", 
                "\n", 
                "# PROPERTY VALUE: \n", 
                "# Set as follows: DOC.set_value(\"value\")  \n", 
                "# Valid Choices: \n", 
                "#      \"Heun\"  \n", 
                "#      \"Roe and VanLeer\"  \n", 
                "#      \"Roe and Superbee\"  \n", 
                "#      \"Prather\"  \n", 
                "#      \"UTOPIA\"  \n", 
                "#      \"Other: [Please specify]\"  \n", 
                "# TODO\n", 
                "\n", 
                "# PROPERTY QUALITY CONTROL STATUS:  \n", 
                "# 0=draft, 1=in-review, 2=reviewed  \n", 
                "DOC.set_qc_status(0)"
            ], 
            "outputs": [], 
            "metadata": {
                "collapsed": true
            }
        }, 
        {
            "source": [
                "### 10.2. Scheme Characteristics\n", 
                " *Tracer advection scheme characteristics*\n", 
                "\n", 
                "**Is Required:** TRUE&nbsp;&nbsp;&nbsp;&nbsp;**Type:** ENUM&nbsp;&nbsp;&nbsp;&nbsp;**Cardinality:** 1.N"
            ], 
            "cell_type": "markdown", 
            "metadata": {}
        }, 
        {
            "execution_count": null, 
            "cell_type": "code", 
            "source": [
                "# PROPERTY ID - DO NOT EDIT !  \n", 
                "DOC.set_id('cmip6.atmos.dynamical_core.advection_tracers.scheme_characteristics')  \n", 
                "\n", 
                "# PROPERTY VALUE(S): \n", 
                "# Set as follows: DOC.set_value(\"value\")  \n", 
                "# Valid Choices: \n", 
                "#      \"Eulerian\"  \n", 
                "#      \"modified Euler\"  \n", 
                "#      \"Lagrangian\"  \n", 
                "#      \"semi-Lagrangian\"  \n", 
                "#      \"cubic semi-Lagrangian\"  \n", 
                "#      \"quintic semi-Lagrangian\"  \n", 
                "#      \"mass-conserving\"  \n", 
                "#      \"finite volume\"  \n", 
                "#      \"flux-corrected\"  \n", 
                "#      \"linear\"  \n", 
                "#      \"quadratic\"  \n", 
                "#      \"quartic\"  \n", 
                "#      \"Other: [Please specify]\"  \n", 
                "# TODO\n", 
                "\n", 
                "# PROPERTY QUALITY CONTROL STATUS:  \n", 
                "# 0=draft, 1=in-review, 2=reviewed  \n", 
                "DOC.set_qc_status(0)"
            ], 
            "outputs": [], 
            "metadata": {
                "collapsed": true
            }
        }, 
        {
            "source": [
                "### 10.3. Conserved Quantities\n", 
                " *Tracer advection scheme conserved quantities*\n", 
                "\n", 
                "**Is Required:** TRUE&nbsp;&nbsp;&nbsp;&nbsp;**Type:** ENUM&nbsp;&nbsp;&nbsp;&nbsp;**Cardinality:** 1.N"
            ], 
            "cell_type": "markdown", 
            "metadata": {}
        }, 
        {
            "execution_count": null, 
            "cell_type": "code", 
            "source": [
                "# PROPERTY ID - DO NOT EDIT !  \n", 
                "DOC.set_id('cmip6.atmos.dynamical_core.advection_tracers.conserved_quantities')  \n", 
                "\n", 
                "# PROPERTY VALUE(S): \n", 
                "# Set as follows: DOC.set_value(\"value\")  \n", 
                "# Valid Choices: \n", 
                "#      \"dry mass\"  \n", 
                "#      \"Other: [Please specify]\"  \n", 
                "# TODO\n", 
                "\n", 
                "# PROPERTY QUALITY CONTROL STATUS:  \n", 
                "# 0=draft, 1=in-review, 2=reviewed  \n", 
                "DOC.set_qc_status(0)"
            ], 
            "outputs": [], 
            "metadata": {
                "collapsed": true
            }
        }, 
        {
            "source": [
                "### 10.4. Conservation Method\n", 
                " *Tracer advection scheme conservation method*\n", 
                "\n", 
                "**Is Required:** TRUE&nbsp;&nbsp;&nbsp;&nbsp;**Type:** ENUM&nbsp;&nbsp;&nbsp;&nbsp;**Cardinality:** 1.1"
            ], 
            "cell_type": "markdown", 
            "metadata": {}
        }, 
        {
            "execution_count": null, 
            "cell_type": "code", 
            "source": [
                "# PROPERTY ID - DO NOT EDIT !  \n", 
                "DOC.set_id('cmip6.atmos.dynamical_core.advection_tracers.conservation_method')  \n", 
                "\n", 
                "# PROPERTY VALUE: \n", 
                "# Set as follows: DOC.set_value(\"value\")  \n", 
                "# Valid Choices: \n", 
                "#      \"conservation fixer\"  \n", 
                "#      \"Priestley algorithm\"  \n", 
                "#      \"Other: [Please specify]\"  \n", 
                "# TODO\n", 
                "\n", 
                "# PROPERTY QUALITY CONTROL STATUS:  \n", 
                "# 0=draft, 1=in-review, 2=reviewed  \n", 
                "DOC.set_qc_status(0)"
            ], 
            "outputs": [], 
            "metadata": {
                "collapsed": true
            }
        }, 
        {
            "source": [
                "# 11. Dynamical Core --&gt; Advection Momentum  \n", 
                "*Momentum advection scheme*"
            ], 
            "cell_type": "markdown", 
            "metadata": {}
        }, 
        {
            "source": [
                "### 11.1. Scheme Name\n", 
                " *Momentum advection schemes name*\n", 
                "\n", 
                "**Is Required:** FALSE&nbsp;&nbsp;&nbsp;&nbsp;**Type:** ENUM&nbsp;&nbsp;&nbsp;&nbsp;**Cardinality:** 0.1"
            ], 
            "cell_type": "markdown", 
            "metadata": {}
        }, 
        {
            "execution_count": null, 
            "cell_type": "code", 
            "source": [
                "# PROPERTY ID - DO NOT EDIT !  \n", 
                "DOC.set_id('cmip6.atmos.dynamical_core.advection_momentum.scheme_name')  \n", 
                "\n", 
                "# PROPERTY VALUE: \n", 
                "# Set as follows: DOC.set_value(\"value\")  \n", 
                "# Valid Choices: \n", 
                "#      \"VanLeer\"  \n", 
                "#      \"Janjic\"  \n", 
                "#      \"SUPG (Streamline Upwind Petrov-Galerkin)\"  \n", 
                "#      \"Other: [Please specify]\"  \n", 
                "# TODO\n", 
                "\n", 
                "# PROPERTY QUALITY CONTROL STATUS:  \n", 
                "# 0=draft, 1=in-review, 2=reviewed  \n", 
                "DOC.set_qc_status(0)"
            ], 
            "outputs": [], 
            "metadata": {
                "collapsed": true
            }
        }, 
        {
            "source": [
                "### 11.2. Scheme Characteristics\n", 
                " *Momentum advection scheme characteristics*\n", 
                "\n", 
                "**Is Required:** TRUE&nbsp;&nbsp;&nbsp;&nbsp;**Type:** ENUM&nbsp;&nbsp;&nbsp;&nbsp;**Cardinality:** 1.N"
            ], 
            "cell_type": "markdown", 
            "metadata": {}
        }, 
        {
            "execution_count": null, 
            "cell_type": "code", 
            "source": [
                "# PROPERTY ID - DO NOT EDIT !  \n", 
                "DOC.set_id('cmip6.atmos.dynamical_core.advection_momentum.scheme_characteristics')  \n", 
                "\n", 
                "# PROPERTY VALUE(S): \n", 
                "# Set as follows: DOC.set_value(\"value\")  \n", 
                "# Valid Choices: \n", 
                "#      \"2nd order\"  \n", 
                "#      \"4th order\"  \n", 
                "#      \"cell-centred\"  \n", 
                "#      \"staggered grid\"  \n", 
                "#      \"semi-staggered grid\"  \n", 
                "#      \"Other: [Please specify]\"  \n", 
                "# TODO\n", 
                "\n", 
                "# PROPERTY QUALITY CONTROL STATUS:  \n", 
                "# 0=draft, 1=in-review, 2=reviewed  \n", 
                "DOC.set_qc_status(0)"
            ], 
            "outputs": [], 
            "metadata": {
                "collapsed": true
            }
        }, 
        {
            "source": [
                "### 11.3. Scheme Staggering Type\n", 
                " *Momentum advection scheme staggering type*\n", 
                "\n", 
                "**Is Required:** TRUE&nbsp;&nbsp;&nbsp;&nbsp;**Type:** ENUM&nbsp;&nbsp;&nbsp;&nbsp;**Cardinality:** 1.1"
            ], 
            "cell_type": "markdown", 
            "metadata": {}
        }, 
        {
            "execution_count": null, 
            "cell_type": "code", 
            "source": [
                "# PROPERTY ID - DO NOT EDIT !  \n", 
                "DOC.set_id('cmip6.atmos.dynamical_core.advection_momentum.scheme_staggering_type')  \n", 
                "\n", 
                "# PROPERTY VALUE: \n", 
                "# Set as follows: DOC.set_value(\"value\")  \n", 
                "# Valid Choices: \n", 
                "#      \"Arakawa B-grid\"  \n", 
                "#      \"Arakawa C-grid\"  \n", 
                "#      \"Arakawa D-grid\"  \n", 
                "#      \"Arakawa E-grid\"  \n", 
                "#      \"Other: [Please specify]\"  \n", 
                "# TODO\n", 
                "\n", 
                "# PROPERTY QUALITY CONTROL STATUS:  \n", 
                "# 0=draft, 1=in-review, 2=reviewed  \n", 
                "DOC.set_qc_status(0)"
            ], 
            "outputs": [], 
            "metadata": {
                "collapsed": true
            }
        }, 
        {
            "source": [
                "### 11.4. Conserved Quantities\n", 
                " *Momentum advection scheme conserved quantities*\n", 
                "\n", 
                "**Is Required:** TRUE&nbsp;&nbsp;&nbsp;&nbsp;**Type:** ENUM&nbsp;&nbsp;&nbsp;&nbsp;**Cardinality:** 1.N"
            ], 
            "cell_type": "markdown", 
            "metadata": {}
        }, 
        {
            "execution_count": null, 
            "cell_type": "code", 
            "source": [
                "# PROPERTY ID - DO NOT EDIT !  \n", 
                "DOC.set_id('cmip6.atmos.dynamical_core.advection_momentum.conserved_quantities')  \n", 
                "\n", 
                "# PROPERTY VALUE(S): \n", 
                "# Set as follows: DOC.set_value(\"value\")  \n", 
                "# Valid Choices: \n", 
                "#      \"Angular momentum\"  \n", 
                "#      \"Horizontal momentum\"  \n", 
                "#      \"Enstrophy\"  \n", 
                "#      \"Mass\"  \n", 
                "#      \"Total energy\"  \n", 
                "#      \"Vorticity\"  \n", 
                "#      \"Other: [Please specify]\"  \n", 
                "# TODO\n", 
                "\n", 
                "# PROPERTY QUALITY CONTROL STATUS:  \n", 
                "# 0=draft, 1=in-review, 2=reviewed  \n", 
                "DOC.set_qc_status(0)"
            ], 
            "outputs": [], 
            "metadata": {
                "collapsed": true
            }
        }, 
        {
            "source": [
                "### 11.5. Conservation Method\n", 
                " *Momentum advection scheme conservation method*\n", 
                "\n", 
                "**Is Required:** TRUE&nbsp;&nbsp;&nbsp;&nbsp;**Type:** ENUM&nbsp;&nbsp;&nbsp;&nbsp;**Cardinality:** 1.1"
            ], 
            "cell_type": "markdown", 
            "metadata": {}
        }, 
        {
            "execution_count": null, 
            "cell_type": "code", 
            "source": [
                "# PROPERTY ID - DO NOT EDIT !  \n", 
                "DOC.set_id('cmip6.atmos.dynamical_core.advection_momentum.conservation_method')  \n", 
                "\n", 
                "# PROPERTY VALUE: \n", 
                "# Set as follows: DOC.set_value(\"value\")  \n", 
                "# Valid Choices: \n", 
                "#      \"conservation fixer\"  \n", 
                "#      \"Other: [Please specify]\"  \n", 
                "# TODO\n", 
                "\n", 
                "# PROPERTY QUALITY CONTROL STATUS:  \n", 
                "# 0=draft, 1=in-review, 2=reviewed  \n", 
                "DOC.set_qc_status(0)"
            ], 
            "outputs": [], 
            "metadata": {
                "collapsed": true
            }
        }, 
        {
            "source": [
                "# 12. Radiation  \n", 
                "*Characteristics of the atmosphere radiation process*"
            ], 
            "cell_type": "markdown", 
            "metadata": {}
        }, 
        {
            "source": [
                "### 12.1. Aerosols\n", 
                " *Aerosols whose radiative effect is taken into account in the atmosphere model*\n", 
                "\n", 
                "**Is Required:** TRUE&nbsp;&nbsp;&nbsp;&nbsp;**Type:** ENUM&nbsp;&nbsp;&nbsp;&nbsp;**Cardinality:** 1.N"
            ], 
            "cell_type": "markdown", 
            "metadata": {}
        }, 
        {
            "execution_count": null, 
            "cell_type": "code", 
            "source": [
                "# PROPERTY ID - DO NOT EDIT !  \n", 
                "DOC.set_id('cmip6.atmos.radiation.aerosols')  \n", 
                "\n", 
                "# PROPERTY VALUE(S): \n", 
                "# Set as follows: DOC.set_value(\"value\")  \n", 
                "# Valid Choices: \n", 
                "#      \"sulphate\"  \n", 
                "#      \"nitrate\"  \n", 
                "#      \"sea salt\"  \n", 
                "#      \"dust\"  \n", 
                "#      \"ice\"  \n", 
                "#      \"organic\"  \n", 
                "#      \"BC (black carbon / soot)\"  \n", 
                "#      \"SOA (secondary organic aerosols)\"  \n", 
                "#      \"POM (particulate organic matter)\"  \n", 
                "#      \"polar stratospheric ice\"  \n", 
                "#      \"NAT (nitric acid trihydrate)\"  \n", 
                "#      \"NAD (nitric acid dihydrate)\"  \n", 
                "#      \"STS (supercooled ternary solution aerosol particle)\"  \n", 
                "#      \"Other: [Please specify]\"  \n", 
                "# TODO\n", 
                "\n", 
                "# PROPERTY QUALITY CONTROL STATUS:  \n", 
                "# 0=draft, 1=in-review, 2=reviewed  \n", 
                "DOC.set_qc_status(0)"
            ], 
            "outputs": [], 
            "metadata": {
                "collapsed": true
            }
        }, 
        {
            "source": [
                "### 12.2. Greenhouse Gases\n", 
                " *Greenhouse gases whose radiative effect is taken into account in the atmosphere model*\n", 
                "\n", 
                "**Is Required:** TRUE&nbsp;&nbsp;&nbsp;&nbsp;**Type:** ENUM&nbsp;&nbsp;&nbsp;&nbsp;**Cardinality:** 1.N"
            ], 
            "cell_type": "markdown", 
            "metadata": {}
        }, 
        {
            "execution_count": null, 
            "cell_type": "code", 
            "source": [
                "# PROPERTY ID - DO NOT EDIT !  \n", 
                "DOC.set_id('cmip6.atmos.radiation.greenhouse_gases')  \n", 
                "\n", 
                "# PROPERTY VALUE(S): \n", 
                "# Set as follows: DOC.set_value(\"value\")  \n", 
                "# Valid Choices: \n", 
                "#      \"H2O\"  \n", 
                "#      \"CO2\"  \n", 
                "#      \"CH4\"  \n", 
                "#      \"N2O\"  \n", 
                "#      \"O3\"  \n", 
                "#      \"CFCs\"  \n", 
                "#      \"HFCs\"  \n", 
                "#      \"PFCs\"  \n", 
                "#      \"SF6\"  \n", 
                "#      \"NF3\"  \n", 
                "#      \"Other: [Please specify]\"  \n", 
                "# TODO\n", 
                "\n", 
                "# PROPERTY QUALITY CONTROL STATUS:  \n", 
                "# 0=draft, 1=in-review, 2=reviewed  \n", 
                "DOC.set_qc_status(0)"
            ], 
            "outputs": [], 
            "metadata": {
                "collapsed": true
            }
        }, 
        {
            "source": [
                "# 13. Radiation --&gt; Shortwave Radiation  \n", 
                "*Properties of the shortwave radiation scheme*"
            ], 
            "cell_type": "markdown", 
            "metadata": {}
        }, 
        {
            "source": [
                "### 13.1. Name\n", 
                " *Commonly used name for the shortwave radiation scheme*\n", 
                "\n", 
                "**Is Required:** FALSE&nbsp;&nbsp;&nbsp;&nbsp;**Type:** STRING&nbsp;&nbsp;&nbsp;&nbsp;**Cardinality:** 0.1"
            ], 
            "cell_type": "markdown", 
            "metadata": {}
        }, 
        {
            "execution_count": null, 
            "cell_type": "code", 
            "source": [
                "# PROPERTY ID - DO NOT EDIT !  \n", 
                "DOC.set_id('cmip6.atmos.radiation.shortwave_radiation.name')  \n", 
                "\n", 
                "# PROPERTY VALUE: \n", 
                "# Set as follows: DOC.set_value(\"value\")  \n", 
                "# TODO\n", 
                "\n", 
                "# PROPERTY QUALITY CONTROL STATUS:  \n", 
                "# 0=draft, 1=in-review, 2=reviewed  \n", 
                "DOC.set_qc_status(0)"
            ], 
            "outputs": [], 
            "metadata": {
                "collapsed": true
            }
        }, 
        {
            "source": [
                "### 13.2. Spectral Integration\n", 
                " *Shortwave radiation scheme spectral integration*\n", 
                "\n", 
                "**Is Required:** TRUE&nbsp;&nbsp;&nbsp;&nbsp;**Type:** ENUM&nbsp;&nbsp;&nbsp;&nbsp;**Cardinality:** 1.1"
            ], 
            "cell_type": "markdown", 
            "metadata": {}
        }, 
        {
            "execution_count": null, 
            "cell_type": "code", 
            "source": [
                "# PROPERTY ID - DO NOT EDIT !  \n", 
                "DOC.set_id('cmip6.atmos.radiation.shortwave_radiation.spectral_integration')  \n", 
                "\n", 
                "# PROPERTY VALUE: \n", 
                "# Set as follows: DOC.set_value(\"value\")  \n", 
                "# Valid Choices: \n", 
                "#      \"wide-band model\"  \n", 
                "#      \"correlated-k\"  \n", 
                "#      \"exponential sum fitting\"  \n", 
                "#      \"Other: [Please specify]\"  \n", 
                "# TODO\n", 
                "\n", 
                "# PROPERTY QUALITY CONTROL STATUS:  \n", 
                "# 0=draft, 1=in-review, 2=reviewed  \n", 
                "DOC.set_qc_status(0)"
            ], 
            "outputs": [], 
            "metadata": {
                "collapsed": true
            }
        }, 
        {
            "source": [
                "### 13.3. Transport Calculation\n", 
                " *Shortwave radiation transport calculation methods*\n", 
                "\n", 
                "**Is Required:** TRUE&nbsp;&nbsp;&nbsp;&nbsp;**Type:** ENUM&nbsp;&nbsp;&nbsp;&nbsp;**Cardinality:** 1.N"
            ], 
            "cell_type": "markdown", 
            "metadata": {}
        }, 
        {
            "execution_count": null, 
            "cell_type": "code", 
            "source": [
                "# PROPERTY ID - DO NOT EDIT !  \n", 
                "DOC.set_id('cmip6.atmos.radiation.shortwave_radiation.transport_calculation')  \n", 
                "\n", 
                "# PROPERTY VALUE(S): \n", 
                "# Set as follows: DOC.set_value(\"value\")  \n", 
                "# Valid Choices: \n", 
                "#      \"two-stream\"  \n", 
                "#      \"layer interaction\"  \n", 
                "#      \"bulk\"  \n", 
                "#      \"adaptive\"  \n", 
                "#      \"multi-stream\"  \n", 
                "#      \"Other: [Please specify]\"  \n", 
                "# TODO\n", 
                "\n", 
                "# PROPERTY QUALITY CONTROL STATUS:  \n", 
                "# 0=draft, 1=in-review, 2=reviewed  \n", 
                "DOC.set_qc_status(0)"
            ], 
            "outputs": [], 
            "metadata": {
                "collapsed": true
            }
        }, 
        {
            "source": [
                "### 13.4. Spectral Intervals\n", 
                " *Shortwave radiation scheme number of spectral intervals*\n", 
                "\n", 
                "**Is Required:** TRUE&nbsp;&nbsp;&nbsp;&nbsp;**Type:** INTEGER&nbsp;&nbsp;&nbsp;&nbsp;**Cardinality:** 1.1"
            ], 
            "cell_type": "markdown", 
            "metadata": {}
        }, 
        {
            "execution_count": null, 
            "cell_type": "code", 
            "source": [
                "# PROPERTY ID - DO NOT EDIT !  \n", 
                "DOC.set_id('cmip6.atmos.radiation.shortwave_radiation.spectral_intervals')  \n", 
                "\n", 
                "# PROPERTY VALUE: \n", 
                "# Set as follows: DOC.set_value(value)  \n", 
                "# TODO\n", 
                "\n", 
                "# PROPERTY QUALITY CONTROL STATUS:  \n", 
                "# 0=draft, 1=in-review, 2=reviewed  \n", 
                "DOC.set_qc_status(0)"
            ], 
            "outputs": [], 
            "metadata": {
                "collapsed": true
            }
        }, 
        {
            "source": [
                "# 14. Radiation --&gt; Sw Cloud Ice  \n", 
                "*Shortwave radiative properties of ice crystals in clouds*"
            ], 
            "cell_type": "markdown", 
            "metadata": {}
        }, 
        {
            "source": [
                "### 14.1. General Interactions\n", 
                " *General shortwave radiative interactions with cloud ice crystals*\n", 
                "\n", 
                "**Is Required:** TRUE&nbsp;&nbsp;&nbsp;&nbsp;**Type:** ENUM&nbsp;&nbsp;&nbsp;&nbsp;**Cardinality:** 1.N"
            ], 
            "cell_type": "markdown", 
            "metadata": {}
        }, 
        {
            "execution_count": null, 
            "cell_type": "code", 
            "source": [
                "# PROPERTY ID - DO NOT EDIT !  \n", 
                "DOC.set_id('cmip6.atmos.radiation.sw_cloud_ice.general_interactions')  \n", 
                "\n", 
                "# PROPERTY VALUE(S): \n", 
                "# Set as follows: DOC.set_value(\"value\")  \n", 
                "# Valid Choices: \n", 
                "#      \"scattering\"  \n", 
                "#      \"emission/absorption\"  \n", 
                "#      \"Other: [Please specify]\"  \n", 
                "# TODO\n", 
                "\n", 
                "# PROPERTY QUALITY CONTROL STATUS:  \n", 
                "# 0=draft, 1=in-review, 2=reviewed  \n", 
                "DOC.set_qc_status(0)"
            ], 
            "outputs": [], 
            "metadata": {
                "collapsed": true
            }
        }, 
        {
            "source": [
                "### 14.2. Physical Representation\n", 
                " *Physical representation of cloud ice crystals in the shortwave radiation scheme*\n", 
                "\n", 
                "**Is Required:** TRUE&nbsp;&nbsp;&nbsp;&nbsp;**Type:** ENUM&nbsp;&nbsp;&nbsp;&nbsp;**Cardinality:** 1.N"
            ], 
            "cell_type": "markdown", 
            "metadata": {}
        }, 
        {
            "execution_count": null, 
            "cell_type": "code", 
            "source": [
                "# PROPERTY ID - DO NOT EDIT !  \n", 
                "DOC.set_id('cmip6.atmos.radiation.sw_cloud_ice.physical_representation')  \n", 
                "\n", 
                "# PROPERTY VALUE(S): \n", 
                "# Set as follows: DOC.set_value(\"value\")  \n", 
                "# Valid Choices: \n", 
                "#      \"bi-modal size distribution\"  \n", 
                "#      \"ensemble of ice crystals\"  \n", 
                "#      \"mean projected area\"  \n", 
                "#      \"ice water path\"  \n", 
                "#      \"crystal asymmetry\"  \n", 
                "#      \"crystal aspect ratio\"  \n", 
                "#      \"effective crystal radius\"  \n", 
                "#      \"Other: [Please specify]\"  \n", 
                "# TODO\n", 
                "\n", 
                "# PROPERTY QUALITY CONTROL STATUS:  \n", 
                "# 0=draft, 1=in-review, 2=reviewed  \n", 
                "DOC.set_qc_status(0)"
            ], 
            "outputs": [], 
            "metadata": {
                "collapsed": true
            }
        }, 
        {
            "source": [
                "### 14.3. Optical Methods\n", 
                " *Optical methods applicable to cloud ice crystals in the shortwave radiation scheme*\n", 
                "\n", 
                "**Is Required:** TRUE&nbsp;&nbsp;&nbsp;&nbsp;**Type:** ENUM&nbsp;&nbsp;&nbsp;&nbsp;**Cardinality:** 1.N"
            ], 
            "cell_type": "markdown", 
            "metadata": {}
        }, 
        {
            "execution_count": null, 
            "cell_type": "code", 
            "source": [
                "# PROPERTY ID - DO NOT EDIT !  \n", 
                "DOC.set_id('cmip6.atmos.radiation.sw_cloud_ice.optical_methods')  \n", 
                "\n", 
                "# PROPERTY VALUE(S): \n", 
                "# Set as follows: DOC.set_value(\"value\")  \n", 
                "# Valid Choices: \n", 
                "#      \"T-matrix\"  \n", 
                "#      \"geometric optics\"  \n", 
                "#      \"finite difference time domain (FDTD)\"  \n", 
                "#      \"Mie theory\"  \n", 
                "#      \"anomalous diffraction approximation\"  \n", 
                "#      \"Other: [Please specify]\"  \n", 
                "# TODO\n", 
                "\n", 
                "# PROPERTY QUALITY CONTROL STATUS:  \n", 
                "# 0=draft, 1=in-review, 2=reviewed  \n", 
                "DOC.set_qc_status(0)"
            ], 
            "outputs": [], 
            "metadata": {
                "collapsed": true
            }
        }, 
        {
            "source": [
                "# 15. Radiation --&gt; Sw Cloud Liquid  \n", 
                "*Shortwave radiative properties of liquid droplets in clouds*"
            ], 
            "cell_type": "markdown", 
            "metadata": {}
        }, 
        {
            "source": [
                "### 15.1. General Interactions\n", 
                " *General shortwave radiative interactions with cloud liquid droplets*\n", 
                "\n", 
                "**Is Required:** TRUE&nbsp;&nbsp;&nbsp;&nbsp;**Type:** ENUM&nbsp;&nbsp;&nbsp;&nbsp;**Cardinality:** 1.N"
            ], 
            "cell_type": "markdown", 
            "metadata": {}
        }, 
        {
            "execution_count": null, 
            "cell_type": "code", 
            "source": [
                "# PROPERTY ID - DO NOT EDIT !  \n", 
                "DOC.set_id('cmip6.atmos.radiation.sw_cloud_liquid.general_interactions')  \n", 
                "\n", 
                "# PROPERTY VALUE(S): \n", 
                "# Set as follows: DOC.set_value(\"value\")  \n", 
                "# Valid Choices: \n", 
                "#      \"scattering\"  \n", 
                "#      \"emission/absorption\"  \n", 
                "#      \"Other: [Please specify]\"  \n", 
                "# TODO\n", 
                "\n", 
                "# PROPERTY QUALITY CONTROL STATUS:  \n", 
                "# 0=draft, 1=in-review, 2=reviewed  \n", 
                "DOC.set_qc_status(0)"
            ], 
            "outputs": [], 
            "metadata": {
                "collapsed": true
            }
        }, 
        {
            "source": [
                "### 15.2. Physical Representation\n", 
                " *Physical representation of cloud liquid droplets in the shortwave radiation scheme*\n", 
                "\n", 
                "**Is Required:** TRUE&nbsp;&nbsp;&nbsp;&nbsp;**Type:** ENUM&nbsp;&nbsp;&nbsp;&nbsp;**Cardinality:** 1.N"
            ], 
            "cell_type": "markdown", 
            "metadata": {}
        }, 
        {
            "execution_count": null, 
            "cell_type": "code", 
            "source": [
                "# PROPERTY ID - DO NOT EDIT !  \n", 
                "DOC.set_id('cmip6.atmos.radiation.sw_cloud_liquid.physical_representation')  \n", 
                "\n", 
                "# PROPERTY VALUE(S): \n", 
                "# Set as follows: DOC.set_value(\"value\")  \n", 
                "# Valid Choices: \n", 
                "#      \"cloud droplet number concentration\"  \n", 
                "#      \"effective cloud droplet radii\"  \n", 
                "#      \"droplet size distribution\"  \n", 
                "#      \"liquid water path\"  \n", 
                "#      \"Other: [Please specify]\"  \n", 
                "# TODO\n", 
                "\n", 
                "# PROPERTY QUALITY CONTROL STATUS:  \n", 
                "# 0=draft, 1=in-review, 2=reviewed  \n", 
                "DOC.set_qc_status(0)"
            ], 
            "outputs": [], 
            "metadata": {
                "collapsed": true
            }
        }, 
        {
            "source": [
                "### 15.3. Optical Methods\n", 
                " *Optical methods applicable to cloud liquid droplets in the shortwave radiation scheme*\n", 
                "\n", 
                "**Is Required:** TRUE&nbsp;&nbsp;&nbsp;&nbsp;**Type:** ENUM&nbsp;&nbsp;&nbsp;&nbsp;**Cardinality:** 1.N"
            ], 
            "cell_type": "markdown", 
            "metadata": {}
        }, 
        {
            "execution_count": null, 
            "cell_type": "code", 
            "source": [
                "# PROPERTY ID - DO NOT EDIT !  \n", 
                "DOC.set_id('cmip6.atmos.radiation.sw_cloud_liquid.optical_methods')  \n", 
                "\n", 
                "# PROPERTY VALUE(S): \n", 
                "# Set as follows: DOC.set_value(\"value\")  \n", 
                "# Valid Choices: \n", 
                "#      \"T-matrix\"  \n", 
                "#      \"geometric optics\"  \n", 
                "#      \"finite difference time domain (FDTD)\"  \n", 
                "#      \"Mie theory\"  \n", 
                "#      \"anomalous diffraction approximation\"  \n", 
                "#      \"Other: [Please specify]\"  \n", 
                "# TODO\n", 
                "\n", 
                "# PROPERTY QUALITY CONTROL STATUS:  \n", 
                "# 0=draft, 1=in-review, 2=reviewed  \n", 
                "DOC.set_qc_status(0)"
            ], 
            "outputs": [], 
            "metadata": {
                "collapsed": true
            }
        }, 
        {
            "source": [
                "# 16. Radiation --&gt; Sw Aerosols  \n", 
                "*Shortwave radiative properties of aerosols*"
            ], 
            "cell_type": "markdown", 
            "metadata": {}
        }, 
        {
            "source": [
                "### 16.1. General Interactions\n", 
                " *General shortwave radiative interactions with aerosols*\n", 
                "\n", 
                "**Is Required:** TRUE&nbsp;&nbsp;&nbsp;&nbsp;**Type:** ENUM&nbsp;&nbsp;&nbsp;&nbsp;**Cardinality:** 1.N"
            ], 
            "cell_type": "markdown", 
            "metadata": {}
        }, 
        {
            "execution_count": null, 
            "cell_type": "code", 
            "source": [
                "# PROPERTY ID - DO NOT EDIT !  \n", 
                "DOC.set_id('cmip6.atmos.radiation.sw_aerosols.general_interactions')  \n", 
                "\n", 
                "# PROPERTY VALUE(S): \n", 
                "# Set as follows: DOC.set_value(\"value\")  \n", 
                "# Valid Choices: \n", 
                "#      \"scattering\"  \n", 
                "#      \"emission/absorption\"  \n", 
                "#      \"Other: [Please specify]\"  \n", 
                "# TODO\n", 
                "\n", 
                "# PROPERTY QUALITY CONTROL STATUS:  \n", 
                "# 0=draft, 1=in-review, 2=reviewed  \n", 
                "DOC.set_qc_status(0)"
            ], 
            "outputs": [], 
            "metadata": {
                "collapsed": true
            }
        }, 
        {
            "source": [
                "### 16.2. Physical Representation\n", 
                " *Physical representation of aerosols in the shortwave radiation scheme*\n", 
                "\n", 
                "**Is Required:** TRUE&nbsp;&nbsp;&nbsp;&nbsp;**Type:** ENUM&nbsp;&nbsp;&nbsp;&nbsp;**Cardinality:** 1.N"
            ], 
            "cell_type": "markdown", 
            "metadata": {}
        }, 
        {
            "execution_count": null, 
            "cell_type": "code", 
            "source": [
                "# PROPERTY ID - DO NOT EDIT !  \n", 
                "DOC.set_id('cmip6.atmos.radiation.sw_aerosols.physical_representation')  \n", 
                "\n", 
                "# PROPERTY VALUE(S): \n", 
                "# Set as follows: DOC.set_value(\"value\")  \n", 
                "# Valid Choices: \n", 
                "#      \"number concentration\"  \n", 
                "#      \"effective radii\"  \n", 
                "#      \"size distribution\"  \n", 
                "#      \"asymmetry\"  \n", 
                "#      \"aspect ratio\"  \n", 
                "#      \"mixing state\"  \n", 
                "#      \"Other: [Please specify]\"  \n", 
                "# TODO\n", 
                "\n", 
                "# PROPERTY QUALITY CONTROL STATUS:  \n", 
                "# 0=draft, 1=in-review, 2=reviewed  \n", 
                "DOC.set_qc_status(0)"
            ], 
            "outputs": [], 
            "metadata": {
                "collapsed": true
            }
        }, 
        {
            "source": [
                "### 16.3. Optical Methods\n", 
                " *Optical methods applicable to aerosols in the shortwave radiation scheme*\n", 
                "\n", 
                "**Is Required:** TRUE&nbsp;&nbsp;&nbsp;&nbsp;**Type:** ENUM&nbsp;&nbsp;&nbsp;&nbsp;**Cardinality:** 1.N"
            ], 
            "cell_type": "markdown", 
            "metadata": {}
        }, 
        {
            "execution_count": null, 
            "cell_type": "code", 
            "source": [
                "# PROPERTY ID - DO NOT EDIT !  \n", 
                "DOC.set_id('cmip6.atmos.radiation.sw_aerosols.optical_methods')  \n", 
                "\n", 
                "# PROPERTY VALUE(S): \n", 
                "# Set as follows: DOC.set_value(\"value\")  \n", 
                "# Valid Choices: \n", 
                "#      \"T-matrix\"  \n", 
                "#      \"geometric optics\"  \n", 
                "#      \"finite difference time domain (FDTD)\"  \n", 
                "#      \"Mie theory\"  \n", 
                "#      \"anomalous diffraction approximation\"  \n", 
                "#      \"Other: [Please specify]\"  \n", 
                "# TODO\n", 
                "\n", 
                "# PROPERTY QUALITY CONTROL STATUS:  \n", 
                "# 0=draft, 1=in-review, 2=reviewed  \n", 
                "DOC.set_qc_status(0)"
            ], 
            "outputs": [], 
            "metadata": {
                "collapsed": true
            }
        }, 
        {
            "source": [
                "# 17. Radiation --&gt; Sw Gases  \n", 
                "*Shortwave radiative properties of gases*"
            ], 
            "cell_type": "markdown", 
            "metadata": {}
        }, 
        {
            "source": [
                "### 17.1. General Interactions\n", 
                " *General shortwave radiative interactions with gases*\n", 
                "\n", 
                "**Is Required:** TRUE&nbsp;&nbsp;&nbsp;&nbsp;**Type:** ENUM&nbsp;&nbsp;&nbsp;&nbsp;**Cardinality:** 1.N"
            ], 
            "cell_type": "markdown", 
            "metadata": {}
        }, 
        {
            "execution_count": null, 
            "cell_type": "code", 
            "source": [
                "# PROPERTY ID - DO NOT EDIT !  \n", 
                "DOC.set_id('cmip6.atmos.radiation.sw_gases.general_interactions')  \n", 
                "\n", 
                "# PROPERTY VALUE(S): \n", 
                "# Set as follows: DOC.set_value(\"value\")  \n", 
                "# Valid Choices: \n", 
                "#      \"scattering\"  \n", 
                "#      \"emission/absorption\"  \n", 
                "#      \"Other: [Please specify]\"  \n", 
                "# TODO\n", 
                "\n", 
                "# PROPERTY QUALITY CONTROL STATUS:  \n", 
                "# 0=draft, 1=in-review, 2=reviewed  \n", 
                "DOC.set_qc_status(0)"
            ], 
            "outputs": [], 
            "metadata": {
                "collapsed": true
            }
        }, 
        {
            "source": [
                "### 17.2. Optical Methods\n", 
                " *Optical methods applicable to gases in the shortwave radiation scheme*\n", 
                "\n", 
                "**Is Required:** TRUE&nbsp;&nbsp;&nbsp;&nbsp;**Type:** ENUM&nbsp;&nbsp;&nbsp;&nbsp;**Cardinality:** 1.N"
            ], 
            "cell_type": "markdown", 
            "metadata": {}
        }, 
        {
            "execution_count": null, 
            "cell_type": "code", 
            "source": [
                "# PROPERTY ID - DO NOT EDIT !  \n", 
                "DOC.set_id('cmip6.atmos.radiation.sw_gases.optical_methods')  \n", 
                "\n", 
                "# PROPERTY VALUE(S): \n", 
                "# Set as follows: DOC.set_value(\"value\")  \n", 
                "# Valid Choices: \n", 
                "#      \"T-matrix\"  \n", 
                "#      \"geometric optics\"  \n", 
                "#      \"finite difference time domain (FDTD)\"  \n", 
                "#      \"Mie theory\"  \n", 
                "#      \"anomalous diffraction approximation\"  \n", 
                "#      \"Other: [Please specify]\"  \n", 
                "# TODO\n", 
                "\n", 
                "# PROPERTY QUALITY CONTROL STATUS:  \n", 
                "# 0=draft, 1=in-review, 2=reviewed  \n", 
                "DOC.set_qc_status(0)"
            ], 
            "outputs": [], 
            "metadata": {
                "collapsed": true
            }
        }, 
        {
            "source": [
                "# 18. Radiation --&gt; Longwave Radiation  \n", 
                "*Properties of the longwave radiation scheme*"
            ], 
            "cell_type": "markdown", 
            "metadata": {}
        }, 
        {
            "source": [
                "### 18.1. Name\n", 
                " *Commonly used name for the longwave radiation scheme.*\n", 
                "\n", 
                "**Is Required:** FALSE&nbsp;&nbsp;&nbsp;&nbsp;**Type:** STRING&nbsp;&nbsp;&nbsp;&nbsp;**Cardinality:** 0.1"
            ], 
            "cell_type": "markdown", 
            "metadata": {}
        }, 
        {
            "execution_count": null, 
            "cell_type": "code", 
            "source": [
                "# PROPERTY ID - DO NOT EDIT !  \n", 
                "DOC.set_id('cmip6.atmos.radiation.longwave_radiation.name')  \n", 
                "\n", 
                "# PROPERTY VALUE: \n", 
                "# Set as follows: DOC.set_value(\"value\")  \n", 
                "# TODO\n", 
                "\n", 
                "# PROPERTY QUALITY CONTROL STATUS:  \n", 
                "# 0=draft, 1=in-review, 2=reviewed  \n", 
                "DOC.set_qc_status(0)"
            ], 
            "outputs": [], 
            "metadata": {
                "collapsed": true
            }
        }, 
        {
            "source": [
                "### 18.2. Spectral Integration\n", 
                " *Longwave radiation scheme spectral integration*\n", 
                "\n", 
                "**Is Required:** TRUE&nbsp;&nbsp;&nbsp;&nbsp;**Type:** ENUM&nbsp;&nbsp;&nbsp;&nbsp;**Cardinality:** 1.1"
            ], 
            "cell_type": "markdown", 
            "metadata": {}
        }, 
        {
            "execution_count": null, 
            "cell_type": "code", 
            "source": [
                "# PROPERTY ID - DO NOT EDIT !  \n", 
                "DOC.set_id('cmip6.atmos.radiation.longwave_radiation.spectral_integration')  \n", 
                "\n", 
                "# PROPERTY VALUE: \n", 
                "# Set as follows: DOC.set_value(\"value\")  \n", 
                "# Valid Choices: \n", 
                "#      \"wide-band model\"  \n", 
                "#      \"correlated-k\"  \n", 
                "#      \"exponential sum fitting\"  \n", 
                "#      \"Other: [Please specify]\"  \n", 
                "# TODO\n", 
                "\n", 
                "# PROPERTY QUALITY CONTROL STATUS:  \n", 
                "# 0=draft, 1=in-review, 2=reviewed  \n", 
                "DOC.set_qc_status(0)"
            ], 
            "outputs": [], 
            "metadata": {
                "collapsed": true
            }
        }, 
        {
            "source": [
                "### 18.3. Transport Calculation\n", 
                " *Longwave radiation transport calculation methods*\n", 
                "\n", 
                "**Is Required:** TRUE&nbsp;&nbsp;&nbsp;&nbsp;**Type:** ENUM&nbsp;&nbsp;&nbsp;&nbsp;**Cardinality:** 1.N"
            ], 
            "cell_type": "markdown", 
            "metadata": {}
        }, 
        {
            "execution_count": null, 
            "cell_type": "code", 
            "source": [
                "# PROPERTY ID - DO NOT EDIT !  \n", 
                "DOC.set_id('cmip6.atmos.radiation.longwave_radiation.transport_calculation')  \n", 
                "\n", 
                "# PROPERTY VALUE(S): \n", 
                "# Set as follows: DOC.set_value(\"value\")  \n", 
                "# Valid Choices: \n", 
                "#      \"two-stream\"  \n", 
                "#      \"layer interaction\"  \n", 
                "#      \"bulk\"  \n", 
                "#      \"adaptive\"  \n", 
                "#      \"multi-stream\"  \n", 
                "#      \"Other: [Please specify]\"  \n", 
                "# TODO\n", 
                "\n", 
                "# PROPERTY QUALITY CONTROL STATUS:  \n", 
                "# 0=draft, 1=in-review, 2=reviewed  \n", 
                "DOC.set_qc_status(0)"
            ], 
            "outputs": [], 
            "metadata": {
                "collapsed": true
            }
        }, 
        {
            "source": [
                "### 18.4. Spectral Intervals\n", 
                " *Longwave radiation scheme number of spectral intervals*\n", 
                "\n", 
                "**Is Required:** TRUE&nbsp;&nbsp;&nbsp;&nbsp;**Type:** INTEGER&nbsp;&nbsp;&nbsp;&nbsp;**Cardinality:** 1.1"
            ], 
            "cell_type": "markdown", 
            "metadata": {}
        }, 
        {
            "execution_count": null, 
            "cell_type": "code", 
            "source": [
                "# PROPERTY ID - DO NOT EDIT !  \n", 
                "DOC.set_id('cmip6.atmos.radiation.longwave_radiation.spectral_intervals')  \n", 
                "\n", 
                "# PROPERTY VALUE: \n", 
                "# Set as follows: DOC.set_value(value)  \n", 
                "# TODO\n", 
                "\n", 
                "# PROPERTY QUALITY CONTROL STATUS:  \n", 
                "# 0=draft, 1=in-review, 2=reviewed  \n", 
                "DOC.set_qc_status(0)"
            ], 
            "outputs": [], 
            "metadata": {
                "collapsed": true
            }
        }, 
        {
            "source": [
                "# 19. Radiation --&gt; Lw Cloud Ice  \n", 
                "*Longwave radiative properties of ice crystals in clouds*"
            ], 
            "cell_type": "markdown", 
            "metadata": {}
        }, 
        {
            "source": [
                "### 19.1. General Interactions\n", 
                " *General longwave radiative interactions with cloud ice crystals*\n", 
                "\n", 
                "**Is Required:** TRUE&nbsp;&nbsp;&nbsp;&nbsp;**Type:** ENUM&nbsp;&nbsp;&nbsp;&nbsp;**Cardinality:** 1.N"
            ], 
            "cell_type": "markdown", 
            "metadata": {}
        }, 
        {
            "execution_count": null, 
            "cell_type": "code", 
            "source": [
                "# PROPERTY ID - DO NOT EDIT !  \n", 
                "DOC.set_id('cmip6.atmos.radiation.lw_cloud_ice.general_interactions')  \n", 
                "\n", 
                "# PROPERTY VALUE(S): \n", 
                "# Set as follows: DOC.set_value(\"value\")  \n", 
                "# Valid Choices: \n", 
                "#      \"scattering\"  \n", 
                "#      \"emission/absorption\"  \n", 
                "#      \"Other: [Please specify]\"  \n", 
                "# TODO\n", 
                "\n", 
                "# PROPERTY QUALITY CONTROL STATUS:  \n", 
                "# 0=draft, 1=in-review, 2=reviewed  \n", 
                "DOC.set_qc_status(0)"
            ], 
            "outputs": [], 
            "metadata": {
                "collapsed": true
            }
        }, 
        {
            "source": [
                "### 19.2. Physical Reprenstation\n", 
                " *Physical representation of cloud ice crystals in the longwave radiation scheme*\n", 
                "\n", 
                "**Is Required:** TRUE&nbsp;&nbsp;&nbsp;&nbsp;**Type:** ENUM&nbsp;&nbsp;&nbsp;&nbsp;**Cardinality:** 1.N"
            ], 
            "cell_type": "markdown", 
            "metadata": {}
        }, 
        {
            "execution_count": null, 
            "cell_type": "code", 
            "source": [
                "# PROPERTY ID - DO NOT EDIT !  \n", 
                "DOC.set_id('cmip6.atmos.radiation.lw_cloud_ice.physical_reprenstation')  \n", 
                "\n", 
                "# PROPERTY VALUE(S): \n", 
                "# Set as follows: DOC.set_value(\"value\")  \n", 
                "# Valid Choices: \n", 
                "#      \"bi-modal size distribution\"  \n", 
                "#      \"ensemble of ice crystals\"  \n", 
                "#      \"mean projected area\"  \n", 
                "#      \"ice water path\"  \n", 
                "#      \"crystal asymmetry\"  \n", 
                "#      \"crystal aspect ratio\"  \n", 
                "#      \"effective crystal radius\"  \n", 
                "#      \"Other: [Please specify]\"  \n", 
                "# TODO\n", 
                "\n", 
                "# PROPERTY QUALITY CONTROL STATUS:  \n", 
                "# 0=draft, 1=in-review, 2=reviewed  \n", 
                "DOC.set_qc_status(0)"
            ], 
            "outputs": [], 
            "metadata": {
                "collapsed": true
            }
        }, 
        {
            "source": [
                "### 19.3. Optical Methods\n", 
                " *Optical methods applicable to cloud ice crystals in the longwave radiation scheme*\n", 
                "\n", 
                "**Is Required:** TRUE&nbsp;&nbsp;&nbsp;&nbsp;**Type:** ENUM&nbsp;&nbsp;&nbsp;&nbsp;**Cardinality:** 1.N"
            ], 
            "cell_type": "markdown", 
            "metadata": {}
        }, 
        {
            "execution_count": null, 
            "cell_type": "code", 
            "source": [
                "# PROPERTY ID - DO NOT EDIT !  \n", 
                "DOC.set_id('cmip6.atmos.radiation.lw_cloud_ice.optical_methods')  \n", 
                "\n", 
                "# PROPERTY VALUE(S): \n", 
                "# Set as follows: DOC.set_value(\"value\")  \n", 
                "# Valid Choices: \n", 
                "#      \"T-matrix\"  \n", 
                "#      \"geometric optics\"  \n", 
                "#      \"finite difference time domain (FDTD)\"  \n", 
                "#      \"Mie theory\"  \n", 
                "#      \"anomalous diffraction approximation\"  \n", 
                "#      \"Other: [Please specify]\"  \n", 
                "# TODO\n", 
                "\n", 
                "# PROPERTY QUALITY CONTROL STATUS:  \n", 
                "# 0=draft, 1=in-review, 2=reviewed  \n", 
                "DOC.set_qc_status(0)"
            ], 
            "outputs": [], 
            "metadata": {
                "collapsed": true
            }
        }, 
        {
            "source": [
                "# 20. Radiation --&gt; Lw Cloud Liquid  \n", 
                "*Longwave radiative properties of liquid droplets in clouds*"
            ], 
            "cell_type": "markdown", 
            "metadata": {}
        }, 
        {
            "source": [
                "### 20.1. General Interactions\n", 
                " *General longwave radiative interactions with cloud liquid droplets*\n", 
                "\n", 
                "**Is Required:** TRUE&nbsp;&nbsp;&nbsp;&nbsp;**Type:** ENUM&nbsp;&nbsp;&nbsp;&nbsp;**Cardinality:** 1.N"
            ], 
            "cell_type": "markdown", 
            "metadata": {}
        }, 
        {
            "execution_count": null, 
            "cell_type": "code", 
            "source": [
                "# PROPERTY ID - DO NOT EDIT !  \n", 
                "DOC.set_id('cmip6.atmos.radiation.lw_cloud_liquid.general_interactions')  \n", 
                "\n", 
                "# PROPERTY VALUE(S): \n", 
                "# Set as follows: DOC.set_value(\"value\")  \n", 
                "# Valid Choices: \n", 
                "#      \"scattering\"  \n", 
                "#      \"emission/absorption\"  \n", 
                "#      \"Other: [Please specify]\"  \n", 
                "# TODO\n", 
                "\n", 
                "# PROPERTY QUALITY CONTROL STATUS:  \n", 
                "# 0=draft, 1=in-review, 2=reviewed  \n", 
                "DOC.set_qc_status(0)"
            ], 
            "outputs": [], 
            "metadata": {
                "collapsed": true
            }
        }, 
        {
            "source": [
                "### 20.2. Physical Representation\n", 
                " *Physical representation of cloud liquid droplets in the longwave radiation scheme*\n", 
                "\n", 
                "**Is Required:** TRUE&nbsp;&nbsp;&nbsp;&nbsp;**Type:** ENUM&nbsp;&nbsp;&nbsp;&nbsp;**Cardinality:** 1.N"
            ], 
            "cell_type": "markdown", 
            "metadata": {}
        }, 
        {
            "execution_count": null, 
            "cell_type": "code", 
            "source": [
                "# PROPERTY ID - DO NOT EDIT !  \n", 
                "DOC.set_id('cmip6.atmos.radiation.lw_cloud_liquid.physical_representation')  \n", 
                "\n", 
                "# PROPERTY VALUE(S): \n", 
                "# Set as follows: DOC.set_value(\"value\")  \n", 
                "# Valid Choices: \n", 
                "#      \"cloud droplet number concentration\"  \n", 
                "#      \"effective cloud droplet radii\"  \n", 
                "#      \"droplet size distribution\"  \n", 
                "#      \"liquid water path\"  \n", 
                "#      \"Other: [Please specify]\"  \n", 
                "# TODO\n", 
                "\n", 
                "# PROPERTY QUALITY CONTROL STATUS:  \n", 
                "# 0=draft, 1=in-review, 2=reviewed  \n", 
                "DOC.set_qc_status(0)"
            ], 
            "outputs": [], 
            "metadata": {
                "collapsed": true
            }
        }, 
        {
            "source": [
                "### 20.3. Optical Methods\n", 
                " *Optical methods applicable to cloud liquid droplets in the longwave radiation scheme*\n", 
                "\n", 
                "**Is Required:** TRUE&nbsp;&nbsp;&nbsp;&nbsp;**Type:** ENUM&nbsp;&nbsp;&nbsp;&nbsp;**Cardinality:** 1.N"
            ], 
            "cell_type": "markdown", 
            "metadata": {}
        }, 
        {
            "execution_count": null, 
            "cell_type": "code", 
            "source": [
                "# PROPERTY ID - DO NOT EDIT !  \n", 
                "DOC.set_id('cmip6.atmos.radiation.lw_cloud_liquid.optical_methods')  \n", 
                "\n", 
                "# PROPERTY VALUE(S): \n", 
                "# Set as follows: DOC.set_value(\"value\")  \n", 
                "# Valid Choices: \n", 
                "#      \"T-matrix\"  \n", 
                "#      \"geometric optics\"  \n", 
                "#      \"finite difference time domain (FDTD)\"  \n", 
                "#      \"Mie theory\"  \n", 
                "#      \"anomalous diffraction approximation\"  \n", 
                "#      \"Other: [Please specify]\"  \n", 
                "# TODO\n", 
                "\n", 
                "# PROPERTY QUALITY CONTROL STATUS:  \n", 
                "# 0=draft, 1=in-review, 2=reviewed  \n", 
                "DOC.set_qc_status(0)"
            ], 
            "outputs": [], 
            "metadata": {
                "collapsed": true
            }
        }, 
        {
            "source": [
                "# 21. Radiation --&gt; Lw Aerosols  \n", 
                "*Longwave radiative properties of aerosols*"
            ], 
            "cell_type": "markdown", 
            "metadata": {}
        }, 
        {
            "source": [
                "### 21.1. General Interactions\n", 
                " *General longwave radiative interactions with aerosols*\n", 
                "\n", 
                "**Is Required:** TRUE&nbsp;&nbsp;&nbsp;&nbsp;**Type:** ENUM&nbsp;&nbsp;&nbsp;&nbsp;**Cardinality:** 1.N"
            ], 
            "cell_type": "markdown", 
            "metadata": {}
        }, 
        {
            "execution_count": null, 
            "cell_type": "code", 
            "source": [
                "# PROPERTY ID - DO NOT EDIT !  \n", 
                "DOC.set_id('cmip6.atmos.radiation.lw_aerosols.general_interactions')  \n", 
                "\n", 
                "# PROPERTY VALUE(S): \n", 
                "# Set as follows: DOC.set_value(\"value\")  \n", 
                "# Valid Choices: \n", 
                "#      \"scattering\"  \n", 
                "#      \"emission/absorption\"  \n", 
                "#      \"Other: [Please specify]\"  \n", 
                "# TODO\n", 
                "\n", 
                "# PROPERTY QUALITY CONTROL STATUS:  \n", 
                "# 0=draft, 1=in-review, 2=reviewed  \n", 
                "DOC.set_qc_status(0)"
            ], 
            "outputs": [], 
            "metadata": {
                "collapsed": true
            }
        }, 
        {
            "source": [
                "### 21.2. Physical Representation\n", 
                " *Physical representation of aerosols in the longwave radiation scheme*\n", 
                "\n", 
                "**Is Required:** TRUE&nbsp;&nbsp;&nbsp;&nbsp;**Type:** ENUM&nbsp;&nbsp;&nbsp;&nbsp;**Cardinality:** 1.N"
            ], 
            "cell_type": "markdown", 
            "metadata": {}
        }, 
        {
            "execution_count": null, 
            "cell_type": "code", 
            "source": [
                "# PROPERTY ID - DO NOT EDIT !  \n", 
                "DOC.set_id('cmip6.atmos.radiation.lw_aerosols.physical_representation')  \n", 
                "\n", 
                "# PROPERTY VALUE(S): \n", 
                "# Set as follows: DOC.set_value(\"value\")  \n", 
                "# Valid Choices: \n", 
                "#      \"number concentration\"  \n", 
                "#      \"effective radii\"  \n", 
                "#      \"size distribution\"  \n", 
                "#      \"asymmetry\"  \n", 
                "#      \"aspect ratio\"  \n", 
                "#      \"mixing state\"  \n", 
                "#      \"Other: [Please specify]\"  \n", 
                "# TODO\n", 
                "\n", 
                "# PROPERTY QUALITY CONTROL STATUS:  \n", 
                "# 0=draft, 1=in-review, 2=reviewed  \n", 
                "DOC.set_qc_status(0)"
            ], 
            "outputs": [], 
            "metadata": {
                "collapsed": true
            }
        }, 
        {
            "source": [
                "### 21.3. Optical Methods\n", 
                " *Optical methods applicable to aerosols in the longwave radiation scheme*\n", 
                "\n", 
                "**Is Required:** TRUE&nbsp;&nbsp;&nbsp;&nbsp;**Type:** ENUM&nbsp;&nbsp;&nbsp;&nbsp;**Cardinality:** 1.N"
            ], 
            "cell_type": "markdown", 
            "metadata": {}
        }, 
        {
            "execution_count": null, 
            "cell_type": "code", 
            "source": [
                "# PROPERTY ID - DO NOT EDIT !  \n", 
                "DOC.set_id('cmip6.atmos.radiation.lw_aerosols.optical_methods')  \n", 
                "\n", 
                "# PROPERTY VALUE(S): \n", 
                "# Set as follows: DOC.set_value(\"value\")  \n", 
                "# Valid Choices: \n", 
                "#      \"T-matrix\"  \n", 
                "#      \"geometric optics\"  \n", 
                "#      \"finite difference time domain (FDTD)\"  \n", 
                "#      \"Mie theory\"  \n", 
                "#      \"anomalous diffraction approximation\"  \n", 
                "#      \"Other: [Please specify]\"  \n", 
                "# TODO\n", 
                "\n", 
                "# PROPERTY QUALITY CONTROL STATUS:  \n", 
                "# 0=draft, 1=in-review, 2=reviewed  \n", 
                "DOC.set_qc_status(0)"
            ], 
            "outputs": [], 
            "metadata": {
                "collapsed": true
            }
        }, 
        {
            "source": [
                "# 22. Radiation --&gt; Lw Gases  \n", 
                "*Longwave radiative properties of gases*"
            ], 
            "cell_type": "markdown", 
            "metadata": {}
        }, 
        {
            "source": [
                "### 22.1. General Interactions\n", 
                " *General longwave radiative interactions with gases*\n", 
                "\n", 
                "**Is Required:** TRUE&nbsp;&nbsp;&nbsp;&nbsp;**Type:** ENUM&nbsp;&nbsp;&nbsp;&nbsp;**Cardinality:** 1.N"
            ], 
            "cell_type": "markdown", 
            "metadata": {}
        }, 
        {
            "execution_count": null, 
            "cell_type": "code", 
            "source": [
                "# PROPERTY ID - DO NOT EDIT !  \n", 
                "DOC.set_id('cmip6.atmos.radiation.lw_gases.general_interactions')  \n", 
                "\n", 
                "# PROPERTY VALUE(S): \n", 
                "# Set as follows: DOC.set_value(\"value\")  \n", 
                "# Valid Choices: \n", 
                "#      \"scattering\"  \n", 
                "#      \"emission/absorption\"  \n", 
                "#      \"Other: [Please specify]\"  \n", 
                "# TODO\n", 
                "\n", 
                "# PROPERTY QUALITY CONTROL STATUS:  \n", 
                "# 0=draft, 1=in-review, 2=reviewed  \n", 
                "DOC.set_qc_status(0)"
            ], 
            "outputs": [], 
            "metadata": {
                "collapsed": true
            }
        }, 
        {
            "source": [
                "### 22.2. Optical Methods\n", 
                " *Optical methods applicable to gases in the longwave radiation scheme*\n", 
                "\n", 
                "**Is Required:** TRUE&nbsp;&nbsp;&nbsp;&nbsp;**Type:** ENUM&nbsp;&nbsp;&nbsp;&nbsp;**Cardinality:** 1.N"
            ], 
            "cell_type": "markdown", 
            "metadata": {}
        }, 
        {
            "execution_count": null, 
            "cell_type": "code", 
            "source": [
                "# PROPERTY ID - DO NOT EDIT !  \n", 
                "DOC.set_id('cmip6.atmos.radiation.lw_gases.optical_methods')  \n", 
                "\n", 
                "# PROPERTY VALUE(S): \n", 
                "# Set as follows: DOC.set_value(\"value\")  \n", 
                "# Valid Choices: \n", 
                "#      \"T-matrix\"  \n", 
                "#      \"geometric optics\"  \n", 
                "#      \"finite difference time domain (FDTD)\"  \n", 
                "#      \"Mie theory\"  \n", 
                "#      \"anomalous diffraction approximation\"  \n", 
                "#      \"Other: [Please specify]\"  \n", 
                "# TODO\n", 
                "\n", 
                "# PROPERTY QUALITY CONTROL STATUS:  \n", 
                "# 0=draft, 1=in-review, 2=reviewed  \n", 
                "DOC.set_qc_status(0)"
            ], 
            "outputs": [], 
            "metadata": {
                "collapsed": true
            }
        }, 
        {
            "source": [
                "# 23. Turbulence Convection --&gt; Boundary Layer Turbulence  \n", 
                "*Properties of the boundary layer turbulence scheme*"
            ], 
            "cell_type": "markdown", 
            "metadata": {}
        }, 
        {
            "source": [
                "### 23.1. Scheme Name\n", 
                " *Boundary layer turbulence scheme name*\n", 
                "\n", 
                "**Is Required:** FALSE&nbsp;&nbsp;&nbsp;&nbsp;**Type:** ENUM&nbsp;&nbsp;&nbsp;&nbsp;**Cardinality:** 0.1"
            ], 
            "cell_type": "markdown", 
            "metadata": {}
        }, 
        {
            "execution_count": null, 
            "cell_type": "code", 
            "source": [
                "# PROPERTY ID - DO NOT EDIT !  \n", 
                "DOC.set_id('cmip6.atmos.turbulence_convection.boundary_layer_turbulence.scheme_name')  \n", 
                "\n", 
                "# PROPERTY VALUE: \n", 
                "# Set as follows: DOC.set_value(\"value\")  \n", 
                "# Valid Choices: \n", 
                "#      \"Mellor-Yamada\"  \n", 
                "#      \"Holtslag-Boville\"  \n", 
                "#      \"EDMF\"  \n", 
                "#      \"Other: [Please specify]\"  \n", 
                "# TODO\n", 
                "\n", 
                "# PROPERTY QUALITY CONTROL STATUS:  \n", 
                "# 0=draft, 1=in-review, 2=reviewed  \n", 
                "DOC.set_qc_status(0)"
            ], 
            "outputs": [], 
            "metadata": {
                "collapsed": true
            }
        }, 
        {
            "source": [
                "### 23.2. Scheme Type\n", 
                " *Boundary layer turbulence scheme type*\n", 
                "\n", 
                "**Is Required:** TRUE&nbsp;&nbsp;&nbsp;&nbsp;**Type:** ENUM&nbsp;&nbsp;&nbsp;&nbsp;**Cardinality:** 1.N"
            ], 
            "cell_type": "markdown", 
            "metadata": {}
        }, 
        {
            "execution_count": null, 
            "cell_type": "code", 
            "source": [
                "# PROPERTY ID - DO NOT EDIT !  \n", 
                "DOC.set_id('cmip6.atmos.turbulence_convection.boundary_layer_turbulence.scheme_type')  \n", 
                "\n", 
                "# PROPERTY VALUE(S): \n", 
                "# Set as follows: DOC.set_value(\"value\")  \n", 
                "# Valid Choices: \n", 
                "#      \"TKE prognostic\"  \n", 
                "#      \"TKE diagnostic\"  \n", 
                "#      \"TKE coupled with water\"  \n", 
                "#      \"vertical profile of Kz\"  \n", 
                "#      \"non-local diffusion\"  \n", 
                "#      \"Monin-Obukhov similarity\"  \n", 
                "#      \"Coastal Buddy Scheme\"  \n", 
                "#      \"Coupled with convection\"  \n", 
                "#      \"Coupled with gravity waves\"  \n", 
                "#      \"Depth capped at cloud base\"  \n", 
                "#      \"Other: [Please specify]\"  \n", 
                "# TODO\n", 
                "\n", 
                "# PROPERTY QUALITY CONTROL STATUS:  \n", 
                "# 0=draft, 1=in-review, 2=reviewed  \n", 
                "DOC.set_qc_status(0)"
            ], 
            "outputs": [], 
            "metadata": {
                "collapsed": true
            }
        }, 
        {
            "source": [
                "### 23.3. Closure Order\n", 
                " *Boundary layer turbulence scheme closure order*\n", 
                "\n", 
                "**Is Required:** TRUE&nbsp;&nbsp;&nbsp;&nbsp;**Type:** INTEGER&nbsp;&nbsp;&nbsp;&nbsp;**Cardinality:** 1.1"
            ], 
            "cell_type": "markdown", 
            "metadata": {}
        }, 
        {
            "execution_count": null, 
            "cell_type": "code", 
            "source": [
                "# PROPERTY ID - DO NOT EDIT !  \n", 
                "DOC.set_id('cmip6.atmos.turbulence_convection.boundary_layer_turbulence.closure_order')  \n", 
                "\n", 
                "# PROPERTY VALUE: \n", 
                "# Set as follows: DOC.set_value(value)  \n", 
                "# TODO\n", 
                "\n", 
                "# PROPERTY QUALITY CONTROL STATUS:  \n", 
                "# 0=draft, 1=in-review, 2=reviewed  \n", 
                "DOC.set_qc_status(0)"
            ], 
            "outputs": [], 
            "metadata": {
                "collapsed": true
            }
        }, 
        {
            "source": [
                "### 23.4. Counter Gradient\n", 
                " *Uses boundary layer turbulence scheme counter gradient*\n", 
                "\n", 
                "**Is Required:** TRUE&nbsp;&nbsp;&nbsp;&nbsp;**Type:** BOOLEAN&nbsp;&nbsp;&nbsp;&nbsp;**Cardinality:** 1.1"
            ], 
            "cell_type": "markdown", 
            "metadata": {}
        }, 
        {
            "execution_count": null, 
            "cell_type": "code", 
            "source": [
                "# PROPERTY ID - DO NOT EDIT !  \n", 
                "DOC.set_id('cmip6.atmos.turbulence_convection.boundary_layer_turbulence.counter_gradient')  \n", 
                "\n", 
                "# PROPERTY VALUE: \n", 
                "# Set as follows: DOC.set_value(value)  \n", 
                "# Valid Choices: \n", 
                "#     True  \n", 
                "#     False  \n", 
                "# TODO\n", 
                "\n", 
                "# PROPERTY QUALITY CONTROL STATUS:  \n", 
                "# 0=draft, 1=in-review, 2=reviewed  \n", 
                "DOC.set_qc_status(0)"
            ], 
            "outputs": [], 
            "metadata": {
                "collapsed": true
            }
        }, 
        {
            "source": [
                "# 24. Turbulence Convection --&gt; Deep Convection  \n", 
                "*Properties of the deep convection scheme*"
            ], 
            "cell_type": "markdown", 
            "metadata": {}
        }, 
        {
            "source": [
                "### 24.1. Scheme Name\n", 
                " *Deep convection scheme name*\n", 
                "\n", 
                "**Is Required:** FALSE&nbsp;&nbsp;&nbsp;&nbsp;**Type:** STRING&nbsp;&nbsp;&nbsp;&nbsp;**Cardinality:** 0.1"
            ], 
            "cell_type": "markdown", 
            "metadata": {}
        }, 
        {
            "execution_count": null, 
            "cell_type": "code", 
            "source": [
                "# PROPERTY ID - DO NOT EDIT !  \n", 
                "DOC.set_id('cmip6.atmos.turbulence_convection.deep_convection.scheme_name')  \n", 
                "\n", 
                "# PROPERTY VALUE: \n", 
                "# Set as follows: DOC.set_value(\"value\")  \n", 
                "# TODO\n", 
                "\n", 
                "# PROPERTY QUALITY CONTROL STATUS:  \n", 
                "# 0=draft, 1=in-review, 2=reviewed  \n", 
                "DOC.set_qc_status(0)"
            ], 
            "outputs": [], 
            "metadata": {
                "collapsed": true
            }
        }, 
        {
            "source": [
                "### 24.2. Scheme Type\n", 
                " *Deep convection scheme type*\n", 
                "\n", 
                "**Is Required:** TRUE&nbsp;&nbsp;&nbsp;&nbsp;**Type:** ENUM&nbsp;&nbsp;&nbsp;&nbsp;**Cardinality:** 1.N"
            ], 
            "cell_type": "markdown", 
            "metadata": {}
        }, 
        {
            "execution_count": null, 
            "cell_type": "code", 
            "source": [
                "# PROPERTY ID - DO NOT EDIT !  \n", 
                "DOC.set_id('cmip6.atmos.turbulence_convection.deep_convection.scheme_type')  \n", 
                "\n", 
                "# PROPERTY VALUE(S): \n", 
                "# Set as follows: DOC.set_value(\"value\")  \n", 
                "# Valid Choices: \n", 
                "#      \"mass-flux\"  \n", 
                "#      \"adjustment\"  \n", 
                "#      \"plume ensemble\"  \n", 
                "#      \"Other: [Please specify]\"  \n", 
                "# TODO\n", 
                "\n", 
                "# PROPERTY QUALITY CONTROL STATUS:  \n", 
                "# 0=draft, 1=in-review, 2=reviewed  \n", 
                "DOC.set_qc_status(0)"
            ], 
            "outputs": [], 
            "metadata": {
                "collapsed": true
            }
        }, 
        {
            "source": [
                "### 24.3. Scheme Method\n", 
                " *Deep convection scheme method*\n", 
                "\n", 
                "**Is Required:** TRUE&nbsp;&nbsp;&nbsp;&nbsp;**Type:** ENUM&nbsp;&nbsp;&nbsp;&nbsp;**Cardinality:** 1.N"
            ], 
            "cell_type": "markdown", 
            "metadata": {}
        }, 
        {
            "execution_count": null, 
            "cell_type": "code", 
            "source": [
                "# PROPERTY ID - DO NOT EDIT !  \n", 
                "DOC.set_id('cmip6.atmos.turbulence_convection.deep_convection.scheme_method')  \n", 
                "\n", 
                "# PROPERTY VALUE(S): \n", 
                "# Set as follows: DOC.set_value(\"value\")  \n", 
                "# Valid Choices: \n", 
                "#      \"CAPE\"  \n", 
                "#      \"bulk\"  \n", 
                "#      \"ensemble\"  \n", 
                "#      \"Other: [Please specify]\"  \n", 
                "# TODO\n", 
                "\n", 
                "# PROPERTY QUALITY CONTROL STATUS:  \n", 
                "# 0=draft, 1=in-review, 2=reviewed  \n", 
                "DOC.set_qc_status(0)"
            ], 
            "outputs": [], 
            "metadata": {
                "collapsed": true
            }
        }, 
        {
            "source": [
                "### 24.4. Processes\n", 
                " *Physical processes taken into account in the parameterisatioin of deep convection*\n", 
                "\n", 
                "**Is Required:** TRUE&nbsp;&nbsp;&nbsp;&nbsp;**Type:** ENUM&nbsp;&nbsp;&nbsp;&nbsp;**Cardinality:** 1.N"
            ], 
            "cell_type": "markdown", 
            "metadata": {}
        }, 
        {
            "execution_count": null, 
            "cell_type": "code", 
            "source": [
                "# PROPERTY ID - DO NOT EDIT !  \n", 
                "DOC.set_id('cmip6.atmos.turbulence_convection.deep_convection.processes')  \n", 
                "\n", 
                "# PROPERTY VALUE(S): \n", 
                "# Set as follows: DOC.set_value(\"value\")  \n", 
                "# Valid Choices: \n", 
                "#      \"vertical momentum transport\"  \n", 
                "#      \"convective momentum transport\"  \n", 
                "#      \"entrainment\"  \n", 
                "#      \"detrainment\"  \n", 
                "#      \"penetrative convection\"  \n", 
                "#      \"updrafts\"  \n", 
                "#      \"downdrafts\"  \n", 
                "#      \"radiative effect of anvils\"  \n", 
                "#      \"Other: [Please specify]\"  \n", 
                "# TODO\n", 
                "\n", 
                "# PROPERTY QUALITY CONTROL STATUS:  \n", 
                "# 0=draft, 1=in-review, 2=reviewed  \n", 
                "DOC.set_qc_status(0)"
            ], 
            "outputs": [], 
            "metadata": {
                "collapsed": true
            }
        }, 
        {
            "source": [
                "# 25. Turbulence Convection --&gt; Shallow Convection  \n", 
                "*Properties of the shallow convection scheme*"
            ], 
            "cell_type": "markdown", 
            "metadata": {}
        }, 
        {
            "source": [
                "### 25.1. Scheme Name\n", 
                " *Shallow convection scheme name*\n", 
                "\n", 
                "**Is Required:** FALSE&nbsp;&nbsp;&nbsp;&nbsp;**Type:** STRING&nbsp;&nbsp;&nbsp;&nbsp;**Cardinality:** 0.1"
            ], 
            "cell_type": "markdown", 
            "metadata": {}
        }, 
        {
            "execution_count": null, 
            "cell_type": "code", 
            "source": [
                "# PROPERTY ID - DO NOT EDIT !  \n", 
                "DOC.set_id('cmip6.atmos.turbulence_convection.shallow_convection.scheme_name')  \n", 
                "\n", 
                "# PROPERTY VALUE: \n", 
                "# Set as follows: DOC.set_value(\"value\")  \n", 
                "# TODO\n", 
                "\n", 
                "# PROPERTY QUALITY CONTROL STATUS:  \n", 
                "# 0=draft, 1=in-review, 2=reviewed  \n", 
                "DOC.set_qc_status(0)"
            ], 
            "outputs": [], 
            "metadata": {
                "collapsed": true
            }
        }, 
        {
            "source": [
                "### 25.2. Scheme Type\n", 
                " *shallow convection scheme type*\n", 
                "\n", 
                "**Is Required:** TRUE&nbsp;&nbsp;&nbsp;&nbsp;**Type:** ENUM&nbsp;&nbsp;&nbsp;&nbsp;**Cardinality:** 1.N"
            ], 
            "cell_type": "markdown", 
            "metadata": {}
        }, 
        {
            "execution_count": null, 
            "cell_type": "code", 
            "source": [
                "# PROPERTY ID - DO NOT EDIT !  \n", 
                "DOC.set_id('cmip6.atmos.turbulence_convection.shallow_convection.scheme_type')  \n", 
                "\n", 
                "# PROPERTY VALUE(S): \n", 
                "# Set as follows: DOC.set_value(\"value\")  \n", 
                "# Valid Choices: \n", 
                "#      \"mass-flux\"  \n", 
                "#      \"cumulus-capped boundary layer\"  \n", 
                "#      \"Other: [Please specify]\"  \n", 
                "# TODO\n", 
                "\n", 
                "# PROPERTY QUALITY CONTROL STATUS:  \n", 
                "# 0=draft, 1=in-review, 2=reviewed  \n", 
                "DOC.set_qc_status(0)"
            ], 
            "outputs": [], 
            "metadata": {
                "collapsed": true
            }
        }, 
        {
            "source": [
                "### 25.3. Scheme Method\n", 
                " *shallow convection scheme method*\n", 
                "\n", 
                "**Is Required:** TRUE&nbsp;&nbsp;&nbsp;&nbsp;**Type:** ENUM&nbsp;&nbsp;&nbsp;&nbsp;**Cardinality:** 1.1"
            ], 
            "cell_type": "markdown", 
            "metadata": {}
        }, 
        {
            "execution_count": null, 
            "cell_type": "code", 
            "source": [
                "# PROPERTY ID - DO NOT EDIT !  \n", 
                "DOC.set_id('cmip6.atmos.turbulence_convection.shallow_convection.scheme_method')  \n", 
                "\n", 
                "# PROPERTY VALUE: \n", 
                "# Set as follows: DOC.set_value(\"value\")  \n", 
                "# Valid Choices: \n", 
                "#      \"same as deep (unified)\"  \n", 
                "#      \"included in boundary layer turbulence\"  \n", 
                "#      \"separate diagnosis\"  \n", 
                "# TODO\n", 
                "\n", 
                "# PROPERTY QUALITY CONTROL STATUS:  \n", 
                "# 0=draft, 1=in-review, 2=reviewed  \n", 
                "DOC.set_qc_status(0)"
            ], 
            "outputs": [], 
            "metadata": {
                "collapsed": true
            }
        }, 
        {
            "source": [
                "### 25.4. Processes\n", 
                " *Physical processes taken into account in the parameterisation of shallow convection*\n", 
                "\n", 
                "**Is Required:** TRUE&nbsp;&nbsp;&nbsp;&nbsp;**Type:** ENUM&nbsp;&nbsp;&nbsp;&nbsp;**Cardinality:** 1.N"
            ], 
            "cell_type": "markdown", 
            "metadata": {}
        }, 
        {
            "execution_count": null, 
            "cell_type": "code", 
            "source": [
                "# PROPERTY ID - DO NOT EDIT !  \n", 
                "DOC.set_id('cmip6.atmos.turbulence_convection.shallow_convection.processes')  \n", 
                "\n", 
                "# PROPERTY VALUE(S): \n", 
                "# Set as follows: DOC.set_value(\"value\")  \n", 
                "# Valid Choices: \n", 
                "#      \"convective momentum transport\"  \n", 
                "#      \"entrainment\"  \n", 
                "#      \"detrainment\"  \n", 
                "#      \"penetrative convection\"  \n", 
                "#      \"Other: [Please specify]\"  \n", 
                "# TODO\n", 
                "\n", 
                "# PROPERTY QUALITY CONTROL STATUS:  \n", 
                "# 0=draft, 1=in-review, 2=reviewed  \n", 
                "DOC.set_qc_status(0)"
            ], 
            "outputs": [], 
            "metadata": {
                "collapsed": true
            }
        }, 
        {
            "source": [
                "# 26. Microphysics Precipitation --&gt; Large Scale Precipitation  \n", 
                "*Properties of the large scale precipitation scheme*"
            ], 
            "cell_type": "markdown", 
            "metadata": {}
        }, 
        {
            "source": [
                "### 26.1. Scheme Name\n", 
                " *Commonly used name of the large scale precipitation parameterisation scheme*\n", 
                "\n", 
                "**Is Required:** FALSE&nbsp;&nbsp;&nbsp;&nbsp;**Type:** STRING&nbsp;&nbsp;&nbsp;&nbsp;**Cardinality:** 0.1"
            ], 
            "cell_type": "markdown", 
            "metadata": {}
        }, 
        {
            "execution_count": null, 
            "cell_type": "code", 
            "source": [
                "# PROPERTY ID - DO NOT EDIT !  \n", 
                "DOC.set_id('cmip6.atmos.microphysics_precipitation.large_scale_precipitation.scheme_name')  \n", 
                "\n", 
                "# PROPERTY VALUE: \n", 
                "# Set as follows: DOC.set_value(\"value\")  \n", 
                "# TODO\n", 
                "\n", 
                "# PROPERTY QUALITY CONTROL STATUS:  \n", 
                "# 0=draft, 1=in-review, 2=reviewed  \n", 
                "DOC.set_qc_status(0)"
            ], 
            "outputs": [], 
            "metadata": {
                "collapsed": true
            }
        }, 
        {
            "source": [
                "### 26.2. Hydrometeors\n", 
                " *Precipitating hydrometeors taken into account in the large scale precipitation scheme*\n", 
                "\n", 
                "**Is Required:** TRUE&nbsp;&nbsp;&nbsp;&nbsp;**Type:** ENUM&nbsp;&nbsp;&nbsp;&nbsp;**Cardinality:** 1.N"
            ], 
            "cell_type": "markdown", 
            "metadata": {}
        }, 
        {
            "execution_count": null, 
            "cell_type": "code", 
            "source": [
                "# PROPERTY ID - DO NOT EDIT !  \n", 
                "DOC.set_id('cmip6.atmos.microphysics_precipitation.large_scale_precipitation.hydrometeors')  \n", 
                "\n", 
                "# PROPERTY VALUE(S): \n", 
                "# Set as follows: DOC.set_value(\"value\")  \n", 
                "# Valid Choices: \n", 
                "#      \"liquid rain\"  \n", 
                "#      \"snow\"  \n", 
                "#      \"hail\"  \n", 
                "#      \"graupel\"  \n", 
                "#      \"Other: [Please specify]\"  \n", 
                "# TODO\n", 
                "\n", 
                "# PROPERTY QUALITY CONTROL STATUS:  \n", 
                "# 0=draft, 1=in-review, 2=reviewed  \n", 
                "DOC.set_qc_status(0)"
            ], 
            "outputs": [], 
            "metadata": {
                "collapsed": true
            }
        }, 
        {
            "source": [
                "# 27. Microphysics Precipitation --&gt; Cloud Microphysics  \n", 
                "*Properties of the cloud microphysics scheme*"
            ], 
            "cell_type": "markdown", 
            "metadata": {}
        }, 
        {
            "source": [
                "### 27.1. Scheme Name\n", 
                " *Commonly used name of the microphysics parameterisation scheme.*\n", 
                "\n", 
                "**Is Required:** FALSE&nbsp;&nbsp;&nbsp;&nbsp;**Type:** STRING&nbsp;&nbsp;&nbsp;&nbsp;**Cardinality:** 0.1"
            ], 
            "cell_type": "markdown", 
            "metadata": {}
        }, 
        {
            "execution_count": null, 
            "cell_type": "code", 
            "source": [
                "# PROPERTY ID - DO NOT EDIT !  \n", 
                "DOC.set_id('cmip6.atmos.microphysics_precipitation.cloud_microphysics.scheme_name')  \n", 
                "\n", 
                "# PROPERTY VALUE: \n", 
                "# Set as follows: DOC.set_value(\"value\")  \n", 
                "# TODO\n", 
                "\n", 
                "# PROPERTY QUALITY CONTROL STATUS:  \n", 
                "# 0=draft, 1=in-review, 2=reviewed  \n", 
                "DOC.set_qc_status(0)"
            ], 
            "outputs": [], 
            "metadata": {
                "collapsed": true
            }
        }, 
        {
            "source": [
                "### 27.2. Processes\n", 
                " *Cloud microphysics processes*\n", 
                "\n", 
                "**Is Required:** TRUE&nbsp;&nbsp;&nbsp;&nbsp;**Type:** ENUM&nbsp;&nbsp;&nbsp;&nbsp;**Cardinality:** 1.N"
            ], 
            "cell_type": "markdown", 
            "metadata": {}
        }, 
        {
            "execution_count": null, 
            "cell_type": "code", 
            "source": [
                "# PROPERTY ID - DO NOT EDIT !  \n", 
                "DOC.set_id('cmip6.atmos.microphysics_precipitation.cloud_microphysics.processes')  \n", 
                "\n", 
                "# PROPERTY VALUE(S): \n", 
                "# Set as follows: DOC.set_value(\"value\")  \n", 
                "# Valid Choices: \n", 
                "#      \"mixed phase\"  \n", 
                "#      \"cloud droplets\"  \n", 
                "#      \"cloud ice\"  \n", 
                "#      \"ice nucleation\"  \n", 
                "#      \"water vapour deposition\"  \n", 
                "#      \"effect of raindrops\"  \n", 
                "#      \"effect of snow\"  \n", 
                "#      \"effect of graupel\"  \n", 
                "#      \"Other: [Please specify]\"  \n", 
                "# TODO\n", 
                "\n", 
                "# PROPERTY QUALITY CONTROL STATUS:  \n", 
                "# 0=draft, 1=in-review, 2=reviewed  \n", 
                "DOC.set_qc_status(0)"
            ], 
            "outputs": [], 
            "metadata": {
                "collapsed": true
            }
        }, 
        {
            "source": [
                "# 28. Cloud Scheme  \n", 
                "*Characteristics of the cloud scheme*"
            ], 
            "cell_type": "markdown", 
            "metadata": {}
        }, 
        {
            "source": [
                "### 28.1. Name\n", 
                " *Commonly used name for the cloud scheme*\n", 
                "\n", 
                "**Is Required:** FALSE&nbsp;&nbsp;&nbsp;&nbsp;**Type:** STRING&nbsp;&nbsp;&nbsp;&nbsp;**Cardinality:** 0.1"
            ], 
            "cell_type": "markdown", 
            "metadata": {}
        }, 
        {
            "execution_count": null, 
            "cell_type": "code", 
            "source": [
                "# PROPERTY ID - DO NOT EDIT !  \n", 
                "DOC.set_id('cmip6.atmos.cloud_scheme.name')  \n", 
                "\n", 
                "# PROPERTY VALUE: \n", 
                "# Set as follows: DOC.set_value(\"value\")  \n", 
                "# TODO\n", 
                "\n", 
                "# PROPERTY QUALITY CONTROL STATUS:  \n", 
                "# 0=draft, 1=in-review, 2=reviewed  \n", 
                "DOC.set_qc_status(0)"
            ], 
            "outputs": [], 
            "metadata": {
                "collapsed": true
            }
        }, 
        {
            "source": [
                "### 28.2. Atmos Coupling\n", 
                " *Atmosphere components that are linked to the cloud scheme*\n", 
                "\n", 
                "**Is Required:** FALSE&nbsp;&nbsp;&nbsp;&nbsp;**Type:** ENUM&nbsp;&nbsp;&nbsp;&nbsp;**Cardinality:** 0.N"
            ], 
            "cell_type": "markdown", 
            "metadata": {}
        }, 
        {
            "execution_count": null, 
            "cell_type": "code", 
            "source": [
                "# PROPERTY ID - DO NOT EDIT !  \n", 
                "DOC.set_id('cmip6.atmos.cloud_scheme.atmos_coupling')  \n", 
                "\n", 
                "# PROPERTY VALUE(S): \n", 
                "# Set as follows: DOC.set_value(\"value\")  \n", 
                "# Valid Choices: \n", 
                "#      \"atmosphere_radiation\"  \n", 
                "#      \"atmosphere_microphysics_precipitation\"  \n", 
                "#      \"atmosphere_turbulence_convection\"  \n", 
                "#      \"atmosphere_gravity_waves\"  \n", 
                "#      \"atmosphere_solar\"  \n", 
                "#      \"atmosphere_volcano\"  \n", 
                "#      \"atmosphere_cloud_simulator\"  \n", 
                "# TODO\n", 
                "\n", 
                "# PROPERTY QUALITY CONTROL STATUS:  \n", 
                "# 0=draft, 1=in-review, 2=reviewed  \n", 
                "DOC.set_qc_status(0)"
            ], 
            "outputs": [], 
            "metadata": {
                "collapsed": true
            }
        }, 
        {
            "source": [
                "### 28.3. Uses Separate Treatment\n", 
                " *Different cloud schemes for the different types of clouds (convective, stratiform and boundary layer)*\n", 
                "\n", 
                "**Is Required:** TRUE&nbsp;&nbsp;&nbsp;&nbsp;**Type:** BOOLEAN&nbsp;&nbsp;&nbsp;&nbsp;**Cardinality:** 1.1"
            ], 
            "cell_type": "markdown", 
            "metadata": {}
        }, 
        {
            "execution_count": null, 
            "cell_type": "code", 
            "source": [
                "# PROPERTY ID - DO NOT EDIT !  \n", 
                "DOC.set_id('cmip6.atmos.cloud_scheme.uses_separate_treatment')  \n", 
                "\n", 
                "# PROPERTY VALUE: \n", 
                "# Set as follows: DOC.set_value(value)  \n", 
                "# Valid Choices: \n", 
                "#     True  \n", 
                "#     False  \n", 
                "# TODO\n", 
                "\n", 
                "# PROPERTY QUALITY CONTROL STATUS:  \n", 
                "# 0=draft, 1=in-review, 2=reviewed  \n", 
                "DOC.set_qc_status(0)"
            ], 
            "outputs": [], 
            "metadata": {
                "collapsed": true
            }
        }, 
        {
            "source": [
                "### 28.4. Cloud Overlap Method\n", 
                " *Method for taking into account overlapping of cloud layers*\n", 
                "\n", 
                "**Is Required:** TRUE&nbsp;&nbsp;&nbsp;&nbsp;**Type:** ENUM&nbsp;&nbsp;&nbsp;&nbsp;**Cardinality:** 1.1"
            ], 
            "cell_type": "markdown", 
            "metadata": {}
        }, 
        {
            "execution_count": null, 
            "cell_type": "code", 
            "source": [
                "# PROPERTY ID - DO NOT EDIT !  \n", 
                "DOC.set_id('cmip6.atmos.cloud_scheme.cloud_overlap_method')  \n", 
                "\n", 
                "# PROPERTY VALUE: \n", 
                "# Set as follows: DOC.set_value(\"value\")  \n", 
                "# Valid Choices: \n", 
                "#      \"random\"  \n", 
                "#      \"maximum\"  \n", 
                "#      \"maximum-random\"  \n", 
                "#      \"exponential\"  \n", 
                "#      \"Other: [Please specify]\"  \n", 
                "# TODO\n", 
                "\n", 
                "# PROPERTY QUALITY CONTROL STATUS:  \n", 
                "# 0=draft, 1=in-review, 2=reviewed  \n", 
                "DOC.set_qc_status(0)"
            ], 
            "outputs": [], 
            "metadata": {
                "collapsed": true
            }
        }, 
        {
            "source": [
                "### 28.5. Cloud Inhomogeneity\n", 
                " *Method for taking into account horizontal cloud inhomogeneity*\n", 
                "\n", 
                "**Is Required:** TRUE&nbsp;&nbsp;&nbsp;&nbsp;**Type:** ENUM&nbsp;&nbsp;&nbsp;&nbsp;**Cardinality:** 1.1"
            ], 
            "cell_type": "markdown", 
            "metadata": {}
        }, 
        {
            "execution_count": null, 
            "cell_type": "code", 
            "source": [
                "# PROPERTY ID - DO NOT EDIT !  \n", 
                "DOC.set_id('cmip6.atmos.cloud_scheme.cloud_inhomogeneity')  \n", 
                "\n", 
                "# PROPERTY VALUE: \n", 
                "# Set as follows: DOC.set_value(\"value\")  \n", 
                "# Valid Choices: \n", 
                "#      \"Monte Carlo Independent Column Approximation\"  \n", 
                "#      \"Triplecloud\"  \n", 
                "#      \"analytic\"  \n", 
                "#      \"Other: [Please specify]\"  \n", 
                "# TODO\n", 
                "\n", 
                "# PROPERTY QUALITY CONTROL STATUS:  \n", 
                "# 0=draft, 1=in-review, 2=reviewed  \n", 
                "DOC.set_qc_status(0)"
            ], 
            "outputs": [], 
            "metadata": {
                "collapsed": true
            }
        }, 
        {
            "source": [
                "### 28.6. Processes\n", 
                " *Processes included in the cloud scheme*\n", 
                "\n", 
                "**Is Required:** TRUE&nbsp;&nbsp;&nbsp;&nbsp;**Type:** ENUM&nbsp;&nbsp;&nbsp;&nbsp;**Cardinality:** 1.N"
            ], 
            "cell_type": "markdown", 
            "metadata": {}
        }, 
        {
            "execution_count": null, 
            "cell_type": "code", 
            "source": [
                "# PROPERTY ID - DO NOT EDIT !  \n", 
                "DOC.set_id('cmip6.atmos.cloud_scheme.processes')  \n", 
                "\n", 
                "# PROPERTY VALUE(S): \n", 
                "# Set as follows: DOC.set_value(\"value\")  \n", 
                "# Valid Choices: \n", 
                "#      \"entrainment\"  \n", 
                "#      \"detrainment\"  \n", 
                "#      \"bulk cloud\"  \n", 
                "#      \"Other: [Please specify]\"  \n", 
                "# TODO\n", 
                "\n", 
                "# PROPERTY QUALITY CONTROL STATUS:  \n", 
                "# 0=draft, 1=in-review, 2=reviewed  \n", 
                "DOC.set_qc_status(0)"
            ], 
            "outputs": [], 
            "metadata": {
                "collapsed": true
            }
        }, 
        {
            "source": [
                "# 29. Cloud Scheme --&gt; Sub Grid Scale Water Distribution  \n", 
                "*Sub-grid scale water distribution*"
            ], 
            "cell_type": "markdown", 
            "metadata": {}
        }, 
        {
            "source": [
                "### 29.1. Type\n", 
                " *Sub-grid scale water distribution type*\n", 
                "\n", 
                "**Is Required:** TRUE&nbsp;&nbsp;&nbsp;&nbsp;**Type:** ENUM&nbsp;&nbsp;&nbsp;&nbsp;**Cardinality:** 1.1"
            ], 
            "cell_type": "markdown", 
            "metadata": {}
        }, 
        {
            "execution_count": null, 
            "cell_type": "code", 
            "source": [
                "# PROPERTY ID - DO NOT EDIT !  \n", 
                "DOC.set_id('cmip6.atmos.cloud_scheme.sub_grid_scale_water_distribution.type')  \n", 
                "\n", 
                "# PROPERTY VALUE: \n", 
                "# Set as follows: DOC.set_value(\"value\")  \n", 
                "# Valid Choices: \n", 
                "#      \"prognostic\"  \n", 
                "#      \"diagnostic\"  \n", 
                "# TODO\n", 
                "\n", 
                "# PROPERTY QUALITY CONTROL STATUS:  \n", 
                "# 0=draft, 1=in-review, 2=reviewed  \n", 
                "DOC.set_qc_status(0)"
            ], 
            "outputs": [], 
            "metadata": {
                "collapsed": true
            }
        }, 
        {
            "source": [
                "### 29.2. Function Name\n", 
                " *Sub-grid scale water distribution function name*\n", 
                "\n", 
                "**Is Required:** TRUE&nbsp;&nbsp;&nbsp;&nbsp;**Type:** STRING&nbsp;&nbsp;&nbsp;&nbsp;**Cardinality:** 1.1"
            ], 
            "cell_type": "markdown", 
            "metadata": {}
        }, 
        {
            "execution_count": null, 
            "cell_type": "code", 
            "source": [
                "# PROPERTY ID - DO NOT EDIT !  \n", 
                "DOC.set_id('cmip6.atmos.cloud_scheme.sub_grid_scale_water_distribution.function_name')  \n", 
                "\n", 
                "# PROPERTY VALUE: \n", 
                "# Set as follows: DOC.set_value(\"value\")  \n", 
                "# TODO\n", 
                "\n", 
                "# PROPERTY QUALITY CONTROL STATUS:  \n", 
                "# 0=draft, 1=in-review, 2=reviewed  \n", 
                "DOC.set_qc_status(0)"
            ], 
            "outputs": [], 
            "metadata": {
                "collapsed": true
            }
        }, 
        {
            "source": [
                "### 29.3. Function Order\n", 
                " *Sub-grid scale water distribution function type*\n", 
                "\n", 
                "**Is Required:** TRUE&nbsp;&nbsp;&nbsp;&nbsp;**Type:** INTEGER&nbsp;&nbsp;&nbsp;&nbsp;**Cardinality:** 1.1"
            ], 
            "cell_type": "markdown", 
            "metadata": {}
        }, 
        {
            "execution_count": null, 
            "cell_type": "code", 
            "source": [
                "# PROPERTY ID - DO NOT EDIT !  \n", 
                "DOC.set_id('cmip6.atmos.cloud_scheme.sub_grid_scale_water_distribution.function_order')  \n", 
                "\n", 
                "# PROPERTY VALUE: \n", 
                "# Set as follows: DOC.set_value(value)  \n", 
                "# TODO\n", 
                "\n", 
                "# PROPERTY QUALITY CONTROL STATUS:  \n", 
                "# 0=draft, 1=in-review, 2=reviewed  \n", 
                "DOC.set_qc_status(0)"
            ], 
            "outputs": [], 
            "metadata": {
                "collapsed": true
            }
        }, 
        {
            "source": [
                "### 29.4. Convection Coupling\n", 
                " *Sub-grid scale water distribution coupling with convection*\n", 
                "\n", 
                "**Is Required:** TRUE&nbsp;&nbsp;&nbsp;&nbsp;**Type:** ENUM&nbsp;&nbsp;&nbsp;&nbsp;**Cardinality:** 1.N"
            ], 
            "cell_type": "markdown", 
            "metadata": {}
        }, 
        {
            "execution_count": null, 
            "cell_type": "code", 
            "source": [
                "# PROPERTY ID - DO NOT EDIT !  \n", 
                "DOC.set_id('cmip6.atmos.cloud_scheme.sub_grid_scale_water_distribution.convection_coupling')  \n", 
                "\n", 
                "# PROPERTY VALUE(S): \n", 
                "# Set as follows: DOC.set_value(\"value\")  \n", 
                "# Valid Choices: \n", 
                "#      \"coupled with deep\"  \n", 
                "#      \"coupled with shallow\"  \n", 
                "#      \"not coupled with convection\"  \n", 
                "# TODO\n", 
                "\n", 
                "# PROPERTY QUALITY CONTROL STATUS:  \n", 
                "# 0=draft, 1=in-review, 2=reviewed  \n", 
                "DOC.set_qc_status(0)"
            ], 
            "outputs": [], 
            "metadata": {
                "collapsed": true
            }
        }, 
        {
            "source": [
                "# 30. Cloud Simulator --&gt; Isscp Attributes  \n", 
                "*ISSCP Characteristics*"
            ], 
            "cell_type": "markdown", 
            "metadata": {}
        }, 
        {
            "source": [
                "### 30.1. Top Height\n", 
                " *Cloud simulator ISSCP top height*\n", 
                "\n", 
                "**Is Required:** TRUE&nbsp;&nbsp;&nbsp;&nbsp;**Type:** ENUM&nbsp;&nbsp;&nbsp;&nbsp;**Cardinality:** 1.N"
            ], 
            "cell_type": "markdown", 
            "metadata": {}
        }, 
        {
            "execution_count": null, 
            "cell_type": "code", 
            "source": [
                "# PROPERTY ID - DO NOT EDIT !  \n", 
                "DOC.set_id('cmip6.atmos.cloud_simulator.isscp_attributes.top_height')  \n", 
                "\n", 
                "# PROPERTY VALUE(S): \n", 
                "# Set as follows: DOC.set_value(\"value\")  \n", 
                "# Valid Choices: \n", 
                "#      \"no adjustment\"  \n", 
                "#      \"IR brightness\"  \n", 
                "#      \"visible optical depth\"  \n", 
                "#      \"Other: [Please specify]\"  \n", 
                "# TODO\n", 
                "\n", 
                "# PROPERTY QUALITY CONTROL STATUS:  \n", 
                "# 0=draft, 1=in-review, 2=reviewed  \n", 
                "DOC.set_qc_status(0)"
            ], 
            "outputs": [], 
            "metadata": {
                "collapsed": true
            }
        }, 
        {
            "source": [
                "### 30.2. Top Height Direction\n", 
                " *Cloud simulator ISSCP top height direction*\n", 
                "\n", 
                "**Is Required:** TRUE&nbsp;&nbsp;&nbsp;&nbsp;**Type:** ENUM&nbsp;&nbsp;&nbsp;&nbsp;**Cardinality:** 1.1"
            ], 
            "cell_type": "markdown", 
            "metadata": {}
        }, 
        {
            "execution_count": null, 
            "cell_type": "code", 
            "source": [
                "# PROPERTY ID - DO NOT EDIT !  \n", 
                "DOC.set_id('cmip6.atmos.cloud_simulator.isscp_attributes.top_height_direction')  \n", 
                "\n", 
                "# PROPERTY VALUE: \n", 
                "# Set as follows: DOC.set_value(\"value\")  \n", 
                "# Valid Choices: \n", 
                "#      \"lowest altitude level\"  \n", 
                "#      \"highest altitude level\"  \n", 
                "#      \"Other: [Please specify]\"  \n", 
                "# TODO\n", 
                "\n", 
                "# PROPERTY QUALITY CONTROL STATUS:  \n", 
                "# 0=draft, 1=in-review, 2=reviewed  \n", 
                "DOC.set_qc_status(0)"
            ], 
            "outputs": [], 
            "metadata": {
                "collapsed": true
            }
        }, 
        {
            "source": [
                "# 31. Cloud Simulator --&gt; Cosp Attributes  \n", 
                "*CFMIP Observational Simulator Package attributes*"
            ], 
            "cell_type": "markdown", 
            "metadata": {}
        }, 
        {
            "source": [
                "### 31.1. Run Configuration\n", 
                " *Cloud simulator COSP run configuration*\n", 
                "\n", 
                "**Is Required:** TRUE&nbsp;&nbsp;&nbsp;&nbsp;**Type:** ENUM&nbsp;&nbsp;&nbsp;&nbsp;**Cardinality:** 1.1"
            ], 
            "cell_type": "markdown", 
            "metadata": {}
        }, 
        {
            "execution_count": null, 
            "cell_type": "code", 
            "source": [
                "# PROPERTY ID - DO NOT EDIT !  \n", 
                "DOC.set_id('cmip6.atmos.cloud_simulator.cosp_attributes.run_configuration')  \n", 
                "\n", 
                "# PROPERTY VALUE: \n", 
                "# Set as follows: DOC.set_value(\"value\")  \n", 
                "# Valid Choices: \n", 
                "#      \"Inline\"  \n", 
                "#      \"Offline\"  \n", 
                "#      \"Other: [Please specify]\"  \n", 
                "# TODO\n", 
                "\n", 
                "# PROPERTY QUALITY CONTROL STATUS:  \n", 
                "# 0=draft, 1=in-review, 2=reviewed  \n", 
                "DOC.set_qc_status(0)"
            ], 
            "outputs": [], 
            "metadata": {
                "collapsed": true
            }
        }, 
        {
            "source": [
                "### 31.2. Number Of Grid Points\n", 
                " *Cloud simulator COSP number of grid points*\n", 
                "\n", 
                "**Is Required:** TRUE&nbsp;&nbsp;&nbsp;&nbsp;**Type:** INTEGER&nbsp;&nbsp;&nbsp;&nbsp;**Cardinality:** 1.1"
            ], 
            "cell_type": "markdown", 
            "metadata": {}
        }, 
        {
            "execution_count": null, 
            "cell_type": "code", 
            "source": [
                "# PROPERTY ID - DO NOT EDIT !  \n", 
                "DOC.set_id('cmip6.atmos.cloud_simulator.cosp_attributes.number_of_grid_points')  \n", 
                "\n", 
                "# PROPERTY VALUE: \n", 
                "# Set as follows: DOC.set_value(value)  \n", 
                "# TODO\n", 
                "\n", 
                "# PROPERTY QUALITY CONTROL STATUS:  \n", 
                "# 0=draft, 1=in-review, 2=reviewed  \n", 
                "DOC.set_qc_status(0)"
            ], 
            "outputs": [], 
            "metadata": {
                "collapsed": true
            }
        }, 
        {
            "source": [
                "### 31.3. Number Of Columns\n", 
                " *Cloud simulator COSP number of cloumns*\n", 
                "\n", 
                "**Is Required:** TRUE&nbsp;&nbsp;&nbsp;&nbsp;**Type:** INTEGER&nbsp;&nbsp;&nbsp;&nbsp;**Cardinality:** 1.1"
            ], 
            "cell_type": "markdown", 
            "metadata": {}
        }, 
        {
            "execution_count": null, 
            "cell_type": "code", 
            "source": [
                "# PROPERTY ID - DO NOT EDIT !  \n", 
                "DOC.set_id('cmip6.atmos.cloud_simulator.cosp_attributes.number_of_columns')  \n", 
                "\n", 
                "# PROPERTY VALUE: \n", 
                "# Set as follows: DOC.set_value(value)  \n", 
                "# TODO\n", 
                "\n", 
                "# PROPERTY QUALITY CONTROL STATUS:  \n", 
                "# 0=draft, 1=in-review, 2=reviewed  \n", 
                "DOC.set_qc_status(0)"
            ], 
            "outputs": [], 
            "metadata": {
                "collapsed": true
            }
        }, 
        {
            "source": [
                "### 31.4. Number Of Levels\n", 
                " *Cloud simulator COSP number of levels*\n", 
                "\n", 
                "**Is Required:** TRUE&nbsp;&nbsp;&nbsp;&nbsp;**Type:** INTEGER&nbsp;&nbsp;&nbsp;&nbsp;**Cardinality:** 1.1"
            ], 
            "cell_type": "markdown", 
            "metadata": {}
        }, 
        {
            "execution_count": null, 
            "cell_type": "code", 
            "source": [
                "# PROPERTY ID - DO NOT EDIT !  \n", 
                "DOC.set_id('cmip6.atmos.cloud_simulator.cosp_attributes.number_of_levels')  \n", 
                "\n", 
                "# PROPERTY VALUE: \n", 
                "# Set as follows: DOC.set_value(value)  \n", 
                "# TODO\n", 
                "\n", 
                "# PROPERTY QUALITY CONTROL STATUS:  \n", 
                "# 0=draft, 1=in-review, 2=reviewed  \n", 
                "DOC.set_qc_status(0)"
            ], 
            "outputs": [], 
            "metadata": {
                "collapsed": true
            }
        }, 
        {
            "source": [
                "# 32. Cloud Simulator --&gt; Radar Inputs  \n", 
                "*Characteristics of the cloud radar simulator*"
            ], 
            "cell_type": "markdown", 
            "metadata": {}
        }, 
        {
            "source": [
                "### 32.1. Frequency\n", 
                " *Cloud simulator radar frequency (Hz)*\n", 
                "\n", 
                "**Is Required:** TRUE&nbsp;&nbsp;&nbsp;&nbsp;**Type:** FLOAT&nbsp;&nbsp;&nbsp;&nbsp;**Cardinality:** 1.1"
            ], 
            "cell_type": "markdown", 
            "metadata": {}
        }, 
        {
            "execution_count": null, 
            "cell_type": "code", 
            "source": [
                "# PROPERTY ID - DO NOT EDIT !  \n", 
                "DOC.set_id('cmip6.atmos.cloud_simulator.radar_inputs.frequency')  \n", 
                "\n", 
                "# PROPERTY VALUE: \n", 
                "# Set as follows: DOC.set_value(value)  \n", 
                "# TODO\n", 
                "\n", 
                "# PROPERTY QUALITY CONTROL STATUS:  \n", 
                "# 0=draft, 1=in-review, 2=reviewed  \n", 
                "DOC.set_qc_status(0)"
            ], 
            "outputs": [], 
            "metadata": {
                "collapsed": true
            }
        }, 
        {
            "source": [
                "### 32.2. Type\n", 
                " *Cloud simulator radar type*\n", 
                "\n", 
                "**Is Required:** TRUE&nbsp;&nbsp;&nbsp;&nbsp;**Type:** ENUM&nbsp;&nbsp;&nbsp;&nbsp;**Cardinality:** 1.1"
            ], 
            "cell_type": "markdown", 
            "metadata": {}
        }, 
        {
            "execution_count": null, 
            "cell_type": "code", 
            "source": [
                "# PROPERTY ID - DO NOT EDIT !  \n", 
                "DOC.set_id('cmip6.atmos.cloud_simulator.radar_inputs.type')  \n", 
                "\n", 
                "# PROPERTY VALUE: \n", 
                "# Set as follows: DOC.set_value(\"value\")  \n", 
                "# Valid Choices: \n", 
                "#      \"surface\"  \n", 
                "#      \"space borne\"  \n", 
                "#      \"Other: [Please specify]\"  \n", 
                "# TODO\n", 
                "\n", 
                "# PROPERTY QUALITY CONTROL STATUS:  \n", 
                "# 0=draft, 1=in-review, 2=reviewed  \n", 
                "DOC.set_qc_status(0)"
            ], 
            "outputs": [], 
            "metadata": {
                "collapsed": true
            }
        }, 
        {
            "source": [
                "### 32.3. Gas Absorption\n", 
                " *Cloud simulator radar uses gas absorption*\n", 
                "\n", 
                "**Is Required:** TRUE&nbsp;&nbsp;&nbsp;&nbsp;**Type:** BOOLEAN&nbsp;&nbsp;&nbsp;&nbsp;**Cardinality:** 1.1"
            ], 
            "cell_type": "markdown", 
            "metadata": {}
        }, 
        {
            "execution_count": null, 
            "cell_type": "code", 
            "source": [
                "# PROPERTY ID - DO NOT EDIT !  \n", 
                "DOC.set_id('cmip6.atmos.cloud_simulator.radar_inputs.gas_absorption')  \n", 
                "\n", 
                "# PROPERTY VALUE: \n", 
                "# Set as follows: DOC.set_value(value)  \n", 
                "# Valid Choices: \n", 
                "#     True  \n", 
                "#     False  \n", 
                "# TODO\n", 
                "\n", 
                "# PROPERTY QUALITY CONTROL STATUS:  \n", 
                "# 0=draft, 1=in-review, 2=reviewed  \n", 
                "DOC.set_qc_status(0)"
            ], 
            "outputs": [], 
            "metadata": {
                "collapsed": true
            }
        }, 
        {
            "source": [
                "### 32.4. Effective Radius\n", 
                " *Cloud simulator radar uses effective radius*\n", 
                "\n", 
                "**Is Required:** TRUE&nbsp;&nbsp;&nbsp;&nbsp;**Type:** BOOLEAN&nbsp;&nbsp;&nbsp;&nbsp;**Cardinality:** 1.1"
            ], 
            "cell_type": "markdown", 
            "metadata": {}
        }, 
        {
            "execution_count": null, 
            "cell_type": "code", 
            "source": [
                "# PROPERTY ID - DO NOT EDIT !  \n", 
                "DOC.set_id('cmip6.atmos.cloud_simulator.radar_inputs.effective_radius')  \n", 
                "\n", 
                "# PROPERTY VALUE: \n", 
                "# Set as follows: DOC.set_value(value)  \n", 
                "# Valid Choices: \n", 
                "#     True  \n", 
                "#     False  \n", 
                "# TODO\n", 
                "\n", 
                "# PROPERTY QUALITY CONTROL STATUS:  \n", 
                "# 0=draft, 1=in-review, 2=reviewed  \n", 
                "DOC.set_qc_status(0)"
            ], 
            "outputs": [], 
            "metadata": {
                "collapsed": true
            }
        }, 
        {
            "source": [
                "# 33. Cloud Simulator --&gt; Lidar Inputs  \n", 
                "*Characteristics of the cloud lidar simulator*"
            ], 
            "cell_type": "markdown", 
            "metadata": {}
        }, 
        {
            "source": [
                "### 33.1. Ice Types\n", 
                " *Cloud simulator lidar ice type*\n", 
                "\n", 
                "**Is Required:** TRUE&nbsp;&nbsp;&nbsp;&nbsp;**Type:** ENUM&nbsp;&nbsp;&nbsp;&nbsp;**Cardinality:** 1.1"
            ], 
            "cell_type": "markdown", 
            "metadata": {}
        }, 
        {
            "execution_count": null, 
            "cell_type": "code", 
            "source": [
                "# PROPERTY ID - DO NOT EDIT !  \n", 
                "DOC.set_id('cmip6.atmos.cloud_simulator.lidar_inputs.ice_types')  \n", 
                "\n", 
                "# PROPERTY VALUE: \n", 
                "# Set as follows: DOC.set_value(\"value\")  \n", 
                "# Valid Choices: \n", 
                "#      \"ice spheres\"  \n", 
                "#      \"ice non-spherical\"  \n", 
                "#      \"Other: [Please specify]\"  \n", 
                "# TODO\n", 
                "\n", 
                "# PROPERTY QUALITY CONTROL STATUS:  \n", 
                "# 0=draft, 1=in-review, 2=reviewed  \n", 
                "DOC.set_qc_status(0)"
            ], 
            "outputs": [], 
            "metadata": {
                "collapsed": true
            }
        }, 
        {
            "source": [
                "### 33.2. Overlap\n", 
                " *Cloud simulator lidar overlap*\n", 
                "\n", 
                "**Is Required:** TRUE&nbsp;&nbsp;&nbsp;&nbsp;**Type:** ENUM&nbsp;&nbsp;&nbsp;&nbsp;**Cardinality:** 1.N"
            ], 
            "cell_type": "markdown", 
            "metadata": {}
        }, 
        {
            "execution_count": null, 
            "cell_type": "code", 
            "source": [
                "# PROPERTY ID - DO NOT EDIT !  \n", 
                "DOC.set_id('cmip6.atmos.cloud_simulator.lidar_inputs.overlap')  \n", 
                "\n", 
                "# PROPERTY VALUE(S): \n", 
                "# Set as follows: DOC.set_value(\"value\")  \n", 
                "# Valid Choices: \n", 
                "#      \"max\"  \n", 
                "#      \"random\"  \n", 
                "#      \"Other: [Please specify]\"  \n", 
                "# TODO\n", 
                "\n", 
                "# PROPERTY QUALITY CONTROL STATUS:  \n", 
                "# 0=draft, 1=in-review, 2=reviewed  \n", 
                "DOC.set_qc_status(0)"
            ], 
            "outputs": [], 
            "metadata": {
                "collapsed": true
            }
        }, 
        {
            "source": [
                "# 34. Gravity Waves  \n", 
                "*Characteristics of the parameterised gravity waves in the atmosphere, whether from orography or other sources.*"
            ], 
            "cell_type": "markdown", 
            "metadata": {}
        }, 
        {
            "source": [
                "### 34.1. Sponge Layer\n", 
                " *Sponge layer in the upper levels in order to avoid gravity wave reflection at the top.*\n", 
                "\n", 
                "**Is Required:** TRUE&nbsp;&nbsp;&nbsp;&nbsp;**Type:** ENUM&nbsp;&nbsp;&nbsp;&nbsp;**Cardinality:** 1.1"
            ], 
            "cell_type": "markdown", 
            "metadata": {}
        }, 
        {
            "execution_count": null, 
            "cell_type": "code", 
            "source": [
                "# PROPERTY ID - DO NOT EDIT !  \n", 
                "DOC.set_id('cmip6.atmos.gravity_waves.sponge_layer')  \n", 
                "\n", 
                "# PROPERTY VALUE: \n", 
                "# Set as follows: DOC.set_value(\"value\")  \n", 
                "# Valid Choices: \n", 
                "#      \"Rayleigh friction\"  \n", 
                "#      \"Diffusive sponge layer\"  \n", 
                "#      \"Other: [Please specify]\"  \n", 
                "# TODO\n", 
                "\n", 
                "# PROPERTY QUALITY CONTROL STATUS:  \n", 
                "# 0=draft, 1=in-review, 2=reviewed  \n", 
                "DOC.set_qc_status(0)"
            ], 
            "outputs": [], 
            "metadata": {
                "collapsed": true
            }
        }, 
        {
            "source": [
                "### 34.2. Background\n", 
                " *Background wave distribution*\n", 
                "\n", 
                "**Is Required:** TRUE&nbsp;&nbsp;&nbsp;&nbsp;**Type:** ENUM&nbsp;&nbsp;&nbsp;&nbsp;**Cardinality:** 1.1"
            ], 
            "cell_type": "markdown", 
            "metadata": {}
        }, 
        {
            "execution_count": null, 
            "cell_type": "code", 
            "source": [
                "# PROPERTY ID - DO NOT EDIT !  \n", 
                "DOC.set_id('cmip6.atmos.gravity_waves.background')  \n", 
                "\n", 
                "# PROPERTY VALUE: \n", 
                "# Set as follows: DOC.set_value(\"value\")  \n", 
                "# Valid Choices: \n", 
                "#      \"continuous spectrum\"  \n", 
                "#      \"discrete spectrum\"  \n", 
                "#      \"Other: [Please specify]\"  \n", 
                "# TODO\n", 
                "\n", 
                "# PROPERTY QUALITY CONTROL STATUS:  \n", 
                "# 0=draft, 1=in-review, 2=reviewed  \n", 
                "DOC.set_qc_status(0)"
            ], 
            "outputs": [], 
            "metadata": {
                "collapsed": true
            }
        }, 
        {
            "source": [
                "### 34.3. Subgrid Scale Orography\n", 
                " *Subgrid scale orography effects taken into account.*\n", 
                "\n", 
                "**Is Required:** TRUE&nbsp;&nbsp;&nbsp;&nbsp;**Type:** ENUM&nbsp;&nbsp;&nbsp;&nbsp;**Cardinality:** 1.N"
            ], 
            "cell_type": "markdown", 
            "metadata": {}
        }, 
        {
            "execution_count": null, 
            "cell_type": "code", 
            "source": [
                "# PROPERTY ID - DO NOT EDIT !  \n", 
                "DOC.set_id('cmip6.atmos.gravity_waves.subgrid_scale_orography')  \n", 
                "\n", 
                "# PROPERTY VALUE(S): \n", 
                "# Set as follows: DOC.set_value(\"value\")  \n", 
                "# Valid Choices: \n", 
                "#      \"effect on drag\"  \n", 
                "#      \"effect on lifting\"  \n", 
                "#      \"enhanced topography\"  \n", 
                "#      \"Other: [Please specify]\"  \n", 
                "# TODO\n", 
                "\n", 
                "# PROPERTY QUALITY CONTROL STATUS:  \n", 
                "# 0=draft, 1=in-review, 2=reviewed  \n", 
                "DOC.set_qc_status(0)"
            ], 
            "outputs": [], 
            "metadata": {
                "collapsed": true
            }
        }, 
        {
            "source": [
                "# 35. Gravity Waves --&gt; Orographic Gravity Waves  \n", 
                "*Gravity waves generated due to the presence of orography*"
            ], 
            "cell_type": "markdown", 
            "metadata": {}
        }, 
        {
            "source": [
                "### 35.1. Name\n", 
                " *Commonly used name for the orographic gravity wave scheme*\n", 
                "\n", 
                "**Is Required:** FALSE&nbsp;&nbsp;&nbsp;&nbsp;**Type:** STRING&nbsp;&nbsp;&nbsp;&nbsp;**Cardinality:** 0.1"
            ], 
            "cell_type": "markdown", 
            "metadata": {}
        }, 
        {
            "execution_count": null, 
            "cell_type": "code", 
            "source": [
                "# PROPERTY ID - DO NOT EDIT !  \n", 
                "DOC.set_id('cmip6.atmos.gravity_waves.orographic_gravity_waves.name')  \n", 
                "\n", 
                "# PROPERTY VALUE: \n", 
                "# Set as follows: DOC.set_value(\"value\")  \n", 
                "# TODO\n", 
                "\n", 
                "# PROPERTY QUALITY CONTROL STATUS:  \n", 
                "# 0=draft, 1=in-review, 2=reviewed  \n", 
                "DOC.set_qc_status(0)"
            ], 
            "outputs": [], 
            "metadata": {
                "collapsed": true
            }
        }, 
        {
            "source": [
                "### 35.2. Source Mechanisms\n", 
                " *Orographic gravity wave source mechanisms*\n", 
                "\n", 
                "**Is Required:** TRUE&nbsp;&nbsp;&nbsp;&nbsp;**Type:** ENUM&nbsp;&nbsp;&nbsp;&nbsp;**Cardinality:** 1.N"
            ], 
            "cell_type": "markdown", 
            "metadata": {}
        }, 
        {
            "execution_count": null, 
            "cell_type": "code", 
            "source": [
                "# PROPERTY ID - DO NOT EDIT !  \n", 
                "DOC.set_id('cmip6.atmos.gravity_waves.orographic_gravity_waves.source_mechanisms')  \n", 
                "\n", 
                "# PROPERTY VALUE(S): \n", 
                "# Set as follows: DOC.set_value(\"value\")  \n", 
                "# Valid Choices: \n", 
                "#      \"linear mountain waves\"  \n", 
                "#      \"hydraulic jump\"  \n", 
                "#      \"envelope orography\"  \n", 
                "#      \"low level flow blocking\"  \n", 
                "#      \"statistical sub-grid scale variance\"  \n", 
                "#      \"Other: [Please specify]\"  \n", 
                "# TODO\n", 
                "\n", 
                "# PROPERTY QUALITY CONTROL STATUS:  \n", 
                "# 0=draft, 1=in-review, 2=reviewed  \n", 
                "DOC.set_qc_status(0)"
            ], 
            "outputs": [], 
            "metadata": {
                "collapsed": true
            }
        }, 
        {
            "source": [
                "### 35.3. Calculation Method\n", 
                " *Orographic gravity wave calculation method*\n", 
                "\n", 
                "**Is Required:** TRUE&nbsp;&nbsp;&nbsp;&nbsp;**Type:** ENUM&nbsp;&nbsp;&nbsp;&nbsp;**Cardinality:** 1.N"
            ], 
            "cell_type": "markdown", 
            "metadata": {}
        }, 
        {
            "execution_count": null, 
            "cell_type": "code", 
            "source": [
                "# PROPERTY ID - DO NOT EDIT !  \n", 
                "DOC.set_id('cmip6.atmos.gravity_waves.orographic_gravity_waves.calculation_method')  \n", 
                "\n", 
                "# PROPERTY VALUE(S): \n", 
                "# Set as follows: DOC.set_value(\"value\")  \n", 
                "# Valid Choices: \n", 
                "#      \"non-linear calculation\"  \n", 
                "#      \"more than two cardinal directions\"  \n", 
                "#      \"Other: [Please specify]\"  \n", 
                "# TODO\n", 
                "\n", 
                "# PROPERTY QUALITY CONTROL STATUS:  \n", 
                "# 0=draft, 1=in-review, 2=reviewed  \n", 
                "DOC.set_qc_status(0)"
            ], 
            "outputs": [], 
            "metadata": {
                "collapsed": true
            }
        }, 
        {
            "source": [
                "### 35.4. Propagation Scheme\n", 
                " *Orographic gravity wave propogation scheme*\n", 
                "\n", 
                "**Is Required:** TRUE&nbsp;&nbsp;&nbsp;&nbsp;**Type:** ENUM&nbsp;&nbsp;&nbsp;&nbsp;**Cardinality:** 1.1"
            ], 
            "cell_type": "markdown", 
            "metadata": {}
        }, 
        {
            "execution_count": null, 
            "cell_type": "code", 
            "source": [
                "# PROPERTY ID - DO NOT EDIT !  \n", 
                "DOC.set_id('cmip6.atmos.gravity_waves.orographic_gravity_waves.propagation_scheme')  \n", 
                "\n", 
                "# PROPERTY VALUE: \n", 
                "# Set as follows: DOC.set_value(\"value\")  \n", 
                "# Valid Choices: \n", 
                "#      \"linear theory\"  \n", 
                "#      \"non-linear theory\"  \n", 
                "#      \"Other: [Please specify]\"  \n", 
                "# TODO\n", 
                "\n", 
                "# PROPERTY QUALITY CONTROL STATUS:  \n", 
                "# 0=draft, 1=in-review, 2=reviewed  \n", 
                "DOC.set_qc_status(0)"
            ], 
            "outputs": [], 
            "metadata": {
                "collapsed": true
            }
        }, 
        {
            "source": [
                "### 35.5. Dissipation Scheme\n", 
                " *Orographic gravity wave dissipation scheme*\n", 
                "\n", 
                "**Is Required:** TRUE&nbsp;&nbsp;&nbsp;&nbsp;**Type:** ENUM&nbsp;&nbsp;&nbsp;&nbsp;**Cardinality:** 1.1"
            ], 
            "cell_type": "markdown", 
            "metadata": {}
        }, 
        {
            "execution_count": null, 
            "cell_type": "code", 
            "source": [
                "# PROPERTY ID - DO NOT EDIT !  \n", 
                "DOC.set_id('cmip6.atmos.gravity_waves.orographic_gravity_waves.dissipation_scheme')  \n", 
                "\n", 
                "# PROPERTY VALUE: \n", 
                "# Set as follows: DOC.set_value(\"value\")  \n", 
                "# Valid Choices: \n", 
                "#      \"total wave\"  \n", 
                "#      \"single wave\"  \n", 
                "#      \"spectral\"  \n", 
                "#      \"linear\"  \n", 
                "#      \"Other: [Please specify]\"  \n", 
                "# TODO\n", 
                "\n", 
                "# PROPERTY QUALITY CONTROL STATUS:  \n", 
                "# 0=draft, 1=in-review, 2=reviewed  \n", 
                "DOC.set_qc_status(0)"
            ], 
            "outputs": [], 
            "metadata": {
                "collapsed": true
            }
        }, 
        {
            "source": [
                "# 36. Gravity Waves --&gt; Non Orographic Gravity Waves  \n", 
                "*Gravity waves generated by non-orographic processes.*"
            ], 
            "cell_type": "markdown", 
            "metadata": {}
        }, 
        {
            "source": [
                "### 36.1. Name\n", 
                " *Commonly used name for the non-orographic gravity wave scheme*\n", 
                "\n", 
                "**Is Required:** FALSE&nbsp;&nbsp;&nbsp;&nbsp;**Type:** STRING&nbsp;&nbsp;&nbsp;&nbsp;**Cardinality:** 0.1"
            ], 
            "cell_type": "markdown", 
            "metadata": {}
        }, 
        {
            "execution_count": null, 
            "cell_type": "code", 
            "source": [
                "# PROPERTY ID - DO NOT EDIT !  \n", 
                "DOC.set_id('cmip6.atmos.gravity_waves.non_orographic_gravity_waves.name')  \n", 
                "\n", 
                "# PROPERTY VALUE: \n", 
                "# Set as follows: DOC.set_value(\"value\")  \n", 
                "# TODO\n", 
                "\n", 
                "# PROPERTY QUALITY CONTROL STATUS:  \n", 
                "# 0=draft, 1=in-review, 2=reviewed  \n", 
                "DOC.set_qc_status(0)"
            ], 
            "outputs": [], 
            "metadata": {
                "collapsed": true
            }
        }, 
        {
            "source": [
                "### 36.2. Source Mechanisms\n", 
                " *Non-orographic gravity wave source mechanisms*\n", 
                "\n", 
                "**Is Required:** TRUE&nbsp;&nbsp;&nbsp;&nbsp;**Type:** ENUM&nbsp;&nbsp;&nbsp;&nbsp;**Cardinality:** 1.N"
            ], 
            "cell_type": "markdown", 
            "metadata": {}
        }, 
        {
            "execution_count": null, 
            "cell_type": "code", 
            "source": [
                "# PROPERTY ID - DO NOT EDIT !  \n", 
                "DOC.set_id('cmip6.atmos.gravity_waves.non_orographic_gravity_waves.source_mechanisms')  \n", 
                "\n", 
                "# PROPERTY VALUE(S): \n", 
                "# Set as follows: DOC.set_value(\"value\")  \n", 
                "# Valid Choices: \n", 
                "#      \"convection\"  \n", 
                "#      \"precipitation\"  \n", 
                "#      \"background spectrum\"  \n", 
                "#      \"Other: [Please specify]\"  \n", 
                "# TODO\n", 
                "\n", 
                "# PROPERTY QUALITY CONTROL STATUS:  \n", 
                "# 0=draft, 1=in-review, 2=reviewed  \n", 
                "DOC.set_qc_status(0)"
            ], 
            "outputs": [], 
            "metadata": {
                "collapsed": true
            }
        }, 
        {
            "source": [
                "### 36.3. Calculation Method\n", 
                " *Non-orographic gravity wave calculation method*\n", 
                "\n", 
                "**Is Required:** TRUE&nbsp;&nbsp;&nbsp;&nbsp;**Type:** ENUM&nbsp;&nbsp;&nbsp;&nbsp;**Cardinality:** 1.N"
            ], 
            "cell_type": "markdown", 
            "metadata": {}
        }, 
        {
            "execution_count": null, 
            "cell_type": "code", 
            "source": [
                "# PROPERTY ID - DO NOT EDIT !  \n", 
                "DOC.set_id('cmip6.atmos.gravity_waves.non_orographic_gravity_waves.calculation_method')  \n", 
                "\n", 
                "# PROPERTY VALUE(S): \n", 
                "# Set as follows: DOC.set_value(\"value\")  \n", 
                "# Valid Choices: \n", 
                "#      \"spatially dependent\"  \n", 
                "#      \"temporally dependent\"  \n", 
                "# TODO\n", 
                "\n", 
                "# PROPERTY QUALITY CONTROL STATUS:  \n", 
                "# 0=draft, 1=in-review, 2=reviewed  \n", 
                "DOC.set_qc_status(0)"
            ], 
            "outputs": [], 
            "metadata": {
                "collapsed": true
            }
        }, 
        {
            "source": [
                "### 36.4. Propagation Scheme\n", 
                " *Non-orographic gravity wave propogation scheme*\n", 
                "\n", 
                "**Is Required:** TRUE&nbsp;&nbsp;&nbsp;&nbsp;**Type:** ENUM&nbsp;&nbsp;&nbsp;&nbsp;**Cardinality:** 1.1"
            ], 
            "cell_type": "markdown", 
            "metadata": {}
        }, 
        {
            "execution_count": null, 
            "cell_type": "code", 
            "source": [
                "# PROPERTY ID - DO NOT EDIT !  \n", 
                "DOC.set_id('cmip6.atmos.gravity_waves.non_orographic_gravity_waves.propagation_scheme')  \n", 
                "\n", 
                "# PROPERTY VALUE: \n", 
                "# Set as follows: DOC.set_value(\"value\")  \n", 
                "# Valid Choices: \n", 
                "#      \"linear theory\"  \n", 
                "#      \"non-linear theory\"  \n", 
                "#      \"Other: [Please specify]\"  \n", 
                "# TODO\n", 
                "\n", 
                "# PROPERTY QUALITY CONTROL STATUS:  \n", 
                "# 0=draft, 1=in-review, 2=reviewed  \n", 
                "DOC.set_qc_status(0)"
            ], 
            "outputs": [], 
            "metadata": {
                "collapsed": true
            }
        }, 
        {
            "source": [
                "### 36.5. Dissipation Scheme\n", 
                " *Non-orographic gravity wave dissipation scheme*\n", 
                "\n", 
                "**Is Required:** TRUE&nbsp;&nbsp;&nbsp;&nbsp;**Type:** ENUM&nbsp;&nbsp;&nbsp;&nbsp;**Cardinality:** 1.1"
            ], 
            "cell_type": "markdown", 
            "metadata": {}
        }, 
        {
            "execution_count": null, 
            "cell_type": "code", 
            "source": [
                "# PROPERTY ID - DO NOT EDIT !  \n", 
                "DOC.set_id('cmip6.atmos.gravity_waves.non_orographic_gravity_waves.dissipation_scheme')  \n", 
                "\n", 
                "# PROPERTY VALUE: \n", 
                "# Set as follows: DOC.set_value(\"value\")  \n", 
                "# Valid Choices: \n", 
                "#      \"total wave\"  \n", 
                "#      \"single wave\"  \n", 
                "#      \"spectral\"  \n", 
                "#      \"linear\"  \n", 
                "#      \"Other: [Please specify]\"  \n", 
                "# TODO\n", 
                "\n", 
                "# PROPERTY QUALITY CONTROL STATUS:  \n", 
                "# 0=draft, 1=in-review, 2=reviewed  \n", 
                "DOC.set_qc_status(0)"
            ], 
            "outputs": [], 
            "metadata": {
                "collapsed": true
            }
        }, 
        {
            "source": [
                "# 37. Solar --&gt; Solar Pathways  \n", 
                "*Pathways for solar forcing of the atmosphere*"
            ], 
            "cell_type": "markdown", 
            "metadata": {}
        }, 
        {
            "source": [
                "### 37.1. Pathways\n", 
                " *Pathways for the solar forcing of the atmosphere model domain*\n", 
                "\n", 
                "**Is Required:** TRUE&nbsp;&nbsp;&nbsp;&nbsp;**Type:** ENUM&nbsp;&nbsp;&nbsp;&nbsp;**Cardinality:** 1.N"
            ], 
            "cell_type": "markdown", 
            "metadata": {}
        }, 
        {
            "execution_count": null, 
            "cell_type": "code", 
            "source": [
                "# PROPERTY ID - DO NOT EDIT !  \n", 
                "DOC.set_id('cmip6.atmos.solar.solar_pathways.pathways')  \n", 
                "\n", 
                "# PROPERTY VALUE(S): \n", 
                "# Set as follows: DOC.set_value(\"value\")  \n", 
                "# Valid Choices: \n", 
                "#      \"SW radiation\"  \n", 
                "#      \"precipitating energetic particles\"  \n", 
                "#      \"cosmic rays\"  \n", 
                "#      \"Other: [Please specify]\"  \n", 
                "# TODO\n", 
                "\n", 
                "# PROPERTY QUALITY CONTROL STATUS:  \n", 
                "# 0=draft, 1=in-review, 2=reviewed  \n", 
                "DOC.set_qc_status(0)"
            ], 
            "outputs": [], 
            "metadata": {
                "collapsed": true
            }
        }, 
        {
            "source": [
                "# 38. Solar --&gt; Solar Constant  \n", 
                "*Solar constant and top of atmosphere insolation characteristics*"
            ], 
            "cell_type": "markdown", 
            "metadata": {}
        }, 
        {
            "source": [
                "### 38.1. Type\n", 
                " *Time adaptation of the solar constant.*\n", 
                "\n", 
                "**Is Required:** TRUE&nbsp;&nbsp;&nbsp;&nbsp;**Type:** ENUM&nbsp;&nbsp;&nbsp;&nbsp;**Cardinality:** 1.1"
            ], 
            "cell_type": "markdown", 
            "metadata": {}
        }, 
        {
            "execution_count": null, 
            "cell_type": "code", 
            "source": [
                "# PROPERTY ID - DO NOT EDIT !  \n", 
                "DOC.set_id('cmip6.atmos.solar.solar_constant.type')  \n", 
                "\n", 
                "# PROPERTY VALUE: \n", 
                "# Set as follows: DOC.set_value(\"value\")  \n", 
                "# Valid Choices: \n", 
                "#      \"fixed\"  \n", 
                "#      \"transient\"  \n", 
                "# TODO\n", 
                "\n", 
                "# PROPERTY QUALITY CONTROL STATUS:  \n", 
                "# 0=draft, 1=in-review, 2=reviewed  \n", 
                "DOC.set_qc_status(0)"
            ], 
            "outputs": [], 
            "metadata": {
                "collapsed": true
            }
        }, 
        {
            "source": [
                "### 38.2. Fixed Value\n", 
                " *If the solar constant is fixed, enter the value of the solar constant (W m-2).*\n", 
                "\n", 
                "**Is Required:** FALSE&nbsp;&nbsp;&nbsp;&nbsp;**Type:** FLOAT&nbsp;&nbsp;&nbsp;&nbsp;**Cardinality:** 0.1"
            ], 
            "cell_type": "markdown", 
            "metadata": {}
        }, 
        {
            "execution_count": null, 
            "cell_type": "code", 
            "source": [
                "# PROPERTY ID - DO NOT EDIT !  \n", 
                "DOC.set_id('cmip6.atmos.solar.solar_constant.fixed_value')  \n", 
                "\n", 
                "# PROPERTY VALUE: \n", 
                "# Set as follows: DOC.set_value(value)  \n", 
                "# TODO\n", 
                "\n", 
                "# PROPERTY QUALITY CONTROL STATUS:  \n", 
                "# 0=draft, 1=in-review, 2=reviewed  \n", 
                "DOC.set_qc_status(0)"
            ], 
            "outputs": [], 
            "metadata": {
                "collapsed": true
            }
        }, 
        {
            "source": [
                "### 38.3. Transient Characteristics\n", 
                " *solar constant transient characteristics (W m-2)*\n", 
                "\n", 
                "**Is Required:** TRUE&nbsp;&nbsp;&nbsp;&nbsp;**Type:** STRING&nbsp;&nbsp;&nbsp;&nbsp;**Cardinality:** 1.1"
            ], 
            "cell_type": "markdown", 
            "metadata": {}
        }, 
        {
            "execution_count": null, 
            "cell_type": "code", 
            "source": [
                "# PROPERTY ID - DO NOT EDIT !  \n", 
                "DOC.set_id('cmip6.atmos.solar.solar_constant.transient_characteristics')  \n", 
                "\n", 
                "# PROPERTY VALUE: \n", 
                "# Set as follows: DOC.set_value(\"value\")  \n", 
                "# TODO\n", 
                "\n", 
                "# PROPERTY QUALITY CONTROL STATUS:  \n", 
                "# 0=draft, 1=in-review, 2=reviewed  \n", 
                "DOC.set_qc_status(0)"
            ], 
            "outputs": [], 
            "metadata": {
                "collapsed": true
            }
        }, 
        {
            "source": [
                "# 39. Solar --&gt; Orbital Parameters  \n", 
                "*Orbital parameters and top of atmosphere insolation characteristics*"
            ], 
            "cell_type": "markdown", 
            "metadata": {}
        }, 
        {
            "source": [
                "### 39.1. Type\n", 
                " *Time adaptation of orbital parameters*\n", 
                "\n", 
                "**Is Required:** TRUE&nbsp;&nbsp;&nbsp;&nbsp;**Type:** ENUM&nbsp;&nbsp;&nbsp;&nbsp;**Cardinality:** 1.1"
            ], 
            "cell_type": "markdown", 
            "metadata": {}
        }, 
        {
            "execution_count": null, 
            "cell_type": "code", 
            "source": [
                "# PROPERTY ID - DO NOT EDIT !  \n", 
                "DOC.set_id('cmip6.atmos.solar.orbital_parameters.type')  \n", 
                "\n", 
                "# PROPERTY VALUE: \n", 
                "# Set as follows: DOC.set_value(\"value\")  \n", 
                "# Valid Choices: \n", 
                "#      \"fixed\"  \n", 
                "#      \"transient\"  \n", 
                "# TODO\n", 
                "\n", 
                "# PROPERTY QUALITY CONTROL STATUS:  \n", 
                "# 0=draft, 1=in-review, 2=reviewed  \n", 
                "DOC.set_qc_status(0)"
            ], 
            "outputs": [], 
            "metadata": {
                "collapsed": true
            }
        }, 
        {
            "source": [
                "### 39.2. Fixed Reference Date\n", 
                " *Reference date for fixed orbital parameters (yyyy)*\n", 
                "\n", 
                "**Is Required:** TRUE&nbsp;&nbsp;&nbsp;&nbsp;**Type:** INTEGER&nbsp;&nbsp;&nbsp;&nbsp;**Cardinality:** 1.1"
            ], 
            "cell_type": "markdown", 
            "metadata": {}
        }, 
        {
            "execution_count": null, 
            "cell_type": "code", 
            "source": [
                "# PROPERTY ID - DO NOT EDIT !  \n", 
                "DOC.set_id('cmip6.atmos.solar.orbital_parameters.fixed_reference_date')  \n", 
                "\n", 
                "# PROPERTY VALUE: \n", 
                "# Set as follows: DOC.set_value(value)  \n", 
                "# TODO\n", 
                "\n", 
                "# PROPERTY QUALITY CONTROL STATUS:  \n", 
                "# 0=draft, 1=in-review, 2=reviewed  \n", 
                "DOC.set_qc_status(0)"
            ], 
            "outputs": [], 
            "metadata": {
                "collapsed": true
            }
        }, 
        {
            "source": [
                "### 39.3. Solar Constant Transient Characteristics\n", 
                " *Characteristics of transient orbital parameters*\n", 
                "\n", 
                "**Is Required:** TRUE&nbsp;&nbsp;&nbsp;&nbsp;**Type:** STRING&nbsp;&nbsp;&nbsp;&nbsp;**Cardinality:** 1.1"
            ], 
            "cell_type": "markdown", 
            "metadata": {}
        }, 
        {
            "execution_count": null, 
            "cell_type": "code", 
            "source": [
                "# PROPERTY ID - DO NOT EDIT !  \n", 
                "DOC.set_id('cmip6.atmos.solar.orbital_parameters.solar_constant_transient_characteristics')  \n", 
                "\n", 
                "# PROPERTY VALUE: \n", 
                "# Set as follows: DOC.set_value(\"value\")  \n", 
                "# TODO\n", 
                "\n", 
                "# PROPERTY QUALITY CONTROL STATUS:  \n", 
                "# 0=draft, 1=in-review, 2=reviewed  \n", 
                "DOC.set_qc_status(0)"
            ], 
            "outputs": [], 
            "metadata": {
                "collapsed": true
            }
        }, 
        {
            "source": [
                "### 39.4. Computation Method\n", 
                " *Method used for computing orbital parameters.*\n", 
                "\n", 
                "**Is Required:** TRUE&nbsp;&nbsp;&nbsp;&nbsp;**Type:** ENUM&nbsp;&nbsp;&nbsp;&nbsp;**Cardinality:** 1.1"
            ], 
            "cell_type": "markdown", 
            "metadata": {}
        }, 
        {
            "execution_count": null, 
            "cell_type": "code", 
            "source": [
                "# PROPERTY ID - DO NOT EDIT !  \n", 
                "DOC.set_id('cmip6.atmos.solar.orbital_parameters.computation_method')  \n", 
                "\n", 
                "# PROPERTY VALUE: \n", 
                "# Set as follows: DOC.set_value(\"value\")  \n", 
                "# Valid Choices: \n", 
                "#      \"Berger 1978\"  \n", 
                "#      \"Laskar 2004\"  \n", 
                "#      \"Other: [Please specify]\"  \n", 
                "# TODO\n", 
                "\n", 
                "# PROPERTY QUALITY CONTROL STATUS:  \n", 
                "# 0=draft, 1=in-review, 2=reviewed  \n", 
                "DOC.set_qc_status(0)"
            ], 
            "outputs": [], 
            "metadata": {
                "collapsed": true
            }
        }, 
        {
            "source": [
                "# 40. Solar --&gt; Insolation Ozone  \n", 
                "*Impact of solar insolation on stratospheric ozone*"
            ], 
            "cell_type": "markdown", 
            "metadata": {}
        }, 
        {
            "source": [
                "### 40.1. Solar Ozone Impact\n", 
                " *Does top of atmosphere insolation impact on stratospheric ozone?*\n", 
                "\n", 
                "**Is Required:** TRUE&nbsp;&nbsp;&nbsp;&nbsp;**Type:** BOOLEAN&nbsp;&nbsp;&nbsp;&nbsp;**Cardinality:** 1.1"
            ], 
            "cell_type": "markdown", 
            "metadata": {}
        }, 
        {
            "execution_count": null, 
            "cell_type": "code", 
            "source": [
                "# PROPERTY ID - DO NOT EDIT !  \n", 
                "DOC.set_id('cmip6.atmos.solar.insolation_ozone.solar_ozone_impact')  \n", 
                "\n", 
                "# PROPERTY VALUE: \n", 
                "# Set as follows: DOC.set_value(value)  \n", 
                "# Valid Choices: \n", 
                "#     True  \n", 
                "#     False  \n", 
                "# TODO\n", 
                "\n", 
                "# PROPERTY QUALITY CONTROL STATUS:  \n", 
                "# 0=draft, 1=in-review, 2=reviewed  \n", 
                "DOC.set_qc_status(0)"
            ], 
            "outputs": [], 
            "metadata": {
                "collapsed": true
            }
        }, 
        {
            "source": [
                "# 41. Volcanos --&gt; Volcanoes Treatment  \n", 
                "*Treatment of volcanoes in the atmosphere*"
            ], 
            "cell_type": "markdown", 
            "metadata": {}
        }, 
        {
            "source": [
                "### 41.1. Volcanoes Implementation\n", 
                " *How volcanic effects are modeled in the atmosphere.*\n", 
                "\n", 
                "**Is Required:** TRUE&nbsp;&nbsp;&nbsp;&nbsp;**Type:** ENUM&nbsp;&nbsp;&nbsp;&nbsp;**Cardinality:** 1.1"
            ], 
            "cell_type": "markdown", 
            "metadata": {}
        }, 
        {
            "execution_count": null, 
            "cell_type": "code", 
            "source": [
                "# PROPERTY ID - DO NOT EDIT !  \n", 
                "DOC.set_id('cmip6.atmos.volcanos.volcanoes_treatment.volcanoes_implementation')  \n", 
                "\n", 
                "# PROPERTY VALUE: \n", 
                "# Set as follows: DOC.set_value(\"value\")  \n", 
                "# Valid Choices: \n", 
                "#      \"high frequency solar constant anomaly\"  \n", 
                "#      \"stratospheric aerosols optical thickness\"  \n", 
                "#      \"Other: [Please specify]\"  \n", 
                "# TODO\n", 
                "\n", 
                "# PROPERTY QUALITY CONTROL STATUS:  \n", 
                "# 0=draft, 1=in-review, 2=reviewed  \n", 
                "DOC.set_qc_status(0)"
            ], 
            "outputs": [], 
            "metadata": {
                "collapsed": true
            }
        }, 
        {
            "source": [
                "# Finalization"
            ], 
            "cell_type": "markdown", 
            "metadata": {}
        }, 
        {
            "source": [
                "### Document Persistence"
            ], 
            "cell_type": "markdown", 
            "metadata": {}
        }, 
        {
            "execution_count": null, 
            "cell_type": "code", 
            "source": [
                "# DO NOT EDIT !\n", 
                "DOC.write()"
            ], 
            "outputs": [], 
            "metadata": {}
        }
    ], 
    "metadata": {
        "kernelspec": {
            "display_name": "Python 2", 
            "name": "python2", 
            "language": "python"
        }, 
        "language_info": {
            "mimetype": "text/x-python", 
            "nbconvert_exporter": "python", 
            "name": "python", 
            "file_extension": ".py", 
            "version": "2.7.10", 
            "pygments_lexer": "ipython2", 
            "codemirror_mode": {
                "version": 2, 
                "name": "ipython"
            }
        }
    }
}