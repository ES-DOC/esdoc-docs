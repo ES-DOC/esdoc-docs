{
 "cells": [
  {
   "cell_type": "code",
   "execution_count": 3,
   "metadata": {
    "collapsed": false
   },
   "outputs": [
    {
     "name": "stdout",
     "output_type": "stream",
     "text": [
      "0.9.4.1.0\n",
      "/usr/local/lib/python2.7/dist-packages/pyesdoc/__init__.pyc\n"
     ]
    }
   ],
   "source": [
    "#import cf\n",
    "import pyesdoc\n",
    "import pyesdoc.ontologies.cim as cim\n",
    "from pyesdoc.ontologies.cim.v2 import Simulation\n",
    "print pyesdoc.__version__\n",
    "print pyesdoc.__file__"
   ]
  },
  {
   "cell_type": "code",
   "execution_count": 2,
   "metadata": {
    "collapsed": false,
    "scrolled": true
   },
   "outputs": [
    {
     "name": "stdout",
     "output_type": "stream",
     "text": [
      "/media/sf_nc/tas_2005.nc  /media/sf_nc/tas_2007.nc  /media/sf_nc/tas_2009.nc\r\n",
      "/media/sf_nc/tas_2006.nc  /media/sf_nc/tas_2008.nc  /media/sf_nc/tas_2010.nc\r\n"
     ]
    }
   ],
   "source": [
    "#!ls /media/sf_nc/tas_????.nc"
   ]
  },
  {
   "cell_type": "code",
   "execution_count": 4,
   "metadata": {
    "collapsed": false
   },
   "outputs": [],
   "source": [
    "#file_properties = cf.read('/media/sf_nc/tas_????.nc').properties"
   ]
  },
  {
   "cell_type": "code",
   "execution_count": 6,
   "metadata": {
    "collapsed": false
   },
   "outputs": [],
   "source": [
    "file_properties = {\n",
    " 'Conventions': 'CF-1.5',\n",
    " '_FillValue': 1e+20,\n",
    " 'associated_files': 'baseURL: http://cmip-pcmdi.llnl.gov/CMIP5/dataLocation gridspecFile: gridspec_fx_HadGEM2-ES_rcp85_r0i0p0.nc areacella: areacella_fx_HadGEM2-ES_rcp85_r0i0p0.nc',\n",
    " 'branch_time': 52560.0,\n",
    " 'cmor_version': '2.4.0',\n",
    " 'comment': 'daily-maximum near-surface (usually, 2 meter) air temperature.',\n",
    " 'contact': 'chris.d.jones@metoffice.gov.uk, michael.sanderson@metoffice.gov.uk',\n",
    " 'creation_date': '2010-11-10T15:30:29Z',\n",
    " 'experiment': 'RCP8.5',\n",
    " 'experiment_id': 'rcp85',\n",
    " 'forcing': 'GHG, SA, Oz, LU, Sl, Vl, BC, OC, (GHG = CO2, N2O, CH4, CFCs)',\n",
    " 'frequency': 'day',\n",
    " 'history': \"2010-11-10T15:30:29Z altered by CMOR: Treated scalar dimension: 'height'. 2010-11-10T15:30:29Z altered by CMOR: replaced missing value flag (-1.07374e+09) with standard missing value (1e+20).\",\n",
    " 'initialization_method': 1,\n",
    " 'institute_id': 'MOHC',\n",
    " 'institution': 'Met Office Hadley Centre, Fitzroy Road, Exeter, Devon, EX1 3PB, UK, (http://www.metoffice.gov.uk)',\n",
    " 'long_name': 'Daily Maximum Near-Surface Air Temperature',\n",
    " 'missing_value': 1e+20,\n",
    " 'mo_runid': 'ajnji',\n",
    " 'model_id': 'HadGEM2-ES',\n",
    " 'modeling_realm': 'atmos',\n",
    " 'nco_openmp_thread_number': 1,\n",
    " 'original_name': 'mo: m01s03i236',\n",
    " 'parent_experiment': 'historical',\n",
    " 'parent_experiment_id': 'historical',\n",
    " 'parent_experiment_rip': 'r1i1p1',\n",
    " 'physics_version': 1,\n",
    " 'product': 'output',\n",
    " 'project_id': 'CMIP5',\n",
    " 'realization': 1,\n",
    " 'references': 'Bellouin N. et al, (2007) Improved representation of aerosols for HadGEM2. Meteorological Office Hadley Centre, Technical Note 73, March 2007; Collins W.J.  et al, (2008) Evaluation of the HadGEM2 model. Meteorological Office Hadley Centre, Technical Note 74,; Johns T.C. et al, (2006) The new Hadley Centre climate model HadGEM1: Evaluation of coupled simulations. Journal of Climate, American Meteorological Society, Vol. 19, No. 7, pages 1327-1353.; Martin G.M. et al, (2006) The physical properties of the atmosphere in the new Hadley Centre Global Environmental Model, HadGEM1 - Part 1: Model description and global climatology. Journal of Climate, American Meteorological Society, Vol. 19, No.7, pages 1274-1301.; Ringer M.A. et al, (2006) The physical properties of the atmosphere in the new Hadley Centre Global Environmental Model, HadGEM1 - Part 2: Aspects of variability and regional climate. Journal of Climate, American Meteorological Society, Vol. 19, No. 7, pages 1302-1326.',\n",
    " 'source': 'HadGEM2-ES (2009) atmosphere: HadGAM2 (N96L38); ocean: HadGOM2 (lat: 1.0-0.3 lon: 1.0 L40); land-surface/vegetation: MOSES2 and TRIFFID; tropospheric chemistry: UKCA; ocean biogeochemistry: diat-HadOCC',\n",
    " 'standard_name': 'air_temperature',\n",
    " 'table_id': 'Table day (25 October 2010) 783d839767ea9baa68394aefe0d77366',\n",
    " 'title': 'HadGEM2-ES model output prepared for CMIP5 RCP8.5',\n",
    " 'tracking_id': '82e2798c-f7e9-4758-8f26-64d4cac4f197'\n",
    "    }"
   ]
  },
  {
   "cell_type": "code",
   "execution_count": 7,
   "metadata": {
    "collapsed": true
   },
   "outputs": [],
   "source": [
    "s = Simulation()"
   ]
  },
  {
   "cell_type": "code",
   "execution_count": 8,
   "metadata": {
    "collapsed": false
   },
   "outputs": [],
   "source": [
    "doc_reference = cim.v2.DocReference()\n",
    "doc_reference.name = file_properties['model_id']\n",
    "doc_reference.description = \"Model used by this simulation\""
   ]
  },
  {
   "cell_type": "markdown",
   "metadata": {},
   "source": [
    "Set the `type_key`. This is set already set to `'cim.2.shared.DocReference'` - what are the implications of changing it?"
   ]
  },
  {
   "cell_type": "code",
   "execution_count": 9,
   "metadata": {
    "collapsed": true
   },
   "outputs": [],
   "source": [
    "doc_reference.type_key = cim.v2.Model.type_key"
   ]
  },
  {
   "cell_type": "code",
   "execution_count": null,
   "metadata": {
    "collapsed": false,
    "scrolled": true
   },
   "outputs": [],
   "source": []
  },
  {
   "cell_type": "code",
   "execution_count": null,
   "metadata": {
    "collapsed": true
   },
   "outputs": [],
   "source": []
  }
 ],
 "metadata": {
  "kernelspec": {
   "display_name": "Python 2",
   "language": "python",
   "name": "python2"
  },
  "language_info": {
   "codemirror_mode": {
    "name": "ipython",
    "version": 2
   },
   "file_extension": ".py",
   "mimetype": "text/x-python",
   "name": "python",
   "nbconvert_exporter": "python",
   "pygments_lexer": "ipython2",
   "version": "2.7.10"
  }
 },
 "nbformat": 4,
 "nbformat_minor": 0
}
