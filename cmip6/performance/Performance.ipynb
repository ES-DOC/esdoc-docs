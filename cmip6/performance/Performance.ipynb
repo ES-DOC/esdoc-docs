{
 "cells": [
  {
   "cell_type": "markdown",
   "metadata": {},
   "source": [
    "## Create a Performance document, write it to local disk, read it back into memory and then get information out of it"
   ]
  },
  {
   "cell_type": "markdown",
   "metadata": {},
   "source": [
    "#### Import the correct version of pyesdoc"
   ]
  },
  {
   "cell_type": "code",
   "execution_count": 1,
   "metadata": {
    "collapsed": false
   },
   "outputs": [],
   "source": [
    "import pyesdoc\n",
    "if pyesdoc.__version__ < '0.9.5.3.0':\n",
    "    raise ValueError(\"Must use pyesdoc version 0.9.5.3.0 or newer. Try 'pip install --upgrade pyesdoc'\")"
   ]
  },
  {
   "cell_type": "markdown",
   "metadata": {},
   "source": [
    "#### Import the required classes from the pyesdoc library"
   ]
  },
  {
   "cell_type": "code",
   "execution_count": 2,
   "metadata": {
    "collapsed": true
   },
   "outputs": [],
   "source": [
    "from pyesdoc.ontologies.cim.v2 import Performance, Model, Machine, Party"
   ]
  },
  {
   "cell_type": "markdown",
   "metadata": {},
   "source": [
    "#### Create a Performance document, and documents for its Model and Machine and the Machine Vendor"
   ]
  },
  {
   "cell_type": "code",
   "execution_count": 3,
   "metadata": {
    "collapsed": true
   },
   "outputs": [],
   "source": [
    "p = performance_of_hadgem3_on_archer = pyesdoc.create(Performance, project='CPMIP')\n",
    "p.name                           = 'Our first performance example'\n",
    "p.resolution                     = int(1.8e8)\n",
    "p.complexity                     = 66\n",
    "p.simulated_years_per_day        = 1\n",
    "p.core_hours_per_simulated_year  = 6504\n",
    "p.coupling_cost                  = 0.15\n",
    "p.actual_simulated_years_per_day = 0.57"
   ]
  },
  {
   "cell_type": "code",
   "execution_count": 4,
   "metadata": {
    "collapsed": true
   },
   "outputs": [],
   "source": [
    "hadgem3 = pyesdoc.create(Model)\n",
    "hadgem3.name = 'HadGEM3-GC2'"
   ]
  },
  {
   "cell_type": "code",
   "execution_count": 5,
   "metadata": {
    "collapsed": true
   },
   "outputs": [],
   "source": [
    "archer = pyesdoc.create(Machine)\n",
    "archer.name         = 'Archer'\n",
    "archer.description  = 'The UK national academic HPC platform'\n",
    "archer.model_number = 'XC-30'"
   ]
  },
  {
   "cell_type": "code",
   "execution_count": 6,
   "metadata": {
    "collapsed": false
   },
   "outputs": [],
   "source": [
    "cray = pyesdoc.create(Party)\n",
    "cray.name = 'CRAY'"
   ]
  },
  {
   "cell_type": "markdown",
   "metadata": {},
   "source": [
    "#### Link the Model and Machine docuemnts to the performance document, and the machine vendor to the Machine"
   ]
  },
  {
   "cell_type": "code",
   "execution_count": 7,
   "metadata": {
    "collapsed": false
   },
   "outputs": [],
   "source": [
    "p.model       = pyesdoc.associate(p, hadgem3)\n",
    "p.platform    = pyesdoc.associate(p, archer)\n",
    "archer.vendor = pyesdoc.associate(archer, cray)"
   ]
  },
  {
   "cell_type": "markdown",
   "metadata": {},
   "source": [
    "#### Inspect the final Performance document, as it will appear in a file on disk"
   ]
  },
  {
   "cell_type": "code",
   "execution_count": 8,
   "metadata": {
    "collapsed": false
   },
   "outputs": [
    {
     "name": "stdout",
     "output_type": "stream",
     "text": [
      "{\"name\": \"Our first performance example\", \"platform\": {\"version\": 0, \"meta\": {\"type\": \"cim.2.shared.DocReference\"}, \"id\": \"8054fdd2-bab4-4093-8230-ed214e9b25bc\"}, \"coreHoursPerSimulatedYear\": 6504, \"actualSimulatedYearsPerDay\": 0.57, \"simulatedYearsPerDay\": 1, \"complexity\": 66, \"meta\": {\"createDate\": \"2016-11-25 12:33:01.631184\", \"project\": \"cpmip\", \"source\": \"cpmip\", \"version\": 0, \"type\": \"cim.2.platform.Performance\", \"id\": \"635bd0bc-a1e9-4a58-a5ae-81c06a51b877\"}, \"couplingCost\": 0.15, \"model\": {\"version\": 0, \"meta\": {\"type\": \"cim.2.shared.DocReference\"}, \"id\": \"8c8f1a08-c795-4074-bd22-6387cf61d861\"}, \"resolution\": 180000000}\n"
     ]
    }
   ],
   "source": [
    "print pyesdoc.encode(p, 'json')"
   ]
  },
  {
   "cell_type": "markdown",
   "metadata": {},
   "source": [
    "#### Write  Performance, Model, Machine and Party documents to local disk"
   ]
  },
  {
   "cell_type": "code",
   "execution_count": 9,
   "metadata": {
    "collapsed": true
   },
   "outputs": [],
   "source": [
    "import os\n",
    "odir = '/home/david/esdoc_archive'\n",
    "if not os.path.isdir(odir):\n",
    "    os.mkdir(odir)"
   ]
  },
  {
   "cell_type": "code",
   "execution_count": 10,
   "metadata": {
    "collapsed": false
   },
   "outputs": [
    {
     "name": "stdout",
     "output_type": "stream",
     "text": [
      "/home/david/esdoc_archive/cim.2.platform.Performance_635bd0bc-a1e9-4a58-a5ae-81c06a51b877_0.json\n"
     ]
    }
   ],
   "source": [
    "performance_file = pyesdoc.write(p, odir)\n",
    "print performance_file"
   ]
  },
  {
   "cell_type": "code",
   "execution_count": 11,
   "metadata": {
    "collapsed": false
   },
   "outputs": [
    {
     "name": "stdout",
     "output_type": "stream",
     "text": [
      "/home/david/esdoc_archive/cim.2.science.Model_8c8f1a08-c795-4074-bd22-6387cf61d861_0.json\n"
     ]
    }
   ],
   "source": [
    "model_file = pyesdoc.write(hadgem3, odir)\n",
    "print model_file"
   ]
  },
  {
   "cell_type": "code",
   "execution_count": 12,
   "metadata": {
    "collapsed": false
   },
   "outputs": [
    {
     "name": "stdout",
     "output_type": "stream",
     "text": [
      "/home/david/esdoc_archive/cim.2.science.Model_8c8f1a08-c795-4074-bd22-6387cf61d861_0.json\n"
     ]
    }
   ],
   "source": [
    "platform_file = pyesdoc.write(archer, odir)\n",
    "print model_file"
   ]
  },
  {
   "cell_type": "code",
   "execution_count": 13,
   "metadata": {
    "collapsed": false
   },
   "outputs": [
    {
     "name": "stdout",
     "output_type": "stream",
     "text": [
      "/home/david/esdoc_archive/cim.2.shared.Party_ecf8e31d-c706-4ac4-bb24-28c4dae5cdef_0.json\n"
     ]
    }
   ],
   "source": [
    "vendor_file = pyesdoc.write(cray, odir)\n",
    "print vendor_file"
   ]
  },
  {
   "cell_type": "markdown",
   "metadata": {},
   "source": [
    "#### Get all Performance documents"
   ]
  },
  {
   "cell_type": "code",
   "execution_count": 14,
   "metadata": {
    "collapsed": false
   },
   "outputs": [
    {
     "name": "stdout",
     "output_type": "stream",
     "text": [
      "[<pyesdoc.ontologies.cim.v2.typeset_for_platform_package.Performance object at 0x7fd8ad010310>]\n"
     ]
    }
   ],
   "source": [
    "performance_docs = pyesdoc.seek(odir, Performance)\n",
    "print performance_docs"
   ]
  },
  {
   "cell_type": "markdown",
   "metadata": {},
   "source": [
    "#### Loop through all Performance documents (this one and any other previously stored) and find the Model and Machine for each one, as well as the coupling cost"
   ]
  },
  {
   "cell_type": "code",
   "execution_count": 15,
   "metadata": {
    "collapsed": false
   },
   "outputs": [
    {
     "name": "stdout",
     "output_type": "stream",
     "text": [
      "Our first performance example, model: HadGEM3-GC2, platform: Archer, coupling cost: 0.15\n"
     ]
    }
   ],
   "source": [
    "for p in performance_docs:\n",
    "    model    = pyesdoc.seek(odir, p.model.id)[0]\n",
    "    platform = pyesdoc.seek(odir, p.platform.id)[0]\n",
    "    print p.name+', model: '+model.name+', platform: '+platform.name+', coupling cost: '+str(p.coupling_cost)"
   ]
  }
 ],
 "metadata": {
  "kernelspec": {
   "display_name": "Python [Root]",
   "language": "python",
   "name": "Python [Root]"
  },
  "language_info": {
   "codemirror_mode": {
    "name": "ipython",
    "version": 2
   },
   "file_extension": ".py",
   "mimetype": "text/x-python",
   "name": "python",
   "nbconvert_exporter": "python",
   "pygments_lexer": "ipython2",
   "version": "2.7.12"
  }
 },
 "nbformat": 4,
 "nbformat_minor": 0
}
